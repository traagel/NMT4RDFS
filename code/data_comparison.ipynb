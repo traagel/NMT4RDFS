{
 "cells": [
  {
   "cell_type": "code",
   "execution_count": 186,
   "metadata": {
    "collapsed": true
   },
   "outputs": [
    {
     "name": "stdout",
     "output_type": "stream",
     "text": [
      "174 162 162\n"
     ]
    },
    {
     "data": {
      "text/plain": "(166, 3)"
     },
     "execution_count": 186,
     "metadata": {},
     "output_type": "execute_result"
    }
   ],
   "source": [
    "import pandas as pd\n",
    "import collections\n",
    "import os\n",
    "import zlib\n",
    "import pickle\n",
    "\n",
    "def deserialize(pz):\n",
    "    if os.path.isfile(pz):\n",
    "        compressed = open(pz, 'rb').read()\n",
    "        pkl = zlib.decompress(compressed)\n",
    "        tpl = pickle.loads(pkl)\n",
    "        return tpl\n",
    "    else:\n",
    "        return []\n",
    "\n",
    "lubm_classes_file = \"../data/lubm1_intact/encoding/lubm_classes.pz\"\n",
    "lubm_properties_file = \"../data/lubm1_intact/encoding/lubm_properties.pz\"\n",
    "lubm_properties_groups_file = \"../data/lubm1_intact/encoding/lubm_properties_groups.pz\"\n",
    "tbox_file = \"../data/lubm1_intact/encoding/tbox.nt\"\n",
    "\n",
    "lubm_classes = deserialize(lubm_classes_file)\n",
    "lubm_properties = deserialize(lubm_properties_file)\n",
    "lubm_properties_groups = deserialize(lubm_properties_groups_file)\n",
    "\n",
    "data = []\n",
    "\n",
    "for key, value in lubm_classes.items():\n",
    "    data.append({\"type\": \"class\", \"uri\": key, \"index\": value})\n",
    "\n",
    "for key, value in lubm_properties.items():\n",
    "    data.append({\"type\": \"property\", \"uri\": key, \"index\": value})\n",
    "\n",
    "for key, value in lubm_properties_groups.items():\n",
    "    data.append({\"type\": \"property_group\", \"uri\": key, \"index\": value})\n",
    "\n",
    "\n",
    "df = pd.DataFrame(data)\n",
    "print(df[df.type==\"class\"].size,\n",
    "      df[df.type==\"property\"].size,\n",
    "      df[df.type==\"property_group\"].size)\n",
    "\n",
    "#lubm_classes\n",
    "df.shape"
   ]
  },
  {
   "cell_type": "code",
   "execution_count": 186,
   "outputs": [],
   "source": [],
   "metadata": {
    "collapsed": false
   }
  },
  {
   "cell_type": "code",
   "execution_count": 187,
   "outputs": [],
   "source": [
    "df_class = df[df.type==\"class\"]"
   ],
   "metadata": {
    "collapsed": false
   }
  },
  {
   "cell_type": "code",
   "execution_count": 188,
   "outputs": [
    {
     "name": "stderr",
     "output_type": "stream",
     "text": [
      "C:\\Users\\martt\\anaconda3\\envs\\NMT4RDFS\\lib\\site-packages\\ipykernel_launcher.py:1: SettingWithCopyWarning: \n",
      "A value is trying to be set on a copy of a slice from a DataFrame.\n",
      "Try using .loc[row_indexer,col_indexer] = value instead\n",
      "\n",
      "See the caveats in the documentation: http://pandas.pydata.org/pandas-docs/stable/indexing.html#indexing-view-versus-copy\n",
      "  \"\"\"Entry point for launching an IPython kernel.\n"
     ]
    },
    {
     "data": {
      "text/plain": "    index   type                                                uri  \\\n0       1  class  http://swat.cse.lehigh.edu/onto/univ-bench.owl...   \n1       2  class  http://swat.cse.lehigh.edu/onto/univ-bench.owl...   \n2       3  class  http://swat.cse.lehigh.edu/onto/univ-bench.owl...   \n3       4  class  http://swat.cse.lehigh.edu/onto/univ-bench.owl...   \n4       5  class  http://swat.cse.lehigh.edu/onto/univ-bench.owl...   \n5       6  class  http://swat.cse.lehigh.edu/onto/univ-bench.owl...   \n6       7  class  http://swat.cse.lehigh.edu/onto/univ-bench.owl...   \n7       8  class  http://swat.cse.lehigh.edu/onto/univ-bench.owl...   \n8       9  class  http://swat.cse.lehigh.edu/onto/univ-bench.owl...   \n9      10  class  http://swat.cse.lehigh.edu/onto/univ-bench.owl...   \n10     11  class  http://swat.cse.lehigh.edu/onto/univ-bench.owl...   \n11     12  class  http://swat.cse.lehigh.edu/onto/univ-bench.owl...   \n12     13  class  http://swat.cse.lehigh.edu/onto/univ-bench.owl...   \n13     14  class  http://swat.cse.lehigh.edu/onto/univ-bench.owl...   \n14     15  class  http://swat.cse.lehigh.edu/onto/univ-bench.owl...   \n15     16  class  http://swat.cse.lehigh.edu/onto/univ-bench.owl...   \n16     17  class  http://swat.cse.lehigh.edu/onto/univ-bench.owl...   \n17     18  class  http://swat.cse.lehigh.edu/onto/univ-bench.owl...   \n18     19  class  http://swat.cse.lehigh.edu/onto/univ-bench.owl...   \n19     20  class  http://swat.cse.lehigh.edu/onto/univ-bench.owl...   \n20     21  class  http://swat.cse.lehigh.edu/onto/univ-bench.owl...   \n21     22  class  http://swat.cse.lehigh.edu/onto/univ-bench.owl...   \n22     23  class  http://swat.cse.lehigh.edu/onto/univ-bench.owl...   \n23     24  class  http://swat.cse.lehigh.edu/onto/univ-bench.owl...   \n24     25  class  http://swat.cse.lehigh.edu/onto/univ-bench.owl...   \n25     26  class  http://swat.cse.lehigh.edu/onto/univ-bench.owl...   \n26     27  class  http://swat.cse.lehigh.edu/onto/univ-bench.owl...   \n27     28  class  http://swat.cse.lehigh.edu/onto/univ-bench.owl...   \n28     29  class  http://swat.cse.lehigh.edu/onto/univ-bench.owl...   \n29     30  class  http://swat.cse.lehigh.edu/onto/univ-bench.owl...   \n30     31  class  http://swat.cse.lehigh.edu/onto/univ-bench.owl...   \n31     32  class  http://swat.cse.lehigh.edu/onto/univ-bench.owl...   \n32     33  class  http://swat.cse.lehigh.edu/onto/univ-bench.owl...   \n33     34  class  http://swat.cse.lehigh.edu/onto/univ-bench.owl...   \n34     35  class  http://swat.cse.lehigh.edu/onto/univ-bench.owl...   \n35     36  class  http://swat.cse.lehigh.edu/onto/univ-bench.owl...   \n36     37  class  http://swat.cse.lehigh.edu/onto/univ-bench.owl...   \n37     38  class  http://swat.cse.lehigh.edu/onto/univ-bench.owl...   \n38     39  class  http://swat.cse.lehigh.edu/onto/univ-bench.owl...   \n39     40  class  http://swat.cse.lehigh.edu/onto/univ-bench.owl...   \n40     41  class  http://swat.cse.lehigh.edu/onto/univ-bench.owl...   \n41     42  class  http://swat.cse.lehigh.edu/onto/univ-bench.owl...   \n42     43  class  http://swat.cse.lehigh.edu/onto/univ-bench.owl...   \n43     44  class     http://www.w3.org/1999/02/22-rdf-syntax-ns#Alt   \n44     45  class     http://www.w3.org/1999/02/22-rdf-syntax-ns#Bag   \n45     46  class    http://www.w3.org/1999/02/22-rdf-syntax-ns#List   \n46     47  class  http://www.w3.org/1999/02/22-rdf-syntax-ns#Pro...   \n47     48  class     http://www.w3.org/1999/02/22-rdf-syntax-ns#Seq   \n48     49  class  http://www.w3.org/1999/02/22-rdf-syntax-ns#Sta...   \n49     50  class  http://www.w3.org/1999/02/22-rdf-syntax-ns#XML...   \n50     51  class         http://www.w3.org/2000/01/rdf-schema#Class   \n51     52  class     http://www.w3.org/2000/01/rdf-schema#Container   \n52     53  class  http://www.w3.org/2000/01/rdf-schema#Container...   \n53     54  class      http://www.w3.org/2000/01/rdf-schema#Datatype   \n54     55  class       http://www.w3.org/2000/01/rdf-schema#Literal   \n55     56  class      http://www.w3.org/2000/01/rdf-schema#Resource   \n56     57  class  http://www.w3.org/2001/XMLSchema#nonNegativeIn...   \n57     58  class            http://www.w3.org/2001/XMLSchema#string   \n\n                          class  \n0           AdministrativeStaff  \n1                       Article  \n2            AssistantProfessor  \n3            AssociateProfessor  \n4                          Book  \n5                         Chair  \n6                 ClericalStaff  \n7                       College  \n8               ConferencePaper  \n9                        Course  \n10                         Dean  \n11                   Department  \n12                     Director  \n13                     Employee  \n14                      Faculty  \n15                FullProfessor  \n16               GraduateCourse  \n17              GraduateStudent  \n18                    Institute  \n19               JournalArticle  \n20                     Lecturer  \n21                       Manual  \n22                 Organization  \n23                       Person  \n24                      PostDoc  \n25                    Professor  \n26                      Program  \n27                  Publication  \n28                     Research  \n29            ResearchAssistant  \n30                ResearchGroup  \n31                     Schedule  \n32                     Software  \n33                Specification  \n34                      Student  \n35                 SystemsStaff  \n36            TeachingAssistant  \n37              TechnicalReport  \n38         UndergraduateStudent  \n39                   University  \n40        UnofficialPublication  \n41            VisitingProfessor  \n42                         Work  \n43                          Alt  \n44                          Bag  \n45                         List  \n46                     Property  \n47                          Seq  \n48                    Statement  \n49                   XMLLiteral  \n50                        Class  \n51                    Container  \n52  ContainerMembershipProperty  \n53                     Datatype  \n54                      Literal  \n55                     Resource  \n56           nonNegativeInteger  \n57                       string  ",
      "text/html": "<div>\n<style scoped>\n    .dataframe tbody tr th:only-of-type {\n        vertical-align: middle;\n    }\n\n    .dataframe tbody tr th {\n        vertical-align: top;\n    }\n\n    .dataframe thead th {\n        text-align: right;\n    }\n</style>\n<table border=\"1\" class=\"dataframe\">\n  <thead>\n    <tr style=\"text-align: right;\">\n      <th></th>\n      <th>index</th>\n      <th>type</th>\n      <th>uri</th>\n      <th>class</th>\n    </tr>\n  </thead>\n  <tbody>\n    <tr>\n      <th>0</th>\n      <td>1</td>\n      <td>class</td>\n      <td>http://swat.cse.lehigh.edu/onto/univ-bench.owl...</td>\n      <td>AdministrativeStaff</td>\n    </tr>\n    <tr>\n      <th>1</th>\n      <td>2</td>\n      <td>class</td>\n      <td>http://swat.cse.lehigh.edu/onto/univ-bench.owl...</td>\n      <td>Article</td>\n    </tr>\n    <tr>\n      <th>2</th>\n      <td>3</td>\n      <td>class</td>\n      <td>http://swat.cse.lehigh.edu/onto/univ-bench.owl...</td>\n      <td>AssistantProfessor</td>\n    </tr>\n    <tr>\n      <th>3</th>\n      <td>4</td>\n      <td>class</td>\n      <td>http://swat.cse.lehigh.edu/onto/univ-bench.owl...</td>\n      <td>AssociateProfessor</td>\n    </tr>\n    <tr>\n      <th>4</th>\n      <td>5</td>\n      <td>class</td>\n      <td>http://swat.cse.lehigh.edu/onto/univ-bench.owl...</td>\n      <td>Book</td>\n    </tr>\n    <tr>\n      <th>5</th>\n      <td>6</td>\n      <td>class</td>\n      <td>http://swat.cse.lehigh.edu/onto/univ-bench.owl...</td>\n      <td>Chair</td>\n    </tr>\n    <tr>\n      <th>6</th>\n      <td>7</td>\n      <td>class</td>\n      <td>http://swat.cse.lehigh.edu/onto/univ-bench.owl...</td>\n      <td>ClericalStaff</td>\n    </tr>\n    <tr>\n      <th>7</th>\n      <td>8</td>\n      <td>class</td>\n      <td>http://swat.cse.lehigh.edu/onto/univ-bench.owl...</td>\n      <td>College</td>\n    </tr>\n    <tr>\n      <th>8</th>\n      <td>9</td>\n      <td>class</td>\n      <td>http://swat.cse.lehigh.edu/onto/univ-bench.owl...</td>\n      <td>ConferencePaper</td>\n    </tr>\n    <tr>\n      <th>9</th>\n      <td>10</td>\n      <td>class</td>\n      <td>http://swat.cse.lehigh.edu/onto/univ-bench.owl...</td>\n      <td>Course</td>\n    </tr>\n    <tr>\n      <th>10</th>\n      <td>11</td>\n      <td>class</td>\n      <td>http://swat.cse.lehigh.edu/onto/univ-bench.owl...</td>\n      <td>Dean</td>\n    </tr>\n    <tr>\n      <th>11</th>\n      <td>12</td>\n      <td>class</td>\n      <td>http://swat.cse.lehigh.edu/onto/univ-bench.owl...</td>\n      <td>Department</td>\n    </tr>\n    <tr>\n      <th>12</th>\n      <td>13</td>\n      <td>class</td>\n      <td>http://swat.cse.lehigh.edu/onto/univ-bench.owl...</td>\n      <td>Director</td>\n    </tr>\n    <tr>\n      <th>13</th>\n      <td>14</td>\n      <td>class</td>\n      <td>http://swat.cse.lehigh.edu/onto/univ-bench.owl...</td>\n      <td>Employee</td>\n    </tr>\n    <tr>\n      <th>14</th>\n      <td>15</td>\n      <td>class</td>\n      <td>http://swat.cse.lehigh.edu/onto/univ-bench.owl...</td>\n      <td>Faculty</td>\n    </tr>\n    <tr>\n      <th>15</th>\n      <td>16</td>\n      <td>class</td>\n      <td>http://swat.cse.lehigh.edu/onto/univ-bench.owl...</td>\n      <td>FullProfessor</td>\n    </tr>\n    <tr>\n      <th>16</th>\n      <td>17</td>\n      <td>class</td>\n      <td>http://swat.cse.lehigh.edu/onto/univ-bench.owl...</td>\n      <td>GraduateCourse</td>\n    </tr>\n    <tr>\n      <th>17</th>\n      <td>18</td>\n      <td>class</td>\n      <td>http://swat.cse.lehigh.edu/onto/univ-bench.owl...</td>\n      <td>GraduateStudent</td>\n    </tr>\n    <tr>\n      <th>18</th>\n      <td>19</td>\n      <td>class</td>\n      <td>http://swat.cse.lehigh.edu/onto/univ-bench.owl...</td>\n      <td>Institute</td>\n    </tr>\n    <tr>\n      <th>19</th>\n      <td>20</td>\n      <td>class</td>\n      <td>http://swat.cse.lehigh.edu/onto/univ-bench.owl...</td>\n      <td>JournalArticle</td>\n    </tr>\n    <tr>\n      <th>20</th>\n      <td>21</td>\n      <td>class</td>\n      <td>http://swat.cse.lehigh.edu/onto/univ-bench.owl...</td>\n      <td>Lecturer</td>\n    </tr>\n    <tr>\n      <th>21</th>\n      <td>22</td>\n      <td>class</td>\n      <td>http://swat.cse.lehigh.edu/onto/univ-bench.owl...</td>\n      <td>Manual</td>\n    </tr>\n    <tr>\n      <th>22</th>\n      <td>23</td>\n      <td>class</td>\n      <td>http://swat.cse.lehigh.edu/onto/univ-bench.owl...</td>\n      <td>Organization</td>\n    </tr>\n    <tr>\n      <th>23</th>\n      <td>24</td>\n      <td>class</td>\n      <td>http://swat.cse.lehigh.edu/onto/univ-bench.owl...</td>\n      <td>Person</td>\n    </tr>\n    <tr>\n      <th>24</th>\n      <td>25</td>\n      <td>class</td>\n      <td>http://swat.cse.lehigh.edu/onto/univ-bench.owl...</td>\n      <td>PostDoc</td>\n    </tr>\n    <tr>\n      <th>25</th>\n      <td>26</td>\n      <td>class</td>\n      <td>http://swat.cse.lehigh.edu/onto/univ-bench.owl...</td>\n      <td>Professor</td>\n    </tr>\n    <tr>\n      <th>26</th>\n      <td>27</td>\n      <td>class</td>\n      <td>http://swat.cse.lehigh.edu/onto/univ-bench.owl...</td>\n      <td>Program</td>\n    </tr>\n    <tr>\n      <th>27</th>\n      <td>28</td>\n      <td>class</td>\n      <td>http://swat.cse.lehigh.edu/onto/univ-bench.owl...</td>\n      <td>Publication</td>\n    </tr>\n    <tr>\n      <th>28</th>\n      <td>29</td>\n      <td>class</td>\n      <td>http://swat.cse.lehigh.edu/onto/univ-bench.owl...</td>\n      <td>Research</td>\n    </tr>\n    <tr>\n      <th>29</th>\n      <td>30</td>\n      <td>class</td>\n      <td>http://swat.cse.lehigh.edu/onto/univ-bench.owl...</td>\n      <td>ResearchAssistant</td>\n    </tr>\n    <tr>\n      <th>30</th>\n      <td>31</td>\n      <td>class</td>\n      <td>http://swat.cse.lehigh.edu/onto/univ-bench.owl...</td>\n      <td>ResearchGroup</td>\n    </tr>\n    <tr>\n      <th>31</th>\n      <td>32</td>\n      <td>class</td>\n      <td>http://swat.cse.lehigh.edu/onto/univ-bench.owl...</td>\n      <td>Schedule</td>\n    </tr>\n    <tr>\n      <th>32</th>\n      <td>33</td>\n      <td>class</td>\n      <td>http://swat.cse.lehigh.edu/onto/univ-bench.owl...</td>\n      <td>Software</td>\n    </tr>\n    <tr>\n      <th>33</th>\n      <td>34</td>\n      <td>class</td>\n      <td>http://swat.cse.lehigh.edu/onto/univ-bench.owl...</td>\n      <td>Specification</td>\n    </tr>\n    <tr>\n      <th>34</th>\n      <td>35</td>\n      <td>class</td>\n      <td>http://swat.cse.lehigh.edu/onto/univ-bench.owl...</td>\n      <td>Student</td>\n    </tr>\n    <tr>\n      <th>35</th>\n      <td>36</td>\n      <td>class</td>\n      <td>http://swat.cse.lehigh.edu/onto/univ-bench.owl...</td>\n      <td>SystemsStaff</td>\n    </tr>\n    <tr>\n      <th>36</th>\n      <td>37</td>\n      <td>class</td>\n      <td>http://swat.cse.lehigh.edu/onto/univ-bench.owl...</td>\n      <td>TeachingAssistant</td>\n    </tr>\n    <tr>\n      <th>37</th>\n      <td>38</td>\n      <td>class</td>\n      <td>http://swat.cse.lehigh.edu/onto/univ-bench.owl...</td>\n      <td>TechnicalReport</td>\n    </tr>\n    <tr>\n      <th>38</th>\n      <td>39</td>\n      <td>class</td>\n      <td>http://swat.cse.lehigh.edu/onto/univ-bench.owl...</td>\n      <td>UndergraduateStudent</td>\n    </tr>\n    <tr>\n      <th>39</th>\n      <td>40</td>\n      <td>class</td>\n      <td>http://swat.cse.lehigh.edu/onto/univ-bench.owl...</td>\n      <td>University</td>\n    </tr>\n    <tr>\n      <th>40</th>\n      <td>41</td>\n      <td>class</td>\n      <td>http://swat.cse.lehigh.edu/onto/univ-bench.owl...</td>\n      <td>UnofficialPublication</td>\n    </tr>\n    <tr>\n      <th>41</th>\n      <td>42</td>\n      <td>class</td>\n      <td>http://swat.cse.lehigh.edu/onto/univ-bench.owl...</td>\n      <td>VisitingProfessor</td>\n    </tr>\n    <tr>\n      <th>42</th>\n      <td>43</td>\n      <td>class</td>\n      <td>http://swat.cse.lehigh.edu/onto/univ-bench.owl...</td>\n      <td>Work</td>\n    </tr>\n    <tr>\n      <th>43</th>\n      <td>44</td>\n      <td>class</td>\n      <td>http://www.w3.org/1999/02/22-rdf-syntax-ns#Alt</td>\n      <td>Alt</td>\n    </tr>\n    <tr>\n      <th>44</th>\n      <td>45</td>\n      <td>class</td>\n      <td>http://www.w3.org/1999/02/22-rdf-syntax-ns#Bag</td>\n      <td>Bag</td>\n    </tr>\n    <tr>\n      <th>45</th>\n      <td>46</td>\n      <td>class</td>\n      <td>http://www.w3.org/1999/02/22-rdf-syntax-ns#List</td>\n      <td>List</td>\n    </tr>\n    <tr>\n      <th>46</th>\n      <td>47</td>\n      <td>class</td>\n      <td>http://www.w3.org/1999/02/22-rdf-syntax-ns#Pro...</td>\n      <td>Property</td>\n    </tr>\n    <tr>\n      <th>47</th>\n      <td>48</td>\n      <td>class</td>\n      <td>http://www.w3.org/1999/02/22-rdf-syntax-ns#Seq</td>\n      <td>Seq</td>\n    </tr>\n    <tr>\n      <th>48</th>\n      <td>49</td>\n      <td>class</td>\n      <td>http://www.w3.org/1999/02/22-rdf-syntax-ns#Sta...</td>\n      <td>Statement</td>\n    </tr>\n    <tr>\n      <th>49</th>\n      <td>50</td>\n      <td>class</td>\n      <td>http://www.w3.org/1999/02/22-rdf-syntax-ns#XML...</td>\n      <td>XMLLiteral</td>\n    </tr>\n    <tr>\n      <th>50</th>\n      <td>51</td>\n      <td>class</td>\n      <td>http://www.w3.org/2000/01/rdf-schema#Class</td>\n      <td>Class</td>\n    </tr>\n    <tr>\n      <th>51</th>\n      <td>52</td>\n      <td>class</td>\n      <td>http://www.w3.org/2000/01/rdf-schema#Container</td>\n      <td>Container</td>\n    </tr>\n    <tr>\n      <th>52</th>\n      <td>53</td>\n      <td>class</td>\n      <td>http://www.w3.org/2000/01/rdf-schema#Container...</td>\n      <td>ContainerMembershipProperty</td>\n    </tr>\n    <tr>\n      <th>53</th>\n      <td>54</td>\n      <td>class</td>\n      <td>http://www.w3.org/2000/01/rdf-schema#Datatype</td>\n      <td>Datatype</td>\n    </tr>\n    <tr>\n      <th>54</th>\n      <td>55</td>\n      <td>class</td>\n      <td>http://www.w3.org/2000/01/rdf-schema#Literal</td>\n      <td>Literal</td>\n    </tr>\n    <tr>\n      <th>55</th>\n      <td>56</td>\n      <td>class</td>\n      <td>http://www.w3.org/2000/01/rdf-schema#Resource</td>\n      <td>Resource</td>\n    </tr>\n    <tr>\n      <th>56</th>\n      <td>57</td>\n      <td>class</td>\n      <td>http://www.w3.org/2001/XMLSchema#nonNegativeIn...</td>\n      <td>nonNegativeInteger</td>\n    </tr>\n    <tr>\n      <th>57</th>\n      <td>58</td>\n      <td>class</td>\n      <td>http://www.w3.org/2001/XMLSchema#string</td>\n      <td>string</td>\n    </tr>\n  </tbody>\n</table>\n</div>"
     },
     "execution_count": 188,
     "metadata": {},
     "output_type": "execute_result"
    }
   ],
   "source": [
    "df_class['class'] = df_class.uri.str.extract(r'#(.+)')\n",
    "df_class"
   ],
   "metadata": {
    "collapsed": false
   }
  },
  {
   "cell_type": "code",
   "execution_count": 188,
   "outputs": [],
   "source": [],
   "metadata": {
    "collapsed": false
   }
  },
  {
   "cell_type": "code",
   "execution_count": 189,
   "outputs": [],
   "source": [
    "df1_class_uniques = df_class['class'].unique()"
   ],
   "metadata": {
    "collapsed": false
   }
  },
  {
   "cell_type": "code",
   "execution_count": 190,
   "outputs": [
    {
     "data": {
      "text/plain": "array(['AdministrativeStaff', 'Article', 'AssistantProfessor',\n       'AssociateProfessor', 'Book', 'Chair', 'ClericalStaff', 'College',\n       'ConferencePaper', 'Course', 'Dean', 'Department', 'Director',\n       'Employee', 'Faculty', 'FullProfessor', 'GraduateCourse',\n       'GraduateStudent', 'Institute', 'JournalArticle', 'Lecturer',\n       'Manual', 'Organization', 'Person', 'PostDoc', 'Professor',\n       'Program', 'Publication', 'Research', 'ResearchAssistant',\n       'ResearchGroup', 'Schedule', 'Software', 'Specification',\n       'Student', 'SystemsStaff', 'TeachingAssistant', 'TechnicalReport',\n       'UndergraduateStudent', 'University', 'UnofficialPublication',\n       'VisitingProfessor', 'Work', 'Alt', 'Bag', 'List', 'Property',\n       'Seq', 'Statement', 'XMLLiteral', 'Class', 'Container',\n       'ContainerMembershipProperty', 'Datatype', 'Literal', 'Resource',\n       'nonNegativeInteger', 'string'], dtype=object)"
     },
     "execution_count": 190,
     "metadata": {},
     "output_type": "execute_result"
    }
   ],
   "source": [
    "df1_class_uniques"
   ],
   "metadata": {
    "collapsed": false
   }
  },
  {
   "cell_type": "code",
   "execution_count": 191,
   "outputs": [
    {
     "data": {
      "text/plain": "(292, 3)"
     },
     "execution_count": 191,
     "metadata": {},
     "output_type": "execute_result"
    }
   ],
   "source": [
    "col_names=[\"subject\", \"predicate\", \"object\"]\n",
    "#df2 = pd.read_csv(tbox_file, delimiter=' ', names=col_names)\n",
    "df2 = pd.read_csv(tbox_file, delimiter = ' ')\n",
    "#df2['object'] = df2['object'].apply(lambda x: x.rstrip('.'))\n",
    "df2 = df2.drop(df2.columns[3], axis = 1)\n",
    "df2.columns = col_names\n",
    "df2.shape"
   ],
   "metadata": {
    "collapsed": false
   }
  },
  {
   "cell_type": "code",
   "execution_count": 192,
   "outputs": [],
   "source": [
    "df2_classes = df2[df2[\"object\"].str.contains(\"#Class\")]"
   ],
   "metadata": {
    "collapsed": false
   }
  },
  {
   "cell_type": "code",
   "execution_count": 193,
   "outputs": [
    {
     "data": {
      "text/plain": "                                               subject  \\\n3    <http://www.lehigh.edu/~zhp2/2004/0401/univ-be...   \n6    <http://www.lehigh.edu/~zhp2/2004/0401/univ-be...   \n9    <http://www.lehigh.edu/~zhp2/2004/0401/univ-be...   \n12   <http://www.lehigh.edu/~zhp2/2004/0401/univ-be...   \n15   <http://www.lehigh.edu/~zhp2/2004/0401/univ-be...   \n18   <http://www.lehigh.edu/~zhp2/2004/0401/univ-be...   \n24   <http://www.lehigh.edu/~zhp2/2004/0401/univ-be...   \n31   <http://www.lehigh.edu/~zhp2/2004/0401/univ-be...   \n34   <http://www.lehigh.edu/~zhp2/2004/0401/univ-be...   \n37   <http://www.lehigh.edu/~zhp2/2004/0401/univ-be...   \n40   <http://www.lehigh.edu/~zhp2/2004/0401/univ-be...   \n43   <http://www.lehigh.edu/~zhp2/2004/0401/univ-be...   \n46   <http://www.lehigh.edu/~zhp2/2004/0401/univ-be...   \n55   <http://www.lehigh.edu/~zhp2/2004/0401/univ-be...   \n65   <http://www.lehigh.edu/~zhp2/2004/0401/univ-be...   \n68   <http://www.lehigh.edu/~zhp2/2004/0401/univ-be...   \n78   <http://www.lehigh.edu/~zhp2/2004/0401/univ-be...   \n80   <http://www.lehigh.edu/~zhp2/2004/0401/univ-be...   \n83   <http://www.lehigh.edu/~zhp2/2004/0401/univ-be...   \n86   <http://www.lehigh.edu/~zhp2/2004/0401/univ-be...   \n89   <http://www.lehigh.edu/~zhp2/2004/0401/univ-be...   \n96   <http://www.lehigh.edu/~zhp2/2004/0401/univ-be...   \n99   <http://www.lehigh.edu/~zhp2/2004/0401/univ-be...   \n102  <http://www.lehigh.edu/~zhp2/2004/0401/univ-be...   \n105  <http://www.lehigh.edu/~zhp2/2004/0401/univ-be...   \n108  <http://www.lehigh.edu/~zhp2/2004/0401/univ-be...   \n111  <http://www.lehigh.edu/~zhp2/2004/0401/univ-be...   \n114  <http://www.lehigh.edu/~zhp2/2004/0401/univ-be...   \n116  <http://www.lehigh.edu/~zhp2/2004/0401/univ-be...   \n119  <http://www.lehigh.edu/~zhp2/2004/0401/univ-be...   \n126  <http://www.lehigh.edu/~zhp2/2004/0401/univ-be...   \n129  <http://www.lehigh.edu/~zhp2/2004/0401/univ-be...   \n131  <http://www.lehigh.edu/~zhp2/2004/0401/univ-be...   \n134  <http://www.lehigh.edu/~zhp2/2004/0401/univ-be...   \n137  <http://www.lehigh.edu/~zhp2/2004/0401/univ-be...   \n147  <http://www.lehigh.edu/~zhp2/2004/0401/univ-be...   \n150  <http://www.lehigh.edu/~zhp2/2004/0401/univ-be...   \n160  <http://www.lehigh.edu/~zhp2/2004/0401/univ-be...   \n163  <http://www.lehigh.edu/~zhp2/2004/0401/univ-be...   \n166  <http://www.lehigh.edu/~zhp2/2004/0401/univ-be...   \n169  <http://www.lehigh.edu/~zhp2/2004/0401/univ-be...   \n172  <http://www.lehigh.edu/~zhp2/2004/0401/univ-be...   \n175  <http://www.lehigh.edu/~zhp2/2004/0401/univ-be...   \n\n                                             predicate  \\\n3    <http://www.w3.org/1999/02/22-rdf-syntax-ns#type>   \n6    <http://www.w3.org/1999/02/22-rdf-syntax-ns#type>   \n9    <http://www.w3.org/1999/02/22-rdf-syntax-ns#type>   \n12   <http://www.w3.org/1999/02/22-rdf-syntax-ns#type>   \n15   <http://www.w3.org/1999/02/22-rdf-syntax-ns#type>   \n18   <http://www.w3.org/1999/02/22-rdf-syntax-ns#type>   \n24   <http://www.w3.org/1999/02/22-rdf-syntax-ns#type>   \n31   <http://www.w3.org/1999/02/22-rdf-syntax-ns#type>   \n34   <http://www.w3.org/1999/02/22-rdf-syntax-ns#type>   \n37   <http://www.w3.org/1999/02/22-rdf-syntax-ns#type>   \n40   <http://www.w3.org/1999/02/22-rdf-syntax-ns#type>   \n43   <http://www.w3.org/1999/02/22-rdf-syntax-ns#type>   \n46   <http://www.w3.org/1999/02/22-rdf-syntax-ns#type>   \n55   <http://www.w3.org/1999/02/22-rdf-syntax-ns#type>   \n65   <http://www.w3.org/1999/02/22-rdf-syntax-ns#type>   \n68   <http://www.w3.org/1999/02/22-rdf-syntax-ns#type>   \n78   <http://www.w3.org/1999/02/22-rdf-syntax-ns#type>   \n80   <http://www.w3.org/1999/02/22-rdf-syntax-ns#type>   \n83   <http://www.w3.org/1999/02/22-rdf-syntax-ns#type>   \n86   <http://www.w3.org/1999/02/22-rdf-syntax-ns#type>   \n89   <http://www.w3.org/1999/02/22-rdf-syntax-ns#type>   \n96   <http://www.w3.org/1999/02/22-rdf-syntax-ns#type>   \n99   <http://www.w3.org/1999/02/22-rdf-syntax-ns#type>   \n102  <http://www.w3.org/1999/02/22-rdf-syntax-ns#type>   \n105  <http://www.w3.org/1999/02/22-rdf-syntax-ns#type>   \n108  <http://www.w3.org/1999/02/22-rdf-syntax-ns#type>   \n111  <http://www.w3.org/1999/02/22-rdf-syntax-ns#type>   \n114  <http://www.w3.org/1999/02/22-rdf-syntax-ns#type>   \n116  <http://www.w3.org/1999/02/22-rdf-syntax-ns#type>   \n119  <http://www.w3.org/1999/02/22-rdf-syntax-ns#type>   \n126  <http://www.w3.org/1999/02/22-rdf-syntax-ns#type>   \n129  <http://www.w3.org/1999/02/22-rdf-syntax-ns#type>   \n131  <http://www.w3.org/1999/02/22-rdf-syntax-ns#type>   \n134  <http://www.w3.org/1999/02/22-rdf-syntax-ns#type>   \n137  <http://www.w3.org/1999/02/22-rdf-syntax-ns#type>   \n147  <http://www.w3.org/1999/02/22-rdf-syntax-ns#type>   \n150  <http://www.w3.org/1999/02/22-rdf-syntax-ns#type>   \n160  <http://www.w3.org/1999/02/22-rdf-syntax-ns#type>   \n163  <http://www.w3.org/1999/02/22-rdf-syntax-ns#type>   \n166  <http://www.w3.org/1999/02/22-rdf-syntax-ns#type>   \n169  <http://www.w3.org/1999/02/22-rdf-syntax-ns#type>   \n172  <http://www.w3.org/1999/02/22-rdf-syntax-ns#type>   \n175  <http://www.w3.org/1999/02/22-rdf-syntax-ns#type>   \n\n                                    object  \n3    <http://www.w3.org/2002/07/owl#Class>  \n6    <http://www.w3.org/2002/07/owl#Class>  \n9    <http://www.w3.org/2002/07/owl#Class>  \n12   <http://www.w3.org/2002/07/owl#Class>  \n15   <http://www.w3.org/2002/07/owl#Class>  \n18   <http://www.w3.org/2002/07/owl#Class>  \n24   <http://www.w3.org/2002/07/owl#Class>  \n31   <http://www.w3.org/2002/07/owl#Class>  \n34   <http://www.w3.org/2002/07/owl#Class>  \n37   <http://www.w3.org/2002/07/owl#Class>  \n40   <http://www.w3.org/2002/07/owl#Class>  \n43   <http://www.w3.org/2002/07/owl#Class>  \n46   <http://www.w3.org/2002/07/owl#Class>  \n55   <http://www.w3.org/2002/07/owl#Class>  \n65   <http://www.w3.org/2002/07/owl#Class>  \n68   <http://www.w3.org/2002/07/owl#Class>  \n78   <http://www.w3.org/2002/07/owl#Class>  \n80   <http://www.w3.org/2002/07/owl#Class>  \n83   <http://www.w3.org/2002/07/owl#Class>  \n86   <http://www.w3.org/2002/07/owl#Class>  \n89   <http://www.w3.org/2002/07/owl#Class>  \n96   <http://www.w3.org/2002/07/owl#Class>  \n99   <http://www.w3.org/2002/07/owl#Class>  \n102  <http://www.w3.org/2002/07/owl#Class>  \n105  <http://www.w3.org/2002/07/owl#Class>  \n108  <http://www.w3.org/2002/07/owl#Class>  \n111  <http://www.w3.org/2002/07/owl#Class>  \n114  <http://www.w3.org/2002/07/owl#Class>  \n116  <http://www.w3.org/2002/07/owl#Class>  \n119  <http://www.w3.org/2002/07/owl#Class>  \n126  <http://www.w3.org/2002/07/owl#Class>  \n129  <http://www.w3.org/2002/07/owl#Class>  \n131  <http://www.w3.org/2002/07/owl#Class>  \n134  <http://www.w3.org/2002/07/owl#Class>  \n137  <http://www.w3.org/2002/07/owl#Class>  \n147  <http://www.w3.org/2002/07/owl#Class>  \n150  <http://www.w3.org/2002/07/owl#Class>  \n160  <http://www.w3.org/2002/07/owl#Class>  \n163  <http://www.w3.org/2002/07/owl#Class>  \n166  <http://www.w3.org/2002/07/owl#Class>  \n169  <http://www.w3.org/2002/07/owl#Class>  \n172  <http://www.w3.org/2002/07/owl#Class>  \n175  <http://www.w3.org/2002/07/owl#Class>  ",
      "text/html": "<div>\n<style scoped>\n    .dataframe tbody tr th:only-of-type {\n        vertical-align: middle;\n    }\n\n    .dataframe tbody tr th {\n        vertical-align: top;\n    }\n\n    .dataframe thead th {\n        text-align: right;\n    }\n</style>\n<table border=\"1\" class=\"dataframe\">\n  <thead>\n    <tr style=\"text-align: right;\">\n      <th></th>\n      <th>subject</th>\n      <th>predicate</th>\n      <th>object</th>\n    </tr>\n  </thead>\n  <tbody>\n    <tr>\n      <th>3</th>\n      <td>&lt;http://www.lehigh.edu/~zhp2/2004/0401/univ-be...</td>\n      <td>&lt;http://www.w3.org/1999/02/22-rdf-syntax-ns#type&gt;</td>\n      <td>&lt;http://www.w3.org/2002/07/owl#Class&gt;</td>\n    </tr>\n    <tr>\n      <th>6</th>\n      <td>&lt;http://www.lehigh.edu/~zhp2/2004/0401/univ-be...</td>\n      <td>&lt;http://www.w3.org/1999/02/22-rdf-syntax-ns#type&gt;</td>\n      <td>&lt;http://www.w3.org/2002/07/owl#Class&gt;</td>\n    </tr>\n    <tr>\n      <th>9</th>\n      <td>&lt;http://www.lehigh.edu/~zhp2/2004/0401/univ-be...</td>\n      <td>&lt;http://www.w3.org/1999/02/22-rdf-syntax-ns#type&gt;</td>\n      <td>&lt;http://www.w3.org/2002/07/owl#Class&gt;</td>\n    </tr>\n    <tr>\n      <th>12</th>\n      <td>&lt;http://www.lehigh.edu/~zhp2/2004/0401/univ-be...</td>\n      <td>&lt;http://www.w3.org/1999/02/22-rdf-syntax-ns#type&gt;</td>\n      <td>&lt;http://www.w3.org/2002/07/owl#Class&gt;</td>\n    </tr>\n    <tr>\n      <th>15</th>\n      <td>&lt;http://www.lehigh.edu/~zhp2/2004/0401/univ-be...</td>\n      <td>&lt;http://www.w3.org/1999/02/22-rdf-syntax-ns#type&gt;</td>\n      <td>&lt;http://www.w3.org/2002/07/owl#Class&gt;</td>\n    </tr>\n    <tr>\n      <th>18</th>\n      <td>&lt;http://www.lehigh.edu/~zhp2/2004/0401/univ-be...</td>\n      <td>&lt;http://www.w3.org/1999/02/22-rdf-syntax-ns#type&gt;</td>\n      <td>&lt;http://www.w3.org/2002/07/owl#Class&gt;</td>\n    </tr>\n    <tr>\n      <th>24</th>\n      <td>&lt;http://www.lehigh.edu/~zhp2/2004/0401/univ-be...</td>\n      <td>&lt;http://www.w3.org/1999/02/22-rdf-syntax-ns#type&gt;</td>\n      <td>&lt;http://www.w3.org/2002/07/owl#Class&gt;</td>\n    </tr>\n    <tr>\n      <th>31</th>\n      <td>&lt;http://www.lehigh.edu/~zhp2/2004/0401/univ-be...</td>\n      <td>&lt;http://www.w3.org/1999/02/22-rdf-syntax-ns#type&gt;</td>\n      <td>&lt;http://www.w3.org/2002/07/owl#Class&gt;</td>\n    </tr>\n    <tr>\n      <th>34</th>\n      <td>&lt;http://www.lehigh.edu/~zhp2/2004/0401/univ-be...</td>\n      <td>&lt;http://www.w3.org/1999/02/22-rdf-syntax-ns#type&gt;</td>\n      <td>&lt;http://www.w3.org/2002/07/owl#Class&gt;</td>\n    </tr>\n    <tr>\n      <th>37</th>\n      <td>&lt;http://www.lehigh.edu/~zhp2/2004/0401/univ-be...</td>\n      <td>&lt;http://www.w3.org/1999/02/22-rdf-syntax-ns#type&gt;</td>\n      <td>&lt;http://www.w3.org/2002/07/owl#Class&gt;</td>\n    </tr>\n    <tr>\n      <th>40</th>\n      <td>&lt;http://www.lehigh.edu/~zhp2/2004/0401/univ-be...</td>\n      <td>&lt;http://www.w3.org/1999/02/22-rdf-syntax-ns#type&gt;</td>\n      <td>&lt;http://www.w3.org/2002/07/owl#Class&gt;</td>\n    </tr>\n    <tr>\n      <th>43</th>\n      <td>&lt;http://www.lehigh.edu/~zhp2/2004/0401/univ-be...</td>\n      <td>&lt;http://www.w3.org/1999/02/22-rdf-syntax-ns#type&gt;</td>\n      <td>&lt;http://www.w3.org/2002/07/owl#Class&gt;</td>\n    </tr>\n    <tr>\n      <th>46</th>\n      <td>&lt;http://www.lehigh.edu/~zhp2/2004/0401/univ-be...</td>\n      <td>&lt;http://www.w3.org/1999/02/22-rdf-syntax-ns#type&gt;</td>\n      <td>&lt;http://www.w3.org/2002/07/owl#Class&gt;</td>\n    </tr>\n    <tr>\n      <th>55</th>\n      <td>&lt;http://www.lehigh.edu/~zhp2/2004/0401/univ-be...</td>\n      <td>&lt;http://www.w3.org/1999/02/22-rdf-syntax-ns#type&gt;</td>\n      <td>&lt;http://www.w3.org/2002/07/owl#Class&gt;</td>\n    </tr>\n    <tr>\n      <th>65</th>\n      <td>&lt;http://www.lehigh.edu/~zhp2/2004/0401/univ-be...</td>\n      <td>&lt;http://www.w3.org/1999/02/22-rdf-syntax-ns#type&gt;</td>\n      <td>&lt;http://www.w3.org/2002/07/owl#Class&gt;</td>\n    </tr>\n    <tr>\n      <th>68</th>\n      <td>&lt;http://www.lehigh.edu/~zhp2/2004/0401/univ-be...</td>\n      <td>&lt;http://www.w3.org/1999/02/22-rdf-syntax-ns#type&gt;</td>\n      <td>&lt;http://www.w3.org/2002/07/owl#Class&gt;</td>\n    </tr>\n    <tr>\n      <th>78</th>\n      <td>&lt;http://www.lehigh.edu/~zhp2/2004/0401/univ-be...</td>\n      <td>&lt;http://www.w3.org/1999/02/22-rdf-syntax-ns#type&gt;</td>\n      <td>&lt;http://www.w3.org/2002/07/owl#Class&gt;</td>\n    </tr>\n    <tr>\n      <th>80</th>\n      <td>&lt;http://www.lehigh.edu/~zhp2/2004/0401/univ-be...</td>\n      <td>&lt;http://www.w3.org/1999/02/22-rdf-syntax-ns#type&gt;</td>\n      <td>&lt;http://www.w3.org/2002/07/owl#Class&gt;</td>\n    </tr>\n    <tr>\n      <th>83</th>\n      <td>&lt;http://www.lehigh.edu/~zhp2/2004/0401/univ-be...</td>\n      <td>&lt;http://www.w3.org/1999/02/22-rdf-syntax-ns#type&gt;</td>\n      <td>&lt;http://www.w3.org/2002/07/owl#Class&gt;</td>\n    </tr>\n    <tr>\n      <th>86</th>\n      <td>&lt;http://www.lehigh.edu/~zhp2/2004/0401/univ-be...</td>\n      <td>&lt;http://www.w3.org/1999/02/22-rdf-syntax-ns#type&gt;</td>\n      <td>&lt;http://www.w3.org/2002/07/owl#Class&gt;</td>\n    </tr>\n    <tr>\n      <th>89</th>\n      <td>&lt;http://www.lehigh.edu/~zhp2/2004/0401/univ-be...</td>\n      <td>&lt;http://www.w3.org/1999/02/22-rdf-syntax-ns#type&gt;</td>\n      <td>&lt;http://www.w3.org/2002/07/owl#Class&gt;</td>\n    </tr>\n    <tr>\n      <th>96</th>\n      <td>&lt;http://www.lehigh.edu/~zhp2/2004/0401/univ-be...</td>\n      <td>&lt;http://www.w3.org/1999/02/22-rdf-syntax-ns#type&gt;</td>\n      <td>&lt;http://www.w3.org/2002/07/owl#Class&gt;</td>\n    </tr>\n    <tr>\n      <th>99</th>\n      <td>&lt;http://www.lehigh.edu/~zhp2/2004/0401/univ-be...</td>\n      <td>&lt;http://www.w3.org/1999/02/22-rdf-syntax-ns#type&gt;</td>\n      <td>&lt;http://www.w3.org/2002/07/owl#Class&gt;</td>\n    </tr>\n    <tr>\n      <th>102</th>\n      <td>&lt;http://www.lehigh.edu/~zhp2/2004/0401/univ-be...</td>\n      <td>&lt;http://www.w3.org/1999/02/22-rdf-syntax-ns#type&gt;</td>\n      <td>&lt;http://www.w3.org/2002/07/owl#Class&gt;</td>\n    </tr>\n    <tr>\n      <th>105</th>\n      <td>&lt;http://www.lehigh.edu/~zhp2/2004/0401/univ-be...</td>\n      <td>&lt;http://www.w3.org/1999/02/22-rdf-syntax-ns#type&gt;</td>\n      <td>&lt;http://www.w3.org/2002/07/owl#Class&gt;</td>\n    </tr>\n    <tr>\n      <th>108</th>\n      <td>&lt;http://www.lehigh.edu/~zhp2/2004/0401/univ-be...</td>\n      <td>&lt;http://www.w3.org/1999/02/22-rdf-syntax-ns#type&gt;</td>\n      <td>&lt;http://www.w3.org/2002/07/owl#Class&gt;</td>\n    </tr>\n    <tr>\n      <th>111</th>\n      <td>&lt;http://www.lehigh.edu/~zhp2/2004/0401/univ-be...</td>\n      <td>&lt;http://www.w3.org/1999/02/22-rdf-syntax-ns#type&gt;</td>\n      <td>&lt;http://www.w3.org/2002/07/owl#Class&gt;</td>\n    </tr>\n    <tr>\n      <th>114</th>\n      <td>&lt;http://www.lehigh.edu/~zhp2/2004/0401/univ-be...</td>\n      <td>&lt;http://www.w3.org/1999/02/22-rdf-syntax-ns#type&gt;</td>\n      <td>&lt;http://www.w3.org/2002/07/owl#Class&gt;</td>\n    </tr>\n    <tr>\n      <th>116</th>\n      <td>&lt;http://www.lehigh.edu/~zhp2/2004/0401/univ-be...</td>\n      <td>&lt;http://www.w3.org/1999/02/22-rdf-syntax-ns#type&gt;</td>\n      <td>&lt;http://www.w3.org/2002/07/owl#Class&gt;</td>\n    </tr>\n    <tr>\n      <th>119</th>\n      <td>&lt;http://www.lehigh.edu/~zhp2/2004/0401/univ-be...</td>\n      <td>&lt;http://www.w3.org/1999/02/22-rdf-syntax-ns#type&gt;</td>\n      <td>&lt;http://www.w3.org/2002/07/owl#Class&gt;</td>\n    </tr>\n    <tr>\n      <th>126</th>\n      <td>&lt;http://www.lehigh.edu/~zhp2/2004/0401/univ-be...</td>\n      <td>&lt;http://www.w3.org/1999/02/22-rdf-syntax-ns#type&gt;</td>\n      <td>&lt;http://www.w3.org/2002/07/owl#Class&gt;</td>\n    </tr>\n    <tr>\n      <th>129</th>\n      <td>&lt;http://www.lehigh.edu/~zhp2/2004/0401/univ-be...</td>\n      <td>&lt;http://www.w3.org/1999/02/22-rdf-syntax-ns#type&gt;</td>\n      <td>&lt;http://www.w3.org/2002/07/owl#Class&gt;</td>\n    </tr>\n    <tr>\n      <th>131</th>\n      <td>&lt;http://www.lehigh.edu/~zhp2/2004/0401/univ-be...</td>\n      <td>&lt;http://www.w3.org/1999/02/22-rdf-syntax-ns#type&gt;</td>\n      <td>&lt;http://www.w3.org/2002/07/owl#Class&gt;</td>\n    </tr>\n    <tr>\n      <th>134</th>\n      <td>&lt;http://www.lehigh.edu/~zhp2/2004/0401/univ-be...</td>\n      <td>&lt;http://www.w3.org/1999/02/22-rdf-syntax-ns#type&gt;</td>\n      <td>&lt;http://www.w3.org/2002/07/owl#Class&gt;</td>\n    </tr>\n    <tr>\n      <th>137</th>\n      <td>&lt;http://www.lehigh.edu/~zhp2/2004/0401/univ-be...</td>\n      <td>&lt;http://www.w3.org/1999/02/22-rdf-syntax-ns#type&gt;</td>\n      <td>&lt;http://www.w3.org/2002/07/owl#Class&gt;</td>\n    </tr>\n    <tr>\n      <th>147</th>\n      <td>&lt;http://www.lehigh.edu/~zhp2/2004/0401/univ-be...</td>\n      <td>&lt;http://www.w3.org/1999/02/22-rdf-syntax-ns#type&gt;</td>\n      <td>&lt;http://www.w3.org/2002/07/owl#Class&gt;</td>\n    </tr>\n    <tr>\n      <th>150</th>\n      <td>&lt;http://www.lehigh.edu/~zhp2/2004/0401/univ-be...</td>\n      <td>&lt;http://www.w3.org/1999/02/22-rdf-syntax-ns#type&gt;</td>\n      <td>&lt;http://www.w3.org/2002/07/owl#Class&gt;</td>\n    </tr>\n    <tr>\n      <th>160</th>\n      <td>&lt;http://www.lehigh.edu/~zhp2/2004/0401/univ-be...</td>\n      <td>&lt;http://www.w3.org/1999/02/22-rdf-syntax-ns#type&gt;</td>\n      <td>&lt;http://www.w3.org/2002/07/owl#Class&gt;</td>\n    </tr>\n    <tr>\n      <th>163</th>\n      <td>&lt;http://www.lehigh.edu/~zhp2/2004/0401/univ-be...</td>\n      <td>&lt;http://www.w3.org/1999/02/22-rdf-syntax-ns#type&gt;</td>\n      <td>&lt;http://www.w3.org/2002/07/owl#Class&gt;</td>\n    </tr>\n    <tr>\n      <th>166</th>\n      <td>&lt;http://www.lehigh.edu/~zhp2/2004/0401/univ-be...</td>\n      <td>&lt;http://www.w3.org/1999/02/22-rdf-syntax-ns#type&gt;</td>\n      <td>&lt;http://www.w3.org/2002/07/owl#Class&gt;</td>\n    </tr>\n    <tr>\n      <th>169</th>\n      <td>&lt;http://www.lehigh.edu/~zhp2/2004/0401/univ-be...</td>\n      <td>&lt;http://www.w3.org/1999/02/22-rdf-syntax-ns#type&gt;</td>\n      <td>&lt;http://www.w3.org/2002/07/owl#Class&gt;</td>\n    </tr>\n    <tr>\n      <th>172</th>\n      <td>&lt;http://www.lehigh.edu/~zhp2/2004/0401/univ-be...</td>\n      <td>&lt;http://www.w3.org/1999/02/22-rdf-syntax-ns#type&gt;</td>\n      <td>&lt;http://www.w3.org/2002/07/owl#Class&gt;</td>\n    </tr>\n    <tr>\n      <th>175</th>\n      <td>&lt;http://www.lehigh.edu/~zhp2/2004/0401/univ-be...</td>\n      <td>&lt;http://www.w3.org/1999/02/22-rdf-syntax-ns#type&gt;</td>\n      <td>&lt;http://www.w3.org/2002/07/owl#Class&gt;</td>\n    </tr>\n  </tbody>\n</table>\n</div>"
     },
     "execution_count": 193,
     "metadata": {},
     "output_type": "execute_result"
    }
   ],
   "source": [
    "df2_classes"
   ],
   "metadata": {
    "collapsed": false
   }
  },
  {
   "cell_type": "code",
   "execution_count": 194,
   "outputs": [],
   "source": [
    "#df2_subclasses = df2[df2[\"predicate\"].str.contains(\"#subClassOf\")]"
   ],
   "metadata": {
    "collapsed": false
   }
  },
  {
   "cell_type": "code",
   "execution_count": 195,
   "outputs": [
    {
     "name": "stderr",
     "output_type": "stream",
     "text": [
      "C:\\Users\\martt\\anaconda3\\envs\\NMT4RDFS\\lib\\site-packages\\ipykernel_launcher.py:1: SettingWithCopyWarning: \n",
      "A value is trying to be set on a copy of a slice from a DataFrame.\n",
      "Try using .loc[row_indexer,col_indexer] = value instead\n",
      "\n",
      "See the caveats in the documentation: http://pandas.pydata.org/pandas-docs/stable/indexing.html#indexing-view-versus-copy\n",
      "  \"\"\"Entry point for launching an IPython kernel.\n"
     ]
    }
   ],
   "source": [
    "df2_classes['subject'] = df2_classes['subject'].str.extract(r'#(.+)>')\n",
    "#df2_subclasses['subject'] = df2_subclasses['subject'].str.extract(r'#(.+)>')"
   ],
   "metadata": {
    "collapsed": false
   }
  },
  {
   "cell_type": "code",
   "execution_count": 196,
   "outputs": [
    {
     "data": {
      "text/plain": "                   subject                                          predicate  \\\n3      AdministrativeStaff  <http://www.w3.org/1999/02/22-rdf-syntax-ns#type>   \n6                  Article  <http://www.w3.org/1999/02/22-rdf-syntax-ns#type>   \n9       AssistantProfessor  <http://www.w3.org/1999/02/22-rdf-syntax-ns#type>   \n12      AssociateProfessor  <http://www.w3.org/1999/02/22-rdf-syntax-ns#type>   \n15                    Book  <http://www.w3.org/1999/02/22-rdf-syntax-ns#type>   \n18                   Chair  <http://www.w3.org/1999/02/22-rdf-syntax-ns#type>   \n24                  Person  <http://www.w3.org/1999/02/22-rdf-syntax-ns#type>   \n31              Department  <http://www.w3.org/1999/02/22-rdf-syntax-ns#type>   \n34           ClericalStaff  <http://www.w3.org/1999/02/22-rdf-syntax-ns#type>   \n37                 College  <http://www.w3.org/1999/02/22-rdf-syntax-ns#type>   \n40         ConferencePaper  <http://www.w3.org/1999/02/22-rdf-syntax-ns#type>   \n43                  Course  <http://www.w3.org/1999/02/22-rdf-syntax-ns#type>   \n46                    Dean  <http://www.w3.org/1999/02/22-rdf-syntax-ns#type>   \n55                Director  <http://www.w3.org/1999/02/22-rdf-syntax-ns#type>   \n65                 Program  <http://www.w3.org/1999/02/22-rdf-syntax-ns#type>   \n68                Employee  <http://www.w3.org/1999/02/22-rdf-syntax-ns#type>   \n78            Organization  <http://www.w3.org/1999/02/22-rdf-syntax-ns#type>   \n80                 Faculty  <http://www.w3.org/1999/02/22-rdf-syntax-ns#type>   \n83           FullProfessor  <http://www.w3.org/1999/02/22-rdf-syntax-ns#type>   \n86          GraduateCourse  <http://www.w3.org/1999/02/22-rdf-syntax-ns#type>   \n89         GraduateStudent  <http://www.w3.org/1999/02/22-rdf-syntax-ns#type>   \n96               Institute  <http://www.w3.org/1999/02/22-rdf-syntax-ns#type>   \n99          JournalArticle  <http://www.w3.org/1999/02/22-rdf-syntax-ns#type>   \n102               Lecturer  <http://www.w3.org/1999/02/22-rdf-syntax-ns#type>   \n105                 Manual  <http://www.w3.org/1999/02/22-rdf-syntax-ns#type>   \n108                PostDoc  <http://www.w3.org/1999/02/22-rdf-syntax-ns#type>   \n111              Professor  <http://www.w3.org/1999/02/22-rdf-syntax-ns#type>   \n114            Publication  <http://www.w3.org/1999/02/22-rdf-syntax-ns#type>   \n116               Research  <http://www.w3.org/1999/02/22-rdf-syntax-ns#type>   \n119      ResearchAssistant  <http://www.w3.org/1999/02/22-rdf-syntax-ns#type>   \n126          ResearchGroup  <http://www.w3.org/1999/02/22-rdf-syntax-ns#type>   \n129               Schedule  <http://www.w3.org/1999/02/22-rdf-syntax-ns#type>   \n131               Software  <http://www.w3.org/1999/02/22-rdf-syntax-ns#type>   \n134          Specification  <http://www.w3.org/1999/02/22-rdf-syntax-ns#type>   \n137                Student  <http://www.w3.org/1999/02/22-rdf-syntax-ns#type>   \n147           SystemsStaff  <http://www.w3.org/1999/02/22-rdf-syntax-ns#type>   \n150      TeachingAssistant  <http://www.w3.org/1999/02/22-rdf-syntax-ns#type>   \n160        TechnicalReport  <http://www.w3.org/1999/02/22-rdf-syntax-ns#type>   \n163   UndergraduateStudent  <http://www.w3.org/1999/02/22-rdf-syntax-ns#type>   \n166             University  <http://www.w3.org/1999/02/22-rdf-syntax-ns#type>   \n169  UnofficialPublication  <http://www.w3.org/1999/02/22-rdf-syntax-ns#type>   \n172      VisitingProfessor  <http://www.w3.org/1999/02/22-rdf-syntax-ns#type>   \n175                   Work  <http://www.w3.org/1999/02/22-rdf-syntax-ns#type>   \n\n                                    object  \n3    <http://www.w3.org/2002/07/owl#Class>  \n6    <http://www.w3.org/2002/07/owl#Class>  \n9    <http://www.w3.org/2002/07/owl#Class>  \n12   <http://www.w3.org/2002/07/owl#Class>  \n15   <http://www.w3.org/2002/07/owl#Class>  \n18   <http://www.w3.org/2002/07/owl#Class>  \n24   <http://www.w3.org/2002/07/owl#Class>  \n31   <http://www.w3.org/2002/07/owl#Class>  \n34   <http://www.w3.org/2002/07/owl#Class>  \n37   <http://www.w3.org/2002/07/owl#Class>  \n40   <http://www.w3.org/2002/07/owl#Class>  \n43   <http://www.w3.org/2002/07/owl#Class>  \n46   <http://www.w3.org/2002/07/owl#Class>  \n55   <http://www.w3.org/2002/07/owl#Class>  \n65   <http://www.w3.org/2002/07/owl#Class>  \n68   <http://www.w3.org/2002/07/owl#Class>  \n78   <http://www.w3.org/2002/07/owl#Class>  \n80   <http://www.w3.org/2002/07/owl#Class>  \n83   <http://www.w3.org/2002/07/owl#Class>  \n86   <http://www.w3.org/2002/07/owl#Class>  \n89   <http://www.w3.org/2002/07/owl#Class>  \n96   <http://www.w3.org/2002/07/owl#Class>  \n99   <http://www.w3.org/2002/07/owl#Class>  \n102  <http://www.w3.org/2002/07/owl#Class>  \n105  <http://www.w3.org/2002/07/owl#Class>  \n108  <http://www.w3.org/2002/07/owl#Class>  \n111  <http://www.w3.org/2002/07/owl#Class>  \n114  <http://www.w3.org/2002/07/owl#Class>  \n116  <http://www.w3.org/2002/07/owl#Class>  \n119  <http://www.w3.org/2002/07/owl#Class>  \n126  <http://www.w3.org/2002/07/owl#Class>  \n129  <http://www.w3.org/2002/07/owl#Class>  \n131  <http://www.w3.org/2002/07/owl#Class>  \n134  <http://www.w3.org/2002/07/owl#Class>  \n137  <http://www.w3.org/2002/07/owl#Class>  \n147  <http://www.w3.org/2002/07/owl#Class>  \n150  <http://www.w3.org/2002/07/owl#Class>  \n160  <http://www.w3.org/2002/07/owl#Class>  \n163  <http://www.w3.org/2002/07/owl#Class>  \n166  <http://www.w3.org/2002/07/owl#Class>  \n169  <http://www.w3.org/2002/07/owl#Class>  \n172  <http://www.w3.org/2002/07/owl#Class>  \n175  <http://www.w3.org/2002/07/owl#Class>  ",
      "text/html": "<div>\n<style scoped>\n    .dataframe tbody tr th:only-of-type {\n        vertical-align: middle;\n    }\n\n    .dataframe tbody tr th {\n        vertical-align: top;\n    }\n\n    .dataframe thead th {\n        text-align: right;\n    }\n</style>\n<table border=\"1\" class=\"dataframe\">\n  <thead>\n    <tr style=\"text-align: right;\">\n      <th></th>\n      <th>subject</th>\n      <th>predicate</th>\n      <th>object</th>\n    </tr>\n  </thead>\n  <tbody>\n    <tr>\n      <th>3</th>\n      <td>AdministrativeStaff</td>\n      <td>&lt;http://www.w3.org/1999/02/22-rdf-syntax-ns#type&gt;</td>\n      <td>&lt;http://www.w3.org/2002/07/owl#Class&gt;</td>\n    </tr>\n    <tr>\n      <th>6</th>\n      <td>Article</td>\n      <td>&lt;http://www.w3.org/1999/02/22-rdf-syntax-ns#type&gt;</td>\n      <td>&lt;http://www.w3.org/2002/07/owl#Class&gt;</td>\n    </tr>\n    <tr>\n      <th>9</th>\n      <td>AssistantProfessor</td>\n      <td>&lt;http://www.w3.org/1999/02/22-rdf-syntax-ns#type&gt;</td>\n      <td>&lt;http://www.w3.org/2002/07/owl#Class&gt;</td>\n    </tr>\n    <tr>\n      <th>12</th>\n      <td>AssociateProfessor</td>\n      <td>&lt;http://www.w3.org/1999/02/22-rdf-syntax-ns#type&gt;</td>\n      <td>&lt;http://www.w3.org/2002/07/owl#Class&gt;</td>\n    </tr>\n    <tr>\n      <th>15</th>\n      <td>Book</td>\n      <td>&lt;http://www.w3.org/1999/02/22-rdf-syntax-ns#type&gt;</td>\n      <td>&lt;http://www.w3.org/2002/07/owl#Class&gt;</td>\n    </tr>\n    <tr>\n      <th>18</th>\n      <td>Chair</td>\n      <td>&lt;http://www.w3.org/1999/02/22-rdf-syntax-ns#type&gt;</td>\n      <td>&lt;http://www.w3.org/2002/07/owl#Class&gt;</td>\n    </tr>\n    <tr>\n      <th>24</th>\n      <td>Person</td>\n      <td>&lt;http://www.w3.org/1999/02/22-rdf-syntax-ns#type&gt;</td>\n      <td>&lt;http://www.w3.org/2002/07/owl#Class&gt;</td>\n    </tr>\n    <tr>\n      <th>31</th>\n      <td>Department</td>\n      <td>&lt;http://www.w3.org/1999/02/22-rdf-syntax-ns#type&gt;</td>\n      <td>&lt;http://www.w3.org/2002/07/owl#Class&gt;</td>\n    </tr>\n    <tr>\n      <th>34</th>\n      <td>ClericalStaff</td>\n      <td>&lt;http://www.w3.org/1999/02/22-rdf-syntax-ns#type&gt;</td>\n      <td>&lt;http://www.w3.org/2002/07/owl#Class&gt;</td>\n    </tr>\n    <tr>\n      <th>37</th>\n      <td>College</td>\n      <td>&lt;http://www.w3.org/1999/02/22-rdf-syntax-ns#type&gt;</td>\n      <td>&lt;http://www.w3.org/2002/07/owl#Class&gt;</td>\n    </tr>\n    <tr>\n      <th>40</th>\n      <td>ConferencePaper</td>\n      <td>&lt;http://www.w3.org/1999/02/22-rdf-syntax-ns#type&gt;</td>\n      <td>&lt;http://www.w3.org/2002/07/owl#Class&gt;</td>\n    </tr>\n    <tr>\n      <th>43</th>\n      <td>Course</td>\n      <td>&lt;http://www.w3.org/1999/02/22-rdf-syntax-ns#type&gt;</td>\n      <td>&lt;http://www.w3.org/2002/07/owl#Class&gt;</td>\n    </tr>\n    <tr>\n      <th>46</th>\n      <td>Dean</td>\n      <td>&lt;http://www.w3.org/1999/02/22-rdf-syntax-ns#type&gt;</td>\n      <td>&lt;http://www.w3.org/2002/07/owl#Class&gt;</td>\n    </tr>\n    <tr>\n      <th>55</th>\n      <td>Director</td>\n      <td>&lt;http://www.w3.org/1999/02/22-rdf-syntax-ns#type&gt;</td>\n      <td>&lt;http://www.w3.org/2002/07/owl#Class&gt;</td>\n    </tr>\n    <tr>\n      <th>65</th>\n      <td>Program</td>\n      <td>&lt;http://www.w3.org/1999/02/22-rdf-syntax-ns#type&gt;</td>\n      <td>&lt;http://www.w3.org/2002/07/owl#Class&gt;</td>\n    </tr>\n    <tr>\n      <th>68</th>\n      <td>Employee</td>\n      <td>&lt;http://www.w3.org/1999/02/22-rdf-syntax-ns#type&gt;</td>\n      <td>&lt;http://www.w3.org/2002/07/owl#Class&gt;</td>\n    </tr>\n    <tr>\n      <th>78</th>\n      <td>Organization</td>\n      <td>&lt;http://www.w3.org/1999/02/22-rdf-syntax-ns#type&gt;</td>\n      <td>&lt;http://www.w3.org/2002/07/owl#Class&gt;</td>\n    </tr>\n    <tr>\n      <th>80</th>\n      <td>Faculty</td>\n      <td>&lt;http://www.w3.org/1999/02/22-rdf-syntax-ns#type&gt;</td>\n      <td>&lt;http://www.w3.org/2002/07/owl#Class&gt;</td>\n    </tr>\n    <tr>\n      <th>83</th>\n      <td>FullProfessor</td>\n      <td>&lt;http://www.w3.org/1999/02/22-rdf-syntax-ns#type&gt;</td>\n      <td>&lt;http://www.w3.org/2002/07/owl#Class&gt;</td>\n    </tr>\n    <tr>\n      <th>86</th>\n      <td>GraduateCourse</td>\n      <td>&lt;http://www.w3.org/1999/02/22-rdf-syntax-ns#type&gt;</td>\n      <td>&lt;http://www.w3.org/2002/07/owl#Class&gt;</td>\n    </tr>\n    <tr>\n      <th>89</th>\n      <td>GraduateStudent</td>\n      <td>&lt;http://www.w3.org/1999/02/22-rdf-syntax-ns#type&gt;</td>\n      <td>&lt;http://www.w3.org/2002/07/owl#Class&gt;</td>\n    </tr>\n    <tr>\n      <th>96</th>\n      <td>Institute</td>\n      <td>&lt;http://www.w3.org/1999/02/22-rdf-syntax-ns#type&gt;</td>\n      <td>&lt;http://www.w3.org/2002/07/owl#Class&gt;</td>\n    </tr>\n    <tr>\n      <th>99</th>\n      <td>JournalArticle</td>\n      <td>&lt;http://www.w3.org/1999/02/22-rdf-syntax-ns#type&gt;</td>\n      <td>&lt;http://www.w3.org/2002/07/owl#Class&gt;</td>\n    </tr>\n    <tr>\n      <th>102</th>\n      <td>Lecturer</td>\n      <td>&lt;http://www.w3.org/1999/02/22-rdf-syntax-ns#type&gt;</td>\n      <td>&lt;http://www.w3.org/2002/07/owl#Class&gt;</td>\n    </tr>\n    <tr>\n      <th>105</th>\n      <td>Manual</td>\n      <td>&lt;http://www.w3.org/1999/02/22-rdf-syntax-ns#type&gt;</td>\n      <td>&lt;http://www.w3.org/2002/07/owl#Class&gt;</td>\n    </tr>\n    <tr>\n      <th>108</th>\n      <td>PostDoc</td>\n      <td>&lt;http://www.w3.org/1999/02/22-rdf-syntax-ns#type&gt;</td>\n      <td>&lt;http://www.w3.org/2002/07/owl#Class&gt;</td>\n    </tr>\n    <tr>\n      <th>111</th>\n      <td>Professor</td>\n      <td>&lt;http://www.w3.org/1999/02/22-rdf-syntax-ns#type&gt;</td>\n      <td>&lt;http://www.w3.org/2002/07/owl#Class&gt;</td>\n    </tr>\n    <tr>\n      <th>114</th>\n      <td>Publication</td>\n      <td>&lt;http://www.w3.org/1999/02/22-rdf-syntax-ns#type&gt;</td>\n      <td>&lt;http://www.w3.org/2002/07/owl#Class&gt;</td>\n    </tr>\n    <tr>\n      <th>116</th>\n      <td>Research</td>\n      <td>&lt;http://www.w3.org/1999/02/22-rdf-syntax-ns#type&gt;</td>\n      <td>&lt;http://www.w3.org/2002/07/owl#Class&gt;</td>\n    </tr>\n    <tr>\n      <th>119</th>\n      <td>ResearchAssistant</td>\n      <td>&lt;http://www.w3.org/1999/02/22-rdf-syntax-ns#type&gt;</td>\n      <td>&lt;http://www.w3.org/2002/07/owl#Class&gt;</td>\n    </tr>\n    <tr>\n      <th>126</th>\n      <td>ResearchGroup</td>\n      <td>&lt;http://www.w3.org/1999/02/22-rdf-syntax-ns#type&gt;</td>\n      <td>&lt;http://www.w3.org/2002/07/owl#Class&gt;</td>\n    </tr>\n    <tr>\n      <th>129</th>\n      <td>Schedule</td>\n      <td>&lt;http://www.w3.org/1999/02/22-rdf-syntax-ns#type&gt;</td>\n      <td>&lt;http://www.w3.org/2002/07/owl#Class&gt;</td>\n    </tr>\n    <tr>\n      <th>131</th>\n      <td>Software</td>\n      <td>&lt;http://www.w3.org/1999/02/22-rdf-syntax-ns#type&gt;</td>\n      <td>&lt;http://www.w3.org/2002/07/owl#Class&gt;</td>\n    </tr>\n    <tr>\n      <th>134</th>\n      <td>Specification</td>\n      <td>&lt;http://www.w3.org/1999/02/22-rdf-syntax-ns#type&gt;</td>\n      <td>&lt;http://www.w3.org/2002/07/owl#Class&gt;</td>\n    </tr>\n    <tr>\n      <th>137</th>\n      <td>Student</td>\n      <td>&lt;http://www.w3.org/1999/02/22-rdf-syntax-ns#type&gt;</td>\n      <td>&lt;http://www.w3.org/2002/07/owl#Class&gt;</td>\n    </tr>\n    <tr>\n      <th>147</th>\n      <td>SystemsStaff</td>\n      <td>&lt;http://www.w3.org/1999/02/22-rdf-syntax-ns#type&gt;</td>\n      <td>&lt;http://www.w3.org/2002/07/owl#Class&gt;</td>\n    </tr>\n    <tr>\n      <th>150</th>\n      <td>TeachingAssistant</td>\n      <td>&lt;http://www.w3.org/1999/02/22-rdf-syntax-ns#type&gt;</td>\n      <td>&lt;http://www.w3.org/2002/07/owl#Class&gt;</td>\n    </tr>\n    <tr>\n      <th>160</th>\n      <td>TechnicalReport</td>\n      <td>&lt;http://www.w3.org/1999/02/22-rdf-syntax-ns#type&gt;</td>\n      <td>&lt;http://www.w3.org/2002/07/owl#Class&gt;</td>\n    </tr>\n    <tr>\n      <th>163</th>\n      <td>UndergraduateStudent</td>\n      <td>&lt;http://www.w3.org/1999/02/22-rdf-syntax-ns#type&gt;</td>\n      <td>&lt;http://www.w3.org/2002/07/owl#Class&gt;</td>\n    </tr>\n    <tr>\n      <th>166</th>\n      <td>University</td>\n      <td>&lt;http://www.w3.org/1999/02/22-rdf-syntax-ns#type&gt;</td>\n      <td>&lt;http://www.w3.org/2002/07/owl#Class&gt;</td>\n    </tr>\n    <tr>\n      <th>169</th>\n      <td>UnofficialPublication</td>\n      <td>&lt;http://www.w3.org/1999/02/22-rdf-syntax-ns#type&gt;</td>\n      <td>&lt;http://www.w3.org/2002/07/owl#Class&gt;</td>\n    </tr>\n    <tr>\n      <th>172</th>\n      <td>VisitingProfessor</td>\n      <td>&lt;http://www.w3.org/1999/02/22-rdf-syntax-ns#type&gt;</td>\n      <td>&lt;http://www.w3.org/2002/07/owl#Class&gt;</td>\n    </tr>\n    <tr>\n      <th>175</th>\n      <td>Work</td>\n      <td>&lt;http://www.w3.org/1999/02/22-rdf-syntax-ns#type&gt;</td>\n      <td>&lt;http://www.w3.org/2002/07/owl#Class&gt;</td>\n    </tr>\n  </tbody>\n</table>\n</div>"
     },
     "execution_count": 196,
     "metadata": {},
     "output_type": "execute_result"
    }
   ],
   "source": [
    "df2_classes"
   ],
   "metadata": {
    "collapsed": false
   }
  },
  {
   "cell_type": "code",
   "execution_count": 197,
   "outputs": [],
   "source": [
    "df2_class_uniques = df2_classes.subject.unique()"
   ],
   "metadata": {
    "collapsed": false
   }
  },
  {
   "cell_type": "code",
   "execution_count": 198,
   "outputs": [
    {
     "data": {
      "text/plain": "array(['AdministrativeStaff', 'Article', 'AssistantProfessor',\n       'AssociateProfessor', 'Book', 'Chair', 'Person', 'Department',\n       'ClericalStaff', 'College', 'ConferencePaper', 'Course', 'Dean',\n       'Director', 'Program', 'Employee', 'Organization', 'Faculty',\n       'FullProfessor', 'GraduateCourse', 'GraduateStudent', 'Institute',\n       'JournalArticle', 'Lecturer', 'Manual', 'PostDoc', 'Professor',\n       'Publication', 'Research', 'ResearchAssistant', 'ResearchGroup',\n       'Schedule', 'Software', 'Specification', 'Student', 'SystemsStaff',\n       'TeachingAssistant', 'TechnicalReport', 'UndergraduateStudent',\n       'University', 'UnofficialPublication', 'VisitingProfessor', 'Work'],\n      dtype=object)"
     },
     "execution_count": 198,
     "metadata": {},
     "output_type": "execute_result"
    }
   ],
   "source": [
    "df2_class_uniques"
   ],
   "metadata": {
    "collapsed": false
   }
  },
  {
   "cell_type": "code",
   "execution_count": 199,
   "outputs": [
    {
     "data": {
      "text/plain": "array(['AdministrativeStaff', 'Article', 'AssistantProfessor',\n       'AssociateProfessor', 'Book', 'Chair', 'ClericalStaff', 'College',\n       'ConferencePaper', 'Course', 'Dean', 'Department', 'Director',\n       'Employee', 'Faculty', 'FullProfessor', 'GraduateCourse',\n       'GraduateStudent', 'Institute', 'JournalArticle', 'Lecturer',\n       'Manual', 'Organization', 'Person', 'PostDoc', 'Professor',\n       'Program', 'Publication', 'Research', 'ResearchAssistant',\n       'ResearchGroup', 'Schedule', 'Software', 'Specification',\n       'Student', 'SystemsStaff', 'TeachingAssistant', 'TechnicalReport',\n       'UndergraduateStudent', 'University', 'UnofficialPublication',\n       'VisitingProfessor', 'Work', 'Alt', 'Bag', 'List', 'Property',\n       'Seq', 'Statement', 'XMLLiteral', 'Class', 'Container',\n       'ContainerMembershipProperty', 'Datatype', 'Literal', 'Resource',\n       'nonNegativeInteger', 'string'], dtype=object)"
     },
     "execution_count": 199,
     "metadata": {},
     "output_type": "execute_result"
    }
   ],
   "source": [
    "df1_class_uniques"
   ],
   "metadata": {
    "collapsed": false
   }
  },
  {
   "cell_type": "code",
   "execution_count": 200,
   "outputs": [],
   "source": [
    "import numpy as np"
   ],
   "metadata": {
    "collapsed": false
   }
  },
  {
   "cell_type": "code",
   "execution_count": 201,
   "outputs": [],
   "source": [
    "missing = np.isin(df1_class_uniques, df2_class_uniques)"
   ],
   "metadata": {
    "collapsed": false
   }
  },
  {
   "cell_type": "code",
   "execution_count": 202,
   "outputs": [
    {
     "name": "stdout",
     "output_type": "stream",
     "text": [
      "['Alt' 'Bag' 'List' 'Property' 'Seq' 'Statement' 'XMLLiteral' 'Class'\n",
      " 'Container' 'ContainerMembershipProperty' 'Datatype' 'Literal' 'Resource'\n",
      " 'nonNegativeInteger' 'string']\n"
     ]
    }
   ],
   "source": [
    "print(df1_class_uniques[np.logical_not(missing)])"
   ],
   "metadata": {
    "collapsed": false
   }
  },
  {
   "cell_type": "code",
   "execution_count": 203,
   "outputs": [],
   "source": [
    "true_list = df[df.type==\"class\"]['uri'].str.contains('Literal')"
   ],
   "metadata": {
    "collapsed": false
   }
  },
  {
   "cell_type": "code",
   "execution_count": 204,
   "outputs": [
    {
     "data": {
      "text/plain": "    index   type                                                uri\n49     50  class  http://www.w3.org/1999/02/22-rdf-syntax-ns#XML...\n54     55  class       http://www.w3.org/2000/01/rdf-schema#Literal",
      "text/html": "<div>\n<style scoped>\n    .dataframe tbody tr th:only-of-type {\n        vertical-align: middle;\n    }\n\n    .dataframe tbody tr th {\n        vertical-align: top;\n    }\n\n    .dataframe thead th {\n        text-align: right;\n    }\n</style>\n<table border=\"1\" class=\"dataframe\">\n  <thead>\n    <tr style=\"text-align: right;\">\n      <th></th>\n      <th>index</th>\n      <th>type</th>\n      <th>uri</th>\n    </tr>\n  </thead>\n  <tbody>\n    <tr>\n      <th>49</th>\n      <td>50</td>\n      <td>class</td>\n      <td>http://www.w3.org/1999/02/22-rdf-syntax-ns#XML...</td>\n    </tr>\n    <tr>\n      <th>54</th>\n      <td>55</td>\n      <td>class</td>\n      <td>http://www.w3.org/2000/01/rdf-schema#Literal</td>\n    </tr>\n  </tbody>\n</table>\n</div>"
     },
     "execution_count": 204,
     "metadata": {},
     "output_type": "execute_result"
    }
   ],
   "source": [
    "df[df['uri'].str.contains('Literal')]"
   ],
   "metadata": {
    "collapsed": false
   }
  },
  {
   "cell_type": "code",
   "execution_count": 205,
   "outputs": [
    {
     "data": {
      "text/plain": "                                               subject  \\\n0    <http://www.lehigh.edu/~zhp2/2004/0401/univ-be...   \n1    <http://www.lehigh.edu/~zhp2/2004/0401/univ-be...   \n2    <http://www.lehigh.edu/~zhp2/2004/0401/univ-be...   \n3    <http://www.lehigh.edu/~zhp2/2004/0401/univ-be...   \n4    <http://www.lehigh.edu/~zhp2/2004/0401/univ-be...   \n5    <http://www.lehigh.edu/~zhp2/2004/0401/univ-be...   \n6    <http://www.lehigh.edu/~zhp2/2004/0401/univ-be...   \n7    <http://www.lehigh.edu/~zhp2/2004/0401/univ-be...   \n8    <http://www.lehigh.edu/~zhp2/2004/0401/univ-be...   \n9    <http://www.lehigh.edu/~zhp2/2004/0401/univ-be...   \n10   <http://www.lehigh.edu/~zhp2/2004/0401/univ-be...   \n11   <http://www.lehigh.edu/~zhp2/2004/0401/univ-be...   \n12   <http://www.lehigh.edu/~zhp2/2004/0401/univ-be...   \n13   <http://www.lehigh.edu/~zhp2/2004/0401/univ-be...   \n14   <http://www.lehigh.edu/~zhp2/2004/0401/univ-be...   \n15   <http://www.lehigh.edu/~zhp2/2004/0401/univ-be...   \n16   <http://www.lehigh.edu/~zhp2/2004/0401/univ-be...   \n17   <http://www.lehigh.edu/~zhp2/2004/0401/univ-be...   \n18   <http://www.lehigh.edu/~zhp2/2004/0401/univ-be...   \n19   <http://www.lehigh.edu/~zhp2/2004/0401/univ-be...   \n20   <http://www.lehigh.edu/~zhp2/2004/0401/univ-be...   \n21   <http://www.lehigh.edu/~zhp2/2004/0401/univ-be...   \n22                                            _:genid1   \n23                                            _:genid1   \n24   <http://www.lehigh.edu/~zhp2/2004/0401/univ-be...   \n25   <http://www.lehigh.edu/~zhp2/2004/0401/univ-be...   \n26                                            _:genid3   \n27                                            _:genid3   \n28                                            _:genid2   \n29                                            _:genid2   \n..                                                 ...   \n262  <http://www.lehigh.edu/~zhp2/2004/0401/univ-be...   \n263  <http://www.lehigh.edu/~zhp2/2004/0401/univ-be...   \n264  <http://www.lehigh.edu/~zhp2/2004/0401/univ-be...   \n265  <http://www.lehigh.edu/~zhp2/2004/0401/univ-be...   \n266  <http://www.lehigh.edu/~zhp2/2004/0401/univ-be...   \n267  <http://www.lehigh.edu/~zhp2/2004/0401/univ-be...   \n268  <http://www.lehigh.edu/~zhp2/2004/0401/univ-be...   \n269  <http://www.lehigh.edu/~zhp2/2004/0401/univ-be...   \n270  <http://www.lehigh.edu/~zhp2/2004/0401/univ-be...   \n271  <http://www.lehigh.edu/~zhp2/2004/0401/univ-be...   \n272  <http://www.lehigh.edu/~zhp2/2004/0401/univ-be...   \n273  <http://www.lehigh.edu/~zhp2/2004/0401/univ-be...   \n274  <http://www.lehigh.edu/~zhp2/2004/0401/univ-be...   \n275  <http://www.lehigh.edu/~zhp2/2004/0401/univ-be...   \n276  <http://www.lehigh.edu/~zhp2/2004/0401/univ-be...   \n277  <http://www.lehigh.edu/~zhp2/2004/0401/univ-be...   \n278  <http://www.lehigh.edu/~zhp2/2004/0401/univ-be...   \n279  <http://www.lehigh.edu/~zhp2/2004/0401/univ-be...   \n280  <http://www.lehigh.edu/~zhp2/2004/0401/univ-be...   \n281  <http://www.lehigh.edu/~zhp2/2004/0401/univ-be...   \n282  <http://www.lehigh.edu/~zhp2/2004/0401/univ-be...   \n283  <http://www.lehigh.edu/~zhp2/2004/0401/univ-be...   \n284  <http://www.lehigh.edu/~zhp2/2004/0401/univ-be...   \n285  <http://www.lehigh.edu/~zhp2/2004/0401/univ-be...   \n286  <http://www.lehigh.edu/~zhp2/2004/0401/univ-be...   \n287  <http://www.lehigh.edu/~zhp2/2004/0401/univ-be...   \n288  <http://www.lehigh.edu/~zhp2/2004/0401/univ-be...   \n289  <http://www.lehigh.edu/~zhp2/2004/0401/univ-be...   \n290  <http://www.lehigh.edu/~zhp2/2004/0401/univ-be...   \n291  <http://www.lehigh.edu/~zhp2/2004/0401/univ-be...   \n\n                                             predicate  \\\n0       <http://www.w3.org/2000/01/rdf-schema#comment>   \n1         <http://www.w3.org/2000/01/rdf-schema#label>   \n2          <http://www.w3.org/2002/07/owl#versionInfo>   \n3    <http://www.w3.org/1999/02/22-rdf-syntax-ns#type>   \n4         <http://www.w3.org/2000/01/rdf-schema#label>   \n5    <http://www.w3.org/2000/01/rdf-schema#subClassOf>   \n6    <http://www.w3.org/1999/02/22-rdf-syntax-ns#type>   \n7         <http://www.w3.org/2000/01/rdf-schema#label>   \n8    <http://www.w3.org/2000/01/rdf-schema#subClassOf>   \n9    <http://www.w3.org/1999/02/22-rdf-syntax-ns#type>   \n10        <http://www.w3.org/2000/01/rdf-schema#label>   \n11   <http://www.w3.org/2000/01/rdf-schema#subClassOf>   \n12   <http://www.w3.org/1999/02/22-rdf-syntax-ns#type>   \n13        <http://www.w3.org/2000/01/rdf-schema#label>   \n14   <http://www.w3.org/2000/01/rdf-schema#subClassOf>   \n15   <http://www.w3.org/1999/02/22-rdf-syntax-ns#type>   \n16        <http://www.w3.org/2000/01/rdf-schema#label>   \n17   <http://www.w3.org/2000/01/rdf-schema#subClassOf>   \n18   <http://www.w3.org/1999/02/22-rdf-syntax-ns#type>   \n19        <http://www.w3.org/2000/01/rdf-schema#label>   \n20      <http://www.w3.org/2002/07/owl#intersectionOf>   \n21   <http://www.w3.org/2000/01/rdf-schema#subClassOf>   \n22   <http://www.w3.org/1999/02/22-rdf-syntax-ns#fi...   \n23   <http://www.w3.org/1999/02/22-rdf-syntax-ns#rest>   \n24   <http://www.w3.org/1999/02/22-rdf-syntax-ns#type>   \n25        <http://www.w3.org/2000/01/rdf-schema#label>   \n26   <http://www.w3.org/1999/02/22-rdf-syntax-ns#fi...   \n27   <http://www.w3.org/1999/02/22-rdf-syntax-ns#rest>   \n28   <http://www.w3.org/1999/02/22-rdf-syntax-ns#type>   \n29          <http://www.w3.org/2002/07/owl#onProperty>   \n..                                                 ...   \n262       <http://www.w3.org/2000/01/rdf-schema#label>   \n263      <http://www.w3.org/2000/01/rdf-schema#domain>   \n264       <http://www.w3.org/2000/01/rdf-schema#range>   \n265  <http://www.w3.org/1999/02/22-rdf-syntax-ns#type>   \n266       <http://www.w3.org/2000/01/rdf-schema#label>   \n267  <http://www.w3.org/1999/02/22-rdf-syntax-ns#type>   \n268       <http://www.w3.org/2000/01/rdf-schema#label>   \n269      <http://www.w3.org/2000/01/rdf-schema#domain>   \n270       <http://www.w3.org/2000/01/rdf-schema#range>   \n271  <http://www.w3.org/1999/02/22-rdf-syntax-ns#type>   \n272       <http://www.w3.org/2000/01/rdf-schema#label>   \n273      <http://www.w3.org/2000/01/rdf-schema#domain>   \n274       <http://www.w3.org/2000/01/rdf-schema#range>   \n275  <http://www.w3.org/1999/02/22-rdf-syntax-ns#type>   \n276       <http://www.w3.org/2000/01/rdf-schema#label>   \n277      <http://www.w3.org/2000/01/rdf-schema#domain>   \n278  <http://www.w3.org/1999/02/22-rdf-syntax-ns#type>   \n279       <http://www.w3.org/2000/01/rdf-schema#label>   \n280      <http://www.w3.org/2000/01/rdf-schema#domain>   \n281  <http://www.w3.org/1999/02/22-rdf-syntax-ns#type>   \n282       <http://www.w3.org/2000/01/rdf-schema#label>   \n283      <http://www.w3.org/2000/01/rdf-schema#domain>   \n284  <http://www.w3.org/1999/02/22-rdf-syntax-ns#type>   \n285       <http://www.w3.org/2000/01/rdf-schema#label>   \n286      <http://www.w3.org/2000/01/rdf-schema#domain>   \n287       <http://www.w3.org/2000/01/rdf-schema#range>   \n288  <http://www.w3.org/2000/01/rdf-schema#subPrope...   \n289  <http://www.w3.org/1999/02/22-rdf-syntax-ns#type>   \n290       <http://www.w3.org/2000/01/rdf-schema#label>   \n291  <http://www.w3.org/2000/01/rdf-schema#subPrope...   \n\n                                                object  \n0           An university ontology for benchmark tests  \n1                                  Univ-bench Ontology  \n2           univ-bench-ontology-owl, ver April 1, 2004  \n3                <http://www.w3.org/2002/07/owl#Class>  \n4                          administrative staff worker  \n5    <http://www.lehigh.edu/~zhp2/2004/0401/univ-be...  \n6                <http://www.w3.org/2002/07/owl#Class>  \n7                                              article  \n8    <http://www.lehigh.edu/~zhp2/2004/0401/univ-be...  \n9                <http://www.w3.org/2002/07/owl#Class>  \n10                                 assistant professor  \n11   <http://www.lehigh.edu/~zhp2/2004/0401/univ-be...  \n12               <http://www.w3.org/2002/07/owl#Class>  \n13                                 associate professor  \n14   <http://www.lehigh.edu/~zhp2/2004/0401/univ-be...  \n15               <http://www.w3.org/2002/07/owl#Class>  \n16                                                book  \n17   <http://www.lehigh.edu/~zhp2/2004/0401/univ-be...  \n18               <http://www.w3.org/2002/07/owl#Class>  \n19                                               chair  \n20                                            _:genid1  \n21   <http://www.lehigh.edu/~zhp2/2004/0401/univ-be...  \n22   <http://www.lehigh.edu/~zhp2/2004/0401/univ-be...  \n23                                            _:genid3  \n24               <http://www.w3.org/2002/07/owl#Class>  \n25                                              person  \n26                                            _:genid2  \n27    <http://www.w3.org/1999/02/22-rdf-syntax-ns#nil>  \n28         <http://www.w3.org/2002/07/owl#Restriction>  \n29   <http://www.lehigh.edu/~zhp2/2004/0401/univ-be...  \n..                                                 ...  \n262                                         is part of  \n263  <http://www.lehigh.edu/~zhp2/2004/0401/univ-be...  \n264  <http://www.lehigh.edu/~zhp2/2004/0401/univ-be...  \n265     <http://www.w3.org/2002/07/owl#ObjectProperty>  \n266                                          is taking  \n267     <http://www.w3.org/2002/07/owl#ObjectProperty>  \n268                                            teaches  \n269  <http://www.lehigh.edu/~zhp2/2004/0401/univ-be...  \n270  <http://www.lehigh.edu/~zhp2/2004/0401/univ-be...  \n271     <http://www.w3.org/2002/07/owl#ObjectProperty>  \n272                        is a teaching assistant for  \n273  <http://www.lehigh.edu/~zhp2/2004/0401/univ-be...  \n274  <http://www.lehigh.edu/~zhp2/2004/0401/univ-be...  \n275   <http://www.w3.org/2002/07/owl#DatatypeProperty>  \n276                                   telephone number  \n277  <http://www.lehigh.edu/~zhp2/2004/0401/univ-be...  \n278     <http://www.w3.org/2002/07/owl#ObjectProperty>  \n279                                        is tenured:  \n280  <http://www.lehigh.edu/~zhp2/2004/0401/univ-be...  \n281   <http://www.w3.org/2002/07/owl#DatatypeProperty>  \n282                                              title  \n283  <http://www.lehigh.edu/~zhp2/2004/0401/univ-be...  \n284     <http://www.w3.org/2002/07/owl#ObjectProperty>  \n285                   has an undergraduate degree from  \n286  <http://www.lehigh.edu/~zhp2/2004/0401/univ-be...  \n287  <http://www.lehigh.edu/~zhp2/2004/0401/univ-be...  \n288  <http://www.lehigh.edu/~zhp2/2004/0401/univ-be...  \n289     <http://www.w3.org/2002/07/owl#ObjectProperty>  \n290                                          Works For  \n291  <http://www.lehigh.edu/~zhp2/2004/0401/univ-be...  \n\n[292 rows x 3 columns]",
      "text/html": "<div>\n<style scoped>\n    .dataframe tbody tr th:only-of-type {\n        vertical-align: middle;\n    }\n\n    .dataframe tbody tr th {\n        vertical-align: top;\n    }\n\n    .dataframe thead th {\n        text-align: right;\n    }\n</style>\n<table border=\"1\" class=\"dataframe\">\n  <thead>\n    <tr style=\"text-align: right;\">\n      <th></th>\n      <th>subject</th>\n      <th>predicate</th>\n      <th>object</th>\n    </tr>\n  </thead>\n  <tbody>\n    <tr>\n      <th>0</th>\n      <td>&lt;http://www.lehigh.edu/~zhp2/2004/0401/univ-be...</td>\n      <td>&lt;http://www.w3.org/2000/01/rdf-schema#comment&gt;</td>\n      <td>An university ontology for benchmark tests</td>\n    </tr>\n    <tr>\n      <th>1</th>\n      <td>&lt;http://www.lehigh.edu/~zhp2/2004/0401/univ-be...</td>\n      <td>&lt;http://www.w3.org/2000/01/rdf-schema#label&gt;</td>\n      <td>Univ-bench Ontology</td>\n    </tr>\n    <tr>\n      <th>2</th>\n      <td>&lt;http://www.lehigh.edu/~zhp2/2004/0401/univ-be...</td>\n      <td>&lt;http://www.w3.org/2002/07/owl#versionInfo&gt;</td>\n      <td>univ-bench-ontology-owl, ver April 1, 2004</td>\n    </tr>\n    <tr>\n      <th>3</th>\n      <td>&lt;http://www.lehigh.edu/~zhp2/2004/0401/univ-be...</td>\n      <td>&lt;http://www.w3.org/1999/02/22-rdf-syntax-ns#type&gt;</td>\n      <td>&lt;http://www.w3.org/2002/07/owl#Class&gt;</td>\n    </tr>\n    <tr>\n      <th>4</th>\n      <td>&lt;http://www.lehigh.edu/~zhp2/2004/0401/univ-be...</td>\n      <td>&lt;http://www.w3.org/2000/01/rdf-schema#label&gt;</td>\n      <td>administrative staff worker</td>\n    </tr>\n    <tr>\n      <th>5</th>\n      <td>&lt;http://www.lehigh.edu/~zhp2/2004/0401/univ-be...</td>\n      <td>&lt;http://www.w3.org/2000/01/rdf-schema#subClassOf&gt;</td>\n      <td>&lt;http://www.lehigh.edu/~zhp2/2004/0401/univ-be...</td>\n    </tr>\n    <tr>\n      <th>6</th>\n      <td>&lt;http://www.lehigh.edu/~zhp2/2004/0401/univ-be...</td>\n      <td>&lt;http://www.w3.org/1999/02/22-rdf-syntax-ns#type&gt;</td>\n      <td>&lt;http://www.w3.org/2002/07/owl#Class&gt;</td>\n    </tr>\n    <tr>\n      <th>7</th>\n      <td>&lt;http://www.lehigh.edu/~zhp2/2004/0401/univ-be...</td>\n      <td>&lt;http://www.w3.org/2000/01/rdf-schema#label&gt;</td>\n      <td>article</td>\n    </tr>\n    <tr>\n      <th>8</th>\n      <td>&lt;http://www.lehigh.edu/~zhp2/2004/0401/univ-be...</td>\n      <td>&lt;http://www.w3.org/2000/01/rdf-schema#subClassOf&gt;</td>\n      <td>&lt;http://www.lehigh.edu/~zhp2/2004/0401/univ-be...</td>\n    </tr>\n    <tr>\n      <th>9</th>\n      <td>&lt;http://www.lehigh.edu/~zhp2/2004/0401/univ-be...</td>\n      <td>&lt;http://www.w3.org/1999/02/22-rdf-syntax-ns#type&gt;</td>\n      <td>&lt;http://www.w3.org/2002/07/owl#Class&gt;</td>\n    </tr>\n    <tr>\n      <th>10</th>\n      <td>&lt;http://www.lehigh.edu/~zhp2/2004/0401/univ-be...</td>\n      <td>&lt;http://www.w3.org/2000/01/rdf-schema#label&gt;</td>\n      <td>assistant professor</td>\n    </tr>\n    <tr>\n      <th>11</th>\n      <td>&lt;http://www.lehigh.edu/~zhp2/2004/0401/univ-be...</td>\n      <td>&lt;http://www.w3.org/2000/01/rdf-schema#subClassOf&gt;</td>\n      <td>&lt;http://www.lehigh.edu/~zhp2/2004/0401/univ-be...</td>\n    </tr>\n    <tr>\n      <th>12</th>\n      <td>&lt;http://www.lehigh.edu/~zhp2/2004/0401/univ-be...</td>\n      <td>&lt;http://www.w3.org/1999/02/22-rdf-syntax-ns#type&gt;</td>\n      <td>&lt;http://www.w3.org/2002/07/owl#Class&gt;</td>\n    </tr>\n    <tr>\n      <th>13</th>\n      <td>&lt;http://www.lehigh.edu/~zhp2/2004/0401/univ-be...</td>\n      <td>&lt;http://www.w3.org/2000/01/rdf-schema#label&gt;</td>\n      <td>associate professor</td>\n    </tr>\n    <tr>\n      <th>14</th>\n      <td>&lt;http://www.lehigh.edu/~zhp2/2004/0401/univ-be...</td>\n      <td>&lt;http://www.w3.org/2000/01/rdf-schema#subClassOf&gt;</td>\n      <td>&lt;http://www.lehigh.edu/~zhp2/2004/0401/univ-be...</td>\n    </tr>\n    <tr>\n      <th>15</th>\n      <td>&lt;http://www.lehigh.edu/~zhp2/2004/0401/univ-be...</td>\n      <td>&lt;http://www.w3.org/1999/02/22-rdf-syntax-ns#type&gt;</td>\n      <td>&lt;http://www.w3.org/2002/07/owl#Class&gt;</td>\n    </tr>\n    <tr>\n      <th>16</th>\n      <td>&lt;http://www.lehigh.edu/~zhp2/2004/0401/univ-be...</td>\n      <td>&lt;http://www.w3.org/2000/01/rdf-schema#label&gt;</td>\n      <td>book</td>\n    </tr>\n    <tr>\n      <th>17</th>\n      <td>&lt;http://www.lehigh.edu/~zhp2/2004/0401/univ-be...</td>\n      <td>&lt;http://www.w3.org/2000/01/rdf-schema#subClassOf&gt;</td>\n      <td>&lt;http://www.lehigh.edu/~zhp2/2004/0401/univ-be...</td>\n    </tr>\n    <tr>\n      <th>18</th>\n      <td>&lt;http://www.lehigh.edu/~zhp2/2004/0401/univ-be...</td>\n      <td>&lt;http://www.w3.org/1999/02/22-rdf-syntax-ns#type&gt;</td>\n      <td>&lt;http://www.w3.org/2002/07/owl#Class&gt;</td>\n    </tr>\n    <tr>\n      <th>19</th>\n      <td>&lt;http://www.lehigh.edu/~zhp2/2004/0401/univ-be...</td>\n      <td>&lt;http://www.w3.org/2000/01/rdf-schema#label&gt;</td>\n      <td>chair</td>\n    </tr>\n    <tr>\n      <th>20</th>\n      <td>&lt;http://www.lehigh.edu/~zhp2/2004/0401/univ-be...</td>\n      <td>&lt;http://www.w3.org/2002/07/owl#intersectionOf&gt;</td>\n      <td>_:genid1</td>\n    </tr>\n    <tr>\n      <th>21</th>\n      <td>&lt;http://www.lehigh.edu/~zhp2/2004/0401/univ-be...</td>\n      <td>&lt;http://www.w3.org/2000/01/rdf-schema#subClassOf&gt;</td>\n      <td>&lt;http://www.lehigh.edu/~zhp2/2004/0401/univ-be...</td>\n    </tr>\n    <tr>\n      <th>22</th>\n      <td>_:genid1</td>\n      <td>&lt;http://www.w3.org/1999/02/22-rdf-syntax-ns#fi...</td>\n      <td>&lt;http://www.lehigh.edu/~zhp2/2004/0401/univ-be...</td>\n    </tr>\n    <tr>\n      <th>23</th>\n      <td>_:genid1</td>\n      <td>&lt;http://www.w3.org/1999/02/22-rdf-syntax-ns#rest&gt;</td>\n      <td>_:genid3</td>\n    </tr>\n    <tr>\n      <th>24</th>\n      <td>&lt;http://www.lehigh.edu/~zhp2/2004/0401/univ-be...</td>\n      <td>&lt;http://www.w3.org/1999/02/22-rdf-syntax-ns#type&gt;</td>\n      <td>&lt;http://www.w3.org/2002/07/owl#Class&gt;</td>\n    </tr>\n    <tr>\n      <th>25</th>\n      <td>&lt;http://www.lehigh.edu/~zhp2/2004/0401/univ-be...</td>\n      <td>&lt;http://www.w3.org/2000/01/rdf-schema#label&gt;</td>\n      <td>person</td>\n    </tr>\n    <tr>\n      <th>26</th>\n      <td>_:genid3</td>\n      <td>&lt;http://www.w3.org/1999/02/22-rdf-syntax-ns#fi...</td>\n      <td>_:genid2</td>\n    </tr>\n    <tr>\n      <th>27</th>\n      <td>_:genid3</td>\n      <td>&lt;http://www.w3.org/1999/02/22-rdf-syntax-ns#rest&gt;</td>\n      <td>&lt;http://www.w3.org/1999/02/22-rdf-syntax-ns#nil&gt;</td>\n    </tr>\n    <tr>\n      <th>28</th>\n      <td>_:genid2</td>\n      <td>&lt;http://www.w3.org/1999/02/22-rdf-syntax-ns#type&gt;</td>\n      <td>&lt;http://www.w3.org/2002/07/owl#Restriction&gt;</td>\n    </tr>\n    <tr>\n      <th>29</th>\n      <td>_:genid2</td>\n      <td>&lt;http://www.w3.org/2002/07/owl#onProperty&gt;</td>\n      <td>&lt;http://www.lehigh.edu/~zhp2/2004/0401/univ-be...</td>\n    </tr>\n    <tr>\n      <th>...</th>\n      <td>...</td>\n      <td>...</td>\n      <td>...</td>\n    </tr>\n    <tr>\n      <th>262</th>\n      <td>&lt;http://www.lehigh.edu/~zhp2/2004/0401/univ-be...</td>\n      <td>&lt;http://www.w3.org/2000/01/rdf-schema#label&gt;</td>\n      <td>is part of</td>\n    </tr>\n    <tr>\n      <th>263</th>\n      <td>&lt;http://www.lehigh.edu/~zhp2/2004/0401/univ-be...</td>\n      <td>&lt;http://www.w3.org/2000/01/rdf-schema#domain&gt;</td>\n      <td>&lt;http://www.lehigh.edu/~zhp2/2004/0401/univ-be...</td>\n    </tr>\n    <tr>\n      <th>264</th>\n      <td>&lt;http://www.lehigh.edu/~zhp2/2004/0401/univ-be...</td>\n      <td>&lt;http://www.w3.org/2000/01/rdf-schema#range&gt;</td>\n      <td>&lt;http://www.lehigh.edu/~zhp2/2004/0401/univ-be...</td>\n    </tr>\n    <tr>\n      <th>265</th>\n      <td>&lt;http://www.lehigh.edu/~zhp2/2004/0401/univ-be...</td>\n      <td>&lt;http://www.w3.org/1999/02/22-rdf-syntax-ns#type&gt;</td>\n      <td>&lt;http://www.w3.org/2002/07/owl#ObjectProperty&gt;</td>\n    </tr>\n    <tr>\n      <th>266</th>\n      <td>&lt;http://www.lehigh.edu/~zhp2/2004/0401/univ-be...</td>\n      <td>&lt;http://www.w3.org/2000/01/rdf-schema#label&gt;</td>\n      <td>is taking</td>\n    </tr>\n    <tr>\n      <th>267</th>\n      <td>&lt;http://www.lehigh.edu/~zhp2/2004/0401/univ-be...</td>\n      <td>&lt;http://www.w3.org/1999/02/22-rdf-syntax-ns#type&gt;</td>\n      <td>&lt;http://www.w3.org/2002/07/owl#ObjectProperty&gt;</td>\n    </tr>\n    <tr>\n      <th>268</th>\n      <td>&lt;http://www.lehigh.edu/~zhp2/2004/0401/univ-be...</td>\n      <td>&lt;http://www.w3.org/2000/01/rdf-schema#label&gt;</td>\n      <td>teaches</td>\n    </tr>\n    <tr>\n      <th>269</th>\n      <td>&lt;http://www.lehigh.edu/~zhp2/2004/0401/univ-be...</td>\n      <td>&lt;http://www.w3.org/2000/01/rdf-schema#domain&gt;</td>\n      <td>&lt;http://www.lehigh.edu/~zhp2/2004/0401/univ-be...</td>\n    </tr>\n    <tr>\n      <th>270</th>\n      <td>&lt;http://www.lehigh.edu/~zhp2/2004/0401/univ-be...</td>\n      <td>&lt;http://www.w3.org/2000/01/rdf-schema#range&gt;</td>\n      <td>&lt;http://www.lehigh.edu/~zhp2/2004/0401/univ-be...</td>\n    </tr>\n    <tr>\n      <th>271</th>\n      <td>&lt;http://www.lehigh.edu/~zhp2/2004/0401/univ-be...</td>\n      <td>&lt;http://www.w3.org/1999/02/22-rdf-syntax-ns#type&gt;</td>\n      <td>&lt;http://www.w3.org/2002/07/owl#ObjectProperty&gt;</td>\n    </tr>\n    <tr>\n      <th>272</th>\n      <td>&lt;http://www.lehigh.edu/~zhp2/2004/0401/univ-be...</td>\n      <td>&lt;http://www.w3.org/2000/01/rdf-schema#label&gt;</td>\n      <td>is a teaching assistant for</td>\n    </tr>\n    <tr>\n      <th>273</th>\n      <td>&lt;http://www.lehigh.edu/~zhp2/2004/0401/univ-be...</td>\n      <td>&lt;http://www.w3.org/2000/01/rdf-schema#domain&gt;</td>\n      <td>&lt;http://www.lehigh.edu/~zhp2/2004/0401/univ-be...</td>\n    </tr>\n    <tr>\n      <th>274</th>\n      <td>&lt;http://www.lehigh.edu/~zhp2/2004/0401/univ-be...</td>\n      <td>&lt;http://www.w3.org/2000/01/rdf-schema#range&gt;</td>\n      <td>&lt;http://www.lehigh.edu/~zhp2/2004/0401/univ-be...</td>\n    </tr>\n    <tr>\n      <th>275</th>\n      <td>&lt;http://www.lehigh.edu/~zhp2/2004/0401/univ-be...</td>\n      <td>&lt;http://www.w3.org/1999/02/22-rdf-syntax-ns#type&gt;</td>\n      <td>&lt;http://www.w3.org/2002/07/owl#DatatypeProperty&gt;</td>\n    </tr>\n    <tr>\n      <th>276</th>\n      <td>&lt;http://www.lehigh.edu/~zhp2/2004/0401/univ-be...</td>\n      <td>&lt;http://www.w3.org/2000/01/rdf-schema#label&gt;</td>\n      <td>telephone number</td>\n    </tr>\n    <tr>\n      <th>277</th>\n      <td>&lt;http://www.lehigh.edu/~zhp2/2004/0401/univ-be...</td>\n      <td>&lt;http://www.w3.org/2000/01/rdf-schema#domain&gt;</td>\n      <td>&lt;http://www.lehigh.edu/~zhp2/2004/0401/univ-be...</td>\n    </tr>\n    <tr>\n      <th>278</th>\n      <td>&lt;http://www.lehigh.edu/~zhp2/2004/0401/univ-be...</td>\n      <td>&lt;http://www.w3.org/1999/02/22-rdf-syntax-ns#type&gt;</td>\n      <td>&lt;http://www.w3.org/2002/07/owl#ObjectProperty&gt;</td>\n    </tr>\n    <tr>\n      <th>279</th>\n      <td>&lt;http://www.lehigh.edu/~zhp2/2004/0401/univ-be...</td>\n      <td>&lt;http://www.w3.org/2000/01/rdf-schema#label&gt;</td>\n      <td>is tenured:</td>\n    </tr>\n    <tr>\n      <th>280</th>\n      <td>&lt;http://www.lehigh.edu/~zhp2/2004/0401/univ-be...</td>\n      <td>&lt;http://www.w3.org/2000/01/rdf-schema#domain&gt;</td>\n      <td>&lt;http://www.lehigh.edu/~zhp2/2004/0401/univ-be...</td>\n    </tr>\n    <tr>\n      <th>281</th>\n      <td>&lt;http://www.lehigh.edu/~zhp2/2004/0401/univ-be...</td>\n      <td>&lt;http://www.w3.org/1999/02/22-rdf-syntax-ns#type&gt;</td>\n      <td>&lt;http://www.w3.org/2002/07/owl#DatatypeProperty&gt;</td>\n    </tr>\n    <tr>\n      <th>282</th>\n      <td>&lt;http://www.lehigh.edu/~zhp2/2004/0401/univ-be...</td>\n      <td>&lt;http://www.w3.org/2000/01/rdf-schema#label&gt;</td>\n      <td>title</td>\n    </tr>\n    <tr>\n      <th>283</th>\n      <td>&lt;http://www.lehigh.edu/~zhp2/2004/0401/univ-be...</td>\n      <td>&lt;http://www.w3.org/2000/01/rdf-schema#domain&gt;</td>\n      <td>&lt;http://www.lehigh.edu/~zhp2/2004/0401/univ-be...</td>\n    </tr>\n    <tr>\n      <th>284</th>\n      <td>&lt;http://www.lehigh.edu/~zhp2/2004/0401/univ-be...</td>\n      <td>&lt;http://www.w3.org/1999/02/22-rdf-syntax-ns#type&gt;</td>\n      <td>&lt;http://www.w3.org/2002/07/owl#ObjectProperty&gt;</td>\n    </tr>\n    <tr>\n      <th>285</th>\n      <td>&lt;http://www.lehigh.edu/~zhp2/2004/0401/univ-be...</td>\n      <td>&lt;http://www.w3.org/2000/01/rdf-schema#label&gt;</td>\n      <td>has an undergraduate degree from</td>\n    </tr>\n    <tr>\n      <th>286</th>\n      <td>&lt;http://www.lehigh.edu/~zhp2/2004/0401/univ-be...</td>\n      <td>&lt;http://www.w3.org/2000/01/rdf-schema#domain&gt;</td>\n      <td>&lt;http://www.lehigh.edu/~zhp2/2004/0401/univ-be...</td>\n    </tr>\n    <tr>\n      <th>287</th>\n      <td>&lt;http://www.lehigh.edu/~zhp2/2004/0401/univ-be...</td>\n      <td>&lt;http://www.w3.org/2000/01/rdf-schema#range&gt;</td>\n      <td>&lt;http://www.lehigh.edu/~zhp2/2004/0401/univ-be...</td>\n    </tr>\n    <tr>\n      <th>288</th>\n      <td>&lt;http://www.lehigh.edu/~zhp2/2004/0401/univ-be...</td>\n      <td>&lt;http://www.w3.org/2000/01/rdf-schema#subPrope...</td>\n      <td>&lt;http://www.lehigh.edu/~zhp2/2004/0401/univ-be...</td>\n    </tr>\n    <tr>\n      <th>289</th>\n      <td>&lt;http://www.lehigh.edu/~zhp2/2004/0401/univ-be...</td>\n      <td>&lt;http://www.w3.org/1999/02/22-rdf-syntax-ns#type&gt;</td>\n      <td>&lt;http://www.w3.org/2002/07/owl#ObjectProperty&gt;</td>\n    </tr>\n    <tr>\n      <th>290</th>\n      <td>&lt;http://www.lehigh.edu/~zhp2/2004/0401/univ-be...</td>\n      <td>&lt;http://www.w3.org/2000/01/rdf-schema#label&gt;</td>\n      <td>Works For</td>\n    </tr>\n    <tr>\n      <th>291</th>\n      <td>&lt;http://www.lehigh.edu/~zhp2/2004/0401/univ-be...</td>\n      <td>&lt;http://www.w3.org/2000/01/rdf-schema#subPrope...</td>\n      <td>&lt;http://www.lehigh.edu/~zhp2/2004/0401/univ-be...</td>\n    </tr>\n  </tbody>\n</table>\n<p>292 rows × 3 columns</p>\n</div>"
     },
     "execution_count": 205,
     "metadata": {},
     "output_type": "execute_result"
    }
   ],
   "source": [
    "df2"
   ],
   "metadata": {
    "collapsed": false
   }
  },
  {
   "cell_type": "code",
   "execution_count": 206,
   "outputs": [
    {
     "data": {
      "text/plain": "     index            type                                                uri\n112      0  property_group       http://www.w3.org/2000/01/rdf-schema#seeAlso\n113      0  property_group   http://www.w3.org/2000/01/rdf-schema#isDefinedBy\n114      1  property_group      http://www.w3.org/1999/02/22-rdf-syntax-ns#_1\n115      1  property_group        http://www.w3.org/2000/01/rdf-schema#member\n116      2  property_group  http://swat.cse.lehigh.edu/onto/univ-bench.owl...\n117      2  property_group  http://swat.cse.lehigh.edu/onto/univ-bench.owl...\n118      2  property_group  http://swat.cse.lehigh.edu/onto/univ-bench.owl...\n119      3  property_group  http://swat.cse.lehigh.edu/onto/univ-bench.owl...\n120      3  property_group  http://swat.cse.lehigh.edu/onto/univ-bench.owl...\n121      3  property_group  http://swat.cse.lehigh.edu/onto/univ-bench.owl...\n122      3  property_group  http://swat.cse.lehigh.edu/onto/univ-bench.owl...\n123      4  property_group    http://www.w3.org/1999/02/22-rdf-syntax-ns#type\n124      5  property_group  http://swat.cse.lehigh.edu/onto/univ-bench.owl...\n125      6  property_group  http://swat.cse.lehigh.edu/onto/univ-bench.owl...\n126      7  property_group  http://swat.cse.lehigh.edu/onto/univ-bench.owl...\n127      8  property_group  http://swat.cse.lehigh.edu/onto/univ-bench.owl...\n128      9  property_group  http://swat.cse.lehigh.edu/onto/univ-bench.owl...\n129     10  property_group  http://swat.cse.lehigh.edu/onto/univ-bench.owl...\n130     11  property_group  http://swat.cse.lehigh.edu/onto/univ-bench.owl...\n131     12  property_group  http://swat.cse.lehigh.edu/onto/univ-bench.owl...\n132     13  property_group  http://swat.cse.lehigh.edu/onto/univ-bench.owl...\n133     14  property_group  http://swat.cse.lehigh.edu/onto/univ-bench.owl...\n134     15  property_group  http://swat.cse.lehigh.edu/onto/univ-bench.owl...\n135     16  property_group  http://swat.cse.lehigh.edu/onto/univ-bench.owl...\n136     17  property_group  http://swat.cse.lehigh.edu/onto/univ-bench.owl...\n137     18  property_group  http://swat.cse.lehigh.edu/onto/univ-bench.owl...\n138     19  property_group  http://swat.cse.lehigh.edu/onto/univ-bench.owl...\n139     20  property_group  http://swat.cse.lehigh.edu/onto/univ-bench.owl...\n140     21  property_group  http://swat.cse.lehigh.edu/onto/univ-bench.owl...\n141     22  property_group  http://swat.cse.lehigh.edu/onto/univ-bench.owl...\n142     23  property_group  http://swat.cse.lehigh.edu/onto/univ-bench.owl...\n143     24  property_group  http://swat.cse.lehigh.edu/onto/univ-bench.owl...\n144     25  property_group  http://swat.cse.lehigh.edu/onto/univ-bench.owl...\n145     26  property_group  http://swat.cse.lehigh.edu/onto/univ-bench.owl...\n146     27  property_group  http://swat.cse.lehigh.edu/onto/univ-bench.owl...\n147     28  property_group  http://swat.cse.lehigh.edu/onto/univ-bench.owl...\n148     29  property_group   http://www.w3.org/1999/02/22-rdf-syntax-ns#first\n149     30  property_group  http://www.w3.org/1999/02/22-rdf-syntax-ns#object\n150     31  property_group  http://www.w3.org/1999/02/22-rdf-syntax-ns#pre...\n151     32  property_group    http://www.w3.org/1999/02/22-rdf-syntax-ns#rest\n152     33  property_group  http://www.w3.org/1999/02/22-rdf-syntax-ns#sub...\n153     34  property_group   http://www.w3.org/1999/02/22-rdf-syntax-ns#value\n154     35  property_group       http://www.w3.org/2000/01/rdf-schema#comment\n155     36  property_group        http://www.w3.org/2000/01/rdf-schema#domain\n156     37  property_group         http://www.w3.org/2000/01/rdf-schema#label\n157     38  property_group         http://www.w3.org/2000/01/rdf-schema#range\n158     39  property_group    http://www.w3.org/2000/01/rdf-schema#subClassOf\n159     40  property_group  http://www.w3.org/2000/01/rdf-schema#subProper...\n160     41  property_group              http://www.w3.org/2002/07/owl#imports\n161     42  property_group       http://www.w3.org/2002/07/owl#intersectionOf\n162     43  property_group            http://www.w3.org/2002/07/owl#inverseOf\n163     44  property_group           http://www.w3.org/2002/07/owl#onProperty\n164     45  property_group       http://www.w3.org/2002/07/owl#someValuesFrom\n165     46  property_group          http://www.w3.org/2002/07/owl#versionInfo",
      "text/html": "<div>\n<style scoped>\n    .dataframe tbody tr th:only-of-type {\n        vertical-align: middle;\n    }\n\n    .dataframe tbody tr th {\n        vertical-align: top;\n    }\n\n    .dataframe thead th {\n        text-align: right;\n    }\n</style>\n<table border=\"1\" class=\"dataframe\">\n  <thead>\n    <tr style=\"text-align: right;\">\n      <th></th>\n      <th>index</th>\n      <th>type</th>\n      <th>uri</th>\n    </tr>\n  </thead>\n  <tbody>\n    <tr>\n      <th>112</th>\n      <td>0</td>\n      <td>property_group</td>\n      <td>http://www.w3.org/2000/01/rdf-schema#seeAlso</td>\n    </tr>\n    <tr>\n      <th>113</th>\n      <td>0</td>\n      <td>property_group</td>\n      <td>http://www.w3.org/2000/01/rdf-schema#isDefinedBy</td>\n    </tr>\n    <tr>\n      <th>114</th>\n      <td>1</td>\n      <td>property_group</td>\n      <td>http://www.w3.org/1999/02/22-rdf-syntax-ns#_1</td>\n    </tr>\n    <tr>\n      <th>115</th>\n      <td>1</td>\n      <td>property_group</td>\n      <td>http://www.w3.org/2000/01/rdf-schema#member</td>\n    </tr>\n    <tr>\n      <th>116</th>\n      <td>2</td>\n      <td>property_group</td>\n      <td>http://swat.cse.lehigh.edu/onto/univ-bench.owl...</td>\n    </tr>\n    <tr>\n      <th>117</th>\n      <td>2</td>\n      <td>property_group</td>\n      <td>http://swat.cse.lehigh.edu/onto/univ-bench.owl...</td>\n    </tr>\n    <tr>\n      <th>118</th>\n      <td>2</td>\n      <td>property_group</td>\n      <td>http://swat.cse.lehigh.edu/onto/univ-bench.owl...</td>\n    </tr>\n    <tr>\n      <th>119</th>\n      <td>3</td>\n      <td>property_group</td>\n      <td>http://swat.cse.lehigh.edu/onto/univ-bench.owl...</td>\n    </tr>\n    <tr>\n      <th>120</th>\n      <td>3</td>\n      <td>property_group</td>\n      <td>http://swat.cse.lehigh.edu/onto/univ-bench.owl...</td>\n    </tr>\n    <tr>\n      <th>121</th>\n      <td>3</td>\n      <td>property_group</td>\n      <td>http://swat.cse.lehigh.edu/onto/univ-bench.owl...</td>\n    </tr>\n    <tr>\n      <th>122</th>\n      <td>3</td>\n      <td>property_group</td>\n      <td>http://swat.cse.lehigh.edu/onto/univ-bench.owl...</td>\n    </tr>\n    <tr>\n      <th>123</th>\n      <td>4</td>\n      <td>property_group</td>\n      <td>http://www.w3.org/1999/02/22-rdf-syntax-ns#type</td>\n    </tr>\n    <tr>\n      <th>124</th>\n      <td>5</td>\n      <td>property_group</td>\n      <td>http://swat.cse.lehigh.edu/onto/univ-bench.owl...</td>\n    </tr>\n    <tr>\n      <th>125</th>\n      <td>6</td>\n      <td>property_group</td>\n      <td>http://swat.cse.lehigh.edu/onto/univ-bench.owl...</td>\n    </tr>\n    <tr>\n      <th>126</th>\n      <td>7</td>\n      <td>property_group</td>\n      <td>http://swat.cse.lehigh.edu/onto/univ-bench.owl...</td>\n    </tr>\n    <tr>\n      <th>127</th>\n      <td>8</td>\n      <td>property_group</td>\n      <td>http://swat.cse.lehigh.edu/onto/univ-bench.owl...</td>\n    </tr>\n    <tr>\n      <th>128</th>\n      <td>9</td>\n      <td>property_group</td>\n      <td>http://swat.cse.lehigh.edu/onto/univ-bench.owl...</td>\n    </tr>\n    <tr>\n      <th>129</th>\n      <td>10</td>\n      <td>property_group</td>\n      <td>http://swat.cse.lehigh.edu/onto/univ-bench.owl...</td>\n    </tr>\n    <tr>\n      <th>130</th>\n      <td>11</td>\n      <td>property_group</td>\n      <td>http://swat.cse.lehigh.edu/onto/univ-bench.owl...</td>\n    </tr>\n    <tr>\n      <th>131</th>\n      <td>12</td>\n      <td>property_group</td>\n      <td>http://swat.cse.lehigh.edu/onto/univ-bench.owl...</td>\n    </tr>\n    <tr>\n      <th>132</th>\n      <td>13</td>\n      <td>property_group</td>\n      <td>http://swat.cse.lehigh.edu/onto/univ-bench.owl...</td>\n    </tr>\n    <tr>\n      <th>133</th>\n      <td>14</td>\n      <td>property_group</td>\n      <td>http://swat.cse.lehigh.edu/onto/univ-bench.owl...</td>\n    </tr>\n    <tr>\n      <th>134</th>\n      <td>15</td>\n      <td>property_group</td>\n      <td>http://swat.cse.lehigh.edu/onto/univ-bench.owl...</td>\n    </tr>\n    <tr>\n      <th>135</th>\n      <td>16</td>\n      <td>property_group</td>\n      <td>http://swat.cse.lehigh.edu/onto/univ-bench.owl...</td>\n    </tr>\n    <tr>\n      <th>136</th>\n      <td>17</td>\n      <td>property_group</td>\n      <td>http://swat.cse.lehigh.edu/onto/univ-bench.owl...</td>\n    </tr>\n    <tr>\n      <th>137</th>\n      <td>18</td>\n      <td>property_group</td>\n      <td>http://swat.cse.lehigh.edu/onto/univ-bench.owl...</td>\n    </tr>\n    <tr>\n      <th>138</th>\n      <td>19</td>\n      <td>property_group</td>\n      <td>http://swat.cse.lehigh.edu/onto/univ-bench.owl...</td>\n    </tr>\n    <tr>\n      <th>139</th>\n      <td>20</td>\n      <td>property_group</td>\n      <td>http://swat.cse.lehigh.edu/onto/univ-bench.owl...</td>\n    </tr>\n    <tr>\n      <th>140</th>\n      <td>21</td>\n      <td>property_group</td>\n      <td>http://swat.cse.lehigh.edu/onto/univ-bench.owl...</td>\n    </tr>\n    <tr>\n      <th>141</th>\n      <td>22</td>\n      <td>property_group</td>\n      <td>http://swat.cse.lehigh.edu/onto/univ-bench.owl...</td>\n    </tr>\n    <tr>\n      <th>142</th>\n      <td>23</td>\n      <td>property_group</td>\n      <td>http://swat.cse.lehigh.edu/onto/univ-bench.owl...</td>\n    </tr>\n    <tr>\n      <th>143</th>\n      <td>24</td>\n      <td>property_group</td>\n      <td>http://swat.cse.lehigh.edu/onto/univ-bench.owl...</td>\n    </tr>\n    <tr>\n      <th>144</th>\n      <td>25</td>\n      <td>property_group</td>\n      <td>http://swat.cse.lehigh.edu/onto/univ-bench.owl...</td>\n    </tr>\n    <tr>\n      <th>145</th>\n      <td>26</td>\n      <td>property_group</td>\n      <td>http://swat.cse.lehigh.edu/onto/univ-bench.owl...</td>\n    </tr>\n    <tr>\n      <th>146</th>\n      <td>27</td>\n      <td>property_group</td>\n      <td>http://swat.cse.lehigh.edu/onto/univ-bench.owl...</td>\n    </tr>\n    <tr>\n      <th>147</th>\n      <td>28</td>\n      <td>property_group</td>\n      <td>http://swat.cse.lehigh.edu/onto/univ-bench.owl...</td>\n    </tr>\n    <tr>\n      <th>148</th>\n      <td>29</td>\n      <td>property_group</td>\n      <td>http://www.w3.org/1999/02/22-rdf-syntax-ns#first</td>\n    </tr>\n    <tr>\n      <th>149</th>\n      <td>30</td>\n      <td>property_group</td>\n      <td>http://www.w3.org/1999/02/22-rdf-syntax-ns#object</td>\n    </tr>\n    <tr>\n      <th>150</th>\n      <td>31</td>\n      <td>property_group</td>\n      <td>http://www.w3.org/1999/02/22-rdf-syntax-ns#pre...</td>\n    </tr>\n    <tr>\n      <th>151</th>\n      <td>32</td>\n      <td>property_group</td>\n      <td>http://www.w3.org/1999/02/22-rdf-syntax-ns#rest</td>\n    </tr>\n    <tr>\n      <th>152</th>\n      <td>33</td>\n      <td>property_group</td>\n      <td>http://www.w3.org/1999/02/22-rdf-syntax-ns#sub...</td>\n    </tr>\n    <tr>\n      <th>153</th>\n      <td>34</td>\n      <td>property_group</td>\n      <td>http://www.w3.org/1999/02/22-rdf-syntax-ns#value</td>\n    </tr>\n    <tr>\n      <th>154</th>\n      <td>35</td>\n      <td>property_group</td>\n      <td>http://www.w3.org/2000/01/rdf-schema#comment</td>\n    </tr>\n    <tr>\n      <th>155</th>\n      <td>36</td>\n      <td>property_group</td>\n      <td>http://www.w3.org/2000/01/rdf-schema#domain</td>\n    </tr>\n    <tr>\n      <th>156</th>\n      <td>37</td>\n      <td>property_group</td>\n      <td>http://www.w3.org/2000/01/rdf-schema#label</td>\n    </tr>\n    <tr>\n      <th>157</th>\n      <td>38</td>\n      <td>property_group</td>\n      <td>http://www.w3.org/2000/01/rdf-schema#range</td>\n    </tr>\n    <tr>\n      <th>158</th>\n      <td>39</td>\n      <td>property_group</td>\n      <td>http://www.w3.org/2000/01/rdf-schema#subClassOf</td>\n    </tr>\n    <tr>\n      <th>159</th>\n      <td>40</td>\n      <td>property_group</td>\n      <td>http://www.w3.org/2000/01/rdf-schema#subProper...</td>\n    </tr>\n    <tr>\n      <th>160</th>\n      <td>41</td>\n      <td>property_group</td>\n      <td>http://www.w3.org/2002/07/owl#imports</td>\n    </tr>\n    <tr>\n      <th>161</th>\n      <td>42</td>\n      <td>property_group</td>\n      <td>http://www.w3.org/2002/07/owl#intersectionOf</td>\n    </tr>\n    <tr>\n      <th>162</th>\n      <td>43</td>\n      <td>property_group</td>\n      <td>http://www.w3.org/2002/07/owl#inverseOf</td>\n    </tr>\n    <tr>\n      <th>163</th>\n      <td>44</td>\n      <td>property_group</td>\n      <td>http://www.w3.org/2002/07/owl#onProperty</td>\n    </tr>\n    <tr>\n      <th>164</th>\n      <td>45</td>\n      <td>property_group</td>\n      <td>http://www.w3.org/2002/07/owl#someValuesFrom</td>\n    </tr>\n    <tr>\n      <th>165</th>\n      <td>46</td>\n      <td>property_group</td>\n      <td>http://www.w3.org/2002/07/owl#versionInfo</td>\n    </tr>\n  </tbody>\n</table>\n</div>"
     },
     "execution_count": 206,
     "metadata": {},
     "output_type": "execute_result"
    }
   ],
   "source": [
    "df[df.type==\"property_group\"]"
   ],
   "metadata": {
    "collapsed": false
   }
  },
  {
   "cell_type": "code",
   "execution_count": 207,
   "outputs": [
    {
     "data": {
      "text/plain": "array(['class', 'property', 'property_group'], dtype=object)"
     },
     "execution_count": 207,
     "metadata": {},
     "output_type": "execute_result"
    }
   ],
   "source": [
    "df.type.unique()"
   ],
   "metadata": {
    "collapsed": false
   }
  },
  {
   "cell_type": "code",
   "execution_count": 208,
   "outputs": [
    {
     "data": {
      "text/plain": "58       http://www.w3.org/1999/02/22-rdf-syntax-ns#type\n59     http://swat.cse.lehigh.edu/onto/univ-bench.owl...\n60     http://swat.cse.lehigh.edu/onto/univ-bench.owl...\n61     http://swat.cse.lehigh.edu/onto/univ-bench.owl...\n62     http://swat.cse.lehigh.edu/onto/univ-bench.owl...\n63     http://swat.cse.lehigh.edu/onto/univ-bench.owl...\n64     http://swat.cse.lehigh.edu/onto/univ-bench.owl...\n65     http://swat.cse.lehigh.edu/onto/univ-bench.owl...\n66     http://swat.cse.lehigh.edu/onto/univ-bench.owl...\n67     http://swat.cse.lehigh.edu/onto/univ-bench.owl...\n68     http://swat.cse.lehigh.edu/onto/univ-bench.owl...\n69     http://swat.cse.lehigh.edu/onto/univ-bench.owl...\n70     http://swat.cse.lehigh.edu/onto/univ-bench.owl...\n71     http://swat.cse.lehigh.edu/onto/univ-bench.owl...\n72     http://swat.cse.lehigh.edu/onto/univ-bench.owl...\n73     http://swat.cse.lehigh.edu/onto/univ-bench.owl...\n74     http://swat.cse.lehigh.edu/onto/univ-bench.owl...\n75     http://swat.cse.lehigh.edu/onto/univ-bench.owl...\n76     http://swat.cse.lehigh.edu/onto/univ-bench.owl...\n77     http://swat.cse.lehigh.edu/onto/univ-bench.owl...\n78     http://swat.cse.lehigh.edu/onto/univ-bench.owl...\n79     http://swat.cse.lehigh.edu/onto/univ-bench.owl...\n80     http://swat.cse.lehigh.edu/onto/univ-bench.owl...\n81     http://swat.cse.lehigh.edu/onto/univ-bench.owl...\n82     http://swat.cse.lehigh.edu/onto/univ-bench.owl...\n83     http://swat.cse.lehigh.edu/onto/univ-bench.owl...\n84     http://swat.cse.lehigh.edu/onto/univ-bench.owl...\n85     http://swat.cse.lehigh.edu/onto/univ-bench.owl...\n86     http://swat.cse.lehigh.edu/onto/univ-bench.owl...\n87     http://swat.cse.lehigh.edu/onto/univ-bench.owl...\n88     http://swat.cse.lehigh.edu/onto/univ-bench.owl...\n89     http://swat.cse.lehigh.edu/onto/univ-bench.owl...\n90         http://www.w3.org/1999/02/22-rdf-syntax-ns#_1\n91      http://www.w3.org/1999/02/22-rdf-syntax-ns#first\n92     http://www.w3.org/1999/02/22-rdf-syntax-ns#object\n93     http://www.w3.org/1999/02/22-rdf-syntax-ns#pre...\n94       http://www.w3.org/1999/02/22-rdf-syntax-ns#rest\n95     http://www.w3.org/1999/02/22-rdf-syntax-ns#sub...\n96      http://www.w3.org/1999/02/22-rdf-syntax-ns#value\n97          http://www.w3.org/2000/01/rdf-schema#comment\n98           http://www.w3.org/2000/01/rdf-schema#domain\n99      http://www.w3.org/2000/01/rdf-schema#isDefinedBy\n100           http://www.w3.org/2000/01/rdf-schema#label\n101          http://www.w3.org/2000/01/rdf-schema#member\n102           http://www.w3.org/2000/01/rdf-schema#range\n103         http://www.w3.org/2000/01/rdf-schema#seeAlso\n104      http://www.w3.org/2000/01/rdf-schema#subClassOf\n105    http://www.w3.org/2000/01/rdf-schema#subProper...\n106                http://www.w3.org/2002/07/owl#imports\n107         http://www.w3.org/2002/07/owl#intersectionOf\n108              http://www.w3.org/2002/07/owl#inverseOf\n109             http://www.w3.org/2002/07/owl#onProperty\n110         http://www.w3.org/2002/07/owl#someValuesFrom\n111            http://www.w3.org/2002/07/owl#versionInfo\nName: uri, dtype: object"
     },
     "execution_count": 208,
     "metadata": {},
     "output_type": "execute_result"
    }
   ],
   "source": [
    "df[df.type==\"property\"].uri"
   ],
   "metadata": {
    "collapsed": false
   }
  },
  {
   "cell_type": "code",
   "execution_count": 209,
   "outputs": [],
   "source": [
    "df1_properties = df[df.type==\"property\"].uri"
   ],
   "metadata": {
    "collapsed": false
   }
  },
  {
   "cell_type": "code",
   "execution_count": 210,
   "outputs": [],
   "source": [
    "df1_classes = df[df.type==\"class\"].uri"
   ],
   "metadata": {
    "collapsed": false
   }
  },
  {
   "cell_type": "code",
   "execution_count": 211,
   "outputs": [
    {
     "data": {
      "text/plain": "112         http://www.w3.org/2000/01/rdf-schema#seeAlso\n113     http://www.w3.org/2000/01/rdf-schema#isDefinedBy\n114        http://www.w3.org/1999/02/22-rdf-syntax-ns#_1\n115          http://www.w3.org/2000/01/rdf-schema#member\n116    http://swat.cse.lehigh.edu/onto/univ-bench.owl...\n117    http://swat.cse.lehigh.edu/onto/univ-bench.owl...\n118    http://swat.cse.lehigh.edu/onto/univ-bench.owl...\n119    http://swat.cse.lehigh.edu/onto/univ-bench.owl...\n120    http://swat.cse.lehigh.edu/onto/univ-bench.owl...\n121    http://swat.cse.lehigh.edu/onto/univ-bench.owl...\n122    http://swat.cse.lehigh.edu/onto/univ-bench.owl...\n123      http://www.w3.org/1999/02/22-rdf-syntax-ns#type\n124    http://swat.cse.lehigh.edu/onto/univ-bench.owl...\n125    http://swat.cse.lehigh.edu/onto/univ-bench.owl...\n126    http://swat.cse.lehigh.edu/onto/univ-bench.owl...\n127    http://swat.cse.lehigh.edu/onto/univ-bench.owl...\n128    http://swat.cse.lehigh.edu/onto/univ-bench.owl...\n129    http://swat.cse.lehigh.edu/onto/univ-bench.owl...\n130    http://swat.cse.lehigh.edu/onto/univ-bench.owl...\n131    http://swat.cse.lehigh.edu/onto/univ-bench.owl...\n132    http://swat.cse.lehigh.edu/onto/univ-bench.owl...\n133    http://swat.cse.lehigh.edu/onto/univ-bench.owl...\n134    http://swat.cse.lehigh.edu/onto/univ-bench.owl...\n135    http://swat.cse.lehigh.edu/onto/univ-bench.owl...\n136    http://swat.cse.lehigh.edu/onto/univ-bench.owl...\n137    http://swat.cse.lehigh.edu/onto/univ-bench.owl...\n138    http://swat.cse.lehigh.edu/onto/univ-bench.owl...\n139    http://swat.cse.lehigh.edu/onto/univ-bench.owl...\n140    http://swat.cse.lehigh.edu/onto/univ-bench.owl...\n141    http://swat.cse.lehigh.edu/onto/univ-bench.owl...\n142    http://swat.cse.lehigh.edu/onto/univ-bench.owl...\n143    http://swat.cse.lehigh.edu/onto/univ-bench.owl...\n144    http://swat.cse.lehigh.edu/onto/univ-bench.owl...\n145    http://swat.cse.lehigh.edu/onto/univ-bench.owl...\n146    http://swat.cse.lehigh.edu/onto/univ-bench.owl...\n147    http://swat.cse.lehigh.edu/onto/univ-bench.owl...\n148     http://www.w3.org/1999/02/22-rdf-syntax-ns#first\n149    http://www.w3.org/1999/02/22-rdf-syntax-ns#object\n150    http://www.w3.org/1999/02/22-rdf-syntax-ns#pre...\n151      http://www.w3.org/1999/02/22-rdf-syntax-ns#rest\n152    http://www.w3.org/1999/02/22-rdf-syntax-ns#sub...\n153     http://www.w3.org/1999/02/22-rdf-syntax-ns#value\n154         http://www.w3.org/2000/01/rdf-schema#comment\n155          http://www.w3.org/2000/01/rdf-schema#domain\n156           http://www.w3.org/2000/01/rdf-schema#label\n157           http://www.w3.org/2000/01/rdf-schema#range\n158      http://www.w3.org/2000/01/rdf-schema#subClassOf\n159    http://www.w3.org/2000/01/rdf-schema#subProper...\n160                http://www.w3.org/2002/07/owl#imports\n161         http://www.w3.org/2002/07/owl#intersectionOf\n162              http://www.w3.org/2002/07/owl#inverseOf\n163             http://www.w3.org/2002/07/owl#onProperty\n164         http://www.w3.org/2002/07/owl#someValuesFrom\n165            http://www.w3.org/2002/07/owl#versionInfo\nName: uri, dtype: object"
     },
     "execution_count": 211,
     "metadata": {},
     "output_type": "execute_result"
    }
   ],
   "source": [
    "df[df.type==\"property_group\"].uri"
   ],
   "metadata": {
    "collapsed": false
   }
  },
  {
   "cell_type": "code",
   "execution_count": 212,
   "outputs": [],
   "source": [
    "df2_filtered = df2"
   ],
   "metadata": {
    "collapsed": false
   }
  },
  {
   "cell_type": "code",
   "execution_count": 213,
   "outputs": [
    {
     "data": {
      "text/plain": "Index(['subject', 'predicate', 'object'], dtype='object')"
     },
     "execution_count": 213,
     "metadata": {},
     "output_type": "execute_result"
    }
   ],
   "source": [
    "df2_filtered.columns"
   ],
   "metadata": {
    "collapsed": false
   }
  },
  {
   "cell_type": "code",
   "execution_count": 214,
   "outputs": [],
   "source": [
    "df2_filtered['subject'] = df2_filtered['subject'].str.extract(r'#(.+)>')\n",
    "df2_filtered['object'] = df2_filtered['object'].str.extract(r'#(.+)>')\n",
    "df2_filtered['predicate'] = df2_filtered['predicate'].str.extract(r'#(.+)>')"
   ],
   "metadata": {
    "collapsed": false
   }
  },
  {
   "cell_type": "code",
   "execution_count": 214,
   "outputs": [],
   "source": [],
   "metadata": {
    "collapsed": false
   }
  },
  {
   "cell_type": "code",
   "execution_count": 215,
   "outputs": [
    {
     "data": {
      "text/plain": "array(['Class', 'Restriction', 'ObjectProperty', 'DatatypeProperty',\n       'TransitiveProperty'], dtype=object)"
     },
     "execution_count": 215,
     "metadata": {},
     "output_type": "execute_result"
    }
   ],
   "source": [
    "df2_filtered[df2_filtered.predicate==\"type\"].object.unique()"
   ],
   "metadata": {
    "collapsed": false
   }
  },
  {
   "cell_type": "code",
   "execution_count": 218,
   "outputs": [
    {
     "data": {
      "text/plain": "array([rdflib.term.URIRef('http://www.w3.org/1999/02/22-rdf-syntax-ns#type'),\n       rdflib.term.URIRef('http://swat.cse.lehigh.edu/onto/univ-bench.owl#advisor'),\n       rdflib.term.URIRef('http://swat.cse.lehigh.edu/onto/univ-bench.owl#affiliateOf'),\n       rdflib.term.URIRef('http://swat.cse.lehigh.edu/onto/univ-bench.owl#affiliatedOrganizationOf'),\n       rdflib.term.URIRef('http://swat.cse.lehigh.edu/onto/univ-bench.owl#age'),\n       rdflib.term.URIRef('http://swat.cse.lehigh.edu/onto/univ-bench.owl#degreeFrom'),\n       rdflib.term.URIRef('http://swat.cse.lehigh.edu/onto/univ-bench.owl#doctoralDegreeFrom'),\n       rdflib.term.URIRef('http://swat.cse.lehigh.edu/onto/univ-bench.owl#emailAddress'),\n       rdflib.term.URIRef('http://swat.cse.lehigh.edu/onto/univ-bench.owl#hasAlumnus'),\n       rdflib.term.URIRef('http://swat.cse.lehigh.edu/onto/univ-bench.owl#headOf'),\n       rdflib.term.URIRef('http://swat.cse.lehigh.edu/onto/univ-bench.owl#listedCourse'),\n       rdflib.term.URIRef('http://swat.cse.lehigh.edu/onto/univ-bench.owl#mastersDegreeFrom'),\n       rdflib.term.URIRef('http://swat.cse.lehigh.edu/onto/univ-bench.owl#member'),\n       rdflib.term.URIRef('http://swat.cse.lehigh.edu/onto/univ-bench.owl#memberOf'),\n       rdflib.term.URIRef('http://swat.cse.lehigh.edu/onto/univ-bench.owl#name'),\n       rdflib.term.URIRef('http://swat.cse.lehigh.edu/onto/univ-bench.owl#orgPublication'),\n       rdflib.term.URIRef('http://swat.cse.lehigh.edu/onto/univ-bench.owl#publicationAuthor'),\n       rdflib.term.URIRef('http://swat.cse.lehigh.edu/onto/univ-bench.owl#publicationDate'),\n       rdflib.term.URIRef('http://swat.cse.lehigh.edu/onto/univ-bench.owl#publicationResearch'),\n       rdflib.term.URIRef('http://swat.cse.lehigh.edu/onto/univ-bench.owl#researchInterest'),\n       rdflib.term.URIRef('http://swat.cse.lehigh.edu/onto/univ-bench.owl#researchProject'),\n       rdflib.term.URIRef('http://swat.cse.lehigh.edu/onto/univ-bench.owl#softwareDocumentation'),\n       rdflib.term.URIRef('http://swat.cse.lehigh.edu/onto/univ-bench.owl#softwareVersion'),\n       rdflib.term.URIRef('http://swat.cse.lehigh.edu/onto/univ-bench.owl#subOrganizationOf'),\n       rdflib.term.URIRef('http://swat.cse.lehigh.edu/onto/univ-bench.owl#takesCourse'),\n       rdflib.term.URIRef('http://swat.cse.lehigh.edu/onto/univ-bench.owl#teacherOf'),\n       rdflib.term.URIRef('http://swat.cse.lehigh.edu/onto/univ-bench.owl#teachingAssistantOf'),\n       rdflib.term.URIRef('http://swat.cse.lehigh.edu/onto/univ-bench.owl#telephone'),\n       rdflib.term.URIRef('http://swat.cse.lehigh.edu/onto/univ-bench.owl#tenured'),\n       rdflib.term.URIRef('http://swat.cse.lehigh.edu/onto/univ-bench.owl#title'),\n       rdflib.term.URIRef('http://swat.cse.lehigh.edu/onto/univ-bench.owl#undergraduateDegreeFrom'),\n       rdflib.term.URIRef('http://swat.cse.lehigh.edu/onto/univ-bench.owl#worksFor'),\n       rdflib.term.URIRef('http://www.w3.org/1999/02/22-rdf-syntax-ns#_1'),\n       rdflib.term.URIRef('http://www.w3.org/1999/02/22-rdf-syntax-ns#first'),\n       rdflib.term.URIRef('http://www.w3.org/1999/02/22-rdf-syntax-ns#object'),\n       rdflib.term.URIRef('http://www.w3.org/1999/02/22-rdf-syntax-ns#predicate'),\n       rdflib.term.URIRef('http://www.w3.org/1999/02/22-rdf-syntax-ns#rest'),\n       rdflib.term.URIRef('http://www.w3.org/1999/02/22-rdf-syntax-ns#subject'),\n       rdflib.term.URIRef('http://www.w3.org/1999/02/22-rdf-syntax-ns#value'),\n       rdflib.term.URIRef('http://www.w3.org/2000/01/rdf-schema#comment'),\n       rdflib.term.URIRef('http://www.w3.org/2000/01/rdf-schema#domain'),\n       rdflib.term.URIRef('http://www.w3.org/2000/01/rdf-schema#isDefinedBy'),\n       rdflib.term.URIRef('http://www.w3.org/2000/01/rdf-schema#label'),\n       rdflib.term.URIRef('http://www.w3.org/2000/01/rdf-schema#member'),\n       rdflib.term.URIRef('http://www.w3.org/2000/01/rdf-schema#range'),\n       rdflib.term.URIRef('http://www.w3.org/2000/01/rdf-schema#seeAlso'),\n       rdflib.term.URIRef('http://www.w3.org/2000/01/rdf-schema#subClassOf'),\n       rdflib.term.URIRef('http://www.w3.org/2000/01/rdf-schema#subPropertyOf'),\n       rdflib.term.URIRef('http://www.w3.org/2002/07/owl#imports'),\n       rdflib.term.URIRef('http://www.w3.org/2002/07/owl#intersectionOf'),\n       rdflib.term.URIRef('http://www.w3.org/2002/07/owl#inverseOf'),\n       rdflib.term.URIRef('http://www.w3.org/2002/07/owl#onProperty'),\n       rdflib.term.URIRef('http://www.w3.org/2002/07/owl#someValuesFrom'),\n       rdflib.term.URIRef('http://www.w3.org/2002/07/owl#versionInfo')],\n      dtype=object)"
     },
     "execution_count": 218,
     "metadata": {},
     "output_type": "execute_result"
    }
   ],
   "source": [
    "df[df.type==\"property\"].uri.unique()"
   ],
   "metadata": {
    "collapsed": false
   }
  },
  {
   "cell_type": "code",
   "execution_count": 89,
   "outputs": [],
   "source": [
    "df1 = df.copy()"
   ],
   "metadata": {
    "collapsed": false
   }
  },
  {
   "cell_type": "code",
   "execution_count": 92,
   "outputs": [],
   "source": [
    "df1.uri = df1.uri.str.extract(r'#(.+)')"
   ],
   "metadata": {
    "collapsed": false
   }
  },
  {
   "cell_type": "code",
   "execution_count": 95,
   "outputs": [],
   "source": [
    "df1_properties = df1[df1.type==\"property\"].uri.unique()"
   ],
   "metadata": {
    "collapsed": false
   }
  },
  {
   "cell_type": "code",
   "execution_count": 97,
   "outputs": [],
   "source": [
    "df1_props_list = df1_properties.tolist()"
   ],
   "metadata": {
    "collapsed": false
   }
  },
  {
   "cell_type": "code",
   "execution_count": 103,
   "outputs": [],
   "source": [
    "df2_filtered_type = df2_filtered[df2_filtered.predicate == \"type\"]"
   ],
   "metadata": {
    "collapsed": false
   }
  },
  {
   "cell_type": "code",
   "execution_count": 121,
   "outputs": [],
   "source": [
    "objects = []\n",
    "for prop in df1_props_list:\n",
    "    objects.append(df2_filtered_type[df2_filtered_type.subject == prop].object.to_string())"
   ],
   "metadata": {
    "collapsed": false
   }
  },
  {
   "cell_type": "code",
   "execution_count": 124,
   "outputs": [
    {
     "data": {
      "text/plain": "['Series([], )',\n '177    ObjectProperty',\n '185    ObjectProperty',\n '181    ObjectProperty',\n '189    DatatypeProperty',\n '192    ObjectProperty',\n '197    ObjectProperty',\n '202    DatatypeProperty',\n '205    ObjectProperty',\n '210    ObjectProperty',\n '213    ObjectProperty',\n '217    ObjectProperty',\n '222    ObjectProperty',\n '226    ObjectProperty',\n '229    DatatypeProperty',\n '233    ObjectProperty',\n '237    ObjectProperty',\n '241    ObjectProperty',\n '244    ObjectProperty',\n '248    DatatypeProperty',\n '250    ObjectProperty',\n '254    ObjectProperty',\n '258    ObjectProperty',\n '261    TransitiveProperty',\n '265    ObjectProperty',\n '267    ObjectProperty',\n '271    ObjectProperty',\n '275    DatatypeProperty',\n '278    ObjectProperty',\n '281    DatatypeProperty',\n '284    ObjectProperty',\n '289    ObjectProperty',\n 'Series([], )',\n 'Series([], )',\n 'Series([], )',\n 'Series([], )',\n 'Series([], )',\n 'Series([], )',\n 'Series([], )',\n 'Series([], )',\n 'Series([], )',\n 'Series([], )',\n 'Series([], )',\n 'Series([], )',\n 'Series([], )',\n 'Series([], )',\n 'Series([], )',\n 'Series([], )',\n 'Series([], )',\n 'Series([], )',\n 'Series([], )',\n 'Series([], )',\n 'Series([], )']"
     },
     "execution_count": 124,
     "metadata": {},
     "output_type": "execute_result"
    }
   ],
   "source": [
    "objects"
   ],
   "metadata": {
    "collapsed": false
   }
  },
  {
   "cell_type": "code",
   "execution_count": 125,
   "outputs": [],
   "source": [
    "df1_prop_groups = df1[df1.type==\"property_group\"].uri.unique()"
   ],
   "metadata": {
    "collapsed": false
   }
  },
  {
   "cell_type": "code",
   "execution_count": 126,
   "outputs": [],
   "source": [
    "df1_prop_groups_list = df1_prop_groups.tolist()"
   ],
   "metadata": {
    "collapsed": false
   }
  },
  {
   "cell_type": "code",
   "execution_count": 127,
   "outputs": [
    {
     "data": {
      "text/plain": "['seeAlso',\n 'isDefinedBy',\n '_1',\n 'member',\n 'memberOf',\n 'headOf',\n 'worksFor',\n 'doctoralDegreeFrom',\n 'undergraduateDegreeFrom',\n 'degreeFrom',\n 'mastersDegreeFrom',\n 'type',\n 'advisor',\n 'affiliateOf',\n 'affiliatedOrganizationOf',\n 'age',\n 'emailAddress',\n 'hasAlumnus',\n 'listedCourse',\n 'name',\n 'orgPublication',\n 'publicationAuthor',\n 'publicationDate',\n 'publicationResearch',\n 'researchInterest',\n 'researchProject',\n 'softwareDocumentation',\n 'softwareVersion',\n 'subOrganizationOf',\n 'takesCourse',\n 'teacherOf',\n 'teachingAssistantOf',\n 'telephone',\n 'tenured',\n 'title',\n 'first',\n 'object',\n 'predicate',\n 'rest',\n 'subject',\n 'value',\n 'comment',\n 'domain',\n 'label',\n 'range',\n 'subClassOf',\n 'subPropertyOf',\n 'imports',\n 'intersectionOf',\n 'inverseOf',\n 'onProperty',\n 'someValuesFrom',\n 'versionInfo']"
     },
     "execution_count": 127,
     "metadata": {},
     "output_type": "execute_result"
    }
   ],
   "source": [
    "df1_prop_groups_list"
   ],
   "metadata": {
    "collapsed": false
   }
  },
  {
   "cell_type": "code",
   "execution_count": 134,
   "outputs": [],
   "source": [
    "result_df = pd.DataFrame(columns=['Class', 'Property', 'Property_Group'])"
   ],
   "metadata": {
    "collapsed": false
   }
  },
  {
   "cell_type": "code",
   "execution_count": 135,
   "outputs": [
    {
     "ename": "ValueError",
     "evalue": "Can only compare identically-labeled Series objects",
     "output_type": "error",
     "traceback": [
      "\u001B[1;31m---------------------------------------------------------------------------\u001B[0m",
      "\u001B[1;31mValueError\u001B[0m                                Traceback (most recent call last)",
      "\u001B[1;32m~\\AppData\\Local\\Temp\\ipykernel_15100\\286241939.py\u001B[0m in \u001B[0;36m<module>\u001B[1;34m\u001B[0m\n\u001B[1;32m----> 1\u001B[1;33m \u001B[0mresult_df\u001B[0m\u001B[1;33m[\u001B[0m\u001B[1;34m'Class'\u001B[0m\u001B[1;33m]\u001B[0m \u001B[1;33m==\u001B[0m \u001B[0mdf\u001B[0m\u001B[1;33m[\u001B[0m\u001B[0mdf\u001B[0m\u001B[1;33m.\u001B[0m\u001B[0mtype\u001B[0m\u001B[1;33m==\u001B[0m\u001B[1;34m\"class\"\u001B[0m\u001B[1;33m]\u001B[0m\u001B[1;33m.\u001B[0m\u001B[0muri\u001B[0m\u001B[1;33m\u001B[0m\u001B[1;33m\u001B[0m\u001B[0m\n\u001B[0m",
      "\u001B[1;32m~\\anaconda3\\envs\\NMT4RDFS\\lib\\site-packages\\pandas\\core\\ops.py\u001B[0m in \u001B[0;36mwrapper\u001B[1;34m(self, other, axis)\u001B[0m\n\u001B[0;32m   1674\u001B[0m \u001B[1;33m\u001B[0m\u001B[0m\n\u001B[0;32m   1675\u001B[0m         \u001B[1;32melif\u001B[0m \u001B[0misinstance\u001B[0m\u001B[1;33m(\u001B[0m\u001B[0mother\u001B[0m\u001B[1;33m,\u001B[0m \u001B[0mABCSeries\u001B[0m\u001B[1;33m)\u001B[0m \u001B[1;32mand\u001B[0m \u001B[1;32mnot\u001B[0m \u001B[0mself\u001B[0m\u001B[1;33m.\u001B[0m\u001B[0m_indexed_same\u001B[0m\u001B[1;33m(\u001B[0m\u001B[0mother\u001B[0m\u001B[1;33m)\u001B[0m\u001B[1;33m:\u001B[0m\u001B[1;33m\u001B[0m\u001B[1;33m\u001B[0m\u001B[0m\n\u001B[1;32m-> 1676\u001B[1;33m             raise ValueError(\"Can only compare identically-labeled \"\n\u001B[0m\u001B[0;32m   1677\u001B[0m                              \"Series objects\")\n\u001B[0;32m   1678\u001B[0m \u001B[1;33m\u001B[0m\u001B[0m\n",
      "\u001B[1;31mValueError\u001B[0m: Can only compare identically-labeled Series objects"
     ]
    }
   ],
   "source": [
    "result_df['Class'] == df[df.type==\"class\"].uri"
   ],
   "metadata": {
    "collapsed": false
   }
  },
  {
   "cell_type": "code",
   "execution_count": 130,
   "outputs": [
    {
     "data": {
      "text/plain": "Empty DataFrame\nColumns: [Class, Property, Property_Group]\nIndex: []",
      "text/html": "<div>\n<style scoped>\n    .dataframe tbody tr th:only-of-type {\n        vertical-align: middle;\n    }\n\n    .dataframe tbody tr th {\n        vertical-align: top;\n    }\n\n    .dataframe thead th {\n        text-align: right;\n    }\n</style>\n<table border=\"1\" class=\"dataframe\">\n  <thead>\n    <tr style=\"text-align: right;\">\n      <th></th>\n      <th>Class</th>\n      <th>Property</th>\n      <th>Property_Group</th>\n    </tr>\n  </thead>\n  <tbody>\n  </tbody>\n</table>\n</div>"
     },
     "execution_count": 130,
     "metadata": {},
     "output_type": "execute_result"
    }
   ],
   "source": [
    "result_df"
   ],
   "metadata": {
    "collapsed": false
   }
  },
  {
   "cell_type": "code",
   "execution_count": 140,
   "outputs": [
    {
     "data": {
      "text/plain": "     index            type                                                uri\n0        1           class  http://swat.cse.lehigh.edu/onto/univ-bench.owl...\n1        2           class  http://swat.cse.lehigh.edu/onto/univ-bench.owl...\n2        3           class  http://swat.cse.lehigh.edu/onto/univ-bench.owl...\n3        4           class  http://swat.cse.lehigh.edu/onto/univ-bench.owl...\n4        5           class  http://swat.cse.lehigh.edu/onto/univ-bench.owl...\n5        6           class  http://swat.cse.lehigh.edu/onto/univ-bench.owl...\n6        7           class  http://swat.cse.lehigh.edu/onto/univ-bench.owl...\n7        8           class  http://swat.cse.lehigh.edu/onto/univ-bench.owl...\n8        9           class  http://swat.cse.lehigh.edu/onto/univ-bench.owl...\n9       10           class  http://swat.cse.lehigh.edu/onto/univ-bench.owl...\n10      11           class  http://swat.cse.lehigh.edu/onto/univ-bench.owl...\n11      12           class  http://swat.cse.lehigh.edu/onto/univ-bench.owl...\n12      13           class  http://swat.cse.lehigh.edu/onto/univ-bench.owl...\n13      14           class  http://swat.cse.lehigh.edu/onto/univ-bench.owl...\n14      15           class  http://swat.cse.lehigh.edu/onto/univ-bench.owl...\n15      16           class  http://swat.cse.lehigh.edu/onto/univ-bench.owl...\n16      17           class  http://swat.cse.lehigh.edu/onto/univ-bench.owl...\n17      18           class  http://swat.cse.lehigh.edu/onto/univ-bench.owl...\n18      19           class  http://swat.cse.lehigh.edu/onto/univ-bench.owl...\n19      20           class  http://swat.cse.lehigh.edu/onto/univ-bench.owl...\n20      21           class  http://swat.cse.lehigh.edu/onto/univ-bench.owl...\n21      22           class  http://swat.cse.lehigh.edu/onto/univ-bench.owl...\n22      23           class  http://swat.cse.lehigh.edu/onto/univ-bench.owl...\n23      24           class  http://swat.cse.lehigh.edu/onto/univ-bench.owl...\n24      25           class  http://swat.cse.lehigh.edu/onto/univ-bench.owl...\n25      26           class  http://swat.cse.lehigh.edu/onto/univ-bench.owl...\n26      27           class  http://swat.cse.lehigh.edu/onto/univ-bench.owl...\n27      28           class  http://swat.cse.lehigh.edu/onto/univ-bench.owl...\n28      29           class  http://swat.cse.lehigh.edu/onto/univ-bench.owl...\n29      30           class  http://swat.cse.lehigh.edu/onto/univ-bench.owl...\n..     ...             ...                                                ...\n136     17  property_group  http://swat.cse.lehigh.edu/onto/univ-bench.owl...\n137     18  property_group  http://swat.cse.lehigh.edu/onto/univ-bench.owl...\n138     19  property_group  http://swat.cse.lehigh.edu/onto/univ-bench.owl...\n139     20  property_group  http://swat.cse.lehigh.edu/onto/univ-bench.owl...\n140     21  property_group  http://swat.cse.lehigh.edu/onto/univ-bench.owl...\n141     22  property_group  http://swat.cse.lehigh.edu/onto/univ-bench.owl...\n142     23  property_group  http://swat.cse.lehigh.edu/onto/univ-bench.owl...\n143     24  property_group  http://swat.cse.lehigh.edu/onto/univ-bench.owl...\n144     25  property_group  http://swat.cse.lehigh.edu/onto/univ-bench.owl...\n145     26  property_group  http://swat.cse.lehigh.edu/onto/univ-bench.owl...\n146     27  property_group  http://swat.cse.lehigh.edu/onto/univ-bench.owl...\n147     28  property_group  http://swat.cse.lehigh.edu/onto/univ-bench.owl...\n148     29  property_group   http://www.w3.org/1999/02/22-rdf-syntax-ns#first\n149     30  property_group  http://www.w3.org/1999/02/22-rdf-syntax-ns#object\n150     31  property_group  http://www.w3.org/1999/02/22-rdf-syntax-ns#pre...\n151     32  property_group    http://www.w3.org/1999/02/22-rdf-syntax-ns#rest\n152     33  property_group  http://www.w3.org/1999/02/22-rdf-syntax-ns#sub...\n153     34  property_group   http://www.w3.org/1999/02/22-rdf-syntax-ns#value\n154     35  property_group       http://www.w3.org/2000/01/rdf-schema#comment\n155     36  property_group        http://www.w3.org/2000/01/rdf-schema#domain\n156     37  property_group         http://www.w3.org/2000/01/rdf-schema#label\n157     38  property_group         http://www.w3.org/2000/01/rdf-schema#range\n158     39  property_group    http://www.w3.org/2000/01/rdf-schema#subClassOf\n159     40  property_group  http://www.w3.org/2000/01/rdf-schema#subProper...\n160     41  property_group              http://www.w3.org/2002/07/owl#imports\n161     42  property_group       http://www.w3.org/2002/07/owl#intersectionOf\n162     43  property_group            http://www.w3.org/2002/07/owl#inverseOf\n163     44  property_group           http://www.w3.org/2002/07/owl#onProperty\n164     45  property_group       http://www.w3.org/2002/07/owl#someValuesFrom\n165     46  property_group          http://www.w3.org/2002/07/owl#versionInfo\n\n[166 rows x 3 columns]",
      "text/html": "<div>\n<style scoped>\n    .dataframe tbody tr th:only-of-type {\n        vertical-align: middle;\n    }\n\n    .dataframe tbody tr th {\n        vertical-align: top;\n    }\n\n    .dataframe thead th {\n        text-align: right;\n    }\n</style>\n<table border=\"1\" class=\"dataframe\">\n  <thead>\n    <tr style=\"text-align: right;\">\n      <th></th>\n      <th>index</th>\n      <th>type</th>\n      <th>uri</th>\n    </tr>\n  </thead>\n  <tbody>\n    <tr>\n      <th>0</th>\n      <td>1</td>\n      <td>class</td>\n      <td>http://swat.cse.lehigh.edu/onto/univ-bench.owl...</td>\n    </tr>\n    <tr>\n      <th>1</th>\n      <td>2</td>\n      <td>class</td>\n      <td>http://swat.cse.lehigh.edu/onto/univ-bench.owl...</td>\n    </tr>\n    <tr>\n      <th>2</th>\n      <td>3</td>\n      <td>class</td>\n      <td>http://swat.cse.lehigh.edu/onto/univ-bench.owl...</td>\n    </tr>\n    <tr>\n      <th>3</th>\n      <td>4</td>\n      <td>class</td>\n      <td>http://swat.cse.lehigh.edu/onto/univ-bench.owl...</td>\n    </tr>\n    <tr>\n      <th>4</th>\n      <td>5</td>\n      <td>class</td>\n      <td>http://swat.cse.lehigh.edu/onto/univ-bench.owl...</td>\n    </tr>\n    <tr>\n      <th>5</th>\n      <td>6</td>\n      <td>class</td>\n      <td>http://swat.cse.lehigh.edu/onto/univ-bench.owl...</td>\n    </tr>\n    <tr>\n      <th>6</th>\n      <td>7</td>\n      <td>class</td>\n      <td>http://swat.cse.lehigh.edu/onto/univ-bench.owl...</td>\n    </tr>\n    <tr>\n      <th>7</th>\n      <td>8</td>\n      <td>class</td>\n      <td>http://swat.cse.lehigh.edu/onto/univ-bench.owl...</td>\n    </tr>\n    <tr>\n      <th>8</th>\n      <td>9</td>\n      <td>class</td>\n      <td>http://swat.cse.lehigh.edu/onto/univ-bench.owl...</td>\n    </tr>\n    <tr>\n      <th>9</th>\n      <td>10</td>\n      <td>class</td>\n      <td>http://swat.cse.lehigh.edu/onto/univ-bench.owl...</td>\n    </tr>\n    <tr>\n      <th>10</th>\n      <td>11</td>\n      <td>class</td>\n      <td>http://swat.cse.lehigh.edu/onto/univ-bench.owl...</td>\n    </tr>\n    <tr>\n      <th>11</th>\n      <td>12</td>\n      <td>class</td>\n      <td>http://swat.cse.lehigh.edu/onto/univ-bench.owl...</td>\n    </tr>\n    <tr>\n      <th>12</th>\n      <td>13</td>\n      <td>class</td>\n      <td>http://swat.cse.lehigh.edu/onto/univ-bench.owl...</td>\n    </tr>\n    <tr>\n      <th>13</th>\n      <td>14</td>\n      <td>class</td>\n      <td>http://swat.cse.lehigh.edu/onto/univ-bench.owl...</td>\n    </tr>\n    <tr>\n      <th>14</th>\n      <td>15</td>\n      <td>class</td>\n      <td>http://swat.cse.lehigh.edu/onto/univ-bench.owl...</td>\n    </tr>\n    <tr>\n      <th>15</th>\n      <td>16</td>\n      <td>class</td>\n      <td>http://swat.cse.lehigh.edu/onto/univ-bench.owl...</td>\n    </tr>\n    <tr>\n      <th>16</th>\n      <td>17</td>\n      <td>class</td>\n      <td>http://swat.cse.lehigh.edu/onto/univ-bench.owl...</td>\n    </tr>\n    <tr>\n      <th>17</th>\n      <td>18</td>\n      <td>class</td>\n      <td>http://swat.cse.lehigh.edu/onto/univ-bench.owl...</td>\n    </tr>\n    <tr>\n      <th>18</th>\n      <td>19</td>\n      <td>class</td>\n      <td>http://swat.cse.lehigh.edu/onto/univ-bench.owl...</td>\n    </tr>\n    <tr>\n      <th>19</th>\n      <td>20</td>\n      <td>class</td>\n      <td>http://swat.cse.lehigh.edu/onto/univ-bench.owl...</td>\n    </tr>\n    <tr>\n      <th>20</th>\n      <td>21</td>\n      <td>class</td>\n      <td>http://swat.cse.lehigh.edu/onto/univ-bench.owl...</td>\n    </tr>\n    <tr>\n      <th>21</th>\n      <td>22</td>\n      <td>class</td>\n      <td>http://swat.cse.lehigh.edu/onto/univ-bench.owl...</td>\n    </tr>\n    <tr>\n      <th>22</th>\n      <td>23</td>\n      <td>class</td>\n      <td>http://swat.cse.lehigh.edu/onto/univ-bench.owl...</td>\n    </tr>\n    <tr>\n      <th>23</th>\n      <td>24</td>\n      <td>class</td>\n      <td>http://swat.cse.lehigh.edu/onto/univ-bench.owl...</td>\n    </tr>\n    <tr>\n      <th>24</th>\n      <td>25</td>\n      <td>class</td>\n      <td>http://swat.cse.lehigh.edu/onto/univ-bench.owl...</td>\n    </tr>\n    <tr>\n      <th>25</th>\n      <td>26</td>\n      <td>class</td>\n      <td>http://swat.cse.lehigh.edu/onto/univ-bench.owl...</td>\n    </tr>\n    <tr>\n      <th>26</th>\n      <td>27</td>\n      <td>class</td>\n      <td>http://swat.cse.lehigh.edu/onto/univ-bench.owl...</td>\n    </tr>\n    <tr>\n      <th>27</th>\n      <td>28</td>\n      <td>class</td>\n      <td>http://swat.cse.lehigh.edu/onto/univ-bench.owl...</td>\n    </tr>\n    <tr>\n      <th>28</th>\n      <td>29</td>\n      <td>class</td>\n      <td>http://swat.cse.lehigh.edu/onto/univ-bench.owl...</td>\n    </tr>\n    <tr>\n      <th>29</th>\n      <td>30</td>\n      <td>class</td>\n      <td>http://swat.cse.lehigh.edu/onto/univ-bench.owl...</td>\n    </tr>\n    <tr>\n      <th>...</th>\n      <td>...</td>\n      <td>...</td>\n      <td>...</td>\n    </tr>\n    <tr>\n      <th>136</th>\n      <td>17</td>\n      <td>property_group</td>\n      <td>http://swat.cse.lehigh.edu/onto/univ-bench.owl...</td>\n    </tr>\n    <tr>\n      <th>137</th>\n      <td>18</td>\n      <td>property_group</td>\n      <td>http://swat.cse.lehigh.edu/onto/univ-bench.owl...</td>\n    </tr>\n    <tr>\n      <th>138</th>\n      <td>19</td>\n      <td>property_group</td>\n      <td>http://swat.cse.lehigh.edu/onto/univ-bench.owl...</td>\n    </tr>\n    <tr>\n      <th>139</th>\n      <td>20</td>\n      <td>property_group</td>\n      <td>http://swat.cse.lehigh.edu/onto/univ-bench.owl...</td>\n    </tr>\n    <tr>\n      <th>140</th>\n      <td>21</td>\n      <td>property_group</td>\n      <td>http://swat.cse.lehigh.edu/onto/univ-bench.owl...</td>\n    </tr>\n    <tr>\n      <th>141</th>\n      <td>22</td>\n      <td>property_group</td>\n      <td>http://swat.cse.lehigh.edu/onto/univ-bench.owl...</td>\n    </tr>\n    <tr>\n      <th>142</th>\n      <td>23</td>\n      <td>property_group</td>\n      <td>http://swat.cse.lehigh.edu/onto/univ-bench.owl...</td>\n    </tr>\n    <tr>\n      <th>143</th>\n      <td>24</td>\n      <td>property_group</td>\n      <td>http://swat.cse.lehigh.edu/onto/univ-bench.owl...</td>\n    </tr>\n    <tr>\n      <th>144</th>\n      <td>25</td>\n      <td>property_group</td>\n      <td>http://swat.cse.lehigh.edu/onto/univ-bench.owl...</td>\n    </tr>\n    <tr>\n      <th>145</th>\n      <td>26</td>\n      <td>property_group</td>\n      <td>http://swat.cse.lehigh.edu/onto/univ-bench.owl...</td>\n    </tr>\n    <tr>\n      <th>146</th>\n      <td>27</td>\n      <td>property_group</td>\n      <td>http://swat.cse.lehigh.edu/onto/univ-bench.owl...</td>\n    </tr>\n    <tr>\n      <th>147</th>\n      <td>28</td>\n      <td>property_group</td>\n      <td>http://swat.cse.lehigh.edu/onto/univ-bench.owl...</td>\n    </tr>\n    <tr>\n      <th>148</th>\n      <td>29</td>\n      <td>property_group</td>\n      <td>http://www.w3.org/1999/02/22-rdf-syntax-ns#first</td>\n    </tr>\n    <tr>\n      <th>149</th>\n      <td>30</td>\n      <td>property_group</td>\n      <td>http://www.w3.org/1999/02/22-rdf-syntax-ns#object</td>\n    </tr>\n    <tr>\n      <th>150</th>\n      <td>31</td>\n      <td>property_group</td>\n      <td>http://www.w3.org/1999/02/22-rdf-syntax-ns#pre...</td>\n    </tr>\n    <tr>\n      <th>151</th>\n      <td>32</td>\n      <td>property_group</td>\n      <td>http://www.w3.org/1999/02/22-rdf-syntax-ns#rest</td>\n    </tr>\n    <tr>\n      <th>152</th>\n      <td>33</td>\n      <td>property_group</td>\n      <td>http://www.w3.org/1999/02/22-rdf-syntax-ns#sub...</td>\n    </tr>\n    <tr>\n      <th>153</th>\n      <td>34</td>\n      <td>property_group</td>\n      <td>http://www.w3.org/1999/02/22-rdf-syntax-ns#value</td>\n    </tr>\n    <tr>\n      <th>154</th>\n      <td>35</td>\n      <td>property_group</td>\n      <td>http://www.w3.org/2000/01/rdf-schema#comment</td>\n    </tr>\n    <tr>\n      <th>155</th>\n      <td>36</td>\n      <td>property_group</td>\n      <td>http://www.w3.org/2000/01/rdf-schema#domain</td>\n    </tr>\n    <tr>\n      <th>156</th>\n      <td>37</td>\n      <td>property_group</td>\n      <td>http://www.w3.org/2000/01/rdf-schema#label</td>\n    </tr>\n    <tr>\n      <th>157</th>\n      <td>38</td>\n      <td>property_group</td>\n      <td>http://www.w3.org/2000/01/rdf-schema#range</td>\n    </tr>\n    <tr>\n      <th>158</th>\n      <td>39</td>\n      <td>property_group</td>\n      <td>http://www.w3.org/2000/01/rdf-schema#subClassOf</td>\n    </tr>\n    <tr>\n      <th>159</th>\n      <td>40</td>\n      <td>property_group</td>\n      <td>http://www.w3.org/2000/01/rdf-schema#subProper...</td>\n    </tr>\n    <tr>\n      <th>160</th>\n      <td>41</td>\n      <td>property_group</td>\n      <td>http://www.w3.org/2002/07/owl#imports</td>\n    </tr>\n    <tr>\n      <th>161</th>\n      <td>42</td>\n      <td>property_group</td>\n      <td>http://www.w3.org/2002/07/owl#intersectionOf</td>\n    </tr>\n    <tr>\n      <th>162</th>\n      <td>43</td>\n      <td>property_group</td>\n      <td>http://www.w3.org/2002/07/owl#inverseOf</td>\n    </tr>\n    <tr>\n      <th>163</th>\n      <td>44</td>\n      <td>property_group</td>\n      <td>http://www.w3.org/2002/07/owl#onProperty</td>\n    </tr>\n    <tr>\n      <th>164</th>\n      <td>45</td>\n      <td>property_group</td>\n      <td>http://www.w3.org/2002/07/owl#someValuesFrom</td>\n    </tr>\n    <tr>\n      <th>165</th>\n      <td>46</td>\n      <td>property_group</td>\n      <td>http://www.w3.org/2002/07/owl#versionInfo</td>\n    </tr>\n  </tbody>\n</table>\n<p>166 rows × 3 columns</p>\n</div>"
     },
     "execution_count": 140,
     "metadata": {},
     "output_type": "execute_result"
    }
   ],
   "source": [
    "#df[df.type==\"class\"].uri\n",
    "df"
   ],
   "metadata": {
    "collapsed": false
   }
  },
  {
   "cell_type": "code",
   "execution_count": 143,
   "outputs": [
    {
     "data": {
      "text/plain": "type                                               class  \\\nindex                                                      \n0                                                    NaN   \n1      http://swat.cse.lehigh.edu/onto/univ-bench.owl...   \n2      http://swat.cse.lehigh.edu/onto/univ-bench.owl...   \n3      http://swat.cse.lehigh.edu/onto/univ-bench.owl...   \n4      http://swat.cse.lehigh.edu/onto/univ-bench.owl...   \n5      http://swat.cse.lehigh.edu/onto/univ-bench.owl...   \n6      http://swat.cse.lehigh.edu/onto/univ-bench.owl...   \n7      http://swat.cse.lehigh.edu/onto/univ-bench.owl...   \n8      http://swat.cse.lehigh.edu/onto/univ-bench.owl...   \n9      http://swat.cse.lehigh.edu/onto/univ-bench.owl...   \n10     http://swat.cse.lehigh.edu/onto/univ-bench.owl...   \n11     http://swat.cse.lehigh.edu/onto/univ-bench.owl...   \n12     http://swat.cse.lehigh.edu/onto/univ-bench.owl...   \n13     http://swat.cse.lehigh.edu/onto/univ-bench.owl...   \n14     http://swat.cse.lehigh.edu/onto/univ-bench.owl...   \n15     http://swat.cse.lehigh.edu/onto/univ-bench.owl...   \n16     http://swat.cse.lehigh.edu/onto/univ-bench.owl...   \n17     http://swat.cse.lehigh.edu/onto/univ-bench.owl...   \n18     http://swat.cse.lehigh.edu/onto/univ-bench.owl...   \n19     http://swat.cse.lehigh.edu/onto/univ-bench.owl...   \n20     http://swat.cse.lehigh.edu/onto/univ-bench.owl...   \n21     http://swat.cse.lehigh.edu/onto/univ-bench.owl...   \n22     http://swat.cse.lehigh.edu/onto/univ-bench.owl...   \n23     http://swat.cse.lehigh.edu/onto/univ-bench.owl...   \n24     http://swat.cse.lehigh.edu/onto/univ-bench.owl...   \n25     http://swat.cse.lehigh.edu/onto/univ-bench.owl...   \n26     http://swat.cse.lehigh.edu/onto/univ-bench.owl...   \n27     http://swat.cse.lehigh.edu/onto/univ-bench.owl...   \n28     http://swat.cse.lehigh.edu/onto/univ-bench.owl...   \n29     http://swat.cse.lehigh.edu/onto/univ-bench.owl...   \n30     http://swat.cse.lehigh.edu/onto/univ-bench.owl...   \n31     http://swat.cse.lehigh.edu/onto/univ-bench.owl...   \n32     http://swat.cse.lehigh.edu/onto/univ-bench.owl...   \n33     http://swat.cse.lehigh.edu/onto/univ-bench.owl...   \n34     http://swat.cse.lehigh.edu/onto/univ-bench.owl...   \n35     http://swat.cse.lehigh.edu/onto/univ-bench.owl...   \n36     http://swat.cse.lehigh.edu/onto/univ-bench.owl...   \n37     http://swat.cse.lehigh.edu/onto/univ-bench.owl...   \n38     http://swat.cse.lehigh.edu/onto/univ-bench.owl...   \n39     http://swat.cse.lehigh.edu/onto/univ-bench.owl...   \n40     http://swat.cse.lehigh.edu/onto/univ-bench.owl...   \n41     http://swat.cse.lehigh.edu/onto/univ-bench.owl...   \n42     http://swat.cse.lehigh.edu/onto/univ-bench.owl...   \n43     http://swat.cse.lehigh.edu/onto/univ-bench.owl...   \n44        http://www.w3.org/1999/02/22-rdf-syntax-ns#Alt   \n45        http://www.w3.org/1999/02/22-rdf-syntax-ns#Bag   \n46       http://www.w3.org/1999/02/22-rdf-syntax-ns#List   \n47     http://www.w3.org/1999/02/22-rdf-syntax-ns#Pro...   \n48        http://www.w3.org/1999/02/22-rdf-syntax-ns#Seq   \n49     http://www.w3.org/1999/02/22-rdf-syntax-ns#Sta...   \n50     http://www.w3.org/1999/02/22-rdf-syntax-ns#XML...   \n51            http://www.w3.org/2000/01/rdf-schema#Class   \n52        http://www.w3.org/2000/01/rdf-schema#Container   \n53     http://www.w3.org/2000/01/rdf-schema#Container...   \n54         http://www.w3.org/2000/01/rdf-schema#Datatype   \n55          http://www.w3.org/2000/01/rdf-schema#Literal   \n56         http://www.w3.org/2000/01/rdf-schema#Resource   \n57     http://www.w3.org/2001/XMLSchema#nonNegativeIn...   \n58               http://www.w3.org/2001/XMLSchema#string   \n\ntype                                            property  \\\nindex                                                      \n0                                                    NaN   \n1        http://www.w3.org/1999/02/22-rdf-syntax-ns#type   \n2      http://swat.cse.lehigh.edu/onto/univ-bench.owl...   \n3      http://swat.cse.lehigh.edu/onto/univ-bench.owl...   \n4      http://swat.cse.lehigh.edu/onto/univ-bench.owl...   \n5      http://swat.cse.lehigh.edu/onto/univ-bench.owl...   \n6      http://swat.cse.lehigh.edu/onto/univ-bench.owl...   \n7      http://swat.cse.lehigh.edu/onto/univ-bench.owl...   \n8      http://swat.cse.lehigh.edu/onto/univ-bench.owl...   \n9      http://swat.cse.lehigh.edu/onto/univ-bench.owl...   \n10     http://swat.cse.lehigh.edu/onto/univ-bench.owl...   \n11     http://swat.cse.lehigh.edu/onto/univ-bench.owl...   \n12     http://swat.cse.lehigh.edu/onto/univ-bench.owl...   \n13     http://swat.cse.lehigh.edu/onto/univ-bench.owl...   \n14     http://swat.cse.lehigh.edu/onto/univ-bench.owl...   \n15     http://swat.cse.lehigh.edu/onto/univ-bench.owl...   \n16     http://swat.cse.lehigh.edu/onto/univ-bench.owl...   \n17     http://swat.cse.lehigh.edu/onto/univ-bench.owl...   \n18     http://swat.cse.lehigh.edu/onto/univ-bench.owl...   \n19     http://swat.cse.lehigh.edu/onto/univ-bench.owl...   \n20     http://swat.cse.lehigh.edu/onto/univ-bench.owl...   \n21     http://swat.cse.lehigh.edu/onto/univ-bench.owl...   \n22     http://swat.cse.lehigh.edu/onto/univ-bench.owl...   \n23     http://swat.cse.lehigh.edu/onto/univ-bench.owl...   \n24     http://swat.cse.lehigh.edu/onto/univ-bench.owl...   \n25     http://swat.cse.lehigh.edu/onto/univ-bench.owl...   \n26     http://swat.cse.lehigh.edu/onto/univ-bench.owl...   \n27     http://swat.cse.lehigh.edu/onto/univ-bench.owl...   \n28     http://swat.cse.lehigh.edu/onto/univ-bench.owl...   \n29     http://swat.cse.lehigh.edu/onto/univ-bench.owl...   \n30     http://swat.cse.lehigh.edu/onto/univ-bench.owl...   \n31     http://swat.cse.lehigh.edu/onto/univ-bench.owl...   \n32     http://swat.cse.lehigh.edu/onto/univ-bench.owl...   \n33         http://www.w3.org/1999/02/22-rdf-syntax-ns#_1   \n34      http://www.w3.org/1999/02/22-rdf-syntax-ns#first   \n35     http://www.w3.org/1999/02/22-rdf-syntax-ns#object   \n36     http://www.w3.org/1999/02/22-rdf-syntax-ns#pre...   \n37       http://www.w3.org/1999/02/22-rdf-syntax-ns#rest   \n38     http://www.w3.org/1999/02/22-rdf-syntax-ns#sub...   \n39      http://www.w3.org/1999/02/22-rdf-syntax-ns#value   \n40          http://www.w3.org/2000/01/rdf-schema#comment   \n41           http://www.w3.org/2000/01/rdf-schema#domain   \n42      http://www.w3.org/2000/01/rdf-schema#isDefinedBy   \n43            http://www.w3.org/2000/01/rdf-schema#label   \n44           http://www.w3.org/2000/01/rdf-schema#member   \n45            http://www.w3.org/2000/01/rdf-schema#range   \n46          http://www.w3.org/2000/01/rdf-schema#seeAlso   \n47       http://www.w3.org/2000/01/rdf-schema#subClassOf   \n48     http://www.w3.org/2000/01/rdf-schema#subProper...   \n49                 http://www.w3.org/2002/07/owl#imports   \n50          http://www.w3.org/2002/07/owl#intersectionOf   \n51               http://www.w3.org/2002/07/owl#inverseOf   \n52              http://www.w3.org/2002/07/owl#onProperty   \n53          http://www.w3.org/2002/07/owl#someValuesFrom   \n54             http://www.w3.org/2002/07/owl#versionInfo   \n55                                                   NaN   \n56                                                   NaN   \n57                                                   NaN   \n58                                                   NaN   \n\ntype                                      property_group  \nindex                                                     \n0           http://www.w3.org/2000/01/rdf-schema#seeAlso  \n1          http://www.w3.org/1999/02/22-rdf-syntax-ns#_1  \n2      http://swat.cse.lehigh.edu/onto/univ-bench.owl...  \n3      http://swat.cse.lehigh.edu/onto/univ-bench.owl...  \n4        http://www.w3.org/1999/02/22-rdf-syntax-ns#type  \n5      http://swat.cse.lehigh.edu/onto/univ-bench.owl...  \n6      http://swat.cse.lehigh.edu/onto/univ-bench.owl...  \n7      http://swat.cse.lehigh.edu/onto/univ-bench.owl...  \n8      http://swat.cse.lehigh.edu/onto/univ-bench.owl...  \n9      http://swat.cse.lehigh.edu/onto/univ-bench.owl...  \n10     http://swat.cse.lehigh.edu/onto/univ-bench.owl...  \n11     http://swat.cse.lehigh.edu/onto/univ-bench.owl...  \n12     http://swat.cse.lehigh.edu/onto/univ-bench.owl...  \n13     http://swat.cse.lehigh.edu/onto/univ-bench.owl...  \n14     http://swat.cse.lehigh.edu/onto/univ-bench.owl...  \n15     http://swat.cse.lehigh.edu/onto/univ-bench.owl...  \n16     http://swat.cse.lehigh.edu/onto/univ-bench.owl...  \n17     http://swat.cse.lehigh.edu/onto/univ-bench.owl...  \n18     http://swat.cse.lehigh.edu/onto/univ-bench.owl...  \n19     http://swat.cse.lehigh.edu/onto/univ-bench.owl...  \n20     http://swat.cse.lehigh.edu/onto/univ-bench.owl...  \n21     http://swat.cse.lehigh.edu/onto/univ-bench.owl...  \n22     http://swat.cse.lehigh.edu/onto/univ-bench.owl...  \n23     http://swat.cse.lehigh.edu/onto/univ-bench.owl...  \n24     http://swat.cse.lehigh.edu/onto/univ-bench.owl...  \n25     http://swat.cse.lehigh.edu/onto/univ-bench.owl...  \n26     http://swat.cse.lehigh.edu/onto/univ-bench.owl...  \n27     http://swat.cse.lehigh.edu/onto/univ-bench.owl...  \n28     http://swat.cse.lehigh.edu/onto/univ-bench.owl...  \n29      http://www.w3.org/1999/02/22-rdf-syntax-ns#first  \n30     http://www.w3.org/1999/02/22-rdf-syntax-ns#object  \n31     http://www.w3.org/1999/02/22-rdf-syntax-ns#pre...  \n32       http://www.w3.org/1999/02/22-rdf-syntax-ns#rest  \n33     http://www.w3.org/1999/02/22-rdf-syntax-ns#sub...  \n34      http://www.w3.org/1999/02/22-rdf-syntax-ns#value  \n35          http://www.w3.org/2000/01/rdf-schema#comment  \n36           http://www.w3.org/2000/01/rdf-schema#domain  \n37            http://www.w3.org/2000/01/rdf-schema#label  \n38            http://www.w3.org/2000/01/rdf-schema#range  \n39       http://www.w3.org/2000/01/rdf-schema#subClassOf  \n40     http://www.w3.org/2000/01/rdf-schema#subProper...  \n41                 http://www.w3.org/2002/07/owl#imports  \n42          http://www.w3.org/2002/07/owl#intersectionOf  \n43               http://www.w3.org/2002/07/owl#inverseOf  \n44              http://www.w3.org/2002/07/owl#onProperty  \n45          http://www.w3.org/2002/07/owl#someValuesFrom  \n46             http://www.w3.org/2002/07/owl#versionInfo  \n47                                                   NaN  \n48                                                   NaN  \n49                                                   NaN  \n50                                                   NaN  \n51                                                   NaN  \n52                                                   NaN  \n53                                                   NaN  \n54                                                   NaN  \n55                                                   NaN  \n56                                                   NaN  \n57                                                   NaN  \n58                                                   NaN  ",
      "text/html": "<div>\n<style scoped>\n    .dataframe tbody tr th:only-of-type {\n        vertical-align: middle;\n    }\n\n    .dataframe tbody tr th {\n        vertical-align: top;\n    }\n\n    .dataframe thead th {\n        text-align: right;\n    }\n</style>\n<table border=\"1\" class=\"dataframe\">\n  <thead>\n    <tr style=\"text-align: right;\">\n      <th>type</th>\n      <th>class</th>\n      <th>property</th>\n      <th>property_group</th>\n    </tr>\n    <tr>\n      <th>index</th>\n      <th></th>\n      <th></th>\n      <th></th>\n    </tr>\n  </thead>\n  <tbody>\n    <tr>\n      <th>0</th>\n      <td>NaN</td>\n      <td>NaN</td>\n      <td>http://www.w3.org/2000/01/rdf-schema#seeAlso</td>\n    </tr>\n    <tr>\n      <th>1</th>\n      <td>http://swat.cse.lehigh.edu/onto/univ-bench.owl...</td>\n      <td>http://www.w3.org/1999/02/22-rdf-syntax-ns#type</td>\n      <td>http://www.w3.org/1999/02/22-rdf-syntax-ns#_1</td>\n    </tr>\n    <tr>\n      <th>2</th>\n      <td>http://swat.cse.lehigh.edu/onto/univ-bench.owl...</td>\n      <td>http://swat.cse.lehigh.edu/onto/univ-bench.owl...</td>\n      <td>http://swat.cse.lehigh.edu/onto/univ-bench.owl...</td>\n    </tr>\n    <tr>\n      <th>3</th>\n      <td>http://swat.cse.lehigh.edu/onto/univ-bench.owl...</td>\n      <td>http://swat.cse.lehigh.edu/onto/univ-bench.owl...</td>\n      <td>http://swat.cse.lehigh.edu/onto/univ-bench.owl...</td>\n    </tr>\n    <tr>\n      <th>4</th>\n      <td>http://swat.cse.lehigh.edu/onto/univ-bench.owl...</td>\n      <td>http://swat.cse.lehigh.edu/onto/univ-bench.owl...</td>\n      <td>http://www.w3.org/1999/02/22-rdf-syntax-ns#type</td>\n    </tr>\n    <tr>\n      <th>5</th>\n      <td>http://swat.cse.lehigh.edu/onto/univ-bench.owl...</td>\n      <td>http://swat.cse.lehigh.edu/onto/univ-bench.owl...</td>\n      <td>http://swat.cse.lehigh.edu/onto/univ-bench.owl...</td>\n    </tr>\n    <tr>\n      <th>6</th>\n      <td>http://swat.cse.lehigh.edu/onto/univ-bench.owl...</td>\n      <td>http://swat.cse.lehigh.edu/onto/univ-bench.owl...</td>\n      <td>http://swat.cse.lehigh.edu/onto/univ-bench.owl...</td>\n    </tr>\n    <tr>\n      <th>7</th>\n      <td>http://swat.cse.lehigh.edu/onto/univ-bench.owl...</td>\n      <td>http://swat.cse.lehigh.edu/onto/univ-bench.owl...</td>\n      <td>http://swat.cse.lehigh.edu/onto/univ-bench.owl...</td>\n    </tr>\n    <tr>\n      <th>8</th>\n      <td>http://swat.cse.lehigh.edu/onto/univ-bench.owl...</td>\n      <td>http://swat.cse.lehigh.edu/onto/univ-bench.owl...</td>\n      <td>http://swat.cse.lehigh.edu/onto/univ-bench.owl...</td>\n    </tr>\n    <tr>\n      <th>9</th>\n      <td>http://swat.cse.lehigh.edu/onto/univ-bench.owl...</td>\n      <td>http://swat.cse.lehigh.edu/onto/univ-bench.owl...</td>\n      <td>http://swat.cse.lehigh.edu/onto/univ-bench.owl...</td>\n    </tr>\n    <tr>\n      <th>10</th>\n      <td>http://swat.cse.lehigh.edu/onto/univ-bench.owl...</td>\n      <td>http://swat.cse.lehigh.edu/onto/univ-bench.owl...</td>\n      <td>http://swat.cse.lehigh.edu/onto/univ-bench.owl...</td>\n    </tr>\n    <tr>\n      <th>11</th>\n      <td>http://swat.cse.lehigh.edu/onto/univ-bench.owl...</td>\n      <td>http://swat.cse.lehigh.edu/onto/univ-bench.owl...</td>\n      <td>http://swat.cse.lehigh.edu/onto/univ-bench.owl...</td>\n    </tr>\n    <tr>\n      <th>12</th>\n      <td>http://swat.cse.lehigh.edu/onto/univ-bench.owl...</td>\n      <td>http://swat.cse.lehigh.edu/onto/univ-bench.owl...</td>\n      <td>http://swat.cse.lehigh.edu/onto/univ-bench.owl...</td>\n    </tr>\n    <tr>\n      <th>13</th>\n      <td>http://swat.cse.lehigh.edu/onto/univ-bench.owl...</td>\n      <td>http://swat.cse.lehigh.edu/onto/univ-bench.owl...</td>\n      <td>http://swat.cse.lehigh.edu/onto/univ-bench.owl...</td>\n    </tr>\n    <tr>\n      <th>14</th>\n      <td>http://swat.cse.lehigh.edu/onto/univ-bench.owl...</td>\n      <td>http://swat.cse.lehigh.edu/onto/univ-bench.owl...</td>\n      <td>http://swat.cse.lehigh.edu/onto/univ-bench.owl...</td>\n    </tr>\n    <tr>\n      <th>15</th>\n      <td>http://swat.cse.lehigh.edu/onto/univ-bench.owl...</td>\n      <td>http://swat.cse.lehigh.edu/onto/univ-bench.owl...</td>\n      <td>http://swat.cse.lehigh.edu/onto/univ-bench.owl...</td>\n    </tr>\n    <tr>\n      <th>16</th>\n      <td>http://swat.cse.lehigh.edu/onto/univ-bench.owl...</td>\n      <td>http://swat.cse.lehigh.edu/onto/univ-bench.owl...</td>\n      <td>http://swat.cse.lehigh.edu/onto/univ-bench.owl...</td>\n    </tr>\n    <tr>\n      <th>17</th>\n      <td>http://swat.cse.lehigh.edu/onto/univ-bench.owl...</td>\n      <td>http://swat.cse.lehigh.edu/onto/univ-bench.owl...</td>\n      <td>http://swat.cse.lehigh.edu/onto/univ-bench.owl...</td>\n    </tr>\n    <tr>\n      <th>18</th>\n      <td>http://swat.cse.lehigh.edu/onto/univ-bench.owl...</td>\n      <td>http://swat.cse.lehigh.edu/onto/univ-bench.owl...</td>\n      <td>http://swat.cse.lehigh.edu/onto/univ-bench.owl...</td>\n    </tr>\n    <tr>\n      <th>19</th>\n      <td>http://swat.cse.lehigh.edu/onto/univ-bench.owl...</td>\n      <td>http://swat.cse.lehigh.edu/onto/univ-bench.owl...</td>\n      <td>http://swat.cse.lehigh.edu/onto/univ-bench.owl...</td>\n    </tr>\n    <tr>\n      <th>20</th>\n      <td>http://swat.cse.lehigh.edu/onto/univ-bench.owl...</td>\n      <td>http://swat.cse.lehigh.edu/onto/univ-bench.owl...</td>\n      <td>http://swat.cse.lehigh.edu/onto/univ-bench.owl...</td>\n    </tr>\n    <tr>\n      <th>21</th>\n      <td>http://swat.cse.lehigh.edu/onto/univ-bench.owl...</td>\n      <td>http://swat.cse.lehigh.edu/onto/univ-bench.owl...</td>\n      <td>http://swat.cse.lehigh.edu/onto/univ-bench.owl...</td>\n    </tr>\n    <tr>\n      <th>22</th>\n      <td>http://swat.cse.lehigh.edu/onto/univ-bench.owl...</td>\n      <td>http://swat.cse.lehigh.edu/onto/univ-bench.owl...</td>\n      <td>http://swat.cse.lehigh.edu/onto/univ-bench.owl...</td>\n    </tr>\n    <tr>\n      <th>23</th>\n      <td>http://swat.cse.lehigh.edu/onto/univ-bench.owl...</td>\n      <td>http://swat.cse.lehigh.edu/onto/univ-bench.owl...</td>\n      <td>http://swat.cse.lehigh.edu/onto/univ-bench.owl...</td>\n    </tr>\n    <tr>\n      <th>24</th>\n      <td>http://swat.cse.lehigh.edu/onto/univ-bench.owl...</td>\n      <td>http://swat.cse.lehigh.edu/onto/univ-bench.owl...</td>\n      <td>http://swat.cse.lehigh.edu/onto/univ-bench.owl...</td>\n    </tr>\n    <tr>\n      <th>25</th>\n      <td>http://swat.cse.lehigh.edu/onto/univ-bench.owl...</td>\n      <td>http://swat.cse.lehigh.edu/onto/univ-bench.owl...</td>\n      <td>http://swat.cse.lehigh.edu/onto/univ-bench.owl...</td>\n    </tr>\n    <tr>\n      <th>26</th>\n      <td>http://swat.cse.lehigh.edu/onto/univ-bench.owl...</td>\n      <td>http://swat.cse.lehigh.edu/onto/univ-bench.owl...</td>\n      <td>http://swat.cse.lehigh.edu/onto/univ-bench.owl...</td>\n    </tr>\n    <tr>\n      <th>27</th>\n      <td>http://swat.cse.lehigh.edu/onto/univ-bench.owl...</td>\n      <td>http://swat.cse.lehigh.edu/onto/univ-bench.owl...</td>\n      <td>http://swat.cse.lehigh.edu/onto/univ-bench.owl...</td>\n    </tr>\n    <tr>\n      <th>28</th>\n      <td>http://swat.cse.lehigh.edu/onto/univ-bench.owl...</td>\n      <td>http://swat.cse.lehigh.edu/onto/univ-bench.owl...</td>\n      <td>http://swat.cse.lehigh.edu/onto/univ-bench.owl...</td>\n    </tr>\n    <tr>\n      <th>29</th>\n      <td>http://swat.cse.lehigh.edu/onto/univ-bench.owl...</td>\n      <td>http://swat.cse.lehigh.edu/onto/univ-bench.owl...</td>\n      <td>http://www.w3.org/1999/02/22-rdf-syntax-ns#first</td>\n    </tr>\n    <tr>\n      <th>30</th>\n      <td>http://swat.cse.lehigh.edu/onto/univ-bench.owl...</td>\n      <td>http://swat.cse.lehigh.edu/onto/univ-bench.owl...</td>\n      <td>http://www.w3.org/1999/02/22-rdf-syntax-ns#object</td>\n    </tr>\n    <tr>\n      <th>31</th>\n      <td>http://swat.cse.lehigh.edu/onto/univ-bench.owl...</td>\n      <td>http://swat.cse.lehigh.edu/onto/univ-bench.owl...</td>\n      <td>http://www.w3.org/1999/02/22-rdf-syntax-ns#pre...</td>\n    </tr>\n    <tr>\n      <th>32</th>\n      <td>http://swat.cse.lehigh.edu/onto/univ-bench.owl...</td>\n      <td>http://swat.cse.lehigh.edu/onto/univ-bench.owl...</td>\n      <td>http://www.w3.org/1999/02/22-rdf-syntax-ns#rest</td>\n    </tr>\n    <tr>\n      <th>33</th>\n      <td>http://swat.cse.lehigh.edu/onto/univ-bench.owl...</td>\n      <td>http://www.w3.org/1999/02/22-rdf-syntax-ns#_1</td>\n      <td>http://www.w3.org/1999/02/22-rdf-syntax-ns#sub...</td>\n    </tr>\n    <tr>\n      <th>34</th>\n      <td>http://swat.cse.lehigh.edu/onto/univ-bench.owl...</td>\n      <td>http://www.w3.org/1999/02/22-rdf-syntax-ns#first</td>\n      <td>http://www.w3.org/1999/02/22-rdf-syntax-ns#value</td>\n    </tr>\n    <tr>\n      <th>35</th>\n      <td>http://swat.cse.lehigh.edu/onto/univ-bench.owl...</td>\n      <td>http://www.w3.org/1999/02/22-rdf-syntax-ns#object</td>\n      <td>http://www.w3.org/2000/01/rdf-schema#comment</td>\n    </tr>\n    <tr>\n      <th>36</th>\n      <td>http://swat.cse.lehigh.edu/onto/univ-bench.owl...</td>\n      <td>http://www.w3.org/1999/02/22-rdf-syntax-ns#pre...</td>\n      <td>http://www.w3.org/2000/01/rdf-schema#domain</td>\n    </tr>\n    <tr>\n      <th>37</th>\n      <td>http://swat.cse.lehigh.edu/onto/univ-bench.owl...</td>\n      <td>http://www.w3.org/1999/02/22-rdf-syntax-ns#rest</td>\n      <td>http://www.w3.org/2000/01/rdf-schema#label</td>\n    </tr>\n    <tr>\n      <th>38</th>\n      <td>http://swat.cse.lehigh.edu/onto/univ-bench.owl...</td>\n      <td>http://www.w3.org/1999/02/22-rdf-syntax-ns#sub...</td>\n      <td>http://www.w3.org/2000/01/rdf-schema#range</td>\n    </tr>\n    <tr>\n      <th>39</th>\n      <td>http://swat.cse.lehigh.edu/onto/univ-bench.owl...</td>\n      <td>http://www.w3.org/1999/02/22-rdf-syntax-ns#value</td>\n      <td>http://www.w3.org/2000/01/rdf-schema#subClassOf</td>\n    </tr>\n    <tr>\n      <th>40</th>\n      <td>http://swat.cse.lehigh.edu/onto/univ-bench.owl...</td>\n      <td>http://www.w3.org/2000/01/rdf-schema#comment</td>\n      <td>http://www.w3.org/2000/01/rdf-schema#subProper...</td>\n    </tr>\n    <tr>\n      <th>41</th>\n      <td>http://swat.cse.lehigh.edu/onto/univ-bench.owl...</td>\n      <td>http://www.w3.org/2000/01/rdf-schema#domain</td>\n      <td>http://www.w3.org/2002/07/owl#imports</td>\n    </tr>\n    <tr>\n      <th>42</th>\n      <td>http://swat.cse.lehigh.edu/onto/univ-bench.owl...</td>\n      <td>http://www.w3.org/2000/01/rdf-schema#isDefinedBy</td>\n      <td>http://www.w3.org/2002/07/owl#intersectionOf</td>\n    </tr>\n    <tr>\n      <th>43</th>\n      <td>http://swat.cse.lehigh.edu/onto/univ-bench.owl...</td>\n      <td>http://www.w3.org/2000/01/rdf-schema#label</td>\n      <td>http://www.w3.org/2002/07/owl#inverseOf</td>\n    </tr>\n    <tr>\n      <th>44</th>\n      <td>http://www.w3.org/1999/02/22-rdf-syntax-ns#Alt</td>\n      <td>http://www.w3.org/2000/01/rdf-schema#member</td>\n      <td>http://www.w3.org/2002/07/owl#onProperty</td>\n    </tr>\n    <tr>\n      <th>45</th>\n      <td>http://www.w3.org/1999/02/22-rdf-syntax-ns#Bag</td>\n      <td>http://www.w3.org/2000/01/rdf-schema#range</td>\n      <td>http://www.w3.org/2002/07/owl#someValuesFrom</td>\n    </tr>\n    <tr>\n      <th>46</th>\n      <td>http://www.w3.org/1999/02/22-rdf-syntax-ns#List</td>\n      <td>http://www.w3.org/2000/01/rdf-schema#seeAlso</td>\n      <td>http://www.w3.org/2002/07/owl#versionInfo</td>\n    </tr>\n    <tr>\n      <th>47</th>\n      <td>http://www.w3.org/1999/02/22-rdf-syntax-ns#Pro...</td>\n      <td>http://www.w3.org/2000/01/rdf-schema#subClassOf</td>\n      <td>NaN</td>\n    </tr>\n    <tr>\n      <th>48</th>\n      <td>http://www.w3.org/1999/02/22-rdf-syntax-ns#Seq</td>\n      <td>http://www.w3.org/2000/01/rdf-schema#subProper...</td>\n      <td>NaN</td>\n    </tr>\n    <tr>\n      <th>49</th>\n      <td>http://www.w3.org/1999/02/22-rdf-syntax-ns#Sta...</td>\n      <td>http://www.w3.org/2002/07/owl#imports</td>\n      <td>NaN</td>\n    </tr>\n    <tr>\n      <th>50</th>\n      <td>http://www.w3.org/1999/02/22-rdf-syntax-ns#XML...</td>\n      <td>http://www.w3.org/2002/07/owl#intersectionOf</td>\n      <td>NaN</td>\n    </tr>\n    <tr>\n      <th>51</th>\n      <td>http://www.w3.org/2000/01/rdf-schema#Class</td>\n      <td>http://www.w3.org/2002/07/owl#inverseOf</td>\n      <td>NaN</td>\n    </tr>\n    <tr>\n      <th>52</th>\n      <td>http://www.w3.org/2000/01/rdf-schema#Container</td>\n      <td>http://www.w3.org/2002/07/owl#onProperty</td>\n      <td>NaN</td>\n    </tr>\n    <tr>\n      <th>53</th>\n      <td>http://www.w3.org/2000/01/rdf-schema#Container...</td>\n      <td>http://www.w3.org/2002/07/owl#someValuesFrom</td>\n      <td>NaN</td>\n    </tr>\n    <tr>\n      <th>54</th>\n      <td>http://www.w3.org/2000/01/rdf-schema#Datatype</td>\n      <td>http://www.w3.org/2002/07/owl#versionInfo</td>\n      <td>NaN</td>\n    </tr>\n    <tr>\n      <th>55</th>\n      <td>http://www.w3.org/2000/01/rdf-schema#Literal</td>\n      <td>NaN</td>\n      <td>NaN</td>\n    </tr>\n    <tr>\n      <th>56</th>\n      <td>http://www.w3.org/2000/01/rdf-schema#Resource</td>\n      <td>NaN</td>\n      <td>NaN</td>\n    </tr>\n    <tr>\n      <th>57</th>\n      <td>http://www.w3.org/2001/XMLSchema#nonNegativeIn...</td>\n      <td>NaN</td>\n      <td>NaN</td>\n    </tr>\n    <tr>\n      <th>58</th>\n      <td>http://www.w3.org/2001/XMLSchema#string</td>\n      <td>NaN</td>\n      <td>NaN</td>\n    </tr>\n  </tbody>\n</table>\n</div>"
     },
     "execution_count": 143,
     "metadata": {},
     "output_type": "execute_result"
    }
   ],
   "source": [
    "# Assuming your dataframe is named 'df'\n",
    "# Pivot the dataframe to create separate columns for Class, Property, and Property_Group\n",
    "result_df = df.pivot_table(index='index', columns='type', values='uri', aggfunc='first')\n",
    "\n",
    "# Rename columns for better readability\n",
    "\n",
    "# Drop the 'index' column, as it is not needed anymore\n",
    "\n",
    "\n",
    "# Display the resulting dataframe\n",
    "result_df"
   ],
   "metadata": {
    "collapsed": false
   }
  },
  {
   "cell_type": "code",
   "execution_count": 176,
   "outputs": [],
   "source": [
    "classes = []\n",
    "properties = []\n",
    "property_groups = []\n",
    "\n",
    "for key, value in lubm_classes.items():\n",
    "#    data.append({\"class\": key, \"property\": None, \"property_group\": None, \"index\": value})\n",
    "    classes.append({\"class\": key, \"index\": value})\n",
    "\n",
    "for key, value in lubm_properties.items():\n",
    "    properties.append({\"property\": key, \"index\": value})\n",
    "\n",
    "for key, value in lubm_properties_groups.items():\n",
    "    property_groups.append({\"property_group\": key, \"index\": value})\n",
    "\n",
    "df5_classes = pd.DataFrame(classes)\n",
    "df5_properties = pd.DataFrame(properties)\n",
    "df5_property_groups = pd.DataFrame(property_groups)"
   ],
   "metadata": {
    "collapsed": false
   }
  },
  {
   "cell_type": "code",
   "execution_count": 177,
   "outputs": [
    {
     "data": {
      "text/plain": "                                                class  index\n0   http://swat.cse.lehigh.edu/onto/univ-bench.owl...      1\n1   http://swat.cse.lehigh.edu/onto/univ-bench.owl...      2\n2   http://swat.cse.lehigh.edu/onto/univ-bench.owl...      3\n3   http://swat.cse.lehigh.edu/onto/univ-bench.owl...      4\n4   http://swat.cse.lehigh.edu/onto/univ-bench.owl...      5\n5   http://swat.cse.lehigh.edu/onto/univ-bench.owl...      6\n6   http://swat.cse.lehigh.edu/onto/univ-bench.owl...      7\n7   http://swat.cse.lehigh.edu/onto/univ-bench.owl...      8\n8   http://swat.cse.lehigh.edu/onto/univ-bench.owl...      9\n9   http://swat.cse.lehigh.edu/onto/univ-bench.owl...     10\n10  http://swat.cse.lehigh.edu/onto/univ-bench.owl...     11\n11  http://swat.cse.lehigh.edu/onto/univ-bench.owl...     12\n12  http://swat.cse.lehigh.edu/onto/univ-bench.owl...     13\n13  http://swat.cse.lehigh.edu/onto/univ-bench.owl...     14\n14  http://swat.cse.lehigh.edu/onto/univ-bench.owl...     15\n15  http://swat.cse.lehigh.edu/onto/univ-bench.owl...     16\n16  http://swat.cse.lehigh.edu/onto/univ-bench.owl...     17\n17  http://swat.cse.lehigh.edu/onto/univ-bench.owl...     18\n18  http://swat.cse.lehigh.edu/onto/univ-bench.owl...     19\n19  http://swat.cse.lehigh.edu/onto/univ-bench.owl...     20\n20  http://swat.cse.lehigh.edu/onto/univ-bench.owl...     21\n21  http://swat.cse.lehigh.edu/onto/univ-bench.owl...     22\n22  http://swat.cse.lehigh.edu/onto/univ-bench.owl...     23\n23  http://swat.cse.lehigh.edu/onto/univ-bench.owl...     24\n24  http://swat.cse.lehigh.edu/onto/univ-bench.owl...     25\n25  http://swat.cse.lehigh.edu/onto/univ-bench.owl...     26\n26  http://swat.cse.lehigh.edu/onto/univ-bench.owl...     27\n27  http://swat.cse.lehigh.edu/onto/univ-bench.owl...     28\n28  http://swat.cse.lehigh.edu/onto/univ-bench.owl...     29\n29  http://swat.cse.lehigh.edu/onto/univ-bench.owl...     30\n30  http://swat.cse.lehigh.edu/onto/univ-bench.owl...     31\n31  http://swat.cse.lehigh.edu/onto/univ-bench.owl...     32\n32  http://swat.cse.lehigh.edu/onto/univ-bench.owl...     33\n33  http://swat.cse.lehigh.edu/onto/univ-bench.owl...     34\n34  http://swat.cse.lehigh.edu/onto/univ-bench.owl...     35\n35  http://swat.cse.lehigh.edu/onto/univ-bench.owl...     36\n36  http://swat.cse.lehigh.edu/onto/univ-bench.owl...     37\n37  http://swat.cse.lehigh.edu/onto/univ-bench.owl...     38\n38  http://swat.cse.lehigh.edu/onto/univ-bench.owl...     39\n39  http://swat.cse.lehigh.edu/onto/univ-bench.owl...     40\n40  http://swat.cse.lehigh.edu/onto/univ-bench.owl...     41\n41  http://swat.cse.lehigh.edu/onto/univ-bench.owl...     42\n42  http://swat.cse.lehigh.edu/onto/univ-bench.owl...     43\n43     http://www.w3.org/1999/02/22-rdf-syntax-ns#Alt     44\n44     http://www.w3.org/1999/02/22-rdf-syntax-ns#Bag     45\n45    http://www.w3.org/1999/02/22-rdf-syntax-ns#List     46\n46  http://www.w3.org/1999/02/22-rdf-syntax-ns#Pro...     47\n47     http://www.w3.org/1999/02/22-rdf-syntax-ns#Seq     48\n48  http://www.w3.org/1999/02/22-rdf-syntax-ns#Sta...     49\n49  http://www.w3.org/1999/02/22-rdf-syntax-ns#XML...     50\n50         http://www.w3.org/2000/01/rdf-schema#Class     51\n51     http://www.w3.org/2000/01/rdf-schema#Container     52\n52  http://www.w3.org/2000/01/rdf-schema#Container...     53\n53      http://www.w3.org/2000/01/rdf-schema#Datatype     54\n54       http://www.w3.org/2000/01/rdf-schema#Literal     55\n55      http://www.w3.org/2000/01/rdf-schema#Resource     56\n56  http://www.w3.org/2001/XMLSchema#nonNegativeIn...     57\n57            http://www.w3.org/2001/XMLSchema#string     58",
      "text/html": "<div>\n<style scoped>\n    .dataframe tbody tr th:only-of-type {\n        vertical-align: middle;\n    }\n\n    .dataframe tbody tr th {\n        vertical-align: top;\n    }\n\n    .dataframe thead th {\n        text-align: right;\n    }\n</style>\n<table border=\"1\" class=\"dataframe\">\n  <thead>\n    <tr style=\"text-align: right;\">\n      <th></th>\n      <th>class</th>\n      <th>index</th>\n    </tr>\n  </thead>\n  <tbody>\n    <tr>\n      <th>0</th>\n      <td>http://swat.cse.lehigh.edu/onto/univ-bench.owl...</td>\n      <td>1</td>\n    </tr>\n    <tr>\n      <th>1</th>\n      <td>http://swat.cse.lehigh.edu/onto/univ-bench.owl...</td>\n      <td>2</td>\n    </tr>\n    <tr>\n      <th>2</th>\n      <td>http://swat.cse.lehigh.edu/onto/univ-bench.owl...</td>\n      <td>3</td>\n    </tr>\n    <tr>\n      <th>3</th>\n      <td>http://swat.cse.lehigh.edu/onto/univ-bench.owl...</td>\n      <td>4</td>\n    </tr>\n    <tr>\n      <th>4</th>\n      <td>http://swat.cse.lehigh.edu/onto/univ-bench.owl...</td>\n      <td>5</td>\n    </tr>\n    <tr>\n      <th>5</th>\n      <td>http://swat.cse.lehigh.edu/onto/univ-bench.owl...</td>\n      <td>6</td>\n    </tr>\n    <tr>\n      <th>6</th>\n      <td>http://swat.cse.lehigh.edu/onto/univ-bench.owl...</td>\n      <td>7</td>\n    </tr>\n    <tr>\n      <th>7</th>\n      <td>http://swat.cse.lehigh.edu/onto/univ-bench.owl...</td>\n      <td>8</td>\n    </tr>\n    <tr>\n      <th>8</th>\n      <td>http://swat.cse.lehigh.edu/onto/univ-bench.owl...</td>\n      <td>9</td>\n    </tr>\n    <tr>\n      <th>9</th>\n      <td>http://swat.cse.lehigh.edu/onto/univ-bench.owl...</td>\n      <td>10</td>\n    </tr>\n    <tr>\n      <th>10</th>\n      <td>http://swat.cse.lehigh.edu/onto/univ-bench.owl...</td>\n      <td>11</td>\n    </tr>\n    <tr>\n      <th>11</th>\n      <td>http://swat.cse.lehigh.edu/onto/univ-bench.owl...</td>\n      <td>12</td>\n    </tr>\n    <tr>\n      <th>12</th>\n      <td>http://swat.cse.lehigh.edu/onto/univ-bench.owl...</td>\n      <td>13</td>\n    </tr>\n    <tr>\n      <th>13</th>\n      <td>http://swat.cse.lehigh.edu/onto/univ-bench.owl...</td>\n      <td>14</td>\n    </tr>\n    <tr>\n      <th>14</th>\n      <td>http://swat.cse.lehigh.edu/onto/univ-bench.owl...</td>\n      <td>15</td>\n    </tr>\n    <tr>\n      <th>15</th>\n      <td>http://swat.cse.lehigh.edu/onto/univ-bench.owl...</td>\n      <td>16</td>\n    </tr>\n    <tr>\n      <th>16</th>\n      <td>http://swat.cse.lehigh.edu/onto/univ-bench.owl...</td>\n      <td>17</td>\n    </tr>\n    <tr>\n      <th>17</th>\n      <td>http://swat.cse.lehigh.edu/onto/univ-bench.owl...</td>\n      <td>18</td>\n    </tr>\n    <tr>\n      <th>18</th>\n      <td>http://swat.cse.lehigh.edu/onto/univ-bench.owl...</td>\n      <td>19</td>\n    </tr>\n    <tr>\n      <th>19</th>\n      <td>http://swat.cse.lehigh.edu/onto/univ-bench.owl...</td>\n      <td>20</td>\n    </tr>\n    <tr>\n      <th>20</th>\n      <td>http://swat.cse.lehigh.edu/onto/univ-bench.owl...</td>\n      <td>21</td>\n    </tr>\n    <tr>\n      <th>21</th>\n      <td>http://swat.cse.lehigh.edu/onto/univ-bench.owl...</td>\n      <td>22</td>\n    </tr>\n    <tr>\n      <th>22</th>\n      <td>http://swat.cse.lehigh.edu/onto/univ-bench.owl...</td>\n      <td>23</td>\n    </tr>\n    <tr>\n      <th>23</th>\n      <td>http://swat.cse.lehigh.edu/onto/univ-bench.owl...</td>\n      <td>24</td>\n    </tr>\n    <tr>\n      <th>24</th>\n      <td>http://swat.cse.lehigh.edu/onto/univ-bench.owl...</td>\n      <td>25</td>\n    </tr>\n    <tr>\n      <th>25</th>\n      <td>http://swat.cse.lehigh.edu/onto/univ-bench.owl...</td>\n      <td>26</td>\n    </tr>\n    <tr>\n      <th>26</th>\n      <td>http://swat.cse.lehigh.edu/onto/univ-bench.owl...</td>\n      <td>27</td>\n    </tr>\n    <tr>\n      <th>27</th>\n      <td>http://swat.cse.lehigh.edu/onto/univ-bench.owl...</td>\n      <td>28</td>\n    </tr>\n    <tr>\n      <th>28</th>\n      <td>http://swat.cse.lehigh.edu/onto/univ-bench.owl...</td>\n      <td>29</td>\n    </tr>\n    <tr>\n      <th>29</th>\n      <td>http://swat.cse.lehigh.edu/onto/univ-bench.owl...</td>\n      <td>30</td>\n    </tr>\n    <tr>\n      <th>30</th>\n      <td>http://swat.cse.lehigh.edu/onto/univ-bench.owl...</td>\n      <td>31</td>\n    </tr>\n    <tr>\n      <th>31</th>\n      <td>http://swat.cse.lehigh.edu/onto/univ-bench.owl...</td>\n      <td>32</td>\n    </tr>\n    <tr>\n      <th>32</th>\n      <td>http://swat.cse.lehigh.edu/onto/univ-bench.owl...</td>\n      <td>33</td>\n    </tr>\n    <tr>\n      <th>33</th>\n      <td>http://swat.cse.lehigh.edu/onto/univ-bench.owl...</td>\n      <td>34</td>\n    </tr>\n    <tr>\n      <th>34</th>\n      <td>http://swat.cse.lehigh.edu/onto/univ-bench.owl...</td>\n      <td>35</td>\n    </tr>\n    <tr>\n      <th>35</th>\n      <td>http://swat.cse.lehigh.edu/onto/univ-bench.owl...</td>\n      <td>36</td>\n    </tr>\n    <tr>\n      <th>36</th>\n      <td>http://swat.cse.lehigh.edu/onto/univ-bench.owl...</td>\n      <td>37</td>\n    </tr>\n    <tr>\n      <th>37</th>\n      <td>http://swat.cse.lehigh.edu/onto/univ-bench.owl...</td>\n      <td>38</td>\n    </tr>\n    <tr>\n      <th>38</th>\n      <td>http://swat.cse.lehigh.edu/onto/univ-bench.owl...</td>\n      <td>39</td>\n    </tr>\n    <tr>\n      <th>39</th>\n      <td>http://swat.cse.lehigh.edu/onto/univ-bench.owl...</td>\n      <td>40</td>\n    </tr>\n    <tr>\n      <th>40</th>\n      <td>http://swat.cse.lehigh.edu/onto/univ-bench.owl...</td>\n      <td>41</td>\n    </tr>\n    <tr>\n      <th>41</th>\n      <td>http://swat.cse.lehigh.edu/onto/univ-bench.owl...</td>\n      <td>42</td>\n    </tr>\n    <tr>\n      <th>42</th>\n      <td>http://swat.cse.lehigh.edu/onto/univ-bench.owl...</td>\n      <td>43</td>\n    </tr>\n    <tr>\n      <th>43</th>\n      <td>http://www.w3.org/1999/02/22-rdf-syntax-ns#Alt</td>\n      <td>44</td>\n    </tr>\n    <tr>\n      <th>44</th>\n      <td>http://www.w3.org/1999/02/22-rdf-syntax-ns#Bag</td>\n      <td>45</td>\n    </tr>\n    <tr>\n      <th>45</th>\n      <td>http://www.w3.org/1999/02/22-rdf-syntax-ns#List</td>\n      <td>46</td>\n    </tr>\n    <tr>\n      <th>46</th>\n      <td>http://www.w3.org/1999/02/22-rdf-syntax-ns#Pro...</td>\n      <td>47</td>\n    </tr>\n    <tr>\n      <th>47</th>\n      <td>http://www.w3.org/1999/02/22-rdf-syntax-ns#Seq</td>\n      <td>48</td>\n    </tr>\n    <tr>\n      <th>48</th>\n      <td>http://www.w3.org/1999/02/22-rdf-syntax-ns#Sta...</td>\n      <td>49</td>\n    </tr>\n    <tr>\n      <th>49</th>\n      <td>http://www.w3.org/1999/02/22-rdf-syntax-ns#XML...</td>\n      <td>50</td>\n    </tr>\n    <tr>\n      <th>50</th>\n      <td>http://www.w3.org/2000/01/rdf-schema#Class</td>\n      <td>51</td>\n    </tr>\n    <tr>\n      <th>51</th>\n      <td>http://www.w3.org/2000/01/rdf-schema#Container</td>\n      <td>52</td>\n    </tr>\n    <tr>\n      <th>52</th>\n      <td>http://www.w3.org/2000/01/rdf-schema#Container...</td>\n      <td>53</td>\n    </tr>\n    <tr>\n      <th>53</th>\n      <td>http://www.w3.org/2000/01/rdf-schema#Datatype</td>\n      <td>54</td>\n    </tr>\n    <tr>\n      <th>54</th>\n      <td>http://www.w3.org/2000/01/rdf-schema#Literal</td>\n      <td>55</td>\n    </tr>\n    <tr>\n      <th>55</th>\n      <td>http://www.w3.org/2000/01/rdf-schema#Resource</td>\n      <td>56</td>\n    </tr>\n    <tr>\n      <th>56</th>\n      <td>http://www.w3.org/2001/XMLSchema#nonNegativeIn...</td>\n      <td>57</td>\n    </tr>\n    <tr>\n      <th>57</th>\n      <td>http://www.w3.org/2001/XMLSchema#string</td>\n      <td>58</td>\n    </tr>\n  </tbody>\n</table>\n</div>"
     },
     "execution_count": 177,
     "metadata": {},
     "output_type": "execute_result"
    }
   ],
   "source": [
    "df5_classes"
   ],
   "metadata": {
    "collapsed": false
   }
  },
  {
   "cell_type": "code",
   "execution_count": 178,
   "outputs": [
    {
     "data": {
      "text/plain": "    index                                           property\n0       1    http://www.w3.org/1999/02/22-rdf-syntax-ns#type\n1       2  http://swat.cse.lehigh.edu/onto/univ-bench.owl...\n2       3  http://swat.cse.lehigh.edu/onto/univ-bench.owl...\n3       4  http://swat.cse.lehigh.edu/onto/univ-bench.owl...\n4       5  http://swat.cse.lehigh.edu/onto/univ-bench.owl...\n5       6  http://swat.cse.lehigh.edu/onto/univ-bench.owl...\n6       7  http://swat.cse.lehigh.edu/onto/univ-bench.owl...\n7       8  http://swat.cse.lehigh.edu/onto/univ-bench.owl...\n8       9  http://swat.cse.lehigh.edu/onto/univ-bench.owl...\n9      10  http://swat.cse.lehigh.edu/onto/univ-bench.owl...\n10     11  http://swat.cse.lehigh.edu/onto/univ-bench.owl...\n11     12  http://swat.cse.lehigh.edu/onto/univ-bench.owl...\n12     13  http://swat.cse.lehigh.edu/onto/univ-bench.owl...\n13     14  http://swat.cse.lehigh.edu/onto/univ-bench.owl...\n14     15  http://swat.cse.lehigh.edu/onto/univ-bench.owl...\n15     16  http://swat.cse.lehigh.edu/onto/univ-bench.owl...\n16     17  http://swat.cse.lehigh.edu/onto/univ-bench.owl...\n17     18  http://swat.cse.lehigh.edu/onto/univ-bench.owl...\n18     19  http://swat.cse.lehigh.edu/onto/univ-bench.owl...\n19     20  http://swat.cse.lehigh.edu/onto/univ-bench.owl...\n20     21  http://swat.cse.lehigh.edu/onto/univ-bench.owl...\n21     22  http://swat.cse.lehigh.edu/onto/univ-bench.owl...\n22     23  http://swat.cse.lehigh.edu/onto/univ-bench.owl...\n23     24  http://swat.cse.lehigh.edu/onto/univ-bench.owl...\n24     25  http://swat.cse.lehigh.edu/onto/univ-bench.owl...\n25     26  http://swat.cse.lehigh.edu/onto/univ-bench.owl...\n26     27  http://swat.cse.lehigh.edu/onto/univ-bench.owl...\n27     28  http://swat.cse.lehigh.edu/onto/univ-bench.owl...\n28     29  http://swat.cse.lehigh.edu/onto/univ-bench.owl...\n29     30  http://swat.cse.lehigh.edu/onto/univ-bench.owl...\n30     31  http://swat.cse.lehigh.edu/onto/univ-bench.owl...\n31     32  http://swat.cse.lehigh.edu/onto/univ-bench.owl...\n32     33      http://www.w3.org/1999/02/22-rdf-syntax-ns#_1\n33     34   http://www.w3.org/1999/02/22-rdf-syntax-ns#first\n34     35  http://www.w3.org/1999/02/22-rdf-syntax-ns#object\n35     36  http://www.w3.org/1999/02/22-rdf-syntax-ns#pre...\n36     37    http://www.w3.org/1999/02/22-rdf-syntax-ns#rest\n37     38  http://www.w3.org/1999/02/22-rdf-syntax-ns#sub...\n38     39   http://www.w3.org/1999/02/22-rdf-syntax-ns#value\n39     40       http://www.w3.org/2000/01/rdf-schema#comment\n40     41        http://www.w3.org/2000/01/rdf-schema#domain\n41     42   http://www.w3.org/2000/01/rdf-schema#isDefinedBy\n42     43         http://www.w3.org/2000/01/rdf-schema#label\n43     44        http://www.w3.org/2000/01/rdf-schema#member\n44     45         http://www.w3.org/2000/01/rdf-schema#range\n45     46       http://www.w3.org/2000/01/rdf-schema#seeAlso\n46     47    http://www.w3.org/2000/01/rdf-schema#subClassOf\n47     48  http://www.w3.org/2000/01/rdf-schema#subProper...\n48     49              http://www.w3.org/2002/07/owl#imports\n49     50       http://www.w3.org/2002/07/owl#intersectionOf\n50     51            http://www.w3.org/2002/07/owl#inverseOf\n51     52           http://www.w3.org/2002/07/owl#onProperty\n52     53       http://www.w3.org/2002/07/owl#someValuesFrom\n53     54          http://www.w3.org/2002/07/owl#versionInfo",
      "text/html": "<div>\n<style scoped>\n    .dataframe tbody tr th:only-of-type {\n        vertical-align: middle;\n    }\n\n    .dataframe tbody tr th {\n        vertical-align: top;\n    }\n\n    .dataframe thead th {\n        text-align: right;\n    }\n</style>\n<table border=\"1\" class=\"dataframe\">\n  <thead>\n    <tr style=\"text-align: right;\">\n      <th></th>\n      <th>index</th>\n      <th>property</th>\n    </tr>\n  </thead>\n  <tbody>\n    <tr>\n      <th>0</th>\n      <td>1</td>\n      <td>http://www.w3.org/1999/02/22-rdf-syntax-ns#type</td>\n    </tr>\n    <tr>\n      <th>1</th>\n      <td>2</td>\n      <td>http://swat.cse.lehigh.edu/onto/univ-bench.owl...</td>\n    </tr>\n    <tr>\n      <th>2</th>\n      <td>3</td>\n      <td>http://swat.cse.lehigh.edu/onto/univ-bench.owl...</td>\n    </tr>\n    <tr>\n      <th>3</th>\n      <td>4</td>\n      <td>http://swat.cse.lehigh.edu/onto/univ-bench.owl...</td>\n    </tr>\n    <tr>\n      <th>4</th>\n      <td>5</td>\n      <td>http://swat.cse.lehigh.edu/onto/univ-bench.owl...</td>\n    </tr>\n    <tr>\n      <th>5</th>\n      <td>6</td>\n      <td>http://swat.cse.lehigh.edu/onto/univ-bench.owl...</td>\n    </tr>\n    <tr>\n      <th>6</th>\n      <td>7</td>\n      <td>http://swat.cse.lehigh.edu/onto/univ-bench.owl...</td>\n    </tr>\n    <tr>\n      <th>7</th>\n      <td>8</td>\n      <td>http://swat.cse.lehigh.edu/onto/univ-bench.owl...</td>\n    </tr>\n    <tr>\n      <th>8</th>\n      <td>9</td>\n      <td>http://swat.cse.lehigh.edu/onto/univ-bench.owl...</td>\n    </tr>\n    <tr>\n      <th>9</th>\n      <td>10</td>\n      <td>http://swat.cse.lehigh.edu/onto/univ-bench.owl...</td>\n    </tr>\n    <tr>\n      <th>10</th>\n      <td>11</td>\n      <td>http://swat.cse.lehigh.edu/onto/univ-bench.owl...</td>\n    </tr>\n    <tr>\n      <th>11</th>\n      <td>12</td>\n      <td>http://swat.cse.lehigh.edu/onto/univ-bench.owl...</td>\n    </tr>\n    <tr>\n      <th>12</th>\n      <td>13</td>\n      <td>http://swat.cse.lehigh.edu/onto/univ-bench.owl...</td>\n    </tr>\n    <tr>\n      <th>13</th>\n      <td>14</td>\n      <td>http://swat.cse.lehigh.edu/onto/univ-bench.owl...</td>\n    </tr>\n    <tr>\n      <th>14</th>\n      <td>15</td>\n      <td>http://swat.cse.lehigh.edu/onto/univ-bench.owl...</td>\n    </tr>\n    <tr>\n      <th>15</th>\n      <td>16</td>\n      <td>http://swat.cse.lehigh.edu/onto/univ-bench.owl...</td>\n    </tr>\n    <tr>\n      <th>16</th>\n      <td>17</td>\n      <td>http://swat.cse.lehigh.edu/onto/univ-bench.owl...</td>\n    </tr>\n    <tr>\n      <th>17</th>\n      <td>18</td>\n      <td>http://swat.cse.lehigh.edu/onto/univ-bench.owl...</td>\n    </tr>\n    <tr>\n      <th>18</th>\n      <td>19</td>\n      <td>http://swat.cse.lehigh.edu/onto/univ-bench.owl...</td>\n    </tr>\n    <tr>\n      <th>19</th>\n      <td>20</td>\n      <td>http://swat.cse.lehigh.edu/onto/univ-bench.owl...</td>\n    </tr>\n    <tr>\n      <th>20</th>\n      <td>21</td>\n      <td>http://swat.cse.lehigh.edu/onto/univ-bench.owl...</td>\n    </tr>\n    <tr>\n      <th>21</th>\n      <td>22</td>\n      <td>http://swat.cse.lehigh.edu/onto/univ-bench.owl...</td>\n    </tr>\n    <tr>\n      <th>22</th>\n      <td>23</td>\n      <td>http://swat.cse.lehigh.edu/onto/univ-bench.owl...</td>\n    </tr>\n    <tr>\n      <th>23</th>\n      <td>24</td>\n      <td>http://swat.cse.lehigh.edu/onto/univ-bench.owl...</td>\n    </tr>\n    <tr>\n      <th>24</th>\n      <td>25</td>\n      <td>http://swat.cse.lehigh.edu/onto/univ-bench.owl...</td>\n    </tr>\n    <tr>\n      <th>25</th>\n      <td>26</td>\n      <td>http://swat.cse.lehigh.edu/onto/univ-bench.owl...</td>\n    </tr>\n    <tr>\n      <th>26</th>\n      <td>27</td>\n      <td>http://swat.cse.lehigh.edu/onto/univ-bench.owl...</td>\n    </tr>\n    <tr>\n      <th>27</th>\n      <td>28</td>\n      <td>http://swat.cse.lehigh.edu/onto/univ-bench.owl...</td>\n    </tr>\n    <tr>\n      <th>28</th>\n      <td>29</td>\n      <td>http://swat.cse.lehigh.edu/onto/univ-bench.owl...</td>\n    </tr>\n    <tr>\n      <th>29</th>\n      <td>30</td>\n      <td>http://swat.cse.lehigh.edu/onto/univ-bench.owl...</td>\n    </tr>\n    <tr>\n      <th>30</th>\n      <td>31</td>\n      <td>http://swat.cse.lehigh.edu/onto/univ-bench.owl...</td>\n    </tr>\n    <tr>\n      <th>31</th>\n      <td>32</td>\n      <td>http://swat.cse.lehigh.edu/onto/univ-bench.owl...</td>\n    </tr>\n    <tr>\n      <th>32</th>\n      <td>33</td>\n      <td>http://www.w3.org/1999/02/22-rdf-syntax-ns#_1</td>\n    </tr>\n    <tr>\n      <th>33</th>\n      <td>34</td>\n      <td>http://www.w3.org/1999/02/22-rdf-syntax-ns#first</td>\n    </tr>\n    <tr>\n      <th>34</th>\n      <td>35</td>\n      <td>http://www.w3.org/1999/02/22-rdf-syntax-ns#object</td>\n    </tr>\n    <tr>\n      <th>35</th>\n      <td>36</td>\n      <td>http://www.w3.org/1999/02/22-rdf-syntax-ns#pre...</td>\n    </tr>\n    <tr>\n      <th>36</th>\n      <td>37</td>\n      <td>http://www.w3.org/1999/02/22-rdf-syntax-ns#rest</td>\n    </tr>\n    <tr>\n      <th>37</th>\n      <td>38</td>\n      <td>http://www.w3.org/1999/02/22-rdf-syntax-ns#sub...</td>\n    </tr>\n    <tr>\n      <th>38</th>\n      <td>39</td>\n      <td>http://www.w3.org/1999/02/22-rdf-syntax-ns#value</td>\n    </tr>\n    <tr>\n      <th>39</th>\n      <td>40</td>\n      <td>http://www.w3.org/2000/01/rdf-schema#comment</td>\n    </tr>\n    <tr>\n      <th>40</th>\n      <td>41</td>\n      <td>http://www.w3.org/2000/01/rdf-schema#domain</td>\n    </tr>\n    <tr>\n      <th>41</th>\n      <td>42</td>\n      <td>http://www.w3.org/2000/01/rdf-schema#isDefinedBy</td>\n    </tr>\n    <tr>\n      <th>42</th>\n      <td>43</td>\n      <td>http://www.w3.org/2000/01/rdf-schema#label</td>\n    </tr>\n    <tr>\n      <th>43</th>\n      <td>44</td>\n      <td>http://www.w3.org/2000/01/rdf-schema#member</td>\n    </tr>\n    <tr>\n      <th>44</th>\n      <td>45</td>\n      <td>http://www.w3.org/2000/01/rdf-schema#range</td>\n    </tr>\n    <tr>\n      <th>45</th>\n      <td>46</td>\n      <td>http://www.w3.org/2000/01/rdf-schema#seeAlso</td>\n    </tr>\n    <tr>\n      <th>46</th>\n      <td>47</td>\n      <td>http://www.w3.org/2000/01/rdf-schema#subClassOf</td>\n    </tr>\n    <tr>\n      <th>47</th>\n      <td>48</td>\n      <td>http://www.w3.org/2000/01/rdf-schema#subProper...</td>\n    </tr>\n    <tr>\n      <th>48</th>\n      <td>49</td>\n      <td>http://www.w3.org/2002/07/owl#imports</td>\n    </tr>\n    <tr>\n      <th>49</th>\n      <td>50</td>\n      <td>http://www.w3.org/2002/07/owl#intersectionOf</td>\n    </tr>\n    <tr>\n      <th>50</th>\n      <td>51</td>\n      <td>http://www.w3.org/2002/07/owl#inverseOf</td>\n    </tr>\n    <tr>\n      <th>51</th>\n      <td>52</td>\n      <td>http://www.w3.org/2002/07/owl#onProperty</td>\n    </tr>\n    <tr>\n      <th>52</th>\n      <td>53</td>\n      <td>http://www.w3.org/2002/07/owl#someValuesFrom</td>\n    </tr>\n    <tr>\n      <th>53</th>\n      <td>54</td>\n      <td>http://www.w3.org/2002/07/owl#versionInfo</td>\n    </tr>\n  </tbody>\n</table>\n</div>"
     },
     "execution_count": 178,
     "metadata": {},
     "output_type": "execute_result"
    }
   ],
   "source": [
    "df5_properties"
   ],
   "metadata": {
    "collapsed": false
   }
  },
  {
   "cell_type": "code",
   "execution_count": 182,
   "outputs": [],
   "source": [
    "df_5 = df5_classes.join(df5_properties.set_index('index'), on='index')"
   ],
   "metadata": {
    "collapsed": false
   }
  },
  {
   "cell_type": "code",
   "execution_count": 183,
   "outputs": [],
   "source": [
    "df_5 = df_5.join(df5_property_groups.set_index('index'), on='index')"
   ],
   "metadata": {
    "collapsed": false
   }
  },
  {
   "cell_type": "code",
   "execution_count": 184,
   "outputs": [
    {
     "data": {
      "text/plain": "                                                class  index  \\\n0   http://swat.cse.lehigh.edu/onto/univ-bench.owl...      1   \n0   http://swat.cse.lehigh.edu/onto/univ-bench.owl...      1   \n1   http://swat.cse.lehigh.edu/onto/univ-bench.owl...      2   \n1   http://swat.cse.lehigh.edu/onto/univ-bench.owl...      2   \n1   http://swat.cse.lehigh.edu/onto/univ-bench.owl...      2   \n2   http://swat.cse.lehigh.edu/onto/univ-bench.owl...      3   \n2   http://swat.cse.lehigh.edu/onto/univ-bench.owl...      3   \n2   http://swat.cse.lehigh.edu/onto/univ-bench.owl...      3   \n2   http://swat.cse.lehigh.edu/onto/univ-bench.owl...      3   \n3   http://swat.cse.lehigh.edu/onto/univ-bench.owl...      4   \n4   http://swat.cse.lehigh.edu/onto/univ-bench.owl...      5   \n5   http://swat.cse.lehigh.edu/onto/univ-bench.owl...      6   \n6   http://swat.cse.lehigh.edu/onto/univ-bench.owl...      7   \n7   http://swat.cse.lehigh.edu/onto/univ-bench.owl...      8   \n8   http://swat.cse.lehigh.edu/onto/univ-bench.owl...      9   \n9   http://swat.cse.lehigh.edu/onto/univ-bench.owl...     10   \n10  http://swat.cse.lehigh.edu/onto/univ-bench.owl...     11   \n11  http://swat.cse.lehigh.edu/onto/univ-bench.owl...     12   \n12  http://swat.cse.lehigh.edu/onto/univ-bench.owl...     13   \n13  http://swat.cse.lehigh.edu/onto/univ-bench.owl...     14   \n14  http://swat.cse.lehigh.edu/onto/univ-bench.owl...     15   \n15  http://swat.cse.lehigh.edu/onto/univ-bench.owl...     16   \n16  http://swat.cse.lehigh.edu/onto/univ-bench.owl...     17   \n17  http://swat.cse.lehigh.edu/onto/univ-bench.owl...     18   \n18  http://swat.cse.lehigh.edu/onto/univ-bench.owl...     19   \n19  http://swat.cse.lehigh.edu/onto/univ-bench.owl...     20   \n20  http://swat.cse.lehigh.edu/onto/univ-bench.owl...     21   \n21  http://swat.cse.lehigh.edu/onto/univ-bench.owl...     22   \n22  http://swat.cse.lehigh.edu/onto/univ-bench.owl...     23   \n23  http://swat.cse.lehigh.edu/onto/univ-bench.owl...     24   \n..                                                ...    ...   \n28  http://swat.cse.lehigh.edu/onto/univ-bench.owl...     29   \n29  http://swat.cse.lehigh.edu/onto/univ-bench.owl...     30   \n30  http://swat.cse.lehigh.edu/onto/univ-bench.owl...     31   \n31  http://swat.cse.lehigh.edu/onto/univ-bench.owl...     32   \n32  http://swat.cse.lehigh.edu/onto/univ-bench.owl...     33   \n33  http://swat.cse.lehigh.edu/onto/univ-bench.owl...     34   \n34  http://swat.cse.lehigh.edu/onto/univ-bench.owl...     35   \n35  http://swat.cse.lehigh.edu/onto/univ-bench.owl...     36   \n36  http://swat.cse.lehigh.edu/onto/univ-bench.owl...     37   \n37  http://swat.cse.lehigh.edu/onto/univ-bench.owl...     38   \n38  http://swat.cse.lehigh.edu/onto/univ-bench.owl...     39   \n39  http://swat.cse.lehigh.edu/onto/univ-bench.owl...     40   \n40  http://swat.cse.lehigh.edu/onto/univ-bench.owl...     41   \n41  http://swat.cse.lehigh.edu/onto/univ-bench.owl...     42   \n42  http://swat.cse.lehigh.edu/onto/univ-bench.owl...     43   \n43     http://www.w3.org/1999/02/22-rdf-syntax-ns#Alt     44   \n44     http://www.w3.org/1999/02/22-rdf-syntax-ns#Bag     45   \n45    http://www.w3.org/1999/02/22-rdf-syntax-ns#List     46   \n46  http://www.w3.org/1999/02/22-rdf-syntax-ns#Pro...     47   \n47     http://www.w3.org/1999/02/22-rdf-syntax-ns#Seq     48   \n48  http://www.w3.org/1999/02/22-rdf-syntax-ns#Sta...     49   \n49  http://www.w3.org/1999/02/22-rdf-syntax-ns#XML...     50   \n50         http://www.w3.org/2000/01/rdf-schema#Class     51   \n51     http://www.w3.org/2000/01/rdf-schema#Container     52   \n52  http://www.w3.org/2000/01/rdf-schema#Container...     53   \n53      http://www.w3.org/2000/01/rdf-schema#Datatype     54   \n54       http://www.w3.org/2000/01/rdf-schema#Literal     55   \n55      http://www.w3.org/2000/01/rdf-schema#Resource     56   \n56  http://www.w3.org/2001/XMLSchema#nonNegativeIn...     57   \n57            http://www.w3.org/2001/XMLSchema#string     58   \n\n                                             property  \\\n0     http://www.w3.org/1999/02/22-rdf-syntax-ns#type   \n0     http://www.w3.org/1999/02/22-rdf-syntax-ns#type   \n1   http://swat.cse.lehigh.edu/onto/univ-bench.owl...   \n1   http://swat.cse.lehigh.edu/onto/univ-bench.owl...   \n1   http://swat.cse.lehigh.edu/onto/univ-bench.owl...   \n2   http://swat.cse.lehigh.edu/onto/univ-bench.owl...   \n2   http://swat.cse.lehigh.edu/onto/univ-bench.owl...   \n2   http://swat.cse.lehigh.edu/onto/univ-bench.owl...   \n2   http://swat.cse.lehigh.edu/onto/univ-bench.owl...   \n3   http://swat.cse.lehigh.edu/onto/univ-bench.owl...   \n4   http://swat.cse.lehigh.edu/onto/univ-bench.owl...   \n5   http://swat.cse.lehigh.edu/onto/univ-bench.owl...   \n6   http://swat.cse.lehigh.edu/onto/univ-bench.owl...   \n7   http://swat.cse.lehigh.edu/onto/univ-bench.owl...   \n8   http://swat.cse.lehigh.edu/onto/univ-bench.owl...   \n9   http://swat.cse.lehigh.edu/onto/univ-bench.owl...   \n10  http://swat.cse.lehigh.edu/onto/univ-bench.owl...   \n11  http://swat.cse.lehigh.edu/onto/univ-bench.owl...   \n12  http://swat.cse.lehigh.edu/onto/univ-bench.owl...   \n13  http://swat.cse.lehigh.edu/onto/univ-bench.owl...   \n14  http://swat.cse.lehigh.edu/onto/univ-bench.owl...   \n15  http://swat.cse.lehigh.edu/onto/univ-bench.owl...   \n16  http://swat.cse.lehigh.edu/onto/univ-bench.owl...   \n17  http://swat.cse.lehigh.edu/onto/univ-bench.owl...   \n18  http://swat.cse.lehigh.edu/onto/univ-bench.owl...   \n19  http://swat.cse.lehigh.edu/onto/univ-bench.owl...   \n20  http://swat.cse.lehigh.edu/onto/univ-bench.owl...   \n21  http://swat.cse.lehigh.edu/onto/univ-bench.owl...   \n22  http://swat.cse.lehigh.edu/onto/univ-bench.owl...   \n23  http://swat.cse.lehigh.edu/onto/univ-bench.owl...   \n..                                                ...   \n28  http://swat.cse.lehigh.edu/onto/univ-bench.owl...   \n29  http://swat.cse.lehigh.edu/onto/univ-bench.owl...   \n30  http://swat.cse.lehigh.edu/onto/univ-bench.owl...   \n31  http://swat.cse.lehigh.edu/onto/univ-bench.owl...   \n32      http://www.w3.org/1999/02/22-rdf-syntax-ns#_1   \n33   http://www.w3.org/1999/02/22-rdf-syntax-ns#first   \n34  http://www.w3.org/1999/02/22-rdf-syntax-ns#object   \n35  http://www.w3.org/1999/02/22-rdf-syntax-ns#pre...   \n36    http://www.w3.org/1999/02/22-rdf-syntax-ns#rest   \n37  http://www.w3.org/1999/02/22-rdf-syntax-ns#sub...   \n38   http://www.w3.org/1999/02/22-rdf-syntax-ns#value   \n39       http://www.w3.org/2000/01/rdf-schema#comment   \n40        http://www.w3.org/2000/01/rdf-schema#domain   \n41   http://www.w3.org/2000/01/rdf-schema#isDefinedBy   \n42         http://www.w3.org/2000/01/rdf-schema#label   \n43        http://www.w3.org/2000/01/rdf-schema#member   \n44         http://www.w3.org/2000/01/rdf-schema#range   \n45       http://www.w3.org/2000/01/rdf-schema#seeAlso   \n46    http://www.w3.org/2000/01/rdf-schema#subClassOf   \n47  http://www.w3.org/2000/01/rdf-schema#subProper...   \n48              http://www.w3.org/2002/07/owl#imports   \n49       http://www.w3.org/2002/07/owl#intersectionOf   \n50            http://www.w3.org/2002/07/owl#inverseOf   \n51           http://www.w3.org/2002/07/owl#onProperty   \n52       http://www.w3.org/2002/07/owl#someValuesFrom   \n53          http://www.w3.org/2002/07/owl#versionInfo   \n54                                                NaN   \n55                                                NaN   \n56                                                NaN   \n57                                                NaN   \n\n                                       property_group  \n0       http://www.w3.org/1999/02/22-rdf-syntax-ns#_1  \n0         http://www.w3.org/2000/01/rdf-schema#member  \n1   http://swat.cse.lehigh.edu/onto/univ-bench.owl...  \n1   http://swat.cse.lehigh.edu/onto/univ-bench.owl...  \n1   http://swat.cse.lehigh.edu/onto/univ-bench.owl...  \n2   http://swat.cse.lehigh.edu/onto/univ-bench.owl...  \n2   http://swat.cse.lehigh.edu/onto/univ-bench.owl...  \n2   http://swat.cse.lehigh.edu/onto/univ-bench.owl...  \n2   http://swat.cse.lehigh.edu/onto/univ-bench.owl...  \n3     http://www.w3.org/1999/02/22-rdf-syntax-ns#type  \n4   http://swat.cse.lehigh.edu/onto/univ-bench.owl...  \n5   http://swat.cse.lehigh.edu/onto/univ-bench.owl...  \n6   http://swat.cse.lehigh.edu/onto/univ-bench.owl...  \n7   http://swat.cse.lehigh.edu/onto/univ-bench.owl...  \n8   http://swat.cse.lehigh.edu/onto/univ-bench.owl...  \n9   http://swat.cse.lehigh.edu/onto/univ-bench.owl...  \n10  http://swat.cse.lehigh.edu/onto/univ-bench.owl...  \n11  http://swat.cse.lehigh.edu/onto/univ-bench.owl...  \n12  http://swat.cse.lehigh.edu/onto/univ-bench.owl...  \n13  http://swat.cse.lehigh.edu/onto/univ-bench.owl...  \n14  http://swat.cse.lehigh.edu/onto/univ-bench.owl...  \n15  http://swat.cse.lehigh.edu/onto/univ-bench.owl...  \n16  http://swat.cse.lehigh.edu/onto/univ-bench.owl...  \n17  http://swat.cse.lehigh.edu/onto/univ-bench.owl...  \n18  http://swat.cse.lehigh.edu/onto/univ-bench.owl...  \n19  http://swat.cse.lehigh.edu/onto/univ-bench.owl...  \n20  http://swat.cse.lehigh.edu/onto/univ-bench.owl...  \n21  http://swat.cse.lehigh.edu/onto/univ-bench.owl...  \n22  http://swat.cse.lehigh.edu/onto/univ-bench.owl...  \n23  http://swat.cse.lehigh.edu/onto/univ-bench.owl...  \n..                                                ...  \n28   http://www.w3.org/1999/02/22-rdf-syntax-ns#first  \n29  http://www.w3.org/1999/02/22-rdf-syntax-ns#object  \n30  http://www.w3.org/1999/02/22-rdf-syntax-ns#pre...  \n31    http://www.w3.org/1999/02/22-rdf-syntax-ns#rest  \n32  http://www.w3.org/1999/02/22-rdf-syntax-ns#sub...  \n33   http://www.w3.org/1999/02/22-rdf-syntax-ns#value  \n34       http://www.w3.org/2000/01/rdf-schema#comment  \n35        http://www.w3.org/2000/01/rdf-schema#domain  \n36         http://www.w3.org/2000/01/rdf-schema#label  \n37         http://www.w3.org/2000/01/rdf-schema#range  \n38    http://www.w3.org/2000/01/rdf-schema#subClassOf  \n39  http://www.w3.org/2000/01/rdf-schema#subProper...  \n40              http://www.w3.org/2002/07/owl#imports  \n41       http://www.w3.org/2002/07/owl#intersectionOf  \n42            http://www.w3.org/2002/07/owl#inverseOf  \n43           http://www.w3.org/2002/07/owl#onProperty  \n44       http://www.w3.org/2002/07/owl#someValuesFrom  \n45          http://www.w3.org/2002/07/owl#versionInfo  \n46                                                NaN  \n47                                                NaN  \n48                                                NaN  \n49                                                NaN  \n50                                                NaN  \n51                                                NaN  \n52                                                NaN  \n53                                                NaN  \n54                                                NaN  \n55                                                NaN  \n56                                                NaN  \n57                                                NaN  \n\n[64 rows x 4 columns]",
      "text/html": "<div>\n<style scoped>\n    .dataframe tbody tr th:only-of-type {\n        vertical-align: middle;\n    }\n\n    .dataframe tbody tr th {\n        vertical-align: top;\n    }\n\n    .dataframe thead th {\n        text-align: right;\n    }\n</style>\n<table border=\"1\" class=\"dataframe\">\n  <thead>\n    <tr style=\"text-align: right;\">\n      <th></th>\n      <th>class</th>\n      <th>index</th>\n      <th>property</th>\n      <th>property_group</th>\n    </tr>\n  </thead>\n  <tbody>\n    <tr>\n      <th>0</th>\n      <td>http://swat.cse.lehigh.edu/onto/univ-bench.owl...</td>\n      <td>1</td>\n      <td>http://www.w3.org/1999/02/22-rdf-syntax-ns#type</td>\n      <td>http://www.w3.org/1999/02/22-rdf-syntax-ns#_1</td>\n    </tr>\n    <tr>\n      <th>0</th>\n      <td>http://swat.cse.lehigh.edu/onto/univ-bench.owl...</td>\n      <td>1</td>\n      <td>http://www.w3.org/1999/02/22-rdf-syntax-ns#type</td>\n      <td>http://www.w3.org/2000/01/rdf-schema#member</td>\n    </tr>\n    <tr>\n      <th>1</th>\n      <td>http://swat.cse.lehigh.edu/onto/univ-bench.owl...</td>\n      <td>2</td>\n      <td>http://swat.cse.lehigh.edu/onto/univ-bench.owl...</td>\n      <td>http://swat.cse.lehigh.edu/onto/univ-bench.owl...</td>\n    </tr>\n    <tr>\n      <th>1</th>\n      <td>http://swat.cse.lehigh.edu/onto/univ-bench.owl...</td>\n      <td>2</td>\n      <td>http://swat.cse.lehigh.edu/onto/univ-bench.owl...</td>\n      <td>http://swat.cse.lehigh.edu/onto/univ-bench.owl...</td>\n    </tr>\n    <tr>\n      <th>1</th>\n      <td>http://swat.cse.lehigh.edu/onto/univ-bench.owl...</td>\n      <td>2</td>\n      <td>http://swat.cse.lehigh.edu/onto/univ-bench.owl...</td>\n      <td>http://swat.cse.lehigh.edu/onto/univ-bench.owl...</td>\n    </tr>\n    <tr>\n      <th>2</th>\n      <td>http://swat.cse.lehigh.edu/onto/univ-bench.owl...</td>\n      <td>3</td>\n      <td>http://swat.cse.lehigh.edu/onto/univ-bench.owl...</td>\n      <td>http://swat.cse.lehigh.edu/onto/univ-bench.owl...</td>\n    </tr>\n    <tr>\n      <th>2</th>\n      <td>http://swat.cse.lehigh.edu/onto/univ-bench.owl...</td>\n      <td>3</td>\n      <td>http://swat.cse.lehigh.edu/onto/univ-bench.owl...</td>\n      <td>http://swat.cse.lehigh.edu/onto/univ-bench.owl...</td>\n    </tr>\n    <tr>\n      <th>2</th>\n      <td>http://swat.cse.lehigh.edu/onto/univ-bench.owl...</td>\n      <td>3</td>\n      <td>http://swat.cse.lehigh.edu/onto/univ-bench.owl...</td>\n      <td>http://swat.cse.lehigh.edu/onto/univ-bench.owl...</td>\n    </tr>\n    <tr>\n      <th>2</th>\n      <td>http://swat.cse.lehigh.edu/onto/univ-bench.owl...</td>\n      <td>3</td>\n      <td>http://swat.cse.lehigh.edu/onto/univ-bench.owl...</td>\n      <td>http://swat.cse.lehigh.edu/onto/univ-bench.owl...</td>\n    </tr>\n    <tr>\n      <th>3</th>\n      <td>http://swat.cse.lehigh.edu/onto/univ-bench.owl...</td>\n      <td>4</td>\n      <td>http://swat.cse.lehigh.edu/onto/univ-bench.owl...</td>\n      <td>http://www.w3.org/1999/02/22-rdf-syntax-ns#type</td>\n    </tr>\n    <tr>\n      <th>4</th>\n      <td>http://swat.cse.lehigh.edu/onto/univ-bench.owl...</td>\n      <td>5</td>\n      <td>http://swat.cse.lehigh.edu/onto/univ-bench.owl...</td>\n      <td>http://swat.cse.lehigh.edu/onto/univ-bench.owl...</td>\n    </tr>\n    <tr>\n      <th>5</th>\n      <td>http://swat.cse.lehigh.edu/onto/univ-bench.owl...</td>\n      <td>6</td>\n      <td>http://swat.cse.lehigh.edu/onto/univ-bench.owl...</td>\n      <td>http://swat.cse.lehigh.edu/onto/univ-bench.owl...</td>\n    </tr>\n    <tr>\n      <th>6</th>\n      <td>http://swat.cse.lehigh.edu/onto/univ-bench.owl...</td>\n      <td>7</td>\n      <td>http://swat.cse.lehigh.edu/onto/univ-bench.owl...</td>\n      <td>http://swat.cse.lehigh.edu/onto/univ-bench.owl...</td>\n    </tr>\n    <tr>\n      <th>7</th>\n      <td>http://swat.cse.lehigh.edu/onto/univ-bench.owl...</td>\n      <td>8</td>\n      <td>http://swat.cse.lehigh.edu/onto/univ-bench.owl...</td>\n      <td>http://swat.cse.lehigh.edu/onto/univ-bench.owl...</td>\n    </tr>\n    <tr>\n      <th>8</th>\n      <td>http://swat.cse.lehigh.edu/onto/univ-bench.owl...</td>\n      <td>9</td>\n      <td>http://swat.cse.lehigh.edu/onto/univ-bench.owl...</td>\n      <td>http://swat.cse.lehigh.edu/onto/univ-bench.owl...</td>\n    </tr>\n    <tr>\n      <th>9</th>\n      <td>http://swat.cse.lehigh.edu/onto/univ-bench.owl...</td>\n      <td>10</td>\n      <td>http://swat.cse.lehigh.edu/onto/univ-bench.owl...</td>\n      <td>http://swat.cse.lehigh.edu/onto/univ-bench.owl...</td>\n    </tr>\n    <tr>\n      <th>10</th>\n      <td>http://swat.cse.lehigh.edu/onto/univ-bench.owl...</td>\n      <td>11</td>\n      <td>http://swat.cse.lehigh.edu/onto/univ-bench.owl...</td>\n      <td>http://swat.cse.lehigh.edu/onto/univ-bench.owl...</td>\n    </tr>\n    <tr>\n      <th>11</th>\n      <td>http://swat.cse.lehigh.edu/onto/univ-bench.owl...</td>\n      <td>12</td>\n      <td>http://swat.cse.lehigh.edu/onto/univ-bench.owl...</td>\n      <td>http://swat.cse.lehigh.edu/onto/univ-bench.owl...</td>\n    </tr>\n    <tr>\n      <th>12</th>\n      <td>http://swat.cse.lehigh.edu/onto/univ-bench.owl...</td>\n      <td>13</td>\n      <td>http://swat.cse.lehigh.edu/onto/univ-bench.owl...</td>\n      <td>http://swat.cse.lehigh.edu/onto/univ-bench.owl...</td>\n    </tr>\n    <tr>\n      <th>13</th>\n      <td>http://swat.cse.lehigh.edu/onto/univ-bench.owl...</td>\n      <td>14</td>\n      <td>http://swat.cse.lehigh.edu/onto/univ-bench.owl...</td>\n      <td>http://swat.cse.lehigh.edu/onto/univ-bench.owl...</td>\n    </tr>\n    <tr>\n      <th>14</th>\n      <td>http://swat.cse.lehigh.edu/onto/univ-bench.owl...</td>\n      <td>15</td>\n      <td>http://swat.cse.lehigh.edu/onto/univ-bench.owl...</td>\n      <td>http://swat.cse.lehigh.edu/onto/univ-bench.owl...</td>\n    </tr>\n    <tr>\n      <th>15</th>\n      <td>http://swat.cse.lehigh.edu/onto/univ-bench.owl...</td>\n      <td>16</td>\n      <td>http://swat.cse.lehigh.edu/onto/univ-bench.owl...</td>\n      <td>http://swat.cse.lehigh.edu/onto/univ-bench.owl...</td>\n    </tr>\n    <tr>\n      <th>16</th>\n      <td>http://swat.cse.lehigh.edu/onto/univ-bench.owl...</td>\n      <td>17</td>\n      <td>http://swat.cse.lehigh.edu/onto/univ-bench.owl...</td>\n      <td>http://swat.cse.lehigh.edu/onto/univ-bench.owl...</td>\n    </tr>\n    <tr>\n      <th>17</th>\n      <td>http://swat.cse.lehigh.edu/onto/univ-bench.owl...</td>\n      <td>18</td>\n      <td>http://swat.cse.lehigh.edu/onto/univ-bench.owl...</td>\n      <td>http://swat.cse.lehigh.edu/onto/univ-bench.owl...</td>\n    </tr>\n    <tr>\n      <th>18</th>\n      <td>http://swat.cse.lehigh.edu/onto/univ-bench.owl...</td>\n      <td>19</td>\n      <td>http://swat.cse.lehigh.edu/onto/univ-bench.owl...</td>\n      <td>http://swat.cse.lehigh.edu/onto/univ-bench.owl...</td>\n    </tr>\n    <tr>\n      <th>19</th>\n      <td>http://swat.cse.lehigh.edu/onto/univ-bench.owl...</td>\n      <td>20</td>\n      <td>http://swat.cse.lehigh.edu/onto/univ-bench.owl...</td>\n      <td>http://swat.cse.lehigh.edu/onto/univ-bench.owl...</td>\n    </tr>\n    <tr>\n      <th>20</th>\n      <td>http://swat.cse.lehigh.edu/onto/univ-bench.owl...</td>\n      <td>21</td>\n      <td>http://swat.cse.lehigh.edu/onto/univ-bench.owl...</td>\n      <td>http://swat.cse.lehigh.edu/onto/univ-bench.owl...</td>\n    </tr>\n    <tr>\n      <th>21</th>\n      <td>http://swat.cse.lehigh.edu/onto/univ-bench.owl...</td>\n      <td>22</td>\n      <td>http://swat.cse.lehigh.edu/onto/univ-bench.owl...</td>\n      <td>http://swat.cse.lehigh.edu/onto/univ-bench.owl...</td>\n    </tr>\n    <tr>\n      <th>22</th>\n      <td>http://swat.cse.lehigh.edu/onto/univ-bench.owl...</td>\n      <td>23</td>\n      <td>http://swat.cse.lehigh.edu/onto/univ-bench.owl...</td>\n      <td>http://swat.cse.lehigh.edu/onto/univ-bench.owl...</td>\n    </tr>\n    <tr>\n      <th>23</th>\n      <td>http://swat.cse.lehigh.edu/onto/univ-bench.owl...</td>\n      <td>24</td>\n      <td>http://swat.cse.lehigh.edu/onto/univ-bench.owl...</td>\n      <td>http://swat.cse.lehigh.edu/onto/univ-bench.owl...</td>\n    </tr>\n    <tr>\n      <th>...</th>\n      <td>...</td>\n      <td>...</td>\n      <td>...</td>\n      <td>...</td>\n    </tr>\n    <tr>\n      <th>28</th>\n      <td>http://swat.cse.lehigh.edu/onto/univ-bench.owl...</td>\n      <td>29</td>\n      <td>http://swat.cse.lehigh.edu/onto/univ-bench.owl...</td>\n      <td>http://www.w3.org/1999/02/22-rdf-syntax-ns#first</td>\n    </tr>\n    <tr>\n      <th>29</th>\n      <td>http://swat.cse.lehigh.edu/onto/univ-bench.owl...</td>\n      <td>30</td>\n      <td>http://swat.cse.lehigh.edu/onto/univ-bench.owl...</td>\n      <td>http://www.w3.org/1999/02/22-rdf-syntax-ns#object</td>\n    </tr>\n    <tr>\n      <th>30</th>\n      <td>http://swat.cse.lehigh.edu/onto/univ-bench.owl...</td>\n      <td>31</td>\n      <td>http://swat.cse.lehigh.edu/onto/univ-bench.owl...</td>\n      <td>http://www.w3.org/1999/02/22-rdf-syntax-ns#pre...</td>\n    </tr>\n    <tr>\n      <th>31</th>\n      <td>http://swat.cse.lehigh.edu/onto/univ-bench.owl...</td>\n      <td>32</td>\n      <td>http://swat.cse.lehigh.edu/onto/univ-bench.owl...</td>\n      <td>http://www.w3.org/1999/02/22-rdf-syntax-ns#rest</td>\n    </tr>\n    <tr>\n      <th>32</th>\n      <td>http://swat.cse.lehigh.edu/onto/univ-bench.owl...</td>\n      <td>33</td>\n      <td>http://www.w3.org/1999/02/22-rdf-syntax-ns#_1</td>\n      <td>http://www.w3.org/1999/02/22-rdf-syntax-ns#sub...</td>\n    </tr>\n    <tr>\n      <th>33</th>\n      <td>http://swat.cse.lehigh.edu/onto/univ-bench.owl...</td>\n      <td>34</td>\n      <td>http://www.w3.org/1999/02/22-rdf-syntax-ns#first</td>\n      <td>http://www.w3.org/1999/02/22-rdf-syntax-ns#value</td>\n    </tr>\n    <tr>\n      <th>34</th>\n      <td>http://swat.cse.lehigh.edu/onto/univ-bench.owl...</td>\n      <td>35</td>\n      <td>http://www.w3.org/1999/02/22-rdf-syntax-ns#object</td>\n      <td>http://www.w3.org/2000/01/rdf-schema#comment</td>\n    </tr>\n    <tr>\n      <th>35</th>\n      <td>http://swat.cse.lehigh.edu/onto/univ-bench.owl...</td>\n      <td>36</td>\n      <td>http://www.w3.org/1999/02/22-rdf-syntax-ns#pre...</td>\n      <td>http://www.w3.org/2000/01/rdf-schema#domain</td>\n    </tr>\n    <tr>\n      <th>36</th>\n      <td>http://swat.cse.lehigh.edu/onto/univ-bench.owl...</td>\n      <td>37</td>\n      <td>http://www.w3.org/1999/02/22-rdf-syntax-ns#rest</td>\n      <td>http://www.w3.org/2000/01/rdf-schema#label</td>\n    </tr>\n    <tr>\n      <th>37</th>\n      <td>http://swat.cse.lehigh.edu/onto/univ-bench.owl...</td>\n      <td>38</td>\n      <td>http://www.w3.org/1999/02/22-rdf-syntax-ns#sub...</td>\n      <td>http://www.w3.org/2000/01/rdf-schema#range</td>\n    </tr>\n    <tr>\n      <th>38</th>\n      <td>http://swat.cse.lehigh.edu/onto/univ-bench.owl...</td>\n      <td>39</td>\n      <td>http://www.w3.org/1999/02/22-rdf-syntax-ns#value</td>\n      <td>http://www.w3.org/2000/01/rdf-schema#subClassOf</td>\n    </tr>\n    <tr>\n      <th>39</th>\n      <td>http://swat.cse.lehigh.edu/onto/univ-bench.owl...</td>\n      <td>40</td>\n      <td>http://www.w3.org/2000/01/rdf-schema#comment</td>\n      <td>http://www.w3.org/2000/01/rdf-schema#subProper...</td>\n    </tr>\n    <tr>\n      <th>40</th>\n      <td>http://swat.cse.lehigh.edu/onto/univ-bench.owl...</td>\n      <td>41</td>\n      <td>http://www.w3.org/2000/01/rdf-schema#domain</td>\n      <td>http://www.w3.org/2002/07/owl#imports</td>\n    </tr>\n    <tr>\n      <th>41</th>\n      <td>http://swat.cse.lehigh.edu/onto/univ-bench.owl...</td>\n      <td>42</td>\n      <td>http://www.w3.org/2000/01/rdf-schema#isDefinedBy</td>\n      <td>http://www.w3.org/2002/07/owl#intersectionOf</td>\n    </tr>\n    <tr>\n      <th>42</th>\n      <td>http://swat.cse.lehigh.edu/onto/univ-bench.owl...</td>\n      <td>43</td>\n      <td>http://www.w3.org/2000/01/rdf-schema#label</td>\n      <td>http://www.w3.org/2002/07/owl#inverseOf</td>\n    </tr>\n    <tr>\n      <th>43</th>\n      <td>http://www.w3.org/1999/02/22-rdf-syntax-ns#Alt</td>\n      <td>44</td>\n      <td>http://www.w3.org/2000/01/rdf-schema#member</td>\n      <td>http://www.w3.org/2002/07/owl#onProperty</td>\n    </tr>\n    <tr>\n      <th>44</th>\n      <td>http://www.w3.org/1999/02/22-rdf-syntax-ns#Bag</td>\n      <td>45</td>\n      <td>http://www.w3.org/2000/01/rdf-schema#range</td>\n      <td>http://www.w3.org/2002/07/owl#someValuesFrom</td>\n    </tr>\n    <tr>\n      <th>45</th>\n      <td>http://www.w3.org/1999/02/22-rdf-syntax-ns#List</td>\n      <td>46</td>\n      <td>http://www.w3.org/2000/01/rdf-schema#seeAlso</td>\n      <td>http://www.w3.org/2002/07/owl#versionInfo</td>\n    </tr>\n    <tr>\n      <th>46</th>\n      <td>http://www.w3.org/1999/02/22-rdf-syntax-ns#Pro...</td>\n      <td>47</td>\n      <td>http://www.w3.org/2000/01/rdf-schema#subClassOf</td>\n      <td>NaN</td>\n    </tr>\n    <tr>\n      <th>47</th>\n      <td>http://www.w3.org/1999/02/22-rdf-syntax-ns#Seq</td>\n      <td>48</td>\n      <td>http://www.w3.org/2000/01/rdf-schema#subProper...</td>\n      <td>NaN</td>\n    </tr>\n    <tr>\n      <th>48</th>\n      <td>http://www.w3.org/1999/02/22-rdf-syntax-ns#Sta...</td>\n      <td>49</td>\n      <td>http://www.w3.org/2002/07/owl#imports</td>\n      <td>NaN</td>\n    </tr>\n    <tr>\n      <th>49</th>\n      <td>http://www.w3.org/1999/02/22-rdf-syntax-ns#XML...</td>\n      <td>50</td>\n      <td>http://www.w3.org/2002/07/owl#intersectionOf</td>\n      <td>NaN</td>\n    </tr>\n    <tr>\n      <th>50</th>\n      <td>http://www.w3.org/2000/01/rdf-schema#Class</td>\n      <td>51</td>\n      <td>http://www.w3.org/2002/07/owl#inverseOf</td>\n      <td>NaN</td>\n    </tr>\n    <tr>\n      <th>51</th>\n      <td>http://www.w3.org/2000/01/rdf-schema#Container</td>\n      <td>52</td>\n      <td>http://www.w3.org/2002/07/owl#onProperty</td>\n      <td>NaN</td>\n    </tr>\n    <tr>\n      <th>52</th>\n      <td>http://www.w3.org/2000/01/rdf-schema#Container...</td>\n      <td>53</td>\n      <td>http://www.w3.org/2002/07/owl#someValuesFrom</td>\n      <td>NaN</td>\n    </tr>\n    <tr>\n      <th>53</th>\n      <td>http://www.w3.org/2000/01/rdf-schema#Datatype</td>\n      <td>54</td>\n      <td>http://www.w3.org/2002/07/owl#versionInfo</td>\n      <td>NaN</td>\n    </tr>\n    <tr>\n      <th>54</th>\n      <td>http://www.w3.org/2000/01/rdf-schema#Literal</td>\n      <td>55</td>\n      <td>NaN</td>\n      <td>NaN</td>\n    </tr>\n    <tr>\n      <th>55</th>\n      <td>http://www.w3.org/2000/01/rdf-schema#Resource</td>\n      <td>56</td>\n      <td>NaN</td>\n      <td>NaN</td>\n    </tr>\n    <tr>\n      <th>56</th>\n      <td>http://www.w3.org/2001/XMLSchema#nonNegativeIn...</td>\n      <td>57</td>\n      <td>NaN</td>\n      <td>NaN</td>\n    </tr>\n    <tr>\n      <th>57</th>\n      <td>http://www.w3.org/2001/XMLSchema#string</td>\n      <td>58</td>\n      <td>NaN</td>\n      <td>NaN</td>\n    </tr>\n  </tbody>\n</table>\n<p>64 rows × 4 columns</p>\n</div>"
     },
     "execution_count": 184,
     "metadata": {},
     "output_type": "execute_result"
    }
   ],
   "source": [
    "df_5"
   ],
   "metadata": {
    "collapsed": false
   }
  },
  {
   "cell_type": "code",
   "execution_count": 233,
   "outputs": [
    {
     "data": {
      "text/plain": "(292, 3)"
     },
     "execution_count": 233,
     "metadata": {},
     "output_type": "execute_result"
    }
   ],
   "source": [
    "col_names=[\"subject\", \"predicate\", \"object\"]\n",
    "#df2 = pd.read_csv(tbox_file, delimiter=' ', names=col_names)\n",
    "rdf_data = pd.read_csv(tbox_file, delimiter = ' ')\n",
    "#df2['object'] = df2['object'].apply(lambda x: x.rstrip('.'))\n",
    "rdf_data = rdf_data.drop(rdf_data.columns[3], axis = 1)\n",
    "rdf_data.columns = col_names\n",
    "rdf_data.shape"
   ],
   "metadata": {
    "collapsed": false
   }
  },
  {
   "cell_type": "code",
   "execution_count": 234,
   "outputs": [
    {
     "name": "stderr",
     "output_type": "stream",
     "text": [
      "C:\\Users\\martt\\anaconda3\\envs\\NMT4RDFS\\lib\\site-packages\\ipykernel_launcher.py:17: FutureWarning: Sorting because non-concatenation axis is not aligned. A future version\n",
      "of pandas will change to not sort by default.\n",
      "\n",
      "To accept the future behavior, pass 'sort=False'.\n",
      "\n",
      "To retain the current behavior and silence the warning, pass 'sort=True'.\n",
      "\n",
      "  app.launch_new_instance()\n"
     ]
    }
   ],
   "source": [
    "class_type = rdf_data[(rdf_data['predicate'] == 'http://www.w3.org/1999/02/22-rdf-syntax-ns#type') &\n",
    "                      (rdf_data['object'] == 'http://www.w3.org/2002/07/owl#Class')]\n",
    "\n",
    "subclass = rdf_data[rdf_data['predicate'] == 'http://www.w3.org/2000/01/rdf-schema#subClassOf']\n",
    "\n",
    "equivalent_class = rdf_data[rdf_data['predicate'] == 'http://www.w3.org/2002/07/owl#equivalentClass']\n",
    "\n",
    "domain = rdf_data[rdf_data['predicate'] == 'http://www.w3.org/2000/01/rdf-schema#domain']\n",
    "\n",
    "range_ = rdf_data[rdf_data['predicate'] == 'http://www.w3.org/2000/01/rdf-schema#range']\n",
    "\n",
    "# Concatenate filtered data\n",
    "result = pd.concat([class_type[['subject']],\n",
    "                    subclass[['object']],\n",
    "                    equivalent_class[['object']],\n",
    "                    domain[['object']],\n",
    "                    range_[['object']]])\n",
    "\n",
    "# Drop duplicates and reset the index\n",
    "#result = result.drop_duplicates().reset_index(drop=True)\n",
    "\n",
    "# Select the first column and rename it to 'class'\n",
    "#result = result.iloc[:, 0].to_frame(name='class')"
   ],
   "metadata": {
    "collapsed": false
   }
  },
  {
   "cell_type": "code",
   "execution_count": 235,
   "outputs": [
    {
     "data": {
      "text/plain": "Empty DataFrame\nColumns: [object, subject]\nIndex: []",
      "text/html": "<div>\n<style scoped>\n    .dataframe tbody tr th:only-of-type {\n        vertical-align: middle;\n    }\n\n    .dataframe tbody tr th {\n        vertical-align: top;\n    }\n\n    .dataframe thead th {\n        text-align: right;\n    }\n</style>\n<table border=\"1\" class=\"dataframe\">\n  <thead>\n    <tr style=\"text-align: right;\">\n      <th></th>\n      <th>object</th>\n      <th>subject</th>\n    </tr>\n  </thead>\n  <tbody>\n  </tbody>\n</table>\n</div>"
     },
     "execution_count": 235,
     "metadata": {},
     "output_type": "execute_result"
    }
   ],
   "source": [
    "result"
   ],
   "metadata": {
    "collapsed": false
   }
  },
  {
   "cell_type": "code",
   "execution_count": 266,
   "outputs": [],
   "source": [
    "df_class_list = df_class.uri.to_list()"
   ],
   "metadata": {
    "collapsed": false
   }
  },
  {
   "cell_type": "code",
   "execution_count": 267,
   "outputs": [
    {
     "data": {
      "text/plain": "0     http://swat.cse.lehigh.edu/onto/univ-bench.owl...\n1     http://swat.cse.lehigh.edu/onto/univ-bench.owl...\n2     http://swat.cse.lehigh.edu/onto/univ-bench.owl...\n3     http://swat.cse.lehigh.edu/onto/univ-bench.owl...\n4     http://swat.cse.lehigh.edu/onto/univ-bench.owl...\n5     http://swat.cse.lehigh.edu/onto/univ-bench.owl...\n6     http://swat.cse.lehigh.edu/onto/univ-bench.owl...\n7     http://swat.cse.lehigh.edu/onto/univ-bench.owl...\n8     http://swat.cse.lehigh.edu/onto/univ-bench.owl...\n9     http://swat.cse.lehigh.edu/onto/univ-bench.owl...\n10    http://swat.cse.lehigh.edu/onto/univ-bench.owl...\n11    http://swat.cse.lehigh.edu/onto/univ-bench.owl...\n12    http://swat.cse.lehigh.edu/onto/univ-bench.owl...\n13    http://swat.cse.lehigh.edu/onto/univ-bench.owl...\n14    http://swat.cse.lehigh.edu/onto/univ-bench.owl...\n15    http://swat.cse.lehigh.edu/onto/univ-bench.owl...\n16    http://swat.cse.lehigh.edu/onto/univ-bench.owl...\n17    http://swat.cse.lehigh.edu/onto/univ-bench.owl...\n18    http://swat.cse.lehigh.edu/onto/univ-bench.owl...\n19    http://swat.cse.lehigh.edu/onto/univ-bench.owl...\n20    http://swat.cse.lehigh.edu/onto/univ-bench.owl...\n21    http://swat.cse.lehigh.edu/onto/univ-bench.owl...\n22    http://swat.cse.lehigh.edu/onto/univ-bench.owl...\n23    http://swat.cse.lehigh.edu/onto/univ-bench.owl...\n24    http://swat.cse.lehigh.edu/onto/univ-bench.owl...\n25    http://swat.cse.lehigh.edu/onto/univ-bench.owl...\n26    http://swat.cse.lehigh.edu/onto/univ-bench.owl...\n27    http://swat.cse.lehigh.edu/onto/univ-bench.owl...\n28    http://swat.cse.lehigh.edu/onto/univ-bench.owl...\n29    http://swat.cse.lehigh.edu/onto/univ-bench.owl...\n30    http://swat.cse.lehigh.edu/onto/univ-bench.owl...\n31    http://swat.cse.lehigh.edu/onto/univ-bench.owl...\n32    http://swat.cse.lehigh.edu/onto/univ-bench.owl...\n33    http://swat.cse.lehigh.edu/onto/univ-bench.owl...\n34    http://swat.cse.lehigh.edu/onto/univ-bench.owl...\n35    http://swat.cse.lehigh.edu/onto/univ-bench.owl...\n36    http://swat.cse.lehigh.edu/onto/univ-bench.owl...\n37    http://swat.cse.lehigh.edu/onto/univ-bench.owl...\n38    http://swat.cse.lehigh.edu/onto/univ-bench.owl...\n39    http://swat.cse.lehigh.edu/onto/univ-bench.owl...\n40    http://swat.cse.lehigh.edu/onto/univ-bench.owl...\n41    http://swat.cse.lehigh.edu/onto/univ-bench.owl...\n42    http://swat.cse.lehigh.edu/onto/univ-bench.owl...\n43       http://www.w3.org/1999/02/22-rdf-syntax-ns#Alt\n44       http://www.w3.org/1999/02/22-rdf-syntax-ns#Bag\n45      http://www.w3.org/1999/02/22-rdf-syntax-ns#List\n46    http://www.w3.org/1999/02/22-rdf-syntax-ns#Pro...\n47       http://www.w3.org/1999/02/22-rdf-syntax-ns#Seq\n48    http://www.w3.org/1999/02/22-rdf-syntax-ns#Sta...\n49    http://www.w3.org/1999/02/22-rdf-syntax-ns#XML...\n50           http://www.w3.org/2000/01/rdf-schema#Class\n51       http://www.w3.org/2000/01/rdf-schema#Container\n52    http://www.w3.org/2000/01/rdf-schema#Container...\n53        http://www.w3.org/2000/01/rdf-schema#Datatype\n54         http://www.w3.org/2000/01/rdf-schema#Literal\n55        http://www.w3.org/2000/01/rdf-schema#Resource\n56    http://www.w3.org/2001/XMLSchema#nonNegativeIn...\n57              http://www.w3.org/2001/XMLSchema#string\nName: uri, dtype: object"
     },
     "execution_count": 267,
     "metadata": {},
     "output_type": "execute_result"
    }
   ],
   "source": [
    "df_class.uri"
   ],
   "metadata": {
    "collapsed": false
   }
  },
  {
   "cell_type": "code",
   "execution_count": 271,
   "outputs": [
    {
     "data": {
      "text/plain": "[rdflib.term.URIRef('http://swat.cse.lehigh.edu/onto/univ-bench.owl#AdministrativeStaff'),\n rdflib.term.URIRef('http://swat.cse.lehigh.edu/onto/univ-bench.owl#Article'),\n rdflib.term.URIRef('http://swat.cse.lehigh.edu/onto/univ-bench.owl#AssistantProfessor'),\n rdflib.term.URIRef('http://swat.cse.lehigh.edu/onto/univ-bench.owl#AssociateProfessor'),\n rdflib.term.URIRef('http://swat.cse.lehigh.edu/onto/univ-bench.owl#Book'),\n rdflib.term.URIRef('http://swat.cse.lehigh.edu/onto/univ-bench.owl#Chair'),\n rdflib.term.URIRef('http://swat.cse.lehigh.edu/onto/univ-bench.owl#ClericalStaff'),\n rdflib.term.URIRef('http://swat.cse.lehigh.edu/onto/univ-bench.owl#College'),\n rdflib.term.URIRef('http://swat.cse.lehigh.edu/onto/univ-bench.owl#ConferencePaper'),\n rdflib.term.URIRef('http://swat.cse.lehigh.edu/onto/univ-bench.owl#Course'),\n rdflib.term.URIRef('http://swat.cse.lehigh.edu/onto/univ-bench.owl#Dean'),\n rdflib.term.URIRef('http://swat.cse.lehigh.edu/onto/univ-bench.owl#Department'),\n rdflib.term.URIRef('http://swat.cse.lehigh.edu/onto/univ-bench.owl#Director'),\n rdflib.term.URIRef('http://swat.cse.lehigh.edu/onto/univ-bench.owl#Employee'),\n rdflib.term.URIRef('http://swat.cse.lehigh.edu/onto/univ-bench.owl#Faculty'),\n rdflib.term.URIRef('http://swat.cse.lehigh.edu/onto/univ-bench.owl#FullProfessor'),\n rdflib.term.URIRef('http://swat.cse.lehigh.edu/onto/univ-bench.owl#GraduateCourse'),\n rdflib.term.URIRef('http://swat.cse.lehigh.edu/onto/univ-bench.owl#GraduateStudent'),\n rdflib.term.URIRef('http://swat.cse.lehigh.edu/onto/univ-bench.owl#Institute'),\n rdflib.term.URIRef('http://swat.cse.lehigh.edu/onto/univ-bench.owl#JournalArticle'),\n rdflib.term.URIRef('http://swat.cse.lehigh.edu/onto/univ-bench.owl#Lecturer'),\n rdflib.term.URIRef('http://swat.cse.lehigh.edu/onto/univ-bench.owl#Manual'),\n rdflib.term.URIRef('http://swat.cse.lehigh.edu/onto/univ-bench.owl#Organization'),\n rdflib.term.URIRef('http://swat.cse.lehigh.edu/onto/univ-bench.owl#Person'),\n rdflib.term.URIRef('http://swat.cse.lehigh.edu/onto/univ-bench.owl#PostDoc'),\n rdflib.term.URIRef('http://swat.cse.lehigh.edu/onto/univ-bench.owl#Professor'),\n rdflib.term.URIRef('http://swat.cse.lehigh.edu/onto/univ-bench.owl#Program'),\n rdflib.term.URIRef('http://swat.cse.lehigh.edu/onto/univ-bench.owl#Publication'),\n rdflib.term.URIRef('http://swat.cse.lehigh.edu/onto/univ-bench.owl#Research'),\n rdflib.term.URIRef('http://swat.cse.lehigh.edu/onto/univ-bench.owl#ResearchAssistant'),\n rdflib.term.URIRef('http://swat.cse.lehigh.edu/onto/univ-bench.owl#ResearchGroup'),\n rdflib.term.URIRef('http://swat.cse.lehigh.edu/onto/univ-bench.owl#Schedule'),\n rdflib.term.URIRef('http://swat.cse.lehigh.edu/onto/univ-bench.owl#Software'),\n rdflib.term.URIRef('http://swat.cse.lehigh.edu/onto/univ-bench.owl#Specification'),\n rdflib.term.URIRef('http://swat.cse.lehigh.edu/onto/univ-bench.owl#Student'),\n rdflib.term.URIRef('http://swat.cse.lehigh.edu/onto/univ-bench.owl#SystemsStaff'),\n rdflib.term.URIRef('http://swat.cse.lehigh.edu/onto/univ-bench.owl#TeachingAssistant'),\n rdflib.term.URIRef('http://swat.cse.lehigh.edu/onto/univ-bench.owl#TechnicalReport'),\n rdflib.term.URIRef('http://swat.cse.lehigh.edu/onto/univ-bench.owl#UndergraduateStudent'),\n rdflib.term.URIRef('http://swat.cse.lehigh.edu/onto/univ-bench.owl#University'),\n rdflib.term.URIRef('http://swat.cse.lehigh.edu/onto/univ-bench.owl#UnofficialPublication'),\n rdflib.term.URIRef('http://swat.cse.lehigh.edu/onto/univ-bench.owl#VisitingProfessor'),\n rdflib.term.URIRef('http://swat.cse.lehigh.edu/onto/univ-bench.owl#Work'),\n rdflib.term.URIRef('http://www.w3.org/1999/02/22-rdf-syntax-ns#Alt'),\n rdflib.term.URIRef('http://www.w3.org/1999/02/22-rdf-syntax-ns#Bag'),\n rdflib.term.URIRef('http://www.w3.org/1999/02/22-rdf-syntax-ns#List'),\n rdflib.term.URIRef('http://www.w3.org/1999/02/22-rdf-syntax-ns#Property'),\n rdflib.term.URIRef('http://www.w3.org/1999/02/22-rdf-syntax-ns#Seq'),\n rdflib.term.URIRef('http://www.w3.org/1999/02/22-rdf-syntax-ns#Statement'),\n rdflib.term.URIRef('http://www.w3.org/1999/02/22-rdf-syntax-ns#XMLLiteral'),\n rdflib.term.URIRef('http://www.w3.org/2000/01/rdf-schema#Class'),\n rdflib.term.URIRef('http://www.w3.org/2000/01/rdf-schema#Container'),\n rdflib.term.URIRef('http://www.w3.org/2000/01/rdf-schema#ContainerMembershipProperty'),\n rdflib.term.URIRef('http://www.w3.org/2000/01/rdf-schema#Datatype'),\n rdflib.term.URIRef('http://www.w3.org/2000/01/rdf-schema#Literal'),\n rdflib.term.URIRef('http://www.w3.org/2000/01/rdf-schema#Resource'),\n rdflib.term.URIRef('http://www.w3.org/2001/XMLSchema#nonNegativeInteger'),\n rdflib.term.URIRef('http://www.w3.org/2001/XMLSchema#string')]"
     },
     "execution_count": 271,
     "metadata": {},
     "output_type": "execute_result"
    }
   ],
   "source": [
    "df_class_list"
   ],
   "metadata": {
    "collapsed": false
   }
  },
  {
   "cell_type": "code",
   "execution_count": 273,
   "outputs": [],
   "source": [
    "string_list = ['<http://swat.cse.lehigh.edu/onto/univ-bench.owl#AdministrativeStaff>',\n",
    "'<http://swat.cse.lehigh.edu/onto/univ-bench.owl#Article>',\n",
    "'<http://swat.cse.lehigh.edu/onto/univ-bench.owl#AssistantProfessor>',\n",
    "'<http://swat.cse.lehigh.edu/onto/univ-bench.owl#AssociateProfessor>',\n",
    "'<http://swat.cse.lehigh.edu/onto/univ-bench.owl#Book>',\n",
    "'<http://swat.cse.lehigh.edu/onto/univ-bench.owl#Chair>',\n",
    "'<http://swat.cse.lehigh.edu/onto/univ-bench.owl#ClericalStaff>',\n",
    "'<http://swat.cse.lehigh.edu/onto/univ-bench.owl#College>',\n",
    "'<http://swat.cse.lehigh.edu/onto/univ-bench.owl#ConferencePaper>',\n",
    "'<http://swat.cse.lehigh.edu/onto/univ-bench.owl#Course>',\n",
    "'<http://swat.cse.lehigh.edu/onto/univ-bench.owl#Dean>',\n",
    "'<http://swat.cse.lehigh.edu/onto/univ-bench.owl#Department>',\n",
    "'<http://swat.cse.lehigh.edu/onto/univ-bench.owl#Director>',\n",
    "'<http://swat.cse.lehigh.edu/onto/univ-bench.owl#Employee>',\n",
    "'<http://swat.cse.lehigh.edu/onto/univ-bench.owl#Faculty>',\n",
    "'<http://swat.cse.lehigh.edu/onto/univ-bench.owl#FullProfessor>',\n",
    "'<http://swat.cse.lehigh.edu/onto/univ-bench.owl#GraduateCourse>',\n",
    "'<http://swat.cse.lehigh.edu/onto/univ-bench.owl#GraduateStudent>',\n",
    "'<http://swat.cse.lehigh.edu/onto/univ-bench.owl#Institute>',\n",
    "'<http://swat.cse.lehigh.edu/onto/univ-bench.owl#JournalArticle>',\n",
    "'<http://swat.cse.lehigh.edu/onto/univ-bench.owl#Lecturer>',\n",
    "'<http://swat.cse.lehigh.edu/onto/univ-bench.owl#Manual>',\n",
    "'<http://swat.cse.lehigh.edu/onto/univ-bench.owl#Organization>',\n",
    "'<http://swat.cse.lehigh.edu/onto/univ-bench.owl#Person>',\n",
    "'<http://swat.cse.lehigh.edu/onto/univ-bench.owl#PostDoc>',\n",
    "'<http://swat.cse.lehigh.edu/onto/univ-bench.owl#Professor>',\n",
    "'<http://swat.cse.lehigh.edu/onto/univ-bench.owl#Program>',\n",
    "'<http://swat.cse.lehigh.edu/onto/univ-bench.owl#Publication>',\n",
    "'<http://swat.cse.lehigh.edu/onto/univ-bench.owl#Research>',\n",
    "'<http://swat.cse.lehigh.edu/onto/univ-bench.owl#ResearchAssistant>',\n",
    "'<http://swat.cse.lehigh.edu/onto/univ-bench.owl#ResearchGroup>',\n",
    "'<http://swat.cse.lehigh.edu/onto/univ-bench.owl#Schedule>',\n",
    "'<http://swat.cse.lehigh.edu/onto/univ-bench.owl#Software>',\n",
    "'<http://swat.cse.lehigh.edu/onto/univ-bench.owl#Specification>',\n",
    "'<http://swat.cse.lehigh.edu/onto/univ-bench.owl#Student>',\n",
    "'<http://swat.cse.lehigh.edu/onto/univ-bench.owl#SystemsStaff>',\n",
    "'<http://swat.cse.lehigh.edu/onto/univ-bench.owl#TeachingAssistant>',\n",
    "'<http://swat.cse.lehigh.edu/onto/univ-bench.owl#TechnicalReport>',\n",
    "'<http://swat.cse.lehigh.edu/onto/univ-bench.owl#UndergraduateStudent>',\n",
    "'<http://swat.cse.lehigh.edu/onto/univ-bench.owl#University>',\n",
    "'<http://swat.cse.lehigh.edu/onto/univ-bench.owl#UnofficialPublication>',\n",
    "'<http://swat.cse.lehigh.edu/onto/univ-bench.owl#VisitingProfessor>',\n",
    "'<http://swat.cse.lehigh.edu/onto/univ-bench.owl#Work>',\n",
    "'<http://www.w3.org/1999/02/22-rdf-syntax-ns#Alt>',\n",
    "'<http://www.w3.org/1999/02/22-rdf-syntax-ns#Bag>',\n",
    "'<http://www.w3.org/1999/02/22-rdf-syntax-ns#List>',\n",
    "'<http://www.w3.org/1999/02/22-rdf-syntax-ns#Property>',\n",
    "'<http://www.w3.org/1999/02/22-rdf-syntax-ns#Seq>',\n",
    "'<http://www.w3.org/1999/02/22-rdf-syntax-ns#Statement>',\n",
    "'<http://www.w3.org/1999/02/22-rdf-syntax-ns#XMLLiteral>',\n",
    "'<http://www.w3.org/2000/01/rdf-schema#Class>',\n",
    "'<http://www.w3.org/2000/01/rdf-schema#Container>',\n",
    "'<http://www.w3.org/2000/01/rdf-schema#ContainerMembershipProperty>',\n",
    "'<http://www.w3.org/2000/01/rdf-schema#Datatype>',\n",
    "'<http://www.w3.org/2000/01/rdf-schema#Literal>',\n",
    "'<http://www.w3.org/2000/01/rdf-schema#Resource>',\n",
    "'<http://www.w3.org/2001/XMLSchema#nonNegativeInteger>',\n",
    "'<http://www.w3.org/2001/XMLSchema#string>']"
   ],
   "metadata": {
    "collapsed": false
   }
  },
  {
   "cell_type": "code",
   "execution_count": 274,
   "outputs": [
    {
     "data": {
      "text/plain": "['<http://swat.cse.lehigh.edu/onto/univ-bench.owl#AdministrativeStaff>',\n '<http://swat.cse.lehigh.edu/onto/univ-bench.owl#Article>',\n '<http://swat.cse.lehigh.edu/onto/univ-bench.owl#AssistantProfessor>',\n '<http://swat.cse.lehigh.edu/onto/univ-bench.owl#AssociateProfessor>',\n '<http://swat.cse.lehigh.edu/onto/univ-bench.owl#Book>',\n '<http://swat.cse.lehigh.edu/onto/univ-bench.owl#Chair>',\n '<http://swat.cse.lehigh.edu/onto/univ-bench.owl#ClericalStaff>',\n '<http://swat.cse.lehigh.edu/onto/univ-bench.owl#College>',\n '<http://swat.cse.lehigh.edu/onto/univ-bench.owl#ConferencePaper>',\n '<http://swat.cse.lehigh.edu/onto/univ-bench.owl#Course>',\n '<http://swat.cse.lehigh.edu/onto/univ-bench.owl#Dean>',\n '<http://swat.cse.lehigh.edu/onto/univ-bench.owl#Department>',\n '<http://swat.cse.lehigh.edu/onto/univ-bench.owl#Director>',\n '<http://swat.cse.lehigh.edu/onto/univ-bench.owl#Employee>',\n '<http://swat.cse.lehigh.edu/onto/univ-bench.owl#Faculty>',\n '<http://swat.cse.lehigh.edu/onto/univ-bench.owl#FullProfessor>',\n '<http://swat.cse.lehigh.edu/onto/univ-bench.owl#GraduateCourse>',\n '<http://swat.cse.lehigh.edu/onto/univ-bench.owl#GraduateStudent>',\n '<http://swat.cse.lehigh.edu/onto/univ-bench.owl#Institute>',\n '<http://swat.cse.lehigh.edu/onto/univ-bench.owl#JournalArticle>',\n '<http://swat.cse.lehigh.edu/onto/univ-bench.owl#Lecturer>',\n '<http://swat.cse.lehigh.edu/onto/univ-bench.owl#Manual>',\n '<http://swat.cse.lehigh.edu/onto/univ-bench.owl#Organization>',\n '<http://swat.cse.lehigh.edu/onto/univ-bench.owl#Person>',\n '<http://swat.cse.lehigh.edu/onto/univ-bench.owl#PostDoc>',\n '<http://swat.cse.lehigh.edu/onto/univ-bench.owl#Professor>',\n '<http://swat.cse.lehigh.edu/onto/univ-bench.owl#Program>',\n '<http://swat.cse.lehigh.edu/onto/univ-bench.owl#Publication>',\n '<http://swat.cse.lehigh.edu/onto/univ-bench.owl#Research>',\n '<http://swat.cse.lehigh.edu/onto/univ-bench.owl#ResearchAssistant>',\n '<http://swat.cse.lehigh.edu/onto/univ-bench.owl#ResearchGroup>',\n '<http://swat.cse.lehigh.edu/onto/univ-bench.owl#Schedule>',\n '<http://swat.cse.lehigh.edu/onto/univ-bench.owl#Software>',\n '<http://swat.cse.lehigh.edu/onto/univ-bench.owl#Specification>',\n '<http://swat.cse.lehigh.edu/onto/univ-bench.owl#Student>',\n '<http://swat.cse.lehigh.edu/onto/univ-bench.owl#SystemsStaff>',\n '<http://swat.cse.lehigh.edu/onto/univ-bench.owl#TeachingAssistant>',\n '<http://swat.cse.lehigh.edu/onto/univ-bench.owl#TechnicalReport>',\n '<http://swat.cse.lehigh.edu/onto/univ-bench.owl#UndergraduateStudent>',\n '<http://swat.cse.lehigh.edu/onto/univ-bench.owl#University>',\n '<http://swat.cse.lehigh.edu/onto/univ-bench.owl#UnofficialPublication>',\n '<http://swat.cse.lehigh.edu/onto/univ-bench.owl#VisitingProfessor>',\n '<http://swat.cse.lehigh.edu/onto/univ-bench.owl#Work>',\n '<http://www.w3.org/1999/02/22-rdf-syntax-ns#Alt>',\n '<http://www.w3.org/1999/02/22-rdf-syntax-ns#Bag>',\n '<http://www.w3.org/1999/02/22-rdf-syntax-ns#List>',\n '<http://www.w3.org/1999/02/22-rdf-syntax-ns#Property>',\n '<http://www.w3.org/1999/02/22-rdf-syntax-ns#Seq>',\n '<http://www.w3.org/1999/02/22-rdf-syntax-ns#Statement>',\n '<http://www.w3.org/1999/02/22-rdf-syntax-ns#XMLLiteral>',\n '<http://www.w3.org/2000/01/rdf-schema#Class>',\n '<http://www.w3.org/2000/01/rdf-schema#Container>',\n '<http://www.w3.org/2000/01/rdf-schema#ContainerMembershipProperty>',\n '<http://www.w3.org/2000/01/rdf-schema#Datatype>',\n '<http://www.w3.org/2000/01/rdf-schema#Literal>',\n '<http://www.w3.org/2000/01/rdf-schema#Resource>',\n '<http://www.w3.org/2001/XMLSchema#nonNegativeInteger>',\n '<http://www.w3.org/2001/XMLSchema#string>']"
     },
     "execution_count": 274,
     "metadata": {},
     "output_type": "execute_result"
    }
   ],
   "source": [
    "string_list"
   ],
   "metadata": {
    "collapsed": false
   }
  },
  {
   "cell_type": "code",
   "execution_count": 252,
   "outputs": [],
   "source": [
    "df2_class_list = df2[df2.object.str.contains('#Class')].subject.to_list()"
   ],
   "metadata": {
    "collapsed": false
   }
  },
  {
   "cell_type": "code",
   "execution_count": 253,
   "outputs": [
    {
     "data": {
      "text/plain": "['<http://www.lehigh.edu/~zhp2/2004/0401/univ-bench.owl#AdministrativeStaff>',\n '<http://www.lehigh.edu/~zhp2/2004/0401/univ-bench.owl#Article>',\n '<http://www.lehigh.edu/~zhp2/2004/0401/univ-bench.owl#AssistantProfessor>',\n '<http://www.lehigh.edu/~zhp2/2004/0401/univ-bench.owl#AssociateProfessor>',\n '<http://www.lehigh.edu/~zhp2/2004/0401/univ-bench.owl#Book>',\n '<http://www.lehigh.edu/~zhp2/2004/0401/univ-bench.owl#Chair>',\n '<http://www.lehigh.edu/~zhp2/2004/0401/univ-bench.owl#Person>',\n '<http://www.lehigh.edu/~zhp2/2004/0401/univ-bench.owl#Department>',\n '<http://www.lehigh.edu/~zhp2/2004/0401/univ-bench.owl#ClericalStaff>',\n '<http://www.lehigh.edu/~zhp2/2004/0401/univ-bench.owl#College>',\n '<http://www.lehigh.edu/~zhp2/2004/0401/univ-bench.owl#ConferencePaper>',\n '<http://www.lehigh.edu/~zhp2/2004/0401/univ-bench.owl#Course>',\n '<http://www.lehigh.edu/~zhp2/2004/0401/univ-bench.owl#Dean>',\n '<http://www.lehigh.edu/~zhp2/2004/0401/univ-bench.owl#Director>',\n '<http://www.lehigh.edu/~zhp2/2004/0401/univ-bench.owl#Program>',\n '<http://www.lehigh.edu/~zhp2/2004/0401/univ-bench.owl#Employee>',\n '<http://www.lehigh.edu/~zhp2/2004/0401/univ-bench.owl#Organization>',\n '<http://www.lehigh.edu/~zhp2/2004/0401/univ-bench.owl#Faculty>',\n '<http://www.lehigh.edu/~zhp2/2004/0401/univ-bench.owl#FullProfessor>',\n '<http://www.lehigh.edu/~zhp2/2004/0401/univ-bench.owl#GraduateCourse>',\n '<http://www.lehigh.edu/~zhp2/2004/0401/univ-bench.owl#GraduateStudent>',\n '<http://www.lehigh.edu/~zhp2/2004/0401/univ-bench.owl#Institute>',\n '<http://www.lehigh.edu/~zhp2/2004/0401/univ-bench.owl#JournalArticle>',\n '<http://www.lehigh.edu/~zhp2/2004/0401/univ-bench.owl#Lecturer>',\n '<http://www.lehigh.edu/~zhp2/2004/0401/univ-bench.owl#Manual>',\n '<http://www.lehigh.edu/~zhp2/2004/0401/univ-bench.owl#PostDoc>',\n '<http://www.lehigh.edu/~zhp2/2004/0401/univ-bench.owl#Professor>',\n '<http://www.lehigh.edu/~zhp2/2004/0401/univ-bench.owl#Publication>',\n '<http://www.lehigh.edu/~zhp2/2004/0401/univ-bench.owl#Research>',\n '<http://www.lehigh.edu/~zhp2/2004/0401/univ-bench.owl#ResearchAssistant>',\n '<http://www.lehigh.edu/~zhp2/2004/0401/univ-bench.owl#ResearchGroup>',\n '<http://www.lehigh.edu/~zhp2/2004/0401/univ-bench.owl#Schedule>',\n '<http://www.lehigh.edu/~zhp2/2004/0401/univ-bench.owl#Software>',\n '<http://www.lehigh.edu/~zhp2/2004/0401/univ-bench.owl#Specification>',\n '<http://www.lehigh.edu/~zhp2/2004/0401/univ-bench.owl#Student>',\n '<http://www.lehigh.edu/~zhp2/2004/0401/univ-bench.owl#SystemsStaff>',\n '<http://www.lehigh.edu/~zhp2/2004/0401/univ-bench.owl#TeachingAssistant>',\n '<http://www.lehigh.edu/~zhp2/2004/0401/univ-bench.owl#TechnicalReport>',\n '<http://www.lehigh.edu/~zhp2/2004/0401/univ-bench.owl#UndergraduateStudent>',\n '<http://www.lehigh.edu/~zhp2/2004/0401/univ-bench.owl#University>',\n '<http://www.lehigh.edu/~zhp2/2004/0401/univ-bench.owl#UnofficialPublication>',\n '<http://www.lehigh.edu/~zhp2/2004/0401/univ-bench.owl#VisitingProfessor>',\n '<http://www.lehigh.edu/~zhp2/2004/0401/univ-bench.owl#Work>']"
     },
     "execution_count": 253,
     "metadata": {},
     "output_type": "execute_result"
    }
   ],
   "source": [
    "df2_class_list"
   ],
   "metadata": {
    "collapsed": false
   }
  },
  {
   "cell_type": "code",
   "execution_count": 275,
   "outputs": [],
   "source": [
    "res = [i for i in df_class_list if i not in string_list]"
   ],
   "metadata": {
    "collapsed": false
   }
  },
  {
   "cell_type": "code",
   "execution_count": 276,
   "outputs": [
    {
     "data": {
      "text/plain": "[rdflib.term.URIRef('http://swat.cse.lehigh.edu/onto/univ-bench.owl#AdministrativeStaff'),\n rdflib.term.URIRef('http://swat.cse.lehigh.edu/onto/univ-bench.owl#Article'),\n rdflib.term.URIRef('http://swat.cse.lehigh.edu/onto/univ-bench.owl#AssistantProfessor'),\n rdflib.term.URIRef('http://swat.cse.lehigh.edu/onto/univ-bench.owl#AssociateProfessor'),\n rdflib.term.URIRef('http://swat.cse.lehigh.edu/onto/univ-bench.owl#Book'),\n rdflib.term.URIRef('http://swat.cse.lehigh.edu/onto/univ-bench.owl#Chair'),\n rdflib.term.URIRef('http://swat.cse.lehigh.edu/onto/univ-bench.owl#ClericalStaff'),\n rdflib.term.URIRef('http://swat.cse.lehigh.edu/onto/univ-bench.owl#College'),\n rdflib.term.URIRef('http://swat.cse.lehigh.edu/onto/univ-bench.owl#ConferencePaper'),\n rdflib.term.URIRef('http://swat.cse.lehigh.edu/onto/univ-bench.owl#Course'),\n rdflib.term.URIRef('http://swat.cse.lehigh.edu/onto/univ-bench.owl#Dean'),\n rdflib.term.URIRef('http://swat.cse.lehigh.edu/onto/univ-bench.owl#Department'),\n rdflib.term.URIRef('http://swat.cse.lehigh.edu/onto/univ-bench.owl#Director'),\n rdflib.term.URIRef('http://swat.cse.lehigh.edu/onto/univ-bench.owl#Employee'),\n rdflib.term.URIRef('http://swat.cse.lehigh.edu/onto/univ-bench.owl#Faculty'),\n rdflib.term.URIRef('http://swat.cse.lehigh.edu/onto/univ-bench.owl#FullProfessor'),\n rdflib.term.URIRef('http://swat.cse.lehigh.edu/onto/univ-bench.owl#GraduateCourse'),\n rdflib.term.URIRef('http://swat.cse.lehigh.edu/onto/univ-bench.owl#GraduateStudent'),\n rdflib.term.URIRef('http://swat.cse.lehigh.edu/onto/univ-bench.owl#Institute'),\n rdflib.term.URIRef('http://swat.cse.lehigh.edu/onto/univ-bench.owl#JournalArticle'),\n rdflib.term.URIRef('http://swat.cse.lehigh.edu/onto/univ-bench.owl#Lecturer'),\n rdflib.term.URIRef('http://swat.cse.lehigh.edu/onto/univ-bench.owl#Manual'),\n rdflib.term.URIRef('http://swat.cse.lehigh.edu/onto/univ-bench.owl#Organization'),\n rdflib.term.URIRef('http://swat.cse.lehigh.edu/onto/univ-bench.owl#Person'),\n rdflib.term.URIRef('http://swat.cse.lehigh.edu/onto/univ-bench.owl#PostDoc'),\n rdflib.term.URIRef('http://swat.cse.lehigh.edu/onto/univ-bench.owl#Professor'),\n rdflib.term.URIRef('http://swat.cse.lehigh.edu/onto/univ-bench.owl#Program'),\n rdflib.term.URIRef('http://swat.cse.lehigh.edu/onto/univ-bench.owl#Publication'),\n rdflib.term.URIRef('http://swat.cse.lehigh.edu/onto/univ-bench.owl#Research'),\n rdflib.term.URIRef('http://swat.cse.lehigh.edu/onto/univ-bench.owl#ResearchAssistant'),\n rdflib.term.URIRef('http://swat.cse.lehigh.edu/onto/univ-bench.owl#ResearchGroup'),\n rdflib.term.URIRef('http://swat.cse.lehigh.edu/onto/univ-bench.owl#Schedule'),\n rdflib.term.URIRef('http://swat.cse.lehigh.edu/onto/univ-bench.owl#Software'),\n rdflib.term.URIRef('http://swat.cse.lehigh.edu/onto/univ-bench.owl#Specification'),\n rdflib.term.URIRef('http://swat.cse.lehigh.edu/onto/univ-bench.owl#Student'),\n rdflib.term.URIRef('http://swat.cse.lehigh.edu/onto/univ-bench.owl#SystemsStaff'),\n rdflib.term.URIRef('http://swat.cse.lehigh.edu/onto/univ-bench.owl#TeachingAssistant'),\n rdflib.term.URIRef('http://swat.cse.lehigh.edu/onto/univ-bench.owl#TechnicalReport'),\n rdflib.term.URIRef('http://swat.cse.lehigh.edu/onto/univ-bench.owl#UndergraduateStudent'),\n rdflib.term.URIRef('http://swat.cse.lehigh.edu/onto/univ-bench.owl#University'),\n rdflib.term.URIRef('http://swat.cse.lehigh.edu/onto/univ-bench.owl#UnofficialPublication'),\n rdflib.term.URIRef('http://swat.cse.lehigh.edu/onto/univ-bench.owl#VisitingProfessor'),\n rdflib.term.URIRef('http://swat.cse.lehigh.edu/onto/univ-bench.owl#Work'),\n rdflib.term.URIRef('http://www.w3.org/1999/02/22-rdf-syntax-ns#Alt'),\n rdflib.term.URIRef('http://www.w3.org/1999/02/22-rdf-syntax-ns#Bag'),\n rdflib.term.URIRef('http://www.w3.org/1999/02/22-rdf-syntax-ns#List'),\n rdflib.term.URIRef('http://www.w3.org/1999/02/22-rdf-syntax-ns#Property'),\n rdflib.term.URIRef('http://www.w3.org/1999/02/22-rdf-syntax-ns#Seq'),\n rdflib.term.URIRef('http://www.w3.org/1999/02/22-rdf-syntax-ns#Statement'),\n rdflib.term.URIRef('http://www.w3.org/1999/02/22-rdf-syntax-ns#XMLLiteral'),\n rdflib.term.URIRef('http://www.w3.org/2000/01/rdf-schema#Class'),\n rdflib.term.URIRef('http://www.w3.org/2000/01/rdf-schema#Container'),\n rdflib.term.URIRef('http://www.w3.org/2000/01/rdf-schema#ContainerMembershipProperty'),\n rdflib.term.URIRef('http://www.w3.org/2000/01/rdf-schema#Datatype'),\n rdflib.term.URIRef('http://www.w3.org/2000/01/rdf-schema#Literal'),\n rdflib.term.URIRef('http://www.w3.org/2000/01/rdf-schema#Resource'),\n rdflib.term.URIRef('http://www.w3.org/2001/XMLSchema#nonNegativeInteger'),\n rdflib.term.URIRef('http://www.w3.org/2001/XMLSchema#string')]"
     },
     "execution_count": 276,
     "metadata": {},
     "output_type": "execute_result"
    }
   ],
   "source": [
    "res"
   ],
   "metadata": {
    "collapsed": false
   }
  },
  {
   "cell_type": "code",
   "execution_count": null,
   "outputs": [],
   "source": [],
   "metadata": {
    "collapsed": false
   }
  }
 ],
 "metadata": {
  "kernelspec": {
   "display_name": "Python 3",
   "language": "python",
   "name": "python3"
  },
  "language_info": {
   "codemirror_mode": {
    "name": "ipython",
    "version": 2
   },
   "file_extension": ".py",
   "mimetype": "text/x-python",
   "name": "python",
   "nbconvert_exporter": "python",
   "pygments_lexer": "ipython2",
   "version": "2.7.6"
  }
 },
 "nbformat": 4,
 "nbformat_minor": 0
}
