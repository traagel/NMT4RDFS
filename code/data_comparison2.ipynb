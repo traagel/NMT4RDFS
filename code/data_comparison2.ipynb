{
 "cells": [
  {
   "cell_type": "code",
   "execution_count": 32,
   "metadata": {
    "collapsed": true
   },
   "outputs": [
    {
     "name": "stdout",
     "output_type": "stream",
     "text": [
      "174 162 162\n"
     ]
    },
    {
     "data": {
      "text/plain": "(166, 3)"
     },
     "execution_count": 32,
     "metadata": {},
     "output_type": "execute_result"
    }
   ],
   "source": [
    "import pickle\n",
    "import zlib\n",
    "\n",
    "import pandas as pd\n",
    "\n",
    "\n",
    "def deserialize(pz):\n",
    "    if os.path.isfile(pz):\n",
    "        compressed = open(pz, 'rb').read()\n",
    "        pkl = zlib.decompress(compressed)\n",
    "        tpl = pickle.loads(pkl)\n",
    "        return tpl\n",
    "    else:\n",
    "        return []\n",
    "\n",
    "\n",
    "lubm_classes_file = \"../data/lubm1_intact/encoding/lubm_classes.pz\"\n",
    "lubm_properties_file = \"../data/lubm1_intact/encoding/lubm_properties.pz\"\n",
    "lubm_properties_groups_file = \"../data/lubm1_intact/encoding/lubm_properties_groups.pz\"\n",
    "tbox_file = \"../data/lubm1_intact/encoding/tbox.nt\"\n",
    "\n",
    "lubm_classes = deserialize(lubm_classes_file)\n",
    "lubm_properties = deserialize(lubm_properties_file)\n",
    "lubm_properties_groups = deserialize(lubm_properties_groups_file)\n",
    "\n",
    "data = []\n",
    "\n",
    "for key, value in lubm_classes.items():\n",
    "    data.append({\"type\": \"class\", \"uri\": key, \"index\": value})\n",
    "\n",
    "for key, value in lubm_properties.items():\n",
    "    data.append({\"type\": \"property\", \"uri\": key, \"index\": value})\n",
    "\n",
    "for key, value in lubm_properties_groups.items():\n",
    "    data.append({\"type\": \"property_group\", \"uri\": key, \"index\": value})\n",
    "\n",
    "df = pd.DataFrame(data)\n",
    "print(df[df.type == \"class\"].size,\n",
    "      df[df.type == \"property\"].size,\n",
    "      df[df.type == \"property_group\"].size)\n",
    "\n",
    "#lubm_classes\n",
    "df.shape"
   ]
  },
  {
   "cell_type": "markdown",
   "source": [
    "# Creating a DF with clases, properties, property_groups\n",
    "Even though relative - there is no relation between index"
   ],
   "metadata": {
    "collapsed": false
   }
  },
  {
   "cell_type": "code",
   "execution_count": 33,
   "outputs": [],
   "source": [
    "result_df = df.pivot_table(index='index', columns='type', values='uri', aggfunc='first')"
   ],
   "metadata": {
    "collapsed": false
   }
  },
  {
   "cell_type": "code",
   "execution_count": 34,
   "outputs": [
    {
     "data": {
      "text/plain": "type                                               class  \\\nindex                                                      \n0                                                    NaN   \n1      http://swat.cse.lehigh.edu/onto/univ-bench.owl...   \n2      http://swat.cse.lehigh.edu/onto/univ-bench.owl...   \n3      http://swat.cse.lehigh.edu/onto/univ-bench.owl...   \n4      http://swat.cse.lehigh.edu/onto/univ-bench.owl...   \n5      http://swat.cse.lehigh.edu/onto/univ-bench.owl...   \n6      http://swat.cse.lehigh.edu/onto/univ-bench.owl...   \n7      http://swat.cse.lehigh.edu/onto/univ-bench.owl...   \n8      http://swat.cse.lehigh.edu/onto/univ-bench.owl...   \n9      http://swat.cse.lehigh.edu/onto/univ-bench.owl...   \n10     http://swat.cse.lehigh.edu/onto/univ-bench.owl...   \n11     http://swat.cse.lehigh.edu/onto/univ-bench.owl...   \n12     http://swat.cse.lehigh.edu/onto/univ-bench.owl...   \n13     http://swat.cse.lehigh.edu/onto/univ-bench.owl...   \n14     http://swat.cse.lehigh.edu/onto/univ-bench.owl...   \n15     http://swat.cse.lehigh.edu/onto/univ-bench.owl...   \n16     http://swat.cse.lehigh.edu/onto/univ-bench.owl...   \n17     http://swat.cse.lehigh.edu/onto/univ-bench.owl...   \n18     http://swat.cse.lehigh.edu/onto/univ-bench.owl...   \n19     http://swat.cse.lehigh.edu/onto/univ-bench.owl...   \n20     http://swat.cse.lehigh.edu/onto/univ-bench.owl...   \n21     http://swat.cse.lehigh.edu/onto/univ-bench.owl...   \n22     http://swat.cse.lehigh.edu/onto/univ-bench.owl...   \n23     http://swat.cse.lehigh.edu/onto/univ-bench.owl...   \n24     http://swat.cse.lehigh.edu/onto/univ-bench.owl...   \n25     http://swat.cse.lehigh.edu/onto/univ-bench.owl...   \n26     http://swat.cse.lehigh.edu/onto/univ-bench.owl...   \n27     http://swat.cse.lehigh.edu/onto/univ-bench.owl...   \n28     http://swat.cse.lehigh.edu/onto/univ-bench.owl...   \n29     http://swat.cse.lehigh.edu/onto/univ-bench.owl...   \n30     http://swat.cse.lehigh.edu/onto/univ-bench.owl...   \n31     http://swat.cse.lehigh.edu/onto/univ-bench.owl...   \n32     http://swat.cse.lehigh.edu/onto/univ-bench.owl...   \n33     http://swat.cse.lehigh.edu/onto/univ-bench.owl...   \n34     http://swat.cse.lehigh.edu/onto/univ-bench.owl...   \n35     http://swat.cse.lehigh.edu/onto/univ-bench.owl...   \n36     http://swat.cse.lehigh.edu/onto/univ-bench.owl...   \n37     http://swat.cse.lehigh.edu/onto/univ-bench.owl...   \n38     http://swat.cse.lehigh.edu/onto/univ-bench.owl...   \n39     http://swat.cse.lehigh.edu/onto/univ-bench.owl...   \n40     http://swat.cse.lehigh.edu/onto/univ-bench.owl...   \n41     http://swat.cse.lehigh.edu/onto/univ-bench.owl...   \n42     http://swat.cse.lehigh.edu/onto/univ-bench.owl...   \n43     http://swat.cse.lehigh.edu/onto/univ-bench.owl...   \n44        http://www.w3.org/1999/02/22-rdf-syntax-ns#Alt   \n45        http://www.w3.org/1999/02/22-rdf-syntax-ns#Bag   \n46       http://www.w3.org/1999/02/22-rdf-syntax-ns#List   \n47     http://www.w3.org/1999/02/22-rdf-syntax-ns#Pro...   \n48        http://www.w3.org/1999/02/22-rdf-syntax-ns#Seq   \n49     http://www.w3.org/1999/02/22-rdf-syntax-ns#Sta...   \n50     http://www.w3.org/1999/02/22-rdf-syntax-ns#XML...   \n51            http://www.w3.org/2000/01/rdf-schema#Class   \n52        http://www.w3.org/2000/01/rdf-schema#Container   \n53     http://www.w3.org/2000/01/rdf-schema#Container...   \n54         http://www.w3.org/2000/01/rdf-schema#Datatype   \n55          http://www.w3.org/2000/01/rdf-schema#Literal   \n56         http://www.w3.org/2000/01/rdf-schema#Resource   \n57     http://www.w3.org/2001/XMLSchema#nonNegativeIn...   \n58               http://www.w3.org/2001/XMLSchema#string   \n\ntype                                            property  \\\nindex                                                      \n0                                                    NaN   \n1        http://www.w3.org/1999/02/22-rdf-syntax-ns#type   \n2      http://swat.cse.lehigh.edu/onto/univ-bench.owl...   \n3      http://swat.cse.lehigh.edu/onto/univ-bench.owl...   \n4      http://swat.cse.lehigh.edu/onto/univ-bench.owl...   \n5      http://swat.cse.lehigh.edu/onto/univ-bench.owl...   \n6      http://swat.cse.lehigh.edu/onto/univ-bench.owl...   \n7      http://swat.cse.lehigh.edu/onto/univ-bench.owl...   \n8      http://swat.cse.lehigh.edu/onto/univ-bench.owl...   \n9      http://swat.cse.lehigh.edu/onto/univ-bench.owl...   \n10     http://swat.cse.lehigh.edu/onto/univ-bench.owl...   \n11     http://swat.cse.lehigh.edu/onto/univ-bench.owl...   \n12     http://swat.cse.lehigh.edu/onto/univ-bench.owl...   \n13     http://swat.cse.lehigh.edu/onto/univ-bench.owl...   \n14     http://swat.cse.lehigh.edu/onto/univ-bench.owl...   \n15     http://swat.cse.lehigh.edu/onto/univ-bench.owl...   \n16     http://swat.cse.lehigh.edu/onto/univ-bench.owl...   \n17     http://swat.cse.lehigh.edu/onto/univ-bench.owl...   \n18     http://swat.cse.lehigh.edu/onto/univ-bench.owl...   \n19     http://swat.cse.lehigh.edu/onto/univ-bench.owl...   \n20     http://swat.cse.lehigh.edu/onto/univ-bench.owl...   \n21     http://swat.cse.lehigh.edu/onto/univ-bench.owl...   \n22     http://swat.cse.lehigh.edu/onto/univ-bench.owl...   \n23     http://swat.cse.lehigh.edu/onto/univ-bench.owl...   \n24     http://swat.cse.lehigh.edu/onto/univ-bench.owl...   \n25     http://swat.cse.lehigh.edu/onto/univ-bench.owl...   \n26     http://swat.cse.lehigh.edu/onto/univ-bench.owl...   \n27     http://swat.cse.lehigh.edu/onto/univ-bench.owl...   \n28     http://swat.cse.lehigh.edu/onto/univ-bench.owl...   \n29     http://swat.cse.lehigh.edu/onto/univ-bench.owl...   \n30     http://swat.cse.lehigh.edu/onto/univ-bench.owl...   \n31     http://swat.cse.lehigh.edu/onto/univ-bench.owl...   \n32     http://swat.cse.lehigh.edu/onto/univ-bench.owl...   \n33         http://www.w3.org/1999/02/22-rdf-syntax-ns#_1   \n34      http://www.w3.org/1999/02/22-rdf-syntax-ns#first   \n35     http://www.w3.org/1999/02/22-rdf-syntax-ns#object   \n36     http://www.w3.org/1999/02/22-rdf-syntax-ns#pre...   \n37       http://www.w3.org/1999/02/22-rdf-syntax-ns#rest   \n38     http://www.w3.org/1999/02/22-rdf-syntax-ns#sub...   \n39      http://www.w3.org/1999/02/22-rdf-syntax-ns#value   \n40          http://www.w3.org/2000/01/rdf-schema#comment   \n41           http://www.w3.org/2000/01/rdf-schema#domain   \n42      http://www.w3.org/2000/01/rdf-schema#isDefinedBy   \n43            http://www.w3.org/2000/01/rdf-schema#label   \n44           http://www.w3.org/2000/01/rdf-schema#member   \n45            http://www.w3.org/2000/01/rdf-schema#range   \n46          http://www.w3.org/2000/01/rdf-schema#seeAlso   \n47       http://www.w3.org/2000/01/rdf-schema#subClassOf   \n48     http://www.w3.org/2000/01/rdf-schema#subProper...   \n49                 http://www.w3.org/2002/07/owl#imports   \n50          http://www.w3.org/2002/07/owl#intersectionOf   \n51               http://www.w3.org/2002/07/owl#inverseOf   \n52              http://www.w3.org/2002/07/owl#onProperty   \n53          http://www.w3.org/2002/07/owl#someValuesFrom   \n54             http://www.w3.org/2002/07/owl#versionInfo   \n55                                                   NaN   \n56                                                   NaN   \n57                                                   NaN   \n58                                                   NaN   \n\ntype                                      property_group  \nindex                                                     \n0           http://www.w3.org/2000/01/rdf-schema#seeAlso  \n1          http://www.w3.org/1999/02/22-rdf-syntax-ns#_1  \n2      http://swat.cse.lehigh.edu/onto/univ-bench.owl...  \n3      http://swat.cse.lehigh.edu/onto/univ-bench.owl...  \n4        http://www.w3.org/1999/02/22-rdf-syntax-ns#type  \n5      http://swat.cse.lehigh.edu/onto/univ-bench.owl...  \n6      http://swat.cse.lehigh.edu/onto/univ-bench.owl...  \n7      http://swat.cse.lehigh.edu/onto/univ-bench.owl...  \n8      http://swat.cse.lehigh.edu/onto/univ-bench.owl...  \n9      http://swat.cse.lehigh.edu/onto/univ-bench.owl...  \n10     http://swat.cse.lehigh.edu/onto/univ-bench.owl...  \n11     http://swat.cse.lehigh.edu/onto/univ-bench.owl...  \n12     http://swat.cse.lehigh.edu/onto/univ-bench.owl...  \n13     http://swat.cse.lehigh.edu/onto/univ-bench.owl...  \n14     http://swat.cse.lehigh.edu/onto/univ-bench.owl...  \n15     http://swat.cse.lehigh.edu/onto/univ-bench.owl...  \n16     http://swat.cse.lehigh.edu/onto/univ-bench.owl...  \n17     http://swat.cse.lehigh.edu/onto/univ-bench.owl...  \n18     http://swat.cse.lehigh.edu/onto/univ-bench.owl...  \n19     http://swat.cse.lehigh.edu/onto/univ-bench.owl...  \n20     http://swat.cse.lehigh.edu/onto/univ-bench.owl...  \n21     http://swat.cse.lehigh.edu/onto/univ-bench.owl...  \n22     http://swat.cse.lehigh.edu/onto/univ-bench.owl...  \n23     http://swat.cse.lehigh.edu/onto/univ-bench.owl...  \n24     http://swat.cse.lehigh.edu/onto/univ-bench.owl...  \n25     http://swat.cse.lehigh.edu/onto/univ-bench.owl...  \n26     http://swat.cse.lehigh.edu/onto/univ-bench.owl...  \n27     http://swat.cse.lehigh.edu/onto/univ-bench.owl...  \n28     http://swat.cse.lehigh.edu/onto/univ-bench.owl...  \n29      http://www.w3.org/1999/02/22-rdf-syntax-ns#first  \n30     http://www.w3.org/1999/02/22-rdf-syntax-ns#object  \n31     http://www.w3.org/1999/02/22-rdf-syntax-ns#pre...  \n32       http://www.w3.org/1999/02/22-rdf-syntax-ns#rest  \n33     http://www.w3.org/1999/02/22-rdf-syntax-ns#sub...  \n34      http://www.w3.org/1999/02/22-rdf-syntax-ns#value  \n35          http://www.w3.org/2000/01/rdf-schema#comment  \n36           http://www.w3.org/2000/01/rdf-schema#domain  \n37            http://www.w3.org/2000/01/rdf-schema#label  \n38            http://www.w3.org/2000/01/rdf-schema#range  \n39       http://www.w3.org/2000/01/rdf-schema#subClassOf  \n40     http://www.w3.org/2000/01/rdf-schema#subProper...  \n41                 http://www.w3.org/2002/07/owl#imports  \n42          http://www.w3.org/2002/07/owl#intersectionOf  \n43               http://www.w3.org/2002/07/owl#inverseOf  \n44              http://www.w3.org/2002/07/owl#onProperty  \n45          http://www.w3.org/2002/07/owl#someValuesFrom  \n46             http://www.w3.org/2002/07/owl#versionInfo  \n47                                                   NaN  \n48                                                   NaN  \n49                                                   NaN  \n50                                                   NaN  \n51                                                   NaN  \n52                                                   NaN  \n53                                                   NaN  \n54                                                   NaN  \n55                                                   NaN  \n56                                                   NaN  \n57                                                   NaN  \n58                                                   NaN  ",
      "text/html": "<div>\n<style scoped>\n    .dataframe tbody tr th:only-of-type {\n        vertical-align: middle;\n    }\n\n    .dataframe tbody tr th {\n        vertical-align: top;\n    }\n\n    .dataframe thead th {\n        text-align: right;\n    }\n</style>\n<table border=\"1\" class=\"dataframe\">\n  <thead>\n    <tr style=\"text-align: right;\">\n      <th>type</th>\n      <th>class</th>\n      <th>property</th>\n      <th>property_group</th>\n    </tr>\n    <tr>\n      <th>index</th>\n      <th></th>\n      <th></th>\n      <th></th>\n    </tr>\n  </thead>\n  <tbody>\n    <tr>\n      <th>0</th>\n      <td>NaN</td>\n      <td>NaN</td>\n      <td>http://www.w3.org/2000/01/rdf-schema#seeAlso</td>\n    </tr>\n    <tr>\n      <th>1</th>\n      <td>http://swat.cse.lehigh.edu/onto/univ-bench.owl...</td>\n      <td>http://www.w3.org/1999/02/22-rdf-syntax-ns#type</td>\n      <td>http://www.w3.org/1999/02/22-rdf-syntax-ns#_1</td>\n    </tr>\n    <tr>\n      <th>2</th>\n      <td>http://swat.cse.lehigh.edu/onto/univ-bench.owl...</td>\n      <td>http://swat.cse.lehigh.edu/onto/univ-bench.owl...</td>\n      <td>http://swat.cse.lehigh.edu/onto/univ-bench.owl...</td>\n    </tr>\n    <tr>\n      <th>3</th>\n      <td>http://swat.cse.lehigh.edu/onto/univ-bench.owl...</td>\n      <td>http://swat.cse.lehigh.edu/onto/univ-bench.owl...</td>\n      <td>http://swat.cse.lehigh.edu/onto/univ-bench.owl...</td>\n    </tr>\n    <tr>\n      <th>4</th>\n      <td>http://swat.cse.lehigh.edu/onto/univ-bench.owl...</td>\n      <td>http://swat.cse.lehigh.edu/onto/univ-bench.owl...</td>\n      <td>http://www.w3.org/1999/02/22-rdf-syntax-ns#type</td>\n    </tr>\n    <tr>\n      <th>5</th>\n      <td>http://swat.cse.lehigh.edu/onto/univ-bench.owl...</td>\n      <td>http://swat.cse.lehigh.edu/onto/univ-bench.owl...</td>\n      <td>http://swat.cse.lehigh.edu/onto/univ-bench.owl...</td>\n    </tr>\n    <tr>\n      <th>6</th>\n      <td>http://swat.cse.lehigh.edu/onto/univ-bench.owl...</td>\n      <td>http://swat.cse.lehigh.edu/onto/univ-bench.owl...</td>\n      <td>http://swat.cse.lehigh.edu/onto/univ-bench.owl...</td>\n    </tr>\n    <tr>\n      <th>7</th>\n      <td>http://swat.cse.lehigh.edu/onto/univ-bench.owl...</td>\n      <td>http://swat.cse.lehigh.edu/onto/univ-bench.owl...</td>\n      <td>http://swat.cse.lehigh.edu/onto/univ-bench.owl...</td>\n    </tr>\n    <tr>\n      <th>8</th>\n      <td>http://swat.cse.lehigh.edu/onto/univ-bench.owl...</td>\n      <td>http://swat.cse.lehigh.edu/onto/univ-bench.owl...</td>\n      <td>http://swat.cse.lehigh.edu/onto/univ-bench.owl...</td>\n    </tr>\n    <tr>\n      <th>9</th>\n      <td>http://swat.cse.lehigh.edu/onto/univ-bench.owl...</td>\n      <td>http://swat.cse.lehigh.edu/onto/univ-bench.owl...</td>\n      <td>http://swat.cse.lehigh.edu/onto/univ-bench.owl...</td>\n    </tr>\n    <tr>\n      <th>10</th>\n      <td>http://swat.cse.lehigh.edu/onto/univ-bench.owl...</td>\n      <td>http://swat.cse.lehigh.edu/onto/univ-bench.owl...</td>\n      <td>http://swat.cse.lehigh.edu/onto/univ-bench.owl...</td>\n    </tr>\n    <tr>\n      <th>11</th>\n      <td>http://swat.cse.lehigh.edu/onto/univ-bench.owl...</td>\n      <td>http://swat.cse.lehigh.edu/onto/univ-bench.owl...</td>\n      <td>http://swat.cse.lehigh.edu/onto/univ-bench.owl...</td>\n    </tr>\n    <tr>\n      <th>12</th>\n      <td>http://swat.cse.lehigh.edu/onto/univ-bench.owl...</td>\n      <td>http://swat.cse.lehigh.edu/onto/univ-bench.owl...</td>\n      <td>http://swat.cse.lehigh.edu/onto/univ-bench.owl...</td>\n    </tr>\n    <tr>\n      <th>13</th>\n      <td>http://swat.cse.lehigh.edu/onto/univ-bench.owl...</td>\n      <td>http://swat.cse.lehigh.edu/onto/univ-bench.owl...</td>\n      <td>http://swat.cse.lehigh.edu/onto/univ-bench.owl...</td>\n    </tr>\n    <tr>\n      <th>14</th>\n      <td>http://swat.cse.lehigh.edu/onto/univ-bench.owl...</td>\n      <td>http://swat.cse.lehigh.edu/onto/univ-bench.owl...</td>\n      <td>http://swat.cse.lehigh.edu/onto/univ-bench.owl...</td>\n    </tr>\n    <tr>\n      <th>15</th>\n      <td>http://swat.cse.lehigh.edu/onto/univ-bench.owl...</td>\n      <td>http://swat.cse.lehigh.edu/onto/univ-bench.owl...</td>\n      <td>http://swat.cse.lehigh.edu/onto/univ-bench.owl...</td>\n    </tr>\n    <tr>\n      <th>16</th>\n      <td>http://swat.cse.lehigh.edu/onto/univ-bench.owl...</td>\n      <td>http://swat.cse.lehigh.edu/onto/univ-bench.owl...</td>\n      <td>http://swat.cse.lehigh.edu/onto/univ-bench.owl...</td>\n    </tr>\n    <tr>\n      <th>17</th>\n      <td>http://swat.cse.lehigh.edu/onto/univ-bench.owl...</td>\n      <td>http://swat.cse.lehigh.edu/onto/univ-bench.owl...</td>\n      <td>http://swat.cse.lehigh.edu/onto/univ-bench.owl...</td>\n    </tr>\n    <tr>\n      <th>18</th>\n      <td>http://swat.cse.lehigh.edu/onto/univ-bench.owl...</td>\n      <td>http://swat.cse.lehigh.edu/onto/univ-bench.owl...</td>\n      <td>http://swat.cse.lehigh.edu/onto/univ-bench.owl...</td>\n    </tr>\n    <tr>\n      <th>19</th>\n      <td>http://swat.cse.lehigh.edu/onto/univ-bench.owl...</td>\n      <td>http://swat.cse.lehigh.edu/onto/univ-bench.owl...</td>\n      <td>http://swat.cse.lehigh.edu/onto/univ-bench.owl...</td>\n    </tr>\n    <tr>\n      <th>20</th>\n      <td>http://swat.cse.lehigh.edu/onto/univ-bench.owl...</td>\n      <td>http://swat.cse.lehigh.edu/onto/univ-bench.owl...</td>\n      <td>http://swat.cse.lehigh.edu/onto/univ-bench.owl...</td>\n    </tr>\n    <tr>\n      <th>21</th>\n      <td>http://swat.cse.lehigh.edu/onto/univ-bench.owl...</td>\n      <td>http://swat.cse.lehigh.edu/onto/univ-bench.owl...</td>\n      <td>http://swat.cse.lehigh.edu/onto/univ-bench.owl...</td>\n    </tr>\n    <tr>\n      <th>22</th>\n      <td>http://swat.cse.lehigh.edu/onto/univ-bench.owl...</td>\n      <td>http://swat.cse.lehigh.edu/onto/univ-bench.owl...</td>\n      <td>http://swat.cse.lehigh.edu/onto/univ-bench.owl...</td>\n    </tr>\n    <tr>\n      <th>23</th>\n      <td>http://swat.cse.lehigh.edu/onto/univ-bench.owl...</td>\n      <td>http://swat.cse.lehigh.edu/onto/univ-bench.owl...</td>\n      <td>http://swat.cse.lehigh.edu/onto/univ-bench.owl...</td>\n    </tr>\n    <tr>\n      <th>24</th>\n      <td>http://swat.cse.lehigh.edu/onto/univ-bench.owl...</td>\n      <td>http://swat.cse.lehigh.edu/onto/univ-bench.owl...</td>\n      <td>http://swat.cse.lehigh.edu/onto/univ-bench.owl...</td>\n    </tr>\n    <tr>\n      <th>25</th>\n      <td>http://swat.cse.lehigh.edu/onto/univ-bench.owl...</td>\n      <td>http://swat.cse.lehigh.edu/onto/univ-bench.owl...</td>\n      <td>http://swat.cse.lehigh.edu/onto/univ-bench.owl...</td>\n    </tr>\n    <tr>\n      <th>26</th>\n      <td>http://swat.cse.lehigh.edu/onto/univ-bench.owl...</td>\n      <td>http://swat.cse.lehigh.edu/onto/univ-bench.owl...</td>\n      <td>http://swat.cse.lehigh.edu/onto/univ-bench.owl...</td>\n    </tr>\n    <tr>\n      <th>27</th>\n      <td>http://swat.cse.lehigh.edu/onto/univ-bench.owl...</td>\n      <td>http://swat.cse.lehigh.edu/onto/univ-bench.owl...</td>\n      <td>http://swat.cse.lehigh.edu/onto/univ-bench.owl...</td>\n    </tr>\n    <tr>\n      <th>28</th>\n      <td>http://swat.cse.lehigh.edu/onto/univ-bench.owl...</td>\n      <td>http://swat.cse.lehigh.edu/onto/univ-bench.owl...</td>\n      <td>http://swat.cse.lehigh.edu/onto/univ-bench.owl...</td>\n    </tr>\n    <tr>\n      <th>29</th>\n      <td>http://swat.cse.lehigh.edu/onto/univ-bench.owl...</td>\n      <td>http://swat.cse.lehigh.edu/onto/univ-bench.owl...</td>\n      <td>http://www.w3.org/1999/02/22-rdf-syntax-ns#first</td>\n    </tr>\n    <tr>\n      <th>30</th>\n      <td>http://swat.cse.lehigh.edu/onto/univ-bench.owl...</td>\n      <td>http://swat.cse.lehigh.edu/onto/univ-bench.owl...</td>\n      <td>http://www.w3.org/1999/02/22-rdf-syntax-ns#object</td>\n    </tr>\n    <tr>\n      <th>31</th>\n      <td>http://swat.cse.lehigh.edu/onto/univ-bench.owl...</td>\n      <td>http://swat.cse.lehigh.edu/onto/univ-bench.owl...</td>\n      <td>http://www.w3.org/1999/02/22-rdf-syntax-ns#pre...</td>\n    </tr>\n    <tr>\n      <th>32</th>\n      <td>http://swat.cse.lehigh.edu/onto/univ-bench.owl...</td>\n      <td>http://swat.cse.lehigh.edu/onto/univ-bench.owl...</td>\n      <td>http://www.w3.org/1999/02/22-rdf-syntax-ns#rest</td>\n    </tr>\n    <tr>\n      <th>33</th>\n      <td>http://swat.cse.lehigh.edu/onto/univ-bench.owl...</td>\n      <td>http://www.w3.org/1999/02/22-rdf-syntax-ns#_1</td>\n      <td>http://www.w3.org/1999/02/22-rdf-syntax-ns#sub...</td>\n    </tr>\n    <tr>\n      <th>34</th>\n      <td>http://swat.cse.lehigh.edu/onto/univ-bench.owl...</td>\n      <td>http://www.w3.org/1999/02/22-rdf-syntax-ns#first</td>\n      <td>http://www.w3.org/1999/02/22-rdf-syntax-ns#value</td>\n    </tr>\n    <tr>\n      <th>35</th>\n      <td>http://swat.cse.lehigh.edu/onto/univ-bench.owl...</td>\n      <td>http://www.w3.org/1999/02/22-rdf-syntax-ns#object</td>\n      <td>http://www.w3.org/2000/01/rdf-schema#comment</td>\n    </tr>\n    <tr>\n      <th>36</th>\n      <td>http://swat.cse.lehigh.edu/onto/univ-bench.owl...</td>\n      <td>http://www.w3.org/1999/02/22-rdf-syntax-ns#pre...</td>\n      <td>http://www.w3.org/2000/01/rdf-schema#domain</td>\n    </tr>\n    <tr>\n      <th>37</th>\n      <td>http://swat.cse.lehigh.edu/onto/univ-bench.owl...</td>\n      <td>http://www.w3.org/1999/02/22-rdf-syntax-ns#rest</td>\n      <td>http://www.w3.org/2000/01/rdf-schema#label</td>\n    </tr>\n    <tr>\n      <th>38</th>\n      <td>http://swat.cse.lehigh.edu/onto/univ-bench.owl...</td>\n      <td>http://www.w3.org/1999/02/22-rdf-syntax-ns#sub...</td>\n      <td>http://www.w3.org/2000/01/rdf-schema#range</td>\n    </tr>\n    <tr>\n      <th>39</th>\n      <td>http://swat.cse.lehigh.edu/onto/univ-bench.owl...</td>\n      <td>http://www.w3.org/1999/02/22-rdf-syntax-ns#value</td>\n      <td>http://www.w3.org/2000/01/rdf-schema#subClassOf</td>\n    </tr>\n    <tr>\n      <th>40</th>\n      <td>http://swat.cse.lehigh.edu/onto/univ-bench.owl...</td>\n      <td>http://www.w3.org/2000/01/rdf-schema#comment</td>\n      <td>http://www.w3.org/2000/01/rdf-schema#subProper...</td>\n    </tr>\n    <tr>\n      <th>41</th>\n      <td>http://swat.cse.lehigh.edu/onto/univ-bench.owl...</td>\n      <td>http://www.w3.org/2000/01/rdf-schema#domain</td>\n      <td>http://www.w3.org/2002/07/owl#imports</td>\n    </tr>\n    <tr>\n      <th>42</th>\n      <td>http://swat.cse.lehigh.edu/onto/univ-bench.owl...</td>\n      <td>http://www.w3.org/2000/01/rdf-schema#isDefinedBy</td>\n      <td>http://www.w3.org/2002/07/owl#intersectionOf</td>\n    </tr>\n    <tr>\n      <th>43</th>\n      <td>http://swat.cse.lehigh.edu/onto/univ-bench.owl...</td>\n      <td>http://www.w3.org/2000/01/rdf-schema#label</td>\n      <td>http://www.w3.org/2002/07/owl#inverseOf</td>\n    </tr>\n    <tr>\n      <th>44</th>\n      <td>http://www.w3.org/1999/02/22-rdf-syntax-ns#Alt</td>\n      <td>http://www.w3.org/2000/01/rdf-schema#member</td>\n      <td>http://www.w3.org/2002/07/owl#onProperty</td>\n    </tr>\n    <tr>\n      <th>45</th>\n      <td>http://www.w3.org/1999/02/22-rdf-syntax-ns#Bag</td>\n      <td>http://www.w3.org/2000/01/rdf-schema#range</td>\n      <td>http://www.w3.org/2002/07/owl#someValuesFrom</td>\n    </tr>\n    <tr>\n      <th>46</th>\n      <td>http://www.w3.org/1999/02/22-rdf-syntax-ns#List</td>\n      <td>http://www.w3.org/2000/01/rdf-schema#seeAlso</td>\n      <td>http://www.w3.org/2002/07/owl#versionInfo</td>\n    </tr>\n    <tr>\n      <th>47</th>\n      <td>http://www.w3.org/1999/02/22-rdf-syntax-ns#Pro...</td>\n      <td>http://www.w3.org/2000/01/rdf-schema#subClassOf</td>\n      <td>NaN</td>\n    </tr>\n    <tr>\n      <th>48</th>\n      <td>http://www.w3.org/1999/02/22-rdf-syntax-ns#Seq</td>\n      <td>http://www.w3.org/2000/01/rdf-schema#subProper...</td>\n      <td>NaN</td>\n    </tr>\n    <tr>\n      <th>49</th>\n      <td>http://www.w3.org/1999/02/22-rdf-syntax-ns#Sta...</td>\n      <td>http://www.w3.org/2002/07/owl#imports</td>\n      <td>NaN</td>\n    </tr>\n    <tr>\n      <th>50</th>\n      <td>http://www.w3.org/1999/02/22-rdf-syntax-ns#XML...</td>\n      <td>http://www.w3.org/2002/07/owl#intersectionOf</td>\n      <td>NaN</td>\n    </tr>\n    <tr>\n      <th>51</th>\n      <td>http://www.w3.org/2000/01/rdf-schema#Class</td>\n      <td>http://www.w3.org/2002/07/owl#inverseOf</td>\n      <td>NaN</td>\n    </tr>\n    <tr>\n      <th>52</th>\n      <td>http://www.w3.org/2000/01/rdf-schema#Container</td>\n      <td>http://www.w3.org/2002/07/owl#onProperty</td>\n      <td>NaN</td>\n    </tr>\n    <tr>\n      <th>53</th>\n      <td>http://www.w3.org/2000/01/rdf-schema#Container...</td>\n      <td>http://www.w3.org/2002/07/owl#someValuesFrom</td>\n      <td>NaN</td>\n    </tr>\n    <tr>\n      <th>54</th>\n      <td>http://www.w3.org/2000/01/rdf-schema#Datatype</td>\n      <td>http://www.w3.org/2002/07/owl#versionInfo</td>\n      <td>NaN</td>\n    </tr>\n    <tr>\n      <th>55</th>\n      <td>http://www.w3.org/2000/01/rdf-schema#Literal</td>\n      <td>NaN</td>\n      <td>NaN</td>\n    </tr>\n    <tr>\n      <th>56</th>\n      <td>http://www.w3.org/2000/01/rdf-schema#Resource</td>\n      <td>NaN</td>\n      <td>NaN</td>\n    </tr>\n    <tr>\n      <th>57</th>\n      <td>http://www.w3.org/2001/XMLSchema#nonNegativeIn...</td>\n      <td>NaN</td>\n      <td>NaN</td>\n    </tr>\n    <tr>\n      <th>58</th>\n      <td>http://www.w3.org/2001/XMLSchema#string</td>\n      <td>NaN</td>\n      <td>NaN</td>\n    </tr>\n  </tbody>\n</table>\n</div>"
     },
     "execution_count": 34,
     "metadata": {},
     "output_type": "execute_result"
    }
   ],
   "source": [
    "result_df"
   ],
   "metadata": {
    "collapsed": false
   }
  },
  {
   "cell_type": "code",
   "execution_count": 35,
   "outputs": [],
   "source": [
    "df_class = df[df.type == \"class\"]\n",
    "df_property = df[df.type == \"property\"]\n",
    "df_property_group = df[df.type == \"property_group\"]"
   ],
   "metadata": {
    "collapsed": false
   }
  },
  {
   "cell_type": "code",
   "execution_count": 36,
   "outputs": [
    {
     "ename": "FileNotFoundError",
     "evalue": "[Errno 2] No such file or directory: '../data/lubm1_intact/encoding/tbox.nt'",
     "output_type": "error",
     "traceback": [
      "\u001B[0;31m---------------------------------------------------------------------------\u001B[0m",
      "\u001B[0;31mFileNotFoundError\u001B[0m                         Traceback (most recent call last)",
      "\u001B[0;32m/tmp/ipykernel_55506/2864274135.py\u001B[0m in \u001B[0;36m<module>\u001B[0;34m\u001B[0m\n\u001B[1;32m      1\u001B[0m \u001B[0mcol_names\u001B[0m \u001B[0;34m=\u001B[0m \u001B[0;34m[\u001B[0m\u001B[0;34m\"subject\"\u001B[0m\u001B[0;34m,\u001B[0m \u001B[0;34m\"predicate\"\u001B[0m\u001B[0;34m,\u001B[0m \u001B[0;34m\"object\"\u001B[0m\u001B[0;34m]\u001B[0m\u001B[0;34m\u001B[0m\u001B[0;34m\u001B[0m\u001B[0m\n\u001B[1;32m      2\u001B[0m \u001B[0;31m#df2 = pd.read_csv(tbox_file, delimiter=' ', names=col_names)\u001B[0m\u001B[0;34m\u001B[0m\u001B[0;34m\u001B[0m\u001B[0;34m\u001B[0m\u001B[0m\n\u001B[0;32m----> 3\u001B[0;31m \u001B[0mdf2\u001B[0m \u001B[0;34m=\u001B[0m \u001B[0mpd\u001B[0m\u001B[0;34m.\u001B[0m\u001B[0mread_csv\u001B[0m\u001B[0;34m(\u001B[0m\u001B[0mtbox_file\u001B[0m\u001B[0;34m,\u001B[0m \u001B[0mdelimiter\u001B[0m\u001B[0;34m=\u001B[0m\u001B[0;34m' '\u001B[0m\u001B[0;34m)\u001B[0m\u001B[0;34m\u001B[0m\u001B[0;34m\u001B[0m\u001B[0m\n\u001B[0m\u001B[1;32m      4\u001B[0m \u001B[0;31m#df2['object'] = df2['object'].apply(lambda x: x.rstrip('.'))\u001B[0m\u001B[0;34m\u001B[0m\u001B[0;34m\u001B[0m\u001B[0;34m\u001B[0m\u001B[0m\n\u001B[1;32m      5\u001B[0m \u001B[0mdf2\u001B[0m \u001B[0;34m=\u001B[0m \u001B[0mdf2\u001B[0m\u001B[0;34m.\u001B[0m\u001B[0mdrop\u001B[0m\u001B[0;34m(\u001B[0m\u001B[0mdf2\u001B[0m\u001B[0;34m.\u001B[0m\u001B[0mcolumns\u001B[0m\u001B[0;34m[\u001B[0m\u001B[0;36m3\u001B[0m\u001B[0;34m]\u001B[0m\u001B[0;34m,\u001B[0m \u001B[0maxis\u001B[0m\u001B[0;34m=\u001B[0m\u001B[0;36m1\u001B[0m\u001B[0;34m)\u001B[0m\u001B[0;34m\u001B[0m\u001B[0;34m\u001B[0m\u001B[0m\n",
      "\u001B[0;32m~/anaconda3/envs/NMT4RDFS/lib/python3.7/site-packages/pandas/util/_decorators.py\u001B[0m in \u001B[0;36mwrapper\u001B[0;34m(*args, **kwargs)\u001B[0m\n\u001B[1;32m    309\u001B[0m                     \u001B[0mstacklevel\u001B[0m\u001B[0;34m=\u001B[0m\u001B[0mstacklevel\u001B[0m\u001B[0;34m,\u001B[0m\u001B[0;34m\u001B[0m\u001B[0;34m\u001B[0m\u001B[0m\n\u001B[1;32m    310\u001B[0m                 )\n\u001B[0;32m--> 311\u001B[0;31m             \u001B[0;32mreturn\u001B[0m \u001B[0mfunc\u001B[0m\u001B[0;34m(\u001B[0m\u001B[0;34m*\u001B[0m\u001B[0margs\u001B[0m\u001B[0;34m,\u001B[0m \u001B[0;34m**\u001B[0m\u001B[0mkwargs\u001B[0m\u001B[0;34m)\u001B[0m\u001B[0;34m\u001B[0m\u001B[0;34m\u001B[0m\u001B[0m\n\u001B[0m\u001B[1;32m    312\u001B[0m \u001B[0;34m\u001B[0m\u001B[0m\n\u001B[1;32m    313\u001B[0m         \u001B[0;32mreturn\u001B[0m \u001B[0mwrapper\u001B[0m\u001B[0;34m\u001B[0m\u001B[0;34m\u001B[0m\u001B[0m\n",
      "\u001B[0;32m~/anaconda3/envs/NMT4RDFS/lib/python3.7/site-packages/pandas/io/parsers/readers.py\u001B[0m in \u001B[0;36mread_csv\u001B[0;34m(filepath_or_buffer, sep, delimiter, header, names, index_col, usecols, squeeze, prefix, mangle_dupe_cols, dtype, engine, converters, true_values, false_values, skipinitialspace, skiprows, skipfooter, nrows, na_values, keep_default_na, na_filter, verbose, skip_blank_lines, parse_dates, infer_datetime_format, keep_date_col, date_parser, dayfirst, cache_dates, iterator, chunksize, compression, thousands, decimal, lineterminator, quotechar, quoting, doublequote, escapechar, comment, encoding, encoding_errors, dialect, error_bad_lines, warn_bad_lines, on_bad_lines, delim_whitespace, low_memory, memory_map, float_precision, storage_options)\u001B[0m\n\u001B[1;32m    584\u001B[0m     \u001B[0mkwds\u001B[0m\u001B[0;34m.\u001B[0m\u001B[0mupdate\u001B[0m\u001B[0;34m(\u001B[0m\u001B[0mkwds_defaults\u001B[0m\u001B[0;34m)\u001B[0m\u001B[0;34m\u001B[0m\u001B[0;34m\u001B[0m\u001B[0m\n\u001B[1;32m    585\u001B[0m \u001B[0;34m\u001B[0m\u001B[0m\n\u001B[0;32m--> 586\u001B[0;31m     \u001B[0;32mreturn\u001B[0m \u001B[0m_read\u001B[0m\u001B[0;34m(\u001B[0m\u001B[0mfilepath_or_buffer\u001B[0m\u001B[0;34m,\u001B[0m \u001B[0mkwds\u001B[0m\u001B[0;34m)\u001B[0m\u001B[0;34m\u001B[0m\u001B[0;34m\u001B[0m\u001B[0m\n\u001B[0m\u001B[1;32m    587\u001B[0m \u001B[0;34m\u001B[0m\u001B[0m\n\u001B[1;32m    588\u001B[0m \u001B[0;34m\u001B[0m\u001B[0m\n",
      "\u001B[0;32m~/anaconda3/envs/NMT4RDFS/lib/python3.7/site-packages/pandas/io/parsers/readers.py\u001B[0m in \u001B[0;36m_read\u001B[0;34m(filepath_or_buffer, kwds)\u001B[0m\n\u001B[1;32m    480\u001B[0m \u001B[0;34m\u001B[0m\u001B[0m\n\u001B[1;32m    481\u001B[0m     \u001B[0;31m# Create the parser.\u001B[0m\u001B[0;34m\u001B[0m\u001B[0;34m\u001B[0m\u001B[0;34m\u001B[0m\u001B[0m\n\u001B[0;32m--> 482\u001B[0;31m     \u001B[0mparser\u001B[0m \u001B[0;34m=\u001B[0m \u001B[0mTextFileReader\u001B[0m\u001B[0;34m(\u001B[0m\u001B[0mfilepath_or_buffer\u001B[0m\u001B[0;34m,\u001B[0m \u001B[0;34m**\u001B[0m\u001B[0mkwds\u001B[0m\u001B[0;34m)\u001B[0m\u001B[0;34m\u001B[0m\u001B[0;34m\u001B[0m\u001B[0m\n\u001B[0m\u001B[1;32m    483\u001B[0m \u001B[0;34m\u001B[0m\u001B[0m\n\u001B[1;32m    484\u001B[0m     \u001B[0;32mif\u001B[0m \u001B[0mchunksize\u001B[0m \u001B[0;32mor\u001B[0m \u001B[0miterator\u001B[0m\u001B[0;34m:\u001B[0m\u001B[0;34m\u001B[0m\u001B[0;34m\u001B[0m\u001B[0m\n",
      "\u001B[0;32m~/anaconda3/envs/NMT4RDFS/lib/python3.7/site-packages/pandas/io/parsers/readers.py\u001B[0m in \u001B[0;36m__init__\u001B[0;34m(self, f, engine, **kwds)\u001B[0m\n\u001B[1;32m    809\u001B[0m             \u001B[0mself\u001B[0m\u001B[0;34m.\u001B[0m\u001B[0moptions\u001B[0m\u001B[0;34m[\u001B[0m\u001B[0;34m\"has_index_names\"\u001B[0m\u001B[0;34m]\u001B[0m \u001B[0;34m=\u001B[0m \u001B[0mkwds\u001B[0m\u001B[0;34m[\u001B[0m\u001B[0;34m\"has_index_names\"\u001B[0m\u001B[0;34m]\u001B[0m\u001B[0;34m\u001B[0m\u001B[0;34m\u001B[0m\u001B[0m\n\u001B[1;32m    810\u001B[0m \u001B[0;34m\u001B[0m\u001B[0m\n\u001B[0;32m--> 811\u001B[0;31m         \u001B[0mself\u001B[0m\u001B[0;34m.\u001B[0m\u001B[0m_engine\u001B[0m \u001B[0;34m=\u001B[0m \u001B[0mself\u001B[0m\u001B[0;34m.\u001B[0m\u001B[0m_make_engine\u001B[0m\u001B[0;34m(\u001B[0m\u001B[0mself\u001B[0m\u001B[0;34m.\u001B[0m\u001B[0mengine\u001B[0m\u001B[0;34m)\u001B[0m\u001B[0;34m\u001B[0m\u001B[0;34m\u001B[0m\u001B[0m\n\u001B[0m\u001B[1;32m    812\u001B[0m \u001B[0;34m\u001B[0m\u001B[0m\n\u001B[1;32m    813\u001B[0m     \u001B[0;32mdef\u001B[0m \u001B[0mclose\u001B[0m\u001B[0;34m(\u001B[0m\u001B[0mself\u001B[0m\u001B[0;34m)\u001B[0m\u001B[0;34m:\u001B[0m\u001B[0;34m\u001B[0m\u001B[0;34m\u001B[0m\u001B[0m\n",
      "\u001B[0;32m~/anaconda3/envs/NMT4RDFS/lib/python3.7/site-packages/pandas/io/parsers/readers.py\u001B[0m in \u001B[0;36m_make_engine\u001B[0;34m(self, engine)\u001B[0m\n\u001B[1;32m   1038\u001B[0m             )\n\u001B[1;32m   1039\u001B[0m         \u001B[0;31m# error: Too many arguments for \"ParserBase\"\u001B[0m\u001B[0;34m\u001B[0m\u001B[0;34m\u001B[0m\u001B[0;34m\u001B[0m\u001B[0m\n\u001B[0;32m-> 1040\u001B[0;31m         \u001B[0;32mreturn\u001B[0m \u001B[0mmapping\u001B[0m\u001B[0;34m[\u001B[0m\u001B[0mengine\u001B[0m\u001B[0;34m]\u001B[0m\u001B[0;34m(\u001B[0m\u001B[0mself\u001B[0m\u001B[0;34m.\u001B[0m\u001B[0mf\u001B[0m\u001B[0;34m,\u001B[0m \u001B[0;34m**\u001B[0m\u001B[0mself\u001B[0m\u001B[0;34m.\u001B[0m\u001B[0moptions\u001B[0m\u001B[0;34m)\u001B[0m  \u001B[0;31m# type: ignore[call-arg]\u001B[0m\u001B[0;34m\u001B[0m\u001B[0;34m\u001B[0m\u001B[0m\n\u001B[0m\u001B[1;32m   1041\u001B[0m \u001B[0;34m\u001B[0m\u001B[0m\n\u001B[1;32m   1042\u001B[0m     \u001B[0;32mdef\u001B[0m \u001B[0m_failover_to_python\u001B[0m\u001B[0;34m(\u001B[0m\u001B[0mself\u001B[0m\u001B[0;34m)\u001B[0m\u001B[0;34m:\u001B[0m\u001B[0;34m\u001B[0m\u001B[0;34m\u001B[0m\u001B[0m\n",
      "\u001B[0;32m~/anaconda3/envs/NMT4RDFS/lib/python3.7/site-packages/pandas/io/parsers/c_parser_wrapper.py\u001B[0m in \u001B[0;36m__init__\u001B[0;34m(self, src, **kwds)\u001B[0m\n\u001B[1;32m     49\u001B[0m \u001B[0;34m\u001B[0m\u001B[0m\n\u001B[1;32m     50\u001B[0m         \u001B[0;31m# open handles\u001B[0m\u001B[0;34m\u001B[0m\u001B[0;34m\u001B[0m\u001B[0;34m\u001B[0m\u001B[0m\n\u001B[0;32m---> 51\u001B[0;31m         \u001B[0mself\u001B[0m\u001B[0;34m.\u001B[0m\u001B[0m_open_handles\u001B[0m\u001B[0;34m(\u001B[0m\u001B[0msrc\u001B[0m\u001B[0;34m,\u001B[0m \u001B[0mkwds\u001B[0m\u001B[0;34m)\u001B[0m\u001B[0;34m\u001B[0m\u001B[0;34m\u001B[0m\u001B[0m\n\u001B[0m\u001B[1;32m     52\u001B[0m         \u001B[0;32massert\u001B[0m \u001B[0mself\u001B[0m\u001B[0;34m.\u001B[0m\u001B[0mhandles\u001B[0m \u001B[0;32mis\u001B[0m \u001B[0;32mnot\u001B[0m \u001B[0;32mNone\u001B[0m\u001B[0;34m\u001B[0m\u001B[0;34m\u001B[0m\u001B[0m\n\u001B[1;32m     53\u001B[0m \u001B[0;34m\u001B[0m\u001B[0m\n",
      "\u001B[0;32m~/anaconda3/envs/NMT4RDFS/lib/python3.7/site-packages/pandas/io/parsers/base_parser.py\u001B[0m in \u001B[0;36m_open_handles\u001B[0;34m(self, src, kwds)\u001B[0m\n\u001B[1;32m    227\u001B[0m             \u001B[0mmemory_map\u001B[0m\u001B[0;34m=\u001B[0m\u001B[0mkwds\u001B[0m\u001B[0;34m.\u001B[0m\u001B[0mget\u001B[0m\u001B[0;34m(\u001B[0m\u001B[0;34m\"memory_map\"\u001B[0m\u001B[0;34m,\u001B[0m \u001B[0;32mFalse\u001B[0m\u001B[0;34m)\u001B[0m\u001B[0;34m,\u001B[0m\u001B[0;34m\u001B[0m\u001B[0;34m\u001B[0m\u001B[0m\n\u001B[1;32m    228\u001B[0m             \u001B[0mstorage_options\u001B[0m\u001B[0;34m=\u001B[0m\u001B[0mkwds\u001B[0m\u001B[0;34m.\u001B[0m\u001B[0mget\u001B[0m\u001B[0;34m(\u001B[0m\u001B[0;34m\"storage_options\"\u001B[0m\u001B[0;34m,\u001B[0m \u001B[0;32mNone\u001B[0m\u001B[0;34m)\u001B[0m\u001B[0;34m,\u001B[0m\u001B[0;34m\u001B[0m\u001B[0;34m\u001B[0m\u001B[0m\n\u001B[0;32m--> 229\u001B[0;31m             \u001B[0merrors\u001B[0m\u001B[0;34m=\u001B[0m\u001B[0mkwds\u001B[0m\u001B[0;34m.\u001B[0m\u001B[0mget\u001B[0m\u001B[0;34m(\u001B[0m\u001B[0;34m\"encoding_errors\"\u001B[0m\u001B[0;34m,\u001B[0m \u001B[0;34m\"strict\"\u001B[0m\u001B[0;34m)\u001B[0m\u001B[0;34m,\u001B[0m\u001B[0;34m\u001B[0m\u001B[0;34m\u001B[0m\u001B[0m\n\u001B[0m\u001B[1;32m    230\u001B[0m         )\n\u001B[1;32m    231\u001B[0m \u001B[0;34m\u001B[0m\u001B[0m\n",
      "\u001B[0;32m~/anaconda3/envs/NMT4RDFS/lib/python3.7/site-packages/pandas/io/common.py\u001B[0m in \u001B[0;36mget_handle\u001B[0;34m(path_or_buf, mode, encoding, compression, memory_map, is_text, errors, storage_options)\u001B[0m\n\u001B[1;32m    705\u001B[0m                 \u001B[0mencoding\u001B[0m\u001B[0;34m=\u001B[0m\u001B[0mioargs\u001B[0m\u001B[0;34m.\u001B[0m\u001B[0mencoding\u001B[0m\u001B[0;34m,\u001B[0m\u001B[0;34m\u001B[0m\u001B[0;34m\u001B[0m\u001B[0m\n\u001B[1;32m    706\u001B[0m                 \u001B[0merrors\u001B[0m\u001B[0;34m=\u001B[0m\u001B[0merrors\u001B[0m\u001B[0;34m,\u001B[0m\u001B[0;34m\u001B[0m\u001B[0;34m\u001B[0m\u001B[0m\n\u001B[0;32m--> 707\u001B[0;31m                 \u001B[0mnewline\u001B[0m\u001B[0;34m=\u001B[0m\u001B[0;34m\"\"\u001B[0m\u001B[0;34m,\u001B[0m\u001B[0;34m\u001B[0m\u001B[0;34m\u001B[0m\u001B[0m\n\u001B[0m\u001B[1;32m    708\u001B[0m             )\n\u001B[1;32m    709\u001B[0m         \u001B[0;32melse\u001B[0m\u001B[0;34m:\u001B[0m\u001B[0;34m\u001B[0m\u001B[0;34m\u001B[0m\u001B[0m\n",
      "\u001B[0;31mFileNotFoundError\u001B[0m: [Errno 2] No such file or directory: '../data/lubm1_intact/encoding/tbox.nt'"
     ]
    }
   ],
   "source": [
    "col_names = [\"subject\", \"predicate\", \"object\"]\n",
    "#df2 = pd.read_csv(tbox_file, delimiter=' ', names=col_names)\n",
    "df2 = pd.read_csv(tbox_file, delimiter=' ')\n",
    "#df2['object'] = df2['object'].apply(lambda x: x.rstrip('.'))\n",
    "df2 = df2.drop(df2.columns[3], axis=1)\n",
    "df2.columns = col_names\n",
    "df2.shape"
   ],
   "metadata": {
    "collapsed": false
   }
  },
  {
   "cell_type": "markdown",
   "source": [
    "# I want to see what \"property types\" are in the #type in df2 for \"df1\" values marked as \"property\""
   ],
   "metadata": {
    "collapsed": false
   }
  },
  {
   "cell_type": "code",
   "execution_count": null,
   "outputs": [],
   "source": [
    "df_class"
   ],
   "metadata": {
    "collapsed": false
   }
  },
  {
   "cell_type": "code",
   "execution_count": null,
   "outputs": [],
   "source": [
    "df_property_group"
   ],
   "metadata": {
    "collapsed": false
   }
  },
  {
   "cell_type": "code",
   "execution_count": null,
   "outputs": [],
   "source": [],
   "metadata": {
    "collapsed": false
   }
  },
  {
   "cell_type": "markdown",
   "source": [
    "# I will seperate only the subject #end part and compare"
   ],
   "metadata": {
    "collapsed": false
   }
  },
  {
   "cell_type": "code",
   "execution_count": null,
   "outputs": [],
   "source": [
    "df_property_copy = df_property.copy()"
   ],
   "metadata": {
    "collapsed": false
   }
  },
  {
   "cell_type": "code",
   "execution_count": null,
   "outputs": [],
   "source": [
    "df_property_copy.uri = df_property_copy.uri.str.extract(r'#(.+)')"
   ],
   "metadata": {
    "collapsed": false
   }
  },
  {
   "cell_type": "code",
   "execution_count": null,
   "outputs": [],
   "source": [
    "df_property_copy"
   ],
   "metadata": {
    "collapsed": false
   }
  },
  {
   "cell_type": "code",
   "execution_count": null,
   "outputs": [],
   "source": [
    "df1_property_list = df_property_copy.uri.to_list()"
   ],
   "metadata": {
    "collapsed": false
   }
  },
  {
   "cell_type": "markdown",
   "source": [
    "# DF 2 CLASSES"
   ],
   "metadata": {
    "collapsed": false
   }
  },
  {
   "cell_type": "code",
   "execution_count": null,
   "outputs": [],
   "source": [
    "df2"
   ],
   "metadata": {
    "collapsed": false
   }
  },
  {
   "cell_type": "code",
   "execution_count": null,
   "outputs": [],
   "source": [
    "df2_types = df2[df2.predicate.str.contains('#type')]"
   ],
   "metadata": {
    "collapsed": false
   }
  },
  {
   "cell_type": "code",
   "execution_count": null,
   "outputs": [],
   "source": [
    "df2_classes = df2[df2.object.str.contains('#Class')]"
   ],
   "metadata": {
    "collapsed": false
   }
  },
  {
   "cell_type": "code",
   "execution_count": null,
   "outputs": [],
   "source": [
    "df2_classes"
   ],
   "metadata": {
    "collapsed": false
   }
  },
  {
   "cell_type": "code",
   "execution_count": null,
   "outputs": [],
   "source": [],
   "metadata": {
    "collapsed": false
   }
  },
  {
   "cell_type": "markdown",
   "source": [
    "# DF 2 PROPERTIES"
   ],
   "metadata": {
    "collapsed": false
   }
  },
  {
   "cell_type": "code",
   "execution_count": null,
   "outputs": [],
   "source": [
    "df2_types"
   ],
   "metadata": {
    "collapsed": false
   }
  },
  {
   "cell_type": "markdown",
   "source": [
    "# Compare property list from df1 to df2 subject, and get object \"type\""
   ],
   "metadata": {
    "collapsed": false
   }
  },
  {
   "cell_type": "code",
   "execution_count": null,
   "outputs": [],
   "source": [
    "df1_property_list"
   ],
   "metadata": {
    "collapsed": false
   }
  },
  {
   "cell_type": "code",
   "execution_count": null,
   "outputs": [],
   "source": [
    "types = []\n",
    "for x in range(len(df1_property_list)):\n",
    "    types.append(df2_types[df2_types.subject.str.contains(df1_property_list[x])].object.str.extract(r'#(.+)'))"
   ],
   "metadata": {
    "collapsed": false
   }
  },
  {
   "cell_type": "code",
   "execution_count": null,
   "outputs": [],
   "source": [
    "types_2 = []\n",
    "for type in types:\n",
    "    types_2.append(type.to_string().strip())"
   ],
   "metadata": {
    "collapsed": false
   }
  },
  {
   "cell_type": "code",
   "execution_count": null,
   "outputs": [],
   "source": [
    "types_2"
   ],
   "metadata": {
    "collapsed": false
   }
  },
  {
   "cell_type": "code",
   "execution_count": null,
   "outputs": [],
   "source": [
    "df2_properties = df2_types.copy()"
   ],
   "metadata": {
    "collapsed": false
   }
  },
  {
   "cell_type": "code",
   "execution_count": null,
   "outputs": [],
   "source": [
    "df2_properties = df2_properties[df2_properties.object.str.contains(\"Property\")].subject.unique()"
   ],
   "metadata": {
    "collapsed": false
   }
  },
  {
   "cell_type": "code",
   "execution_count": null,
   "outputs": [],
   "source": [
    "df2_properties"
   ],
   "metadata": {
    "collapsed": false
   }
  },
  {
   "cell_type": "markdown",
   "source": [
    "# DF2 SUB PROPERTIES"
   ],
   "metadata": {
    "collapsed": false
   }
  },
  {
   "cell_type": "code",
   "execution_count": null,
   "outputs": [],
   "source": [
    "df2_sub_properties = df2.copy()"
   ],
   "metadata": {
    "collapsed": false
   }
  },
  {
   "cell_type": "code",
   "execution_count": null,
   "outputs": [],
   "source": [
    "df2_sub_properties = df2_sub_properties[df2_sub_properties.predicate.str.contains(\"subPropertyOf\")]"
   ],
   "metadata": {
    "collapsed": false
   }
  },
  {
   "cell_type": "code",
   "execution_count": null,
   "outputs": [],
   "source": [
    "df2_sub_properties"
   ],
   "metadata": {
    "collapsed": false
   }
  },
  {
   "cell_type": "code",
   "execution_count": null,
   "outputs": [],
   "source": [
    "import re\n",
    "\n",
    "\n",
    "def get_lubm_graph_type(s):\n",
    "    s = s.split('/')[-1]\n",
    "    print(s)\n",
    "    s = s.split('_')[-1]\n",
    "    print(s)\n",
    "    m = re.search(\"\\d\", s)\n",
    "    print(m)\n",
    "    return s[:m.start()]"
   ],
   "metadata": {
    "collapsed": false
   }
  },
  {
   "cell_type": "code",
   "execution_count": null,
   "outputs": [],
   "source": [
    "get_lubm_graph_type(\"HTTP_www.Department0.University0.edu_AssistantProfessor8_Publication1.nt\")\n"
   ],
   "metadata": {
    "collapsed": false
   }
  },
  {
   "cell_type": "code",
   "execution_count": null,
   "outputs": [],
   "source": [
    "get_lubm_graph_type(\n",
    "    \"C:/Users/martt/PycharmProjects/NMT4RDFS/data/lubm1_intact/graphs_with_descriptions/HTTP_www.Department0.University0.edu_AssistantProfessor0.nt\")"
   ],
   "metadata": {
    "collapsed": false
   }
  },
  {
   "cell_type": "code",
   "execution_count": null,
   "outputs": [],
   "source": [
    "from rdflib import Graph\n",
    "import codecs\n",
    "import os"
   ],
   "metadata": {
    "collapsed": false
   }
  },
  {
   "cell_type": "code",
   "execution_count": null,
   "outputs": [],
   "source": [
    "input_graph = Graph()\n",
    "input_graph2 = Graph()\n",
    "input_graph3 = Graph()\n",
    "inference_graph = Graph()\n",
    "\n",
    "input_file = os.path.abspath(\n",
    "    \"/home/mart/git/NMT4RDFS/data/lubm1_intact/graphs_with_descriptions/HTTP_www.Department0.University0.edu.nt\")\n",
    "input_file2 = os.path.abspath(\n",
    "    \"/home/mart/git/NMT4RDFS/data/lubm1_intact/graphs_with_descriptions/HTTP_www.Department0.University0.edu_AssistantProfessor0.nt\")\n",
    "\n",
    "input_file3 = os.path.abspath(\n",
    "    \"/home/mart/git/NMT4RDFS/data/lubm1_intact/graphs_with_descriptions/HTTP_www.Department0.University0.edu_AssistantProfessor0_Publication0.nt\")\n",
    "\n",
    "inference_file = os.path.abspath(\n",
    "    \"/home/mart/git/NMT4RDFS/data/lubm1_intact/jena_inference_with_descriptions/HTTP_www.Department0.University0.edu.nt\")\n",
    "\n",
    "input_graph.parse(data=codecs.open(input_file, encoding=\"UTF-8\").read(), format=\"nt\")\n",
    "inference_graph.parse(data=codecs.open(inference_file, encoding=\"UTF-8\").read(), format=\"nt\")\n",
    "input_graph2.parse(data=codecs.open(input_file2, encoding=\"UTF-8\").read(), format=\"nt\")\n",
    "input_graph3.parse(data=codecs.open(input_file3, encoding=\"UTF-8\").read(), format=\"nt\")\n",
    "graph = input_graph"
   ],
   "metadata": {
    "collapsed": false
   }
  },
  {
   "cell_type": "code",
   "execution_count": null,
   "outputs": [],
   "source": [
    "triples_list = sorted(list(input_graph))[0]"
   ],
   "metadata": {
    "collapsed": false
   }
  },
  {
   "cell_type": "code",
   "execution_count": null,
   "outputs": [],
   "source": [
    "from graph_words_encoder import GraphWordsEncoder\n",
    "from prepare_data_utils import get_properties_dict, get_classes_dict, get_properties_groups"
   ],
   "metadata": {
    "collapsed": false
   }
  },
  {
   "cell_type": "code",
   "execution_count": null,
   "outputs": [],
   "source": [
    "import configparser\n",
    "import json\n",
    "import logging"
   ],
   "metadata": {
    "collapsed": false
   }
  },
  {
   "cell_type": "code",
   "execution_count": null,
   "outputs": [],
   "source": [
    "logging.basicConfig(format=\"%(asctime)s - %(name)s - %(levelname)s - %(message)s\", level=logging.INFO)\n",
    "\n",
    "config = configparser.ConfigParser()\n",
    "with open('../config.json', 'r') as f:\n",
    "    config = json.load(f)"
   ],
   "metadata": {
    "collapsed": false
   }
  },
  {
   "cell_type": "code",
   "execution_count": null,
   "outputs": [],
   "source": [
    "LUBM_ONTOLOGY_ENDPOINT = config['LUBM']['SPARQL_PARAMS']['ONTOLOGY_ENDPOINT']\n",
    "LUBM_ONTOLOGY_REPOSITORY = config['LUBM']['SPARQL_PARAMS']['ONTOLOGY_REPOSITORY']\n",
    "LUBM_ONTOLOGY_ENDPOINT_TYPE = config['LUBM']['SPARQL_PARAMS']['ONTOLOGY_ENDPOINT_TYPE']\n",
    "PROPERTIES_QUERY = config['LUBM']['SPARQL_PARAMS']['PROPERTIES_QUERY']\n",
    "QUERY_LIMIT = config['LUBM']['SPARQL_PARAMS']['QUERY_LIMIT']\n",
    "PROPERTIES_DICT_FILE = config['LUBM']['ENCODING_PARAMS']['PROPERTIES_DICT_FILE']\n",
    "CLASSES_QUERY = config['LUBM']['SPARQL_PARAMS']['CLASSES_QUERY']\n",
    "LUBM_ENCODING_DIRECTORY = config['LUBM']['ENCODING_PARAMS']['ENCODING_DIRECTORY']\n",
    "CLASSES_DICT_FILE = config['LUBM']['ENCODING_PARAMS']['CLASSES_DICT_FILE']\n",
    "PROPERTIES_GROUPS_FILE = config['LUBM']['ENCODING_PARAMS']['PROPERTIES_GROUPS_FILE']\n",
    "GRAPH_WORDS_ENCODER = config['LUBM']['ENCODING_PARAMS']['GRAPH_WORDS_ENCODER']\n",
    "SUB_PROPERTIES_QUERY = config['LUBM']['SPARQL_PARAMS']['SUB_PROPERTIES_QUERY']\n",
    "INPUT_GRAPHS_FOLDER = config['LUBM']['DATA']['INPUT_GRAPHS_FOLDER']\n",
    "INFERENCE_GRAPHS_FOLDER = config['LUBM']['DATA']['INFERENCE_GRAPHS_FOLDER']\n",
    "DATASET_ENCODING_FILE = config['LUBM']['ENCODING_PARAMS']['DATASET_ENCODING_FILE']\n",
    "INPUT_GRAPH_WORDS_CATALOGUE_FILE = config['LUBM']['ENCODING_PARAMS']['INPUT_GRAPH_WORDS_CATALOGUE_FILE']\n",
    "INFERENCE_GRAPH_WORDS_CATALOGUE_FILE = config['LUBM']['ENCODING_PARAMS']['INFERENCE_GRAPH_WORDS_CATALOGUE_FILE']\n",
    "EMBEDDING_MATRIX_CATALOGUE_FILE = config['LUBM']['ENCODING_PARAMS']['EMBEDDING_MATRIX_CATALOGUE_FILE']\n",
    "MAXIMUM_MATRIX_SIZE = config['LUBM']['ENCODING_PARAMS']['MAXIMUM_MATRIX_SIZE']\n",
    "HOPE_EMBEDDING_SIZE = config['LUBM']['ENCODING_PARAMS']['HOPE_EMBEDDING_SIZE']"
   ],
   "metadata": {
    "collapsed": false
   }
  },
  {
   "cell_type": "code",
   "execution_count": null,
   "outputs": [],
   "source": [
    "properties_dict = get_properties_dict(LUBM_ENCODING_DIRECTORY + PROPERTIES_DICT_FILE, PROPERTIES_QUERY,\n",
    "                                      LUBM_ONTOLOGY_REPOSITORY, LUBM_ONTOLOGY_ENDPOINT,\n",
    "                                      LUBM_ONTOLOGY_ENDPOINT_TYPE, QUERY_LIMIT)"
   ],
   "metadata": {
    "collapsed": false
   }
  },
  {
   "cell_type": "code",
   "execution_count": null,
   "outputs": [],
   "source": [
    "classes_dict = get_classes_dict(LUBM_ENCODING_DIRECTORY + CLASSES_DICT_FILE, CLASSES_QUERY, LUBM_ONTOLOGY_REPOSITORY,\n",
    "                                LUBM_ONTOLOGY_ENDPOINT,\n",
    "                                LUBM_ONTOLOGY_ENDPOINT_TYPE, QUERY_LIMIT)"
   ],
   "metadata": {
    "collapsed": false
   }
  },
  {
   "cell_type": "code",
   "execution_count": null,
   "outputs": [],
   "source": [
    "properties_group_dict = get_properties_groups(LUBM_ENCODING_DIRECTORY + PROPERTIES_GROUPS_FILE, SUB_PROPERTIES_QUERY,\n",
    "                                              LUBM_ONTOLOGY_REPOSITORY,\n",
    "                                              LUBM_ONTOLOGY_ENDPOINT,\n",
    "                                              LUBM_ONTOLOGY_ENDPOINT_TYPE, properties_dict, QUERY_LIMIT)"
   ],
   "metadata": {
    "collapsed": false
   }
  },
  {
   "cell_type": "code",
   "execution_count": null,
   "outputs": [],
   "source": [
    "lubm_graph_words_encoder = GraphWordsEncoder(properties_dict, properties_group_dict, classes_dict)"
   ],
   "metadata": {
    "collapsed": false
   }
  },
  {
   "cell_type": "code",
   "execution_count": null,
   "outputs": [],
   "source": [
    "input_graph_encoding, resources_dictionary = lubm_graph_words_encoder.encode_graph(input_graph)"
   ],
   "metadata": {
    "collapsed": false
   }
  },
  {
   "cell_type": "code",
   "execution_count": null,
   "outputs": [],
   "source": [
    "resources_dictionary.keys()"
   ],
   "metadata": {
    "collapsed": false
   }
  },
  {
   "cell_type": "code",
   "execution_count": null,
   "outputs": [],
   "source": [
    "inference_graph_encoding, resources_dictionary = lubm_graph_words_encoder.encode_graph(inference_graph)"
   ],
   "metadata": {
    "collapsed": false
   }
  },
  {
   "cell_type": "code",
   "execution_count": null,
   "outputs": [],
   "source": [
    "resources_dictionary.keys()"
   ],
   "metadata": {
    "collapsed": false
   }
  },
  {
   "cell_type": "code",
   "execution_count": null,
   "outputs": [],
   "source": [],
   "metadata": {
    "collapsed": false
   }
  }
 ],
 "metadata": {
  "kernelspec": {
   "display_name": "Python 3",
   "language": "python",
   "name": "python3"
  },
  "language_info": {
   "codemirror_mode": {
    "name": "ipython",
    "version": 2
   },
   "file_extension": ".py",
   "mimetype": "text/x-python",
   "name": "python",
   "nbconvert_exporter": "python",
   "pygments_lexer": "ipython2",
   "version": "2.7.6"
  }
 },
 "nbformat": 4,
 "nbformat_minor": 0
}
