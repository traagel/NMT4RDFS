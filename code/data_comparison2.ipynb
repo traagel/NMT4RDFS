{
 "cells": [
  {
   "cell_type": "code",
   "execution_count": 4,
   "metadata": {
    "collapsed": true
   },
   "outputs": [
    {
     "ename": "NameError",
     "evalue": "name 'os' is not defined",
     "output_type": "error",
     "traceback": [
      "\u001B[0;31m---------------------------------------------------------------------------\u001B[0m",
      "\u001B[0;31mNameError\u001B[0m                                 Traceback (most recent call last)",
      "\u001B[0;32m/tmp/ipykernel_13872/3396416304.py\u001B[0m in \u001B[0;36m<module>\u001B[0;34m\u001B[0m\n\u001B[1;32m     20\u001B[0m \u001B[0mtbox_file\u001B[0m \u001B[0;34m=\u001B[0m \u001B[0;34m\"../data/lubm1_intact/encoding/tbox.nt\"\u001B[0m\u001B[0;34m\u001B[0m\u001B[0;34m\u001B[0m\u001B[0m\n\u001B[1;32m     21\u001B[0m \u001B[0;34m\u001B[0m\u001B[0m\n\u001B[0;32m---> 22\u001B[0;31m \u001B[0mlubm_classes\u001B[0m \u001B[0;34m=\u001B[0m \u001B[0mdeserialize\u001B[0m\u001B[0;34m(\u001B[0m\u001B[0mlubm_classes_file\u001B[0m\u001B[0;34m)\u001B[0m\u001B[0;34m\u001B[0m\u001B[0;34m\u001B[0m\u001B[0m\n\u001B[0m\u001B[1;32m     23\u001B[0m \u001B[0mlubm_properties\u001B[0m \u001B[0;34m=\u001B[0m \u001B[0mdeserialize\u001B[0m\u001B[0;34m(\u001B[0m\u001B[0mlubm_properties_file\u001B[0m\u001B[0;34m)\u001B[0m\u001B[0;34m\u001B[0m\u001B[0;34m\u001B[0m\u001B[0m\n\u001B[1;32m     24\u001B[0m \u001B[0mlubm_properties_groups\u001B[0m \u001B[0;34m=\u001B[0m \u001B[0mdeserialize\u001B[0m\u001B[0;34m(\u001B[0m\u001B[0mlubm_properties_groups_file\u001B[0m\u001B[0;34m)\u001B[0m\u001B[0;34m\u001B[0m\u001B[0;34m\u001B[0m\u001B[0m\n",
      "\u001B[0;32m/tmp/ipykernel_13872/3396416304.py\u001B[0m in \u001B[0;36mdeserialize\u001B[0;34m(pz)\u001B[0m\n\u001B[1;32m      6\u001B[0m \u001B[0;34m\u001B[0m\u001B[0m\n\u001B[1;32m      7\u001B[0m \u001B[0;32mdef\u001B[0m \u001B[0mdeserialize\u001B[0m\u001B[0;34m(\u001B[0m\u001B[0mpz\u001B[0m\u001B[0;34m)\u001B[0m\u001B[0;34m:\u001B[0m\u001B[0;34m\u001B[0m\u001B[0;34m\u001B[0m\u001B[0m\n\u001B[0;32m----> 8\u001B[0;31m     \u001B[0;32mif\u001B[0m \u001B[0mos\u001B[0m\u001B[0;34m.\u001B[0m\u001B[0mpath\u001B[0m\u001B[0;34m.\u001B[0m\u001B[0misfile\u001B[0m\u001B[0;34m(\u001B[0m\u001B[0mpz\u001B[0m\u001B[0;34m)\u001B[0m\u001B[0;34m:\u001B[0m\u001B[0;34m\u001B[0m\u001B[0;34m\u001B[0m\u001B[0m\n\u001B[0m\u001B[1;32m      9\u001B[0m         \u001B[0mcompressed\u001B[0m \u001B[0;34m=\u001B[0m \u001B[0mopen\u001B[0m\u001B[0;34m(\u001B[0m\u001B[0mpz\u001B[0m\u001B[0;34m,\u001B[0m \u001B[0;34m'rb'\u001B[0m\u001B[0;34m)\u001B[0m\u001B[0;34m.\u001B[0m\u001B[0mread\u001B[0m\u001B[0;34m(\u001B[0m\u001B[0;34m)\u001B[0m\u001B[0;34m\u001B[0m\u001B[0;34m\u001B[0m\u001B[0m\n\u001B[1;32m     10\u001B[0m         \u001B[0mpkl\u001B[0m \u001B[0;34m=\u001B[0m \u001B[0mzlib\u001B[0m\u001B[0;34m.\u001B[0m\u001B[0mdecompress\u001B[0m\u001B[0;34m(\u001B[0m\u001B[0mcompressed\u001B[0m\u001B[0;34m)\u001B[0m\u001B[0;34m\u001B[0m\u001B[0;34m\u001B[0m\u001B[0m\n",
      "\u001B[0;31mNameError\u001B[0m: name 'os' is not defined"
     ]
    }
   ],
   "source": [
    "\n",
    "\n",
    "import pandas as pd\n",
    "\n",
    "\n",
    "def deserialize(pz):\n",
    "    if os.path.isfile(pz):\n",
    "        compressed = open(pz, 'rb').read()\n",
    "        pkl = zlib.decompress(compressed)\n",
    "        tpl = pickle.loads(pkl)\n",
    "        return tpl\n",
    "    else:\n",
    "        return []\n",
    "\n",
    "\n",
    "lubm_classes_file = \"../data/lubm1_intact/encoding/lubm_classes.pz\"\n",
    "lubm_properties_file = \"../data/lubm1_intact/encoding/lubm_properties.pz\"\n",
    "lubm_properties_groups_file = \"../data/lubm1_intact/encoding/lubm_properties_groups.pz\"\n",
    "tbox_file = \"../data/lubm1_intact/encoding/tbox.nt\"\n",
    "\n",
    "lubm_classes = deserialize(lubm_classes_file)\n",
    "lubm_properties = deserialize(lubm_properties_file)\n",
    "lubm_properties_groups = deserialize(lubm_properties_groups_file)\n",
    "\n",
    "data = []\n",
    "\n",
    "for key, value in lubm_classes.items():\n",
    "    data.append({\"type\": \"class\", \"uri\": key, \"index\": value})\n",
    "\n",
    "for key, value in lubm_properties.items():\n",
    "    data.append({\"type\": \"property\", \"uri\": key, \"index\": value})\n",
    "\n",
    "for key, value in lubm_properties_groups.items():\n",
    "    data.append({\"type\": \"property_group\", \"uri\": key, \"index\": value})\n",
    "\n",
    "df = pd.DataFrame(data)\n",
    "print(df[df.type == \"class\"].size,\n",
    "      df[df.type == \"property\"].size,\n",
    "      df[df.type == \"property_group\"].size)\n",
    "\n",
    "#lubm_classes\n",
    "df.shape"
   ]
  },
  {
   "cell_type": "markdown",
   "source": [
    "# Creating a DF with clases, properties, property_groups\n",
    "Even though relative - there is no relation between index"
   ],
   "metadata": {
    "collapsed": false
   }
  },
  {
   "cell_type": "code",
   "execution_count": null,
   "outputs": [],
   "source": [
    "result_df = df.pivot_table(index='index', columns='type', values='uri', aggfunc='first')"
   ],
   "metadata": {
    "collapsed": false
   }
  },
  {
   "cell_type": "code",
   "execution_count": null,
   "outputs": [],
   "source": [
    "result_df"
   ],
   "metadata": {
    "collapsed": false
   }
  },
  {
   "cell_type": "code",
   "execution_count": null,
   "outputs": [],
   "source": [
    "df_class = df[df.type == \"class\"]\n",
    "df_property = df[df.type == \"property\"]\n",
    "df_property_group = df[df.type == \"property_group\"]"
   ],
   "metadata": {
    "collapsed": false
   }
  },
  {
   "cell_type": "code",
   "execution_count": null,
   "outputs": [],
   "source": [
    "col_names = [\"subject\", \"predicate\", \"object\"]\n",
    "#df2 = pd.read_csv(tbox_file, delimiter=' ', names=col_names)\n",
    "df2 = pd.read_csv(tbox_file, delimiter=' ')\n",
    "#df2['object'] = df2['object'].apply(lambda x: x.rstrip('.'))\n",
    "df2 = df2.drop(df2.columns[3], axis=1)\n",
    "df2.columns = col_names\n",
    "df2.shape"
   ],
   "metadata": {
    "collapsed": false
   }
  },
  {
   "cell_type": "markdown",
   "source": [
    "# I want to see what \"property types\" are in the #type in df2 for \"df1\" values marked as \"property\""
   ],
   "metadata": {
    "collapsed": false
   }
  },
  {
   "cell_type": "code",
   "execution_count": null,
   "outputs": [],
   "source": [
    "df_class"
   ],
   "metadata": {
    "collapsed": false
   }
  },
  {
   "cell_type": "code",
   "execution_count": null,
   "outputs": [],
   "source": [
    "df_property_group"
   ],
   "metadata": {
    "collapsed": false
   }
  },
  {
   "cell_type": "code",
   "execution_count": null,
   "outputs": [],
   "source": [],
   "metadata": {
    "collapsed": false
   }
  },
  {
   "cell_type": "markdown",
   "source": [
    "# I will seperate only the subject #end part and compare"
   ],
   "metadata": {
    "collapsed": false
   }
  },
  {
   "cell_type": "code",
   "execution_count": null,
   "outputs": [],
   "source": [
    "df_property_copy = df_property.copy()"
   ],
   "metadata": {
    "collapsed": false
   }
  },
  {
   "cell_type": "code",
   "execution_count": null,
   "outputs": [],
   "source": [
    "df_property_copy.uri = df_property_copy.uri.str.extract(r'#(.+)')"
   ],
   "metadata": {
    "collapsed": false
   }
  },
  {
   "cell_type": "code",
   "execution_count": null,
   "outputs": [],
   "source": [
    "df_property_copy"
   ],
   "metadata": {
    "collapsed": false
   }
  },
  {
   "cell_type": "code",
   "execution_count": null,
   "outputs": [],
   "source": [
    "df1_property_list = df_property_copy.uri.to_list()"
   ],
   "metadata": {
    "collapsed": false
   }
  },
  {
   "cell_type": "markdown",
   "source": [
    "# DF 2 CLASSES"
   ],
   "metadata": {
    "collapsed": false
   }
  },
  {
   "cell_type": "code",
   "execution_count": null,
   "outputs": [],
   "source": [
    "df2"
   ],
   "metadata": {
    "collapsed": false
   }
  },
  {
   "cell_type": "code",
   "execution_count": null,
   "outputs": [],
   "source": [
    "df2_types = df2[df2.predicate.str.contains('#type')]"
   ],
   "metadata": {
    "collapsed": false
   }
  },
  {
   "cell_type": "code",
   "execution_count": null,
   "outputs": [],
   "source": [
    "df2_classes = df2[df2.object.str.contains('#Class')]"
   ],
   "metadata": {
    "collapsed": false
   }
  },
  {
   "cell_type": "code",
   "execution_count": null,
   "outputs": [],
   "source": [
    "df2_classes"
   ],
   "metadata": {
    "collapsed": false
   }
  },
  {
   "cell_type": "code",
   "execution_count": null,
   "outputs": [],
   "source": [],
   "metadata": {
    "collapsed": false
   }
  },
  {
   "cell_type": "markdown",
   "source": [
    "# DF 2 PROPERTIES"
   ],
   "metadata": {
    "collapsed": false
   }
  },
  {
   "cell_type": "code",
   "execution_count": null,
   "outputs": [],
   "source": [
    "df2_types"
   ],
   "metadata": {
    "collapsed": false
   }
  },
  {
   "cell_type": "markdown",
   "source": [
    "# Compare property list from df1 to df2 subject, and get object \"type\""
   ],
   "metadata": {
    "collapsed": false
   }
  },
  {
   "cell_type": "code",
   "execution_count": null,
   "outputs": [],
   "source": [
    "df1_property_list"
   ],
   "metadata": {
    "collapsed": false
   }
  },
  {
   "cell_type": "code",
   "execution_count": null,
   "outputs": [],
   "source": [
    "types = []\n",
    "for x in range(len(df1_property_list)):\n",
    "    types.append(df2_types[df2_types.subject.str.contains(df1_property_list[x])].object.str.extract(r'#(.+)'))"
   ],
   "metadata": {
    "collapsed": false
   }
  },
  {
   "cell_type": "code",
   "execution_count": null,
   "outputs": [],
   "source": [
    "types_2 = []\n",
    "for type in types:\n",
    "    types_2.append(type.to_string().strip())"
   ],
   "metadata": {
    "collapsed": false
   }
  },
  {
   "cell_type": "code",
   "execution_count": null,
   "outputs": [],
   "source": [
    "types_2"
   ],
   "metadata": {
    "collapsed": false
   }
  },
  {
   "cell_type": "code",
   "execution_count": null,
   "outputs": [],
   "source": [
    "df2_properties = df2_types.copy()"
   ],
   "metadata": {
    "collapsed": false
   }
  },
  {
   "cell_type": "code",
   "execution_count": null,
   "outputs": [],
   "source": [
    "df2_properties = df2_properties[df2_properties.object.str.contains(\"Property\")].subject.unique()"
   ],
   "metadata": {
    "collapsed": false
   }
  },
  {
   "cell_type": "code",
   "execution_count": null,
   "outputs": [],
   "source": [
    "df2_properties"
   ],
   "metadata": {
    "collapsed": false
   }
  },
  {
   "cell_type": "markdown",
   "source": [
    "# DF2 SUB PROPERTIES"
   ],
   "metadata": {
    "collapsed": false
   }
  },
  {
   "cell_type": "code",
   "execution_count": null,
   "outputs": [],
   "source": [
    "df2_sub_properties = df2.copy()"
   ],
   "metadata": {
    "collapsed": false
   }
  },
  {
   "cell_type": "code",
   "execution_count": null,
   "outputs": [],
   "source": [
    "df2_sub_properties = df2_sub_properties[df2_sub_properties.predicate.str.contains(\"subPropertyOf\")]"
   ],
   "metadata": {
    "collapsed": false
   }
  },
  {
   "cell_type": "code",
   "execution_count": null,
   "outputs": [],
   "source": [
    "df2_sub_properties"
   ],
   "metadata": {
    "collapsed": false
   }
  },
  {
   "cell_type": "code",
   "execution_count": null,
   "outputs": [],
   "source": [
    "\n",
    "\n",
    "\n",
    "def get_lubm_graph_type(s):\n",
    "    s = s.split('/')[-1]\n",
    "    print(s)\n",
    "    s = s.split('_')[-1]\n",
    "    print(s)\n",
    "    m = re.search(\"\\d\", s)\n",
    "    print(m)\n",
    "    return s[:m.start()]"
   ],
   "metadata": {
    "collapsed": false
   }
  },
  {
   "cell_type": "code",
   "execution_count": null,
   "outputs": [],
   "source": [
    "get_lubm_graph_type(\"HTTP_www.Department0.University0.edu_AssistantProfessor8_Publication1.nt\")\n"
   ],
   "metadata": {
    "collapsed": false
   }
  },
  {
   "cell_type": "code",
   "execution_count": null,
   "outputs": [],
   "source": [
    "get_lubm_graph_type(\n",
    "    \"C:/Users/martt/PycharmProjects/NMT4RDFS/data/lubm1_intact/graphs_with_descriptions/HTTP_www.Department0.University0.edu_AssistantProfessor0.nt\")"
   ],
   "metadata": {
    "collapsed": false
   }
  },
  {
   "cell_type": "code",
   "execution_count": 36,
   "outputs": [],
   "source": [
    "from rdflib import Graph\n",
    "import codecs\n",
    "import os"
   ],
   "metadata": {
    "collapsed": false
   }
  },
  {
   "cell_type": "code",
   "execution_count": 37,
   "outputs": [],
   "source": [
    "input_graph = Graph()\n",
    "input_graph2 = Graph()\n",
    "input_graph3 = Graph()\n",
    "inference_graph = Graph()\n",
    "\n",
    "input_file = os.path.abspath(\n",
    "    \"/home/mart/git/NMT4RDFS/data/lubm1_intact/graphs_with_descriptions/HTTP_www.Department0.University0.edu.nt\")\n",
    "input_file2 = os.path.abspath(\n",
    "    \"/home/mart/git/NMT4RDFS/data/lubm1_intact/graphs_with_descriptions/HTTP_www.Department0.University0.edu_AssistantProfessor0.nt\")\n",
    "\n",
    "input_file3 = os.path.abspath(\n",
    "    \"/home/mart/git/NMT4RDFS/data/lubm1_intact/graphs_with_descriptions/HTTP_www.Department0.University0.edu_AssistantProfessor0_Publication0.nt\")\n",
    "\n",
    "inference_file = os.path.abspath(\n",
    "    \"/home/mart/git/NMT4RDFS/data/lubm1_intact/jena_inference_with_descriptions/HTTP_www.Department0.University0.edu.nt\")\n",
    "\n",
    "input_graph.parse(data=codecs.open(input_file, encoding=\"UTF-8\").read(), format=\"nt\")\n",
    "inference_graph.parse(data=codecs.open(inference_file, encoding=\"UTF-8\").read(), format=\"nt\")\n",
    "input_graph2.parse(data=codecs.open(input_file2, encoding=\"UTF-8\").read(), format=\"nt\")\n",
    "input_graph3.parse(data=codecs.open(input_file3, encoding=\"UTF-8\").read(), format=\"nt\")\n",
    "graph = input_graph"
   ],
   "metadata": {
    "collapsed": false
   }
  },
  {
   "cell_type": "code",
   "execution_count": 38,
   "outputs": [],
   "source": [
    "triples_list = sorted(list(input_graph))[0]"
   ],
   "metadata": {
    "collapsed": false
   }
  },
  {
   "cell_type": "code",
   "execution_count": 39,
   "outputs": [],
   "source": [
    "from graph_words_encoder import GraphWordsEncoder\n",
    "from prepare_data_utils import get_properties_dict, get_classes_dict, get_properties_groups"
   ],
   "metadata": {
    "collapsed": false
   }
  },
  {
   "cell_type": "code",
   "execution_count": 40,
   "outputs": [],
   "source": [
    "import configparser\n",
    "import json\n",
    "import logging"
   ],
   "metadata": {
    "collapsed": false
   }
  },
  {
   "cell_type": "code",
   "execution_count": 41,
   "outputs": [],
   "source": [
    "logging.basicConfig(format=\"%(asctime)s - %(name)s - %(levelname)s - %(message)s\", level=logging.INFO)\n",
    "\n",
    "config = configparser.ConfigParser()\n",
    "with open('../config.json', 'r') as f:\n",
    "    config = json.load(f)"
   ],
   "metadata": {
    "collapsed": false
   }
  },
  {
   "cell_type": "code",
   "execution_count": 42,
   "outputs": [],
   "source": [
    "LUBM_ONTOLOGY_ENDPOINT = config['LUBM']['SPARQL_PARAMS']['ONTOLOGY_ENDPOINT']\n",
    "LUBM_ONTOLOGY_REPOSITORY = config['LUBM']['SPARQL_PARAMS']['ONTOLOGY_REPOSITORY']\n",
    "LUBM_ONTOLOGY_ENDPOINT_TYPE = config['LUBM']['SPARQL_PARAMS']['ONTOLOGY_ENDPOINT_TYPE']\n",
    "PROPERTIES_QUERY = config['LUBM']['SPARQL_PARAMS']['PROPERTIES_QUERY']\n",
    "QUERY_LIMIT = config['LUBM']['SPARQL_PARAMS']['QUERY_LIMIT']\n",
    "PROPERTIES_DICT_FILE = config['LUBM']['ENCODING_PARAMS']['PROPERTIES_DICT_FILE']\n",
    "CLASSES_QUERY = config['LUBM']['SPARQL_PARAMS']['CLASSES_QUERY']\n",
    "LUBM_ENCODING_DIRECTORY = config['LUBM']['ENCODING_PARAMS']['ENCODING_DIRECTORY']\n",
    "CLASSES_DICT_FILE = config['LUBM']['ENCODING_PARAMS']['CLASSES_DICT_FILE']\n",
    "PROPERTIES_GROUPS_FILE = config['LUBM']['ENCODING_PARAMS']['PROPERTIES_GROUPS_FILE']\n",
    "GRAPH_WORDS_ENCODER = config['LUBM']['ENCODING_PARAMS']['GRAPH_WORDS_ENCODER']\n",
    "SUB_PROPERTIES_QUERY = config['LUBM']['SPARQL_PARAMS']['SUB_PROPERTIES_QUERY']\n",
    "INPUT_GRAPHS_FOLDER = config['LUBM']['DATA']['INPUT_GRAPHS_FOLDER']\n",
    "INFERENCE_GRAPHS_FOLDER = config['LUBM']['DATA']['INFERENCE_GRAPHS_FOLDER']\n",
    "DATASET_ENCODING_FILE = config['LUBM']['ENCODING_PARAMS']['DATASET_ENCODING_FILE']\n",
    "INPUT_GRAPH_WORDS_CATALOGUE_FILE = config['LUBM']['ENCODING_PARAMS']['INPUT_GRAPH_WORDS_CATALOGUE_FILE']\n",
    "INFERENCE_GRAPH_WORDS_CATALOGUE_FILE = config['LUBM']['ENCODING_PARAMS']['INFERENCE_GRAPH_WORDS_CATALOGUE_FILE']\n",
    "EMBEDDING_MATRIX_CATALOGUE_FILE = config['LUBM']['ENCODING_PARAMS']['EMBEDDING_MATRIX_CATALOGUE_FILE']\n",
    "MAXIMUM_MATRIX_SIZE = config['LUBM']['ENCODING_PARAMS']['MAXIMUM_MATRIX_SIZE']\n",
    "HOPE_EMBEDDING_SIZE = config['LUBM']['ENCODING_PARAMS']['HOPE_EMBEDDING_SIZE']"
   ],
   "metadata": {
    "collapsed": false
   }
  },
  {
   "cell_type": "code",
   "execution_count": 43,
   "outputs": [],
   "source": [
    "properties_dict = get_properties_dict(LUBM_ENCODING_DIRECTORY + PROPERTIES_DICT_FILE, PROPERTIES_QUERY,\n",
    "                                      LUBM_ONTOLOGY_REPOSITORY, LUBM_ONTOLOGY_ENDPOINT,\n",
    "                                      LUBM_ONTOLOGY_ENDPOINT_TYPE, QUERY_LIMIT)"
   ],
   "metadata": {
    "collapsed": false
   }
  },
  {
   "cell_type": "code",
   "execution_count": 44,
   "outputs": [],
   "source": [
    "classes_dict = get_classes_dict(LUBM_ENCODING_DIRECTORY + CLASSES_DICT_FILE, CLASSES_QUERY, LUBM_ONTOLOGY_REPOSITORY,\n",
    "                                LUBM_ONTOLOGY_ENDPOINT,\n",
    "                                LUBM_ONTOLOGY_ENDPOINT_TYPE, QUERY_LIMIT)"
   ],
   "metadata": {
    "collapsed": false
   }
  },
  {
   "cell_type": "code",
   "execution_count": 45,
   "outputs": [],
   "source": [
    "properties_group_dict = get_properties_groups(LUBM_ENCODING_DIRECTORY + PROPERTIES_GROUPS_FILE, SUB_PROPERTIES_QUERY,\n",
    "                                              LUBM_ONTOLOGY_REPOSITORY,\n",
    "                                              LUBM_ONTOLOGY_ENDPOINT,\n",
    "                                              LUBM_ONTOLOGY_ENDPOINT_TYPE, properties_dict, QUERY_LIMIT)"
   ],
   "metadata": {
    "collapsed": false
   }
  },
  {
   "cell_type": "code",
   "execution_count": 48,
   "outputs": [
    {
     "name": "stdout",
     "output_type": "stream",
     "text": [
      "http://www.w3.org/1999/02/22-rdf-syntax-ns#type\n",
      "http://swat.cse.lehigh.edu/onto/univ-bench.owl#advisor\n",
      "http://swat.cse.lehigh.edu/onto/univ-bench.owl#affiliateOf\n",
      "http://swat.cse.lehigh.edu/onto/univ-bench.owl#affiliatedOrganizationOf\n",
      "http://swat.cse.lehigh.edu/onto/univ-bench.owl#age\n",
      "http://swat.cse.lehigh.edu/onto/univ-bench.owl#degreeFrom\n",
      "http://swat.cse.lehigh.edu/onto/univ-bench.owl#doctoralDegreeFrom\n",
      "http://swat.cse.lehigh.edu/onto/univ-bench.owl#emailAddress\n",
      "http://swat.cse.lehigh.edu/onto/univ-bench.owl#hasAlumnus\n",
      "http://swat.cse.lehigh.edu/onto/univ-bench.owl#headOf\n",
      "http://swat.cse.lehigh.edu/onto/univ-bench.owl#listedCourse\n",
      "http://swat.cse.lehigh.edu/onto/univ-bench.owl#mastersDegreeFrom\n",
      "http://swat.cse.lehigh.edu/onto/univ-bench.owl#member\n",
      "http://swat.cse.lehigh.edu/onto/univ-bench.owl#memberOf\n",
      "http://swat.cse.lehigh.edu/onto/univ-bench.owl#name\n",
      "http://swat.cse.lehigh.edu/onto/univ-bench.owl#orgPublication\n",
      "http://swat.cse.lehigh.edu/onto/univ-bench.owl#publicationAuthor\n",
      "http://swat.cse.lehigh.edu/onto/univ-bench.owl#publicationDate\n",
      "http://swat.cse.lehigh.edu/onto/univ-bench.owl#publicationResearch\n",
      "http://swat.cse.lehigh.edu/onto/univ-bench.owl#researchInterest\n",
      "http://swat.cse.lehigh.edu/onto/univ-bench.owl#researchProject\n",
      "http://swat.cse.lehigh.edu/onto/univ-bench.owl#softwareDocumentation\n",
      "http://swat.cse.lehigh.edu/onto/univ-bench.owl#softwareVersion\n",
      "http://swat.cse.lehigh.edu/onto/univ-bench.owl#subOrganizationOf\n",
      "http://swat.cse.lehigh.edu/onto/univ-bench.owl#takesCourse\n",
      "http://swat.cse.lehigh.edu/onto/univ-bench.owl#teacherOf\n",
      "http://swat.cse.lehigh.edu/onto/univ-bench.owl#teachingAssistantOf\n",
      "http://swat.cse.lehigh.edu/onto/univ-bench.owl#telephone\n",
      "http://swat.cse.lehigh.edu/onto/univ-bench.owl#tenured\n",
      "http://swat.cse.lehigh.edu/onto/univ-bench.owl#title\n",
      "http://swat.cse.lehigh.edu/onto/univ-bench.owl#undergraduateDegreeFrom\n",
      "http://swat.cse.lehigh.edu/onto/univ-bench.owl#worksFor\n",
      "http://www.w3.org/1999/02/22-rdf-syntax-ns#_1\n",
      "http://www.w3.org/1999/02/22-rdf-syntax-ns#first\n",
      "http://www.w3.org/1999/02/22-rdf-syntax-ns#object\n",
      "http://www.w3.org/1999/02/22-rdf-syntax-ns#predicate\n",
      "http://www.w3.org/1999/02/22-rdf-syntax-ns#rest\n",
      "http://www.w3.org/1999/02/22-rdf-syntax-ns#subject\n",
      "http://www.w3.org/1999/02/22-rdf-syntax-ns#value\n",
      "http://www.w3.org/2000/01/rdf-schema#comment\n",
      "http://www.w3.org/2000/01/rdf-schema#domain\n",
      "http://www.w3.org/2000/01/rdf-schema#isDefinedBy\n",
      "http://www.w3.org/2000/01/rdf-schema#label\n",
      "http://www.w3.org/2000/01/rdf-schema#member\n",
      "http://www.w3.org/2000/01/rdf-schema#range\n",
      "http://www.w3.org/2000/01/rdf-schema#seeAlso\n",
      "http://www.w3.org/2000/01/rdf-schema#subClassOf\n",
      "http://www.w3.org/2000/01/rdf-schema#subPropertyOf\n",
      "http://www.w3.org/2002/07/owl#imports\n",
      "http://www.w3.org/2002/07/owl#intersectionOf\n",
      "http://www.w3.org/2002/07/owl#inverseOf\n",
      "http://www.w3.org/2002/07/owl#onProperty\n",
      "http://www.w3.org/2002/07/owl#someValuesFrom\n",
      "http://www.w3.org/2002/07/owl#versionInfo\n"
     ]
    }
   ],
   "source": [
    "for key in properties_dict.getKeys():\n",
    "    print(key)"
   ],
   "metadata": {
    "collapsed": false
   }
  },
  {
   "cell_type": "code",
   "execution_count": 27,
   "outputs": [],
   "source": [
    "lubm_graph_words_encoder = GraphWordsEncoder(properties_dict, properties_group_dict, classes_dict)"
   ],
   "metadata": {
    "collapsed": false
   }
  },
  {
   "cell_type": "code",
   "execution_count": 28,
   "outputs": [
    {
     "name": "stdout",
     "output_type": "stream",
     "text": [
      "http://www.Department0.University0.edu http://www.w3.org/1999/02/22-rdf-syntax-ns#type http://swat.cse.lehigh.edu/onto/univ-bench.owl#Department\n",
      "-1 1 1\n",
      "\n",
      "http://www.Department0.University0.edu/FullProfessor7 http://swat.cse.lehigh.edu/onto/univ-bench.owl#headOf http://www.Department0.University0.edu\n",
      "-1 2 -2\n",
      "\n",
      "http://www.Department0.University0.edu/GraduateStudent0 http://swat.cse.lehigh.edu/onto/univ-bench.owl#memberOf http://www.Department0.University0.edu\n",
      "-3 3 -2\n",
      "\n",
      "http://www.Department0.University0.edu/GraduateStudent1 http://swat.cse.lehigh.edu/onto/univ-bench.owl#memberOf http://www.Department0.University0.edu\n",
      "-4 3 -2\n",
      "\n",
      "http://www.Department0.University0.edu/GraduateStudent10 http://swat.cse.lehigh.edu/onto/univ-bench.owl#memberOf http://www.Department0.University0.edu\n",
      "-5 3 -2\n",
      "\n",
      "http://www.Department0.University0.edu/GraduateStudent100 http://swat.cse.lehigh.edu/onto/univ-bench.owl#memberOf http://www.Department0.University0.edu\n",
      "-6 3 -2\n",
      "\n",
      "http://www.Department0.University0.edu/GraduateStudent101 http://swat.cse.lehigh.edu/onto/univ-bench.owl#memberOf http://www.Department0.University0.edu\n",
      "-7 3 -2\n",
      "\n",
      "http://www.Department0.University0.edu/GraduateStudent102 http://swat.cse.lehigh.edu/onto/univ-bench.owl#memberOf http://www.Department0.University0.edu\n",
      "-8 3 -2\n",
      "\n",
      "http://www.Department0.University0.edu/GraduateStudent103 http://swat.cse.lehigh.edu/onto/univ-bench.owl#memberOf http://www.Department0.University0.edu\n",
      "-9 3 -2\n",
      "\n",
      "http://www.Department0.University0.edu/GraduateStudent104 http://swat.cse.lehigh.edu/onto/univ-bench.owl#memberOf http://www.Department0.University0.edu\n",
      "-10 3 -2\n",
      "\n",
      "http://www.Department0.University0.edu/GraduateStudent105 http://swat.cse.lehigh.edu/onto/univ-bench.owl#memberOf http://www.Department0.University0.edu\n",
      "-11 3 -2\n",
      "\n",
      "http://www.Department0.University0.edu/GraduateStudent106 http://swat.cse.lehigh.edu/onto/univ-bench.owl#memberOf http://www.Department0.University0.edu\n",
      "-12 3 -2\n",
      "\n",
      "http://www.Department0.University0.edu/GraduateStudent107 http://swat.cse.lehigh.edu/onto/univ-bench.owl#memberOf http://www.Department0.University0.edu\n",
      "-13 3 -2\n",
      "\n",
      "http://www.Department0.University0.edu/GraduateStudent108 http://swat.cse.lehigh.edu/onto/univ-bench.owl#memberOf http://www.Department0.University0.edu\n",
      "-14 3 -2\n",
      "\n",
      "http://www.Department0.University0.edu/GraduateStudent109 http://swat.cse.lehigh.edu/onto/univ-bench.owl#memberOf http://www.Department0.University0.edu\n",
      "-15 3 -2\n",
      "\n",
      "http://www.Department0.University0.edu/GraduateStudent11 http://swat.cse.lehigh.edu/onto/univ-bench.owl#memberOf http://www.Department0.University0.edu\n",
      "-16 3 -2\n",
      "\n",
      "http://www.Department0.University0.edu/GraduateStudent110 http://swat.cse.lehigh.edu/onto/univ-bench.owl#memberOf http://www.Department0.University0.edu\n",
      "-17 3 -2\n",
      "\n",
      "http://www.Department0.University0.edu/GraduateStudent111 http://swat.cse.lehigh.edu/onto/univ-bench.owl#memberOf http://www.Department0.University0.edu\n",
      "-18 3 -2\n",
      "\n",
      "http://www.Department0.University0.edu/GraduateStudent112 http://swat.cse.lehigh.edu/onto/univ-bench.owl#memberOf http://www.Department0.University0.edu\n",
      "-19 3 -2\n",
      "\n",
      "http://www.Department0.University0.edu/GraduateStudent113 http://swat.cse.lehigh.edu/onto/univ-bench.owl#memberOf http://www.Department0.University0.edu\n",
      "-20 3 -2\n",
      "\n",
      "http://www.Department0.University0.edu/GraduateStudent114 http://swat.cse.lehigh.edu/onto/univ-bench.owl#memberOf http://www.Department0.University0.edu\n",
      "-21 3 -2\n",
      "\n",
      "http://www.Department0.University0.edu/GraduateStudent115 http://swat.cse.lehigh.edu/onto/univ-bench.owl#memberOf http://www.Department0.University0.edu\n",
      "-22 3 -2\n",
      "\n",
      "http://www.Department0.University0.edu/GraduateStudent116 http://swat.cse.lehigh.edu/onto/univ-bench.owl#memberOf http://www.Department0.University0.edu\n",
      "-23 3 -2\n",
      "\n",
      "http://www.Department0.University0.edu/GraduateStudent117 http://swat.cse.lehigh.edu/onto/univ-bench.owl#memberOf http://www.Department0.University0.edu\n",
      "-24 3 -2\n",
      "\n",
      "http://www.Department0.University0.edu/GraduateStudent118 http://swat.cse.lehigh.edu/onto/univ-bench.owl#memberOf http://www.Department0.University0.edu\n",
      "-25 3 -2\n",
      "\n",
      "http://www.Department0.University0.edu/GraduateStudent119 http://swat.cse.lehigh.edu/onto/univ-bench.owl#memberOf http://www.Department0.University0.edu\n",
      "-26 3 -2\n",
      "\n",
      "http://www.Department0.University0.edu/GraduateStudent12 http://swat.cse.lehigh.edu/onto/univ-bench.owl#memberOf http://www.Department0.University0.edu\n",
      "-27 3 -2\n",
      "\n",
      "http://www.Department0.University0.edu/GraduateStudent120 http://swat.cse.lehigh.edu/onto/univ-bench.owl#memberOf http://www.Department0.University0.edu\n",
      "-28 3 -2\n",
      "\n",
      "http://www.Department0.University0.edu/GraduateStudent121 http://swat.cse.lehigh.edu/onto/univ-bench.owl#memberOf http://www.Department0.University0.edu\n",
      "-29 3 -2\n",
      "\n",
      "http://www.Department0.University0.edu/GraduateStudent122 http://swat.cse.lehigh.edu/onto/univ-bench.owl#memberOf http://www.Department0.University0.edu\n",
      "-30 3 -2\n",
      "\n",
      "http://www.Department0.University0.edu/GraduateStudent123 http://swat.cse.lehigh.edu/onto/univ-bench.owl#memberOf http://www.Department0.University0.edu\n",
      "-31 3 -2\n",
      "\n",
      "http://www.Department0.University0.edu/GraduateStudent124 http://swat.cse.lehigh.edu/onto/univ-bench.owl#memberOf http://www.Department0.University0.edu\n",
      "-32 3 -2\n",
      "\n",
      "http://www.Department0.University0.edu/GraduateStudent125 http://swat.cse.lehigh.edu/onto/univ-bench.owl#memberOf http://www.Department0.University0.edu\n",
      "-33 3 -2\n",
      "\n",
      "http://www.Department0.University0.edu/GraduateStudent126 http://swat.cse.lehigh.edu/onto/univ-bench.owl#memberOf http://www.Department0.University0.edu\n",
      "-34 3 -2\n",
      "\n",
      "http://www.Department0.University0.edu/GraduateStudent127 http://swat.cse.lehigh.edu/onto/univ-bench.owl#memberOf http://www.Department0.University0.edu\n",
      "-35 3 -2\n",
      "\n",
      "http://www.Department0.University0.edu/GraduateStudent128 http://swat.cse.lehigh.edu/onto/univ-bench.owl#memberOf http://www.Department0.University0.edu\n",
      "-36 3 -2\n",
      "\n",
      "http://www.Department0.University0.edu/GraduateStudent129 http://swat.cse.lehigh.edu/onto/univ-bench.owl#memberOf http://www.Department0.University0.edu\n",
      "-37 3 -2\n",
      "\n",
      "http://www.Department0.University0.edu/GraduateStudent13 http://swat.cse.lehigh.edu/onto/univ-bench.owl#memberOf http://www.Department0.University0.edu\n",
      "-38 3 -2\n",
      "\n",
      "http://www.Department0.University0.edu/GraduateStudent130 http://swat.cse.lehigh.edu/onto/univ-bench.owl#memberOf http://www.Department0.University0.edu\n",
      "-39 3 -2\n",
      "\n",
      "http://www.Department0.University0.edu/GraduateStudent131 http://swat.cse.lehigh.edu/onto/univ-bench.owl#memberOf http://www.Department0.University0.edu\n",
      "-40 3 -2\n",
      "\n",
      "http://www.Department0.University0.edu/GraduateStudent132 http://swat.cse.lehigh.edu/onto/univ-bench.owl#memberOf http://www.Department0.University0.edu\n",
      "-41 3 -2\n",
      "\n",
      "http://www.Department0.University0.edu/GraduateStudent133 http://swat.cse.lehigh.edu/onto/univ-bench.owl#memberOf http://www.Department0.University0.edu\n",
      "-42 3 -2\n",
      "\n",
      "http://www.Department0.University0.edu/GraduateStudent134 http://swat.cse.lehigh.edu/onto/univ-bench.owl#memberOf http://www.Department0.University0.edu\n",
      "-43 3 -2\n",
      "\n",
      "http://www.Department0.University0.edu/GraduateStudent135 http://swat.cse.lehigh.edu/onto/univ-bench.owl#memberOf http://www.Department0.University0.edu\n",
      "-44 3 -2\n",
      "\n",
      "http://www.Department0.University0.edu/GraduateStudent136 http://swat.cse.lehigh.edu/onto/univ-bench.owl#memberOf http://www.Department0.University0.edu\n",
      "-45 3 -2\n",
      "\n",
      "http://www.Department0.University0.edu/GraduateStudent137 http://swat.cse.lehigh.edu/onto/univ-bench.owl#memberOf http://www.Department0.University0.edu\n",
      "-46 3 -2\n",
      "\n",
      "http://www.Department0.University0.edu/GraduateStudent138 http://swat.cse.lehigh.edu/onto/univ-bench.owl#memberOf http://www.Department0.University0.edu\n",
      "-47 3 -2\n",
      "\n",
      "http://www.Department0.University0.edu/GraduateStudent139 http://swat.cse.lehigh.edu/onto/univ-bench.owl#memberOf http://www.Department0.University0.edu\n",
      "-48 3 -2\n",
      "\n",
      "http://www.Department0.University0.edu/GraduateStudent14 http://swat.cse.lehigh.edu/onto/univ-bench.owl#memberOf http://www.Department0.University0.edu\n",
      "-49 3 -2\n",
      "\n",
      "http://www.Department0.University0.edu/GraduateStudent140 http://swat.cse.lehigh.edu/onto/univ-bench.owl#memberOf http://www.Department0.University0.edu\n",
      "-50 3 -2\n",
      "\n",
      "http://www.Department0.University0.edu/GraduateStudent141 http://swat.cse.lehigh.edu/onto/univ-bench.owl#memberOf http://www.Department0.University0.edu\n",
      "-51 3 -2\n",
      "\n",
      "http://www.Department0.University0.edu/GraduateStudent142 http://swat.cse.lehigh.edu/onto/univ-bench.owl#memberOf http://www.Department0.University0.edu\n",
      "-52 3 -2\n",
      "\n",
      "http://www.Department0.University0.edu/GraduateStudent143 http://swat.cse.lehigh.edu/onto/univ-bench.owl#memberOf http://www.Department0.University0.edu\n",
      "-53 3 -2\n",
      "\n",
      "http://www.Department0.University0.edu/GraduateStudent144 http://swat.cse.lehigh.edu/onto/univ-bench.owl#memberOf http://www.Department0.University0.edu\n",
      "-54 3 -2\n",
      "\n",
      "http://www.Department0.University0.edu/GraduateStudent145 http://swat.cse.lehigh.edu/onto/univ-bench.owl#memberOf http://www.Department0.University0.edu\n",
      "-55 3 -2\n",
      "\n",
      "http://www.Department0.University0.edu/GraduateStudent15 http://swat.cse.lehigh.edu/onto/univ-bench.owl#memberOf http://www.Department0.University0.edu\n",
      "-56 3 -2\n",
      "\n",
      "http://www.Department0.University0.edu/GraduateStudent16 http://swat.cse.lehigh.edu/onto/univ-bench.owl#memberOf http://www.Department0.University0.edu\n",
      "-57 3 -2\n",
      "\n",
      "http://www.Department0.University0.edu/GraduateStudent17 http://swat.cse.lehigh.edu/onto/univ-bench.owl#memberOf http://www.Department0.University0.edu\n",
      "-58 3 -2\n",
      "\n",
      "http://www.Department0.University0.edu/GraduateStudent18 http://swat.cse.lehigh.edu/onto/univ-bench.owl#memberOf http://www.Department0.University0.edu\n",
      "-59 3 -2\n",
      "\n",
      "http://www.Department0.University0.edu/GraduateStudent19 http://swat.cse.lehigh.edu/onto/univ-bench.owl#memberOf http://www.Department0.University0.edu\n",
      "-60 3 -2\n",
      "\n",
      "http://www.Department0.University0.edu/GraduateStudent2 http://swat.cse.lehigh.edu/onto/univ-bench.owl#memberOf http://www.Department0.University0.edu\n",
      "-61 3 -2\n",
      "\n",
      "http://www.Department0.University0.edu/GraduateStudent20 http://swat.cse.lehigh.edu/onto/univ-bench.owl#memberOf http://www.Department0.University0.edu\n",
      "-62 3 -2\n",
      "\n",
      "http://www.Department0.University0.edu/GraduateStudent21 http://swat.cse.lehigh.edu/onto/univ-bench.owl#memberOf http://www.Department0.University0.edu\n",
      "-63 3 -2\n",
      "\n",
      "http://www.Department0.University0.edu/GraduateStudent22 http://swat.cse.lehigh.edu/onto/univ-bench.owl#memberOf http://www.Department0.University0.edu\n",
      "-64 3 -2\n",
      "\n",
      "http://www.Department0.University0.edu/GraduateStudent23 http://swat.cse.lehigh.edu/onto/univ-bench.owl#memberOf http://www.Department0.University0.edu\n",
      "-65 3 -2\n",
      "\n",
      "http://www.Department0.University0.edu/GraduateStudent24 http://swat.cse.lehigh.edu/onto/univ-bench.owl#memberOf http://www.Department0.University0.edu\n",
      "-66 3 -2\n",
      "\n",
      "http://www.Department0.University0.edu/GraduateStudent25 http://swat.cse.lehigh.edu/onto/univ-bench.owl#memberOf http://www.Department0.University0.edu\n",
      "-67 3 -2\n",
      "\n",
      "http://www.Department0.University0.edu/GraduateStudent26 http://swat.cse.lehigh.edu/onto/univ-bench.owl#memberOf http://www.Department0.University0.edu\n",
      "-68 3 -2\n",
      "\n",
      "http://www.Department0.University0.edu/GraduateStudent27 http://swat.cse.lehigh.edu/onto/univ-bench.owl#memberOf http://www.Department0.University0.edu\n",
      "-69 3 -2\n",
      "\n",
      "http://www.Department0.University0.edu/GraduateStudent28 http://swat.cse.lehigh.edu/onto/univ-bench.owl#memberOf http://www.Department0.University0.edu\n",
      "-70 3 -2\n",
      "\n",
      "http://www.Department0.University0.edu/GraduateStudent29 http://swat.cse.lehigh.edu/onto/univ-bench.owl#memberOf http://www.Department0.University0.edu\n",
      "-71 3 -2\n",
      "\n",
      "http://www.Department0.University0.edu/GraduateStudent3 http://swat.cse.lehigh.edu/onto/univ-bench.owl#memberOf http://www.Department0.University0.edu\n",
      "-72 3 -2\n",
      "\n",
      "http://www.Department0.University0.edu/GraduateStudent30 http://swat.cse.lehigh.edu/onto/univ-bench.owl#memberOf http://www.Department0.University0.edu\n",
      "-73 3 -2\n",
      "\n",
      "http://www.Department0.University0.edu/GraduateStudent31 http://swat.cse.lehigh.edu/onto/univ-bench.owl#memberOf http://www.Department0.University0.edu\n",
      "-74 3 -2\n",
      "\n",
      "http://www.Department0.University0.edu/GraduateStudent32 http://swat.cse.lehigh.edu/onto/univ-bench.owl#memberOf http://www.Department0.University0.edu\n",
      "-75 3 -2\n",
      "\n",
      "http://www.Department0.University0.edu/GraduateStudent33 http://swat.cse.lehigh.edu/onto/univ-bench.owl#memberOf http://www.Department0.University0.edu\n",
      "-76 3 -2\n",
      "\n",
      "http://www.Department0.University0.edu/GraduateStudent34 http://swat.cse.lehigh.edu/onto/univ-bench.owl#memberOf http://www.Department0.University0.edu\n",
      "-77 3 -2\n",
      "\n",
      "http://www.Department0.University0.edu/GraduateStudent35 http://swat.cse.lehigh.edu/onto/univ-bench.owl#memberOf http://www.Department0.University0.edu\n",
      "-78 3 -2\n",
      "\n",
      "http://www.Department0.University0.edu/GraduateStudent36 http://swat.cse.lehigh.edu/onto/univ-bench.owl#memberOf http://www.Department0.University0.edu\n",
      "-79 3 -2\n",
      "\n",
      "http://www.Department0.University0.edu/GraduateStudent37 http://swat.cse.lehigh.edu/onto/univ-bench.owl#memberOf http://www.Department0.University0.edu\n",
      "-80 3 -2\n",
      "\n",
      "http://www.Department0.University0.edu/GraduateStudent38 http://swat.cse.lehigh.edu/onto/univ-bench.owl#memberOf http://www.Department0.University0.edu\n",
      "-81 3 -2\n",
      "\n",
      "http://www.Department0.University0.edu/GraduateStudent39 http://swat.cse.lehigh.edu/onto/univ-bench.owl#memberOf http://www.Department0.University0.edu\n",
      "-82 3 -2\n",
      "\n",
      "http://www.Department0.University0.edu/GraduateStudent4 http://swat.cse.lehigh.edu/onto/univ-bench.owl#memberOf http://www.Department0.University0.edu\n",
      "-83 3 -2\n",
      "\n",
      "http://www.Department0.University0.edu/GraduateStudent40 http://swat.cse.lehigh.edu/onto/univ-bench.owl#memberOf http://www.Department0.University0.edu\n",
      "-84 3 -2\n",
      "\n",
      "http://www.Department0.University0.edu/GraduateStudent41 http://swat.cse.lehigh.edu/onto/univ-bench.owl#memberOf http://www.Department0.University0.edu\n",
      "-85 3 -2\n",
      "\n",
      "http://www.Department0.University0.edu/GraduateStudent42 http://swat.cse.lehigh.edu/onto/univ-bench.owl#memberOf http://www.Department0.University0.edu\n",
      "-86 3 -2\n",
      "\n",
      "http://www.Department0.University0.edu/GraduateStudent43 http://swat.cse.lehigh.edu/onto/univ-bench.owl#memberOf http://www.Department0.University0.edu\n",
      "-87 3 -2\n",
      "\n",
      "http://www.Department0.University0.edu/GraduateStudent44 http://swat.cse.lehigh.edu/onto/univ-bench.owl#memberOf http://www.Department0.University0.edu\n",
      "-88 3 -2\n",
      "\n",
      "http://www.Department0.University0.edu/GraduateStudent45 http://swat.cse.lehigh.edu/onto/univ-bench.owl#memberOf http://www.Department0.University0.edu\n",
      "-89 3 -2\n",
      "\n",
      "http://www.Department0.University0.edu/GraduateStudent46 http://swat.cse.lehigh.edu/onto/univ-bench.owl#memberOf http://www.Department0.University0.edu\n",
      "-90 3 -2\n",
      "\n",
      "http://www.Department0.University0.edu/GraduateStudent47 http://swat.cse.lehigh.edu/onto/univ-bench.owl#memberOf http://www.Department0.University0.edu\n",
      "-91 3 -2\n",
      "\n",
      "http://www.Department0.University0.edu/GraduateStudent48 http://swat.cse.lehigh.edu/onto/univ-bench.owl#memberOf http://www.Department0.University0.edu\n",
      "-92 3 -2\n",
      "\n",
      "http://www.Department0.University0.edu/GraduateStudent49 http://swat.cse.lehigh.edu/onto/univ-bench.owl#memberOf http://www.Department0.University0.edu\n",
      "-93 3 -2\n",
      "\n",
      "http://www.Department0.University0.edu/GraduateStudent5 http://swat.cse.lehigh.edu/onto/univ-bench.owl#memberOf http://www.Department0.University0.edu\n",
      "-94 3 -2\n",
      "\n",
      "http://www.Department0.University0.edu/GraduateStudent50 http://swat.cse.lehigh.edu/onto/univ-bench.owl#memberOf http://www.Department0.University0.edu\n",
      "-95 3 -2\n",
      "\n",
      "http://www.Department0.University0.edu/GraduateStudent51 http://swat.cse.lehigh.edu/onto/univ-bench.owl#memberOf http://www.Department0.University0.edu\n",
      "-96 3 -2\n",
      "\n",
      "http://www.Department0.University0.edu/GraduateStudent52 http://swat.cse.lehigh.edu/onto/univ-bench.owl#memberOf http://www.Department0.University0.edu\n",
      "-97 3 -2\n",
      "\n",
      "http://www.Department0.University0.edu/GraduateStudent53 http://swat.cse.lehigh.edu/onto/univ-bench.owl#memberOf http://www.Department0.University0.edu\n",
      "-98 3 -2\n",
      "\n",
      "http://www.Department0.University0.edu/GraduateStudent54 http://swat.cse.lehigh.edu/onto/univ-bench.owl#memberOf http://www.Department0.University0.edu\n",
      "-99 3 -2\n",
      "\n",
      "http://www.Department0.University0.edu/GraduateStudent55 http://swat.cse.lehigh.edu/onto/univ-bench.owl#memberOf http://www.Department0.University0.edu\n",
      "-100 3 -2\n",
      "\n",
      "http://www.Department0.University0.edu/GraduateStudent56 http://swat.cse.lehigh.edu/onto/univ-bench.owl#memberOf http://www.Department0.University0.edu\n",
      "-101 3 -2\n",
      "\n",
      "http://www.Department0.University0.edu/GraduateStudent57 http://swat.cse.lehigh.edu/onto/univ-bench.owl#memberOf http://www.Department0.University0.edu\n",
      "-102 3 -2\n",
      "\n",
      "http://www.Department0.University0.edu/GraduateStudent58 http://swat.cse.lehigh.edu/onto/univ-bench.owl#memberOf http://www.Department0.University0.edu\n",
      "-103 3 -2\n",
      "\n",
      "http://www.Department0.University0.edu/GraduateStudent59 http://swat.cse.lehigh.edu/onto/univ-bench.owl#memberOf http://www.Department0.University0.edu\n",
      "-104 3 -2\n",
      "\n",
      "http://www.Department0.University0.edu/GraduateStudent6 http://swat.cse.lehigh.edu/onto/univ-bench.owl#memberOf http://www.Department0.University0.edu\n",
      "-105 3 -2\n",
      "\n",
      "http://www.Department0.University0.edu/GraduateStudent60 http://swat.cse.lehigh.edu/onto/univ-bench.owl#memberOf http://www.Department0.University0.edu\n",
      "-106 3 -2\n",
      "\n",
      "http://www.Department0.University0.edu/GraduateStudent61 http://swat.cse.lehigh.edu/onto/univ-bench.owl#memberOf http://www.Department0.University0.edu\n",
      "-107 3 -2\n",
      "\n",
      "http://www.Department0.University0.edu/GraduateStudent62 http://swat.cse.lehigh.edu/onto/univ-bench.owl#memberOf http://www.Department0.University0.edu\n",
      "-108 3 -2\n",
      "\n",
      "http://www.Department0.University0.edu/GraduateStudent63 http://swat.cse.lehigh.edu/onto/univ-bench.owl#memberOf http://www.Department0.University0.edu\n",
      "-109 3 -2\n",
      "\n",
      "http://www.Department0.University0.edu/GraduateStudent64 http://swat.cse.lehigh.edu/onto/univ-bench.owl#memberOf http://www.Department0.University0.edu\n",
      "-110 3 -2\n",
      "\n",
      "http://www.Department0.University0.edu/GraduateStudent65 http://swat.cse.lehigh.edu/onto/univ-bench.owl#memberOf http://www.Department0.University0.edu\n",
      "-111 3 -2\n",
      "\n",
      "http://www.Department0.University0.edu/GraduateStudent66 http://swat.cse.lehigh.edu/onto/univ-bench.owl#memberOf http://www.Department0.University0.edu\n",
      "-112 3 -2\n",
      "\n",
      "http://www.Department0.University0.edu/GraduateStudent67 http://swat.cse.lehigh.edu/onto/univ-bench.owl#memberOf http://www.Department0.University0.edu\n",
      "-113 3 -2\n",
      "\n",
      "http://www.Department0.University0.edu/GraduateStudent68 http://swat.cse.lehigh.edu/onto/univ-bench.owl#memberOf http://www.Department0.University0.edu\n",
      "-114 3 -2\n",
      "\n",
      "http://www.Department0.University0.edu/GraduateStudent69 http://swat.cse.lehigh.edu/onto/univ-bench.owl#memberOf http://www.Department0.University0.edu\n",
      "-115 3 -2\n",
      "\n",
      "http://www.Department0.University0.edu/GraduateStudent7 http://swat.cse.lehigh.edu/onto/univ-bench.owl#memberOf http://www.Department0.University0.edu\n",
      "-116 3 -2\n",
      "\n",
      "http://www.Department0.University0.edu/GraduateStudent70 http://swat.cse.lehigh.edu/onto/univ-bench.owl#memberOf http://www.Department0.University0.edu\n",
      "-117 3 -2\n",
      "\n",
      "http://www.Department0.University0.edu/GraduateStudent71 http://swat.cse.lehigh.edu/onto/univ-bench.owl#memberOf http://www.Department0.University0.edu\n",
      "-118 3 -2\n",
      "\n",
      "http://www.Department0.University0.edu/GraduateStudent72 http://swat.cse.lehigh.edu/onto/univ-bench.owl#memberOf http://www.Department0.University0.edu\n",
      "-119 3 -2\n",
      "\n",
      "http://www.Department0.University0.edu/GraduateStudent73 http://swat.cse.lehigh.edu/onto/univ-bench.owl#memberOf http://www.Department0.University0.edu\n",
      "-120 3 -2\n",
      "\n",
      "http://www.Department0.University0.edu/GraduateStudent74 http://swat.cse.lehigh.edu/onto/univ-bench.owl#memberOf http://www.Department0.University0.edu\n",
      "-121 3 -2\n",
      "\n",
      "http://www.Department0.University0.edu/GraduateStudent75 http://swat.cse.lehigh.edu/onto/univ-bench.owl#memberOf http://www.Department0.University0.edu\n",
      "-122 3 -2\n",
      "\n",
      "http://www.Department0.University0.edu/GraduateStudent76 http://swat.cse.lehigh.edu/onto/univ-bench.owl#memberOf http://www.Department0.University0.edu\n",
      "-123 3 -2\n",
      "\n",
      "http://www.Department0.University0.edu/GraduateStudent77 http://swat.cse.lehigh.edu/onto/univ-bench.owl#memberOf http://www.Department0.University0.edu\n",
      "-124 3 -2\n",
      "\n",
      "http://www.Department0.University0.edu/GraduateStudent78 http://swat.cse.lehigh.edu/onto/univ-bench.owl#memberOf http://www.Department0.University0.edu\n",
      "-125 3 -2\n",
      "\n",
      "http://www.Department0.University0.edu/GraduateStudent79 http://swat.cse.lehigh.edu/onto/univ-bench.owl#memberOf http://www.Department0.University0.edu\n",
      "-126 3 -2\n",
      "\n",
      "http://www.Department0.University0.edu/GraduateStudent8 http://swat.cse.lehigh.edu/onto/univ-bench.owl#memberOf http://www.Department0.University0.edu\n",
      "-127 3 -2\n",
      "\n",
      "http://www.Department0.University0.edu/GraduateStudent80 http://swat.cse.lehigh.edu/onto/univ-bench.owl#memberOf http://www.Department0.University0.edu\n",
      "-128 3 -2\n",
      "\n",
      "http://www.Department0.University0.edu/GraduateStudent81 http://swat.cse.lehigh.edu/onto/univ-bench.owl#memberOf http://www.Department0.University0.edu\n",
      "-129 3 -2\n",
      "\n",
      "http://www.Department0.University0.edu/GraduateStudent82 http://swat.cse.lehigh.edu/onto/univ-bench.owl#memberOf http://www.Department0.University0.edu\n",
      "-130 3 -2\n",
      "\n",
      "http://www.Department0.University0.edu/GraduateStudent83 http://swat.cse.lehigh.edu/onto/univ-bench.owl#memberOf http://www.Department0.University0.edu\n",
      "-131 3 -2\n",
      "\n",
      "http://www.Department0.University0.edu/GraduateStudent84 http://swat.cse.lehigh.edu/onto/univ-bench.owl#memberOf http://www.Department0.University0.edu\n",
      "-132 3 -2\n",
      "\n",
      "http://www.Department0.University0.edu/GraduateStudent85 http://swat.cse.lehigh.edu/onto/univ-bench.owl#memberOf http://www.Department0.University0.edu\n",
      "-133 3 -2\n",
      "\n",
      "http://www.Department0.University0.edu/GraduateStudent86 http://swat.cse.lehigh.edu/onto/univ-bench.owl#memberOf http://www.Department0.University0.edu\n",
      "-134 3 -2\n",
      "\n",
      "http://www.Department0.University0.edu/GraduateStudent87 http://swat.cse.lehigh.edu/onto/univ-bench.owl#memberOf http://www.Department0.University0.edu\n",
      "-135 3 -2\n",
      "\n",
      "http://www.Department0.University0.edu/GraduateStudent88 http://swat.cse.lehigh.edu/onto/univ-bench.owl#memberOf http://www.Department0.University0.edu\n",
      "-136 3 -2\n",
      "\n",
      "http://www.Department0.University0.edu/GraduateStudent89 http://swat.cse.lehigh.edu/onto/univ-bench.owl#memberOf http://www.Department0.University0.edu\n",
      "-137 3 -2\n",
      "\n",
      "http://www.Department0.University0.edu/GraduateStudent9 http://swat.cse.lehigh.edu/onto/univ-bench.owl#memberOf http://www.Department0.University0.edu\n",
      "-138 3 -2\n",
      "\n",
      "http://www.Department0.University0.edu/GraduateStudent90 http://swat.cse.lehigh.edu/onto/univ-bench.owl#memberOf http://www.Department0.University0.edu\n",
      "-139 3 -2\n",
      "\n",
      "http://www.Department0.University0.edu/GraduateStudent91 http://swat.cse.lehigh.edu/onto/univ-bench.owl#memberOf http://www.Department0.University0.edu\n",
      "-140 3 -2\n",
      "\n",
      "http://www.Department0.University0.edu/GraduateStudent92 http://swat.cse.lehigh.edu/onto/univ-bench.owl#memberOf http://www.Department0.University0.edu\n",
      "-141 3 -2\n",
      "\n",
      "http://www.Department0.University0.edu/GraduateStudent93 http://swat.cse.lehigh.edu/onto/univ-bench.owl#memberOf http://www.Department0.University0.edu\n",
      "-142 3 -2\n",
      "\n",
      "http://www.Department0.University0.edu/GraduateStudent94 http://swat.cse.lehigh.edu/onto/univ-bench.owl#memberOf http://www.Department0.University0.edu\n",
      "-143 3 -2\n",
      "\n",
      "http://www.Department0.University0.edu/GraduateStudent95 http://swat.cse.lehigh.edu/onto/univ-bench.owl#memberOf http://www.Department0.University0.edu\n",
      "-144 3 -2\n",
      "\n",
      "http://www.Department0.University0.edu/GraduateStudent96 http://swat.cse.lehigh.edu/onto/univ-bench.owl#memberOf http://www.Department0.University0.edu\n",
      "-145 3 -2\n",
      "\n",
      "http://www.Department0.University0.edu/GraduateStudent97 http://swat.cse.lehigh.edu/onto/univ-bench.owl#memberOf http://www.Department0.University0.edu\n",
      "-146 3 -2\n",
      "\n",
      "http://www.Department0.University0.edu/GraduateStudent98 http://swat.cse.lehigh.edu/onto/univ-bench.owl#memberOf http://www.Department0.University0.edu\n",
      "-147 3 -2\n",
      "\n",
      "http://www.Department0.University0.edu/GraduateStudent99 http://swat.cse.lehigh.edu/onto/univ-bench.owl#memberOf http://www.Department0.University0.edu\n",
      "-148 3 -2\n",
      "\n",
      "http://www.Department0.University0.edu/UndergraduateStudent0 http://swat.cse.lehigh.edu/onto/univ-bench.owl#memberOf http://www.Department0.University0.edu\n",
      "-149 3 -2\n",
      "\n",
      "http://www.Department0.University0.edu/UndergraduateStudent1 http://swat.cse.lehigh.edu/onto/univ-bench.owl#memberOf http://www.Department0.University0.edu\n",
      "-150 3 -2\n",
      "\n",
      "http://www.Department0.University0.edu/UndergraduateStudent10 http://swat.cse.lehigh.edu/onto/univ-bench.owl#memberOf http://www.Department0.University0.edu\n",
      "-151 3 -2\n",
      "\n",
      "http://www.Department0.University0.edu/UndergraduateStudent100 http://swat.cse.lehigh.edu/onto/univ-bench.owl#memberOf http://www.Department0.University0.edu\n",
      "-152 3 -2\n",
      "\n",
      "http://www.Department0.University0.edu/UndergraduateStudent101 http://swat.cse.lehigh.edu/onto/univ-bench.owl#memberOf http://www.Department0.University0.edu\n",
      "-153 3 -2\n",
      "\n",
      "http://www.Department0.University0.edu/UndergraduateStudent102 http://swat.cse.lehigh.edu/onto/univ-bench.owl#memberOf http://www.Department0.University0.edu\n",
      "-154 3 -2\n",
      "\n",
      "http://www.Department0.University0.edu/UndergraduateStudent103 http://swat.cse.lehigh.edu/onto/univ-bench.owl#memberOf http://www.Department0.University0.edu\n",
      "-155 3 -2\n",
      "\n",
      "http://www.Department0.University0.edu/UndergraduateStudent104 http://swat.cse.lehigh.edu/onto/univ-bench.owl#memberOf http://www.Department0.University0.edu\n",
      "-156 3 -2\n",
      "\n",
      "http://www.Department0.University0.edu/UndergraduateStudent105 http://swat.cse.lehigh.edu/onto/univ-bench.owl#memberOf http://www.Department0.University0.edu\n",
      "-157 3 -2\n",
      "\n",
      "http://www.Department0.University0.edu/UndergraduateStudent106 http://swat.cse.lehigh.edu/onto/univ-bench.owl#memberOf http://www.Department0.University0.edu\n",
      "-158 3 -2\n",
      "\n",
      "http://www.Department0.University0.edu/UndergraduateStudent107 http://swat.cse.lehigh.edu/onto/univ-bench.owl#memberOf http://www.Department0.University0.edu\n",
      "-159 3 -2\n",
      "\n",
      "http://www.Department0.University0.edu/UndergraduateStudent108 http://swat.cse.lehigh.edu/onto/univ-bench.owl#memberOf http://www.Department0.University0.edu\n",
      "-160 3 -2\n",
      "\n",
      "http://www.Department0.University0.edu/UndergraduateStudent109 http://swat.cse.lehigh.edu/onto/univ-bench.owl#memberOf http://www.Department0.University0.edu\n",
      "-161 3 -2\n",
      "\n",
      "http://www.Department0.University0.edu/UndergraduateStudent11 http://swat.cse.lehigh.edu/onto/univ-bench.owl#memberOf http://www.Department0.University0.edu\n",
      "-162 3 -2\n",
      "\n",
      "http://www.Department0.University0.edu/UndergraduateStudent110 http://swat.cse.lehigh.edu/onto/univ-bench.owl#memberOf http://www.Department0.University0.edu\n",
      "-163 3 -2\n",
      "\n",
      "http://www.Department0.University0.edu/UndergraduateStudent111 http://swat.cse.lehigh.edu/onto/univ-bench.owl#memberOf http://www.Department0.University0.edu\n",
      "-164 3 -2\n",
      "\n",
      "http://www.Department0.University0.edu/UndergraduateStudent112 http://swat.cse.lehigh.edu/onto/univ-bench.owl#memberOf http://www.Department0.University0.edu\n",
      "-165 3 -2\n",
      "\n",
      "http://www.Department0.University0.edu/UndergraduateStudent113 http://swat.cse.lehigh.edu/onto/univ-bench.owl#memberOf http://www.Department0.University0.edu\n",
      "-166 3 -2\n",
      "\n",
      "http://www.Department0.University0.edu/UndergraduateStudent114 http://swat.cse.lehigh.edu/onto/univ-bench.owl#memberOf http://www.Department0.University0.edu\n",
      "-167 3 -2\n",
      "\n",
      "http://www.Department0.University0.edu/UndergraduateStudent115 http://swat.cse.lehigh.edu/onto/univ-bench.owl#memberOf http://www.Department0.University0.edu\n",
      "-168 3 -2\n",
      "\n",
      "http://www.Department0.University0.edu/UndergraduateStudent116 http://swat.cse.lehigh.edu/onto/univ-bench.owl#memberOf http://www.Department0.University0.edu\n",
      "-169 3 -2\n",
      "\n",
      "http://www.Department0.University0.edu/UndergraduateStudent117 http://swat.cse.lehigh.edu/onto/univ-bench.owl#memberOf http://www.Department0.University0.edu\n",
      "-170 3 -2\n",
      "\n",
      "http://www.Department0.University0.edu/UndergraduateStudent118 http://swat.cse.lehigh.edu/onto/univ-bench.owl#memberOf http://www.Department0.University0.edu\n",
      "-171 3 -2\n",
      "\n",
      "http://www.Department0.University0.edu/UndergraduateStudent119 http://swat.cse.lehigh.edu/onto/univ-bench.owl#memberOf http://www.Department0.University0.edu\n",
      "-172 3 -2\n",
      "\n",
      "http://www.Department0.University0.edu/UndergraduateStudent12 http://swat.cse.lehigh.edu/onto/univ-bench.owl#memberOf http://www.Department0.University0.edu\n",
      "-173 3 -2\n",
      "\n",
      "http://www.Department0.University0.edu/UndergraduateStudent120 http://swat.cse.lehigh.edu/onto/univ-bench.owl#memberOf http://www.Department0.University0.edu\n",
      "-174 3 -2\n",
      "\n",
      "http://www.Department0.University0.edu/UndergraduateStudent121 http://swat.cse.lehigh.edu/onto/univ-bench.owl#memberOf http://www.Department0.University0.edu\n",
      "-175 3 -2\n",
      "\n",
      "http://www.Department0.University0.edu/UndergraduateStudent122 http://swat.cse.lehigh.edu/onto/univ-bench.owl#memberOf http://www.Department0.University0.edu\n",
      "-176 3 -2\n",
      "\n",
      "http://www.Department0.University0.edu/UndergraduateStudent123 http://swat.cse.lehigh.edu/onto/univ-bench.owl#memberOf http://www.Department0.University0.edu\n",
      "-177 3 -2\n",
      "\n",
      "http://www.Department0.University0.edu/UndergraduateStudent124 http://swat.cse.lehigh.edu/onto/univ-bench.owl#memberOf http://www.Department0.University0.edu\n",
      "-178 3 -2\n",
      "\n",
      "http://www.Department0.University0.edu/UndergraduateStudent125 http://swat.cse.lehigh.edu/onto/univ-bench.owl#memberOf http://www.Department0.University0.edu\n",
      "-179 3 -2\n",
      "\n",
      "http://www.Department0.University0.edu/UndergraduateStudent126 http://swat.cse.lehigh.edu/onto/univ-bench.owl#memberOf http://www.Department0.University0.edu\n",
      "-180 3 -2\n",
      "\n",
      "http://www.Department0.University0.edu/UndergraduateStudent127 http://swat.cse.lehigh.edu/onto/univ-bench.owl#memberOf http://www.Department0.University0.edu\n",
      "-181 3 -2\n",
      "\n",
      "http://www.Department0.University0.edu/UndergraduateStudent128 http://swat.cse.lehigh.edu/onto/univ-bench.owl#memberOf http://www.Department0.University0.edu\n",
      "-182 3 -2\n",
      "\n",
      "http://www.Department0.University0.edu/UndergraduateStudent129 http://swat.cse.lehigh.edu/onto/univ-bench.owl#memberOf http://www.Department0.University0.edu\n",
      "-183 3 -2\n",
      "\n",
      "http://www.Department0.University0.edu/UndergraduateStudent13 http://swat.cse.lehigh.edu/onto/univ-bench.owl#memberOf http://www.Department0.University0.edu\n",
      "-184 3 -2\n",
      "\n",
      "http://www.Department0.University0.edu/UndergraduateStudent130 http://swat.cse.lehigh.edu/onto/univ-bench.owl#memberOf http://www.Department0.University0.edu\n",
      "-185 3 -2\n",
      "\n",
      "http://www.Department0.University0.edu/UndergraduateStudent131 http://swat.cse.lehigh.edu/onto/univ-bench.owl#memberOf http://www.Department0.University0.edu\n",
      "-186 3 -2\n",
      "\n",
      "http://www.Department0.University0.edu/UndergraduateStudent132 http://swat.cse.lehigh.edu/onto/univ-bench.owl#memberOf http://www.Department0.University0.edu\n",
      "-187 3 -2\n",
      "\n",
      "http://www.Department0.University0.edu/UndergraduateStudent133 http://swat.cse.lehigh.edu/onto/univ-bench.owl#memberOf http://www.Department0.University0.edu\n",
      "-188 3 -2\n",
      "\n",
      "http://www.Department0.University0.edu/UndergraduateStudent134 http://swat.cse.lehigh.edu/onto/univ-bench.owl#memberOf http://www.Department0.University0.edu\n",
      "-189 3 -2\n",
      "\n",
      "http://www.Department0.University0.edu/UndergraduateStudent135 http://swat.cse.lehigh.edu/onto/univ-bench.owl#memberOf http://www.Department0.University0.edu\n",
      "-190 3 -2\n",
      "\n",
      "http://www.Department0.University0.edu/UndergraduateStudent136 http://swat.cse.lehigh.edu/onto/univ-bench.owl#memberOf http://www.Department0.University0.edu\n",
      "-191 3 -2\n",
      "\n",
      "http://www.Department0.University0.edu/UndergraduateStudent137 http://swat.cse.lehigh.edu/onto/univ-bench.owl#memberOf http://www.Department0.University0.edu\n",
      "-192 3 -2\n",
      "\n",
      "http://www.Department0.University0.edu/UndergraduateStudent138 http://swat.cse.lehigh.edu/onto/univ-bench.owl#memberOf http://www.Department0.University0.edu\n",
      "-193 3 -2\n",
      "\n",
      "http://www.Department0.University0.edu/UndergraduateStudent139 http://swat.cse.lehigh.edu/onto/univ-bench.owl#memberOf http://www.Department0.University0.edu\n",
      "-194 3 -2\n",
      "\n",
      "http://www.Department0.University0.edu/UndergraduateStudent14 http://swat.cse.lehigh.edu/onto/univ-bench.owl#memberOf http://www.Department0.University0.edu\n",
      "-195 3 -2\n",
      "\n",
      "http://www.Department0.University0.edu/UndergraduateStudent140 http://swat.cse.lehigh.edu/onto/univ-bench.owl#memberOf http://www.Department0.University0.edu\n",
      "-196 3 -2\n",
      "\n",
      "http://www.Department0.University0.edu/UndergraduateStudent141 http://swat.cse.lehigh.edu/onto/univ-bench.owl#memberOf http://www.Department0.University0.edu\n",
      "-197 3 -2\n",
      "\n",
      "http://www.Department0.University0.edu/UndergraduateStudent142 http://swat.cse.lehigh.edu/onto/univ-bench.owl#memberOf http://www.Department0.University0.edu\n",
      "-198 3 -2\n",
      "\n",
      "http://www.Department0.University0.edu/UndergraduateStudent143 http://swat.cse.lehigh.edu/onto/univ-bench.owl#memberOf http://www.Department0.University0.edu\n",
      "-199 3 -2\n",
      "\n",
      "http://www.Department0.University0.edu/UndergraduateStudent144 http://swat.cse.lehigh.edu/onto/univ-bench.owl#memberOf http://www.Department0.University0.edu\n",
      "-200 3 -2\n",
      "\n",
      "http://www.Department0.University0.edu/UndergraduateStudent145 http://swat.cse.lehigh.edu/onto/univ-bench.owl#memberOf http://www.Department0.University0.edu\n",
      "-201 3 -2\n",
      "\n",
      "http://www.Department0.University0.edu/UndergraduateStudent146 http://swat.cse.lehigh.edu/onto/univ-bench.owl#memberOf http://www.Department0.University0.edu\n",
      "-202 3 -2\n",
      "\n",
      "http://www.Department0.University0.edu/UndergraduateStudent147 http://swat.cse.lehigh.edu/onto/univ-bench.owl#memberOf http://www.Department0.University0.edu\n",
      "-203 3 -2\n",
      "\n",
      "http://www.Department0.University0.edu/UndergraduateStudent148 http://swat.cse.lehigh.edu/onto/univ-bench.owl#memberOf http://www.Department0.University0.edu\n",
      "-204 3 -2\n",
      "\n",
      "http://www.Department0.University0.edu/UndergraduateStudent149 http://swat.cse.lehigh.edu/onto/univ-bench.owl#memberOf http://www.Department0.University0.edu\n",
      "-205 3 -2\n",
      "\n",
      "http://www.Department0.University0.edu/UndergraduateStudent15 http://swat.cse.lehigh.edu/onto/univ-bench.owl#memberOf http://www.Department0.University0.edu\n",
      "-206 3 -2\n",
      "\n",
      "http://www.Department0.University0.edu/UndergraduateStudent150 http://swat.cse.lehigh.edu/onto/univ-bench.owl#memberOf http://www.Department0.University0.edu\n",
      "-207 3 -2\n",
      "\n",
      "http://www.Department0.University0.edu/UndergraduateStudent151 http://swat.cse.lehigh.edu/onto/univ-bench.owl#memberOf http://www.Department0.University0.edu\n",
      "-208 3 -2\n",
      "\n",
      "http://www.Department0.University0.edu/UndergraduateStudent152 http://swat.cse.lehigh.edu/onto/univ-bench.owl#memberOf http://www.Department0.University0.edu\n",
      "-209 3 -2\n",
      "\n",
      "http://www.Department0.University0.edu/UndergraduateStudent153 http://swat.cse.lehigh.edu/onto/univ-bench.owl#memberOf http://www.Department0.University0.edu\n",
      "-210 3 -2\n",
      "\n",
      "http://www.Department0.University0.edu/UndergraduateStudent154 http://swat.cse.lehigh.edu/onto/univ-bench.owl#memberOf http://www.Department0.University0.edu\n",
      "-211 3 -2\n",
      "\n",
      "http://www.Department0.University0.edu/UndergraduateStudent155 http://swat.cse.lehigh.edu/onto/univ-bench.owl#memberOf http://www.Department0.University0.edu\n",
      "-212 3 -2\n",
      "\n",
      "http://www.Department0.University0.edu/UndergraduateStudent156 http://swat.cse.lehigh.edu/onto/univ-bench.owl#memberOf http://www.Department0.University0.edu\n",
      "-213 3 -2\n",
      "\n",
      "http://www.Department0.University0.edu/UndergraduateStudent157 http://swat.cse.lehigh.edu/onto/univ-bench.owl#memberOf http://www.Department0.University0.edu\n",
      "-214 3 -2\n",
      "\n",
      "http://www.Department0.University0.edu/UndergraduateStudent158 http://swat.cse.lehigh.edu/onto/univ-bench.owl#memberOf http://www.Department0.University0.edu\n",
      "-215 3 -2\n",
      "\n",
      "http://www.Department0.University0.edu/UndergraduateStudent159 http://swat.cse.lehigh.edu/onto/univ-bench.owl#memberOf http://www.Department0.University0.edu\n",
      "-216 3 -2\n",
      "\n",
      "http://www.Department0.University0.edu/UndergraduateStudent16 http://swat.cse.lehigh.edu/onto/univ-bench.owl#memberOf http://www.Department0.University0.edu\n",
      "-217 3 -2\n",
      "\n",
      "http://www.Department0.University0.edu/UndergraduateStudent160 http://swat.cse.lehigh.edu/onto/univ-bench.owl#memberOf http://www.Department0.University0.edu\n",
      "-218 3 -2\n",
      "\n",
      "http://www.Department0.University0.edu/UndergraduateStudent161 http://swat.cse.lehigh.edu/onto/univ-bench.owl#memberOf http://www.Department0.University0.edu\n",
      "-219 3 -2\n",
      "\n",
      "http://www.Department0.University0.edu/UndergraduateStudent162 http://swat.cse.lehigh.edu/onto/univ-bench.owl#memberOf http://www.Department0.University0.edu\n",
      "-220 3 -2\n",
      "\n",
      "http://www.Department0.University0.edu/UndergraduateStudent163 http://swat.cse.lehigh.edu/onto/univ-bench.owl#memberOf http://www.Department0.University0.edu\n",
      "-221 3 -2\n",
      "\n",
      "http://www.Department0.University0.edu/UndergraduateStudent164 http://swat.cse.lehigh.edu/onto/univ-bench.owl#memberOf http://www.Department0.University0.edu\n",
      "-222 3 -2\n",
      "\n",
      "http://www.Department0.University0.edu/UndergraduateStudent165 http://swat.cse.lehigh.edu/onto/univ-bench.owl#memberOf http://www.Department0.University0.edu\n",
      "-223 3 -2\n",
      "\n",
      "http://www.Department0.University0.edu/UndergraduateStudent166 http://swat.cse.lehigh.edu/onto/univ-bench.owl#memberOf http://www.Department0.University0.edu\n",
      "-224 3 -2\n",
      "\n",
      "http://www.Department0.University0.edu/UndergraduateStudent167 http://swat.cse.lehigh.edu/onto/univ-bench.owl#memberOf http://www.Department0.University0.edu\n",
      "-225 3 -2\n",
      "\n",
      "http://www.Department0.University0.edu/UndergraduateStudent168 http://swat.cse.lehigh.edu/onto/univ-bench.owl#memberOf http://www.Department0.University0.edu\n",
      "-226 3 -2\n",
      "\n",
      "http://www.Department0.University0.edu/UndergraduateStudent169 http://swat.cse.lehigh.edu/onto/univ-bench.owl#memberOf http://www.Department0.University0.edu\n",
      "-227 3 -2\n",
      "\n",
      "http://www.Department0.University0.edu/UndergraduateStudent17 http://swat.cse.lehigh.edu/onto/univ-bench.owl#memberOf http://www.Department0.University0.edu\n",
      "-228 3 -2\n",
      "\n",
      "http://www.Department0.University0.edu/UndergraduateStudent170 http://swat.cse.lehigh.edu/onto/univ-bench.owl#memberOf http://www.Department0.University0.edu\n",
      "-229 3 -2\n",
      "\n",
      "http://www.Department0.University0.edu/UndergraduateStudent171 http://swat.cse.lehigh.edu/onto/univ-bench.owl#memberOf http://www.Department0.University0.edu\n",
      "-230 3 -2\n",
      "\n",
      "http://www.Department0.University0.edu/UndergraduateStudent172 http://swat.cse.lehigh.edu/onto/univ-bench.owl#memberOf http://www.Department0.University0.edu\n",
      "-231 3 -2\n",
      "\n",
      "http://www.Department0.University0.edu/UndergraduateStudent173 http://swat.cse.lehigh.edu/onto/univ-bench.owl#memberOf http://www.Department0.University0.edu\n",
      "-232 3 -2\n",
      "\n",
      "http://www.Department0.University0.edu/UndergraduateStudent174 http://swat.cse.lehigh.edu/onto/univ-bench.owl#memberOf http://www.Department0.University0.edu\n",
      "-233 3 -2\n",
      "\n",
      "http://www.Department0.University0.edu/UndergraduateStudent175 http://swat.cse.lehigh.edu/onto/univ-bench.owl#memberOf http://www.Department0.University0.edu\n",
      "-234 3 -2\n",
      "\n",
      "http://www.Department0.University0.edu/UndergraduateStudent176 http://swat.cse.lehigh.edu/onto/univ-bench.owl#memberOf http://www.Department0.University0.edu\n",
      "-235 3 -2\n",
      "\n",
      "http://www.Department0.University0.edu/UndergraduateStudent177 http://swat.cse.lehigh.edu/onto/univ-bench.owl#memberOf http://www.Department0.University0.edu\n",
      "-236 3 -2\n",
      "\n",
      "http://www.Department0.University0.edu/UndergraduateStudent178 http://swat.cse.lehigh.edu/onto/univ-bench.owl#memberOf http://www.Department0.University0.edu\n",
      "-237 3 -2\n",
      "\n",
      "http://www.Department0.University0.edu/UndergraduateStudent179 http://swat.cse.lehigh.edu/onto/univ-bench.owl#memberOf http://www.Department0.University0.edu\n",
      "-238 3 -2\n",
      "\n",
      "http://www.Department0.University0.edu/UndergraduateStudent18 http://swat.cse.lehigh.edu/onto/univ-bench.owl#memberOf http://www.Department0.University0.edu\n",
      "-239 3 -2\n",
      "\n",
      "http://www.Department0.University0.edu/UndergraduateStudent180 http://swat.cse.lehigh.edu/onto/univ-bench.owl#memberOf http://www.Department0.University0.edu\n",
      "-240 3 -2\n",
      "\n",
      "http://www.Department0.University0.edu/UndergraduateStudent181 http://swat.cse.lehigh.edu/onto/univ-bench.owl#memberOf http://www.Department0.University0.edu\n",
      "-241 3 -2\n",
      "\n",
      "http://www.Department0.University0.edu/UndergraduateStudent182 http://swat.cse.lehigh.edu/onto/univ-bench.owl#memberOf http://www.Department0.University0.edu\n",
      "-242 3 -2\n",
      "\n",
      "http://www.Department0.University0.edu/UndergraduateStudent183 http://swat.cse.lehigh.edu/onto/univ-bench.owl#memberOf http://www.Department0.University0.edu\n",
      "-243 3 -2\n",
      "\n",
      "http://www.Department0.University0.edu/UndergraduateStudent184 http://swat.cse.lehigh.edu/onto/univ-bench.owl#memberOf http://www.Department0.University0.edu\n",
      "-244 3 -2\n",
      "\n",
      "http://www.Department0.University0.edu/UndergraduateStudent185 http://swat.cse.lehigh.edu/onto/univ-bench.owl#memberOf http://www.Department0.University0.edu\n",
      "-245 3 -2\n",
      "\n",
      "http://www.Department0.University0.edu/UndergraduateStudent186 http://swat.cse.lehigh.edu/onto/univ-bench.owl#memberOf http://www.Department0.University0.edu\n",
      "-246 3 -2\n",
      "\n",
      "http://www.Department0.University0.edu/UndergraduateStudent187 http://swat.cse.lehigh.edu/onto/univ-bench.owl#memberOf http://www.Department0.University0.edu\n",
      "-247 3 -2\n",
      "\n",
      "http://www.Department0.University0.edu/UndergraduateStudent188 http://swat.cse.lehigh.edu/onto/univ-bench.owl#memberOf http://www.Department0.University0.edu\n",
      "-248 3 -2\n",
      "\n",
      "http://www.Department0.University0.edu/UndergraduateStudent189 http://swat.cse.lehigh.edu/onto/univ-bench.owl#memberOf http://www.Department0.University0.edu\n",
      "-249 3 -2\n",
      "\n",
      "http://www.Department0.University0.edu/UndergraduateStudent19 http://swat.cse.lehigh.edu/onto/univ-bench.owl#memberOf http://www.Department0.University0.edu\n",
      "-250 3 -2\n",
      "\n",
      "http://www.Department0.University0.edu/UndergraduateStudent190 http://swat.cse.lehigh.edu/onto/univ-bench.owl#memberOf http://www.Department0.University0.edu\n",
      "-251 3 -2\n",
      "\n",
      "http://www.Department0.University0.edu/UndergraduateStudent191 http://swat.cse.lehigh.edu/onto/univ-bench.owl#memberOf http://www.Department0.University0.edu\n",
      "-252 3 -2\n",
      "\n",
      "http://www.Department0.University0.edu/UndergraduateStudent192 http://swat.cse.lehigh.edu/onto/univ-bench.owl#memberOf http://www.Department0.University0.edu\n",
      "-253 3 -2\n",
      "\n",
      "http://www.Department0.University0.edu/UndergraduateStudent193 http://swat.cse.lehigh.edu/onto/univ-bench.owl#memberOf http://www.Department0.University0.edu\n",
      "-254 3 -2\n",
      "\n",
      "http://www.Department0.University0.edu/UndergraduateStudent194 http://swat.cse.lehigh.edu/onto/univ-bench.owl#memberOf http://www.Department0.University0.edu\n",
      "-255 3 -2\n",
      "\n",
      "http://www.Department0.University0.edu/UndergraduateStudent195 http://swat.cse.lehigh.edu/onto/univ-bench.owl#memberOf http://www.Department0.University0.edu\n",
      "-256 3 -2\n",
      "\n",
      "http://www.Department0.University0.edu/UndergraduateStudent196 http://swat.cse.lehigh.edu/onto/univ-bench.owl#memberOf http://www.Department0.University0.edu\n",
      "-257 3 -2\n",
      "\n",
      "http://www.Department0.University0.edu/UndergraduateStudent197 http://swat.cse.lehigh.edu/onto/univ-bench.owl#memberOf http://www.Department0.University0.edu\n",
      "-258 3 -2\n",
      "\n",
      "http://www.Department0.University0.edu/UndergraduateStudent198 http://swat.cse.lehigh.edu/onto/univ-bench.owl#memberOf http://www.Department0.University0.edu\n",
      "-259 3 -2\n",
      "\n",
      "http://www.Department0.University0.edu/UndergraduateStudent199 http://swat.cse.lehigh.edu/onto/univ-bench.owl#memberOf http://www.Department0.University0.edu\n",
      "-260 3 -2\n",
      "\n",
      "http://www.Department0.University0.edu/UndergraduateStudent2 http://swat.cse.lehigh.edu/onto/univ-bench.owl#memberOf http://www.Department0.University0.edu\n",
      "-261 3 -2\n",
      "\n",
      "http://www.Department0.University0.edu/UndergraduateStudent20 http://swat.cse.lehigh.edu/onto/univ-bench.owl#memberOf http://www.Department0.University0.edu\n",
      "-262 3 -2\n",
      "\n",
      "http://www.Department0.University0.edu/UndergraduateStudent200 http://swat.cse.lehigh.edu/onto/univ-bench.owl#memberOf http://www.Department0.University0.edu\n",
      "-263 3 -2\n",
      "\n",
      "http://www.Department0.University0.edu/UndergraduateStudent201 http://swat.cse.lehigh.edu/onto/univ-bench.owl#memberOf http://www.Department0.University0.edu\n",
      "-264 3 -2\n",
      "\n",
      "http://www.Department0.University0.edu/UndergraduateStudent202 http://swat.cse.lehigh.edu/onto/univ-bench.owl#memberOf http://www.Department0.University0.edu\n",
      "-265 3 -2\n",
      "\n",
      "http://www.Department0.University0.edu/UndergraduateStudent203 http://swat.cse.lehigh.edu/onto/univ-bench.owl#memberOf http://www.Department0.University0.edu\n",
      "-266 3 -2\n",
      "\n",
      "http://www.Department0.University0.edu/UndergraduateStudent204 http://swat.cse.lehigh.edu/onto/univ-bench.owl#memberOf http://www.Department0.University0.edu\n",
      "-267 3 -2\n",
      "\n",
      "http://www.Department0.University0.edu/UndergraduateStudent205 http://swat.cse.lehigh.edu/onto/univ-bench.owl#memberOf http://www.Department0.University0.edu\n",
      "-268 3 -2\n",
      "\n",
      "http://www.Department0.University0.edu/UndergraduateStudent206 http://swat.cse.lehigh.edu/onto/univ-bench.owl#memberOf http://www.Department0.University0.edu\n",
      "-269 3 -2\n",
      "\n",
      "http://www.Department0.University0.edu/UndergraduateStudent207 http://swat.cse.lehigh.edu/onto/univ-bench.owl#memberOf http://www.Department0.University0.edu\n",
      "-270 3 -2\n",
      "\n",
      "http://www.Department0.University0.edu/UndergraduateStudent208 http://swat.cse.lehigh.edu/onto/univ-bench.owl#memberOf http://www.Department0.University0.edu\n",
      "-271 3 -2\n",
      "\n",
      "http://www.Department0.University0.edu/UndergraduateStudent209 http://swat.cse.lehigh.edu/onto/univ-bench.owl#memberOf http://www.Department0.University0.edu\n",
      "-272 3 -2\n",
      "\n",
      "http://www.Department0.University0.edu/UndergraduateStudent21 http://swat.cse.lehigh.edu/onto/univ-bench.owl#memberOf http://www.Department0.University0.edu\n",
      "-273 3 -2\n",
      "\n",
      "http://www.Department0.University0.edu/UndergraduateStudent210 http://swat.cse.lehigh.edu/onto/univ-bench.owl#memberOf http://www.Department0.University0.edu\n",
      "-274 3 -2\n",
      "\n",
      "http://www.Department0.University0.edu/UndergraduateStudent211 http://swat.cse.lehigh.edu/onto/univ-bench.owl#memberOf http://www.Department0.University0.edu\n",
      "-275 3 -2\n",
      "\n",
      "http://www.Department0.University0.edu/UndergraduateStudent212 http://swat.cse.lehigh.edu/onto/univ-bench.owl#memberOf http://www.Department0.University0.edu\n",
      "-276 3 -2\n",
      "\n",
      "http://www.Department0.University0.edu/UndergraduateStudent213 http://swat.cse.lehigh.edu/onto/univ-bench.owl#memberOf http://www.Department0.University0.edu\n",
      "-277 3 -2\n",
      "\n",
      "http://www.Department0.University0.edu/UndergraduateStudent214 http://swat.cse.lehigh.edu/onto/univ-bench.owl#memberOf http://www.Department0.University0.edu\n",
      "-278 3 -2\n",
      "\n",
      "http://www.Department0.University0.edu/UndergraduateStudent215 http://swat.cse.lehigh.edu/onto/univ-bench.owl#memberOf http://www.Department0.University0.edu\n",
      "-279 3 -2\n",
      "\n",
      "http://www.Department0.University0.edu/UndergraduateStudent216 http://swat.cse.lehigh.edu/onto/univ-bench.owl#memberOf http://www.Department0.University0.edu\n",
      "-280 3 -2\n",
      "\n",
      "http://www.Department0.University0.edu/UndergraduateStudent217 http://swat.cse.lehigh.edu/onto/univ-bench.owl#memberOf http://www.Department0.University0.edu\n",
      "-281 3 -2\n",
      "\n",
      "http://www.Department0.University0.edu/UndergraduateStudent218 http://swat.cse.lehigh.edu/onto/univ-bench.owl#memberOf http://www.Department0.University0.edu\n",
      "-282 3 -2\n",
      "\n",
      "http://www.Department0.University0.edu/UndergraduateStudent219 http://swat.cse.lehigh.edu/onto/univ-bench.owl#memberOf http://www.Department0.University0.edu\n",
      "-283 3 -2\n",
      "\n",
      "http://www.Department0.University0.edu/UndergraduateStudent22 http://swat.cse.lehigh.edu/onto/univ-bench.owl#memberOf http://www.Department0.University0.edu\n",
      "-284 3 -2\n",
      "\n",
      "http://www.Department0.University0.edu/UndergraduateStudent220 http://swat.cse.lehigh.edu/onto/univ-bench.owl#memberOf http://www.Department0.University0.edu\n",
      "-285 3 -2\n",
      "\n",
      "http://www.Department0.University0.edu/UndergraduateStudent221 http://swat.cse.lehigh.edu/onto/univ-bench.owl#memberOf http://www.Department0.University0.edu\n",
      "-286 3 -2\n",
      "\n",
      "http://www.Department0.University0.edu/UndergraduateStudent222 http://swat.cse.lehigh.edu/onto/univ-bench.owl#memberOf http://www.Department0.University0.edu\n",
      "-287 3 -2\n",
      "\n",
      "http://www.Department0.University0.edu/UndergraduateStudent223 http://swat.cse.lehigh.edu/onto/univ-bench.owl#memberOf http://www.Department0.University0.edu\n",
      "-288 3 -2\n",
      "\n",
      "http://www.Department0.University0.edu/UndergraduateStudent224 http://swat.cse.lehigh.edu/onto/univ-bench.owl#memberOf http://www.Department0.University0.edu\n",
      "-289 3 -2\n",
      "\n",
      "http://www.Department0.University0.edu/UndergraduateStudent225 http://swat.cse.lehigh.edu/onto/univ-bench.owl#memberOf http://www.Department0.University0.edu\n",
      "-290 3 -2\n",
      "\n",
      "http://www.Department0.University0.edu/UndergraduateStudent226 http://swat.cse.lehigh.edu/onto/univ-bench.owl#memberOf http://www.Department0.University0.edu\n",
      "-291 3 -2\n",
      "\n",
      "http://www.Department0.University0.edu/UndergraduateStudent227 http://swat.cse.lehigh.edu/onto/univ-bench.owl#memberOf http://www.Department0.University0.edu\n",
      "-292 3 -2\n",
      "\n",
      "http://www.Department0.University0.edu/UndergraduateStudent228 http://swat.cse.lehigh.edu/onto/univ-bench.owl#memberOf http://www.Department0.University0.edu\n",
      "-293 3 -2\n",
      "\n",
      "http://www.Department0.University0.edu/UndergraduateStudent229 http://swat.cse.lehigh.edu/onto/univ-bench.owl#memberOf http://www.Department0.University0.edu\n",
      "-294 3 -2\n",
      "\n",
      "http://www.Department0.University0.edu/UndergraduateStudent23 http://swat.cse.lehigh.edu/onto/univ-bench.owl#memberOf http://www.Department0.University0.edu\n",
      "-295 3 -2\n",
      "\n",
      "http://www.Department0.University0.edu/UndergraduateStudent230 http://swat.cse.lehigh.edu/onto/univ-bench.owl#memberOf http://www.Department0.University0.edu\n",
      "-296 3 -2\n",
      "\n",
      "http://www.Department0.University0.edu/UndergraduateStudent231 http://swat.cse.lehigh.edu/onto/univ-bench.owl#memberOf http://www.Department0.University0.edu\n",
      "-297 3 -2\n",
      "\n",
      "http://www.Department0.University0.edu/UndergraduateStudent232 http://swat.cse.lehigh.edu/onto/univ-bench.owl#memberOf http://www.Department0.University0.edu\n",
      "-298 3 -2\n",
      "\n",
      "http://www.Department0.University0.edu/UndergraduateStudent233 http://swat.cse.lehigh.edu/onto/univ-bench.owl#memberOf http://www.Department0.University0.edu\n",
      "-299 3 -2\n",
      "\n",
      "http://www.Department0.University0.edu/UndergraduateStudent234 http://swat.cse.lehigh.edu/onto/univ-bench.owl#memberOf http://www.Department0.University0.edu\n",
      "-300 3 -2\n",
      "\n",
      "http://www.Department0.University0.edu/UndergraduateStudent235 http://swat.cse.lehigh.edu/onto/univ-bench.owl#memberOf http://www.Department0.University0.edu\n",
      "-301 3 -2\n",
      "\n",
      "http://www.Department0.University0.edu/UndergraduateStudent236 http://swat.cse.lehigh.edu/onto/univ-bench.owl#memberOf http://www.Department0.University0.edu\n",
      "-302 3 -2\n",
      "\n",
      "http://www.Department0.University0.edu/UndergraduateStudent237 http://swat.cse.lehigh.edu/onto/univ-bench.owl#memberOf http://www.Department0.University0.edu\n",
      "-303 3 -2\n",
      "\n",
      "http://www.Department0.University0.edu/UndergraduateStudent238 http://swat.cse.lehigh.edu/onto/univ-bench.owl#memberOf http://www.Department0.University0.edu\n",
      "-304 3 -2\n",
      "\n",
      "http://www.Department0.University0.edu/UndergraduateStudent239 http://swat.cse.lehigh.edu/onto/univ-bench.owl#memberOf http://www.Department0.University0.edu\n",
      "-305 3 -2\n",
      "\n",
      "http://www.Department0.University0.edu/UndergraduateStudent24 http://swat.cse.lehigh.edu/onto/univ-bench.owl#memberOf http://www.Department0.University0.edu\n",
      "-306 3 -2\n",
      "\n",
      "http://www.Department0.University0.edu/UndergraduateStudent240 http://swat.cse.lehigh.edu/onto/univ-bench.owl#memberOf http://www.Department0.University0.edu\n",
      "-307 3 -2\n",
      "\n",
      "http://www.Department0.University0.edu/UndergraduateStudent241 http://swat.cse.lehigh.edu/onto/univ-bench.owl#memberOf http://www.Department0.University0.edu\n",
      "-308 3 -2\n",
      "\n",
      "http://www.Department0.University0.edu/UndergraduateStudent242 http://swat.cse.lehigh.edu/onto/univ-bench.owl#memberOf http://www.Department0.University0.edu\n",
      "-309 3 -2\n",
      "\n",
      "http://www.Department0.University0.edu/UndergraduateStudent243 http://swat.cse.lehigh.edu/onto/univ-bench.owl#memberOf http://www.Department0.University0.edu\n",
      "-310 3 -2\n",
      "\n",
      "http://www.Department0.University0.edu/UndergraduateStudent244 http://swat.cse.lehigh.edu/onto/univ-bench.owl#memberOf http://www.Department0.University0.edu\n",
      "-311 3 -2\n",
      "\n",
      "http://www.Department0.University0.edu/UndergraduateStudent245 http://swat.cse.lehigh.edu/onto/univ-bench.owl#memberOf http://www.Department0.University0.edu\n",
      "-312 3 -2\n",
      "\n",
      "http://www.Department0.University0.edu/UndergraduateStudent246 http://swat.cse.lehigh.edu/onto/univ-bench.owl#memberOf http://www.Department0.University0.edu\n",
      "-313 3 -2\n",
      "\n",
      "http://www.Department0.University0.edu/UndergraduateStudent247 http://swat.cse.lehigh.edu/onto/univ-bench.owl#memberOf http://www.Department0.University0.edu\n",
      "-314 3 -2\n",
      "\n",
      "http://www.Department0.University0.edu/UndergraduateStudent248 http://swat.cse.lehigh.edu/onto/univ-bench.owl#memberOf http://www.Department0.University0.edu\n",
      "-315 3 -2\n",
      "\n",
      "http://www.Department0.University0.edu/UndergraduateStudent249 http://swat.cse.lehigh.edu/onto/univ-bench.owl#memberOf http://www.Department0.University0.edu\n",
      "-316 3 -2\n",
      "\n",
      "http://www.Department0.University0.edu/UndergraduateStudent25 http://swat.cse.lehigh.edu/onto/univ-bench.owl#memberOf http://www.Department0.University0.edu\n",
      "-317 3 -2\n",
      "\n",
      "http://www.Department0.University0.edu/UndergraduateStudent250 http://swat.cse.lehigh.edu/onto/univ-bench.owl#memberOf http://www.Department0.University0.edu\n",
      "-318 3 -2\n",
      "\n",
      "http://www.Department0.University0.edu/UndergraduateStudent251 http://swat.cse.lehigh.edu/onto/univ-bench.owl#memberOf http://www.Department0.University0.edu\n",
      "-319 3 -2\n",
      "\n",
      "http://www.Department0.University0.edu/UndergraduateStudent252 http://swat.cse.lehigh.edu/onto/univ-bench.owl#memberOf http://www.Department0.University0.edu\n",
      "-320 3 -2\n",
      "\n",
      "http://www.Department0.University0.edu/UndergraduateStudent253 http://swat.cse.lehigh.edu/onto/univ-bench.owl#memberOf http://www.Department0.University0.edu\n",
      "-321 3 -2\n",
      "\n",
      "http://www.Department0.University0.edu/UndergraduateStudent254 http://swat.cse.lehigh.edu/onto/univ-bench.owl#memberOf http://www.Department0.University0.edu\n",
      "-322 3 -2\n",
      "\n",
      "http://www.Department0.University0.edu/UndergraduateStudent255 http://swat.cse.lehigh.edu/onto/univ-bench.owl#memberOf http://www.Department0.University0.edu\n",
      "-323 3 -2\n",
      "\n",
      "http://www.Department0.University0.edu/UndergraduateStudent256 http://swat.cse.lehigh.edu/onto/univ-bench.owl#memberOf http://www.Department0.University0.edu\n",
      "-324 3 -2\n",
      "\n",
      "http://www.Department0.University0.edu/UndergraduateStudent257 http://swat.cse.lehigh.edu/onto/univ-bench.owl#memberOf http://www.Department0.University0.edu\n",
      "-325 3 -2\n",
      "\n",
      "http://www.Department0.University0.edu/UndergraduateStudent258 http://swat.cse.lehigh.edu/onto/univ-bench.owl#memberOf http://www.Department0.University0.edu\n",
      "-326 3 -2\n",
      "\n",
      "http://www.Department0.University0.edu/UndergraduateStudent259 http://swat.cse.lehigh.edu/onto/univ-bench.owl#memberOf http://www.Department0.University0.edu\n",
      "-327 3 -2\n",
      "\n",
      "http://www.Department0.University0.edu/UndergraduateStudent26 http://swat.cse.lehigh.edu/onto/univ-bench.owl#memberOf http://www.Department0.University0.edu\n",
      "-328 3 -2\n",
      "\n",
      "http://www.Department0.University0.edu/UndergraduateStudent260 http://swat.cse.lehigh.edu/onto/univ-bench.owl#memberOf http://www.Department0.University0.edu\n",
      "-329 3 -2\n",
      "\n",
      "http://www.Department0.University0.edu/UndergraduateStudent261 http://swat.cse.lehigh.edu/onto/univ-bench.owl#memberOf http://www.Department0.University0.edu\n",
      "-330 3 -2\n",
      "\n",
      "http://www.Department0.University0.edu/UndergraduateStudent262 http://swat.cse.lehigh.edu/onto/univ-bench.owl#memberOf http://www.Department0.University0.edu\n",
      "-331 3 -2\n",
      "\n",
      "http://www.Department0.University0.edu/UndergraduateStudent263 http://swat.cse.lehigh.edu/onto/univ-bench.owl#memberOf http://www.Department0.University0.edu\n",
      "-332 3 -2\n",
      "\n",
      "http://www.Department0.University0.edu/UndergraduateStudent264 http://swat.cse.lehigh.edu/onto/univ-bench.owl#memberOf http://www.Department0.University0.edu\n",
      "-333 3 -2\n",
      "\n",
      "http://www.Department0.University0.edu/UndergraduateStudent265 http://swat.cse.lehigh.edu/onto/univ-bench.owl#memberOf http://www.Department0.University0.edu\n",
      "-334 3 -2\n",
      "\n",
      "http://www.Department0.University0.edu/UndergraduateStudent266 http://swat.cse.lehigh.edu/onto/univ-bench.owl#memberOf http://www.Department0.University0.edu\n",
      "-335 3 -2\n",
      "\n",
      "http://www.Department0.University0.edu/UndergraduateStudent267 http://swat.cse.lehigh.edu/onto/univ-bench.owl#memberOf http://www.Department0.University0.edu\n",
      "-336 3 -2\n",
      "\n",
      "http://www.Department0.University0.edu/UndergraduateStudent268 http://swat.cse.lehigh.edu/onto/univ-bench.owl#memberOf http://www.Department0.University0.edu\n",
      "-337 3 -2\n",
      "\n",
      "http://www.Department0.University0.edu/UndergraduateStudent269 http://swat.cse.lehigh.edu/onto/univ-bench.owl#memberOf http://www.Department0.University0.edu\n",
      "-338 3 -2\n",
      "\n",
      "http://www.Department0.University0.edu/UndergraduateStudent27 http://swat.cse.lehigh.edu/onto/univ-bench.owl#memberOf http://www.Department0.University0.edu\n",
      "-339 3 -2\n",
      "\n",
      "http://www.Department0.University0.edu/UndergraduateStudent270 http://swat.cse.lehigh.edu/onto/univ-bench.owl#memberOf http://www.Department0.University0.edu\n",
      "-340 3 -2\n",
      "\n",
      "http://www.Department0.University0.edu/UndergraduateStudent271 http://swat.cse.lehigh.edu/onto/univ-bench.owl#memberOf http://www.Department0.University0.edu\n",
      "-341 3 -2\n",
      "\n",
      "http://www.Department0.University0.edu/UndergraduateStudent272 http://swat.cse.lehigh.edu/onto/univ-bench.owl#memberOf http://www.Department0.University0.edu\n",
      "-342 3 -2\n",
      "\n",
      "http://www.Department0.University0.edu/UndergraduateStudent273 http://swat.cse.lehigh.edu/onto/univ-bench.owl#memberOf http://www.Department0.University0.edu\n",
      "-343 3 -2\n",
      "\n",
      "http://www.Department0.University0.edu/UndergraduateStudent274 http://swat.cse.lehigh.edu/onto/univ-bench.owl#memberOf http://www.Department0.University0.edu\n",
      "-344 3 -2\n",
      "\n",
      "http://www.Department0.University0.edu/UndergraduateStudent275 http://swat.cse.lehigh.edu/onto/univ-bench.owl#memberOf http://www.Department0.University0.edu\n",
      "-345 3 -2\n",
      "\n",
      "http://www.Department0.University0.edu/UndergraduateStudent276 http://swat.cse.lehigh.edu/onto/univ-bench.owl#memberOf http://www.Department0.University0.edu\n",
      "-346 3 -2\n",
      "\n",
      "http://www.Department0.University0.edu/UndergraduateStudent277 http://swat.cse.lehigh.edu/onto/univ-bench.owl#memberOf http://www.Department0.University0.edu\n",
      "-347 3 -2\n",
      "\n",
      "http://www.Department0.University0.edu/UndergraduateStudent278 http://swat.cse.lehigh.edu/onto/univ-bench.owl#memberOf http://www.Department0.University0.edu\n",
      "-348 3 -2\n",
      "\n",
      "http://www.Department0.University0.edu/UndergraduateStudent279 http://swat.cse.lehigh.edu/onto/univ-bench.owl#memberOf http://www.Department0.University0.edu\n",
      "-349 3 -2\n",
      "\n",
      "http://www.Department0.University0.edu/UndergraduateStudent28 http://swat.cse.lehigh.edu/onto/univ-bench.owl#memberOf http://www.Department0.University0.edu\n",
      "-350 3 -2\n",
      "\n",
      "http://www.Department0.University0.edu/UndergraduateStudent280 http://swat.cse.lehigh.edu/onto/univ-bench.owl#memberOf http://www.Department0.University0.edu\n",
      "-351 3 -2\n",
      "\n",
      "http://www.Department0.University0.edu/UndergraduateStudent281 http://swat.cse.lehigh.edu/onto/univ-bench.owl#memberOf http://www.Department0.University0.edu\n",
      "-352 3 -2\n",
      "\n",
      "http://www.Department0.University0.edu/UndergraduateStudent282 http://swat.cse.lehigh.edu/onto/univ-bench.owl#memberOf http://www.Department0.University0.edu\n",
      "-353 3 -2\n",
      "\n",
      "http://www.Department0.University0.edu/UndergraduateStudent283 http://swat.cse.lehigh.edu/onto/univ-bench.owl#memberOf http://www.Department0.University0.edu\n",
      "-354 3 -2\n",
      "\n",
      "http://www.Department0.University0.edu/UndergraduateStudent284 http://swat.cse.lehigh.edu/onto/univ-bench.owl#memberOf http://www.Department0.University0.edu\n",
      "-355 3 -2\n",
      "\n",
      "http://www.Department0.University0.edu/UndergraduateStudent285 http://swat.cse.lehigh.edu/onto/univ-bench.owl#memberOf http://www.Department0.University0.edu\n",
      "-356 3 -2\n",
      "\n",
      "http://www.Department0.University0.edu/UndergraduateStudent286 http://swat.cse.lehigh.edu/onto/univ-bench.owl#memberOf http://www.Department0.University0.edu\n",
      "-357 3 -2\n",
      "\n",
      "http://www.Department0.University0.edu/UndergraduateStudent287 http://swat.cse.lehigh.edu/onto/univ-bench.owl#memberOf http://www.Department0.University0.edu\n",
      "-358 3 -2\n",
      "\n",
      "http://www.Department0.University0.edu/UndergraduateStudent288 http://swat.cse.lehigh.edu/onto/univ-bench.owl#memberOf http://www.Department0.University0.edu\n",
      "-359 3 -2\n",
      "\n",
      "http://www.Department0.University0.edu/UndergraduateStudent289 http://swat.cse.lehigh.edu/onto/univ-bench.owl#memberOf http://www.Department0.University0.edu\n",
      "-360 3 -2\n",
      "\n",
      "http://www.Department0.University0.edu/UndergraduateStudent29 http://swat.cse.lehigh.edu/onto/univ-bench.owl#memberOf http://www.Department0.University0.edu\n",
      "-361 3 -2\n",
      "\n",
      "http://www.Department0.University0.edu/UndergraduateStudent290 http://swat.cse.lehigh.edu/onto/univ-bench.owl#memberOf http://www.Department0.University0.edu\n",
      "-362 3 -2\n",
      "\n",
      "http://www.Department0.University0.edu/UndergraduateStudent291 http://swat.cse.lehigh.edu/onto/univ-bench.owl#memberOf http://www.Department0.University0.edu\n",
      "-363 3 -2\n",
      "\n",
      "http://www.Department0.University0.edu/UndergraduateStudent292 http://swat.cse.lehigh.edu/onto/univ-bench.owl#memberOf http://www.Department0.University0.edu\n",
      "-364 3 -2\n",
      "\n",
      "http://www.Department0.University0.edu/UndergraduateStudent293 http://swat.cse.lehigh.edu/onto/univ-bench.owl#memberOf http://www.Department0.University0.edu\n",
      "-365 3 -2\n",
      "\n",
      "http://www.Department0.University0.edu/UndergraduateStudent294 http://swat.cse.lehigh.edu/onto/univ-bench.owl#memberOf http://www.Department0.University0.edu\n",
      "-366 3 -2\n",
      "\n",
      "http://www.Department0.University0.edu/UndergraduateStudent295 http://swat.cse.lehigh.edu/onto/univ-bench.owl#memberOf http://www.Department0.University0.edu\n",
      "-367 3 -2\n",
      "\n",
      "http://www.Department0.University0.edu/UndergraduateStudent296 http://swat.cse.lehigh.edu/onto/univ-bench.owl#memberOf http://www.Department0.University0.edu\n",
      "-368 3 -2\n",
      "\n",
      "http://www.Department0.University0.edu/UndergraduateStudent297 http://swat.cse.lehigh.edu/onto/univ-bench.owl#memberOf http://www.Department0.University0.edu\n",
      "-369 3 -2\n",
      "\n",
      "http://www.Department0.University0.edu/UndergraduateStudent298 http://swat.cse.lehigh.edu/onto/univ-bench.owl#memberOf http://www.Department0.University0.edu\n",
      "-370 3 -2\n",
      "\n",
      "http://www.Department0.University0.edu/UndergraduateStudent299 http://swat.cse.lehigh.edu/onto/univ-bench.owl#memberOf http://www.Department0.University0.edu\n",
      "-371 3 -2\n",
      "\n",
      "http://www.Department0.University0.edu/UndergraduateStudent3 http://swat.cse.lehigh.edu/onto/univ-bench.owl#memberOf http://www.Department0.University0.edu\n",
      "-372 3 -2\n",
      "\n",
      "http://www.Department0.University0.edu/UndergraduateStudent30 http://swat.cse.lehigh.edu/onto/univ-bench.owl#memberOf http://www.Department0.University0.edu\n",
      "-373 3 -2\n",
      "\n",
      "http://www.Department0.University0.edu/UndergraduateStudent300 http://swat.cse.lehigh.edu/onto/univ-bench.owl#memberOf http://www.Department0.University0.edu\n",
      "-374 3 -2\n",
      "\n",
      "http://www.Department0.University0.edu/UndergraduateStudent301 http://swat.cse.lehigh.edu/onto/univ-bench.owl#memberOf http://www.Department0.University0.edu\n",
      "-375 3 -2\n",
      "\n",
      "http://www.Department0.University0.edu/UndergraduateStudent302 http://swat.cse.lehigh.edu/onto/univ-bench.owl#memberOf http://www.Department0.University0.edu\n",
      "-376 3 -2\n",
      "\n",
      "http://www.Department0.University0.edu/UndergraduateStudent303 http://swat.cse.lehigh.edu/onto/univ-bench.owl#memberOf http://www.Department0.University0.edu\n",
      "-377 3 -2\n",
      "\n",
      "http://www.Department0.University0.edu/UndergraduateStudent304 http://swat.cse.lehigh.edu/onto/univ-bench.owl#memberOf http://www.Department0.University0.edu\n",
      "-378 3 -2\n",
      "\n",
      "http://www.Department0.University0.edu/UndergraduateStudent305 http://swat.cse.lehigh.edu/onto/univ-bench.owl#memberOf http://www.Department0.University0.edu\n",
      "-379 3 -2\n",
      "\n",
      "http://www.Department0.University0.edu/UndergraduateStudent306 http://swat.cse.lehigh.edu/onto/univ-bench.owl#memberOf http://www.Department0.University0.edu\n",
      "-380 3 -2\n",
      "\n",
      "http://www.Department0.University0.edu/UndergraduateStudent307 http://swat.cse.lehigh.edu/onto/univ-bench.owl#memberOf http://www.Department0.University0.edu\n",
      "-381 3 -2\n",
      "\n",
      "http://www.Department0.University0.edu/UndergraduateStudent308 http://swat.cse.lehigh.edu/onto/univ-bench.owl#memberOf http://www.Department0.University0.edu\n",
      "-382 3 -2\n",
      "\n",
      "http://www.Department0.University0.edu/UndergraduateStudent309 http://swat.cse.lehigh.edu/onto/univ-bench.owl#memberOf http://www.Department0.University0.edu\n",
      "-383 3 -2\n",
      "\n",
      "http://www.Department0.University0.edu/UndergraduateStudent31 http://swat.cse.lehigh.edu/onto/univ-bench.owl#memberOf http://www.Department0.University0.edu\n",
      "-384 3 -2\n",
      "\n",
      "http://www.Department0.University0.edu/UndergraduateStudent310 http://swat.cse.lehigh.edu/onto/univ-bench.owl#memberOf http://www.Department0.University0.edu\n",
      "-385 3 -2\n",
      "\n",
      "http://www.Department0.University0.edu/UndergraduateStudent311 http://swat.cse.lehigh.edu/onto/univ-bench.owl#memberOf http://www.Department0.University0.edu\n",
      "-386 3 -2\n",
      "\n",
      "http://www.Department0.University0.edu/UndergraduateStudent312 http://swat.cse.lehigh.edu/onto/univ-bench.owl#memberOf http://www.Department0.University0.edu\n",
      "-387 3 -2\n",
      "\n",
      "http://www.Department0.University0.edu/UndergraduateStudent313 http://swat.cse.lehigh.edu/onto/univ-bench.owl#memberOf http://www.Department0.University0.edu\n",
      "-388 3 -2\n",
      "\n",
      "http://www.Department0.University0.edu/UndergraduateStudent314 http://swat.cse.lehigh.edu/onto/univ-bench.owl#memberOf http://www.Department0.University0.edu\n",
      "-389 3 -2\n",
      "\n",
      "http://www.Department0.University0.edu/UndergraduateStudent315 http://swat.cse.lehigh.edu/onto/univ-bench.owl#memberOf http://www.Department0.University0.edu\n",
      "-390 3 -2\n",
      "\n",
      "http://www.Department0.University0.edu/UndergraduateStudent316 http://swat.cse.lehigh.edu/onto/univ-bench.owl#memberOf http://www.Department0.University0.edu\n",
      "-391 3 -2\n",
      "\n",
      "http://www.Department0.University0.edu/UndergraduateStudent317 http://swat.cse.lehigh.edu/onto/univ-bench.owl#memberOf http://www.Department0.University0.edu\n",
      "-392 3 -2\n",
      "\n",
      "http://www.Department0.University0.edu/UndergraduateStudent318 http://swat.cse.lehigh.edu/onto/univ-bench.owl#memberOf http://www.Department0.University0.edu\n",
      "-393 3 -2\n",
      "\n",
      "http://www.Department0.University0.edu/UndergraduateStudent319 http://swat.cse.lehigh.edu/onto/univ-bench.owl#memberOf http://www.Department0.University0.edu\n",
      "-394 3 -2\n",
      "\n",
      "http://www.Department0.University0.edu/UndergraduateStudent32 http://swat.cse.lehigh.edu/onto/univ-bench.owl#memberOf http://www.Department0.University0.edu\n",
      "-395 3 -2\n",
      "\n",
      "http://www.Department0.University0.edu/UndergraduateStudent320 http://swat.cse.lehigh.edu/onto/univ-bench.owl#memberOf http://www.Department0.University0.edu\n",
      "-396 3 -2\n",
      "\n",
      "http://www.Department0.University0.edu/UndergraduateStudent321 http://swat.cse.lehigh.edu/onto/univ-bench.owl#memberOf http://www.Department0.University0.edu\n",
      "-397 3 -2\n",
      "\n",
      "http://www.Department0.University0.edu/UndergraduateStudent322 http://swat.cse.lehigh.edu/onto/univ-bench.owl#memberOf http://www.Department0.University0.edu\n",
      "-398 3 -2\n",
      "\n",
      "http://www.Department0.University0.edu/UndergraduateStudent323 http://swat.cse.lehigh.edu/onto/univ-bench.owl#memberOf http://www.Department0.University0.edu\n",
      "-399 3 -2\n",
      "\n",
      "http://www.Department0.University0.edu/UndergraduateStudent324 http://swat.cse.lehigh.edu/onto/univ-bench.owl#memberOf http://www.Department0.University0.edu\n",
      "-400 3 -2\n",
      "\n",
      "http://www.Department0.University0.edu/UndergraduateStudent325 http://swat.cse.lehigh.edu/onto/univ-bench.owl#memberOf http://www.Department0.University0.edu\n",
      "-401 3 -2\n",
      "\n",
      "http://www.Department0.University0.edu/UndergraduateStudent326 http://swat.cse.lehigh.edu/onto/univ-bench.owl#memberOf http://www.Department0.University0.edu\n",
      "-402 3 -2\n",
      "\n",
      "http://www.Department0.University0.edu/UndergraduateStudent327 http://swat.cse.lehigh.edu/onto/univ-bench.owl#memberOf http://www.Department0.University0.edu\n",
      "-403 3 -2\n",
      "\n",
      "http://www.Department0.University0.edu/UndergraduateStudent328 http://swat.cse.lehigh.edu/onto/univ-bench.owl#memberOf http://www.Department0.University0.edu\n",
      "-404 3 -2\n",
      "\n",
      "http://www.Department0.University0.edu/UndergraduateStudent329 http://swat.cse.lehigh.edu/onto/univ-bench.owl#memberOf http://www.Department0.University0.edu\n",
      "-405 3 -2\n",
      "\n",
      "http://www.Department0.University0.edu/UndergraduateStudent33 http://swat.cse.lehigh.edu/onto/univ-bench.owl#memberOf http://www.Department0.University0.edu\n",
      "-406 3 -2\n",
      "\n",
      "http://www.Department0.University0.edu/UndergraduateStudent330 http://swat.cse.lehigh.edu/onto/univ-bench.owl#memberOf http://www.Department0.University0.edu\n",
      "-407 3 -2\n",
      "\n",
      "http://www.Department0.University0.edu/UndergraduateStudent331 http://swat.cse.lehigh.edu/onto/univ-bench.owl#memberOf http://www.Department0.University0.edu\n",
      "-408 3 -2\n",
      "\n",
      "http://www.Department0.University0.edu/UndergraduateStudent332 http://swat.cse.lehigh.edu/onto/univ-bench.owl#memberOf http://www.Department0.University0.edu\n",
      "-409 3 -2\n",
      "\n",
      "http://www.Department0.University0.edu/UndergraduateStudent333 http://swat.cse.lehigh.edu/onto/univ-bench.owl#memberOf http://www.Department0.University0.edu\n",
      "-410 3 -2\n",
      "\n",
      "http://www.Department0.University0.edu/UndergraduateStudent334 http://swat.cse.lehigh.edu/onto/univ-bench.owl#memberOf http://www.Department0.University0.edu\n",
      "-411 3 -2\n",
      "\n",
      "http://www.Department0.University0.edu/UndergraduateStudent335 http://swat.cse.lehigh.edu/onto/univ-bench.owl#memberOf http://www.Department0.University0.edu\n",
      "-412 3 -2\n",
      "\n",
      "http://www.Department0.University0.edu/UndergraduateStudent336 http://swat.cse.lehigh.edu/onto/univ-bench.owl#memberOf http://www.Department0.University0.edu\n",
      "-413 3 -2\n",
      "\n",
      "http://www.Department0.University0.edu/UndergraduateStudent337 http://swat.cse.lehigh.edu/onto/univ-bench.owl#memberOf http://www.Department0.University0.edu\n",
      "-414 3 -2\n",
      "\n",
      "http://www.Department0.University0.edu/UndergraduateStudent338 http://swat.cse.lehigh.edu/onto/univ-bench.owl#memberOf http://www.Department0.University0.edu\n",
      "-415 3 -2\n",
      "\n",
      "http://www.Department0.University0.edu/UndergraduateStudent339 http://swat.cse.lehigh.edu/onto/univ-bench.owl#memberOf http://www.Department0.University0.edu\n",
      "-416 3 -2\n",
      "\n",
      "http://www.Department0.University0.edu/UndergraduateStudent34 http://swat.cse.lehigh.edu/onto/univ-bench.owl#memberOf http://www.Department0.University0.edu\n",
      "-417 3 -2\n",
      "\n",
      "http://www.Department0.University0.edu/UndergraduateStudent340 http://swat.cse.lehigh.edu/onto/univ-bench.owl#memberOf http://www.Department0.University0.edu\n",
      "-418 3 -2\n",
      "\n",
      "http://www.Department0.University0.edu/UndergraduateStudent341 http://swat.cse.lehigh.edu/onto/univ-bench.owl#memberOf http://www.Department0.University0.edu\n",
      "-419 3 -2\n",
      "\n",
      "http://www.Department0.University0.edu/UndergraduateStudent342 http://swat.cse.lehigh.edu/onto/univ-bench.owl#memberOf http://www.Department0.University0.edu\n",
      "-420 3 -2\n",
      "\n",
      "http://www.Department0.University0.edu/UndergraduateStudent343 http://swat.cse.lehigh.edu/onto/univ-bench.owl#memberOf http://www.Department0.University0.edu\n",
      "-421 3 -2\n",
      "\n",
      "http://www.Department0.University0.edu/UndergraduateStudent344 http://swat.cse.lehigh.edu/onto/univ-bench.owl#memberOf http://www.Department0.University0.edu\n",
      "-422 3 -2\n",
      "\n",
      "http://www.Department0.University0.edu/UndergraduateStudent345 http://swat.cse.lehigh.edu/onto/univ-bench.owl#memberOf http://www.Department0.University0.edu\n",
      "-423 3 -2\n",
      "\n",
      "http://www.Department0.University0.edu/UndergraduateStudent346 http://swat.cse.lehigh.edu/onto/univ-bench.owl#memberOf http://www.Department0.University0.edu\n",
      "-424 3 -2\n",
      "\n",
      "http://www.Department0.University0.edu/UndergraduateStudent347 http://swat.cse.lehigh.edu/onto/univ-bench.owl#memberOf http://www.Department0.University0.edu\n",
      "-425 3 -2\n",
      "\n",
      "http://www.Department0.University0.edu/UndergraduateStudent348 http://swat.cse.lehigh.edu/onto/univ-bench.owl#memberOf http://www.Department0.University0.edu\n",
      "-426 3 -2\n",
      "\n",
      "http://www.Department0.University0.edu/UndergraduateStudent349 http://swat.cse.lehigh.edu/onto/univ-bench.owl#memberOf http://www.Department0.University0.edu\n",
      "-427 3 -2\n",
      "\n",
      "http://www.Department0.University0.edu/UndergraduateStudent35 http://swat.cse.lehigh.edu/onto/univ-bench.owl#memberOf http://www.Department0.University0.edu\n",
      "-428 3 -2\n",
      "\n",
      "http://www.Department0.University0.edu/UndergraduateStudent350 http://swat.cse.lehigh.edu/onto/univ-bench.owl#memberOf http://www.Department0.University0.edu\n",
      "-429 3 -2\n",
      "\n",
      "http://www.Department0.University0.edu/UndergraduateStudent351 http://swat.cse.lehigh.edu/onto/univ-bench.owl#memberOf http://www.Department0.University0.edu\n",
      "-430 3 -2\n",
      "\n",
      "http://www.Department0.University0.edu/UndergraduateStudent352 http://swat.cse.lehigh.edu/onto/univ-bench.owl#memberOf http://www.Department0.University0.edu\n",
      "-431 3 -2\n",
      "\n",
      "http://www.Department0.University0.edu/UndergraduateStudent353 http://swat.cse.lehigh.edu/onto/univ-bench.owl#memberOf http://www.Department0.University0.edu\n",
      "-432 3 -2\n",
      "\n",
      "http://www.Department0.University0.edu/UndergraduateStudent354 http://swat.cse.lehigh.edu/onto/univ-bench.owl#memberOf http://www.Department0.University0.edu\n",
      "-433 3 -2\n",
      "\n",
      "http://www.Department0.University0.edu/UndergraduateStudent355 http://swat.cse.lehigh.edu/onto/univ-bench.owl#memberOf http://www.Department0.University0.edu\n",
      "-434 3 -2\n",
      "\n",
      "http://www.Department0.University0.edu/UndergraduateStudent356 http://swat.cse.lehigh.edu/onto/univ-bench.owl#memberOf http://www.Department0.University0.edu\n",
      "-435 3 -2\n",
      "\n",
      "http://www.Department0.University0.edu/UndergraduateStudent357 http://swat.cse.lehigh.edu/onto/univ-bench.owl#memberOf http://www.Department0.University0.edu\n",
      "-436 3 -2\n",
      "\n",
      "http://www.Department0.University0.edu/UndergraduateStudent358 http://swat.cse.lehigh.edu/onto/univ-bench.owl#memberOf http://www.Department0.University0.edu\n",
      "-437 3 -2\n",
      "\n",
      "http://www.Department0.University0.edu/UndergraduateStudent359 http://swat.cse.lehigh.edu/onto/univ-bench.owl#memberOf http://www.Department0.University0.edu\n",
      "-438 3 -2\n",
      "\n",
      "http://www.Department0.University0.edu/UndergraduateStudent36 http://swat.cse.lehigh.edu/onto/univ-bench.owl#memberOf http://www.Department0.University0.edu\n",
      "-439 3 -2\n",
      "\n",
      "http://www.Department0.University0.edu/UndergraduateStudent360 http://swat.cse.lehigh.edu/onto/univ-bench.owl#memberOf http://www.Department0.University0.edu\n",
      "-440 3 -2\n",
      "\n",
      "http://www.Department0.University0.edu/UndergraduateStudent361 http://swat.cse.lehigh.edu/onto/univ-bench.owl#memberOf http://www.Department0.University0.edu\n",
      "-441 3 -2\n",
      "\n",
      "http://www.Department0.University0.edu/UndergraduateStudent362 http://swat.cse.lehigh.edu/onto/univ-bench.owl#memberOf http://www.Department0.University0.edu\n",
      "-442 3 -2\n",
      "\n",
      "http://www.Department0.University0.edu/UndergraduateStudent363 http://swat.cse.lehigh.edu/onto/univ-bench.owl#memberOf http://www.Department0.University0.edu\n",
      "-443 3 -2\n",
      "\n",
      "http://www.Department0.University0.edu/UndergraduateStudent364 http://swat.cse.lehigh.edu/onto/univ-bench.owl#memberOf http://www.Department0.University0.edu\n",
      "-444 3 -2\n",
      "\n",
      "http://www.Department0.University0.edu/UndergraduateStudent365 http://swat.cse.lehigh.edu/onto/univ-bench.owl#memberOf http://www.Department0.University0.edu\n",
      "-445 3 -2\n",
      "\n",
      "http://www.Department0.University0.edu/UndergraduateStudent366 http://swat.cse.lehigh.edu/onto/univ-bench.owl#memberOf http://www.Department0.University0.edu\n",
      "-446 3 -2\n",
      "\n",
      "http://www.Department0.University0.edu/UndergraduateStudent367 http://swat.cse.lehigh.edu/onto/univ-bench.owl#memberOf http://www.Department0.University0.edu\n",
      "-447 3 -2\n",
      "\n",
      "http://www.Department0.University0.edu/UndergraduateStudent368 http://swat.cse.lehigh.edu/onto/univ-bench.owl#memberOf http://www.Department0.University0.edu\n",
      "-448 3 -2\n",
      "\n",
      "http://www.Department0.University0.edu/UndergraduateStudent369 http://swat.cse.lehigh.edu/onto/univ-bench.owl#memberOf http://www.Department0.University0.edu\n",
      "-449 3 -2\n",
      "\n",
      "http://www.Department0.University0.edu/UndergraduateStudent37 http://swat.cse.lehigh.edu/onto/univ-bench.owl#memberOf http://www.Department0.University0.edu\n",
      "-450 3 -2\n",
      "\n",
      "http://www.Department0.University0.edu/UndergraduateStudent370 http://swat.cse.lehigh.edu/onto/univ-bench.owl#memberOf http://www.Department0.University0.edu\n",
      "-451 3 -2\n",
      "\n",
      "http://www.Department0.University0.edu/UndergraduateStudent371 http://swat.cse.lehigh.edu/onto/univ-bench.owl#memberOf http://www.Department0.University0.edu\n",
      "-452 3 -2\n",
      "\n",
      "http://www.Department0.University0.edu/UndergraduateStudent372 http://swat.cse.lehigh.edu/onto/univ-bench.owl#memberOf http://www.Department0.University0.edu\n",
      "-453 3 -2\n",
      "\n",
      "http://www.Department0.University0.edu/UndergraduateStudent373 http://swat.cse.lehigh.edu/onto/univ-bench.owl#memberOf http://www.Department0.University0.edu\n",
      "-454 3 -2\n",
      "\n",
      "http://www.Department0.University0.edu/UndergraduateStudent374 http://swat.cse.lehigh.edu/onto/univ-bench.owl#memberOf http://www.Department0.University0.edu\n",
      "-455 3 -2\n",
      "\n",
      "http://www.Department0.University0.edu/UndergraduateStudent375 http://swat.cse.lehigh.edu/onto/univ-bench.owl#memberOf http://www.Department0.University0.edu\n",
      "-456 3 -2\n",
      "\n",
      "http://www.Department0.University0.edu/UndergraduateStudent376 http://swat.cse.lehigh.edu/onto/univ-bench.owl#memberOf http://www.Department0.University0.edu\n",
      "-457 3 -2\n",
      "\n",
      "http://www.Department0.University0.edu/UndergraduateStudent377 http://swat.cse.lehigh.edu/onto/univ-bench.owl#memberOf http://www.Department0.University0.edu\n",
      "-458 3 -2\n",
      "\n",
      "http://www.Department0.University0.edu/UndergraduateStudent378 http://swat.cse.lehigh.edu/onto/univ-bench.owl#memberOf http://www.Department0.University0.edu\n",
      "-459 3 -2\n",
      "\n",
      "http://www.Department0.University0.edu/UndergraduateStudent379 http://swat.cse.lehigh.edu/onto/univ-bench.owl#memberOf http://www.Department0.University0.edu\n",
      "-460 3 -2\n",
      "\n",
      "http://www.Department0.University0.edu/UndergraduateStudent38 http://swat.cse.lehigh.edu/onto/univ-bench.owl#memberOf http://www.Department0.University0.edu\n",
      "-461 3 -2\n",
      "\n",
      "http://www.Department0.University0.edu/UndergraduateStudent380 http://swat.cse.lehigh.edu/onto/univ-bench.owl#memberOf http://www.Department0.University0.edu\n",
      "-462 3 -2\n",
      "\n",
      "http://www.Department0.University0.edu/UndergraduateStudent381 http://swat.cse.lehigh.edu/onto/univ-bench.owl#memberOf http://www.Department0.University0.edu\n",
      "-463 3 -2\n",
      "\n",
      "http://www.Department0.University0.edu/UndergraduateStudent382 http://swat.cse.lehigh.edu/onto/univ-bench.owl#memberOf http://www.Department0.University0.edu\n",
      "-464 3 -2\n",
      "\n",
      "http://www.Department0.University0.edu/UndergraduateStudent383 http://swat.cse.lehigh.edu/onto/univ-bench.owl#memberOf http://www.Department0.University0.edu\n",
      "-465 3 -2\n",
      "\n",
      "http://www.Department0.University0.edu/UndergraduateStudent384 http://swat.cse.lehigh.edu/onto/univ-bench.owl#memberOf http://www.Department0.University0.edu\n",
      "-466 3 -2\n",
      "\n",
      "http://www.Department0.University0.edu/UndergraduateStudent385 http://swat.cse.lehigh.edu/onto/univ-bench.owl#memberOf http://www.Department0.University0.edu\n",
      "-467 3 -2\n",
      "\n",
      "http://www.Department0.University0.edu/UndergraduateStudent386 http://swat.cse.lehigh.edu/onto/univ-bench.owl#memberOf http://www.Department0.University0.edu\n",
      "-468 3 -2\n",
      "\n",
      "http://www.Department0.University0.edu/UndergraduateStudent387 http://swat.cse.lehigh.edu/onto/univ-bench.owl#memberOf http://www.Department0.University0.edu\n",
      "-469 3 -2\n",
      "\n",
      "http://www.Department0.University0.edu/UndergraduateStudent388 http://swat.cse.lehigh.edu/onto/univ-bench.owl#memberOf http://www.Department0.University0.edu\n",
      "-470 3 -2\n",
      "\n",
      "http://www.Department0.University0.edu/UndergraduateStudent389 http://swat.cse.lehigh.edu/onto/univ-bench.owl#memberOf http://www.Department0.University0.edu\n",
      "-471 3 -2\n",
      "\n",
      "http://www.Department0.University0.edu/UndergraduateStudent39 http://swat.cse.lehigh.edu/onto/univ-bench.owl#memberOf http://www.Department0.University0.edu\n",
      "-472 3 -2\n",
      "\n",
      "http://www.Department0.University0.edu/UndergraduateStudent390 http://swat.cse.lehigh.edu/onto/univ-bench.owl#memberOf http://www.Department0.University0.edu\n",
      "-473 3 -2\n",
      "\n",
      "http://www.Department0.University0.edu/UndergraduateStudent391 http://swat.cse.lehigh.edu/onto/univ-bench.owl#memberOf http://www.Department0.University0.edu\n",
      "-474 3 -2\n",
      "\n",
      "http://www.Department0.University0.edu/UndergraduateStudent392 http://swat.cse.lehigh.edu/onto/univ-bench.owl#memberOf http://www.Department0.University0.edu\n",
      "-475 3 -2\n",
      "\n",
      "http://www.Department0.University0.edu/UndergraduateStudent393 http://swat.cse.lehigh.edu/onto/univ-bench.owl#memberOf http://www.Department0.University0.edu\n",
      "-476 3 -2\n",
      "\n",
      "http://www.Department0.University0.edu/UndergraduateStudent394 http://swat.cse.lehigh.edu/onto/univ-bench.owl#memberOf http://www.Department0.University0.edu\n",
      "-477 3 -2\n",
      "\n",
      "http://www.Department0.University0.edu/UndergraduateStudent395 http://swat.cse.lehigh.edu/onto/univ-bench.owl#memberOf http://www.Department0.University0.edu\n",
      "-478 3 -2\n",
      "\n",
      "http://www.Department0.University0.edu/UndergraduateStudent396 http://swat.cse.lehigh.edu/onto/univ-bench.owl#memberOf http://www.Department0.University0.edu\n",
      "-479 3 -2\n",
      "\n",
      "http://www.Department0.University0.edu/UndergraduateStudent397 http://swat.cse.lehigh.edu/onto/univ-bench.owl#memberOf http://www.Department0.University0.edu\n",
      "-480 3 -2\n",
      "\n",
      "http://www.Department0.University0.edu/UndergraduateStudent398 http://swat.cse.lehigh.edu/onto/univ-bench.owl#memberOf http://www.Department0.University0.edu\n",
      "-481 3 -2\n",
      "\n",
      "http://www.Department0.University0.edu/UndergraduateStudent399 http://swat.cse.lehigh.edu/onto/univ-bench.owl#memberOf http://www.Department0.University0.edu\n",
      "-482 3 -2\n",
      "\n",
      "http://www.Department0.University0.edu/UndergraduateStudent4 http://swat.cse.lehigh.edu/onto/univ-bench.owl#memberOf http://www.Department0.University0.edu\n",
      "-483 3 -2\n",
      "\n",
      "http://www.Department0.University0.edu/UndergraduateStudent40 http://swat.cse.lehigh.edu/onto/univ-bench.owl#memberOf http://www.Department0.University0.edu\n",
      "-484 3 -2\n",
      "\n",
      "http://www.Department0.University0.edu/UndergraduateStudent400 http://swat.cse.lehigh.edu/onto/univ-bench.owl#memberOf http://www.Department0.University0.edu\n",
      "-485 3 -2\n",
      "\n",
      "http://www.Department0.University0.edu/UndergraduateStudent401 http://swat.cse.lehigh.edu/onto/univ-bench.owl#memberOf http://www.Department0.University0.edu\n",
      "-486 3 -2\n",
      "\n",
      "http://www.Department0.University0.edu/UndergraduateStudent402 http://swat.cse.lehigh.edu/onto/univ-bench.owl#memberOf http://www.Department0.University0.edu\n",
      "-487 3 -2\n",
      "\n",
      "http://www.Department0.University0.edu/UndergraduateStudent403 http://swat.cse.lehigh.edu/onto/univ-bench.owl#memberOf http://www.Department0.University0.edu\n",
      "-488 3 -2\n",
      "\n",
      "http://www.Department0.University0.edu/UndergraduateStudent404 http://swat.cse.lehigh.edu/onto/univ-bench.owl#memberOf http://www.Department0.University0.edu\n",
      "-489 3 -2\n",
      "\n",
      "http://www.Department0.University0.edu/UndergraduateStudent405 http://swat.cse.lehigh.edu/onto/univ-bench.owl#memberOf http://www.Department0.University0.edu\n",
      "-490 3 -2\n",
      "\n",
      "http://www.Department0.University0.edu/UndergraduateStudent406 http://swat.cse.lehigh.edu/onto/univ-bench.owl#memberOf http://www.Department0.University0.edu\n",
      "-491 3 -2\n",
      "\n",
      "http://www.Department0.University0.edu/UndergraduateStudent407 http://swat.cse.lehigh.edu/onto/univ-bench.owl#memberOf http://www.Department0.University0.edu\n",
      "-492 3 -2\n",
      "\n",
      "http://www.Department0.University0.edu/UndergraduateStudent408 http://swat.cse.lehigh.edu/onto/univ-bench.owl#memberOf http://www.Department0.University0.edu\n",
      "-493 3 -2\n",
      "\n",
      "http://www.Department0.University0.edu/UndergraduateStudent409 http://swat.cse.lehigh.edu/onto/univ-bench.owl#memberOf http://www.Department0.University0.edu\n",
      "-494 3 -2\n",
      "\n",
      "http://www.Department0.University0.edu/UndergraduateStudent41 http://swat.cse.lehigh.edu/onto/univ-bench.owl#memberOf http://www.Department0.University0.edu\n",
      "-495 3 -2\n",
      "\n",
      "http://www.Department0.University0.edu/UndergraduateStudent410 http://swat.cse.lehigh.edu/onto/univ-bench.owl#memberOf http://www.Department0.University0.edu\n",
      "-496 3 -2\n",
      "\n",
      "http://www.Department0.University0.edu/UndergraduateStudent411 http://swat.cse.lehigh.edu/onto/univ-bench.owl#memberOf http://www.Department0.University0.edu\n",
      "-497 3 -2\n",
      "\n",
      "http://www.Department0.University0.edu/UndergraduateStudent412 http://swat.cse.lehigh.edu/onto/univ-bench.owl#memberOf http://www.Department0.University0.edu\n",
      "-498 3 -2\n",
      "\n",
      "http://www.Department0.University0.edu/UndergraduateStudent413 http://swat.cse.lehigh.edu/onto/univ-bench.owl#memberOf http://www.Department0.University0.edu\n",
      "-499 3 -2\n",
      "\n",
      "http://www.Department0.University0.edu/UndergraduateStudent414 http://swat.cse.lehigh.edu/onto/univ-bench.owl#memberOf http://www.Department0.University0.edu\n",
      "-500 3 -2\n",
      "\n",
      "http://www.Department0.University0.edu/UndergraduateStudent415 http://swat.cse.lehigh.edu/onto/univ-bench.owl#memberOf http://www.Department0.University0.edu\n",
      "-501 3 -2\n",
      "\n",
      "http://www.Department0.University0.edu/UndergraduateStudent416 http://swat.cse.lehigh.edu/onto/univ-bench.owl#memberOf http://www.Department0.University0.edu\n",
      "-502 3 -2\n",
      "\n",
      "http://www.Department0.University0.edu/UndergraduateStudent417 http://swat.cse.lehigh.edu/onto/univ-bench.owl#memberOf http://www.Department0.University0.edu\n",
      "-503 3 -2\n",
      "\n",
      "http://www.Department0.University0.edu/UndergraduateStudent418 http://swat.cse.lehigh.edu/onto/univ-bench.owl#memberOf http://www.Department0.University0.edu\n",
      "-504 3 -2\n",
      "\n",
      "http://www.Department0.University0.edu/UndergraduateStudent419 http://swat.cse.lehigh.edu/onto/univ-bench.owl#memberOf http://www.Department0.University0.edu\n",
      "-505 3 -2\n",
      "\n",
      "http://www.Department0.University0.edu/UndergraduateStudent42 http://swat.cse.lehigh.edu/onto/univ-bench.owl#memberOf http://www.Department0.University0.edu\n",
      "-506 3 -2\n",
      "\n",
      "http://www.Department0.University0.edu/UndergraduateStudent420 http://swat.cse.lehigh.edu/onto/univ-bench.owl#memberOf http://www.Department0.University0.edu\n",
      "-507 3 -2\n",
      "\n",
      "http://www.Department0.University0.edu/UndergraduateStudent421 http://swat.cse.lehigh.edu/onto/univ-bench.owl#memberOf http://www.Department0.University0.edu\n",
      "-508 3 -2\n",
      "\n",
      "http://www.Department0.University0.edu/UndergraduateStudent422 http://swat.cse.lehigh.edu/onto/univ-bench.owl#memberOf http://www.Department0.University0.edu\n",
      "-509 3 -2\n",
      "\n",
      "http://www.Department0.University0.edu/UndergraduateStudent423 http://swat.cse.lehigh.edu/onto/univ-bench.owl#memberOf http://www.Department0.University0.edu\n",
      "-510 3 -2\n",
      "\n",
      "http://www.Department0.University0.edu/UndergraduateStudent424 http://swat.cse.lehigh.edu/onto/univ-bench.owl#memberOf http://www.Department0.University0.edu\n",
      "-511 3 -2\n",
      "\n",
      "http://www.Department0.University0.edu/UndergraduateStudent425 http://swat.cse.lehigh.edu/onto/univ-bench.owl#memberOf http://www.Department0.University0.edu\n",
      "-512 3 -2\n",
      "\n",
      "http://www.Department0.University0.edu/UndergraduateStudent426 http://swat.cse.lehigh.edu/onto/univ-bench.owl#memberOf http://www.Department0.University0.edu\n",
      "-513 3 -2\n",
      "\n",
      "http://www.Department0.University0.edu/UndergraduateStudent427 http://swat.cse.lehigh.edu/onto/univ-bench.owl#memberOf http://www.Department0.University0.edu\n",
      "-514 3 -2\n",
      "\n",
      "http://www.Department0.University0.edu/UndergraduateStudent428 http://swat.cse.lehigh.edu/onto/univ-bench.owl#memberOf http://www.Department0.University0.edu\n",
      "-515 3 -2\n",
      "\n",
      "http://www.Department0.University0.edu/UndergraduateStudent429 http://swat.cse.lehigh.edu/onto/univ-bench.owl#memberOf http://www.Department0.University0.edu\n",
      "-516 3 -2\n",
      "\n",
      "http://www.Department0.University0.edu/UndergraduateStudent43 http://swat.cse.lehigh.edu/onto/univ-bench.owl#memberOf http://www.Department0.University0.edu\n",
      "-517 3 -2\n",
      "\n",
      "http://www.Department0.University0.edu/UndergraduateStudent430 http://swat.cse.lehigh.edu/onto/univ-bench.owl#memberOf http://www.Department0.University0.edu\n",
      "-518 3 -2\n",
      "\n",
      "http://www.Department0.University0.edu/UndergraduateStudent431 http://swat.cse.lehigh.edu/onto/univ-bench.owl#memberOf http://www.Department0.University0.edu\n",
      "-519 3 -2\n",
      "\n",
      "http://www.Department0.University0.edu/UndergraduateStudent432 http://swat.cse.lehigh.edu/onto/univ-bench.owl#memberOf http://www.Department0.University0.edu\n",
      "-520 3 -2\n",
      "\n",
      "http://www.Department0.University0.edu/UndergraduateStudent433 http://swat.cse.lehigh.edu/onto/univ-bench.owl#memberOf http://www.Department0.University0.edu\n",
      "-521 3 -2\n",
      "\n",
      "http://www.Department0.University0.edu/UndergraduateStudent434 http://swat.cse.lehigh.edu/onto/univ-bench.owl#memberOf http://www.Department0.University0.edu\n",
      "-522 3 -2\n",
      "\n",
      "http://www.Department0.University0.edu/UndergraduateStudent435 http://swat.cse.lehigh.edu/onto/univ-bench.owl#memberOf http://www.Department0.University0.edu\n",
      "-523 3 -2\n",
      "\n",
      "http://www.Department0.University0.edu/UndergraduateStudent436 http://swat.cse.lehigh.edu/onto/univ-bench.owl#memberOf http://www.Department0.University0.edu\n",
      "-524 3 -2\n",
      "\n",
      "http://www.Department0.University0.edu/UndergraduateStudent437 http://swat.cse.lehigh.edu/onto/univ-bench.owl#memberOf http://www.Department0.University0.edu\n",
      "-525 3 -2\n",
      "\n",
      "http://www.Department0.University0.edu/UndergraduateStudent438 http://swat.cse.lehigh.edu/onto/univ-bench.owl#memberOf http://www.Department0.University0.edu\n",
      "-526 3 -2\n",
      "\n",
      "http://www.Department0.University0.edu/UndergraduateStudent439 http://swat.cse.lehigh.edu/onto/univ-bench.owl#memberOf http://www.Department0.University0.edu\n",
      "-527 3 -2\n",
      "\n",
      "http://www.Department0.University0.edu/UndergraduateStudent44 http://swat.cse.lehigh.edu/onto/univ-bench.owl#memberOf http://www.Department0.University0.edu\n",
      "-528 3 -2\n",
      "\n",
      "http://www.Department0.University0.edu/UndergraduateStudent440 http://swat.cse.lehigh.edu/onto/univ-bench.owl#memberOf http://www.Department0.University0.edu\n",
      "-529 3 -2\n",
      "\n",
      "http://www.Department0.University0.edu/UndergraduateStudent441 http://swat.cse.lehigh.edu/onto/univ-bench.owl#memberOf http://www.Department0.University0.edu\n",
      "-530 3 -2\n",
      "\n",
      "http://www.Department0.University0.edu/UndergraduateStudent442 http://swat.cse.lehigh.edu/onto/univ-bench.owl#memberOf http://www.Department0.University0.edu\n",
      "-531 3 -2\n",
      "\n",
      "http://www.Department0.University0.edu/UndergraduateStudent443 http://swat.cse.lehigh.edu/onto/univ-bench.owl#memberOf http://www.Department0.University0.edu\n",
      "-532 3 -2\n",
      "\n",
      "http://www.Department0.University0.edu/UndergraduateStudent444 http://swat.cse.lehigh.edu/onto/univ-bench.owl#memberOf http://www.Department0.University0.edu\n",
      "-533 3 -2\n",
      "\n",
      "http://www.Department0.University0.edu/UndergraduateStudent445 http://swat.cse.lehigh.edu/onto/univ-bench.owl#memberOf http://www.Department0.University0.edu\n",
      "-534 3 -2\n",
      "\n",
      "http://www.Department0.University0.edu/UndergraduateStudent446 http://swat.cse.lehigh.edu/onto/univ-bench.owl#memberOf http://www.Department0.University0.edu\n",
      "-535 3 -2\n",
      "\n",
      "http://www.Department0.University0.edu/UndergraduateStudent447 http://swat.cse.lehigh.edu/onto/univ-bench.owl#memberOf http://www.Department0.University0.edu\n",
      "-536 3 -2\n",
      "\n",
      "http://www.Department0.University0.edu/UndergraduateStudent448 http://swat.cse.lehigh.edu/onto/univ-bench.owl#memberOf http://www.Department0.University0.edu\n",
      "-537 3 -2\n",
      "\n",
      "http://www.Department0.University0.edu/UndergraduateStudent449 http://swat.cse.lehigh.edu/onto/univ-bench.owl#memberOf http://www.Department0.University0.edu\n",
      "-538 3 -2\n",
      "\n",
      "http://www.Department0.University0.edu/UndergraduateStudent45 http://swat.cse.lehigh.edu/onto/univ-bench.owl#memberOf http://www.Department0.University0.edu\n",
      "-539 3 -2\n",
      "\n",
      "http://www.Department0.University0.edu/UndergraduateStudent450 http://swat.cse.lehigh.edu/onto/univ-bench.owl#memberOf http://www.Department0.University0.edu\n",
      "-540 3 -2\n",
      "\n",
      "http://www.Department0.University0.edu/UndergraduateStudent451 http://swat.cse.lehigh.edu/onto/univ-bench.owl#memberOf http://www.Department0.University0.edu\n",
      "-541 3 -2\n",
      "\n",
      "http://www.Department0.University0.edu/UndergraduateStudent452 http://swat.cse.lehigh.edu/onto/univ-bench.owl#memberOf http://www.Department0.University0.edu\n",
      "-542 3 -2\n",
      "\n",
      "http://www.Department0.University0.edu/UndergraduateStudent453 http://swat.cse.lehigh.edu/onto/univ-bench.owl#memberOf http://www.Department0.University0.edu\n",
      "-543 3 -2\n",
      "\n",
      "http://www.Department0.University0.edu/UndergraduateStudent454 http://swat.cse.lehigh.edu/onto/univ-bench.owl#memberOf http://www.Department0.University0.edu\n",
      "-544 3 -2\n",
      "\n",
      "http://www.Department0.University0.edu/UndergraduateStudent455 http://swat.cse.lehigh.edu/onto/univ-bench.owl#memberOf http://www.Department0.University0.edu\n",
      "-545 3 -2\n",
      "\n",
      "http://www.Department0.University0.edu/UndergraduateStudent456 http://swat.cse.lehigh.edu/onto/univ-bench.owl#memberOf http://www.Department0.University0.edu\n",
      "-546 3 -2\n",
      "\n",
      "http://www.Department0.University0.edu/UndergraduateStudent457 http://swat.cse.lehigh.edu/onto/univ-bench.owl#memberOf http://www.Department0.University0.edu\n",
      "-547 3 -2\n",
      "\n",
      "http://www.Department0.University0.edu/UndergraduateStudent458 http://swat.cse.lehigh.edu/onto/univ-bench.owl#memberOf http://www.Department0.University0.edu\n",
      "-548 3 -2\n",
      "\n",
      "http://www.Department0.University0.edu/UndergraduateStudent459 http://swat.cse.lehigh.edu/onto/univ-bench.owl#memberOf http://www.Department0.University0.edu\n",
      "-549 3 -2\n",
      "\n",
      "http://www.Department0.University0.edu/UndergraduateStudent46 http://swat.cse.lehigh.edu/onto/univ-bench.owl#memberOf http://www.Department0.University0.edu\n",
      "-550 3 -2\n",
      "\n",
      "http://www.Department0.University0.edu/UndergraduateStudent460 http://swat.cse.lehigh.edu/onto/univ-bench.owl#memberOf http://www.Department0.University0.edu\n",
      "-551 3 -2\n",
      "\n",
      "http://www.Department0.University0.edu/UndergraduateStudent461 http://swat.cse.lehigh.edu/onto/univ-bench.owl#memberOf http://www.Department0.University0.edu\n",
      "-552 3 -2\n",
      "\n",
      "http://www.Department0.University0.edu/UndergraduateStudent462 http://swat.cse.lehigh.edu/onto/univ-bench.owl#memberOf http://www.Department0.University0.edu\n",
      "-553 3 -2\n",
      "\n",
      "http://www.Department0.University0.edu/UndergraduateStudent463 http://swat.cse.lehigh.edu/onto/univ-bench.owl#memberOf http://www.Department0.University0.edu\n",
      "-554 3 -2\n",
      "\n",
      "http://www.Department0.University0.edu/UndergraduateStudent464 http://swat.cse.lehigh.edu/onto/univ-bench.owl#memberOf http://www.Department0.University0.edu\n",
      "-555 3 -2\n",
      "\n",
      "http://www.Department0.University0.edu/UndergraduateStudent465 http://swat.cse.lehigh.edu/onto/univ-bench.owl#memberOf http://www.Department0.University0.edu\n",
      "-556 3 -2\n",
      "\n",
      "http://www.Department0.University0.edu/UndergraduateStudent466 http://swat.cse.lehigh.edu/onto/univ-bench.owl#memberOf http://www.Department0.University0.edu\n",
      "-557 3 -2\n",
      "\n",
      "http://www.Department0.University0.edu/UndergraduateStudent467 http://swat.cse.lehigh.edu/onto/univ-bench.owl#memberOf http://www.Department0.University0.edu\n",
      "-558 3 -2\n",
      "\n",
      "http://www.Department0.University0.edu/UndergraduateStudent468 http://swat.cse.lehigh.edu/onto/univ-bench.owl#memberOf http://www.Department0.University0.edu\n",
      "-559 3 -2\n",
      "\n",
      "http://www.Department0.University0.edu/UndergraduateStudent469 http://swat.cse.lehigh.edu/onto/univ-bench.owl#memberOf http://www.Department0.University0.edu\n",
      "-560 3 -2\n",
      "\n",
      "http://www.Department0.University0.edu/UndergraduateStudent47 http://swat.cse.lehigh.edu/onto/univ-bench.owl#memberOf http://www.Department0.University0.edu\n",
      "-561 3 -2\n",
      "\n",
      "http://www.Department0.University0.edu/UndergraduateStudent470 http://swat.cse.lehigh.edu/onto/univ-bench.owl#memberOf http://www.Department0.University0.edu\n",
      "-562 3 -2\n",
      "\n",
      "http://www.Department0.University0.edu/UndergraduateStudent471 http://swat.cse.lehigh.edu/onto/univ-bench.owl#memberOf http://www.Department0.University0.edu\n",
      "-563 3 -2\n",
      "\n",
      "http://www.Department0.University0.edu/UndergraduateStudent472 http://swat.cse.lehigh.edu/onto/univ-bench.owl#memberOf http://www.Department0.University0.edu\n",
      "-564 3 -2\n",
      "\n",
      "http://www.Department0.University0.edu/UndergraduateStudent473 http://swat.cse.lehigh.edu/onto/univ-bench.owl#memberOf http://www.Department0.University0.edu\n",
      "-565 3 -2\n",
      "\n",
      "http://www.Department0.University0.edu/UndergraduateStudent474 http://swat.cse.lehigh.edu/onto/univ-bench.owl#memberOf http://www.Department0.University0.edu\n",
      "-566 3 -2\n",
      "\n",
      "http://www.Department0.University0.edu/UndergraduateStudent475 http://swat.cse.lehigh.edu/onto/univ-bench.owl#memberOf http://www.Department0.University0.edu\n",
      "-567 3 -2\n",
      "\n",
      "http://www.Department0.University0.edu/UndergraduateStudent476 http://swat.cse.lehigh.edu/onto/univ-bench.owl#memberOf http://www.Department0.University0.edu\n",
      "-568 3 -2\n",
      "\n",
      "http://www.Department0.University0.edu/UndergraduateStudent477 http://swat.cse.lehigh.edu/onto/univ-bench.owl#memberOf http://www.Department0.University0.edu\n",
      "-569 3 -2\n",
      "\n",
      "http://www.Department0.University0.edu/UndergraduateStudent478 http://swat.cse.lehigh.edu/onto/univ-bench.owl#memberOf http://www.Department0.University0.edu\n",
      "-570 3 -2\n",
      "\n",
      "http://www.Department0.University0.edu/UndergraduateStudent479 http://swat.cse.lehigh.edu/onto/univ-bench.owl#memberOf http://www.Department0.University0.edu\n",
      "-571 3 -2\n",
      "\n",
      "http://www.Department0.University0.edu/UndergraduateStudent48 http://swat.cse.lehigh.edu/onto/univ-bench.owl#memberOf http://www.Department0.University0.edu\n",
      "-572 3 -2\n",
      "\n",
      "http://www.Department0.University0.edu/UndergraduateStudent480 http://swat.cse.lehigh.edu/onto/univ-bench.owl#memberOf http://www.Department0.University0.edu\n",
      "-573 3 -2\n",
      "\n",
      "http://www.Department0.University0.edu/UndergraduateStudent481 http://swat.cse.lehigh.edu/onto/univ-bench.owl#memberOf http://www.Department0.University0.edu\n",
      "-574 3 -2\n",
      "\n",
      "http://www.Department0.University0.edu/UndergraduateStudent482 http://swat.cse.lehigh.edu/onto/univ-bench.owl#memberOf http://www.Department0.University0.edu\n",
      "-575 3 -2\n",
      "\n",
      "http://www.Department0.University0.edu/UndergraduateStudent483 http://swat.cse.lehigh.edu/onto/univ-bench.owl#memberOf http://www.Department0.University0.edu\n",
      "-576 3 -2\n",
      "\n",
      "http://www.Department0.University0.edu/UndergraduateStudent484 http://swat.cse.lehigh.edu/onto/univ-bench.owl#memberOf http://www.Department0.University0.edu\n",
      "-577 3 -2\n",
      "\n",
      "http://www.Department0.University0.edu/UndergraduateStudent485 http://swat.cse.lehigh.edu/onto/univ-bench.owl#memberOf http://www.Department0.University0.edu\n",
      "-578 3 -2\n",
      "\n",
      "http://www.Department0.University0.edu/UndergraduateStudent486 http://swat.cse.lehigh.edu/onto/univ-bench.owl#memberOf http://www.Department0.University0.edu\n",
      "-579 3 -2\n",
      "\n",
      "http://www.Department0.University0.edu/UndergraduateStudent487 http://swat.cse.lehigh.edu/onto/univ-bench.owl#memberOf http://www.Department0.University0.edu\n",
      "-580 3 -2\n",
      "\n",
      "http://www.Department0.University0.edu/UndergraduateStudent488 http://swat.cse.lehigh.edu/onto/univ-bench.owl#memberOf http://www.Department0.University0.edu\n",
      "-581 3 -2\n",
      "\n",
      "http://www.Department0.University0.edu/UndergraduateStudent489 http://swat.cse.lehigh.edu/onto/univ-bench.owl#memberOf http://www.Department0.University0.edu\n",
      "-582 3 -2\n",
      "\n",
      "http://www.Department0.University0.edu/UndergraduateStudent49 http://swat.cse.lehigh.edu/onto/univ-bench.owl#memberOf http://www.Department0.University0.edu\n",
      "-583 3 -2\n",
      "\n",
      "http://www.Department0.University0.edu/UndergraduateStudent490 http://swat.cse.lehigh.edu/onto/univ-bench.owl#memberOf http://www.Department0.University0.edu\n",
      "-584 3 -2\n",
      "\n",
      "http://www.Department0.University0.edu/UndergraduateStudent491 http://swat.cse.lehigh.edu/onto/univ-bench.owl#memberOf http://www.Department0.University0.edu\n",
      "-585 3 -2\n",
      "\n",
      "http://www.Department0.University0.edu/UndergraduateStudent492 http://swat.cse.lehigh.edu/onto/univ-bench.owl#memberOf http://www.Department0.University0.edu\n",
      "-586 3 -2\n",
      "\n",
      "http://www.Department0.University0.edu/UndergraduateStudent493 http://swat.cse.lehigh.edu/onto/univ-bench.owl#memberOf http://www.Department0.University0.edu\n",
      "-587 3 -2\n",
      "\n",
      "http://www.Department0.University0.edu/UndergraduateStudent494 http://swat.cse.lehigh.edu/onto/univ-bench.owl#memberOf http://www.Department0.University0.edu\n",
      "-588 3 -2\n",
      "\n",
      "http://www.Department0.University0.edu/UndergraduateStudent495 http://swat.cse.lehigh.edu/onto/univ-bench.owl#memberOf http://www.Department0.University0.edu\n",
      "-589 3 -2\n",
      "\n",
      "http://www.Department0.University0.edu/UndergraduateStudent496 http://swat.cse.lehigh.edu/onto/univ-bench.owl#memberOf http://www.Department0.University0.edu\n",
      "-590 3 -2\n",
      "\n",
      "http://www.Department0.University0.edu/UndergraduateStudent497 http://swat.cse.lehigh.edu/onto/univ-bench.owl#memberOf http://www.Department0.University0.edu\n",
      "-591 3 -2\n",
      "\n",
      "http://www.Department0.University0.edu/UndergraduateStudent498 http://swat.cse.lehigh.edu/onto/univ-bench.owl#memberOf http://www.Department0.University0.edu\n",
      "-592 3 -2\n",
      "\n",
      "http://www.Department0.University0.edu/UndergraduateStudent499 http://swat.cse.lehigh.edu/onto/univ-bench.owl#memberOf http://www.Department0.University0.edu\n",
      "-593 3 -2\n",
      "\n",
      "http://www.Department0.University0.edu/UndergraduateStudent5 http://swat.cse.lehigh.edu/onto/univ-bench.owl#memberOf http://www.Department0.University0.edu\n",
      "-594 3 -2\n",
      "\n",
      "http://www.Department0.University0.edu/UndergraduateStudent50 http://swat.cse.lehigh.edu/onto/univ-bench.owl#memberOf http://www.Department0.University0.edu\n",
      "-595 3 -2\n",
      "\n",
      "http://www.Department0.University0.edu/UndergraduateStudent500 http://swat.cse.lehigh.edu/onto/univ-bench.owl#memberOf http://www.Department0.University0.edu\n",
      "-596 3 -2\n",
      "\n",
      "http://www.Department0.University0.edu/UndergraduateStudent501 http://swat.cse.lehigh.edu/onto/univ-bench.owl#memberOf http://www.Department0.University0.edu\n",
      "-597 3 -2\n",
      "\n",
      "http://www.Department0.University0.edu/UndergraduateStudent502 http://swat.cse.lehigh.edu/onto/univ-bench.owl#memberOf http://www.Department0.University0.edu\n",
      "-598 3 -2\n",
      "\n",
      "http://www.Department0.University0.edu/UndergraduateStudent503 http://swat.cse.lehigh.edu/onto/univ-bench.owl#memberOf http://www.Department0.University0.edu\n",
      "-599 3 -2\n",
      "\n",
      "http://www.Department0.University0.edu/UndergraduateStudent504 http://swat.cse.lehigh.edu/onto/univ-bench.owl#memberOf http://www.Department0.University0.edu\n",
      "-600 3 -2\n",
      "\n",
      "http://www.Department0.University0.edu/UndergraduateStudent505 http://swat.cse.lehigh.edu/onto/univ-bench.owl#memberOf http://www.Department0.University0.edu\n",
      "-601 3 -2\n",
      "\n",
      "http://www.Department0.University0.edu/UndergraduateStudent506 http://swat.cse.lehigh.edu/onto/univ-bench.owl#memberOf http://www.Department0.University0.edu\n",
      "-602 3 -2\n",
      "\n",
      "http://www.Department0.University0.edu/UndergraduateStudent507 http://swat.cse.lehigh.edu/onto/univ-bench.owl#memberOf http://www.Department0.University0.edu\n",
      "-603 3 -2\n",
      "\n",
      "http://www.Department0.University0.edu/UndergraduateStudent508 http://swat.cse.lehigh.edu/onto/univ-bench.owl#memberOf http://www.Department0.University0.edu\n",
      "-604 3 -2\n",
      "\n",
      "http://www.Department0.University0.edu/UndergraduateStudent509 http://swat.cse.lehigh.edu/onto/univ-bench.owl#memberOf http://www.Department0.University0.edu\n",
      "-605 3 -2\n",
      "\n",
      "http://www.Department0.University0.edu/UndergraduateStudent51 http://swat.cse.lehigh.edu/onto/univ-bench.owl#memberOf http://www.Department0.University0.edu\n",
      "-606 3 -2\n",
      "\n",
      "http://www.Department0.University0.edu/UndergraduateStudent510 http://swat.cse.lehigh.edu/onto/univ-bench.owl#memberOf http://www.Department0.University0.edu\n",
      "-607 3 -2\n",
      "\n",
      "http://www.Department0.University0.edu/UndergraduateStudent511 http://swat.cse.lehigh.edu/onto/univ-bench.owl#memberOf http://www.Department0.University0.edu\n",
      "-608 3 -2\n",
      "\n",
      "http://www.Department0.University0.edu/UndergraduateStudent512 http://swat.cse.lehigh.edu/onto/univ-bench.owl#memberOf http://www.Department0.University0.edu\n",
      "-609 3 -2\n",
      "\n",
      "http://www.Department0.University0.edu/UndergraduateStudent513 http://swat.cse.lehigh.edu/onto/univ-bench.owl#memberOf http://www.Department0.University0.edu\n",
      "-610 3 -2\n",
      "\n",
      "http://www.Department0.University0.edu/UndergraduateStudent514 http://swat.cse.lehigh.edu/onto/univ-bench.owl#memberOf http://www.Department0.University0.edu\n",
      "-611 3 -2\n",
      "\n",
      "http://www.Department0.University0.edu/UndergraduateStudent515 http://swat.cse.lehigh.edu/onto/univ-bench.owl#memberOf http://www.Department0.University0.edu\n",
      "-612 3 -2\n",
      "\n",
      "http://www.Department0.University0.edu/UndergraduateStudent516 http://swat.cse.lehigh.edu/onto/univ-bench.owl#memberOf http://www.Department0.University0.edu\n",
      "-613 3 -2\n",
      "\n",
      "http://www.Department0.University0.edu/UndergraduateStudent517 http://swat.cse.lehigh.edu/onto/univ-bench.owl#memberOf http://www.Department0.University0.edu\n",
      "-614 3 -2\n",
      "\n",
      "http://www.Department0.University0.edu/UndergraduateStudent518 http://swat.cse.lehigh.edu/onto/univ-bench.owl#memberOf http://www.Department0.University0.edu\n",
      "-615 3 -2\n",
      "\n",
      "http://www.Department0.University0.edu/UndergraduateStudent519 http://swat.cse.lehigh.edu/onto/univ-bench.owl#memberOf http://www.Department0.University0.edu\n",
      "-616 3 -2\n",
      "\n",
      "http://www.Department0.University0.edu/UndergraduateStudent52 http://swat.cse.lehigh.edu/onto/univ-bench.owl#memberOf http://www.Department0.University0.edu\n",
      "-617 3 -2\n",
      "\n",
      "http://www.Department0.University0.edu/UndergraduateStudent520 http://swat.cse.lehigh.edu/onto/univ-bench.owl#memberOf http://www.Department0.University0.edu\n",
      "-618 3 -2\n",
      "\n",
      "http://www.Department0.University0.edu/UndergraduateStudent521 http://swat.cse.lehigh.edu/onto/univ-bench.owl#memberOf http://www.Department0.University0.edu\n",
      "-619 3 -2\n",
      "\n",
      "http://www.Department0.University0.edu/UndergraduateStudent522 http://swat.cse.lehigh.edu/onto/univ-bench.owl#memberOf http://www.Department0.University0.edu\n",
      "-620 3 -2\n",
      "\n",
      "http://www.Department0.University0.edu/UndergraduateStudent523 http://swat.cse.lehigh.edu/onto/univ-bench.owl#memberOf http://www.Department0.University0.edu\n",
      "-621 3 -2\n",
      "\n",
      "http://www.Department0.University0.edu/UndergraduateStudent524 http://swat.cse.lehigh.edu/onto/univ-bench.owl#memberOf http://www.Department0.University0.edu\n",
      "-622 3 -2\n",
      "\n",
      "http://www.Department0.University0.edu/UndergraduateStudent525 http://swat.cse.lehigh.edu/onto/univ-bench.owl#memberOf http://www.Department0.University0.edu\n",
      "-623 3 -2\n",
      "\n",
      "http://www.Department0.University0.edu/UndergraduateStudent526 http://swat.cse.lehigh.edu/onto/univ-bench.owl#memberOf http://www.Department0.University0.edu\n",
      "-624 3 -2\n",
      "\n",
      "http://www.Department0.University0.edu/UndergraduateStudent527 http://swat.cse.lehigh.edu/onto/univ-bench.owl#memberOf http://www.Department0.University0.edu\n",
      "-625 3 -2\n",
      "\n",
      "http://www.Department0.University0.edu/UndergraduateStudent528 http://swat.cse.lehigh.edu/onto/univ-bench.owl#memberOf http://www.Department0.University0.edu\n",
      "-626 3 -2\n",
      "\n",
      "http://www.Department0.University0.edu/UndergraduateStudent529 http://swat.cse.lehigh.edu/onto/univ-bench.owl#memberOf http://www.Department0.University0.edu\n",
      "-627 3 -2\n",
      "\n",
      "http://www.Department0.University0.edu/UndergraduateStudent53 http://swat.cse.lehigh.edu/onto/univ-bench.owl#memberOf http://www.Department0.University0.edu\n",
      "-628 3 -2\n",
      "\n",
      "http://www.Department0.University0.edu/UndergraduateStudent530 http://swat.cse.lehigh.edu/onto/univ-bench.owl#memberOf http://www.Department0.University0.edu\n",
      "-629 3 -2\n",
      "\n",
      "http://www.Department0.University0.edu/UndergraduateStudent531 http://swat.cse.lehigh.edu/onto/univ-bench.owl#memberOf http://www.Department0.University0.edu\n",
      "-630 3 -2\n",
      "\n",
      "http://www.Department0.University0.edu/UndergraduateStudent54 http://swat.cse.lehigh.edu/onto/univ-bench.owl#memberOf http://www.Department0.University0.edu\n",
      "-631 3 -2\n",
      "\n",
      "http://www.Department0.University0.edu/UndergraduateStudent55 http://swat.cse.lehigh.edu/onto/univ-bench.owl#memberOf http://www.Department0.University0.edu\n",
      "-632 3 -2\n",
      "\n",
      "http://www.Department0.University0.edu/UndergraduateStudent56 http://swat.cse.lehigh.edu/onto/univ-bench.owl#memberOf http://www.Department0.University0.edu\n",
      "-633 3 -2\n",
      "\n",
      "http://www.Department0.University0.edu/UndergraduateStudent57 http://swat.cse.lehigh.edu/onto/univ-bench.owl#memberOf http://www.Department0.University0.edu\n",
      "-634 3 -2\n",
      "\n",
      "http://www.Department0.University0.edu/UndergraduateStudent58 http://swat.cse.lehigh.edu/onto/univ-bench.owl#memberOf http://www.Department0.University0.edu\n",
      "-635 3 -2\n",
      "\n",
      "http://www.Department0.University0.edu/UndergraduateStudent59 http://swat.cse.lehigh.edu/onto/univ-bench.owl#memberOf http://www.Department0.University0.edu\n",
      "-636 3 -2\n",
      "\n",
      "http://www.Department0.University0.edu/UndergraduateStudent6 http://swat.cse.lehigh.edu/onto/univ-bench.owl#memberOf http://www.Department0.University0.edu\n",
      "-637 3 -2\n",
      "\n",
      "http://www.Department0.University0.edu/UndergraduateStudent60 http://swat.cse.lehigh.edu/onto/univ-bench.owl#memberOf http://www.Department0.University0.edu\n",
      "-638 3 -2\n",
      "\n",
      "http://www.Department0.University0.edu/UndergraduateStudent61 http://swat.cse.lehigh.edu/onto/univ-bench.owl#memberOf http://www.Department0.University0.edu\n",
      "-639 3 -2\n",
      "\n",
      "http://www.Department0.University0.edu/UndergraduateStudent62 http://swat.cse.lehigh.edu/onto/univ-bench.owl#memberOf http://www.Department0.University0.edu\n",
      "-640 3 -2\n",
      "\n",
      "http://www.Department0.University0.edu/UndergraduateStudent63 http://swat.cse.lehigh.edu/onto/univ-bench.owl#memberOf http://www.Department0.University0.edu\n",
      "-641 3 -2\n",
      "\n",
      "http://www.Department0.University0.edu/UndergraduateStudent64 http://swat.cse.lehigh.edu/onto/univ-bench.owl#memberOf http://www.Department0.University0.edu\n",
      "-642 3 -2\n",
      "\n",
      "http://www.Department0.University0.edu/UndergraduateStudent65 http://swat.cse.lehigh.edu/onto/univ-bench.owl#memberOf http://www.Department0.University0.edu\n",
      "-643 3 -2\n",
      "\n",
      "http://www.Department0.University0.edu/UndergraduateStudent66 http://swat.cse.lehigh.edu/onto/univ-bench.owl#memberOf http://www.Department0.University0.edu\n",
      "-644 3 -2\n",
      "\n",
      "http://www.Department0.University0.edu/UndergraduateStudent67 http://swat.cse.lehigh.edu/onto/univ-bench.owl#memberOf http://www.Department0.University0.edu\n",
      "-645 3 -2\n",
      "\n",
      "http://www.Department0.University0.edu/UndergraduateStudent68 http://swat.cse.lehigh.edu/onto/univ-bench.owl#memberOf http://www.Department0.University0.edu\n",
      "-646 3 -2\n",
      "\n",
      "http://www.Department0.University0.edu/UndergraduateStudent69 http://swat.cse.lehigh.edu/onto/univ-bench.owl#memberOf http://www.Department0.University0.edu\n",
      "-647 3 -2\n",
      "\n",
      "http://www.Department0.University0.edu/UndergraduateStudent7 http://swat.cse.lehigh.edu/onto/univ-bench.owl#memberOf http://www.Department0.University0.edu\n",
      "-648 3 -2\n",
      "\n",
      "http://www.Department0.University0.edu/UndergraduateStudent70 http://swat.cse.lehigh.edu/onto/univ-bench.owl#memberOf http://www.Department0.University0.edu\n",
      "-649 3 -2\n",
      "\n",
      "http://www.Department0.University0.edu/UndergraduateStudent71 http://swat.cse.lehigh.edu/onto/univ-bench.owl#memberOf http://www.Department0.University0.edu\n",
      "-650 3 -2\n",
      "\n",
      "http://www.Department0.University0.edu/UndergraduateStudent72 http://swat.cse.lehigh.edu/onto/univ-bench.owl#memberOf http://www.Department0.University0.edu\n",
      "-651 3 -2\n",
      "\n",
      "http://www.Department0.University0.edu/UndergraduateStudent73 http://swat.cse.lehigh.edu/onto/univ-bench.owl#memberOf http://www.Department0.University0.edu\n",
      "-652 3 -2\n",
      "\n",
      "http://www.Department0.University0.edu/UndergraduateStudent74 http://swat.cse.lehigh.edu/onto/univ-bench.owl#memberOf http://www.Department0.University0.edu\n",
      "-653 3 -2\n",
      "\n",
      "http://www.Department0.University0.edu/UndergraduateStudent75 http://swat.cse.lehigh.edu/onto/univ-bench.owl#memberOf http://www.Department0.University0.edu\n",
      "-654 3 -2\n",
      "\n",
      "http://www.Department0.University0.edu/UndergraduateStudent76 http://swat.cse.lehigh.edu/onto/univ-bench.owl#memberOf http://www.Department0.University0.edu\n",
      "-655 3 -2\n",
      "\n",
      "http://www.Department0.University0.edu/UndergraduateStudent77 http://swat.cse.lehigh.edu/onto/univ-bench.owl#memberOf http://www.Department0.University0.edu\n",
      "-656 3 -2\n",
      "\n",
      "http://www.Department0.University0.edu/UndergraduateStudent78 http://swat.cse.lehigh.edu/onto/univ-bench.owl#memberOf http://www.Department0.University0.edu\n",
      "-657 3 -2\n",
      "\n",
      "http://www.Department0.University0.edu/UndergraduateStudent79 http://swat.cse.lehigh.edu/onto/univ-bench.owl#memberOf http://www.Department0.University0.edu\n",
      "-658 3 -2\n",
      "\n",
      "http://www.Department0.University0.edu/UndergraduateStudent8 http://swat.cse.lehigh.edu/onto/univ-bench.owl#memberOf http://www.Department0.University0.edu\n",
      "-659 3 -2\n",
      "\n",
      "http://www.Department0.University0.edu/UndergraduateStudent80 http://swat.cse.lehigh.edu/onto/univ-bench.owl#memberOf http://www.Department0.University0.edu\n",
      "-660 3 -2\n",
      "\n",
      "http://www.Department0.University0.edu/UndergraduateStudent81 http://swat.cse.lehigh.edu/onto/univ-bench.owl#memberOf http://www.Department0.University0.edu\n",
      "-661 3 -2\n",
      "\n",
      "http://www.Department0.University0.edu/UndergraduateStudent82 http://swat.cse.lehigh.edu/onto/univ-bench.owl#memberOf http://www.Department0.University0.edu\n",
      "-662 3 -2\n",
      "\n",
      "http://www.Department0.University0.edu/UndergraduateStudent83 http://swat.cse.lehigh.edu/onto/univ-bench.owl#memberOf http://www.Department0.University0.edu\n",
      "-663 3 -2\n",
      "\n",
      "http://www.Department0.University0.edu/UndergraduateStudent84 http://swat.cse.lehigh.edu/onto/univ-bench.owl#memberOf http://www.Department0.University0.edu\n",
      "-664 3 -2\n",
      "\n",
      "http://www.Department0.University0.edu/UndergraduateStudent85 http://swat.cse.lehigh.edu/onto/univ-bench.owl#memberOf http://www.Department0.University0.edu\n",
      "-665 3 -2\n",
      "\n",
      "http://www.Department0.University0.edu/UndergraduateStudent86 http://swat.cse.lehigh.edu/onto/univ-bench.owl#memberOf http://www.Department0.University0.edu\n",
      "-666 3 -2\n",
      "\n",
      "http://www.Department0.University0.edu/UndergraduateStudent87 http://swat.cse.lehigh.edu/onto/univ-bench.owl#memberOf http://www.Department0.University0.edu\n",
      "-667 3 -2\n",
      "\n",
      "http://www.Department0.University0.edu/UndergraduateStudent88 http://swat.cse.lehigh.edu/onto/univ-bench.owl#memberOf http://www.Department0.University0.edu\n",
      "-668 3 -2\n",
      "\n",
      "http://www.Department0.University0.edu/UndergraduateStudent89 http://swat.cse.lehigh.edu/onto/univ-bench.owl#memberOf http://www.Department0.University0.edu\n",
      "-669 3 -2\n",
      "\n",
      "http://www.Department0.University0.edu/UndergraduateStudent9 http://swat.cse.lehigh.edu/onto/univ-bench.owl#memberOf http://www.Department0.University0.edu\n",
      "-670 3 -2\n",
      "\n",
      "http://www.Department0.University0.edu/UndergraduateStudent90 http://swat.cse.lehigh.edu/onto/univ-bench.owl#memberOf http://www.Department0.University0.edu\n",
      "-671 3 -2\n",
      "\n",
      "http://www.Department0.University0.edu/UndergraduateStudent91 http://swat.cse.lehigh.edu/onto/univ-bench.owl#memberOf http://www.Department0.University0.edu\n",
      "-672 3 -2\n",
      "\n",
      "http://www.Department0.University0.edu/UndergraduateStudent92 http://swat.cse.lehigh.edu/onto/univ-bench.owl#memberOf http://www.Department0.University0.edu\n",
      "-673 3 -2\n",
      "\n",
      "http://www.Department0.University0.edu/UndergraduateStudent93 http://swat.cse.lehigh.edu/onto/univ-bench.owl#memberOf http://www.Department0.University0.edu\n",
      "-674 3 -2\n",
      "\n",
      "http://www.Department0.University0.edu/UndergraduateStudent94 http://swat.cse.lehigh.edu/onto/univ-bench.owl#memberOf http://www.Department0.University0.edu\n",
      "-675 3 -2\n",
      "\n",
      "http://www.Department0.University0.edu/UndergraduateStudent95 http://swat.cse.lehigh.edu/onto/univ-bench.owl#memberOf http://www.Department0.University0.edu\n",
      "-676 3 -2\n",
      "\n",
      "http://www.Department0.University0.edu/UndergraduateStudent96 http://swat.cse.lehigh.edu/onto/univ-bench.owl#memberOf http://www.Department0.University0.edu\n",
      "-677 3 -2\n",
      "\n",
      "http://www.Department0.University0.edu/UndergraduateStudent97 http://swat.cse.lehigh.edu/onto/univ-bench.owl#memberOf http://www.Department0.University0.edu\n",
      "-678 3 -2\n",
      "\n",
      "http://www.Department0.University0.edu/UndergraduateStudent98 http://swat.cse.lehigh.edu/onto/univ-bench.owl#memberOf http://www.Department0.University0.edu\n",
      "-679 3 -2\n",
      "\n",
      "http://www.Department0.University0.edu/UndergraduateStudent99 http://swat.cse.lehigh.edu/onto/univ-bench.owl#memberOf http://www.Department0.University0.edu\n",
      "-680 3 -2\n",
      "\n",
      "http://www.Department0.University0.edu http://swat.cse.lehigh.edu/onto/univ-bench.owl#name Department0\n",
      "-1 4 -2\n",
      "\n",
      "http://www.Department0.University0.edu http://swat.cse.lehigh.edu/onto/univ-bench.owl#subOrganizationOf http://www.University0.edu\n",
      "-1 5 -2\n",
      "\n",
      "http://www.Department0.University0.edu/ResearchGroup0 http://swat.cse.lehigh.edu/onto/univ-bench.owl#subOrganizationOf http://www.Department0.University0.edu\n",
      "-3 5 -1\n",
      "\n",
      "http://www.Department0.University0.edu/ResearchGroup1 http://swat.cse.lehigh.edu/onto/univ-bench.owl#subOrganizationOf http://www.Department0.University0.edu\n",
      "-4 5 -1\n",
      "\n",
      "http://www.Department0.University0.edu/ResearchGroup2 http://swat.cse.lehigh.edu/onto/univ-bench.owl#subOrganizationOf http://www.Department0.University0.edu\n",
      "-5 5 -1\n",
      "\n",
      "http://www.Department0.University0.edu/ResearchGroup3 http://swat.cse.lehigh.edu/onto/univ-bench.owl#subOrganizationOf http://www.Department0.University0.edu\n",
      "-6 5 -1\n",
      "\n",
      "http://www.Department0.University0.edu/ResearchGroup4 http://swat.cse.lehigh.edu/onto/univ-bench.owl#subOrganizationOf http://www.Department0.University0.edu\n",
      "-7 5 -1\n",
      "\n",
      "http://www.Department0.University0.edu/ResearchGroup5 http://swat.cse.lehigh.edu/onto/univ-bench.owl#subOrganizationOf http://www.Department0.University0.edu\n",
      "-8 5 -1\n",
      "\n",
      "http://www.Department0.University0.edu/ResearchGroup6 http://swat.cse.lehigh.edu/onto/univ-bench.owl#subOrganizationOf http://www.Department0.University0.edu\n",
      "-9 5 -1\n",
      "\n",
      "http://www.Department0.University0.edu/ResearchGroup7 http://swat.cse.lehigh.edu/onto/univ-bench.owl#subOrganizationOf http://www.Department0.University0.edu\n",
      "-10 5 -1\n",
      "\n",
      "http://www.Department0.University0.edu/ResearchGroup8 http://swat.cse.lehigh.edu/onto/univ-bench.owl#subOrganizationOf http://www.Department0.University0.edu\n",
      "-11 5 -1\n",
      "\n",
      "http://www.Department0.University0.edu/ResearchGroup9 http://swat.cse.lehigh.edu/onto/univ-bench.owl#subOrganizationOf http://www.Department0.University0.edu\n",
      "-12 5 -1\n",
      "\n",
      "http://www.Department0.University0.edu/AssistantProfessor0 http://swat.cse.lehigh.edu/onto/univ-bench.owl#worksFor http://www.Department0.University0.edu\n",
      "-681 6 -2\n",
      "\n",
      "http://www.Department0.University0.edu/AssistantProfessor1 http://swat.cse.lehigh.edu/onto/univ-bench.owl#worksFor http://www.Department0.University0.edu\n",
      "-682 6 -2\n",
      "\n",
      "http://www.Department0.University0.edu/AssistantProfessor2 http://swat.cse.lehigh.edu/onto/univ-bench.owl#worksFor http://www.Department0.University0.edu\n",
      "-683 6 -2\n",
      "\n",
      "http://www.Department0.University0.edu/AssistantProfessor3 http://swat.cse.lehigh.edu/onto/univ-bench.owl#worksFor http://www.Department0.University0.edu\n",
      "-684 6 -2\n",
      "\n",
      "http://www.Department0.University0.edu/AssistantProfessor4 http://swat.cse.lehigh.edu/onto/univ-bench.owl#worksFor http://www.Department0.University0.edu\n",
      "-685 6 -2\n",
      "\n",
      "http://www.Department0.University0.edu/AssistantProfessor5 http://swat.cse.lehigh.edu/onto/univ-bench.owl#worksFor http://www.Department0.University0.edu\n",
      "-686 6 -2\n",
      "\n",
      "http://www.Department0.University0.edu/AssistantProfessor6 http://swat.cse.lehigh.edu/onto/univ-bench.owl#worksFor http://www.Department0.University0.edu\n",
      "-687 6 -2\n",
      "\n",
      "http://www.Department0.University0.edu/AssistantProfessor7 http://swat.cse.lehigh.edu/onto/univ-bench.owl#worksFor http://www.Department0.University0.edu\n",
      "-688 6 -2\n",
      "\n",
      "http://www.Department0.University0.edu/AssistantProfessor8 http://swat.cse.lehigh.edu/onto/univ-bench.owl#worksFor http://www.Department0.University0.edu\n",
      "-689 6 -2\n",
      "\n",
      "http://www.Department0.University0.edu/AssistantProfessor9 http://swat.cse.lehigh.edu/onto/univ-bench.owl#worksFor http://www.Department0.University0.edu\n",
      "-690 6 -2\n",
      "\n",
      "http://www.Department0.University0.edu/AssociateProfessor0 http://swat.cse.lehigh.edu/onto/univ-bench.owl#worksFor http://www.Department0.University0.edu\n",
      "-691 6 -2\n",
      "\n",
      "http://www.Department0.University0.edu/AssociateProfessor1 http://swat.cse.lehigh.edu/onto/univ-bench.owl#worksFor http://www.Department0.University0.edu\n",
      "-692 6 -2\n",
      "\n",
      "http://www.Department0.University0.edu/AssociateProfessor10 http://swat.cse.lehigh.edu/onto/univ-bench.owl#worksFor http://www.Department0.University0.edu\n",
      "-693 6 -2\n",
      "\n",
      "http://www.Department0.University0.edu/AssociateProfessor11 http://swat.cse.lehigh.edu/onto/univ-bench.owl#worksFor http://www.Department0.University0.edu\n",
      "-694 6 -2\n",
      "\n",
      "http://www.Department0.University0.edu/AssociateProfessor12 http://swat.cse.lehigh.edu/onto/univ-bench.owl#worksFor http://www.Department0.University0.edu\n",
      "-695 6 -2\n",
      "\n",
      "http://www.Department0.University0.edu/AssociateProfessor13 http://swat.cse.lehigh.edu/onto/univ-bench.owl#worksFor http://www.Department0.University0.edu\n",
      "-696 6 -2\n",
      "\n",
      "http://www.Department0.University0.edu/AssociateProfessor2 http://swat.cse.lehigh.edu/onto/univ-bench.owl#worksFor http://www.Department0.University0.edu\n",
      "-697 6 -2\n",
      "\n",
      "http://www.Department0.University0.edu/AssociateProfessor3 http://swat.cse.lehigh.edu/onto/univ-bench.owl#worksFor http://www.Department0.University0.edu\n",
      "-698 6 -2\n",
      "\n",
      "http://www.Department0.University0.edu/AssociateProfessor4 http://swat.cse.lehigh.edu/onto/univ-bench.owl#worksFor http://www.Department0.University0.edu\n",
      "-699 6 -2\n",
      "\n",
      "http://www.Department0.University0.edu/AssociateProfessor5 http://swat.cse.lehigh.edu/onto/univ-bench.owl#worksFor http://www.Department0.University0.edu\n",
      "-700 6 -2\n",
      "\n",
      "http://www.Department0.University0.edu/AssociateProfessor6 http://swat.cse.lehigh.edu/onto/univ-bench.owl#worksFor http://www.Department0.University0.edu\n",
      "-701 6 -2\n",
      "\n",
      "http://www.Department0.University0.edu/AssociateProfessor7 http://swat.cse.lehigh.edu/onto/univ-bench.owl#worksFor http://www.Department0.University0.edu\n",
      "-702 6 -2\n",
      "\n",
      "http://www.Department0.University0.edu/AssociateProfessor8 http://swat.cse.lehigh.edu/onto/univ-bench.owl#worksFor http://www.Department0.University0.edu\n",
      "-703 6 -2\n",
      "\n",
      "http://www.Department0.University0.edu/AssociateProfessor9 http://swat.cse.lehigh.edu/onto/univ-bench.owl#worksFor http://www.Department0.University0.edu\n",
      "-704 6 -2\n",
      "\n",
      "http://www.Department0.University0.edu/FullProfessor0 http://swat.cse.lehigh.edu/onto/univ-bench.owl#worksFor http://www.Department0.University0.edu\n",
      "-705 6 -2\n",
      "\n",
      "http://www.Department0.University0.edu/FullProfessor1 http://swat.cse.lehigh.edu/onto/univ-bench.owl#worksFor http://www.Department0.University0.edu\n",
      "-706 6 -2\n",
      "\n",
      "http://www.Department0.University0.edu/FullProfessor2 http://swat.cse.lehigh.edu/onto/univ-bench.owl#worksFor http://www.Department0.University0.edu\n",
      "-707 6 -2\n",
      "\n",
      "http://www.Department0.University0.edu/FullProfessor3 http://swat.cse.lehigh.edu/onto/univ-bench.owl#worksFor http://www.Department0.University0.edu\n",
      "-708 6 -2\n",
      "\n",
      "http://www.Department0.University0.edu/FullProfessor4 http://swat.cse.lehigh.edu/onto/univ-bench.owl#worksFor http://www.Department0.University0.edu\n",
      "-709 6 -2\n",
      "\n",
      "http://www.Department0.University0.edu/FullProfessor5 http://swat.cse.lehigh.edu/onto/univ-bench.owl#worksFor http://www.Department0.University0.edu\n",
      "-710 6 -2\n",
      "\n",
      "http://www.Department0.University0.edu/FullProfessor6 http://swat.cse.lehigh.edu/onto/univ-bench.owl#worksFor http://www.Department0.University0.edu\n",
      "-711 6 -2\n",
      "\n",
      "http://www.Department0.University0.edu/FullProfessor7 http://swat.cse.lehigh.edu/onto/univ-bench.owl#worksFor http://www.Department0.University0.edu\n",
      "-1 6 -2\n",
      "\n",
      "http://www.Department0.University0.edu/FullProfessor8 http://swat.cse.lehigh.edu/onto/univ-bench.owl#worksFor http://www.Department0.University0.edu\n",
      "-712 6 -2\n",
      "\n",
      "http://www.Department0.University0.edu/FullProfessor9 http://swat.cse.lehigh.edu/onto/univ-bench.owl#worksFor http://www.Department0.University0.edu\n",
      "-713 6 -2\n",
      "\n",
      "http://www.Department0.University0.edu/Lecturer0 http://swat.cse.lehigh.edu/onto/univ-bench.owl#worksFor http://www.Department0.University0.edu\n",
      "-714 6 -2\n",
      "\n",
      "http://www.Department0.University0.edu/Lecturer1 http://swat.cse.lehigh.edu/onto/univ-bench.owl#worksFor http://www.Department0.University0.edu\n",
      "-715 6 -2\n",
      "\n",
      "http://www.Department0.University0.edu/Lecturer2 http://swat.cse.lehigh.edu/onto/univ-bench.owl#worksFor http://www.Department0.University0.edu\n",
      "-716 6 -2\n",
      "\n",
      "http://www.Department0.University0.edu/Lecturer3 http://swat.cse.lehigh.edu/onto/univ-bench.owl#worksFor http://www.Department0.University0.edu\n",
      "-717 6 -2\n",
      "\n",
      "http://www.Department0.University0.edu/Lecturer4 http://swat.cse.lehigh.edu/onto/univ-bench.owl#worksFor http://www.Department0.University0.edu\n",
      "-718 6 -2\n",
      "\n",
      "http://www.Department0.University0.edu/Lecturer5 http://swat.cse.lehigh.edu/onto/univ-bench.owl#worksFor http://www.Department0.University0.edu\n",
      "-719 6 -2\n",
      "\n",
      "http://www.Department0.University0.edu/Lecturer6 http://swat.cse.lehigh.edu/onto/univ-bench.owl#worksFor http://www.Department0.University0.edu\n",
      "-720 6 -2\n",
      "\n"
     ]
    }
   ],
   "source": [
    "input_graph_encoding, resources_dictionary = lubm_graph_words_encoder.encode_graph(input_graph)"
   ],
   "metadata": {
    "collapsed": false
   }
  },
  {
   "cell_type": "code",
   "execution_count": 29,
   "outputs": [
    {
     "data": {
      "text/plain": "dict_keys([4, 2, 13, 22])"
     },
     "execution_count": 29,
     "metadata": {},
     "output_type": "execute_result"
    }
   ],
   "source": [
    "resources_dictionary.keys()"
   ],
   "metadata": {
    "collapsed": false
   }
  },
  {
   "cell_type": "code",
   "execution_count": 30,
   "outputs": [
    {
     "ename": "KeyError",
     "evalue": "4",
     "output_type": "error",
     "traceback": [
      "\u001B[0;31m---------------------------------------------------------------------------\u001B[0m",
      "\u001B[0;31mKeyError\u001B[0m                                  Traceback (most recent call last)",
      "\u001B[0;32m/tmp/ipykernel_13872/2305500557.py\u001B[0m in \u001B[0;36m<module>\u001B[0;34m\u001B[0m\n\u001B[0;32m----> 1\u001B[0;31m \u001B[0minference_graph_encoding\u001B[0m\u001B[0;34m,\u001B[0m \u001B[0mresources_dictionary\u001B[0m \u001B[0;34m=\u001B[0m \u001B[0mlubm_graph_words_encoder\u001B[0m\u001B[0;34m.\u001B[0m\u001B[0mencode_graph\u001B[0m\u001B[0;34m(\u001B[0m\u001B[0minference_graph\u001B[0m\u001B[0;34m,\u001B[0m \u001B[0minference\u001B[0m\u001B[0;34m=\u001B[0m\u001B[0;32mTrue\u001B[0m\u001B[0;34m)\u001B[0m\u001B[0;34m\u001B[0m\u001B[0;34m\u001B[0m\u001B[0m\n\u001B[0m",
      "\u001B[0;32m~/git/NMT4RDFS/code/graph_words_encoder.py\u001B[0m in \u001B[0;36mencode_graph\u001B[0;34m(self, graph, local_resources, inference, verbose, skip_bnodes, skip_type_resource, skip_type_class)\u001B[0m\n\u001B[1;32m     90\u001B[0m \u001B[0;34m\u001B[0m\u001B[0m\n\u001B[1;32m     91\u001B[0m             \u001B[0mproperty_id\u001B[0m \u001B[0;34m=\u001B[0m \u001B[0mself\u001B[0m\u001B[0;34m.\u001B[0m\u001B[0mactive_properties\u001B[0m\u001B[0;34m[\u001B[0m\u001B[0mproperty\u001B[0m\u001B[0;34m]\u001B[0m\u001B[0;34m\u001B[0m\u001B[0;34m\u001B[0m\u001B[0m\n\u001B[0;32m---> 92\u001B[0;31m             \u001B[0msubject_id\u001B[0m \u001B[0;34m=\u001B[0m \u001B[0mself\u001B[0m\u001B[0;34m.\u001B[0m\u001B[0mresource_to_id\u001B[0m\u001B[0;34m(\u001B[0m\u001B[0mlocal_resources\u001B[0m\u001B[0;34m,\u001B[0m \u001B[0msubject\u001B[0m\u001B[0;34m,\u001B[0m \u001B[0mproperty\u001B[0m\u001B[0;34m)\u001B[0m\u001B[0;34m\u001B[0m\u001B[0;34m\u001B[0m\u001B[0m\n\u001B[0m\u001B[1;32m     93\u001B[0m             \u001B[0mobject_id\u001B[0m \u001B[0;34m=\u001B[0m \u001B[0mself\u001B[0m\u001B[0;34m.\u001B[0m\u001B[0mresource_to_id\u001B[0m\u001B[0;34m(\u001B[0m\u001B[0mlocal_resources\u001B[0m\u001B[0;34m,\u001B[0m \u001B[0mobject\u001B[0m\u001B[0;34m,\u001B[0m \u001B[0mproperty\u001B[0m\u001B[0;34m)\u001B[0m\u001B[0;34m\u001B[0m\u001B[0;34m\u001B[0m\u001B[0m\n\u001B[1;32m     94\u001B[0m \u001B[0;34m\u001B[0m\u001B[0m\n",
      "\u001B[0;32m~/git/NMT4RDFS/code/graph_words_encoder.py\u001B[0m in \u001B[0;36mresource_to_id\u001B[0;34m(self, local_resources, resource, property_uri)\u001B[0m\n\u001B[1;32m     48\u001B[0m                 \u001B[0;32mreturn\u001B[0m \u001B[0mresource_id\u001B[0m\u001B[0;34m\u001B[0m\u001B[0;34m\u001B[0m\u001B[0m\n\u001B[1;32m     49\u001B[0m             \u001B[0;32melse\u001B[0m\u001B[0;34m:\u001B[0m\u001B[0;34m\u001B[0m\u001B[0;34m\u001B[0m\u001B[0m\n\u001B[0;32m---> 50\u001B[0;31m                 \u001B[0mresource_id\u001B[0m \u001B[0;34m=\u001B[0m \u001B[0mlocal_resources\u001B[0m\u001B[0;34m[\u001B[0m\u001B[0mproperty_group\u001B[0m\u001B[0;34m]\u001B[0m\u001B[0;34m[\u001B[0m\u001B[0mresource\u001B[0m\u001B[0;34m]\u001B[0m\u001B[0;34m\u001B[0m\u001B[0;34m\u001B[0m\u001B[0m\n\u001B[0m\u001B[1;32m     51\u001B[0m \u001B[0;34m\u001B[0m\u001B[0m\n\u001B[1;32m     52\u001B[0m                 \u001B[0;32mreturn\u001B[0m \u001B[0mresource_id\u001B[0m\u001B[0;34m\u001B[0m\u001B[0;34m\u001B[0m\u001B[0m\n",
      "\u001B[0;31mKeyError\u001B[0m: 4"
     ]
    }
   ],
   "source": [
    "inference_graph_encoding, resources_dictionary = lubm_graph_words_encoder.encode_graph(inference_graph, inference=True)"
   ],
   "metadata": {
    "collapsed": false
   }
  },
  {
   "cell_type": "code",
   "execution_count": 31,
   "outputs": [
    {
     "data": {
      "text/plain": "dict_keys([4, 2, 13, 22])"
     },
     "execution_count": 31,
     "metadata": {},
     "output_type": "execute_result"
    }
   ],
   "source": [
    "resources_dictionary.keys()"
   ],
   "metadata": {
    "collapsed": false
   }
  },
  {
   "cell_type": "code",
   "execution_count": 35,
   "outputs": [
    {
     "name": "stdout",
     "output_type": "stream",
     "text": [
      "http://www.w3.org/1999/02/22-rdf-syntax-ns#type\n",
      "http://swat.cse.lehigh.edu/onto/univ-bench.owl#advisor\n",
      "http://swat.cse.lehigh.edu/onto/univ-bench.owl#affiliateOf\n",
      "http://swat.cse.lehigh.edu/onto/univ-bench.owl#affiliatedOrganizationOf\n",
      "http://swat.cse.lehigh.edu/onto/univ-bench.owl#age\n",
      "http://swat.cse.lehigh.edu/onto/univ-bench.owl#degreeFrom\n",
      "http://swat.cse.lehigh.edu/onto/univ-bench.owl#doctoralDegreeFrom\n",
      "http://swat.cse.lehigh.edu/onto/univ-bench.owl#emailAddress\n",
      "http://swat.cse.lehigh.edu/onto/univ-bench.owl#hasAlumnus\n",
      "http://swat.cse.lehigh.edu/onto/univ-bench.owl#headOf\n",
      "http://swat.cse.lehigh.edu/onto/univ-bench.owl#listedCourse\n",
      "http://swat.cse.lehigh.edu/onto/univ-bench.owl#mastersDegreeFrom\n",
      "http://swat.cse.lehigh.edu/onto/univ-bench.owl#member\n",
      "http://swat.cse.lehigh.edu/onto/univ-bench.owl#memberOf\n",
      "http://swat.cse.lehigh.edu/onto/univ-bench.owl#name\n",
      "http://swat.cse.lehigh.edu/onto/univ-bench.owl#orgPublication\n",
      "http://swat.cse.lehigh.edu/onto/univ-bench.owl#publicationAuthor\n",
      "http://swat.cse.lehigh.edu/onto/univ-bench.owl#publicationDate\n",
      "http://swat.cse.lehigh.edu/onto/univ-bench.owl#publicationResearch\n",
      "http://swat.cse.lehigh.edu/onto/univ-bench.owl#researchInterest\n",
      "http://swat.cse.lehigh.edu/onto/univ-bench.owl#researchProject\n",
      "http://swat.cse.lehigh.edu/onto/univ-bench.owl#softwareDocumentation\n",
      "http://swat.cse.lehigh.edu/onto/univ-bench.owl#softwareVersion\n",
      "http://swat.cse.lehigh.edu/onto/univ-bench.owl#subOrganizationOf\n",
      "http://swat.cse.lehigh.edu/onto/univ-bench.owl#takesCourse\n",
      "http://swat.cse.lehigh.edu/onto/univ-bench.owl#teacherOf\n",
      "http://swat.cse.lehigh.edu/onto/univ-bench.owl#teachingAssistantOf\n",
      "http://swat.cse.lehigh.edu/onto/univ-bench.owl#telephone\n",
      "http://swat.cse.lehigh.edu/onto/univ-bench.owl#tenured\n",
      "http://swat.cse.lehigh.edu/onto/univ-bench.owl#title\n",
      "http://swat.cse.lehigh.edu/onto/univ-bench.owl#undergraduateDegreeFrom\n",
      "http://swat.cse.lehigh.edu/onto/univ-bench.owl#worksFor\n",
      "http://www.w3.org/1999/02/22-rdf-syntax-ns#_1\n",
      "http://www.w3.org/1999/02/22-rdf-syntax-ns#first\n",
      "http://www.w3.org/1999/02/22-rdf-syntax-ns#object\n",
      "http://www.w3.org/1999/02/22-rdf-syntax-ns#predicate\n",
      "http://www.w3.org/1999/02/22-rdf-syntax-ns#rest\n",
      "http://www.w3.org/1999/02/22-rdf-syntax-ns#subject\n",
      "http://www.w3.org/1999/02/22-rdf-syntax-ns#value\n",
      "http://www.w3.org/2000/01/rdf-schema#comment\n",
      "http://www.w3.org/2000/01/rdf-schema#domain\n",
      "http://www.w3.org/2000/01/rdf-schema#isDefinedBy\n",
      "http://www.w3.org/2000/01/rdf-schema#label\n",
      "http://www.w3.org/2000/01/rdf-schema#member\n",
      "http://www.w3.org/2000/01/rdf-schema#range\n",
      "http://www.w3.org/2000/01/rdf-schema#seeAlso\n",
      "http://www.w3.org/2000/01/rdf-schema#subClassOf\n",
      "http://www.w3.org/2000/01/rdf-schema#subPropertyOf\n",
      "http://www.w3.org/2002/07/owl#imports\n",
      "http://www.w3.org/2002/07/owl#intersectionOf\n",
      "http://www.w3.org/2002/07/owl#inverseOf\n",
      "http://www.w3.org/2002/07/owl#onProperty\n",
      "http://www.w3.org/2002/07/owl#someValuesFrom\n",
      "http://www.w3.org/2002/07/owl#versionInfo\n"
     ]
    }
   ],
   "source": [
    "for key in properties_dict.getKeys():\n",
    "    print(key)"
   ],
   "metadata": {
    "collapsed": false
   }
  },
  {
   "cell_type": "code",
   "execution_count": null,
   "outputs": [],
   "source": [
    "for key in properties_group_dict.keys():  #%%\n",
    "    pass\n",
    "\n",
    "import pandas as pd\n",
    "\n",
    "\n",
    "def deserialize(pz):\n",
    "    if os.path.isfile(pz):\n",
    "        compressed = open(pz, 'rb').read()\n",
    "        pkl = zlib.decompress(compressed)\n",
    "        tpl = pickle.loads(pkl)\n",
    "        return tpl\n",
    "    else:\n",
    "        return []\n",
    "\n",
    "\n",
    "lubm_classes_file = \"../data/lubm1_intact/encoding/lubm_classes.pz\"\n",
    "lubm_properties_file = \"../data/lubm1_intact/encoding/lubm_properties.pz\"\n",
    "lubm_properties_groups_file = \"../data/lubm1_intact/encoding/lubm_properties_groups.pz\"\n",
    "tbox_file = \"../data/lubm1_intact/encoding/tbox.nt\"\n",
    "\n",
    "lubm_classes = deserialize(lubm_classes_file)\n",
    "lubm_properties = deserialize(lubm_properties_file)\n",
    "lubm_properties_groups = deserialize(lubm_properties_groups_file)\n",
    "\n",
    "data = []\n",
    "\n",
    "for key, value in lubm_classes.items():\n",
    "    data.append({\"type\": \"class\", \"uri\": key, \"index\": value})\n",
    "\n",
    "for key, value in lubm_properties.items():\n",
    "    data.append({\"type\": \"property\", \"uri\": key, \"index\": value})\n",
    "\n",
    "for key, value in lubm_properties_groups.items():\n",
    "    data.append({\"type\": \"property_group\", \"uri\": key, \"index\": value})\n",
    "\n",
    "df = pd.DataFrame(data)\n",
    "print(df[df.type == \"class\"].size,\n",
    "      df[df.type == \"property\"].size,\n",
    "      df[df.type == \"property_group\"].size)\n",
    "\n",
    "#lubm_classes\n",
    "df.shape"
   ],
   "metadata": {
    "collapsed": false
   }
  },
  {
   "cell_type": "markdown",
   "source": [
    "# Creating a DF with clases, properties, property_groups\n",
    "Even though relative - there is no relation between index"
   ],
   "metadata": {
    "collapsed": false
   }
  },
  {
   "cell_type": "code",
   "execution_count": null,
   "outputs": [],
   "source": [
    "result_df = df.pivot_table(index='index', columns='type', values='uri', aggfunc='first')"
   ],
   "metadata": {
    "collapsed": false
   }
  },
  {
   "cell_type": "code",
   "execution_count": null,
   "outputs": [],
   "source": [
    "result_df"
   ],
   "metadata": {
    "collapsed": false
   }
  },
  {
   "cell_type": "code",
   "execution_count": null,
   "outputs": [],
   "source": [
    "df_class = df[df.type == \"class\"]\n",
    "df_property = df[df.type == \"property\"]\n",
    "df_property_group = df[df.type == \"property_group\"]"
   ],
   "metadata": {
    "collapsed": false
   }
  },
  {
   "cell_type": "code",
   "execution_count": null,
   "outputs": [],
   "source": [
    "col_names = [\"subject\", \"predicate\", \"object\"]\n",
    "#df2 = pd.read_csv(tbox_file, delimiter=' ', names=col_names)\n",
    "df2 = pd.read_csv(tbox_file, delimiter=' ')\n",
    "#df2['object'] = df2['object'].apply(lambda x: x.rstrip('.'))\n",
    "df2 = df2.drop(df2.columns[3], axis=1)\n",
    "df2.columns = col_names\n",
    "df2.shape"
   ],
   "metadata": {
    "collapsed": false
   }
  },
  {
   "cell_type": "markdown",
   "source": [
    "# I want to see what \"property types\" are in the #type in df2 for \"df1\" values marked as \"property\""
   ],
   "metadata": {
    "collapsed": false
   }
  },
  {
   "cell_type": "code",
   "execution_count": null,
   "outputs": [],
   "source": [
    "df_class"
   ],
   "metadata": {
    "collapsed": false
   }
  },
  {
   "cell_type": "code",
   "execution_count": null,
   "outputs": [],
   "source": [
    "df_property_group"
   ],
   "metadata": {
    "collapsed": false
   }
  },
  {
   "cell_type": "code",
   "execution_count": null,
   "outputs": [],
   "source": [],
   "metadata": {
    "collapsed": false
   }
  },
  {
   "cell_type": "markdown",
   "source": [
    "# I will seperate only the subject #end part and compare"
   ],
   "metadata": {
    "collapsed": false
   }
  },
  {
   "cell_type": "code",
   "execution_count": null,
   "outputs": [],
   "source": [
    "df_property_copy = df_property.copy()"
   ],
   "metadata": {
    "collapsed": false
   }
  },
  {
   "cell_type": "code",
   "execution_count": null,
   "outputs": [],
   "source": [
    "df_property_copy.uri = df_property_copy.uri.str.extract(r'#(.+)')"
   ],
   "metadata": {
    "collapsed": false
   }
  },
  {
   "cell_type": "code",
   "execution_count": null,
   "outputs": [],
   "source": [
    "df_property_copy"
   ],
   "metadata": {
    "collapsed": false
   }
  },
  {
   "cell_type": "code",
   "execution_count": null,
   "outputs": [],
   "source": [
    "df1_property_list = df_property_copy.uri.to_list()"
   ],
   "metadata": {
    "collapsed": false
   }
  },
  {
   "cell_type": "markdown",
   "source": [
    "# DF 2 CLASSES"
   ],
   "metadata": {
    "collapsed": false
   }
  },
  {
   "cell_type": "code",
   "execution_count": null,
   "outputs": [],
   "source": [
    "df2"
   ],
   "metadata": {
    "collapsed": false
   }
  },
  {
   "cell_type": "code",
   "execution_count": null,
   "outputs": [],
   "source": [
    "df2_types = df2[df2.predicate.str.contains('#type')]"
   ],
   "metadata": {
    "collapsed": false
   }
  },
  {
   "cell_type": "code",
   "execution_count": null,
   "outputs": [],
   "source": [
    "df2_classes = df2[df2.object.str.contains('#Class')]"
   ],
   "metadata": {
    "collapsed": false
   }
  },
  {
   "cell_type": "code",
   "execution_count": null,
   "outputs": [],
   "source": [
    "df2_classes"
   ],
   "metadata": {
    "collapsed": false
   }
  },
  {
   "cell_type": "code",
   "execution_count": null,
   "outputs": [],
   "source": [],
   "metadata": {
    "collapsed": false
   }
  },
  {
   "cell_type": "markdown",
   "source": [
    "# DF 2 PROPERTIES"
   ],
   "metadata": {
    "collapsed": false
   }
  },
  {
   "cell_type": "code",
   "execution_count": null,
   "outputs": [],
   "source": [
    "df2_types"
   ],
   "metadata": {
    "collapsed": false
   }
  },
  {
   "cell_type": "markdown",
   "source": [
    "# Compare property list from df1 to df2 subject, and get object \"type\""
   ],
   "metadata": {
    "collapsed": false
   }
  },
  {
   "cell_type": "code",
   "execution_count": null,
   "outputs": [],
   "source": [
    "df1_property_list"
   ],
   "metadata": {
    "collapsed": false
   }
  },
  {
   "cell_type": "code",
   "execution_count": null,
   "outputs": [],
   "source": [
    "types = []\n",
    "for x in range(len(df1_property_list)):\n",
    "    types.append(df2_types[df2_types.subject.str.contains(df1_property_list[x])].object.str.extract(r'#(.+)'))"
   ],
   "metadata": {
    "collapsed": false
   }
  },
  {
   "cell_type": "code",
   "execution_count": null,
   "outputs": [],
   "source": [
    "types_2 = []\n",
    "for type in types:\n",
    "    types_2.append(type.to_string().strip())"
   ],
   "metadata": {
    "collapsed": false
   }
  },
  {
   "cell_type": "code",
   "execution_count": null,
   "outputs": [],
   "source": [
    "types_2"
   ],
   "metadata": {
    "collapsed": false
   }
  },
  {
   "cell_type": "code",
   "execution_count": null,
   "outputs": [],
   "source": [
    "df2_properties = df2_types.copy()"
   ],
   "metadata": {
    "collapsed": false
   }
  },
  {
   "cell_type": "code",
   "execution_count": null,
   "outputs": [],
   "source": [
    "df2_properties = df2_properties[df2_properties.object.str.contains(\"Property\")].subject.unique()"
   ],
   "metadata": {
    "collapsed": false
   }
  },
  {
   "cell_type": "code",
   "execution_count": null,
   "outputs": [],
   "source": [
    "df2_properties"
   ],
   "metadata": {
    "collapsed": false
   }
  },
  {
   "cell_type": "markdown",
   "source": [
    "# DF2 SUB PROPERTIES"
   ],
   "metadata": {
    "collapsed": false
   }
  },
  {
   "cell_type": "code",
   "execution_count": null,
   "outputs": [],
   "source": [
    "df2_sub_properties = df2.copy()"
   ],
   "metadata": {
    "collapsed": false
   }
  },
  {
   "cell_type": "code",
   "execution_count": null,
   "outputs": [],
   "source": [
    "df2_sub_properties = df2_sub_properties[df2_sub_properties.predicate.str.contains(\"subPropertyOf\")]"
   ],
   "metadata": {
    "collapsed": false
   }
  },
  {
   "cell_type": "code",
   "execution_count": null,
   "outputs": [],
   "source": [
    "df2_sub_properties"
   ],
   "metadata": {
    "collapsed": false
   }
  },
  {
   "cell_type": "code",
   "execution_count": null,
   "outputs": [],
   "source": [
    "\n",
    "\n",
    "\n",
    "def get_lubm_graph_type(s):\n",
    "    s = s.split('/')[-1]\n",
    "    print(s)\n",
    "    s = s.split('_')[-1]\n",
    "    print(s)\n",
    "    m = re.search(\"\\d\", s)\n",
    "    print(m)\n",
    "    return s[:m.start()]"
   ],
   "metadata": {
    "collapsed": false
   }
  },
  {
   "cell_type": "code",
   "execution_count": null,
   "outputs": [],
   "source": [
    "get_lubm_graph_type(\"HTTP_www.Department0.University0.edu_AssistantProfessor8_Publication1.nt\")\n"
   ],
   "metadata": {
    "collapsed": false
   }
  },
  {
   "cell_type": "code",
   "execution_count": null,
   "outputs": [],
   "source": [
    "get_lubm_graph_type(\n",
    "    \"C:/Users/martt/PycharmProjects/NMT4RDFS/data/lubm1_intact/graphs_with_descriptions/HTTP_www.Department0.University0.edu_AssistantProfessor0.nt\")"
   ],
   "metadata": {
    "collapsed": false
   }
  },
  {
   "cell_type": "code",
   "execution_count": null,
   "outputs": [],
   "source": [
    "from rdflib import Graph\n",
    "import codecs\n",
    "import os"
   ],
   "metadata": {
    "collapsed": false
   }
  },
  {
   "cell_type": "code",
   "execution_count": null,
   "outputs": [],
   "source": [
    "input_graph = Graph()\n",
    "input_graph2 = Graph()\n",
    "input_graph3 = Graph()\n",
    "inference_graph = Graph()\n",
    "\n",
    "input_file = os.path.abspath(\n",
    "    \"/home/mart/git/NMT4RDFS/data/lubm1_intact/graphs_with_descriptions/HTTP_www.Department0.University0.edu.nt\")\n",
    "input_file2 = os.path.abspath(\n",
    "    \"/home/mart/git/NMT4RDFS/data/lubm1_intact/graphs_with_descriptions/HTTP_www.Department0.University0.edu_AssistantProfessor0.nt\")\n",
    "\n",
    "input_file3 = os.path.abspath(\n",
    "    \"/home/mart/git/NMT4RDFS/data/lubm1_intact/graphs_with_descriptions/HTTP_www.Department0.University0.edu_AssistantProfessor0_Publication0.nt\")\n",
    "\n",
    "inference_file = os.path.abspath(\n",
    "    \"/home/mart/git/NMT4RDFS/data/lubm1_intact/jena_inference_with_descriptions/HTTP_www.Department0.University0.edu.nt\")\n",
    "\n",
    "input_graph.parse(data=codecs.open(input_file, encoding=\"UTF-8\").read(), format=\"nt\")\n",
    "inference_graph.parse(data=codecs.open(inference_file, encoding=\"UTF-8\").read(), format=\"nt\")\n",
    "input_graph2.parse(data=codecs.open(input_file2, encoding=\"UTF-8\").read(), format=\"nt\")\n",
    "input_graph3.parse(data=codecs.open(input_file3, encoding=\"UTF-8\").read(), format=\"nt\")\n",
    "graph = input_graph"
   ],
   "metadata": {
    "collapsed": false
   }
  },
  {
   "cell_type": "code",
   "execution_count": null,
   "outputs": [],
   "source": [
    "triples_list = sorted(list(input_graph))[0]"
   ],
   "metadata": {
    "collapsed": false
   }
  },
  {
   "cell_type": "code",
   "execution_count": null,
   "outputs": [],
   "source": [
    "from graph_words_encoder import GraphWordsEncoder\n",
    "from prepare_data_utils import get_properties_dict, get_classes_dict, get_properties_groups"
   ],
   "metadata": {
    "collapsed": false
   }
  },
  {
   "cell_type": "code",
   "execution_count": null,
   "outputs": [],
   "source": [
    "import configparser\n",
    "import json\n",
    "import logging"
   ],
   "metadata": {
    "collapsed": false
   }
  },
  {
   "cell_type": "code",
   "execution_count": null,
   "outputs": [],
   "source": [
    "logging.basicConfig(format=\"%(asctime)s - %(name)s - %(levelname)s - %(message)s\", level=logging.INFO)\n",
    "\n",
    "config = configparser.ConfigParser()\n",
    "with open('../config.json', 'r') as f:\n",
    "    config = json.load(f)"
   ],
   "metadata": {
    "collapsed": false
   }
  },
  {
   "cell_type": "code",
   "execution_count": null,
   "outputs": [],
   "source": [
    "LUBM_ONTOLOGY_ENDPOINT = config['LUBM']['SPARQL_PARAMS']['ONTOLOGY_ENDPOINT']\n",
    "LUBM_ONTOLOGY_REPOSITORY = config['LUBM']['SPARQL_PARAMS']['ONTOLOGY_REPOSITORY']\n",
    "LUBM_ONTOLOGY_ENDPOINT_TYPE = config['LUBM']['SPARQL_PARAMS']['ONTOLOGY_ENDPOINT_TYPE']\n",
    "PROPERTIES_QUERY = config['LUBM']['SPARQL_PARAMS']['PROPERTIES_QUERY']\n",
    "QUERY_LIMIT = config['LUBM']['SPARQL_PARAMS']['QUERY_LIMIT']\n",
    "PROPERTIES_DICT_FILE = config['LUBM']['ENCODING_PARAMS']['PROPERTIES_DICT_FILE']\n",
    "CLASSES_QUERY = config['LUBM']['SPARQL_PARAMS']['CLASSES_QUERY']\n",
    "LUBM_ENCODING_DIRECTORY = config['LUBM']['ENCODING_PARAMS']['ENCODING_DIRECTORY']\n",
    "CLASSES_DICT_FILE = config['LUBM']['ENCODING_PARAMS']['CLASSES_DICT_FILE']\n",
    "PROPERTIES_GROUPS_FILE = config['LUBM']['ENCODING_PARAMS']['PROPERTIES_GROUPS_FILE']\n",
    "GRAPH_WORDS_ENCODER = config['LUBM']['ENCODING_PARAMS']['GRAPH_WORDS_ENCODER']\n",
    "SUB_PROPERTIES_QUERY = config['LUBM']['SPARQL_PARAMS']['SUB_PROPERTIES_QUERY']\n",
    "INPUT_GRAPHS_FOLDER = config['LUBM']['DATA']['INPUT_GRAPHS_FOLDER']\n",
    "INFERENCE_GRAPHS_FOLDER = config['LUBM']['DATA']['INFERENCE_GRAPHS_FOLDER']\n",
    "DATASET_ENCODING_FILE = config['LUBM']['ENCODING_PARAMS']['DATASET_ENCODING_FILE']\n",
    "INPUT_GRAPH_WORDS_CATALOGUE_FILE = config['LUBM']['ENCODING_PARAMS']['INPUT_GRAPH_WORDS_CATALOGUE_FILE']\n",
    "INFERENCE_GRAPH_WORDS_CATALOGUE_FILE = config['LUBM']['ENCODING_PARAMS']['INFERENCE_GRAPH_WORDS_CATALOGUE_FILE']\n",
    "EMBEDDING_MATRIX_CATALOGUE_FILE = config['LUBM']['ENCODING_PARAMS']['EMBEDDING_MATRIX_CATALOGUE_FILE']\n",
    "MAXIMUM_MATRIX_SIZE = config['LUBM']['ENCODING_PARAMS']['MAXIMUM_MATRIX_SIZE']\n",
    "HOPE_EMBEDDING_SIZE = config['LUBM']['ENCODING_PARAMS']['HOPE_EMBEDDING_SIZE']"
   ],
   "metadata": {
    "collapsed": false
   }
  },
  {
   "cell_type": "code",
   "execution_count": null,
   "outputs": [],
   "source": [
    "properties_dict = get_properties_dict(LUBM_ENCODING_DIRECTORY + PROPERTIES_DICT_FILE, PROPERTIES_QUERY,\n",
    "                                      LUBM_ONTOLOGY_REPOSITORY, LUBM_ONTOLOGY_ENDPOINT,\n",
    "                                      LUBM_ONTOLOGY_ENDPOINT_TYPE, QUERY_LIMIT)"
   ],
   "metadata": {
    "collapsed": false
   }
  },
  {
   "cell_type": "code",
   "execution_count": null,
   "outputs": [],
   "source": [
    "classes_dict = get_classes_dict(LUBM_ENCODING_DIRECTORY + CLASSES_DICT_FILE, CLASSES_QUERY, LUBM_ONTOLOGY_REPOSITORY,\n",
    "                                LUBM_ONTOLOGY_ENDPOINT,\n",
    "                                LUBM_ONTOLOGY_ENDPOINT_TYPE, QUERY_LIMIT)"
   ],
   "metadata": {
    "collapsed": false
   }
  },
  {
   "cell_type": "code",
   "execution_count": null,
   "outputs": [],
   "source": [
    "properties_group_dict = get_properties_groups(LUBM_ENCODING_DIRECTORY + PROPERTIES_GROUPS_FILE, SUB_PROPERTIES_QUERY,\n",
    "                                              LUBM_ONTOLOGY_REPOSITORY,\n",
    "                                              LUBM_ONTOLOGY_ENDPOINT,\n",
    "                                              LUBM_ONTOLOGY_ENDPOINT_TYPE, properties_dict, QUERY_LIMIT)"
   ],
   "metadata": {
    "collapsed": false
   }
  },
  {
   "cell_type": "code",
   "execution_count": null,
   "outputs": [],
   "source": [
    "for key in properties_dict.getKeys():\n",
    "    print(key)"
   ],
   "metadata": {
    "collapsed": false
   }
  },
  {
   "cell_type": "code",
   "execution_count": null,
   "outputs": [],
   "source": [
    "lubm_graph_words_encoder = GraphWordsEncoder(properties_dict, properties_group_dict, classes_dict)"
   ],
   "metadata": {
    "collapsed": false
   }
  },
  {
   "cell_type": "code",
   "execution_count": null,
   "outputs": [],
   "source": [
    "input_graph_encoding, resources_dictionary = lubm_graph_words_encoder.encode_graph(input_graph)"
   ],
   "metadata": {
    "collapsed": false
   }
  },
  {
   "cell_type": "code",
   "execution_count": null,
   "outputs": [],
   "source": [
    "resources_dictionary.keys()"
   ],
   "metadata": {
    "collapsed": false
   }
  },
  {
   "cell_type": "code",
   "execution_count": null,
   "outputs": [],
   "source": [
    "inference_graph_encoding, resources_dictionary = lubm_graph_words_encoder.encode_graph(inference_graph, inference=True)"
   ],
   "metadata": {
    "collapsed": false
   }
  },
  {
   "cell_type": "code",
   "execution_count": null,
   "outputs": [],
   "source": [
    "resources_dictionary.keys()"
   ],
   "metadata": {
    "collapsed": false
   }
  },
  {
   "cell_type": "code",
   "execution_count": null,
   "outputs": [],
   "source": [
    "for key in properties_dict.getKeys():\n",
    "    print(key)"
   ],
   "metadata": {
    "collapsed": false
   }
  },
  {
   "cell_type": "code",
   "execution_count": null,
   "outputs": [],
   "source": [
    "for key in properties_group_dict.keys():  #%%\n",
    "\n",
    "import pandas as pd\n",
    "\n",
    "\n",
    "def deserialize(pz):\n",
    "    if os.path.isfile(pz):\n",
    "        compressed = open(pz, 'rb').read()\n",
    "        pkl = zlib.decompress(compressed)\n",
    "        tpl = pickle.loads(pkl)\n",
    "        return tpl\n",
    "    else:\n",
    "        return []\n",
    "\n",
    "\n",
    "lubm_classes_file = \"../data/lubm1_intact/encoding/lubm_classes.pz\"\n",
    "lubm_properties_file = \"../data/lubm1_intact/encoding/lubm_properties.pz\"\n",
    "lubm_properties_groups_file = \"../data/lubm1_intact/encoding/lubm_properties_groups.pz\"\n",
    "tbox_file = \"../data/lubm1_intact/encoding/tbox.nt\"\n",
    "\n",
    "lubm_classes = deserialize(lubm_classes_file)\n",
    "lubm_properties = deserialize(lubm_properties_file)\n",
    "lubm_properties_groups = deserialize(lubm_properties_groups_file)\n",
    "\n",
    "data = []\n",
    "\n",
    "for key, value in lubm_classes.items():\n",
    "    data.append({\"type\": \"class\", \"uri\": key, \"index\": value})\n",
    "\n",
    "for key, value in lubm_properties.items():\n",
    "    data.append({\"type\": \"property\", \"uri\": key, \"index\": value})\n",
    "\n",
    "for key, value in lubm_properties_groups.items():\n",
    "    data.append({\"type\": \"property_group\", \"uri\": key, \"index\": value})\n",
    "\n",
    "df = pd.DataFrame(data)\n",
    "print(df[df.type == \"class\"].size,\n",
    "      df[df.type == \"property\"].size,\n",
    "      df[df.type == \"property_group\"].size)\n",
    "\n",
    "#lubm_classes\n",
    "df.shape"
   ],
   "metadata": {
    "collapsed": false
   }
  },
  {
   "cell_type": "markdown",
   "source": [
    "# Creating a DF with clases, properties, property_groups\n",
    "Even though relative - there is no relation between index"
   ],
   "metadata": {
    "collapsed": false
   }
  },
  {
   "cell_type": "code",
   "execution_count": null,
   "outputs": [],
   "source": [
    "result_df = df.pivot_table(index='index', columns='type', values='uri', aggfunc='first')"
   ],
   "metadata": {
    "collapsed": false
   }
  },
  {
   "cell_type": "code",
   "execution_count": null,
   "outputs": [],
   "source": [
    "result_df"
   ],
   "metadata": {
    "collapsed": false
   }
  },
  {
   "cell_type": "code",
   "execution_count": null,
   "outputs": [],
   "source": [
    "df_class = df[df.type == \"class\"]\n",
    "df_property = df[df.type == \"property\"]\n",
    "df_property_group = df[df.type == \"property_group\"]"
   ],
   "metadata": {
    "collapsed": false
   }
  },
  {
   "cell_type": "code",
   "execution_count": null,
   "outputs": [],
   "source": [
    "col_names = [\"subject\", \"predicate\", \"object\"]\n",
    "#df2 = pd.read_csv(tbox_file, delimiter=' ', names=col_names)\n",
    "df2 = pd.read_csv(tbox_file, delimiter=' ')\n",
    "#df2['object'] = df2['object'].apply(lambda x: x.rstrip('.'))\n",
    "df2 = df2.drop(df2.columns[3], axis=1)\n",
    "df2.columns = col_names\n",
    "df2.shape"
   ],
   "metadata": {
    "collapsed": false
   }
  },
  {
   "cell_type": "markdown",
   "source": [
    "# I want to see what \"property types\" are in the #type in df2 for \"df1\" values marked as \"property\""
   ],
   "metadata": {
    "collapsed": false
   }
  },
  {
   "cell_type": "code",
   "execution_count": null,
   "outputs": [],
   "source": [
    "df_class"
   ],
   "metadata": {
    "collapsed": false
   }
  },
  {
   "cell_type": "code",
   "execution_count": null,
   "outputs": [],
   "source": [
    "df_property_group"
   ],
   "metadata": {
    "collapsed": false
   }
  },
  {
   "cell_type": "code",
   "execution_count": null,
   "outputs": [],
   "source": [],
   "metadata": {
    "collapsed": false
   }
  },
  {
   "cell_type": "markdown",
   "source": [
    "# I will seperate only the subject #end part and compare"
   ],
   "metadata": {
    "collapsed": false
   }
  },
  {
   "cell_type": "code",
   "execution_count": null,
   "outputs": [],
   "source": [
    "df_property_copy = df_property.copy()"
   ],
   "metadata": {
    "collapsed": false
   }
  },
  {
   "cell_type": "code",
   "execution_count": null,
   "outputs": [],
   "source": [
    "df_property_copy.uri = df_property_copy.uri.str.extract(r'#(.+)')"
   ],
   "metadata": {
    "collapsed": false
   }
  },
  {
   "cell_type": "code",
   "execution_count": null,
   "outputs": [],
   "source": [
    "df_property_copy"
   ],
   "metadata": {
    "collapsed": false
   }
  },
  {
   "cell_type": "code",
   "execution_count": null,
   "outputs": [],
   "source": [
    "df1_property_list = df_property_copy.uri.to_list()"
   ],
   "metadata": {
    "collapsed": false
   }
  },
  {
   "cell_type": "markdown",
   "source": [
    "# DF 2 CLASSES"
   ],
   "metadata": {
    "collapsed": false
   }
  },
  {
   "cell_type": "code",
   "execution_count": null,
   "outputs": [],
   "source": [
    "df2"
   ],
   "metadata": {
    "collapsed": false
   }
  },
  {
   "cell_type": "code",
   "execution_count": null,
   "outputs": [],
   "source": [
    "df2_types = df2[df2.predicate.str.contains('#type')]"
   ],
   "metadata": {
    "collapsed": false
   }
  },
  {
   "cell_type": "code",
   "execution_count": null,
   "outputs": [],
   "source": [
    "df2_classes = df2[df2.object.str.contains('#Class')]"
   ],
   "metadata": {
    "collapsed": false
   }
  },
  {
   "cell_type": "code",
   "execution_count": null,
   "outputs": [],
   "source": [
    "df2_classes"
   ],
   "metadata": {
    "collapsed": false
   }
  },
  {
   "cell_type": "code",
   "execution_count": null,
   "outputs": [],
   "source": [],
   "metadata": {
    "collapsed": false
   }
  },
  {
   "cell_type": "markdown",
   "source": [
    "# DF 2 PROPERTIES"
   ],
   "metadata": {
    "collapsed": false
   }
  },
  {
   "cell_type": "code",
   "execution_count": null,
   "outputs": [],
   "source": [
    "df2_types"
   ],
   "metadata": {
    "collapsed": false
   }
  },
  {
   "cell_type": "markdown",
   "source": [
    "# Compare property list from df1 to df2 subject, and get object \"type\""
   ],
   "metadata": {
    "collapsed": false
   }
  },
  {
   "cell_type": "code",
   "execution_count": null,
   "outputs": [],
   "source": [
    "df1_property_list"
   ],
   "metadata": {
    "collapsed": false
   }
  },
  {
   "cell_type": "code",
   "execution_count": null,
   "outputs": [],
   "source": [
    "types = []\n",
    "for x in range(len(df1_property_list)):\n",
    "    types.append(df2_types[df2_types.subject.str.contains(df1_property_list[x])].object.str.extract(r'#(.+)'))"
   ],
   "metadata": {
    "collapsed": false
   }
  },
  {
   "cell_type": "code",
   "execution_count": null,
   "outputs": [],
   "source": [
    "types_2 = []\n",
    "for type in types:\n",
    "    types_2.append(type.to_string().strip())"
   ],
   "metadata": {
    "collapsed": false
   }
  },
  {
   "cell_type": "code",
   "execution_count": null,
   "outputs": [],
   "source": [
    "types_2"
   ],
   "metadata": {
    "collapsed": false
   }
  },
  {
   "cell_type": "code",
   "execution_count": null,
   "outputs": [],
   "source": [
    "df2_properties = df2_types.copy()"
   ],
   "metadata": {
    "collapsed": false
   }
  },
  {
   "cell_type": "code",
   "execution_count": null,
   "outputs": [],
   "source": [
    "df2_properties = df2_properties[df2_properties.object.str.contains(\"Property\")].subject.unique()"
   ],
   "metadata": {
    "collapsed": false
   }
  },
  {
   "cell_type": "code",
   "execution_count": null,
   "outputs": [],
   "source": [
    "df2_properties"
   ],
   "metadata": {
    "collapsed": false
   }
  },
  {
   "cell_type": "markdown",
   "source": [
    "# DF2 SUB PROPERTIES"
   ],
   "metadata": {
    "collapsed": false
   }
  },
  {
   "cell_type": "code",
   "execution_count": null,
   "outputs": [],
   "source": [
    "df2_sub_properties = df2.copy()"
   ],
   "metadata": {
    "collapsed": false
   }
  },
  {
   "cell_type": "code",
   "execution_count": null,
   "outputs": [],
   "source": [
    "df2_sub_properties = df2_sub_properties[df2_sub_properties.predicate.str.contains(\"subPropertyOf\")]"
   ],
   "metadata": {
    "collapsed": false
   }
  },
  {
   "cell_type": "code",
   "execution_count": null,
   "outputs": [],
   "source": [
    "df2_sub_properties"
   ],
   "metadata": {
    "collapsed": false
   }
  },
  {
   "cell_type": "code",
   "execution_count": null,
   "outputs": [],
   "source": [
    "\n",
    "\n",
    "\n",
    "def get_lubm_graph_type(s):\n",
    "    s = s.split('/')[-1]\n",
    "    print(s)\n",
    "    s = s.split('_')[-1]\n",
    "    print(s)\n",
    "    m = re.search(\"\\d\", s)\n",
    "    print(m)\n",
    "    return s[:m.start()]"
   ],
   "metadata": {
    "collapsed": false
   }
  },
  {
   "cell_type": "code",
   "execution_count": null,
   "outputs": [],
   "source": [
    "get_lubm_graph_type(\"HTTP_www.Department0.University0.edu_AssistantProfessor8_Publication1.nt\")\n"
   ],
   "metadata": {
    "collapsed": false
   }
  },
  {
   "cell_type": "code",
   "execution_count": null,
   "outputs": [],
   "source": [
    "get_lubm_graph_type(\n",
    "    \"C:/Users/martt/PycharmProjects/NMT4RDFS/data/lubm1_intact/graphs_with_descriptions/HTTP_www.Department0.University0.edu_AssistantProfessor0.nt\")"
   ],
   "metadata": {
    "collapsed": false
   }
  },
  {
   "cell_type": "code",
   "execution_count": null,
   "outputs": [],
   "source": [
    "from rdflib import Graph\n",
    "import codecs\n",
    "import os"
   ],
   "metadata": {
    "collapsed": false
   }
  },
  {
   "cell_type": "code",
   "execution_count": null,
   "outputs": [],
   "source": [
    "input_graph = Graph()\n",
    "input_graph2 = Graph()\n",
    "input_graph3 = Graph()\n",
    "inference_graph = Graph()\n",
    "\n",
    "input_file = os.path.abspath(\n",
    "    \"/home/mart/git/NMT4RDFS/data/lubm1_intact/graphs_with_descriptions/HTTP_www.Department0.University0.edu.nt\")\n",
    "input_file2 = os.path.abspath(\n",
    "    \"/home/mart/git/NMT4RDFS/data/lubm1_intact/graphs_with_descriptions/HTTP_www.Department0.University0.edu_AssistantProfessor0.nt\")\n",
    "\n",
    "input_file3 = os.path.abspath(\n",
    "    \"/home/mart/git/NMT4RDFS/data/lubm1_intact/graphs_with_descriptions/HTTP_www.Department0.University0.edu_AssistantProfessor0_Publication0.nt\")\n",
    "\n",
    "inference_file = os.path.abspath(\n",
    "    \"/home/mart/git/NMT4RDFS/data/lubm1_intact/jena_inference_with_descriptions/HTTP_www.Department0.University0.edu.nt\")\n",
    "\n",
    "input_graph.parse(data=codecs.open(input_file, encoding=\"UTF-8\").read(), format=\"nt\")\n",
    "inference_graph.parse(data=codecs.open(inference_file, encoding=\"UTF-8\").read(), format=\"nt\")\n",
    "input_graph2.parse(data=codecs.open(input_file2, encoding=\"UTF-8\").read(), format=\"nt\")\n",
    "input_graph3.parse(data=codecs.open(input_file3, encoding=\"UTF-8\").read(), format=\"nt\")\n",
    "graph = input_graph"
   ],
   "metadata": {
    "collapsed": false
   }
  },
  {
   "cell_type": "code",
   "execution_count": null,
   "outputs": [],
   "source": [
    "triples_list = sorted(list(input_graph))[0]"
   ],
   "metadata": {
    "collapsed": false
   }
  },
  {
   "cell_type": "code",
   "execution_count": null,
   "outputs": [],
   "source": [
    "from graph_words_encoder import GraphWordsEncoder\n",
    "from prepare_data_utils import get_properties_dict, get_classes_dict, get_properties_groups"
   ],
   "metadata": {
    "collapsed": false
   }
  },
  {
   "cell_type": "code",
   "execution_count": null,
   "outputs": [],
   "source": [
    "import configparser\n",
    "import json\n",
    "import logging"
   ],
   "metadata": {
    "collapsed": false
   }
  },
  {
   "cell_type": "code",
   "execution_count": null,
   "outputs": [],
   "source": [
    "logging.basicConfig(format=\"%(asctime)s - %(name)s - %(levelname)s - %(message)s\", level=logging.INFO)\n",
    "\n",
    "config = configparser.ConfigParser()\n",
    "with open('../config.json', 'r') as f:\n",
    "    config = json.load(f)"
   ],
   "metadata": {
    "collapsed": false
   }
  },
  {
   "cell_type": "code",
   "execution_count": null,
   "outputs": [],
   "source": [
    "LUBM_ONTOLOGY_ENDPOINT = config['LUBM']['SPARQL_PARAMS']['ONTOLOGY_ENDPOINT']\n",
    "LUBM_ONTOLOGY_REPOSITORY = config['LUBM']['SPARQL_PARAMS']['ONTOLOGY_REPOSITORY']\n",
    "LUBM_ONTOLOGY_ENDPOINT_TYPE = config['LUBM']['SPARQL_PARAMS']['ONTOLOGY_ENDPOINT_TYPE']\n",
    "PROPERTIES_QUERY = config['LUBM']['SPARQL_PARAMS']['PROPERTIES_QUERY']\n",
    "QUERY_LIMIT = config['LUBM']['SPARQL_PARAMS']['QUERY_LIMIT']\n",
    "PROPERTIES_DICT_FILE = config['LUBM']['ENCODING_PARAMS']['PROPERTIES_DICT_FILE']\n",
    "CLASSES_QUERY = config['LUBM']['SPARQL_PARAMS']['CLASSES_QUERY']\n",
    "LUBM_ENCODING_DIRECTORY = config['LUBM']['ENCODING_PARAMS']['ENCODING_DIRECTORY']\n",
    "CLASSES_DICT_FILE = config['LUBM']['ENCODING_PARAMS']['CLASSES_DICT_FILE']\n",
    "PROPERTIES_GROUPS_FILE = config['LUBM']['ENCODING_PARAMS']['PROPERTIES_GROUPS_FILE']\n",
    "GRAPH_WORDS_ENCODER = config['LUBM']['ENCODING_PARAMS']['GRAPH_WORDS_ENCODER']\n",
    "SUB_PROPERTIES_QUERY = config['LUBM']['SPARQL_PARAMS']['SUB_PROPERTIES_QUERY']\n",
    "INPUT_GRAPHS_FOLDER = config['LUBM']['DATA']['INPUT_GRAPHS_FOLDER']\n",
    "INFERENCE_GRAPHS_FOLDER = config['LUBM']['DATA']['INFERENCE_GRAPHS_FOLDER']\n",
    "DATASET_ENCODING_FILE = config['LUBM']['ENCODING_PARAMS']['DATASET_ENCODING_FILE']\n",
    "INPUT_GRAPH_WORDS_CATALOGUE_FILE = config['LUBM']['ENCODING_PARAMS']['INPUT_GRAPH_WORDS_CATALOGUE_FILE']\n",
    "INFERENCE_GRAPH_WORDS_CATALOGUE_FILE = config['LUBM']['ENCODING_PARAMS']['INFERENCE_GRAPH_WORDS_CATALOGUE_FILE']\n",
    "EMBEDDING_MATRIX_CATALOGUE_FILE = config['LUBM']['ENCODING_PARAMS']['EMBEDDING_MATRIX_CATALOGUE_FILE']\n",
    "MAXIMUM_MATRIX_SIZE = config['LUBM']['ENCODING_PARAMS']['MAXIMUM_MATRIX_SIZE']\n",
    "HOPE_EMBEDDING_SIZE = config['LUBM']['ENCODING_PARAMS']['HOPE_EMBEDDING_SIZE']"
   ],
   "metadata": {
    "collapsed": false
   }
  },
  {
   "cell_type": "code",
   "execution_count": null,
   "outputs": [],
   "source": [
    "properties_dict = get_properties_dict(LUBM_ENCODING_DIRECTORY + PROPERTIES_DICT_FILE, PROPERTIES_QUERY,\n",
    "                                      LUBM_ONTOLOGY_REPOSITORY, LUBM_ONTOLOGY_ENDPOINT,\n",
    "                                      LUBM_ONTOLOGY_ENDPOINT_TYPE, QUERY_LIMIT)"
   ],
   "metadata": {
    "collapsed": false
   }
  },
  {
   "cell_type": "code",
   "execution_count": null,
   "outputs": [],
   "source": [
    "classes_dict = get_classes_dict(LUBM_ENCODING_DIRECTORY + CLASSES_DICT_FILE, CLASSES_QUERY, LUBM_ONTOLOGY_REPOSITORY,\n",
    "                                LUBM_ONTOLOGY_ENDPOINT,\n",
    "                                LUBM_ONTOLOGY_ENDPOINT_TYPE, QUERY_LIMIT)"
   ],
   "metadata": {
    "collapsed": false
   }
  },
  {
   "cell_type": "code",
   "execution_count": null,
   "outputs": [],
   "source": [
    "properties_group_dict = get_properties_groups(LUBM_ENCODING_DIRECTORY + PROPERTIES_GROUPS_FILE, SUB_PROPERTIES_QUERY,\n",
    "                                              LUBM_ONTOLOGY_REPOSITORY,\n",
    "                                              LUBM_ONTOLOGY_ENDPOINT,\n",
    "                                              LUBM_ONTOLOGY_ENDPOINT_TYPE, properties_dict, QUERY_LIMIT)"
   ],
   "metadata": {
    "collapsed": false
   }
  },
  {
   "cell_type": "code",
   "execution_count": null,
   "outputs": [],
   "source": [
    "for key in properties_dict.getKeys():\n",
    "    print(key)"
   ],
   "metadata": {
    "collapsed": false
   }
  },
  {
   "cell_type": "code",
   "execution_count": null,
   "outputs": [],
   "source": [
    "lubm_graph_words_encoder = GraphWordsEncoder(properties_dict, properties_group_dict, classes_dict)"
   ],
   "metadata": {
    "collapsed": false
   }
  },
  {
   "cell_type": "code",
   "execution_count": null,
   "outputs": [],
   "source": [
    "input_graph_encoding, resources_dictionary = lubm_graph_words_encoder.encode_graph(input_graph)"
   ],
   "metadata": {
    "collapsed": false
   }
  },
  {
   "cell_type": "code",
   "execution_count": null,
   "outputs": [],
   "source": [
    "resources_dictionary.keys()"
   ],
   "metadata": {
    "collapsed": false
   }
  },
  {
   "cell_type": "code",
   "execution_count": null,
   "outputs": [],
   "source": [
    "inference_graph_encoding, resources_dictionary = lubm_graph_words_encoder.encode_graph(inference_graph, inference=True)"
   ],
   "metadata": {
    "collapsed": false
   }
  },
  {
   "cell_type": "code",
   "execution_count": null,
   "outputs": [],
   "source": [
    "resources_dictionary.keys()"
   ],
   "metadata": {
    "collapsed": false
   }
  },
  {
   "cell_type": "code",
   "execution_count": null,
   "outputs": [],
   "source": [
    "for key in properties_dict.getKeys():\n",
    "    print(key)"
   ],
   "metadata": {
    "collapsed": false
   }
  },
  {
   "cell_type": "code",
   "execution_count": null,
   "outputs": [],
   "source": [
    "for key in properties_group_dict.keys():  #%%\n",
    "    import pickle\n",
    "import zlib\n",
    "\n",
    "import pandas as pd\n",
    "\n",
    "\n",
    "def deserialize(pz):\n",
    "    if os.path.isfile(pz):\n",
    "        compressed = open(pz, 'rb').read()\n",
    "        pkl = zlib.decompress(compressed)\n",
    "        tpl = pickle.loads(pkl)\n",
    "        return tpl\n",
    "    else:\n",
    "        return []\n",
    "\n",
    "\n",
    "lubm_classes_file = \"../data/lubm1_intact/encoding/lubm_classes.pz\"\n",
    "lubm_properties_file = \"../data/lubm1_intact/encoding/lubm_properties.pz\"\n",
    "lubm_properties_groups_file = \"../data/lubm1_intact/encoding/lubm_properties_groups.pz\"\n",
    "tbox_file = \"../data/lubm1_intact/encoding/tbox.nt\"\n",
    "\n",
    "lubm_classes = deserialize(lubm_classes_file)\n",
    "lubm_properties = deserialize(lubm_properties_file)\n",
    "lubm_properties_groups = deserialize(lubm_properties_groups_file)\n",
    "\n",
    "data = []\n",
    "\n",
    "for key, value in lubm_classes.items():\n",
    "    data.append({\"type\": \"class\", \"uri\": key, \"index\": value})\n",
    "\n",
    "for key, value in lubm_properties.items():\n",
    "    data.append({\"type\": \"property\", \"uri\": key, \"index\": value})\n",
    "\n",
    "for key, value in lubm_properties_groups.items():\n",
    "    data.append({\"type\": \"property_group\", \"uri\": key, \"index\": value})\n",
    "\n",
    "df = pd.DataFrame(data)\n",
    "print(df[df.type == \"class\"].size,\n",
    "      df[df.type == \"property\"].size,\n",
    "      df[df.type == \"property_group\"].size)\n",
    "\n",
    "#lubm_classes\n",
    "df.shape"
   ],
   "metadata": {
    "collapsed": false
   }
  },
  {
   "cell_type": "markdown",
   "source": [
    "# Creating a DF with clases, properties, property_groups\n",
    "Even though relative - there is no relation between index"
   ],
   "metadata": {
    "collapsed": false
   }
  },
  {
   "cell_type": "code",
   "execution_count": null,
   "outputs": [],
   "source": [
    "result_df = df.pivot_table(index='index', columns='type', values='uri', aggfunc='first')"
   ],
   "metadata": {
    "collapsed": false
   }
  },
  {
   "cell_type": "code",
   "execution_count": null,
   "outputs": [],
   "source": [
    "result_df"
   ],
   "metadata": {
    "collapsed": false
   }
  },
  {
   "cell_type": "code",
   "execution_count": null,
   "outputs": [],
   "source": [
    "df_class = df[df.type == \"class\"]\n",
    "df_property = df[df.type == \"property\"]\n",
    "df_property_group = df[df.type == \"property_group\"]"
   ],
   "metadata": {
    "collapsed": false
   }
  },
  {
   "cell_type": "code",
   "execution_count": null,
   "outputs": [],
   "source": [
    "col_names = [\"subject\", \"predicate\", \"object\"]\n",
    "#df2 = pd.read_csv(tbox_file, delimiter=' ', names=col_names)\n",
    "df2 = pd.read_csv(tbox_file, delimiter=' ')\n",
    "#df2['object'] = df2['object'].apply(lambda x: x.rstrip('.'))\n",
    "df2 = df2.drop(df2.columns[3], axis=1)\n",
    "df2.columns = col_names\n",
    "df2.shape"
   ],
   "metadata": {
    "collapsed": false
   }
  },
  {
   "cell_type": "markdown",
   "source": [
    "# I want to see what \"property types\" are in the #type in df2 for \"df1\" values marked as \"property\""
   ],
   "metadata": {
    "collapsed": false
   }
  },
  {
   "cell_type": "code",
   "execution_count": null,
   "outputs": [],
   "source": [
    "df_class"
   ],
   "metadata": {
    "collapsed": false
   }
  },
  {
   "cell_type": "code",
   "execution_count": null,
   "outputs": [],
   "source": [
    "df_property_group"
   ],
   "metadata": {
    "collapsed": false
   }
  },
  {
   "cell_type": "code",
   "execution_count": null,
   "outputs": [],
   "source": [],
   "metadata": {
    "collapsed": false
   }
  },
  {
   "cell_type": "markdown",
   "source": [
    "# I will seperate only the subject #end part and compare"
   ],
   "metadata": {
    "collapsed": false
   }
  },
  {
   "cell_type": "code",
   "execution_count": null,
   "outputs": [],
   "source": [
    "df_property_copy = df_property.copy()"
   ],
   "metadata": {
    "collapsed": false
   }
  },
  {
   "cell_type": "code",
   "execution_count": null,
   "outputs": [],
   "source": [
    "df_property_copy.uri = df_property_copy.uri.str.extract(r'#(.+)')"
   ],
   "metadata": {
    "collapsed": false
   }
  },
  {
   "cell_type": "code",
   "execution_count": null,
   "outputs": [],
   "source": [
    "df_property_copy"
   ],
   "metadata": {
    "collapsed": false
   }
  },
  {
   "cell_type": "code",
   "execution_count": null,
   "outputs": [],
   "source": [
    "df1_property_list = df_property_copy.uri.to_list()"
   ],
   "metadata": {
    "collapsed": false
   }
  },
  {
   "cell_type": "markdown",
   "source": [
    "# DF 2 CLASSES"
   ],
   "metadata": {
    "collapsed": false
   }
  },
  {
   "cell_type": "code",
   "execution_count": null,
   "outputs": [],
   "source": [
    "df2"
   ],
   "metadata": {
    "collapsed": false
   }
  },
  {
   "cell_type": "code",
   "execution_count": null,
   "outputs": [],
   "source": [
    "df2_types = df2[df2.predicate.str.contains('#type')]"
   ],
   "metadata": {
    "collapsed": false
   }
  },
  {
   "cell_type": "code",
   "execution_count": null,
   "outputs": [],
   "source": [
    "df2_classes = df2[df2.object.str.contains('#Class')]"
   ],
   "metadata": {
    "collapsed": false
   }
  },
  {
   "cell_type": "code",
   "execution_count": null,
   "outputs": [],
   "source": [
    "df2_classes"
   ],
   "metadata": {
    "collapsed": false
   }
  },
  {
   "cell_type": "code",
   "execution_count": null,
   "outputs": [],
   "source": [],
   "metadata": {
    "collapsed": false
   }
  },
  {
   "cell_type": "markdown",
   "source": [
    "# DF 2 PROPERTIES"
   ],
   "metadata": {
    "collapsed": false
   }
  },
  {
   "cell_type": "code",
   "execution_count": null,
   "outputs": [],
   "source": [
    "df2_types"
   ],
   "metadata": {
    "collapsed": false
   }
  },
  {
   "cell_type": "markdown",
   "source": [
    "# Compare property list from df1 to df2 subject, and get object \"type\""
   ],
   "metadata": {
    "collapsed": false
   }
  },
  {
   "cell_type": "code",
   "execution_count": null,
   "outputs": [],
   "source": [
    "df1_property_list"
   ],
   "metadata": {
    "collapsed": false
   }
  },
  {
   "cell_type": "code",
   "execution_count": null,
   "outputs": [],
   "source": [
    "types = []\n",
    "for x in range(len(df1_property_list)):\n",
    "    types.append(df2_types[df2_types.subject.str.contains(df1_property_list[x])].object.str.extract(r'#(.+)'))"
   ],
   "metadata": {
    "collapsed": false
   }
  },
  {
   "cell_type": "code",
   "execution_count": null,
   "outputs": [],
   "source": [
    "types_2 = []\n",
    "for type in types:\n",
    "    types_2.append(type.to_string().strip())"
   ],
   "metadata": {
    "collapsed": false
   }
  },
  {
   "cell_type": "code",
   "execution_count": null,
   "outputs": [],
   "source": [
    "types_2"
   ],
   "metadata": {
    "collapsed": false
   }
  },
  {
   "cell_type": "code",
   "execution_count": null,
   "outputs": [],
   "source": [
    "df2_properties = df2_types.copy()"
   ],
   "metadata": {
    "collapsed": false
   }
  },
  {
   "cell_type": "code",
   "execution_count": null,
   "outputs": [],
   "source": [
    "df2_properties = df2_properties[df2_properties.object.str.contains(\"Property\")].subject.unique()"
   ],
   "metadata": {
    "collapsed": false
   }
  },
  {
   "cell_type": "code",
   "execution_count": null,
   "outputs": [],
   "source": [
    "df2_properties"
   ],
   "metadata": {
    "collapsed": false
   }
  },
  {
   "cell_type": "markdown",
   "source": [
    "# DF2 SUB PROPERTIES"
   ],
   "metadata": {
    "collapsed": false
   }
  },
  {
   "cell_type": "code",
   "execution_count": null,
   "outputs": [],
   "source": [
    "df2_sub_properties = df2.copy()"
   ],
   "metadata": {
    "collapsed": false
   }
  },
  {
   "cell_type": "code",
   "execution_count": null,
   "outputs": [],
   "source": [
    "df2_sub_properties = df2_sub_properties[df2_sub_properties.predicate.str.contains(\"subPropertyOf\")]"
   ],
   "metadata": {
    "collapsed": false
   }
  },
  {
   "cell_type": "code",
   "execution_count": null,
   "outputs": [],
   "source": [
    "df2_sub_properties"
   ],
   "metadata": {
    "collapsed": false
   }
  },
  {
   "cell_type": "code",
   "execution_count": null,
   "outputs": [],
   "source": [
    "import re\n",
    "\n",
    "\n",
    "def get_lubm_graph_type(s):\n",
    "    s = s.split('/')[-1]\n",
    "    print(s)\n",
    "    s = s.split('_')[-1]\n",
    "    print(s)\n",
    "    m = re.search(\"\\d\", s)\n",
    "    print(m)\n",
    "    return s[:m.start()]"
   ],
   "metadata": {
    "collapsed": false
   }
  },
  {
   "cell_type": "code",
   "execution_count": null,
   "outputs": [],
   "source": [
    "get_lubm_graph_type(\"HTTP_www.Department0.University0.edu_AssistantProfessor8_Publication1.nt\")\n"
   ],
   "metadata": {
    "collapsed": false
   }
  },
  {
   "cell_type": "code",
   "execution_count": null,
   "outputs": [],
   "source": [
    "get_lubm_graph_type(\n",
    "    \"C:/Users/martt/PycharmProjects/NMT4RDFS/data/lubm1_intact/graphs_with_descriptions/HTTP_www.Department0.University0.edu_AssistantProfessor0.nt\")"
   ],
   "metadata": {
    "collapsed": false
   }
  },
  {
   "cell_type": "code",
   "execution_count": null,
   "outputs": [],
   "source": [
    "from rdflib import Graph\n",
    "import codecs\n",
    "import os"
   ],
   "metadata": {
    "collapsed": false
   }
  },
  {
   "cell_type": "code",
   "execution_count": null,
   "outputs": [],
   "source": [
    "input_graph = Graph()\n",
    "input_graph2 = Graph()\n",
    "input_graph3 = Graph()\n",
    "inference_graph = Graph()\n",
    "\n",
    "input_file = os.path.abspath(\n",
    "    \"/home/mart/git/NMT4RDFS/data/lubm1_intact/graphs_with_descriptions/HTTP_www.Department0.University0.edu.nt\")\n",
    "input_file2 = os.path.abspath(\n",
    "    \"/home/mart/git/NMT4RDFS/data/lubm1_intact/graphs_with_descriptions/HTTP_www.Department0.University0.edu_AssistantProfessor0.nt\")\n",
    "\n",
    "input_file3 = os.path.abspath(\n",
    "    \"/home/mart/git/NMT4RDFS/data/lubm1_intact/graphs_with_descriptions/HTTP_www.Department0.University0.edu_AssistantProfessor0_Publication0.nt\")\n",
    "\n",
    "inference_file = os.path.abspath(\n",
    "    \"/home/mart/git/NMT4RDFS/data/lubm1_intact/jena_inference_with_descriptions/HTTP_www.Department0.University0.edu.nt\")\n",
    "\n",
    "input_graph.parse(data=codecs.open(input_file, encoding=\"UTF-8\").read(), format=\"nt\")\n",
    "inference_graph.parse(data=codecs.open(inference_file, encoding=\"UTF-8\").read(), format=\"nt\")\n",
    "input_graph2.parse(data=codecs.open(input_file2, encoding=\"UTF-8\").read(), format=\"nt\")\n",
    "input_graph3.parse(data=codecs.open(input_file3, encoding=\"UTF-8\").read(), format=\"nt\")\n",
    "graph = input_graph"
   ],
   "metadata": {
    "collapsed": false
   }
  },
  {
   "cell_type": "code",
   "execution_count": null,
   "outputs": [],
   "source": [
    "triples_list = sorted(list(input_graph))[0]"
   ],
   "metadata": {
    "collapsed": false
   }
  },
  {
   "cell_type": "code",
   "execution_count": null,
   "outputs": [],
   "source": [
    "from graph_words_encoder import GraphWordsEncoder\n",
    "from prepare_data_utils import get_properties_dict, get_classes_dict, get_properties_groups"
   ],
   "metadata": {
    "collapsed": false
   }
  },
  {
   "cell_type": "code",
   "execution_count": null,
   "outputs": [],
   "source": [
    "import configparser\n",
    "import json\n",
    "import logging"
   ],
   "metadata": {
    "collapsed": false
   }
  },
  {
   "cell_type": "code",
   "execution_count": null,
   "outputs": [],
   "source": [
    "logging.basicConfig(format=\"%(asctime)s - %(name)s - %(levelname)s - %(message)s\", level=logging.INFO)\n",
    "\n",
    "config = configparser.ConfigParser()\n",
    "with open('../config.json', 'r') as f:\n",
    "    config = json.load(f)"
   ],
   "metadata": {
    "collapsed": false
   }
  },
  {
   "cell_type": "code",
   "execution_count": null,
   "outputs": [],
   "source": [
    "LUBM_ONTOLOGY_ENDPOINT = config['LUBM']['SPARQL_PARAMS']['ONTOLOGY_ENDPOINT']\n",
    "LUBM_ONTOLOGY_REPOSITORY = config['LUBM']['SPARQL_PARAMS']['ONTOLOGY_REPOSITORY']\n",
    "LUBM_ONTOLOGY_ENDPOINT_TYPE = config['LUBM']['SPARQL_PARAMS']['ONTOLOGY_ENDPOINT_TYPE']\n",
    "PROPERTIES_QUERY = config['LUBM']['SPARQL_PARAMS']['PROPERTIES_QUERY']\n",
    "QUERY_LIMIT = config['LUBM']['SPARQL_PARAMS']['QUERY_LIMIT']\n",
    "PROPERTIES_DICT_FILE = config['LUBM']['ENCODING_PARAMS']['PROPERTIES_DICT_FILE']\n",
    "CLASSES_QUERY = config['LUBM']['SPARQL_PARAMS']['CLASSES_QUERY']\n",
    "LUBM_ENCODING_DIRECTORY = config['LUBM']['ENCODING_PARAMS']['ENCODING_DIRECTORY']\n",
    "CLASSES_DICT_FILE = config['LUBM']['ENCODING_PARAMS']['CLASSES_DICT_FILE']\n",
    "PROPERTIES_GROUPS_FILE = config['LUBM']['ENCODING_PARAMS']['PROPERTIES_GROUPS_FILE']\n",
    "GRAPH_WORDS_ENCODER = config['LUBM']['ENCODING_PARAMS']['GRAPH_WORDS_ENCODER']\n",
    "SUB_PROPERTIES_QUERY = config['LUBM']['SPARQL_PARAMS']['SUB_PROPERTIES_QUERY']\n",
    "INPUT_GRAPHS_FOLDER = config['LUBM']['DATA']['INPUT_GRAPHS_FOLDER']\n",
    "INFERENCE_GRAPHS_FOLDER = config['LUBM']['DATA']['INFERENCE_GRAPHS_FOLDER']\n",
    "DATASET_ENCODING_FILE = config['LUBM']['ENCODING_PARAMS']['DATASET_ENCODING_FILE']\n",
    "INPUT_GRAPH_WORDS_CATALOGUE_FILE = config['LUBM']['ENCODING_PARAMS']['INPUT_GRAPH_WORDS_CATALOGUE_FILE']\n",
    "INFERENCE_GRAPH_WORDS_CATALOGUE_FILE = config['LUBM']['ENCODING_PARAMS']['INFERENCE_GRAPH_WORDS_CATALOGUE_FILE']\n",
    "EMBEDDING_MATRIX_CATALOGUE_FILE = config['LUBM']['ENCODING_PARAMS']['EMBEDDING_MATRIX_CATALOGUE_FILE']\n",
    "MAXIMUM_MATRIX_SIZE = config['LUBM']['ENCODING_PARAMS']['MAXIMUM_MATRIX_SIZE']\n",
    "HOPE_EMBEDDING_SIZE = config['LUBM']['ENCODING_PARAMS']['HOPE_EMBEDDING_SIZE']"
   ],
   "metadata": {
    "collapsed": false
   }
  },
  {
   "cell_type": "code",
   "execution_count": null,
   "outputs": [],
   "source": [
    "properties_dict = get_properties_dict(LUBM_ENCODING_DIRECTORY + PROPERTIES_DICT_FILE, PROPERTIES_QUERY,\n",
    "                                      LUBM_ONTOLOGY_REPOSITORY, LUBM_ONTOLOGY_ENDPOINT,\n",
    "                                      LUBM_ONTOLOGY_ENDPOINT_TYPE, QUERY_LIMIT)"
   ],
   "metadata": {
    "collapsed": false
   }
  },
  {
   "cell_type": "code",
   "execution_count": null,
   "outputs": [],
   "source": [
    "classes_dict = get_classes_dict(LUBM_ENCODING_DIRECTORY + CLASSES_DICT_FILE, CLASSES_QUERY, LUBM_ONTOLOGY_REPOSITORY,\n",
    "                                LUBM_ONTOLOGY_ENDPOINT,\n",
    "                                LUBM_ONTOLOGY_ENDPOINT_TYPE, QUERY_LIMIT)"
   ],
   "metadata": {
    "collapsed": false
   }
  },
  {
   "cell_type": "code",
   "execution_count": null,
   "outputs": [],
   "source": [
    "properties_group_dict = get_properties_groups(LUBM_ENCODING_DIRECTORY + PROPERTIES_GROUPS_FILE, SUB_PROPERTIES_QUERY,\n",
    "                                              LUBM_ONTOLOGY_REPOSITORY,\n",
    "                                              LUBM_ONTOLOGY_ENDPOINT,\n",
    "                                              LUBM_ONTOLOGY_ENDPOINT_TYPE, properties_dict, QUERY_LIMIT)"
   ],
   "metadata": {
    "collapsed": false
   }
  },
  {
   "cell_type": "code",
   "execution_count": null,
   "outputs": [],
   "source": [
    "for key in properties_dict.getKeys():\n",
    "    print(key)"
   ],
   "metadata": {
    "collapsed": false
   }
  },
  {
   "cell_type": "code",
   "execution_count": null,
   "outputs": [],
   "source": [
    "lubm_graph_words_encoder = GraphWordsEncoder(properties_dict, properties_group_dict, classes_dict)"
   ],
   "metadata": {
    "collapsed": false
   }
  },
  {
   "cell_type": "code",
   "execution_count": null,
   "outputs": [],
   "source": [
    "input_graph_encoding, resources_dictionary = lubm_graph_words_encoder.encode_graph(input_graph)"
   ],
   "metadata": {
    "collapsed": false
   }
  },
  {
   "cell_type": "code",
   "execution_count": null,
   "outputs": [],
   "source": [
    "resources_dictionary.keys()"
   ],
   "metadata": {
    "collapsed": false
   }
  },
  {
   "cell_type": "code",
   "execution_count": null,
   "outputs": [],
   "source": [
    "inference_graph_encoding, resources_dictionary = lubm_graph_words_encoder.encode_graph(inference_graph, inference=True)"
   ],
   "metadata": {
    "collapsed": false
   }
  },
  {
   "cell_type": "code",
   "execution_count": null,
   "outputs": [],
   "source": [
    "resources_dictionary.keys()"
   ],
   "metadata": {
    "collapsed": false
   }
  },
  {
   "cell_type": "code",
   "execution_count": 65,
   "outputs": [
    {
     "name": "stdout",
     "output_type": "stream",
     "text": [
      "http://www.w3.org/1999/02/22-rdf-syntax-ns#type 1\n",
      "http://swat.cse.lehigh.edu/onto/univ-bench.owl#advisor 2\n",
      "http://swat.cse.lehigh.edu/onto/univ-bench.owl#affiliateOf 3\n",
      "http://swat.cse.lehigh.edu/onto/univ-bench.owl#affiliatedOrganizationOf 4\n",
      "http://swat.cse.lehigh.edu/onto/univ-bench.owl#age 5\n",
      "http://swat.cse.lehigh.edu/onto/univ-bench.owl#degreeFrom 6\n",
      "http://swat.cse.lehigh.edu/onto/univ-bench.owl#doctoralDegreeFrom 7\n",
      "http://swat.cse.lehigh.edu/onto/univ-bench.owl#emailAddress 8\n",
      "http://swat.cse.lehigh.edu/onto/univ-bench.owl#hasAlumnus 9\n",
      "http://swat.cse.lehigh.edu/onto/univ-bench.owl#headOf 10\n",
      "http://swat.cse.lehigh.edu/onto/univ-bench.owl#listedCourse 11\n",
      "http://swat.cse.lehigh.edu/onto/univ-bench.owl#mastersDegreeFrom 12\n",
      "http://swat.cse.lehigh.edu/onto/univ-bench.owl#member 13\n",
      "http://swat.cse.lehigh.edu/onto/univ-bench.owl#memberOf 14\n",
      "http://swat.cse.lehigh.edu/onto/univ-bench.owl#name 15\n",
      "http://swat.cse.lehigh.edu/onto/univ-bench.owl#orgPublication 16\n",
      "http://swat.cse.lehigh.edu/onto/univ-bench.owl#publicationAuthor 17\n",
      "http://swat.cse.lehigh.edu/onto/univ-bench.owl#publicationDate 18\n",
      "http://swat.cse.lehigh.edu/onto/univ-bench.owl#publicationResearch 19\n",
      "http://swat.cse.lehigh.edu/onto/univ-bench.owl#researchInterest 20\n",
      "http://swat.cse.lehigh.edu/onto/univ-bench.owl#researchProject 21\n",
      "http://swat.cse.lehigh.edu/onto/univ-bench.owl#softwareDocumentation 22\n",
      "http://swat.cse.lehigh.edu/onto/univ-bench.owl#softwareVersion 23\n",
      "http://swat.cse.lehigh.edu/onto/univ-bench.owl#subOrganizationOf 24\n",
      "http://swat.cse.lehigh.edu/onto/univ-bench.owl#takesCourse 25\n",
      "http://swat.cse.lehigh.edu/onto/univ-bench.owl#teacherOf 26\n",
      "http://swat.cse.lehigh.edu/onto/univ-bench.owl#teachingAssistantOf 27\n",
      "http://swat.cse.lehigh.edu/onto/univ-bench.owl#telephone 28\n",
      "http://swat.cse.lehigh.edu/onto/univ-bench.owl#tenured 29\n",
      "http://swat.cse.lehigh.edu/onto/univ-bench.owl#title 30\n",
      "http://swat.cse.lehigh.edu/onto/univ-bench.owl#undergraduateDegreeFrom 31\n",
      "http://swat.cse.lehigh.edu/onto/univ-bench.owl#worksFor 32\n",
      "http://www.w3.org/1999/02/22-rdf-syntax-ns#_1 33\n",
      "http://www.w3.org/1999/02/22-rdf-syntax-ns#first 34\n",
      "http://www.w3.org/1999/02/22-rdf-syntax-ns#object 35\n",
      "http://www.w3.org/1999/02/22-rdf-syntax-ns#predicate 36\n",
      "http://www.w3.org/1999/02/22-rdf-syntax-ns#rest 37\n",
      "http://www.w3.org/1999/02/22-rdf-syntax-ns#subject 38\n",
      "http://www.w3.org/1999/02/22-rdf-syntax-ns#value 39\n",
      "http://www.w3.org/2000/01/rdf-schema#comment 40\n",
      "http://www.w3.org/2000/01/rdf-schema#domain 41\n",
      "http://www.w3.org/2000/01/rdf-schema#isDefinedBy 42\n",
      "http://www.w3.org/2000/01/rdf-schema#label 43\n",
      "http://www.w3.org/2000/01/rdf-schema#member 44\n",
      "http://www.w3.org/2000/01/rdf-schema#range 45\n",
      "http://www.w3.org/2000/01/rdf-schema#seeAlso 46\n",
      "http://www.w3.org/2000/01/rdf-schema#subClassOf 47\n",
      "http://www.w3.org/2000/01/rdf-schema#subPropertyOf 48\n",
      "http://www.w3.org/2002/07/owl#imports 49\n",
      "http://www.w3.org/2002/07/owl#intersectionOf 50\n",
      "http://www.w3.org/2002/07/owl#inverseOf 51\n",
      "http://www.w3.org/2002/07/owl#onProperty 52\n",
      "http://www.w3.org/2002/07/owl#someValuesFrom 53\n",
      "http://www.w3.org/2002/07/owl#versionInfo 54\n"
     ]
    }
   ],
   "source": [
    "for key in properties_dict.getKeys():\n",
    "    print(key, properties_dict[key])"
   ],
   "metadata": {
    "collapsed": false
   }
  },
  {
   "cell_type": "code",
   "execution_count": 66,
   "outputs": [
    {
     "name": "stdout",
     "output_type": "stream",
     "text": [
      "http://swat.cse.lehigh.edu/onto/univ-bench.owl#AdministrativeStaff 1\n",
      "http://swat.cse.lehigh.edu/onto/univ-bench.owl#Article 2\n",
      "http://swat.cse.lehigh.edu/onto/univ-bench.owl#AssistantProfessor 3\n",
      "http://swat.cse.lehigh.edu/onto/univ-bench.owl#AssociateProfessor 4\n",
      "http://swat.cse.lehigh.edu/onto/univ-bench.owl#Book 5\n",
      "http://swat.cse.lehigh.edu/onto/univ-bench.owl#Chair 6\n",
      "http://swat.cse.lehigh.edu/onto/univ-bench.owl#ClericalStaff 7\n",
      "http://swat.cse.lehigh.edu/onto/univ-bench.owl#College 8\n",
      "http://swat.cse.lehigh.edu/onto/univ-bench.owl#ConferencePaper 9\n",
      "http://swat.cse.lehigh.edu/onto/univ-bench.owl#Course 10\n",
      "http://swat.cse.lehigh.edu/onto/univ-bench.owl#Dean 11\n",
      "http://swat.cse.lehigh.edu/onto/univ-bench.owl#Department 12\n",
      "http://swat.cse.lehigh.edu/onto/univ-bench.owl#Director 13\n",
      "http://swat.cse.lehigh.edu/onto/univ-bench.owl#Employee 14\n",
      "http://swat.cse.lehigh.edu/onto/univ-bench.owl#Faculty 15\n",
      "http://swat.cse.lehigh.edu/onto/univ-bench.owl#FullProfessor 16\n",
      "http://swat.cse.lehigh.edu/onto/univ-bench.owl#GraduateCourse 17\n",
      "http://swat.cse.lehigh.edu/onto/univ-bench.owl#GraduateStudent 18\n",
      "http://swat.cse.lehigh.edu/onto/univ-bench.owl#Institute 19\n",
      "http://swat.cse.lehigh.edu/onto/univ-bench.owl#JournalArticle 20\n",
      "http://swat.cse.lehigh.edu/onto/univ-bench.owl#Lecturer 21\n",
      "http://swat.cse.lehigh.edu/onto/univ-bench.owl#Manual 22\n",
      "http://swat.cse.lehigh.edu/onto/univ-bench.owl#Organization 23\n",
      "http://swat.cse.lehigh.edu/onto/univ-bench.owl#Person 24\n",
      "http://swat.cse.lehigh.edu/onto/univ-bench.owl#PostDoc 25\n",
      "http://swat.cse.lehigh.edu/onto/univ-bench.owl#Professor 26\n",
      "http://swat.cse.lehigh.edu/onto/univ-bench.owl#Program 27\n",
      "http://swat.cse.lehigh.edu/onto/univ-bench.owl#Publication 28\n",
      "http://swat.cse.lehigh.edu/onto/univ-bench.owl#Research 29\n",
      "http://swat.cse.lehigh.edu/onto/univ-bench.owl#ResearchAssistant 30\n",
      "http://swat.cse.lehigh.edu/onto/univ-bench.owl#ResearchGroup 31\n",
      "http://swat.cse.lehigh.edu/onto/univ-bench.owl#Schedule 32\n",
      "http://swat.cse.lehigh.edu/onto/univ-bench.owl#Software 33\n",
      "http://swat.cse.lehigh.edu/onto/univ-bench.owl#Specification 34\n",
      "http://swat.cse.lehigh.edu/onto/univ-bench.owl#Student 35\n",
      "http://swat.cse.lehigh.edu/onto/univ-bench.owl#SystemsStaff 36\n",
      "http://swat.cse.lehigh.edu/onto/univ-bench.owl#TeachingAssistant 37\n",
      "http://swat.cse.lehigh.edu/onto/univ-bench.owl#TechnicalReport 38\n",
      "http://swat.cse.lehigh.edu/onto/univ-bench.owl#UndergraduateStudent 39\n",
      "http://swat.cse.lehigh.edu/onto/univ-bench.owl#University 40\n",
      "http://swat.cse.lehigh.edu/onto/univ-bench.owl#UnofficialPublication 41\n",
      "http://swat.cse.lehigh.edu/onto/univ-bench.owl#VisitingProfessor 42\n",
      "http://swat.cse.lehigh.edu/onto/univ-bench.owl#Work 43\n",
      "http://www.w3.org/1999/02/22-rdf-syntax-ns#Alt 44\n",
      "http://www.w3.org/1999/02/22-rdf-syntax-ns#Bag 45\n",
      "http://www.w3.org/1999/02/22-rdf-syntax-ns#List 46\n",
      "http://www.w3.org/1999/02/22-rdf-syntax-ns#Property 47\n",
      "http://www.w3.org/1999/02/22-rdf-syntax-ns#Seq 48\n",
      "http://www.w3.org/1999/02/22-rdf-syntax-ns#Statement 49\n",
      "http://www.w3.org/1999/02/22-rdf-syntax-ns#XMLLiteral 50\n",
      "http://www.w3.org/2000/01/rdf-schema#Class 51\n",
      "http://www.w3.org/2000/01/rdf-schema#Container 52\n",
      "http://www.w3.org/2000/01/rdf-schema#ContainerMembershipProperty 53\n",
      "http://www.w3.org/2000/01/rdf-schema#Datatype 54\n",
      "http://www.w3.org/2000/01/rdf-schema#Literal 55\n",
      "http://www.w3.org/2000/01/rdf-schema#Resource 56\n",
      "http://www.w3.org/2001/XMLSchema#nonNegativeInteger 57\n",
      "http://www.w3.org/2001/XMLSchema#string 58\n"
     ]
    }
   ],
   "source": [
    "for key in classes_dict.getKeys():\n",
    "    print(key, classes_dict[key])"
   ],
   "metadata": {
    "collapsed": false
   }
  },
  {
   "cell_type": "code",
   "execution_count": 67,
   "outputs": [
    {
     "name": "stdout",
     "output_type": "stream",
     "text": [
      "http://www.w3.org/2000/01/rdf-schema#seeAlso 0\n",
      "http://www.w3.org/2000/01/rdf-schema#isDefinedBy 0\n",
      "http://www.w3.org/1999/02/22-rdf-syntax-ns#_1 1\n",
      "http://www.w3.org/2000/01/rdf-schema#member 1\n",
      "http://swat.cse.lehigh.edu/onto/univ-bench.owl#memberOf 2\n",
      "http://swat.cse.lehigh.edu/onto/univ-bench.owl#headOf 2\n",
      "http://swat.cse.lehigh.edu/onto/univ-bench.owl#worksFor 2\n",
      "http://swat.cse.lehigh.edu/onto/univ-bench.owl#doctoralDegreeFrom 3\n",
      "http://swat.cse.lehigh.edu/onto/univ-bench.owl#undergraduateDegreeFrom 3\n",
      "http://swat.cse.lehigh.edu/onto/univ-bench.owl#degreeFrom 3\n",
      "http://swat.cse.lehigh.edu/onto/univ-bench.owl#mastersDegreeFrom 3\n",
      "http://www.w3.org/1999/02/22-rdf-syntax-ns#type 4\n",
      "http://swat.cse.lehigh.edu/onto/univ-bench.owl#advisor 5\n",
      "http://swat.cse.lehigh.edu/onto/univ-bench.owl#affiliateOf 6\n",
      "http://swat.cse.lehigh.edu/onto/univ-bench.owl#affiliatedOrganizationOf 7\n",
      "http://swat.cse.lehigh.edu/onto/univ-bench.owl#age 8\n",
      "http://swat.cse.lehigh.edu/onto/univ-bench.owl#emailAddress 9\n",
      "http://swat.cse.lehigh.edu/onto/univ-bench.owl#hasAlumnus 10\n",
      "http://swat.cse.lehigh.edu/onto/univ-bench.owl#listedCourse 11\n",
      "http://swat.cse.lehigh.edu/onto/univ-bench.owl#member 12\n",
      "http://swat.cse.lehigh.edu/onto/univ-bench.owl#name 13\n",
      "http://swat.cse.lehigh.edu/onto/univ-bench.owl#orgPublication 14\n",
      "http://swat.cse.lehigh.edu/onto/univ-bench.owl#publicationAuthor 15\n",
      "http://swat.cse.lehigh.edu/onto/univ-bench.owl#publicationDate 16\n",
      "http://swat.cse.lehigh.edu/onto/univ-bench.owl#publicationResearch 17\n",
      "http://swat.cse.lehigh.edu/onto/univ-bench.owl#researchInterest 18\n",
      "http://swat.cse.lehigh.edu/onto/univ-bench.owl#researchProject 19\n",
      "http://swat.cse.lehigh.edu/onto/univ-bench.owl#softwareDocumentation 20\n",
      "http://swat.cse.lehigh.edu/onto/univ-bench.owl#softwareVersion 21\n",
      "http://swat.cse.lehigh.edu/onto/univ-bench.owl#subOrganizationOf 22\n",
      "http://swat.cse.lehigh.edu/onto/univ-bench.owl#takesCourse 23\n",
      "http://swat.cse.lehigh.edu/onto/univ-bench.owl#teacherOf 24\n",
      "http://swat.cse.lehigh.edu/onto/univ-bench.owl#teachingAssistantOf 25\n",
      "http://swat.cse.lehigh.edu/onto/univ-bench.owl#telephone 26\n",
      "http://swat.cse.lehigh.edu/onto/univ-bench.owl#tenured 27\n",
      "http://swat.cse.lehigh.edu/onto/univ-bench.owl#title 28\n",
      "http://www.w3.org/1999/02/22-rdf-syntax-ns#first 29\n",
      "http://www.w3.org/1999/02/22-rdf-syntax-ns#object 30\n",
      "http://www.w3.org/1999/02/22-rdf-syntax-ns#predicate 31\n",
      "http://www.w3.org/1999/02/22-rdf-syntax-ns#rest 32\n",
      "http://www.w3.org/1999/02/22-rdf-syntax-ns#subject 33\n",
      "http://www.w3.org/1999/02/22-rdf-syntax-ns#value 34\n",
      "http://www.w3.org/2000/01/rdf-schema#comment 35\n",
      "http://www.w3.org/2000/01/rdf-schema#domain 36\n",
      "http://www.w3.org/2000/01/rdf-schema#label 37\n",
      "http://www.w3.org/2000/01/rdf-schema#range 38\n",
      "http://www.w3.org/2000/01/rdf-schema#subClassOf 39\n",
      "http://www.w3.org/2000/01/rdf-schema#subPropertyOf 40\n",
      "http://www.w3.org/2002/07/owl#imports 41\n",
      "http://www.w3.org/2002/07/owl#intersectionOf 42\n",
      "http://www.w3.org/2002/07/owl#inverseOf 43\n",
      "http://www.w3.org/2002/07/owl#onProperty 44\n",
      "http://www.w3.org/2002/07/owl#someValuesFrom 45\n",
      "http://www.w3.org/2002/07/owl#versionInfo 46\n"
     ]
    }
   ],
   "source": [
    "for key in properties_group_dict.keys():\n",
    "    print(key, properties_group_dict[key])\n"
   ],
   "metadata": {
    "collapsed": false
   }
  },
  {
   "cell_type": "code",
   "execution_count": null,
   "outputs": [],
   "source": [],
   "metadata": {
    "collapsed": false
   }
  },
  {
   "cell_type": "code",
   "execution_count": null,
   "outputs": [],
   "source": [],
   "metadata": {
    "collapsed": false
   }
  }
 ],
 "metadata": {
  "kernelspec": {
   "display_name": "Python 3",
   "language": "python",
   "name": "python3"
  },
  "language_info": {
   "codemirror_mode": {
    "name": "ipython",
    "version": 2
   },
   "file_extension": ".py",
   "mimetype": "text/x-python",
   "name": "python",
   "nbconvert_exporter": "python",
   "pygments_lexer": "ipython2",
   "version": "2.7.6"
  }
 },
 "nbformat": 4,
 "nbformat_minor": 0
}
