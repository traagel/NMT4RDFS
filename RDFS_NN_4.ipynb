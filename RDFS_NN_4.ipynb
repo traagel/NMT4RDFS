{
 "cells": [
  {
   "cell_type": "markdown",
   "source": [
    "# Experiment 4 - following directly the algorithm in the paper"
   ],
   "metadata": {
    "collapsed": false
   }
  },
  {
   "cell_type": "code",
   "execution_count": 341,
   "outputs": [],
   "source": [
    "import os\n",
    "\n",
    "import pandas as pd\n",
    "from rdflib import Graph, URIRef"
   ],
   "metadata": {
    "collapsed": false
   }
  },
  {
   "cell_type": "code",
   "execution_count": 342,
   "outputs": [],
   "source": [
    "def get_nt_files(directory):\n",
    "    nt_files = []\n",
    "    for file in os.listdir(directory):\n",
    "        if file.endswith(\".nt\"):\n",
    "            nt_files.append(os.path.join(directory, file))\n",
    "    return nt_files\n",
    "\n",
    "\n",
    "def nt_files_to_dataframe(directory):\n",
    "    nt_files = get_nt_files(directory)\n",
    "    nt_files_df = pd.DataFrame(nt_files, columns=[\"nt_file\"])\n",
    "    return nt_files_df\n",
    "\n",
    "\n",
    "directory = \"data/lubm1_intact/graphs_with_descriptions\"\n",
    "nt_files_df = nt_files_to_dataframe(directory)\n",
    "nt_files_df = nt_files_df.sort_values(by=\"nt_file\").reset_index().drop(columns='index')"
   ],
   "metadata": {
    "collapsed": false
   }
  },
  {
   "cell_type": "code",
   "execution_count": 343,
   "outputs": [
    {
     "data": {
      "text/plain": "                                             nt_file\n0  data/lubm1_intact/graphs_with_descriptions/HTT...\n1  data/lubm1_intact/graphs_with_descriptions/HTT...\n2  data/lubm1_intact/graphs_with_descriptions/HTT...\n3  data/lubm1_intact/graphs_with_descriptions/HTT...\n4  data/lubm1_intact/graphs_with_descriptions/HTT...\n5  data/lubm1_intact/graphs_with_descriptions/HTT...\n6  data/lubm1_intact/graphs_with_descriptions/HTT...\n7  data/lubm1_intact/graphs_with_descriptions/HTT...\n8  data/lubm1_intact/graphs_with_descriptions/HTT...\n9  data/lubm1_intact/graphs_with_descriptions/HTT...",
      "text/html": "<div>\n<style scoped>\n    .dataframe tbody tr th:only-of-type {\n        vertical-align: middle;\n    }\n\n    .dataframe tbody tr th {\n        vertical-align: top;\n    }\n\n    .dataframe thead th {\n        text-align: right;\n    }\n</style>\n<table border=\"1\" class=\"dataframe\">\n  <thead>\n    <tr style=\"text-align: right;\">\n      <th></th>\n      <th>nt_file</th>\n    </tr>\n  </thead>\n  <tbody>\n    <tr>\n      <th>0</th>\n      <td>data/lubm1_intact/graphs_with_descriptions/HTT...</td>\n    </tr>\n    <tr>\n      <th>1</th>\n      <td>data/lubm1_intact/graphs_with_descriptions/HTT...</td>\n    </tr>\n    <tr>\n      <th>2</th>\n      <td>data/lubm1_intact/graphs_with_descriptions/HTT...</td>\n    </tr>\n    <tr>\n      <th>3</th>\n      <td>data/lubm1_intact/graphs_with_descriptions/HTT...</td>\n    </tr>\n    <tr>\n      <th>4</th>\n      <td>data/lubm1_intact/graphs_with_descriptions/HTT...</td>\n    </tr>\n    <tr>\n      <th>5</th>\n      <td>data/lubm1_intact/graphs_with_descriptions/HTT...</td>\n    </tr>\n    <tr>\n      <th>6</th>\n      <td>data/lubm1_intact/graphs_with_descriptions/HTT...</td>\n    </tr>\n    <tr>\n      <th>7</th>\n      <td>data/lubm1_intact/graphs_with_descriptions/HTT...</td>\n    </tr>\n    <tr>\n      <th>8</th>\n      <td>data/lubm1_intact/graphs_with_descriptions/HTT...</td>\n    </tr>\n    <tr>\n      <th>9</th>\n      <td>data/lubm1_intact/graphs_with_descriptions/HTT...</td>\n    </tr>\n  </tbody>\n</table>\n</div>"
     },
     "execution_count": 343,
     "metadata": {},
     "output_type": "execute_result"
    }
   ],
   "source": [
    "nt_files_df.head(10)"
   ],
   "metadata": {
    "collapsed": false
   }
  },
  {
   "cell_type": "code",
   "execution_count": 372,
   "outputs": [
    {
     "ename": "KeyError",
     "evalue": "\"['inference_graph_file', 'inference_graph_encoding'] not in index\"",
     "output_type": "error",
     "traceback": [
      "\u001B[0;31m---------------------------------------------------------------------------\u001B[0m",
      "\u001B[0;31mKeyError\u001B[0m                                  Traceback (most recent call last)",
      "\u001B[0;32m/tmp/ipykernel_97768/3195353393.py\u001B[0m in \u001B[0;36m<module>\u001B[0;34m\u001B[0m\n\u001B[1;32m     10\u001B[0m \u001B[0mcsv_file_path\u001B[0m \u001B[0;34m=\u001B[0m \u001B[0;34m\"code/encoding.csv\"\u001B[0m\u001B[0;34m\u001B[0m\u001B[0;34m\u001B[0m\u001B[0m\n\u001B[1;32m     11\u001B[0m \u001B[0mcolumns\u001B[0m \u001B[0;34m=\u001B[0m \u001B[0;34m[\u001B[0m\u001B[0;34m\"input_graph_file\"\u001B[0m\u001B[0;34m,\u001B[0m \u001B[0;34m\"input_graph_encoding\"\u001B[0m\u001B[0;34m,\u001B[0m \u001B[0;34m\"inference_graph_file\"\u001B[0m\u001B[0;34m,\u001B[0m \u001B[0;34m\"inference_graph_encoding\"\u001B[0m\u001B[0;34m]\u001B[0m\u001B[0;34m\u001B[0m\u001B[0;34m\u001B[0m\u001B[0m\n\u001B[0;32m---> 12\u001B[0;31m \u001B[0mextracted_data\u001B[0m \u001B[0;34m=\u001B[0m \u001B[0mread_csv_extract_columns\u001B[0m\u001B[0;34m(\u001B[0m\u001B[0mcsv_file_path\u001B[0m\u001B[0;34m,\u001B[0m \u001B[0mcolumns\u001B[0m\u001B[0;34m)\u001B[0m\u001B[0;34m\u001B[0m\u001B[0;34m\u001B[0m\u001B[0m\n\u001B[0m\u001B[1;32m     13\u001B[0m \u001B[0mextracted_data\u001B[0m\u001B[0;34m[\u001B[0m\u001B[0;34m'input_graph_file'\u001B[0m\u001B[0;34m]\u001B[0m \u001B[0;34m=\u001B[0m \u001B[0mextracted_data\u001B[0m\u001B[0;34m[\u001B[0m\u001B[0;34m'input_graph_file'\u001B[0m\u001B[0;34m]\u001B[0m\u001B[0;34m.\u001B[0m\u001B[0mstr\u001B[0m\u001B[0;34m.\u001B[0m\u001B[0mreplace\u001B[0m\u001B[0;34m(\u001B[0m\u001B[0;34m'^../'\u001B[0m\u001B[0;34m,\u001B[0m \u001B[0;34m''\u001B[0m\u001B[0;34m)\u001B[0m\u001B[0;34m\u001B[0m\u001B[0;34m\u001B[0m\u001B[0m\n\u001B[1;32m     14\u001B[0m \u001B[0mextracted_data\u001B[0m\u001B[0;34m[\u001B[0m\u001B[0;34m'inference_graph_file'\u001B[0m\u001B[0;34m]\u001B[0m \u001B[0;34m=\u001B[0m \u001B[0mextracted_data\u001B[0m\u001B[0;34m[\u001B[0m\u001B[0;34m'inference_graph_file'\u001B[0m\u001B[0;34m]\u001B[0m\u001B[0;34m.\u001B[0m\u001B[0mstr\u001B[0m\u001B[0;34m.\u001B[0m\u001B[0mreplace\u001B[0m\u001B[0;34m(\u001B[0m\u001B[0;34m'^../'\u001B[0m\u001B[0;34m,\u001B[0m \u001B[0;34m''\u001B[0m\u001B[0;34m)\u001B[0m\u001B[0;34m\u001B[0m\u001B[0;34m\u001B[0m\u001B[0m\n",
      "\u001B[0;32m/tmp/ipykernel_97768/3195353393.py\u001B[0m in \u001B[0;36mread_csv_extract_columns\u001B[0;34m(file_path, columns)\u001B[0m\n\u001B[1;32m      4\u001B[0m \u001B[0;32mdef\u001B[0m \u001B[0mread_csv_extract_columns\u001B[0m\u001B[0;34m(\u001B[0m\u001B[0mfile_path\u001B[0m\u001B[0;34m,\u001B[0m \u001B[0mcolumns\u001B[0m\u001B[0;34m)\u001B[0m\u001B[0;34m:\u001B[0m\u001B[0;34m\u001B[0m\u001B[0;34m\u001B[0m\u001B[0m\n\u001B[1;32m      5\u001B[0m     \u001B[0mdata\u001B[0m \u001B[0;34m=\u001B[0m \u001B[0mpd\u001B[0m\u001B[0;34m.\u001B[0m\u001B[0mread_csv\u001B[0m\u001B[0;34m(\u001B[0m\u001B[0mfile_path\u001B[0m\u001B[0;34m)\u001B[0m\u001B[0;34m\u001B[0m\u001B[0;34m\u001B[0m\u001B[0m\n\u001B[0;32m----> 6\u001B[0;31m     \u001B[0mextracted_data\u001B[0m \u001B[0;34m=\u001B[0m \u001B[0mdata\u001B[0m\u001B[0;34m[\u001B[0m\u001B[0mcolumns\u001B[0m\u001B[0;34m]\u001B[0m\u001B[0;34m\u001B[0m\u001B[0;34m\u001B[0m\u001B[0m\n\u001B[0m\u001B[1;32m      7\u001B[0m     \u001B[0;32mreturn\u001B[0m \u001B[0mextracted_data\u001B[0m\u001B[0;34m\u001B[0m\u001B[0;34m\u001B[0m\u001B[0m\n\u001B[1;32m      8\u001B[0m \u001B[0;34m\u001B[0m\u001B[0m\n",
      "\u001B[0;32m~/anaconda3/envs/NMT4RDFS/lib/python3.7/site-packages/pandas/core/frame.py\u001B[0m in \u001B[0;36m__getitem__\u001B[0;34m(self, key)\u001B[0m\n\u001B[1;32m   3462\u001B[0m             \u001B[0;32mif\u001B[0m \u001B[0mis_iterator\u001B[0m\u001B[0;34m(\u001B[0m\u001B[0mkey\u001B[0m\u001B[0;34m)\u001B[0m\u001B[0;34m:\u001B[0m\u001B[0;34m\u001B[0m\u001B[0;34m\u001B[0m\u001B[0m\n\u001B[1;32m   3463\u001B[0m                 \u001B[0mkey\u001B[0m \u001B[0;34m=\u001B[0m \u001B[0mlist\u001B[0m\u001B[0;34m(\u001B[0m\u001B[0mkey\u001B[0m\u001B[0;34m)\u001B[0m\u001B[0;34m\u001B[0m\u001B[0;34m\u001B[0m\u001B[0m\n\u001B[0;32m-> 3464\u001B[0;31m             \u001B[0mindexer\u001B[0m \u001B[0;34m=\u001B[0m \u001B[0mself\u001B[0m\u001B[0;34m.\u001B[0m\u001B[0mloc\u001B[0m\u001B[0;34m.\u001B[0m\u001B[0m_get_listlike_indexer\u001B[0m\u001B[0;34m(\u001B[0m\u001B[0mkey\u001B[0m\u001B[0;34m,\u001B[0m \u001B[0maxis\u001B[0m\u001B[0;34m=\u001B[0m\u001B[0;36m1\u001B[0m\u001B[0;34m)\u001B[0m\u001B[0;34m[\u001B[0m\u001B[0;36m1\u001B[0m\u001B[0;34m]\u001B[0m\u001B[0;34m\u001B[0m\u001B[0;34m\u001B[0m\u001B[0m\n\u001B[0m\u001B[1;32m   3465\u001B[0m \u001B[0;34m\u001B[0m\u001B[0m\n\u001B[1;32m   3466\u001B[0m         \u001B[0;31m# take() does not accept boolean indexers\u001B[0m\u001B[0;34m\u001B[0m\u001B[0;34m\u001B[0m\u001B[0;34m\u001B[0m\u001B[0m\n",
      "\u001B[0;32m~/anaconda3/envs/NMT4RDFS/lib/python3.7/site-packages/pandas/core/indexing.py\u001B[0m in \u001B[0;36m_get_listlike_indexer\u001B[0;34m(self, key, axis)\u001B[0m\n\u001B[1;32m   1312\u001B[0m             \u001B[0mkeyarr\u001B[0m\u001B[0;34m,\u001B[0m \u001B[0mindexer\u001B[0m\u001B[0;34m,\u001B[0m \u001B[0mnew_indexer\u001B[0m \u001B[0;34m=\u001B[0m \u001B[0max\u001B[0m\u001B[0;34m.\u001B[0m\u001B[0m_reindex_non_unique\u001B[0m\u001B[0;34m(\u001B[0m\u001B[0mkeyarr\u001B[0m\u001B[0;34m)\u001B[0m\u001B[0;34m\u001B[0m\u001B[0;34m\u001B[0m\u001B[0m\n\u001B[1;32m   1313\u001B[0m \u001B[0;34m\u001B[0m\u001B[0m\n\u001B[0;32m-> 1314\u001B[0;31m         \u001B[0mself\u001B[0m\u001B[0;34m.\u001B[0m\u001B[0m_validate_read_indexer\u001B[0m\u001B[0;34m(\u001B[0m\u001B[0mkeyarr\u001B[0m\u001B[0;34m,\u001B[0m \u001B[0mindexer\u001B[0m\u001B[0;34m,\u001B[0m \u001B[0maxis\u001B[0m\u001B[0;34m)\u001B[0m\u001B[0;34m\u001B[0m\u001B[0;34m\u001B[0m\u001B[0m\n\u001B[0m\u001B[1;32m   1315\u001B[0m \u001B[0;34m\u001B[0m\u001B[0m\n\u001B[1;32m   1316\u001B[0m         if needs_i8_conversion(ax.dtype) or isinstance(\n",
      "\u001B[0;32m~/anaconda3/envs/NMT4RDFS/lib/python3.7/site-packages/pandas/core/indexing.py\u001B[0m in \u001B[0;36m_validate_read_indexer\u001B[0;34m(self, key, indexer, axis)\u001B[0m\n\u001B[1;32m   1375\u001B[0m \u001B[0;34m\u001B[0m\u001B[0m\n\u001B[1;32m   1376\u001B[0m             \u001B[0mnot_found\u001B[0m \u001B[0;34m=\u001B[0m \u001B[0mlist\u001B[0m\u001B[0;34m(\u001B[0m\u001B[0mensure_index\u001B[0m\u001B[0;34m(\u001B[0m\u001B[0mkey\u001B[0m\u001B[0;34m)\u001B[0m\u001B[0;34m[\u001B[0m\u001B[0mmissing_mask\u001B[0m\u001B[0;34m.\u001B[0m\u001B[0mnonzero\u001B[0m\u001B[0;34m(\u001B[0m\u001B[0;34m)\u001B[0m\u001B[0;34m[\u001B[0m\u001B[0;36m0\u001B[0m\u001B[0;34m]\u001B[0m\u001B[0;34m]\u001B[0m\u001B[0;34m.\u001B[0m\u001B[0munique\u001B[0m\u001B[0;34m(\u001B[0m\u001B[0;34m)\u001B[0m\u001B[0;34m)\u001B[0m\u001B[0;34m\u001B[0m\u001B[0;34m\u001B[0m\u001B[0m\n\u001B[0;32m-> 1377\u001B[0;31m             \u001B[0;32mraise\u001B[0m \u001B[0mKeyError\u001B[0m\u001B[0;34m(\u001B[0m\u001B[0;34mf\"{not_found} not in index\"\u001B[0m\u001B[0;34m)\u001B[0m\u001B[0;34m\u001B[0m\u001B[0;34m\u001B[0m\u001B[0m\n\u001B[0m\u001B[1;32m   1378\u001B[0m \u001B[0;34m\u001B[0m\u001B[0m\n\u001B[1;32m   1379\u001B[0m \u001B[0;34m\u001B[0m\u001B[0m\n",
      "\u001B[0;31mKeyError\u001B[0m: \"['inference_graph_file', 'inference_graph_encoding'] not in index\""
     ]
    }
   ],
   "source": [
    "import ast\n",
    "\n",
    "\n",
    "def read_csv_extract_columns(file_path, columns):\n",
    "    data = pd.read_csv(file_path)\n",
    "    extracted_data = data[columns]\n",
    "    return extracted_data\n",
    "\n",
    "\n",
    "csv_file_path = \"code/encoding.csv\"\n",
    "columns = [\"input_graph_file\", \"input_graph_encoding\", \"inference_file\", \"inference_graph_encoding\"]\n",
    "extracted_data = read_csv_extract_columns(csv_file_path, columns)\n",
    "extracted_data['input_graph_file'] = extracted_data['input_graph_file'].str.replace('^../', '')\n",
    "extracted_data['inference_graph_file'] = extracted_data['inference_graph_file'].str.replace('^../', '')\n",
    "extracted_data.input_graph_encoding = extracted_data.input_graph_encoding.apply(lambda x: ast.literal_eval(x))\n",
    "extracted_data.inference_graph_encoding = extracted_data.inference_graph_encoding.apply(lambda x: ast.literal_eval(x))"
   ],
   "metadata": {
    "collapsed": false
   }
  },
  {
   "cell_type": "code",
   "execution_count": 345,
   "outputs": [
    {
     "data": {
      "text/plain": "                                    input_graph_file  \\\n0  data/lubm1_intact/graphs_with_descriptions/HTT...   \n1  data/lubm1_intact/graphs_with_descriptions/HTT...   \n2  data/lubm1_intact/graphs_with_descriptions/HTT...   \n3  data/lubm1_intact/graphs_with_descriptions/HTT...   \n4  data/lubm1_intact/graphs_with_descriptions/HTT...   \n5  data/lubm1_intact/graphs_with_descriptions/HTT...   \n6  data/lubm1_intact/graphs_with_descriptions/HTT...   \n7  data/lubm1_intact/graphs_with_descriptions/HTT...   \n8  data/lubm1_intact/graphs_with_descriptions/HTT...   \n9  data/lubm1_intact/graphs_with_descriptions/HTT...   \n\n                                input_graph_encoding  \n0  {1: [(-1, 1)], 2: [(-1, -2)], 3: [(-3, -2), (-...  \n1  {1: [(-1, 3)], 7: [(-1, -2), (-3, -2), (-4, -2...  \n2  {1: [(-1, 8)], 4: [(-1, -2)], 11: [(-1, -2), (...  \n3      {1: [(-1, 8)], 4: [(-1, -2)], 11: [(-1, -2)]}  \n4  {1: [(-1, 8)], 4: [(-1, -2)], 11: [(-1, -2), (...  \n5  {1: [(-1, 8)], 4: [(-1, -2)], 11: [(-1, -2), (...  \n6  {1: [(-1, 8)], 4: [(-1, -2)], 11: [(-1, -2), (...  \n7      {1: [(-1, 8)], 4: [(-1, -2)], 11: [(-1, -2)]}  \n8  {1: [(-1, 3)], 7: [(-1, -2), (-3, -2), (-4, -2...  \n9  {1: [(-1, 8)], 4: [(-1, -2)], 11: [(-1, -2), (...  ",
      "text/html": "<div>\n<style scoped>\n    .dataframe tbody tr th:only-of-type {\n        vertical-align: middle;\n    }\n\n    .dataframe tbody tr th {\n        vertical-align: top;\n    }\n\n    .dataframe thead th {\n        text-align: right;\n    }\n</style>\n<table border=\"1\" class=\"dataframe\">\n  <thead>\n    <tr style=\"text-align: right;\">\n      <th></th>\n      <th>input_graph_file</th>\n      <th>input_graph_encoding</th>\n    </tr>\n  </thead>\n  <tbody>\n    <tr>\n      <th>0</th>\n      <td>data/lubm1_intact/graphs_with_descriptions/HTT...</td>\n      <td>{1: [(-1, 1)], 2: [(-1, -2)], 3: [(-3, -2), (-...</td>\n    </tr>\n    <tr>\n      <th>1</th>\n      <td>data/lubm1_intact/graphs_with_descriptions/HTT...</td>\n      <td>{1: [(-1, 3)], 7: [(-1, -2), (-3, -2), (-4, -2...</td>\n    </tr>\n    <tr>\n      <th>2</th>\n      <td>data/lubm1_intact/graphs_with_descriptions/HTT...</td>\n      <td>{1: [(-1, 8)], 4: [(-1, -2)], 11: [(-1, -2), (...</td>\n    </tr>\n    <tr>\n      <th>3</th>\n      <td>data/lubm1_intact/graphs_with_descriptions/HTT...</td>\n      <td>{1: [(-1, 8)], 4: [(-1, -2)], 11: [(-1, -2)]}</td>\n    </tr>\n    <tr>\n      <th>4</th>\n      <td>data/lubm1_intact/graphs_with_descriptions/HTT...</td>\n      <td>{1: [(-1, 8)], 4: [(-1, -2)], 11: [(-1, -2), (...</td>\n    </tr>\n    <tr>\n      <th>5</th>\n      <td>data/lubm1_intact/graphs_with_descriptions/HTT...</td>\n      <td>{1: [(-1, 8)], 4: [(-1, -2)], 11: [(-1, -2), (...</td>\n    </tr>\n    <tr>\n      <th>6</th>\n      <td>data/lubm1_intact/graphs_with_descriptions/HTT...</td>\n      <td>{1: [(-1, 8)], 4: [(-1, -2)], 11: [(-1, -2), (...</td>\n    </tr>\n    <tr>\n      <th>7</th>\n      <td>data/lubm1_intact/graphs_with_descriptions/HTT...</td>\n      <td>{1: [(-1, 8)], 4: [(-1, -2)], 11: [(-1, -2)]}</td>\n    </tr>\n    <tr>\n      <th>8</th>\n      <td>data/lubm1_intact/graphs_with_descriptions/HTT...</td>\n      <td>{1: [(-1, 3)], 7: [(-1, -2), (-3, -2), (-4, -2...</td>\n    </tr>\n    <tr>\n      <th>9</th>\n      <td>data/lubm1_intact/graphs_with_descriptions/HTT...</td>\n      <td>{1: [(-1, 8)], 4: [(-1, -2)], 11: [(-1, -2), (...</td>\n    </tr>\n  </tbody>\n</table>\n</div>"
     },
     "execution_count": 345,
     "metadata": {},
     "output_type": "execute_result"
    }
   ],
   "source": [
    "extracted_data.head(10)"
   ],
   "metadata": {
    "collapsed": false
   }
  },
  {
   "cell_type": "code",
   "execution_count": 346,
   "outputs": [
    {
     "data": {
      "text/plain": "'data/lubm1_intact/graphs_with_descriptions/HTTP_www.Department0.University0.edu.nt'"
     },
     "execution_count": 346,
     "metadata": {},
     "output_type": "execute_result"
    }
   ],
   "source": [
    "nt_files_df.nt_file[0]"
   ],
   "metadata": {
    "collapsed": false
   }
  },
  {
   "cell_type": "code",
   "execution_count": 347,
   "outputs": [
    {
     "data": {
      "text/plain": "<Graph identifier=N943ba9b3749c40fab5409da8d05f63fc (<class 'rdflib.graph.Graph'>)>"
     },
     "execution_count": 347,
     "metadata": {},
     "output_type": "execute_result"
    }
   ],
   "source": [
    "# Load ontology and RDF graphs\n",
    "ontology_file_tbox = \"data/updated/ub.nt\"\n",
    "ontology_file_abox = \"data/lubm1_intact/all_lubm.nt\"\n",
    "inference_graph_file = \"data/lubm1_intact/jena_inference_with_descriptions/HTTP_www.Department0.University0.edu.nt\"\n",
    "\n",
    "rdf_ontology = Graph()\n",
    "rdf_ontology.parse(ontology_file_tbox, format=\"nt\")\n",
    "rdf_ontology.parse(ontology_file_abox, format=\"nt\")\n",
    "rdf_inference_graph = Graph()\n",
    "rdf_inference_graph.parse(inference_graph_file, format=\"nt\")"
   ],
   "metadata": {
    "collapsed": false
   }
  },
  {
   "cell_type": "code",
   "execution_count": 348,
   "outputs": [],
   "source": [
    "def create_graphs_from_files(dataframe, file_column):\n",
    "    graphs = []\n",
    "    for file_path in dataframe[file_column]:\n",
    "        g = Graph()\n",
    "        full_path = os.path.abspath(file_path)\n",
    "        g.parse(full_path, format='nt')\n",
    "        graphs.append(g)\n",
    "    return graphs\n",
    "\n",
    "\n",
    "extracted_data['graph'] = create_graphs_from_files(extracted_data, 'input_graph_file')"
   ],
   "metadata": {
    "collapsed": false
   }
  },
  {
   "cell_type": "code",
   "execution_count": 349,
   "outputs": [
    {
     "data": {
      "text/plain": "<Graph identifier=Nb5dbe64f5aaa4ad8948be39686b38652 (<class 'rdflib.graph.Graph'>)>"
     },
     "execution_count": 349,
     "metadata": {},
     "output_type": "execute_result"
    }
   ],
   "source": [
    "extracted_data.graph[0]"
   ],
   "metadata": {
    "collapsed": false
   }
  },
  {
   "cell_type": "code",
   "execution_count": 350,
   "outputs": [],
   "source": [
    "# Step 1: Create properties dictionary\n",
    "property_query = \"\"\"\n",
    "PREFIX rdf: <http://www.w3.org/1999/02/22-rdf-syntax-ns#>\n",
    "PREFIX owl: <http://www.w3.org/2002/07/owl#>\n",
    "SELECT DISTINCT ?property WHERE {\n",
    "  {\n",
    "    ?subject rdf:type ?object .\n",
    "    BIND(rdf:type as ?property)\n",
    "  } UNION {\n",
    "    ?property a owl:ObjectProperty .\n",
    "  } UNION {\n",
    "    ?property a owl:DatatypeProperty .\n",
    "  } UNION {\n",
    "    ?property a owl:TransitiveProperty .\n",
    "  }\n",
    "}\n",
    "\"\"\""
   ],
   "metadata": {
    "collapsed": false
   }
  },
  {
   "cell_type": "code",
   "execution_count": 351,
   "outputs": [],
   "source": [
    "# Define custom sorting function\n",
    "def custom_sort(property_uri):\n",
    "    property_str = str(property_uri)\n",
    "    if property_str == 'http://www.w3.org/1999/02/22-rdf-syntax-ns#type':\n",
    "        return ('', property_str)\n",
    "    else:\n",
    "        return (property_str,)\n",
    "\n",
    "\n",
    "# Get the properties as a list and sort them\n",
    "property_list = [row.property for row in rdf_ontology.query(property_query)]\n",
    "sorted_properties = sorted(property_list, key=custom_sort)\n",
    "\n",
    "# Generate the properties dictionary\n",
    "properties_dictionary = {property: index + 1 for index, property in enumerate(sorted_properties)}"
   ],
   "metadata": {
    "collapsed": false
   }
  },
  {
   "cell_type": "code",
   "execution_count": 352,
   "outputs": [
    {
     "data": {
      "text/plain": "33"
     },
     "execution_count": 352,
     "metadata": {},
     "output_type": "execute_result"
    }
   ],
   "source": [
    "len(properties_dictionary)  ## SHOULD BE 32 - paper page 26 line 36"
   ],
   "metadata": {
    "collapsed": false
   }
  },
  {
   "cell_type": "code",
   "execution_count": 353,
   "outputs": [],
   "source": [
    "# class_query = \"\"\"\n",
    "# PREFIX rdf: <http://www.w3.org/1999/02/22-rdf-syntax-ns#>\n",
    "# PREFIX rdfs: <http://www.w3.org/2000/01/rdf-schema#>\n",
    "# PREFIX owl: <http://www.w3.org/2002/07/owl#>\n",
    "# SELECT DISTINCT ?class_name WHERE {\n",
    "#   {\n",
    "#     ?class_name a rdfs:Class .\n",
    "#   } UNION {\n",
    "#     ?class_name a owl:Class .\n",
    "#   }\n",
    "#   FILTER(isURI(?class_name))\n",
    "# }\n",
    "# \"\"\"\n",
    "#\n",
    "# unique_class_names = set(row.class_name for row in rdf_ontology.query(class_query))\n",
    "# sorted_class_names = sorted(unique_class_names, key=lambda x: str(x))\n",
    "#\n",
    "# global_resources_dictionary = {class_name: index + 1 for index, class_name in enumerate(sorted_class_names)}"
   ],
   "metadata": {
    "collapsed": false
   }
  },
  {
   "cell_type": "code",
   "execution_count": 354,
   "outputs": [],
   "source": [
    "class_query = \"\"\"\n",
    "PREFIX rdf: <http://www.w3.org/1999/02/22-rdf-syntax-ns#>\n",
    "PREFIX rdfs: <http://www.w3.org/2000/01/rdf-schema#>\n",
    "PREFIX owl: <http://www.w3.org/2002/07/owl#>\n",
    "SELECT DISTINCT ?class_name WHERE {\n",
    "  {\n",
    "    ?class_name a rdfs:Class .\n",
    "  } UNION {\n",
    "    ?class_name a owl:Class .\n",
    "  }\n",
    "  FILTER(isURI(?class_name))\n",
    "}\n",
    "\"\"\"\n",
    "\n",
    "global_resources_dictionary = {}\n",
    "for i, row in enumerate(rdf_ontology.query(class_query)):\n",
    "    global_resources_dictionary[row.class_name] = i"
   ],
   "metadata": {
    "collapsed": false
   }
  },
  {
   "cell_type": "code",
   "execution_count": 355,
   "outputs": [
    {
     "data": {
      "text/plain": "43"
     },
     "execution_count": 355,
     "metadata": {},
     "output_type": "execute_result"
    }
   ],
   "source": [
    "len(global_resources_dictionary)  #SHOULD BE 57 - paper page 26 line 45"
   ],
   "metadata": {
    "collapsed": false
   }
  },
  {
   "cell_type": "code",
   "execution_count": 356,
   "outputs": [
    {
     "data": {
      "text/plain": "{rdflib.term.URIRef('http://swat.cse.lehigh.edu/onto/univ-bench.owl#AdministrativeStaff'): 0,\n rdflib.term.URIRef('http://swat.cse.lehigh.edu/onto/univ-bench.owl#Article'): 1,\n rdflib.term.URIRef('http://swat.cse.lehigh.edu/onto/univ-bench.owl#AssistantProfessor'): 2,\n rdflib.term.URIRef('http://swat.cse.lehigh.edu/onto/univ-bench.owl#AssociateProfessor'): 3,\n rdflib.term.URIRef('http://swat.cse.lehigh.edu/onto/univ-bench.owl#Book'): 4,\n rdflib.term.URIRef('http://swat.cse.lehigh.edu/onto/univ-bench.owl#Chair'): 5,\n rdflib.term.URIRef('http://swat.cse.lehigh.edu/onto/univ-bench.owl#Person'): 6,\n rdflib.term.URIRef('http://swat.cse.lehigh.edu/onto/univ-bench.owl#Department'): 7,\n rdflib.term.URIRef('http://swat.cse.lehigh.edu/onto/univ-bench.owl#ClericalStaff'): 8,\n rdflib.term.URIRef('http://swat.cse.lehigh.edu/onto/univ-bench.owl#College'): 9,\n rdflib.term.URIRef('http://swat.cse.lehigh.edu/onto/univ-bench.owl#ConferencePaper'): 10,\n rdflib.term.URIRef('http://swat.cse.lehigh.edu/onto/univ-bench.owl#Course'): 11,\n rdflib.term.URIRef('http://swat.cse.lehigh.edu/onto/univ-bench.owl#Dean'): 12,\n rdflib.term.URIRef('http://swat.cse.lehigh.edu/onto/univ-bench.owl#Director'): 13,\n rdflib.term.URIRef('http://swat.cse.lehigh.edu/onto/univ-bench.owl#Program'): 14,\n rdflib.term.URIRef('http://swat.cse.lehigh.edu/onto/univ-bench.owl#Employee'): 15,\n rdflib.term.URIRef('http://swat.cse.lehigh.edu/onto/univ-bench.owl#Organization'): 16,\n rdflib.term.URIRef('http://swat.cse.lehigh.edu/onto/univ-bench.owl#Faculty'): 17,\n rdflib.term.URIRef('http://swat.cse.lehigh.edu/onto/univ-bench.owl#FullProfessor'): 18,\n rdflib.term.URIRef('http://swat.cse.lehigh.edu/onto/univ-bench.owl#GraduateCourse'): 19,\n rdflib.term.URIRef('http://swat.cse.lehigh.edu/onto/univ-bench.owl#GraduateStudent'): 20,\n rdflib.term.URIRef('http://swat.cse.lehigh.edu/onto/univ-bench.owl#Institute'): 21,\n rdflib.term.URIRef('http://swat.cse.lehigh.edu/onto/univ-bench.owl#JournalArticle'): 22,\n rdflib.term.URIRef('http://swat.cse.lehigh.edu/onto/univ-bench.owl#Lecturer'): 23,\n rdflib.term.URIRef('http://swat.cse.lehigh.edu/onto/univ-bench.owl#Manual'): 24,\n rdflib.term.URIRef('http://swat.cse.lehigh.edu/onto/univ-bench.owl#PostDoc'): 25,\n rdflib.term.URIRef('http://swat.cse.lehigh.edu/onto/univ-bench.owl#Professor'): 26,\n rdflib.term.URIRef('http://swat.cse.lehigh.edu/onto/univ-bench.owl#Publication'): 27,\n rdflib.term.URIRef('http://swat.cse.lehigh.edu/onto/univ-bench.owl#Research'): 28,\n rdflib.term.URIRef('http://swat.cse.lehigh.edu/onto/univ-bench.owl#ResearchAssistant'): 29,\n rdflib.term.URIRef('http://swat.cse.lehigh.edu/onto/univ-bench.owl#ResearchGroup'): 30,\n rdflib.term.URIRef('http://swat.cse.lehigh.edu/onto/univ-bench.owl#Schedule'): 31,\n rdflib.term.URIRef('http://swat.cse.lehigh.edu/onto/univ-bench.owl#Software'): 32,\n rdflib.term.URIRef('http://swat.cse.lehigh.edu/onto/univ-bench.owl#Specification'): 33,\n rdflib.term.URIRef('http://swat.cse.lehigh.edu/onto/univ-bench.owl#Student'): 34,\n rdflib.term.URIRef('http://swat.cse.lehigh.edu/onto/univ-bench.owl#SystemsStaff'): 35,\n rdflib.term.URIRef('http://swat.cse.lehigh.edu/onto/univ-bench.owl#TeachingAssistant'): 36,\n rdflib.term.URIRef('http://swat.cse.lehigh.edu/onto/univ-bench.owl#TechnicalReport'): 37,\n rdflib.term.URIRef('http://swat.cse.lehigh.edu/onto/univ-bench.owl#UndergraduateStudent'): 38,\n rdflib.term.URIRef('http://swat.cse.lehigh.edu/onto/univ-bench.owl#University'): 39,\n rdflib.term.URIRef('http://swat.cse.lehigh.edu/onto/univ-bench.owl#UnofficialPublication'): 40,\n rdflib.term.URIRef('http://swat.cse.lehigh.edu/onto/univ-bench.owl#VisitingProfessor'): 41,\n rdflib.term.URIRef('http://swat.cse.lehigh.edu/onto/univ-bench.owl#Work'): 42}"
     },
     "execution_count": 356,
     "metadata": {},
     "output_type": "execute_result"
    }
   ],
   "source": [
    "global_resources_dictionary"
   ],
   "metadata": {
    "collapsed": false
   }
  },
  {
   "cell_type": "markdown",
   "source": [
    "# Adding Missing Base Classes"
   ],
   "metadata": {
    "collapsed": false
   }
  },
  {
   "cell_type": "code",
   "execution_count": 357,
   "outputs": [],
   "source": [
    "import rdflib\n",
    "\n",
    "base_classes = [\n",
    "    \"http://www.w3.org/1999/02/22-rdf-syntax-ns#Alt\",\n",
    "    \"http://www.w3.org/1999/02/22-rdf-syntax-ns#Bag\",\n",
    "    \"http://www.w3.org/1999/02/22-rdf-syntax-ns#List\",\n",
    "    \"http://www.w3.org/1999/02/22-rdf-syntax-ns#Property\",\n",
    "    \"http://www.w3.org/1999/02/22-rdf-syntax-ns#Seq\",\n",
    "    \"http://www.w3.org/1999/02/22-rdf-syntax-ns#Statement\",\n",
    "    \"http://www.w3.org/1999/02/22-rdf-syntax-ns#XMLLiteral\",\n",
    "    \"http://www.w3.org/2000/01/rdf-schema#Class\",\n",
    "    \"http://www.w3.org/2000/01/rdf-schema#Container\",\n",
    "    \"http://www.w3.org/2000/01/rdf-schema#ContainerMembershipProperty\",\n",
    "    \"http://www.w3.org/2000/01/rdf-schema#Datatype\",\n",
    "    \"http://www.w3.org/2000/01/rdf-schema#Literal\",\n",
    "    \"http://www.w3.org/2000/01/rdf-schema#Resource\",\n",
    "    \"http://www.w3.org/2001/XMLSchema#nonNegativeInteger\",\n",
    "    \"http://www.w3.org/2001/XMLSchema#string\"\n",
    "]\n",
    "\n",
    "for base_class in base_classes:\n",
    "    if rdflib.URIRef(base_class) not in global_resources_dictionary:\n",
    "        global_resources_dictionary[rdflib.URIRef(base_class)] = len(global_resources_dictionary)"
   ],
   "metadata": {
    "collapsed": false
   }
  },
  {
   "cell_type": "code",
   "execution_count": 358,
   "outputs": [
    {
     "data": {
      "text/plain": "58"
     },
     "execution_count": 358,
     "metadata": {},
     "output_type": "execute_result"
    }
   ],
   "source": [
    "len(global_resources_dictionary)  #SHOULD BE 57 - paper page 26 line 45"
   ],
   "metadata": {
    "collapsed": false
   }
  },
  {
   "cell_type": "code",
   "execution_count": 359,
   "outputs": [
    {
     "data": {
      "text/plain": "{rdflib.term.URIRef('http://swat.cse.lehigh.edu/onto/univ-bench.owl#AdministrativeStaff'): 0,\n rdflib.term.URIRef('http://swat.cse.lehigh.edu/onto/univ-bench.owl#Article'): 1,\n rdflib.term.URIRef('http://swat.cse.lehigh.edu/onto/univ-bench.owl#AssistantProfessor'): 2,\n rdflib.term.URIRef('http://swat.cse.lehigh.edu/onto/univ-bench.owl#AssociateProfessor'): 3,\n rdflib.term.URIRef('http://swat.cse.lehigh.edu/onto/univ-bench.owl#Book'): 4,\n rdflib.term.URIRef('http://swat.cse.lehigh.edu/onto/univ-bench.owl#Chair'): 5,\n rdflib.term.URIRef('http://swat.cse.lehigh.edu/onto/univ-bench.owl#Person'): 6,\n rdflib.term.URIRef('http://swat.cse.lehigh.edu/onto/univ-bench.owl#Department'): 7,\n rdflib.term.URIRef('http://swat.cse.lehigh.edu/onto/univ-bench.owl#ClericalStaff'): 8,\n rdflib.term.URIRef('http://swat.cse.lehigh.edu/onto/univ-bench.owl#College'): 9,\n rdflib.term.URIRef('http://swat.cse.lehigh.edu/onto/univ-bench.owl#ConferencePaper'): 10,\n rdflib.term.URIRef('http://swat.cse.lehigh.edu/onto/univ-bench.owl#Course'): 11,\n rdflib.term.URIRef('http://swat.cse.lehigh.edu/onto/univ-bench.owl#Dean'): 12,\n rdflib.term.URIRef('http://swat.cse.lehigh.edu/onto/univ-bench.owl#Director'): 13,\n rdflib.term.URIRef('http://swat.cse.lehigh.edu/onto/univ-bench.owl#Program'): 14,\n rdflib.term.URIRef('http://swat.cse.lehigh.edu/onto/univ-bench.owl#Employee'): 15,\n rdflib.term.URIRef('http://swat.cse.lehigh.edu/onto/univ-bench.owl#Organization'): 16,\n rdflib.term.URIRef('http://swat.cse.lehigh.edu/onto/univ-bench.owl#Faculty'): 17,\n rdflib.term.URIRef('http://swat.cse.lehigh.edu/onto/univ-bench.owl#FullProfessor'): 18,\n rdflib.term.URIRef('http://swat.cse.lehigh.edu/onto/univ-bench.owl#GraduateCourse'): 19,\n rdflib.term.URIRef('http://swat.cse.lehigh.edu/onto/univ-bench.owl#GraduateStudent'): 20,\n rdflib.term.URIRef('http://swat.cse.lehigh.edu/onto/univ-bench.owl#Institute'): 21,\n rdflib.term.URIRef('http://swat.cse.lehigh.edu/onto/univ-bench.owl#JournalArticle'): 22,\n rdflib.term.URIRef('http://swat.cse.lehigh.edu/onto/univ-bench.owl#Lecturer'): 23,\n rdflib.term.URIRef('http://swat.cse.lehigh.edu/onto/univ-bench.owl#Manual'): 24,\n rdflib.term.URIRef('http://swat.cse.lehigh.edu/onto/univ-bench.owl#PostDoc'): 25,\n rdflib.term.URIRef('http://swat.cse.lehigh.edu/onto/univ-bench.owl#Professor'): 26,\n rdflib.term.URIRef('http://swat.cse.lehigh.edu/onto/univ-bench.owl#Publication'): 27,\n rdflib.term.URIRef('http://swat.cse.lehigh.edu/onto/univ-bench.owl#Research'): 28,\n rdflib.term.URIRef('http://swat.cse.lehigh.edu/onto/univ-bench.owl#ResearchAssistant'): 29,\n rdflib.term.URIRef('http://swat.cse.lehigh.edu/onto/univ-bench.owl#ResearchGroup'): 30,\n rdflib.term.URIRef('http://swat.cse.lehigh.edu/onto/univ-bench.owl#Schedule'): 31,\n rdflib.term.URIRef('http://swat.cse.lehigh.edu/onto/univ-bench.owl#Software'): 32,\n rdflib.term.URIRef('http://swat.cse.lehigh.edu/onto/univ-bench.owl#Specification'): 33,\n rdflib.term.URIRef('http://swat.cse.lehigh.edu/onto/univ-bench.owl#Student'): 34,\n rdflib.term.URIRef('http://swat.cse.lehigh.edu/onto/univ-bench.owl#SystemsStaff'): 35,\n rdflib.term.URIRef('http://swat.cse.lehigh.edu/onto/univ-bench.owl#TeachingAssistant'): 36,\n rdflib.term.URIRef('http://swat.cse.lehigh.edu/onto/univ-bench.owl#TechnicalReport'): 37,\n rdflib.term.URIRef('http://swat.cse.lehigh.edu/onto/univ-bench.owl#UndergraduateStudent'): 38,\n rdflib.term.URIRef('http://swat.cse.lehigh.edu/onto/univ-bench.owl#University'): 39,\n rdflib.term.URIRef('http://swat.cse.lehigh.edu/onto/univ-bench.owl#UnofficialPublication'): 40,\n rdflib.term.URIRef('http://swat.cse.lehigh.edu/onto/univ-bench.owl#VisitingProfessor'): 41,\n rdflib.term.URIRef('http://swat.cse.lehigh.edu/onto/univ-bench.owl#Work'): 42,\n rdflib.term.URIRef('http://www.w3.org/1999/02/22-rdf-syntax-ns#Alt'): 43,\n rdflib.term.URIRef('http://www.w3.org/1999/02/22-rdf-syntax-ns#Bag'): 44,\n rdflib.term.URIRef('http://www.w3.org/1999/02/22-rdf-syntax-ns#List'): 45,\n rdflib.term.URIRef('http://www.w3.org/1999/02/22-rdf-syntax-ns#Property'): 46,\n rdflib.term.URIRef('http://www.w3.org/1999/02/22-rdf-syntax-ns#Seq'): 47,\n rdflib.term.URIRef('http://www.w3.org/1999/02/22-rdf-syntax-ns#Statement'): 48,\n rdflib.term.URIRef('http://www.w3.org/1999/02/22-rdf-syntax-ns#XMLLiteral'): 49,\n rdflib.term.URIRef('http://www.w3.org/2000/01/rdf-schema#Class'): 50,\n rdflib.term.URIRef('http://www.w3.org/2000/01/rdf-schema#Container'): 51,\n rdflib.term.URIRef('http://www.w3.org/2000/01/rdf-schema#ContainerMembershipProperty'): 52,\n rdflib.term.URIRef('http://www.w3.org/2000/01/rdf-schema#Datatype'): 53,\n rdflib.term.URIRef('http://www.w3.org/2000/01/rdf-schema#Literal'): 54,\n rdflib.term.URIRef('http://www.w3.org/2000/01/rdf-schema#Resource'): 55,\n rdflib.term.URIRef('http://www.w3.org/2001/XMLSchema#nonNegativeInteger'): 56,\n rdflib.term.URIRef('http://www.w3.org/2001/XMLSchema#string'): 57}"
     },
     "execution_count": 359,
     "metadata": {},
     "output_type": "execute_result"
    }
   ],
   "source": [
    "global_resources_dictionary"
   ],
   "metadata": {
    "collapsed": false
   }
  },
  {
   "cell_type": "markdown",
   "source": [
    "# I don't know WHICH ONE is wrong because all 58 of them are in his final file"
   ],
   "metadata": {
    "collapsed": false
   }
  },
  {
   "cell_type": "markdown",
   "source": [
    "# GLOBAL PROPERTIES AND RESOURCES DICTIONARIES DONE"
   ],
   "metadata": {
    "collapsed": false
   }
  },
  {
   "cell_type": "code",
   "execution_count": 360,
   "outputs": [],
   "source": [
    "import networkx as nx\n",
    "from rdflib.plugins.sparql import prepareQuery\n",
    "\n",
    "subproperty_query = prepareQuery(\"\"\"\n",
    "    PREFIX rdfs: <http://www.w3.org/2000/01/rdf-schema#>\n",
    "    SELECT ?property1 ?property2\n",
    "    WHERE {\n",
    "        ?property1 rdfs:subPropertyOf ?property2\n",
    "        FILTER(?property1 != ?property2)\n",
    "    }\n",
    "\"\"\")\n",
    "\n",
    "subproperty_graph = nx.Graph()\n",
    "\n",
    "for row in rdf_ontology.query(subproperty_query):\n",
    "    subproperty_graph.add_edge(row.property1, row.property2)"
   ],
   "metadata": {
    "collapsed": false
   }
  },
  {
   "cell_type": "code",
   "execution_count": 361,
   "outputs": [],
   "source": [
    "subgraphs = list(nx.connected_components(subproperty_graph))"
   ],
   "metadata": {
    "collapsed": false
   }
  },
  {
   "cell_type": "code",
   "execution_count": 362,
   "outputs": [],
   "source": [
    "properties_groups = {}\n",
    "\n",
    "for group_id, subgraph in enumerate(subgraphs):\n",
    "    for property in subgraph:\n",
    "        properties_groups[property] = group_id\n"
   ],
   "metadata": {
    "collapsed": false
   }
  },
  {
   "cell_type": "code",
   "execution_count": 363,
   "outputs": [],
   "source": [
    "# Find the maximum group_id used so far\n",
    "max_group_id = max(properties_groups.values()) if properties_groups else -1\n",
    "\n",
    "# Add the properties from properties_dictionary to the properties_groups\n",
    "for property in properties_dictionary:\n",
    "    if property not in properties_groups:\n",
    "        max_group_id += 1\n",
    "        properties_groups[property] = max_group_id"
   ],
   "metadata": {
    "collapsed": false
   }
  },
  {
   "cell_type": "markdown",
   "source": [
    "# PROPERTIES GROUPS DONE - START ENCODING"
   ],
   "metadata": {
    "collapsed": false
   }
  },
  {
   "cell_type": "code",
   "execution_count": 364,
   "outputs": [],
   "source": [
    "# GLOBAL PROPERTIES DICTIONARY - properties_dictionary - already exists\n",
    "global_properties_dictionary = properties_dictionary\n",
    "global_active_properties_dictionary = {}\n",
    "# GLOBAL RESOURCES DICTIONARY - global_resources_dictionary - already exists\n",
    "global_active_resources_dictionary = {}\n",
    "# GLOBAL PROPERTY GROUPS DICTIONARY  - properties_groups\n",
    "global_property_groups_dictionary = properties_groups  # already exists\n",
    "# LOCAL RESOURCES DICTIONARY [graph name] -> (local props, local resources)\n",
    "# local_resources_dictionaries = {}\n",
    "global_local_resources_dictionary = {}\n",
    "global_property_IDs = {}"
   ],
   "metadata": {
    "collapsed": false
   }
  },
  {
   "cell_type": "code",
   "execution_count": 365,
   "outputs": [],
   "source": [
    "def add_resource(resource, property, local_resources_dictionary):\n",
    "    property_group = global_property_groups_dictionary[property]\n",
    "\n",
    "    if resource in global_active_resources_dictionary:\n",
    "        return\n",
    "\n",
    "    if property not in global_active_properties_dictionary:\n",
    "        global_active_properties_dictionary[property] = len(global_active_properties_dictionary) + 1\n",
    "\n",
    "    if resource in global_resources_dictionary and resource not in global_active_resources_dictionary:\n",
    "        global_active_resources_dictionary[resource] = len(global_active_resources_dictionary) + 1\n",
    "\n",
    "    else:\n",
    "        if property_group not in local_resources_dictionary:\n",
    "            local_resources_dictionary[property_group] = {}\n",
    "\n",
    "        if resource not in local_resources_dictionary[property_group]:\n",
    "            local_resources_dictionary[property_group][resource] = -(\n",
    "                    len(local_resources_dictionary[property_group]) + 1)"
   ],
   "metadata": {
    "collapsed": false
   }
  },
  {
   "cell_type": "code",
   "execution_count": 366,
   "outputs": [],
   "source": [
    "def lookup_resource(resource, property, local_resources_dictionary):\n",
    "    property_group = global_property_groups_dictionary[property]\n",
    "\n",
    "    if property_group in global_active_resources_dictionary:\n",
    "        return global_active_resources_dictionary[resource]\n",
    "    else:\n",
    "        if resource in global_active_resources_dictionary:\n",
    "            return global_active_resources_dictionary[resource]\n",
    "        else:\n",
    "            return local_resources_dictionary[property_group][resource]"
   ],
   "metadata": {
    "collapsed": false
   }
  },
  {
   "cell_type": "code",
   "execution_count": 367,
   "outputs": [],
   "source": [
    "from rdflib import RDF, RDFS\n",
    "\n",
    "\n",
    "def encode_advanced(rdf_graph, inference):\n",
    "    if not inference:\n",
    "        local_resources_dictionary = {}\n",
    "    else:\n",
    "        local_resources_dictionary = global_local_resources_dictionary\n",
    "\n",
    "    unique_properties = {p for s, p, o in rdf_graph}\n",
    "    filtered_property_list = [property for property in global_properties_dictionary if\n",
    "                              URIRef(property) in unique_properties]\n",
    "\n",
    "    for index, property in enumerate(filtered_property_list):\n",
    "        if URIRef(property) not in global_property_IDs:\n",
    "            global_property_IDs[URIRef(property)] = len(global_property_IDs) + 1\n",
    "\n",
    "    sorted_triples = sorted(rdf_graph, key=lambda x: (global_property_IDs.get(x[1], float('inf')), x[0], x[2]))\n",
    "\n",
    "    sparse_encoding = []\n",
    "    encoding = {}\n",
    "\n",
    "    for s, p, o in sorted_triples:\n",
    "        if p not in properties_dictionary:\n",
    "            continue\n",
    "\n",
    "        if type(s) == rdflib.term.BNode or type(o) == rdflib.term.BNode:\n",
    "            continue\n",
    "\n",
    "        if (p, o) == (RDF.type, RDFS.Resource):\n",
    "            continue\n",
    "\n",
    "        if (p, o) == (RDF.type, RDFS.Class):\n",
    "            continue\n",
    "\n",
    "        if inference and o in global_resources_dictionary:\n",
    "            global_active_resources_dictionary[o] = len(global_active_properties_dictionary) + 1\n",
    "\n",
    "        if not inference:\n",
    "            add_resource(s, p, local_resources_dictionary)\n",
    "            add_resource(o, p, local_resources_dictionary)\n",
    "\n",
    "        s_id = lookup_resource(s, p, local_resources_dictionary)\n",
    "        o_id = lookup_resource(o, p, local_resources_dictionary)\n",
    "        p_id = global_property_IDs[p]\n",
    "        sparse_encoding.append((p_id, s_id, o_id))\n",
    "        if p_id not in encoding:\n",
    "            encoding[p_id] = []\n",
    "        encoding[p_id].append((s_id, o_id))\n",
    "        # print(f\"{s}:{s_id}, {p}:{p_id}, {o}:{o_id}\")\n",
    "\n",
    "    return encoding\n"
   ],
   "metadata": {
    "collapsed": false
   }
  },
  {
   "cell_type": "markdown",
   "source": [
    "# ENCODING DONE - START TESTING"
   ],
   "metadata": {
    "collapsed": false
   }
  },
  {
   "cell_type": "code",
   "execution_count": 368,
   "outputs": [
    {
     "name": "stdout",
     "output_type": "stream",
     "text": [
      "Mismatched key-value pairs for layer 0:\n",
      "\n",
      "Mismatched key-value pairs for layer 1:\n",
      "Key 1:\n",
      "  Incorrect value: [(-1, 2)]\n",
      "  Correct value: [(-1, 3)]\n",
      "\n",
      "Mismatched key-value pairs for layer 2:\n",
      "Key 1:\n",
      "  Incorrect value: [(-1, 3)]\n",
      "  Correct value: [(-1, 8)]\n",
      "\n",
      "Mismatched key-value pairs for layer 3:\n",
      "Key 1:\n",
      "  Incorrect value: [(-1, 3)]\n",
      "  Correct value: [(-1, 8)]\n",
      "\n",
      "Mismatched key-value pairs for layer 4:\n",
      "Key 1:\n",
      "  Incorrect value: [(-1, 3)]\n",
      "  Correct value: [(-1, 8)]\n",
      "\n"
     ]
    }
   ],
   "source": [
    "encodings = []\n",
    "\n",
    "graphs_test = []\n",
    "number_of_tests = 5\n",
    "\n",
    "for i in range(number_of_tests):\n",
    "    graphs_test.append(extracted_data.graph[i])\n",
    "\n",
    "for graph in graphs_test:\n",
    "    encodings.append(encode_advanced(graph, inference=False))\n",
    "\n",
    "for z in range(number_of_tests):\n",
    "    encoding1 = encodings[z]\n",
    "    encoding2 = extracted_data.input_graph_encoding[z]\n",
    "\n",
    "\n",
    "    def compare_dictionaries(dict1, dict2):\n",
    "        mismatched_pairs = []\n",
    "        for key in set(dict1.keys()).union(dict2.keys()):\n",
    "            if key in dict1 and key in dict2:\n",
    "                if dict1[key] != dict2[key]:\n",
    "                    mismatched_pairs.append((key, dict1[key], dict2[key]))\n",
    "            else:\n",
    "                missing_in = \"dict1\" if key not in dict1 else \"dict2\"\n",
    "                print(f\"Key {key} is missing in {missing_in}\")\n",
    "        return mismatched_pairs\n",
    "\n",
    "\n",
    "    mismatched_pairs = compare_dictionaries(encoding1, encoding2)\n",
    "\n",
    "    print(f\"Mismatched key-value pairs for layer {z}:\")\n",
    "    for key, value1, value2 in mismatched_pairs:\n",
    "        print(f\"Key {key}:\")\n",
    "        print(\"  Incorrect value:\", value1)\n",
    "        print(\"  Correct value:\", value2)\n",
    "    print()\n"
   ],
   "metadata": {
    "collapsed": false
   }
  },
  {
   "cell_type": "code",
   "execution_count": 370,
   "outputs": [],
   "source": [],
   "metadata": {
    "collapsed": false
   }
  }
 ],
 "metadata": {
  "kernelspec": {
   "display_name": "Python 3",
   "language": "python",
   "name": "python3"
  },
  "language_info": {
   "codemirror_mode": {
    "name": "ipython",
    "version": 2
   },
   "file_extension": ".py",
   "mimetype": "text/x-python",
   "name": "python",
   "nbconvert_exporter": "python",
   "pygments_lexer": "ipython2",
   "version": "2.7.6"
  }
 },
 "nbformat": 4,
 "nbformat_minor": 0
}
