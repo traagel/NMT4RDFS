{
 "cells": [
  {
   "cell_type": "markdown",
   "source": [
    "# Experiment 4 - following directly the algorithm in the paper"
   ],
   "metadata": {
    "collapsed": false
   }
  },
  {
   "cell_type": "code",
   "execution_count": 731,
   "outputs": [],
   "source": [
    "import numpy as np\n",
    "from rdflib import Graph, URIRef\n",
    "from collections import defaultdict\n",
    "import codecs"
   ],
   "metadata": {
    "collapsed": false
   }
  },
  {
   "cell_type": "code",
   "execution_count": 732,
   "outputs": [],
   "source": [
    "# Load ontology and RDF graphs\n",
    "ontology_file_tbox = \"data/updated/ub.nt\"\n",
    "ontology_file_abox = \"data/lubm1_intact/all_lubm.nt\"\n",
    "input_graph_file = \"data/lubm1_intact/graphs_with_descriptions/HTTP_www.Department0.University0.edu.nt\"\n",
    "input_graph_file = \"data/lubm1_intact/graphs_with_descriptions/HTTP_www.Department0.University0.edu.nt\"\n",
    "inference_graph_file = \"data/lubm1_intact/jena_inference_with_descriptions/HTTP_www.Department0.University0.edu.nt\""
   ],
   "metadata": {
    "collapsed": false
   }
  },
  {
   "cell_type": "code",
   "execution_count": 733,
   "outputs": [
    {
     "data": {
      "text/plain": "<Graph identifier=N608e29a9f0704213b85d16f374288c79 (<class 'rdflib.graph.Graph'>)>"
     },
     "execution_count": 733,
     "metadata": {},
     "output_type": "execute_result"
    }
   ],
   "source": [
    "rdf_ontology = Graph()\n",
    "rdf_ontology.parse(ontology_file_tbox, format=\"nt\")\n",
    "rdf_ontology.parse(ontology_file_abox, format=\"nt\")\n",
    "\n",
    "rdf_input_graph = Graph()\n",
    "#rdf_input_graph.parse(input_graph_file, format=\"nt\")\n",
    "rdf_input_graph.parse(data=codecs.open(input_graph_file, encoding=\"UTF-8\").read(), format=\"nt\")\n",
    "\n",
    "\n",
    "rdf_inference_graph = Graph()\n",
    "rdf_inference_graph.parse(inference_graph_file, format=\"nt\")"
   ],
   "metadata": {
    "collapsed": false
   }
  },
  {
   "cell_type": "code",
   "execution_count": 734,
   "outputs": [],
   "source": [
    "# Step 1: Create properties dictionary\n",
    "property_query = \"\"\"\n",
    "PREFIX rdf: <http://www.w3.org/1999/02/22-rdf-syntax-ns#>\n",
    "PREFIX owl: <http://www.w3.org/2002/07/owl#>\n",
    "SELECT DISTINCT ?property WHERE {\n",
    "  {\n",
    "    ?subject rdf:type ?object .\n",
    "    BIND(rdf:type as ?property)\n",
    "  } UNION {\n",
    "    ?property a owl:ObjectProperty .\n",
    "  } UNION {\n",
    "    ?property a owl:DatatypeProperty .\n",
    "  } UNION {\n",
    "    ?property a owl:TransitiveProperty .\n",
    "  }\n",
    "}\n",
    "\"\"\"\n",
    "\n"
   ],
   "metadata": {
    "collapsed": false
   }
  },
  {
   "cell_type": "code",
   "execution_count": 735,
   "outputs": [],
   "source": [
    "# Define custom sorting function\n",
    "def custom_sort(property_uri):\n",
    "    property_str = str(property_uri)\n",
    "    if property_str == 'http://www.w3.org/1999/02/22-rdf-syntax-ns#type':\n",
    "        return ('', property_str)\n",
    "    else:\n",
    "        return (property_str,)\n",
    "\n",
    "# Get the properties as a list and sort them\n",
    "property_list = [row.property for row in rdf_ontology.query(property_query)]\n",
    "sorted_properties = sorted(property_list, key=custom_sort)\n",
    "\n",
    "# Generate the properties dictionary\n",
    "properties_dictionary = {property: index+1 for index, property in enumerate(sorted_properties)}"
   ],
   "metadata": {
    "collapsed": false
   }
  },
  {
   "cell_type": "code",
   "execution_count": 736,
   "outputs": [
    {
     "data": {
      "text/plain": "33"
     },
     "execution_count": 736,
     "metadata": {},
     "output_type": "execute_result"
    }
   ],
   "source": [
    "len(properties_dictionary) ## SHOULD BE 32 - paper page 26 line 36"
   ],
   "metadata": {
    "collapsed": false
   }
  },
  {
   "cell_type": "code",
   "execution_count": 737,
   "outputs": [],
   "source": [
    "class_query = \"\"\"\n",
    "PREFIX rdf: <http://www.w3.org/1999/02/22-rdf-syntax-ns#>\n",
    "PREFIX rdfs: <http://www.w3.org/2000/01/rdf-schema#>\n",
    "PREFIX owl: <http://www.w3.org/2002/07/owl#>\n",
    "SELECT DISTINCT ?class_name WHERE {\n",
    "  {\n",
    "    ?class_name a rdfs:Class .\n",
    "  } UNION {\n",
    "    ?class_name a owl:Class .\n",
    "  }\n",
    "  FILTER(isURI(?class_name))\n",
    "}\n",
    "\"\"\"\n",
    "\n",
    "global_resources_dictionary = {}\n",
    "for i, row in enumerate(rdf_ontology.query(class_query)):\n",
    "    global_resources_dictionary[row.class_name] = i"
   ],
   "metadata": {
    "collapsed": false
   }
  },
  {
   "cell_type": "code",
   "execution_count": 738,
   "outputs": [
    {
     "data": {
      "text/plain": "43"
     },
     "execution_count": 738,
     "metadata": {},
     "output_type": "execute_result"
    }
   ],
   "source": [
    "len(global_resources_dictionary) #SHOULD BE 57 - paper page 26 line 45"
   ],
   "metadata": {
    "collapsed": false
   }
  },
  {
   "cell_type": "code",
   "execution_count": 739,
   "outputs": [
    {
     "data": {
      "text/plain": "{rdflib.term.URIRef('http://www.w3.org/1999/02/22-rdf-syntax-ns#type'): 1,\n rdflib.term.URIRef('http://swat.cse.lehigh.edu/onto/univ-bench.owl#advisor'): 2,\n rdflib.term.URIRef('http://swat.cse.lehigh.edu/onto/univ-bench.owl#affiliateOf'): 3,\n rdflib.term.URIRef('http://swat.cse.lehigh.edu/onto/univ-bench.owl#affiliatedOrganizationOf'): 4,\n rdflib.term.URIRef('http://swat.cse.lehigh.edu/onto/univ-bench.owl#age'): 5,\n rdflib.term.URIRef('http://swat.cse.lehigh.edu/onto/univ-bench.owl#degreeFrom'): 6,\n rdflib.term.URIRef('http://swat.cse.lehigh.edu/onto/univ-bench.owl#doctoralDegreeFrom'): 7,\n rdflib.term.URIRef('http://swat.cse.lehigh.edu/onto/univ-bench.owl#emailAddress'): 8,\n rdflib.term.URIRef('http://swat.cse.lehigh.edu/onto/univ-bench.owl#hasAlumnus'): 9,\n rdflib.term.URIRef('http://swat.cse.lehigh.edu/onto/univ-bench.owl#headOf'): 10,\n rdflib.term.URIRef('http://swat.cse.lehigh.edu/onto/univ-bench.owl#listedCourse'): 11,\n rdflib.term.URIRef('http://swat.cse.lehigh.edu/onto/univ-bench.owl#mastersDegreeFrom'): 12,\n rdflib.term.URIRef('http://swat.cse.lehigh.edu/onto/univ-bench.owl#member'): 13,\n rdflib.term.URIRef('http://swat.cse.lehigh.edu/onto/univ-bench.owl#memberOf'): 14,\n rdflib.term.URIRef('http://swat.cse.lehigh.edu/onto/univ-bench.owl#name'): 15,\n rdflib.term.URIRef('http://swat.cse.lehigh.edu/onto/univ-bench.owl#officeNumber'): 16,\n rdflib.term.URIRef('http://swat.cse.lehigh.edu/onto/univ-bench.owl#orgPublication'): 17,\n rdflib.term.URIRef('http://swat.cse.lehigh.edu/onto/univ-bench.owl#publicationAuthor'): 18,\n rdflib.term.URIRef('http://swat.cse.lehigh.edu/onto/univ-bench.owl#publicationDate'): 19,\n rdflib.term.URIRef('http://swat.cse.lehigh.edu/onto/univ-bench.owl#publicationResearch'): 20,\n rdflib.term.URIRef('http://swat.cse.lehigh.edu/onto/univ-bench.owl#researchInterest'): 21,\n rdflib.term.URIRef('http://swat.cse.lehigh.edu/onto/univ-bench.owl#researchProject'): 22,\n rdflib.term.URIRef('http://swat.cse.lehigh.edu/onto/univ-bench.owl#softwareDocumentation'): 23,\n rdflib.term.URIRef('http://swat.cse.lehigh.edu/onto/univ-bench.owl#softwareVersion'): 24,\n rdflib.term.URIRef('http://swat.cse.lehigh.edu/onto/univ-bench.owl#subOrganizationOf'): 25,\n rdflib.term.URIRef('http://swat.cse.lehigh.edu/onto/univ-bench.owl#takesCourse'): 26,\n rdflib.term.URIRef('http://swat.cse.lehigh.edu/onto/univ-bench.owl#teacherOf'): 27,\n rdflib.term.URIRef('http://swat.cse.lehigh.edu/onto/univ-bench.owl#teachingAssistantOf'): 28,\n rdflib.term.URIRef('http://swat.cse.lehigh.edu/onto/univ-bench.owl#telephone'): 29,\n rdflib.term.URIRef('http://swat.cse.lehigh.edu/onto/univ-bench.owl#tenured'): 30,\n rdflib.term.URIRef('http://swat.cse.lehigh.edu/onto/univ-bench.owl#title'): 31,\n rdflib.term.URIRef('http://swat.cse.lehigh.edu/onto/univ-bench.owl#undergraduateDegreeFrom'): 32,\n rdflib.term.URIRef('http://swat.cse.lehigh.edu/onto/univ-bench.owl#worksFor'): 33}"
     },
     "execution_count": 739,
     "metadata": {},
     "output_type": "execute_result"
    }
   ],
   "source": [
    "properties_dictionary"
   ],
   "metadata": {
    "collapsed": false
   }
  },
  {
   "cell_type": "markdown",
   "source": [
    "# Adding Missing Base Classes"
   ],
   "metadata": {
    "collapsed": false
   }
  },
  {
   "cell_type": "code",
   "execution_count": 740,
   "outputs": [],
   "source": [
    "import rdflib\n",
    "\n",
    "base_classes = [\n",
    "    \"http://www.w3.org/1999/02/22-rdf-syntax-ns#Alt\",\n",
    "    \"http://www.w3.org/1999/02/22-rdf-syntax-ns#Bag\",\n",
    "    \"http://www.w3.org/1999/02/22-rdf-syntax-ns#List\",\n",
    "    \"http://www.w3.org/1999/02/22-rdf-syntax-ns#Property\",\n",
    "    \"http://www.w3.org/1999/02/22-rdf-syntax-ns#Seq\",\n",
    "    \"http://www.w3.org/1999/02/22-rdf-syntax-ns#Statement\",\n",
    "    \"http://www.w3.org/1999/02/22-rdf-syntax-ns#XMLLiteral\",\n",
    "    \"http://www.w3.org/2000/01/rdf-schema#Class\",\n",
    "    \"http://www.w3.org/2000/01/rdf-schema#Container\",\n",
    "    \"http://www.w3.org/2000/01/rdf-schema#ContainerMembershipProperty\",\n",
    "    \"http://www.w3.org/2000/01/rdf-schema#Datatype\",\n",
    "    \"http://www.w3.org/2000/01/rdf-schema#Literal\",\n",
    "    \"http://www.w3.org/2000/01/rdf-schema#Resource\",\n",
    "    \"http://www.w3.org/2001/XMLSchema#nonNegativeInteger\",\n",
    "    \"http://www.w3.org/2001/XMLSchema#string\"\n",
    "]\n",
    "\n",
    "for base_class in base_classes:\n",
    "    if rdflib.URIRef(base_class) not in global_resources_dictionary:\n",
    "        global_resources_dictionary[rdflib.URIRef(base_class)] = len(global_resources_dictionary)"
   ],
   "metadata": {
    "collapsed": false
   }
  },
  {
   "cell_type": "code",
   "execution_count": 741,
   "outputs": [
    {
     "data": {
      "text/plain": "58"
     },
     "execution_count": 741,
     "metadata": {},
     "output_type": "execute_result"
    }
   ],
   "source": [
    "len(global_resources_dictionary) #SHOULD BE 57 - paper page 26 line 45"
   ],
   "metadata": {
    "collapsed": false
   }
  },
  {
   "cell_type": "code",
   "execution_count": 742,
   "outputs": [
    {
     "data": {
      "text/plain": "{rdflib.term.URIRef('http://swat.cse.lehigh.edu/onto/univ-bench.owl#AdministrativeStaff'): 0,\n rdflib.term.URIRef('http://swat.cse.lehigh.edu/onto/univ-bench.owl#Article'): 1,\n rdflib.term.URIRef('http://swat.cse.lehigh.edu/onto/univ-bench.owl#AssistantProfessor'): 2,\n rdflib.term.URIRef('http://swat.cse.lehigh.edu/onto/univ-bench.owl#AssociateProfessor'): 3,\n rdflib.term.URIRef('http://swat.cse.lehigh.edu/onto/univ-bench.owl#Book'): 4,\n rdflib.term.URIRef('http://swat.cse.lehigh.edu/onto/univ-bench.owl#Chair'): 5,\n rdflib.term.URIRef('http://swat.cse.lehigh.edu/onto/univ-bench.owl#Person'): 6,\n rdflib.term.URIRef('http://swat.cse.lehigh.edu/onto/univ-bench.owl#Department'): 7,\n rdflib.term.URIRef('http://swat.cse.lehigh.edu/onto/univ-bench.owl#ClericalStaff'): 8,\n rdflib.term.URIRef('http://swat.cse.lehigh.edu/onto/univ-bench.owl#College'): 9,\n rdflib.term.URIRef('http://swat.cse.lehigh.edu/onto/univ-bench.owl#ConferencePaper'): 10,\n rdflib.term.URIRef('http://swat.cse.lehigh.edu/onto/univ-bench.owl#Course'): 11,\n rdflib.term.URIRef('http://swat.cse.lehigh.edu/onto/univ-bench.owl#Dean'): 12,\n rdflib.term.URIRef('http://swat.cse.lehigh.edu/onto/univ-bench.owl#Director'): 13,\n rdflib.term.URIRef('http://swat.cse.lehigh.edu/onto/univ-bench.owl#Program'): 14,\n rdflib.term.URIRef('http://swat.cse.lehigh.edu/onto/univ-bench.owl#Employee'): 15,\n rdflib.term.URIRef('http://swat.cse.lehigh.edu/onto/univ-bench.owl#Organization'): 16,\n rdflib.term.URIRef('http://swat.cse.lehigh.edu/onto/univ-bench.owl#Faculty'): 17,\n rdflib.term.URIRef('http://swat.cse.lehigh.edu/onto/univ-bench.owl#FullProfessor'): 18,\n rdflib.term.URIRef('http://swat.cse.lehigh.edu/onto/univ-bench.owl#GraduateCourse'): 19,\n rdflib.term.URIRef('http://swat.cse.lehigh.edu/onto/univ-bench.owl#GraduateStudent'): 20,\n rdflib.term.URIRef('http://swat.cse.lehigh.edu/onto/univ-bench.owl#Institute'): 21,\n rdflib.term.URIRef('http://swat.cse.lehigh.edu/onto/univ-bench.owl#JournalArticle'): 22,\n rdflib.term.URIRef('http://swat.cse.lehigh.edu/onto/univ-bench.owl#Lecturer'): 23,\n rdflib.term.URIRef('http://swat.cse.lehigh.edu/onto/univ-bench.owl#Manual'): 24,\n rdflib.term.URIRef('http://swat.cse.lehigh.edu/onto/univ-bench.owl#PostDoc'): 25,\n rdflib.term.URIRef('http://swat.cse.lehigh.edu/onto/univ-bench.owl#Professor'): 26,\n rdflib.term.URIRef('http://swat.cse.lehigh.edu/onto/univ-bench.owl#Publication'): 27,\n rdflib.term.URIRef('http://swat.cse.lehigh.edu/onto/univ-bench.owl#Research'): 28,\n rdflib.term.URIRef('http://swat.cse.lehigh.edu/onto/univ-bench.owl#ResearchAssistant'): 29,\n rdflib.term.URIRef('http://swat.cse.lehigh.edu/onto/univ-bench.owl#ResearchGroup'): 30,\n rdflib.term.URIRef('http://swat.cse.lehigh.edu/onto/univ-bench.owl#Schedule'): 31,\n rdflib.term.URIRef('http://swat.cse.lehigh.edu/onto/univ-bench.owl#Software'): 32,\n rdflib.term.URIRef('http://swat.cse.lehigh.edu/onto/univ-bench.owl#Specification'): 33,\n rdflib.term.URIRef('http://swat.cse.lehigh.edu/onto/univ-bench.owl#Student'): 34,\n rdflib.term.URIRef('http://swat.cse.lehigh.edu/onto/univ-bench.owl#SystemsStaff'): 35,\n rdflib.term.URIRef('http://swat.cse.lehigh.edu/onto/univ-bench.owl#TeachingAssistant'): 36,\n rdflib.term.URIRef('http://swat.cse.lehigh.edu/onto/univ-bench.owl#TechnicalReport'): 37,\n rdflib.term.URIRef('http://swat.cse.lehigh.edu/onto/univ-bench.owl#UndergraduateStudent'): 38,\n rdflib.term.URIRef('http://swat.cse.lehigh.edu/onto/univ-bench.owl#University'): 39,\n rdflib.term.URIRef('http://swat.cse.lehigh.edu/onto/univ-bench.owl#UnofficialPublication'): 40,\n rdflib.term.URIRef('http://swat.cse.lehigh.edu/onto/univ-bench.owl#VisitingProfessor'): 41,\n rdflib.term.URIRef('http://swat.cse.lehigh.edu/onto/univ-bench.owl#Work'): 42,\n rdflib.term.URIRef('http://www.w3.org/1999/02/22-rdf-syntax-ns#Alt'): 43,\n rdflib.term.URIRef('http://www.w3.org/1999/02/22-rdf-syntax-ns#Bag'): 44,\n rdflib.term.URIRef('http://www.w3.org/1999/02/22-rdf-syntax-ns#List'): 45,\n rdflib.term.URIRef('http://www.w3.org/1999/02/22-rdf-syntax-ns#Property'): 46,\n rdflib.term.URIRef('http://www.w3.org/1999/02/22-rdf-syntax-ns#Seq'): 47,\n rdflib.term.URIRef('http://www.w3.org/1999/02/22-rdf-syntax-ns#Statement'): 48,\n rdflib.term.URIRef('http://www.w3.org/1999/02/22-rdf-syntax-ns#XMLLiteral'): 49,\n rdflib.term.URIRef('http://www.w3.org/2000/01/rdf-schema#Class'): 50,\n rdflib.term.URIRef('http://www.w3.org/2000/01/rdf-schema#Container'): 51,\n rdflib.term.URIRef('http://www.w3.org/2000/01/rdf-schema#ContainerMembershipProperty'): 52,\n rdflib.term.URIRef('http://www.w3.org/2000/01/rdf-schema#Datatype'): 53,\n rdflib.term.URIRef('http://www.w3.org/2000/01/rdf-schema#Literal'): 54,\n rdflib.term.URIRef('http://www.w3.org/2000/01/rdf-schema#Resource'): 55,\n rdflib.term.URIRef('http://www.w3.org/2001/XMLSchema#nonNegativeInteger'): 56,\n rdflib.term.URIRef('http://www.w3.org/2001/XMLSchema#string'): 57}"
     },
     "execution_count": 742,
     "metadata": {},
     "output_type": "execute_result"
    }
   ],
   "source": [
    "global_resources_dictionary"
   ],
   "metadata": {
    "collapsed": false
   }
  },
  {
   "cell_type": "markdown",
   "source": [
    "# I don't know WHICH ONE is wrong because all 58 of them are in his final file"
   ],
   "metadata": {
    "collapsed": false
   }
  },
  {
   "cell_type": "markdown",
   "source": [
    "# GLOBAL PROPERTIES AND RESOURCES DICTIONARIES DONE"
   ],
   "metadata": {
    "collapsed": false
   }
  },
  {
   "cell_type": "code",
   "execution_count": 743,
   "outputs": [],
   "source": [
    "# def add_resource(resource, global_resources_dictionary, local_resources_dictionary):\n",
    "#     if resource in global_resources_dictionary or resource in local_resources_dictionary:\n",
    "#         return\n",
    "#     else:\n",
    "#         local_resources_dictionary[resource] = len(local_resources_dictionary) + len(global_resources_dictionary)"
   ],
   "metadata": {
    "collapsed": false
   }
  },
  {
   "cell_type": "code",
   "execution_count": 744,
   "outputs": [],
   "source": [
    "# def lookup_resource(resource, global_resources_dictionary, local_resources_dictionary):\n",
    "#     if resource in global_resources_dictionary:\n",
    "#         return global_resources_dictionary[resource]\n",
    "#     elif resource in local_resources_dictionary:\n",
    "#         return local_resources_dictionary[resource]\n",
    "#     else:\n",
    "#         raise ValueError(f\"Resource not found in either global or local dictionaries: {resource}\")"
   ],
   "metadata": {
    "collapsed": false
   }
  },
  {
   "cell_type": "code",
   "execution_count": 745,
   "outputs": [],
   "source": [
    "# def encode(rdf_graph, global_resources_dictionary, local_resources_dictionary, properties_dictionary, is_inference):\n",
    "#     sorted_triples = sorted(rdf_graph, key=lambda triple: triple[1])  # Sort triples by property\n",
    "#\n",
    "#     # Calculate the maximum possible size of the local_resources_dictionary\n",
    "#     unique_subjects_objects = set()\n",
    "#     for s, p, o in rdf_graph:\n",
    "#         unique_subjects_objects.add(s)\n",
    "#         unique_subjects_objects.add(o)\n",
    "#     max_local_dictionary_size = len(unique_subjects_objects)\n",
    "#\n",
    "#     number_of_properties = len(properties_dictionary)\n",
    "#     max_size = len(global_resources_dictionary) + max_local_dictionary_size\n",
    "#     adjacency_matrix = np.zeros((number_of_properties, max_size, max_size))\n",
    "#     encoding = {}\n",
    "#     for s, p, o in sorted_triples:\n",
    "#         if p not in properties_dictionary:\n",
    "#             continue\n",
    "#         p_id = properties_dictionary[p]\n",
    "#         if not is_inference:\n",
    "#             add_resource(s, global_resources_dictionary, local_resources_dictionary)\n",
    "#             add_resource(o, global_resources_dictionary, local_resources_dictionary)\n",
    "#         s_id = lookup_resource(s, global_resources_dictionary, local_resources_dictionary)\n",
    "#         o_id = lookup_resource(o, global_resources_dictionary, local_resources_dictionary)\n",
    "#         adjacency_matrix[p_id, s_id, o_id] = 1\n",
    "#         if p_id not in encoding:\n",
    "#                 encoding[p_id] = []\n",
    "#         encoding[p_id].append((s_id, o_id))\n",
    "#\n",
    "#     return encoding, adjacency_matrix, local_resources_dictionary"
   ],
   "metadata": {
    "collapsed": false
   }
  },
  {
   "cell_type": "code",
   "execution_count": 746,
   "outputs": [],
   "source": [
    "# local_resources_dictionary = {}\n",
    "#\n",
    "# encoding, adjacency_matrix, local_resources_dictionary = encode(rdf_input_graph, global_resources_dictionary, local_resources_dictionary, properties_dictionary, is_inference=False)"
   ],
   "metadata": {
    "collapsed": false
   }
  },
  {
   "cell_type": "markdown",
   "source": [
    "# END OF \"SIMPLE\" ENCODING"
   ],
   "metadata": {
    "collapsed": false
   }
  },
  {
   "cell_type": "code",
   "execution_count": 747,
   "outputs": [],
   "source": [
    "import networkx as nx\n",
    "from rdflib.plugins.sparql import prepareQuery\n",
    "\n",
    "local_resources_dictionary = {}\n",
    "\n",
    "subproperty_query = prepareQuery(\"\"\"\n",
    "    PREFIX rdfs: <http://www.w3.org/2000/01/rdf-schema#>\n",
    "    SELECT ?property1 ?property2\n",
    "    WHERE {\n",
    "        ?property1 rdfs:subPropertyOf ?property2\n",
    "        FILTER(?property1 != ?property2)\n",
    "    }\n",
    "\"\"\")\n",
    "\n",
    "subproperty_graph = nx.Graph()\n",
    "\n",
    "for row in rdf_ontology.query(subproperty_query):\n",
    "    subproperty_graph.add_edge(row.property1, row.property2)"
   ],
   "metadata": {
    "collapsed": false
   }
  },
  {
   "cell_type": "code",
   "execution_count": 748,
   "outputs": [],
   "source": [
    "subgraphs = list(nx.connected_components(subproperty_graph))"
   ],
   "metadata": {
    "collapsed": false
   }
  },
  {
   "cell_type": "code",
   "execution_count": 749,
   "outputs": [],
   "source": [
    "properties_groups = {}\n",
    "\n",
    "for group_id, subgraph in enumerate(subgraphs):\n",
    "    for property in subgraph:\n",
    "        properties_groups[property] = group_id\n"
   ],
   "metadata": {
    "collapsed": false
   }
  },
  {
   "cell_type": "code",
   "execution_count": 750,
   "outputs": [],
   "source": [
    "# Find the maximum group_id used so far\n",
    "max_group_id = max(properties_groups.values()) if properties_groups else -1\n",
    "\n",
    "# Add the properties from properties_dictionary to the properties_groups\n",
    "for property in properties_dictionary:\n",
    "    if property not in properties_groups:\n",
    "        max_group_id += 1\n",
    "        properties_groups[property] = max_group_id"
   ],
   "metadata": {
    "collapsed": false
   }
  },
  {
   "cell_type": "markdown",
   "source": [
    "# PROPERTIES GROUPS DONE - START ENCODING"
   ],
   "metadata": {
    "collapsed": false
   }
  },
  {
   "cell_type": "code",
   "execution_count": 751,
   "outputs": [],
   "source": [
    "# GLOBAL PROPERTIES DICTIONARY - properties_dictionary - already exists\n",
    "global_properties_dictionary = properties_dictionary\n",
    "global_active_properties_dictionary = {}\n",
    "# GLOBAL RESOURCES DICTIONARY - global_resources_dictionary - already exists\n",
    "global_active_resources_dictionary = {}\n",
    "# GLOBAL PROPERTY GROUPS DICTIONARY  - properties_groups\n",
    "global_property_groups_dictionary = properties_groups # already exists\n",
    "# LOCAL RESOURCES DICTIONARY [graph name] -> (local props, local resources)\n",
    "local_resources_dictionary = {}"
   ],
   "metadata": {
    "collapsed": false
   }
  },
  {
   "cell_type": "code",
   "execution_count": 752,
   "outputs": [],
   "source": [
    "def add_resource(resource, property):\n",
    "    if property not in global_active_properties_dictionary:\n",
    "        global_active_properties_dictionary[property] = len(global_active_properties_dictionary) + 1\n",
    "    property_group = global_property_groups_dictionary[property]\n",
    "\n",
    "    if resource in global_resources_dictionary and resource not in global_active_resources_dictionary:\n",
    "        global_active_resources_dictionary[resource] = len(global_active_properties_dictionary)\n",
    "    else:\n",
    "        if property_group not in local_resources_dictionary:\n",
    "            local_resources_dictionary[property_group] = {}\n",
    "        if resource not in local_resources_dictionary[property_group]:\n",
    "            local_resources_dictionary[property_group][resource] = -(len(local_resources_dictionary[property_group]) + 1)"
   ],
   "metadata": {
    "collapsed": false
   }
  },
  {
   "cell_type": "code",
   "execution_count": 753,
   "outputs": [],
   "source": [
    "def lookup_resource(resource, property):\n",
    "    property_group = global_property_groups_dictionary[property]\n",
    "    if property_group in local_resources_dictionary and resource in local_resources_dictionary[property_group]:\n",
    "        return local_resources_dictionary[property_group][resource]\n",
    "    else:\n",
    "        if resource in global_active_resources_dictionary:\n",
    "            return global_active_resources_dictionary[resource]\n",
    "        else:\n",
    "            return None"
   ],
   "metadata": {
    "collapsed": false
   }
  },
  {
   "cell_type": "code",
   "execution_count": 754,
   "outputs": [],
   "source": [
    "def encode_advanced(rdf_graph):\n",
    "    # Get the unique properties from the graph\n",
    "    unique_properties = {p for s, p, o in rdf_graph}\n",
    "    # Filter the external_property_list to keep only the properties present in unique_properties\n",
    "    filtered_property_list = [property for property in global_properties_dictionary if URIRef(property) in unique_properties]\n",
    "    # Create a mapping for property IDs based on their position (rank) in the filtered list\n",
    "    property_id_map = {URIRef(property): index + 1 for index, property in enumerate(filtered_property_list)}\n",
    "    # Sort the triples based on subject, property, and object\n",
    "    sorted_triples = sorted(rdf_graph, key=lambda x: (property_id_map.get(x[1], float('inf')), x[0], x[2]))\n",
    "    ##is_inference = True\n",
    "\n",
    "    sparse_encoding = []\n",
    "    encoding = {}\n",
    "    print_counter = 0\n",
    "    for s, p, o in sorted_triples:\n",
    "        if p not in properties_dictionary:\n",
    "            continue\n",
    "        add_resource(s, p)\n",
    "        add_resource(o, p)\n",
    "        s_id = lookup_resource(s, p)\n",
    "        o_id = lookup_resource(o, p)\n",
    "        p_id = property_id_map[p]\n",
    "        sparse_encoding.append((p_id, s_id, o_id))\n",
    "        if p_id not in encoding:\n",
    "            encoding[p_id] = []\n",
    "        encoding[p_id].append((s_id, o_id))\n",
    "\n",
    "    return encoding"
   ],
   "metadata": {
    "collapsed": false
   }
  },
  {
   "cell_type": "code",
   "execution_count": 755,
   "outputs": [
    {
     "data": {
      "text/plain": "{1: [(-1, 1)],\n 2: [(-1, -2)],\n 3: [(-3, -2),\n  (-4, -2),\n  (-5, -2),\n  (-6, -2),\n  (-7, -2),\n  (-8, -2),\n  (-9, -2),\n  (-10, -2),\n  (-11, -2),\n  (-12, -2),\n  (-13, -2),\n  (-14, -2),\n  (-15, -2),\n  (-16, -2),\n  (-17, -2),\n  (-18, -2),\n  (-19, -2),\n  (-20, -2),\n  (-21, -2),\n  (-22, -2),\n  (-23, -2),\n  (-24, -2),\n  (-25, -2),\n  (-26, -2),\n  (-27, -2),\n  (-28, -2),\n  (-29, -2),\n  (-30, -2),\n  (-31, -2),\n  (-32, -2),\n  (-33, -2),\n  (-34, -2),\n  (-35, -2),\n  (-36, -2),\n  (-37, -2),\n  (-38, -2),\n  (-39, -2),\n  (-40, -2),\n  (-41, -2),\n  (-42, -2),\n  (-43, -2),\n  (-44, -2),\n  (-45, -2),\n  (-46, -2),\n  (-47, -2),\n  (-48, -2),\n  (-49, -2),\n  (-50, -2),\n  (-51, -2),\n  (-52, -2),\n  (-53, -2),\n  (-54, -2),\n  (-55, -2),\n  (-56, -2),\n  (-57, -2),\n  (-58, -2),\n  (-59, -2),\n  (-60, -2),\n  (-61, -2),\n  (-62, -2),\n  (-63, -2),\n  (-64, -2),\n  (-65, -2),\n  (-66, -2),\n  (-67, -2),\n  (-68, -2),\n  (-69, -2),\n  (-70, -2),\n  (-71, -2),\n  (-72, -2),\n  (-73, -2),\n  (-74, -2),\n  (-75, -2),\n  (-76, -2),\n  (-77, -2),\n  (-78, -2),\n  (-79, -2),\n  (-80, -2),\n  (-81, -2),\n  (-82, -2),\n  (-83, -2),\n  (-84, -2),\n  (-85, -2),\n  (-86, -2),\n  (-87, -2),\n  (-88, -2),\n  (-89, -2),\n  (-90, -2),\n  (-91, -2),\n  (-92, -2),\n  (-93, -2),\n  (-94, -2),\n  (-95, -2),\n  (-96, -2),\n  (-97, -2),\n  (-98, -2),\n  (-99, -2),\n  (-100, -2),\n  (-101, -2),\n  (-102, -2),\n  (-103, -2),\n  (-104, -2),\n  (-105, -2),\n  (-106, -2),\n  (-107, -2),\n  (-108, -2),\n  (-109, -2),\n  (-110, -2),\n  (-111, -2),\n  (-112, -2),\n  (-113, -2),\n  (-114, -2),\n  (-115, -2),\n  (-116, -2),\n  (-117, -2),\n  (-118, -2),\n  (-119, -2),\n  (-120, -2),\n  (-121, -2),\n  (-122, -2),\n  (-123, -2),\n  (-124, -2),\n  (-125, -2),\n  (-126, -2),\n  (-127, -2),\n  (-128, -2),\n  (-129, -2),\n  (-130, -2),\n  (-131, -2),\n  (-132, -2),\n  (-133, -2),\n  (-134, -2),\n  (-135, -2),\n  (-136, -2),\n  (-137, -2),\n  (-138, -2),\n  (-139, -2),\n  (-140, -2),\n  (-141, -2),\n  (-142, -2),\n  (-143, -2),\n  (-144, -2),\n  (-145, -2),\n  (-146, -2),\n  (-147, -2),\n  (-148, -2),\n  (-149, -2),\n  (-150, -2),\n  (-151, -2),\n  (-152, -2),\n  (-153, -2),\n  (-154, -2),\n  (-155, -2),\n  (-156, -2),\n  (-157, -2),\n  (-158, -2),\n  (-159, -2),\n  (-160, -2),\n  (-161, -2),\n  (-162, -2),\n  (-163, -2),\n  (-164, -2),\n  (-165, -2),\n  (-166, -2),\n  (-167, -2),\n  (-168, -2),\n  (-169, -2),\n  (-170, -2),\n  (-171, -2),\n  (-172, -2),\n  (-173, -2),\n  (-174, -2),\n  (-175, -2),\n  (-176, -2),\n  (-177, -2),\n  (-178, -2),\n  (-179, -2),\n  (-180, -2),\n  (-181, -2),\n  (-182, -2),\n  (-183, -2),\n  (-184, -2),\n  (-185, -2),\n  (-186, -2),\n  (-187, -2),\n  (-188, -2),\n  (-189, -2),\n  (-190, -2),\n  (-191, -2),\n  (-192, -2),\n  (-193, -2),\n  (-194, -2),\n  (-195, -2),\n  (-196, -2),\n  (-197, -2),\n  (-198, -2),\n  (-199, -2),\n  (-200, -2),\n  (-201, -2),\n  (-202, -2),\n  (-203, -2),\n  (-204, -2),\n  (-205, -2),\n  (-206, -2),\n  (-207, -2),\n  (-208, -2),\n  (-209, -2),\n  (-210, -2),\n  (-211, -2),\n  (-212, -2),\n  (-213, -2),\n  (-214, -2),\n  (-215, -2),\n  (-216, -2),\n  (-217, -2),\n  (-218, -2),\n  (-219, -2),\n  (-220, -2),\n  (-221, -2),\n  (-222, -2),\n  (-223, -2),\n  (-224, -2),\n  (-225, -2),\n  (-226, -2),\n  (-227, -2),\n  (-228, -2),\n  (-229, -2),\n  (-230, -2),\n  (-231, -2),\n  (-232, -2),\n  (-233, -2),\n  (-234, -2),\n  (-235, -2),\n  (-236, -2),\n  (-237, -2),\n  (-238, -2),\n  (-239, -2),\n  (-240, -2),\n  (-241, -2),\n  (-242, -2),\n  (-243, -2),\n  (-244, -2),\n  (-245, -2),\n  (-246, -2),\n  (-247, -2),\n  (-248, -2),\n  (-249, -2),\n  (-250, -2),\n  (-251, -2),\n  (-252, -2),\n  (-253, -2),\n  (-254, -2),\n  (-255, -2),\n  (-256, -2),\n  (-257, -2),\n  (-258, -2),\n  (-259, -2),\n  (-260, -2),\n  (-261, -2),\n  (-262, -2),\n  (-263, -2),\n  (-264, -2),\n  (-265, -2),\n  (-266, -2),\n  (-267, -2),\n  (-268, -2),\n  (-269, -2),\n  (-270, -2),\n  (-271, -2),\n  (-272, -2),\n  (-273, -2),\n  (-274, -2),\n  (-275, -2),\n  (-276, -2),\n  (-277, -2),\n  (-278, -2),\n  (-279, -2),\n  (-280, -2),\n  (-281, -2),\n  (-282, -2),\n  (-283, -2),\n  (-284, -2),\n  (-285, -2),\n  (-286, -2),\n  (-287, -2),\n  (-288, -2),\n  (-289, -2),\n  (-290, -2),\n  (-291, -2),\n  (-292, -2),\n  (-293, -2),\n  (-294, -2),\n  (-295, -2),\n  (-296, -2),\n  (-297, -2),\n  (-298, -2),\n  (-299, -2),\n  (-300, -2),\n  (-301, -2),\n  (-302, -2),\n  (-303, -2),\n  (-304, -2),\n  (-305, -2),\n  (-306, -2),\n  (-307, -2),\n  (-308, -2),\n  (-309, -2),\n  (-310, -2),\n  (-311, -2),\n  (-312, -2),\n  (-313, -2),\n  (-314, -2),\n  (-315, -2),\n  (-316, -2),\n  (-317, -2),\n  (-318, -2),\n  (-319, -2),\n  (-320, -2),\n  (-321, -2),\n  (-322, -2),\n  (-323, -2),\n  (-324, -2),\n  (-325, -2),\n  (-326, -2),\n  (-327, -2),\n  (-328, -2),\n  (-329, -2),\n  (-330, -2),\n  (-331, -2),\n  (-332, -2),\n  (-333, -2),\n  (-334, -2),\n  (-335, -2),\n  (-336, -2),\n  (-337, -2),\n  (-338, -2),\n  (-339, -2),\n  (-340, -2),\n  (-341, -2),\n  (-342, -2),\n  (-343, -2),\n  (-344, -2),\n  (-345, -2),\n  (-346, -2),\n  (-347, -2),\n  (-348, -2),\n  (-349, -2),\n  (-350, -2),\n  (-351, -2),\n  (-352, -2),\n  (-353, -2),\n  (-354, -2),\n  (-355, -2),\n  (-356, -2),\n  (-357, -2),\n  (-358, -2),\n  (-359, -2),\n  (-360, -2),\n  (-361, -2),\n  (-362, -2),\n  (-363, -2),\n  (-364, -2),\n  (-365, -2),\n  (-366, -2),\n  (-367, -2),\n  (-368, -2),\n  (-369, -2),\n  (-370, -2),\n  (-371, -2),\n  (-372, -2),\n  (-373, -2),\n  (-374, -2),\n  (-375, -2),\n  (-376, -2),\n  (-377, -2),\n  (-378, -2),\n  (-379, -2),\n  (-380, -2),\n  (-381, -2),\n  (-382, -2),\n  (-383, -2),\n  (-384, -2),\n  (-385, -2),\n  (-386, -2),\n  (-387, -2),\n  (-388, -2),\n  (-389, -2),\n  (-390, -2),\n  (-391, -2),\n  (-392, -2),\n  (-393, -2),\n  (-394, -2),\n  (-395, -2),\n  (-396, -2),\n  (-397, -2),\n  (-398, -2),\n  (-399, -2),\n  (-400, -2),\n  (-401, -2),\n  (-402, -2),\n  (-403, -2),\n  (-404, -2),\n  (-405, -2),\n  (-406, -2),\n  (-407, -2),\n  (-408, -2),\n  (-409, -2),\n  (-410, -2),\n  (-411, -2),\n  (-412, -2),\n  (-413, -2),\n  (-414, -2),\n  (-415, -2),\n  (-416, -2),\n  (-417, -2),\n  (-418, -2),\n  (-419, -2),\n  (-420, -2),\n  (-421, -2),\n  (-422, -2),\n  (-423, -2),\n  (-424, -2),\n  (-425, -2),\n  (-426, -2),\n  (-427, -2),\n  (-428, -2),\n  (-429, -2),\n  (-430, -2),\n  (-431, -2),\n  (-432, -2),\n  (-433, -2),\n  (-434, -2),\n  (-435, -2),\n  (-436, -2),\n  (-437, -2),\n  (-438, -2),\n  (-439, -2),\n  (-440, -2),\n  (-441, -2),\n  (-442, -2),\n  (-443, -2),\n  (-444, -2),\n  (-445, -2),\n  (-446, -2),\n  (-447, -2),\n  (-448, -2),\n  (-449, -2),\n  (-450, -2),\n  (-451, -2),\n  (-452, -2),\n  (-453, -2),\n  (-454, -2),\n  (-455, -2),\n  (-456, -2),\n  (-457, -2),\n  (-458, -2),\n  (-459, -2),\n  (-460, -2),\n  (-461, -2),\n  (-462, -2),\n  (-463, -2),\n  (-464, -2),\n  (-465, -2),\n  (-466, -2),\n  (-467, -2),\n  (-468, -2),\n  (-469, -2),\n  (-470, -2),\n  (-471, -2),\n  (-472, -2),\n  (-473, -2),\n  (-474, -2),\n  (-475, -2),\n  (-476, -2),\n  (-477, -2),\n  (-478, -2),\n  (-479, -2),\n  (-480, -2),\n  (-481, -2),\n  (-482, -2),\n  (-483, -2),\n  (-484, -2),\n  (-485, -2),\n  (-486, -2),\n  (-487, -2),\n  (-488, -2),\n  (-489, -2),\n  (-490, -2),\n  (-491, -2),\n  (-492, -2),\n  (-493, -2),\n  (-494, -2),\n  (-495, -2),\n  (-496, -2),\n  (-497, -2),\n  (-498, -2),\n  (-499, -2),\n  (-500, -2),\n  (-501, -2),\n  (-502, -2),\n  (-503, -2),\n  (-504, -2),\n  (-505, -2),\n  (-506, -2),\n  (-507, -2),\n  (-508, -2),\n  (-509, -2),\n  (-510, -2),\n  (-511, -2),\n  (-512, -2),\n  (-513, -2),\n  (-514, -2),\n  (-515, -2),\n  (-516, -2),\n  (-517, -2),\n  (-518, -2),\n  (-519, -2),\n  (-520, -2),\n  (-521, -2),\n  (-522, -2),\n  (-523, -2),\n  (-524, -2),\n  (-525, -2),\n  (-526, -2),\n  (-527, -2),\n  (-528, -2),\n  (-529, -2),\n  (-530, -2),\n  (-531, -2),\n  (-532, -2),\n  (-533, -2),\n  (-534, -2),\n  (-535, -2),\n  (-536, -2),\n  (-537, -2),\n  (-538, -2),\n  (-539, -2),\n  (-540, -2),\n  (-541, -2),\n  (-542, -2),\n  (-543, -2),\n  (-544, -2),\n  (-545, -2),\n  (-546, -2),\n  (-547, -2),\n  (-548, -2),\n  (-549, -2),\n  (-550, -2),\n  (-551, -2),\n  (-552, -2),\n  (-553, -2),\n  (-554, -2),\n  (-555, -2),\n  (-556, -2),\n  (-557, -2),\n  (-558, -2),\n  (-559, -2),\n  (-560, -2),\n  (-561, -2),\n  (-562, -2),\n  (-563, -2),\n  (-564, -2),\n  (-565, -2),\n  (-566, -2),\n  (-567, -2),\n  (-568, -2),\n  (-569, -2),\n  (-570, -2),\n  (-571, -2),\n  (-572, -2),\n  (-573, -2),\n  (-574, -2),\n  (-575, -2),\n  (-576, -2),\n  (-577, -2),\n  (-578, -2),\n  (-579, -2),\n  (-580, -2),\n  (-581, -2),\n  (-582, -2),\n  (-583, -2),\n  (-584, -2),\n  (-585, -2),\n  (-586, -2),\n  (-587, -2),\n  (-588, -2),\n  (-589, -2),\n  (-590, -2),\n  (-591, -2),\n  (-592, -2),\n  (-593, -2),\n  (-594, -2),\n  (-595, -2),\n  (-596, -2),\n  (-597, -2),\n  (-598, -2),\n  (-599, -2),\n  (-600, -2),\n  (-601, -2),\n  (-602, -2),\n  (-603, -2),\n  (-604, -2),\n  (-605, -2),\n  (-606, -2),\n  (-607, -2),\n  (-608, -2),\n  (-609, -2),\n  (-610, -2),\n  (-611, -2),\n  (-612, -2),\n  (-613, -2),\n  (-614, -2),\n  (-615, -2),\n  (-616, -2),\n  (-617, -2),\n  (-618, -2),\n  (-619, -2),\n  (-620, -2),\n  (-621, -2),\n  (-622, -2),\n  (-623, -2),\n  (-624, -2),\n  (-625, -2),\n  (-626, -2),\n  (-627, -2),\n  (-628, -2),\n  (-629, -2),\n  (-630, -2),\n  (-631, -2),\n  (-632, -2),\n  (-633, -2),\n  (-634, -2),\n  (-635, -2),\n  (-636, -2),\n  (-637, -2),\n  (-638, -2),\n  (-639, -2),\n  (-640, -2),\n  (-641, -2),\n  (-642, -2),\n  (-643, -2),\n  (-644, -2),\n  (-645, -2),\n  (-646, -2),\n  (-647, -2),\n  (-648, -2),\n  (-649, -2),\n  (-650, -2),\n  (-651, -2),\n  (-652, -2),\n  (-653, -2),\n  (-654, -2),\n  (-655, -2),\n  (-656, -2),\n  (-657, -2),\n  (-658, -2),\n  (-659, -2),\n  (-660, -2),\n  (-661, -2),\n  (-662, -2),\n  (-663, -2),\n  (-664, -2),\n  (-665, -2),\n  (-666, -2),\n  (-667, -2),\n  (-668, -2),\n  (-669, -2),\n  (-670, -2),\n  (-671, -2),\n  (-672, -2),\n  (-673, -2),\n  (-674, -2),\n  (-675, -2),\n  (-676, -2),\n  (-677, -2),\n  (-678, -2),\n  (-679, -2),\n  (-680, -2)],\n 4: [(-1, -2)],\n 5: [(-1, -2),\n  (-3, -1),\n  (-4, -1),\n  (-5, -1),\n  (-6, -1),\n  (-7, -1),\n  (-8, -1),\n  (-9, -1),\n  (-10, -1),\n  (-11, -1),\n  (-12, -1)],\n 6: [(-681, -2),\n  (-682, -2),\n  (-683, -2),\n  (-684, -2),\n  (-685, -2),\n  (-686, -2),\n  (-687, -2),\n  (-688, -2),\n  (-689, -2),\n  (-690, -2),\n  (-691, -2),\n  (-692, -2),\n  (-693, -2),\n  (-694, -2),\n  (-695, -2),\n  (-696, -2),\n  (-697, -2),\n  (-698, -2),\n  (-699, -2),\n  (-700, -2),\n  (-701, -2),\n  (-702, -2),\n  (-703, -2),\n  (-704, -2),\n  (-705, -2),\n  (-706, -2),\n  (-707, -2),\n  (-708, -2),\n  (-709, -2),\n  (-710, -2),\n  (-711, -2),\n  (-1, -2),\n  (-712, -2),\n  (-713, -2),\n  (-714, -2),\n  (-715, -2),\n  (-716, -2),\n  (-717, -2),\n  (-718, -2),\n  (-719, -2),\n  (-720, -2)]}"
     },
     "execution_count": 755,
     "metadata": {},
     "output_type": "execute_result"
    }
   ],
   "source": [
    "encode_advanced(rdf_input_graph)"
   ],
   "metadata": {
    "collapsed": false
   }
  },
  {
   "cell_type": "code",
   "execution_count": 704,
   "outputs": [
    {
     "data": {
      "text/plain": "{rdflib.term.URIRef('http://swat.cse.lehigh.edu/onto/univ-bench.owl#degreeFrom'): 0,\n rdflib.term.URIRef('http://swat.cse.lehigh.edu/onto/univ-bench.owl#undergraduateDegreeFrom'): 0,\n rdflib.term.URIRef('http://swat.cse.lehigh.edu/onto/univ-bench.owl#doctoralDegreeFrom'): 0,\n rdflib.term.URIRef('http://swat.cse.lehigh.edu/onto/univ-bench.owl#mastersDegreeFrom'): 0,\n rdflib.term.URIRef('http://swat.cse.lehigh.edu/onto/univ-bench.owl#headOf'): 1,\n rdflib.term.URIRef('http://swat.cse.lehigh.edu/onto/univ-bench.owl#memberOf'): 1,\n rdflib.term.URIRef('http://swat.cse.lehigh.edu/onto/univ-bench.owl#worksFor'): 1,\n rdflib.term.URIRef('http://www.w3.org/1999/02/22-rdf-syntax-ns#type'): 2,\n rdflib.term.URIRef('http://swat.cse.lehigh.edu/onto/univ-bench.owl#advisor'): 3,\n rdflib.term.URIRef('http://swat.cse.lehigh.edu/onto/univ-bench.owl#affiliateOf'): 4,\n rdflib.term.URIRef('http://swat.cse.lehigh.edu/onto/univ-bench.owl#affiliatedOrganizationOf'): 5,\n rdflib.term.URIRef('http://swat.cse.lehigh.edu/onto/univ-bench.owl#age'): 6,\n rdflib.term.URIRef('http://swat.cse.lehigh.edu/onto/univ-bench.owl#emailAddress'): 7,\n rdflib.term.URIRef('http://swat.cse.lehigh.edu/onto/univ-bench.owl#hasAlumnus'): 8,\n rdflib.term.URIRef('http://swat.cse.lehigh.edu/onto/univ-bench.owl#listedCourse'): 9,\n rdflib.term.URIRef('http://swat.cse.lehigh.edu/onto/univ-bench.owl#member'): 10,\n rdflib.term.URIRef('http://swat.cse.lehigh.edu/onto/univ-bench.owl#name'): 11,\n rdflib.term.URIRef('http://swat.cse.lehigh.edu/onto/univ-bench.owl#officeNumber'): 12,\n rdflib.term.URIRef('http://swat.cse.lehigh.edu/onto/univ-bench.owl#orgPublication'): 13,\n rdflib.term.URIRef('http://swat.cse.lehigh.edu/onto/univ-bench.owl#publicationAuthor'): 14,\n rdflib.term.URIRef('http://swat.cse.lehigh.edu/onto/univ-bench.owl#publicationDate'): 15,\n rdflib.term.URIRef('http://swat.cse.lehigh.edu/onto/univ-bench.owl#publicationResearch'): 16,\n rdflib.term.URIRef('http://swat.cse.lehigh.edu/onto/univ-bench.owl#researchInterest'): 17,\n rdflib.term.URIRef('http://swat.cse.lehigh.edu/onto/univ-bench.owl#researchProject'): 18,\n rdflib.term.URIRef('http://swat.cse.lehigh.edu/onto/univ-bench.owl#softwareDocumentation'): 19,\n rdflib.term.URIRef('http://swat.cse.lehigh.edu/onto/univ-bench.owl#softwareVersion'): 20,\n rdflib.term.URIRef('http://swat.cse.lehigh.edu/onto/univ-bench.owl#subOrganizationOf'): 21,\n rdflib.term.URIRef('http://swat.cse.lehigh.edu/onto/univ-bench.owl#takesCourse'): 22,\n rdflib.term.URIRef('http://swat.cse.lehigh.edu/onto/univ-bench.owl#teacherOf'): 23,\n rdflib.term.URIRef('http://swat.cse.lehigh.edu/onto/univ-bench.owl#teachingAssistantOf'): 24,\n rdflib.term.URIRef('http://swat.cse.lehigh.edu/onto/univ-bench.owl#telephone'): 25,\n rdflib.term.URIRef('http://swat.cse.lehigh.edu/onto/univ-bench.owl#tenured'): 26,\n rdflib.term.URIRef('http://swat.cse.lehigh.edu/onto/univ-bench.owl#title'): 27}"
     },
     "execution_count": 704,
     "metadata": {},
     "output_type": "execute_result"
    }
   ],
   "source": [
    "properties_groups"
   ],
   "metadata": {
    "collapsed": false
   }
  },
  {
   "cell_type": "code",
   "execution_count": 602,
   "outputs": [],
   "source": [
    "# Get the unique properties from the graph\n",
    "unique_properties = {p for s, p, o in rdf_input_graph}\n",
    "# Filter the external_property_list to keep only the properties present in unique_properties\n",
    "filtered_property_list = [property for property in global_properties_dictionary if URIRef(property) in unique_properties]\n",
    "# Create a mapping for property IDs based on their position (rank) in the filtered list\n",
    "property_id_map = {URIRef(property): index + 1 for index, property in enumerate(filtered_property_list)}\n",
    "# Sort the triples based on subject, property, and object\n",
    "sorted_triples = sorted(rdf_input_graph, key=lambda x: (property_id_map.get(x[1], float('inf')), x[0], x[2]))"
   ],
   "metadata": {
    "collapsed": false
   }
  },
  {
   "cell_type": "code",
   "execution_count": 705,
   "outputs": [
    {
     "data": {
      "text/plain": "{rdflib.term.URIRef('http://www.w3.org/1999/02/22-rdf-syntax-ns#type'): 1,\n rdflib.term.URIRef('http://swat.cse.lehigh.edu/onto/univ-bench.owl#advisor'): 2,\n rdflib.term.URIRef('http://swat.cse.lehigh.edu/onto/univ-bench.owl#affiliateOf'): 3,\n rdflib.term.URIRef('http://swat.cse.lehigh.edu/onto/univ-bench.owl#affiliatedOrganizationOf'): 4,\n rdflib.term.URIRef('http://swat.cse.lehigh.edu/onto/univ-bench.owl#age'): 5,\n rdflib.term.URIRef('http://swat.cse.lehigh.edu/onto/univ-bench.owl#degreeFrom'): 6,\n rdflib.term.URIRef('http://swat.cse.lehigh.edu/onto/univ-bench.owl#doctoralDegreeFrom'): 7,\n rdflib.term.URIRef('http://swat.cse.lehigh.edu/onto/univ-bench.owl#emailAddress'): 8,\n rdflib.term.URIRef('http://swat.cse.lehigh.edu/onto/univ-bench.owl#hasAlumnus'): 9,\n rdflib.term.URIRef('http://swat.cse.lehigh.edu/onto/univ-bench.owl#headOf'): 10,\n rdflib.term.URIRef('http://swat.cse.lehigh.edu/onto/univ-bench.owl#listedCourse'): 11,\n rdflib.term.URIRef('http://swat.cse.lehigh.edu/onto/univ-bench.owl#mastersDegreeFrom'): 12,\n rdflib.term.URIRef('http://swat.cse.lehigh.edu/onto/univ-bench.owl#member'): 13,\n rdflib.term.URIRef('http://swat.cse.lehigh.edu/onto/univ-bench.owl#memberOf'): 14,\n rdflib.term.URIRef('http://swat.cse.lehigh.edu/onto/univ-bench.owl#name'): 15,\n rdflib.term.URIRef('http://swat.cse.lehigh.edu/onto/univ-bench.owl#officeNumber'): 16,\n rdflib.term.URIRef('http://swat.cse.lehigh.edu/onto/univ-bench.owl#orgPublication'): 17,\n rdflib.term.URIRef('http://swat.cse.lehigh.edu/onto/univ-bench.owl#publicationAuthor'): 18,\n rdflib.term.URIRef('http://swat.cse.lehigh.edu/onto/univ-bench.owl#publicationDate'): 19,\n rdflib.term.URIRef('http://swat.cse.lehigh.edu/onto/univ-bench.owl#publicationResearch'): 20,\n rdflib.term.URIRef('http://swat.cse.lehigh.edu/onto/univ-bench.owl#researchInterest'): 21,\n rdflib.term.URIRef('http://swat.cse.lehigh.edu/onto/univ-bench.owl#researchProject'): 22,\n rdflib.term.URIRef('http://swat.cse.lehigh.edu/onto/univ-bench.owl#softwareDocumentation'): 23,\n rdflib.term.URIRef('http://swat.cse.lehigh.edu/onto/univ-bench.owl#softwareVersion'): 24,\n rdflib.term.URIRef('http://swat.cse.lehigh.edu/onto/univ-bench.owl#subOrganizationOf'): 25,\n rdflib.term.URIRef('http://swat.cse.lehigh.edu/onto/univ-bench.owl#takesCourse'): 26,\n rdflib.term.URIRef('http://swat.cse.lehigh.edu/onto/univ-bench.owl#teacherOf'): 27,\n rdflib.term.URIRef('http://swat.cse.lehigh.edu/onto/univ-bench.owl#teachingAssistantOf'): 28,\n rdflib.term.URIRef('http://swat.cse.lehigh.edu/onto/univ-bench.owl#telephone'): 29,\n rdflib.term.URIRef('http://swat.cse.lehigh.edu/onto/univ-bench.owl#tenured'): 30,\n rdflib.term.URIRef('http://swat.cse.lehigh.edu/onto/univ-bench.owl#title'): 31,\n rdflib.term.URIRef('http://swat.cse.lehigh.edu/onto/univ-bench.owl#undergraduateDegreeFrom'): 32,\n rdflib.term.URIRef('http://swat.cse.lehigh.edu/onto/univ-bench.owl#worksFor'): 33}"
     },
     "execution_count": 705,
     "metadata": {},
     "output_type": "execute_result"
    }
   ],
   "source": [
    "global_properties_dictionary"
   ],
   "metadata": {
    "collapsed": false
   }
  },
  {
   "cell_type": "code",
   "execution_count": 608,
   "outputs": [
    {
     "data": {
      "text/plain": "[rdflib.term.URIRef('http://www.w3.org/1999/02/22-rdf-syntax-ns#type'),\n rdflib.term.URIRef('http://swat.cse.lehigh.edu/onto/univ-bench.owl#headOf'),\n rdflib.term.URIRef('http://swat.cse.lehigh.edu/onto/univ-bench.owl#memberOf'),\n rdflib.term.URIRef('http://swat.cse.lehigh.edu/onto/univ-bench.owl#worksFor'),\n rdflib.term.URIRef('http://swat.cse.lehigh.edu/onto/univ-bench.owl#name'),\n rdflib.term.URIRef('http://swat.cse.lehigh.edu/onto/univ-bench.owl#subOrganizationOf')]"
     },
     "execution_count": 608,
     "metadata": {},
     "output_type": "execute_result"
    }
   ],
   "source": [
    "filtered_property_list"
   ],
   "metadata": {
    "collapsed": false
   }
  },
  {
   "cell_type": "code",
   "execution_count": null,
   "outputs": [],
   "source": [],
   "metadata": {
    "collapsed": false
   }
  }
 ],
 "metadata": {
  "kernelspec": {
   "display_name": "Python 3",
   "language": "python",
   "name": "python3"
  },
  "language_info": {
   "codemirror_mode": {
    "name": "ipython",
    "version": 2
   },
   "file_extension": ".py",
   "mimetype": "text/x-python",
   "name": "python",
   "nbconvert_exporter": "python",
   "pygments_lexer": "ipython2",
   "version": "2.7.6"
  }
 },
 "nbformat": 4,
 "nbformat_minor": 0
}
