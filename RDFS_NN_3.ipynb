{
 "cells": [
  {
   "cell_type": "markdown",
   "source": [
    "# Load TBOX and prepare for encoding"
   ],
   "metadata": {
    "collapsed": false
   }
  },
  {
   "cell_type": "code",
   "execution_count": 1,
   "outputs": [],
   "source": [
    "import pandas as pd\n",
    "import numpy as np"
   ],
   "metadata": {
    "collapsed": false
   }
  },
  {
   "cell_type": "code",
   "execution_count": 5,
   "outputs": [
    {
     "data": {
      "text/plain": "(292, 3)"
     },
     "execution_count": 5,
     "metadata": {},
     "output_type": "execute_result"
    }
   ],
   "source": [
    "tbox_file = \"data/updated/tbox.nt\"\n",
    "col_names=[\"subject\", \"predicate\", \"object\"]\n",
    "#df2 = pd.read_csv(tbox_file, delimiter=' ', names=col_names)\n",
    "df_tbox = pd.read_csv(tbox_file, delimiter = ' ')\n",
    "#df2['object'] = df2['object'].apply(lambda x: x.rstrip('.'))\n",
    "df_tbox = df_tbox.drop(df_tbox.columns[3], axis = 1)\n",
    "df_tbox.columns = col_names\n",
    "df_tbox.shape"
   ],
   "metadata": {
    "collapsed": false
   }
  },
  {
   "cell_type": "code",
   "execution_count": 23,
   "outputs": [
    {
     "data": {
      "text/plain": "                                             subject  \\\n0  <http://www.lehigh.edu/~zhp2/2004/0401/univ-be...   \n1  <http://www.lehigh.edu/~zhp2/2004/0401/univ-be...   \n2  <http://www.lehigh.edu/~zhp2/2004/0401/univ-be...   \n3  <http://www.lehigh.edu/~zhp2/2004/0401/univ-be...   \n4  <http://www.lehigh.edu/~zhp2/2004/0401/univ-be...   \n\n                                           predicate  \\\n0     <http://www.w3.org/2000/01/rdf-schema#comment>   \n1       <http://www.w3.org/2000/01/rdf-schema#label>   \n2        <http://www.w3.org/2002/07/owl#versionInfo>   \n3  <http://www.w3.org/1999/02/22-rdf-syntax-ns#type>   \n4       <http://www.w3.org/2000/01/rdf-schema#label>   \n\n                                       object  \n0  An university ontology for benchmark tests  \n1                         Univ-bench Ontology  \n2  univ-bench-ontology-owl, ver April 1, 2004  \n3       <http://www.w3.org/2002/07/owl#Class>  \n4                 administrative staff worker  ",
      "text/html": "<div>\n<style scoped>\n    .dataframe tbody tr th:only-of-type {\n        vertical-align: middle;\n    }\n\n    .dataframe tbody tr th {\n        vertical-align: top;\n    }\n\n    .dataframe thead th {\n        text-align: right;\n    }\n</style>\n<table border=\"1\" class=\"dataframe\">\n  <thead>\n    <tr style=\"text-align: right;\">\n      <th></th>\n      <th>subject</th>\n      <th>predicate</th>\n      <th>object</th>\n    </tr>\n  </thead>\n  <tbody>\n    <tr>\n      <th>0</th>\n      <td>&lt;http://www.lehigh.edu/~zhp2/2004/0401/univ-be...</td>\n      <td>&lt;http://www.w3.org/2000/01/rdf-schema#comment&gt;</td>\n      <td>An university ontology for benchmark tests</td>\n    </tr>\n    <tr>\n      <th>1</th>\n      <td>&lt;http://www.lehigh.edu/~zhp2/2004/0401/univ-be...</td>\n      <td>&lt;http://www.w3.org/2000/01/rdf-schema#label&gt;</td>\n      <td>Univ-bench Ontology</td>\n    </tr>\n    <tr>\n      <th>2</th>\n      <td>&lt;http://www.lehigh.edu/~zhp2/2004/0401/univ-be...</td>\n      <td>&lt;http://www.w3.org/2002/07/owl#versionInfo&gt;</td>\n      <td>univ-bench-ontology-owl, ver April 1, 2004</td>\n    </tr>\n    <tr>\n      <th>3</th>\n      <td>&lt;http://www.lehigh.edu/~zhp2/2004/0401/univ-be...</td>\n      <td>&lt;http://www.w3.org/1999/02/22-rdf-syntax-ns#type&gt;</td>\n      <td>&lt;http://www.w3.org/2002/07/owl#Class&gt;</td>\n    </tr>\n    <tr>\n      <th>4</th>\n      <td>&lt;http://www.lehigh.edu/~zhp2/2004/0401/univ-be...</td>\n      <td>&lt;http://www.w3.org/2000/01/rdf-schema#label&gt;</td>\n      <td>administrative staff worker</td>\n    </tr>\n  </tbody>\n</table>\n</div>"
     },
     "execution_count": 23,
     "metadata": {},
     "output_type": "execute_result"
    }
   ],
   "source": [
    "df_tbox.head(5)"
   ],
   "metadata": {
    "collapsed": false
   }
  },
  {
   "cell_type": "markdown",
   "source": [
    "## Data loaded, separating \"Properties\", \"Classes\" and \"Subproperties (Property groups\""
   ],
   "metadata": {
    "collapsed": false
   }
  },
  {
   "cell_type": "code",
   "execution_count": 32,
   "outputs": [
    {
     "data": {
      "text/plain": "array(['<http://www.w3.org/2002/07/owl#Class>',\n       '<http://www.w3.org/2002/07/owl#Restriction>',\n       '<http://www.w3.org/2002/07/owl#ObjectProperty>',\n       '<http://www.w3.org/2002/07/owl#DatatypeProperty>',\n       '<http://www.w3.org/2002/07/owl#TransitiveProperty>'], dtype=object)"
     },
     "execution_count": 32,
     "metadata": {},
     "output_type": "execute_result"
    }
   ],
   "source": [
    "df_tbox_types = df_tbox[df_tbox.predicate.str.contains('#type')]\n",
    "df_tbox_types.object.unique()"
   ],
   "metadata": {
    "collapsed": false
   }
  },
  {
   "cell_type": "code",
   "execution_count": 33,
   "outputs": [
    {
     "data": {
      "text/plain": "array(['<http://www.lehigh.edu/~zhp2/2004/0401/univ-bench.owl#AdministrativeStaff>',\n       '<http://www.lehigh.edu/~zhp2/2004/0401/univ-bench.owl#Article>',\n       '<http://www.lehigh.edu/~zhp2/2004/0401/univ-bench.owl#AssistantProfessor>',\n       '<http://www.lehigh.edu/~zhp2/2004/0401/univ-bench.owl#AssociateProfessor>',\n       '<http://www.lehigh.edu/~zhp2/2004/0401/univ-bench.owl#Book>',\n       '<http://www.lehigh.edu/~zhp2/2004/0401/univ-bench.owl#Chair>',\n       '<http://www.lehigh.edu/~zhp2/2004/0401/univ-bench.owl#Person>',\n       '<http://www.lehigh.edu/~zhp2/2004/0401/univ-bench.owl#Department>',\n       '<http://www.lehigh.edu/~zhp2/2004/0401/univ-bench.owl#ClericalStaff>',\n       '<http://www.lehigh.edu/~zhp2/2004/0401/univ-bench.owl#College>',\n       '<http://www.lehigh.edu/~zhp2/2004/0401/univ-bench.owl#ConferencePaper>',\n       '<http://www.lehigh.edu/~zhp2/2004/0401/univ-bench.owl#Course>',\n       '<http://www.lehigh.edu/~zhp2/2004/0401/univ-bench.owl#Dean>',\n       '<http://www.lehigh.edu/~zhp2/2004/0401/univ-bench.owl#Director>',\n       '<http://www.lehigh.edu/~zhp2/2004/0401/univ-bench.owl#Program>',\n       '<http://www.lehigh.edu/~zhp2/2004/0401/univ-bench.owl#Employee>',\n       '<http://www.lehigh.edu/~zhp2/2004/0401/univ-bench.owl#Organization>',\n       '<http://www.lehigh.edu/~zhp2/2004/0401/univ-bench.owl#Faculty>',\n       '<http://www.lehigh.edu/~zhp2/2004/0401/univ-bench.owl#FullProfessor>',\n       '<http://www.lehigh.edu/~zhp2/2004/0401/univ-bench.owl#GraduateCourse>',\n       '<http://www.lehigh.edu/~zhp2/2004/0401/univ-bench.owl#GraduateStudent>',\n       '<http://www.lehigh.edu/~zhp2/2004/0401/univ-bench.owl#Institute>',\n       '<http://www.lehigh.edu/~zhp2/2004/0401/univ-bench.owl#JournalArticle>',\n       '<http://www.lehigh.edu/~zhp2/2004/0401/univ-bench.owl#Lecturer>',\n       '<http://www.lehigh.edu/~zhp2/2004/0401/univ-bench.owl#Manual>',\n       '<http://www.lehigh.edu/~zhp2/2004/0401/univ-bench.owl#PostDoc>',\n       '<http://www.lehigh.edu/~zhp2/2004/0401/univ-bench.owl#Professor>',\n       '<http://www.lehigh.edu/~zhp2/2004/0401/univ-bench.owl#Publication>',\n       '<http://www.lehigh.edu/~zhp2/2004/0401/univ-bench.owl#Research>',\n       '<http://www.lehigh.edu/~zhp2/2004/0401/univ-bench.owl#ResearchAssistant>',\n       '<http://www.lehigh.edu/~zhp2/2004/0401/univ-bench.owl#ResearchGroup>',\n       '<http://www.lehigh.edu/~zhp2/2004/0401/univ-bench.owl#Schedule>',\n       '<http://www.lehigh.edu/~zhp2/2004/0401/univ-bench.owl#Software>',\n       '<http://www.lehigh.edu/~zhp2/2004/0401/univ-bench.owl#Specification>',\n       '<http://www.lehigh.edu/~zhp2/2004/0401/univ-bench.owl#Student>',\n       '<http://www.lehigh.edu/~zhp2/2004/0401/univ-bench.owl#SystemsStaff>',\n       '<http://www.lehigh.edu/~zhp2/2004/0401/univ-bench.owl#TeachingAssistant>',\n       '<http://www.lehigh.edu/~zhp2/2004/0401/univ-bench.owl#TechnicalReport>',\n       '<http://www.lehigh.edu/~zhp2/2004/0401/univ-bench.owl#UndergraduateStudent>',\n       '<http://www.lehigh.edu/~zhp2/2004/0401/univ-bench.owl#University>',\n       '<http://www.lehigh.edu/~zhp2/2004/0401/univ-bench.owl#UnofficialPublication>',\n       '<http://www.lehigh.edu/~zhp2/2004/0401/univ-bench.owl#VisitingProfessor>',\n       '<http://www.lehigh.edu/~zhp2/2004/0401/univ-bench.owl#Work>'],\n      dtype=object)"
     },
     "execution_count": 33,
     "metadata": {},
     "output_type": "execute_result"
    }
   ],
   "source": [
    "df_tbox_classes = df_tbox[df_tbox.object.str.contains('#Class')].subject.unique()\n",
    "df_tbox_classes"
   ],
   "metadata": {
    "collapsed": false
   }
  },
  {
   "cell_type": "code",
   "execution_count": 164,
   "outputs": [
    {
     "data": {
      "text/plain": "177    <http://www.lehigh.edu/~zhp2/2004/0401/univ-be...\n181    <http://www.lehigh.edu/~zhp2/2004/0401/univ-be...\n185    <http://www.lehigh.edu/~zhp2/2004/0401/univ-be...\n189    <http://www.lehigh.edu/~zhp2/2004/0401/univ-be...\n192    <http://www.lehigh.edu/~zhp2/2004/0401/univ-be...\n197    <http://www.lehigh.edu/~zhp2/2004/0401/univ-be...\n202    <http://www.lehigh.edu/~zhp2/2004/0401/univ-be...\n205    <http://www.lehigh.edu/~zhp2/2004/0401/univ-be...\n210    <http://www.lehigh.edu/~zhp2/2004/0401/univ-be...\n213    <http://www.lehigh.edu/~zhp2/2004/0401/univ-be...\n217    <http://www.lehigh.edu/~zhp2/2004/0401/univ-be...\n222    <http://www.lehigh.edu/~zhp2/2004/0401/univ-be...\n226    <http://www.lehigh.edu/~zhp2/2004/0401/univ-be...\n229    <http://www.lehigh.edu/~zhp2/2004/0401/univ-be...\n231    <http://www.lehigh.edu/~zhp2/2004/0401/univ-be...\n233    <http://www.lehigh.edu/~zhp2/2004/0401/univ-be...\n237    <http://www.lehigh.edu/~zhp2/2004/0401/univ-be...\n241    <http://www.lehigh.edu/~zhp2/2004/0401/univ-be...\n244    <http://www.lehigh.edu/~zhp2/2004/0401/univ-be...\n248    <http://www.lehigh.edu/~zhp2/2004/0401/univ-be...\n250    <http://www.lehigh.edu/~zhp2/2004/0401/univ-be...\n254    <http://www.lehigh.edu/~zhp2/2004/0401/univ-be...\n258    <http://www.lehigh.edu/~zhp2/2004/0401/univ-be...\n261    <http://www.lehigh.edu/~zhp2/2004/0401/univ-be...\n265    <http://www.lehigh.edu/~zhp2/2004/0401/univ-be...\n267    <http://www.lehigh.edu/~zhp2/2004/0401/univ-be...\n271    <http://www.lehigh.edu/~zhp2/2004/0401/univ-be...\n275    <http://www.lehigh.edu/~zhp2/2004/0401/univ-be...\n278    <http://www.lehigh.edu/~zhp2/2004/0401/univ-be...\n281    <http://www.lehigh.edu/~zhp2/2004/0401/univ-be...\n284    <http://www.lehigh.edu/~zhp2/2004/0401/univ-be...\n289    <http://www.lehigh.edu/~zhp2/2004/0401/univ-be...\nName: subject, dtype: object"
     },
     "execution_count": 164,
     "metadata": {},
     "output_type": "execute_result"
    }
   ],
   "source": [
    "df_tbox_properties = df_tbox_types[df_tbox_types.object.str.contains(\"Property\")].subject\n",
    "df_tbox_properties"
   ],
   "metadata": {
    "collapsed": false
   }
  },
  {
   "cell_type": "code",
   "execution_count": 165,
   "outputs": [],
   "source": [
    "df_tbox_subProperties = df_tbox[df_tbox.predicate.str.contains(\"subPropertyOf\")].subject\n",
    "df_tbox_subProperties2 = df_tbox[df_tbox.predicate.str.contains(\"subPropertyOf\")].object"
   ],
   "metadata": {
    "collapsed": false
   }
  },
  {
   "cell_type": "code",
   "execution_count": 166,
   "outputs": [],
   "source": [
    "#df_tbox_subProperties = np.ndarray.tolist(df_tbox_subProperties.append(df_tbox_subProperties2).unique())\n",
    "df_tbox_subProperties = df_tbox_subProperties.append(df_tbox_subProperties2).unique()"
   ],
   "metadata": {
    "collapsed": false
   }
  },
  {
   "cell_type": "code",
   "execution_count": 167,
   "outputs": [],
   "source": [
    "df_subproperty_uris = df_tbox[df_tbox['object'].isin(df_tbox_subProperties)].object.unique()\n",
    "df_subproperty_uris2 = df_tbox[df_tbox['subject'].isin(df_tbox_subProperties)].subject.unique()"
   ],
   "metadata": {
    "collapsed": false
   }
  },
  {
   "cell_type": "code",
   "execution_count": 168,
   "outputs": [],
   "source": [
    "#df_subproperty_uris\n",
    "df_subproperty_uris_list = df_subproperty_uris.tolist()"
   ],
   "metadata": {
    "collapsed": false
   }
  },
  {
   "cell_type": "code",
   "execution_count": 169,
   "outputs": [],
   "source": [
    "#df_subproperty_uris2\n",
    "df_subproperty_uris2_list = df_subproperty_uris2.tolist()"
   ],
   "metadata": {
    "collapsed": false
   }
  },
  {
   "cell_type": "code",
   "execution_count": 179,
   "outputs": [],
   "source": [
    "subproperty_uris = np.append(df_subproperty_uris, df_subproperty_uris2)"
   ],
   "metadata": {
    "collapsed": false
   }
  },
  {
   "cell_type": "code",
   "execution_count": 180,
   "outputs": [
    {
     "data": {
      "text/plain": "array(['<http://www.lehigh.edu/~zhp2/2004/0401/univ-bench.owl#headOf>',\n       '<http://www.lehigh.edu/~zhp2/2004/0401/univ-bench.owl#worksFor>',\n       '<http://www.lehigh.edu/~zhp2/2004/0401/univ-bench.owl#degreeFrom>',\n       '<http://www.lehigh.edu/~zhp2/2004/0401/univ-bench.owl#memberOf>',\n       '<http://www.lehigh.edu/~zhp2/2004/0401/univ-bench.owl#degreeFrom>',\n       '<http://www.lehigh.edu/~zhp2/2004/0401/univ-bench.owl#doctoralDegreeFrom>',\n       '<http://www.lehigh.edu/~zhp2/2004/0401/univ-bench.owl#headOf>',\n       '<http://www.lehigh.edu/~zhp2/2004/0401/univ-bench.owl#mastersDegreeFrom>',\n       '<http://www.lehigh.edu/~zhp2/2004/0401/univ-bench.owl#memberOf>',\n       '<http://www.lehigh.edu/~zhp2/2004/0401/univ-bench.owl#undergraduateDegreeFrom>',\n       '<http://www.lehigh.edu/~zhp2/2004/0401/univ-bench.owl#worksFor>',\n       '<http://www.lehigh.edu/~zhp2/2004/0401/univ-bench.owl#degreeFrom>',\n       '<http://www.lehigh.edu/~zhp2/2004/0401/univ-bench.owl#doctoralDegreeFrom>',\n       '<http://www.lehigh.edu/~zhp2/2004/0401/univ-bench.owl#headOf>',\n       '<http://www.lehigh.edu/~zhp2/2004/0401/univ-bench.owl#mastersDegreeFrom>',\n       '<http://www.lehigh.edu/~zhp2/2004/0401/univ-bench.owl#memberOf>',\n       '<http://www.lehigh.edu/~zhp2/2004/0401/univ-bench.owl#undergraduateDegreeFrom>',\n       '<http://www.lehigh.edu/~zhp2/2004/0401/univ-bench.owl#worksFor>'],\n      dtype=object)"
     },
     "execution_count": 180,
     "metadata": {},
     "output_type": "execute_result"
    }
   ],
   "source": [
    "subproperty_uris"
   ],
   "metadata": {
    "collapsed": false
   }
  },
  {
   "cell_type": "code",
   "execution_count": 181,
   "outputs": [],
   "source": [
    "import networkx as nx"
   ],
   "metadata": {
    "collapsed": false
   }
  },
  {
   "cell_type": "code",
   "execution_count": 182,
   "outputs": [],
   "source": [
    "G = nx.Graph()"
   ],
   "metadata": {
    "collapsed": false
   }
  },
  {
   "cell_type": "code",
   "execution_count": 183,
   "outputs": [],
   "source": [
    "df_tbox_subproperties = df_tbox[(df_tbox['subject'].isin(subproperty_uris)) & (df_tbox['object'].isin(subproperty_uris))]"
   ],
   "metadata": {
    "collapsed": false
   }
  },
  {
   "cell_type": "code",
   "execution_count": 184,
   "outputs": [],
   "source": [
    "G = nx.from_pandas_edgelist(df_tbox_subproperties, source='subject', target='object', create_using=nx.Graph())\n"
   ],
   "metadata": {
    "collapsed": false
   }
  },
  {
   "cell_type": "code",
   "execution_count": 185,
   "outputs": [],
   "source": [
    "property_uris = df_tbox_properties.unique()"
   ],
   "metadata": {
    "collapsed": false
   }
  },
  {
   "cell_type": "code",
   "execution_count": 186,
   "outputs": [],
   "source": [
    "G.add_nodes_from(property_uris)"
   ],
   "metadata": {
    "collapsed": false
   }
  },
  {
   "cell_type": "code",
   "execution_count": 187,
   "outputs": [],
   "source": [
    "properties_connected_components = {}\n",
    "index = 0\n",
    "for c in nx.connected_components(G):\n",
    "    for p in c:\n",
    "        properties_connected_components[p] = index\n",
    "    index += 1"
   ],
   "metadata": {
    "collapsed": false
   }
  },
  {
   "cell_type": "code",
   "execution_count": 194,
   "outputs": [
    {
     "data": {
      "text/plain": "{'<http://www.lehigh.edu/~zhp2/2004/0401/univ-bench.owl#degreeFrom>': 0,\n '<http://www.lehigh.edu/~zhp2/2004/0401/univ-bench.owl#undergraduateDegreeFrom>': 0,\n '<http://www.lehigh.edu/~zhp2/2004/0401/univ-bench.owl#mastersDegreeFrom>': 0,\n '<http://www.lehigh.edu/~zhp2/2004/0401/univ-bench.owl#doctoralDegreeFrom>': 0,\n '<http://www.lehigh.edu/~zhp2/2004/0401/univ-bench.owl#headOf>': 1,\n '<http://www.lehigh.edu/~zhp2/2004/0401/univ-bench.owl#memberOf>': 1,\n '<http://www.lehigh.edu/~zhp2/2004/0401/univ-bench.owl#worksFor>': 1,\n '<http://www.lehigh.edu/~zhp2/2004/0401/univ-bench.owl#advisor>': 2,\n '<http://www.lehigh.edu/~zhp2/2004/0401/univ-bench.owl#affiliatedOrganizationOf>': 3,\n '<http://www.lehigh.edu/~zhp2/2004/0401/univ-bench.owl#affiliateOf>': 4,\n '<http://www.lehigh.edu/~zhp2/2004/0401/univ-bench.owl#age>': 5,\n '<http://www.lehigh.edu/~zhp2/2004/0401/univ-bench.owl#emailAddress>': 6,\n '<http://www.lehigh.edu/~zhp2/2004/0401/univ-bench.owl#hasAlumnus>': 7,\n '<http://www.lehigh.edu/~zhp2/2004/0401/univ-bench.owl#listedCourse>': 8,\n '<http://www.lehigh.edu/~zhp2/2004/0401/univ-bench.owl#member>': 9,\n '<http://www.lehigh.edu/~zhp2/2004/0401/univ-bench.owl#name>': 10,\n '<http://www.lehigh.edu/~zhp2/2004/0401/univ-bench.owl#officeNumber>': 11,\n '<http://www.lehigh.edu/~zhp2/2004/0401/univ-bench.owl#orgPublication>': 12,\n '<http://www.lehigh.edu/~zhp2/2004/0401/univ-bench.owl#publicationAuthor>': 13,\n '<http://www.lehigh.edu/~zhp2/2004/0401/univ-bench.owl#publicationDate>': 14,\n '<http://www.lehigh.edu/~zhp2/2004/0401/univ-bench.owl#publicationResearch>': 15,\n '<http://www.lehigh.edu/~zhp2/2004/0401/univ-bench.owl#researchInterest>': 16,\n '<http://www.lehigh.edu/~zhp2/2004/0401/univ-bench.owl#researchProject>': 17,\n '<http://www.lehigh.edu/~zhp2/2004/0401/univ-bench.owl#softwareDocumentation>': 18,\n '<http://www.lehigh.edu/~zhp2/2004/0401/univ-bench.owl#softwareVersion>': 19,\n '<http://www.lehigh.edu/~zhp2/2004/0401/univ-bench.owl#subOrganizationOf>': 20,\n '<http://www.lehigh.edu/~zhp2/2004/0401/univ-bench.owl#takesCourse>': 21,\n '<http://www.lehigh.edu/~zhp2/2004/0401/univ-bench.owl#teacherOf>': 22,\n '<http://www.lehigh.edu/~zhp2/2004/0401/univ-bench.owl#teachingAssistantOf>': 23,\n '<http://www.lehigh.edu/~zhp2/2004/0401/univ-bench.owl#telephone>': 24,\n '<http://www.lehigh.edu/~zhp2/2004/0401/univ-bench.owl#tenured>': 25,\n '<http://www.lehigh.edu/~zhp2/2004/0401/univ-bench.owl#title>': 26}"
     },
     "execution_count": 194,
     "metadata": {},
     "output_type": "execute_result"
    }
   ],
   "source": [
    "properties_connected_components"
   ],
   "metadata": {
    "collapsed": false
   }
  },
  {
   "cell_type": "code",
   "execution_count": 195,
   "outputs": [],
   "source": [
    "subject_id_map = {}\n",
    "object_id_map = {}\n",
    "resource_id = 1\n"
   ],
   "metadata": {
    "collapsed": false
   }
  },
  {
   "cell_type": "code",
   "execution_count": 196,
   "outputs": [],
   "source": [
    "def get_resource_id(resource, resource_id_map):\n",
    "    if resource not in resource_id_map:\n",
    "        resource_id_map[resource] = len(resource_id_map) + 1\n",
    "    return resource_id_map[resource]\n"
   ],
   "metadata": {
    "collapsed": false
   }
  },
  {
   "cell_type": "code",
   "execution_count": 197,
   "outputs": [],
   "source": [
    "encoded_df = pd.DataFrame(columns=[\"subject_id\", \"predicate_group_id\", \"object_id\"])\n"
   ],
   "metadata": {
    "collapsed": false
   }
  },
  {
   "cell_type": "code",
   "execution_count": 205,
   "outputs": [],
   "source": [
    "for _, row in df_tbox.iterrows():\n",
    "    subject, predicate, obj = row[\"subject\"], row[\"predicate\"], row[\"object\"]\n",
    "\n",
    "    subject_id = get_resource_id(subject, subject_id_map)\n",
    "    predicate_group_id = properties_connected_components.get(predicate, None)\n",
    "    object_id = get_resource_id(obj, object_id_map)\n",
    "\n",
    "    if predicate_group_id is None:\n",
    "        predicate_group_id = len(properties_connected_components)\n",
    "        properties_connected_components[predicate] = predicate_group_id\n",
    "\n",
    "    encoded_df = encoded_df.append({\"subject_id\": subject_id, \"predicate_group_id\": predicate_group_id, \"object_id\": object_id}, ignore_index=True)\n"
   ],
   "metadata": {
    "collapsed": false
   }
  },
  {
   "cell_type": "code",
   "execution_count": 206,
   "outputs": [
    {
     "data": {
      "text/plain": "    subject_id predicate_group_id object_id\n0            1                 32         1\n1            1                 33         2\n2            1                 34         3\n3            2                 35         4\n4            2                 33         5\n..         ...                ...       ...\n287         94                 43        95\n288         94                 45        98\n289         95                 35        89\n290         95                 33       130\n291         95                 45       131\n\n[292 rows x 3 columns]",
      "text/html": "<div>\n<style scoped>\n    .dataframe tbody tr th:only-of-type {\n        vertical-align: middle;\n    }\n\n    .dataframe tbody tr th {\n        vertical-align: top;\n    }\n\n    .dataframe thead th {\n        text-align: right;\n    }\n</style>\n<table border=\"1\" class=\"dataframe\">\n  <thead>\n    <tr style=\"text-align: right;\">\n      <th></th>\n      <th>subject_id</th>\n      <th>predicate_group_id</th>\n      <th>object_id</th>\n    </tr>\n  </thead>\n  <tbody>\n    <tr>\n      <th>0</th>\n      <td>1</td>\n      <td>32</td>\n      <td>1</td>\n    </tr>\n    <tr>\n      <th>1</th>\n      <td>1</td>\n      <td>33</td>\n      <td>2</td>\n    </tr>\n    <tr>\n      <th>2</th>\n      <td>1</td>\n      <td>34</td>\n      <td>3</td>\n    </tr>\n    <tr>\n      <th>3</th>\n      <td>2</td>\n      <td>35</td>\n      <td>4</td>\n    </tr>\n    <tr>\n      <th>4</th>\n      <td>2</td>\n      <td>33</td>\n      <td>5</td>\n    </tr>\n    <tr>\n      <th>...</th>\n      <td>...</td>\n      <td>...</td>\n      <td>...</td>\n    </tr>\n    <tr>\n      <th>287</th>\n      <td>94</td>\n      <td>43</td>\n      <td>95</td>\n    </tr>\n    <tr>\n      <th>288</th>\n      <td>94</td>\n      <td>45</td>\n      <td>98</td>\n    </tr>\n    <tr>\n      <th>289</th>\n      <td>95</td>\n      <td>35</td>\n      <td>89</td>\n    </tr>\n    <tr>\n      <th>290</th>\n      <td>95</td>\n      <td>33</td>\n      <td>130</td>\n    </tr>\n    <tr>\n      <th>291</th>\n      <td>95</td>\n      <td>45</td>\n      <td>131</td>\n    </tr>\n  </tbody>\n</table>\n<p>292 rows × 3 columns</p>\n</div>"
     },
     "execution_count": 206,
     "metadata": {},
     "output_type": "execute_result"
    }
   ],
   "source": [
    "encoded_df"
   ],
   "metadata": {
    "collapsed": false
   }
  },
  {
   "cell_type": "code",
   "execution_count": null,
   "outputs": [],
   "source": [],
   "metadata": {
    "collapsed": false
   }
  }
 ],
 "metadata": {
  "kernelspec": {
   "display_name": "Python 3",
   "language": "python",
   "name": "python3"
  },
  "language_info": {
   "codemirror_mode": {
    "name": "ipython",
    "version": 2
   },
   "file_extension": ".py",
   "mimetype": "text/x-python",
   "name": "python",
   "nbconvert_exporter": "python",
   "pygments_lexer": "ipython2",
   "version": "2.7.6"
  }
 },
 "nbformat": 4,
 "nbformat_minor": 0
}
